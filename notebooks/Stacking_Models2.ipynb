{
  "cells": [
    {
      "cell_type": "markdown",
      "id": "04a299f4-6d90-4703-be31-0b64cbd761f8",
      "metadata": {
        "id": "04a299f4-6d90-4703-be31-0b64cbd761f8"
      },
      "source": [
        "## IMPORTS"
      ]
    },
    {
      "cell_type": "code",
      "execution_count": 2,
      "id": "cee4ff3d-cf2b-4b80-9d5b-5e476d995206",
      "metadata": {
        "colab": {
          "base_uri": "https://localhost:8080/"
        },
        "id": "cee4ff3d-cf2b-4b80-9d5b-5e476d995206",
        "outputId": "07be8e07-6d26-4d6c-edcd-09e59810d530"
      },
      "outputs": [
        {
          "output_type": "stream",
          "name": "stdout",
          "text": [
            "Collecting datasets\n",
            "  Downloading datasets-2.14.4-py3-none-any.whl (519 kB)\n",
            "\u001b[2K     \u001b[90m━━━━━━━━━━━━━━━━━━━━━━━━━━━━━━━━━━━━━━━\u001b[0m \u001b[32m519.3/519.3 kB\u001b[0m \u001b[31m9.7 MB/s\u001b[0m eta \u001b[36m0:00:00\u001b[0m\n",
            "\u001b[?25hCollecting transformers\n",
            "  Downloading transformers-4.31.0-py3-none-any.whl (7.4 MB)\n",
            "\u001b[2K     \u001b[90m━━━━━━━━━━━━━━━━━━━━━━━━━━━━━━━━━━━━━━━━\u001b[0m \u001b[32m7.4/7.4 MB\u001b[0m \u001b[31m120.4 MB/s\u001b[0m eta \u001b[36m0:00:00\u001b[0m\n",
            "\u001b[?25hRequirement already satisfied: numpy>=1.17 in /usr/local/lib/python3.10/dist-packages (from datasets) (1.23.5)\n",
            "Requirement already satisfied: pyarrow>=8.0.0 in /usr/local/lib/python3.10/dist-packages (from datasets) (9.0.0)\n",
            "Collecting dill<0.3.8,>=0.3.0 (from datasets)\n",
            "  Downloading dill-0.3.7-py3-none-any.whl (115 kB)\n",
            "\u001b[2K     \u001b[90m━━━━━━━━━━━━━━━━━━━━━━━━━━━━━━━━━━━━━━\u001b[0m \u001b[32m115.3/115.3 kB\u001b[0m \u001b[31m13.2 MB/s\u001b[0m eta \u001b[36m0:00:00\u001b[0m\n",
            "\u001b[?25hRequirement already satisfied: pandas in /usr/local/lib/python3.10/dist-packages (from datasets) (1.5.3)\n",
            "Requirement already satisfied: requests>=2.19.0 in /usr/local/lib/python3.10/dist-packages (from datasets) (2.31.0)\n",
            "Requirement already satisfied: tqdm>=4.62.1 in /usr/local/lib/python3.10/dist-packages (from datasets) (4.66.1)\n",
            "Collecting xxhash (from datasets)\n",
            "  Downloading xxhash-3.3.0-cp310-cp310-manylinux_2_17_x86_64.manylinux2014_x86_64.whl (194 kB)\n",
            "\u001b[2K     \u001b[90m━━━━━━━━━━━━━━━━━━━━━━━━━━━━━━━━━━━━━━\u001b[0m \u001b[32m194.1/194.1 kB\u001b[0m \u001b[31m20.9 MB/s\u001b[0m eta \u001b[36m0:00:00\u001b[0m\n",
            "\u001b[?25hCollecting multiprocess (from datasets)\n",
            "  Downloading multiprocess-0.70.15-py310-none-any.whl (134 kB)\n",
            "\u001b[2K     \u001b[90m━━━━━━━━━━━━━━━━━━━━━━━━━━━━━━━━━━━━━━\u001b[0m \u001b[32m134.8/134.8 kB\u001b[0m \u001b[31m16.5 MB/s\u001b[0m eta \u001b[36m0:00:00\u001b[0m\n",
            "\u001b[?25hRequirement already satisfied: fsspec[http]>=2021.11.1 in /usr/local/lib/python3.10/dist-packages (from datasets) (2023.6.0)\n",
            "Requirement already satisfied: aiohttp in /usr/local/lib/python3.10/dist-packages (from datasets) (3.8.5)\n",
            "Collecting huggingface-hub<1.0.0,>=0.14.0 (from datasets)\n",
            "  Downloading huggingface_hub-0.16.4-py3-none-any.whl (268 kB)\n",
            "\u001b[2K     \u001b[90m━━━━━━━━━━━━━━━━━━━━━━━━━━━━━━━━━━━━━━\u001b[0m \u001b[32m268.8/268.8 kB\u001b[0m \u001b[31m28.1 MB/s\u001b[0m eta \u001b[36m0:00:00\u001b[0m\n",
            "\u001b[?25hRequirement already satisfied: packaging in /usr/local/lib/python3.10/dist-packages (from datasets) (23.1)\n",
            "Requirement already satisfied: pyyaml>=5.1 in /usr/local/lib/python3.10/dist-packages (from datasets) (6.0.1)\n",
            "Requirement already satisfied: filelock in /usr/local/lib/python3.10/dist-packages (from transformers) (3.12.2)\n",
            "Requirement already satisfied: regex!=2019.12.17 in /usr/local/lib/python3.10/dist-packages (from transformers) (2023.6.3)\n",
            "Collecting tokenizers!=0.11.3,<0.14,>=0.11.1 (from transformers)\n",
            "  Downloading tokenizers-0.13.3-cp310-cp310-manylinux_2_17_x86_64.manylinux2014_x86_64.whl (7.8 MB)\n",
            "\u001b[2K     \u001b[90m━━━━━━━━━━━━━━━━━━━━━━━━━━━━━━━━━━━━━━━━\u001b[0m \u001b[32m7.8/7.8 MB\u001b[0m \u001b[31m117.3 MB/s\u001b[0m eta \u001b[36m0:00:00\u001b[0m\n",
            "\u001b[?25hCollecting safetensors>=0.3.1 (from transformers)\n",
            "  Downloading safetensors-0.3.2-cp310-cp310-manylinux_2_17_x86_64.manylinux2014_x86_64.whl (1.3 MB)\n",
            "\u001b[2K     \u001b[90m━━━━━━━━━━━━━━━━━━━━━━━━━━━━━━━━━━━━━━━━\u001b[0m \u001b[32m1.3/1.3 MB\u001b[0m \u001b[31m73.8 MB/s\u001b[0m eta \u001b[36m0:00:00\u001b[0m\n",
            "\u001b[?25hRequirement already satisfied: attrs>=17.3.0 in /usr/local/lib/python3.10/dist-packages (from aiohttp->datasets) (23.1.0)\n",
            "Requirement already satisfied: charset-normalizer<4.0,>=2.0 in /usr/local/lib/python3.10/dist-packages (from aiohttp->datasets) (3.2.0)\n",
            "Requirement already satisfied: multidict<7.0,>=4.5 in /usr/local/lib/python3.10/dist-packages (from aiohttp->datasets) (6.0.4)\n",
            "Requirement already satisfied: async-timeout<5.0,>=4.0.0a3 in /usr/local/lib/python3.10/dist-packages (from aiohttp->datasets) (4.0.3)\n",
            "Requirement already satisfied: yarl<2.0,>=1.0 in /usr/local/lib/python3.10/dist-packages (from aiohttp->datasets) (1.9.2)\n",
            "Requirement already satisfied: frozenlist>=1.1.1 in /usr/local/lib/python3.10/dist-packages (from aiohttp->datasets) (1.4.0)\n",
            "Requirement already satisfied: aiosignal>=1.1.2 in /usr/local/lib/python3.10/dist-packages (from aiohttp->datasets) (1.3.1)\n",
            "Requirement already satisfied: typing-extensions>=3.7.4.3 in /usr/local/lib/python3.10/dist-packages (from huggingface-hub<1.0.0,>=0.14.0->datasets) (4.7.1)\n",
            "Requirement already satisfied: idna<4,>=2.5 in /usr/local/lib/python3.10/dist-packages (from requests>=2.19.0->datasets) (3.4)\n",
            "Requirement already satisfied: urllib3<3,>=1.21.1 in /usr/local/lib/python3.10/dist-packages (from requests>=2.19.0->datasets) (2.0.4)\n",
            "Requirement already satisfied: certifi>=2017.4.17 in /usr/local/lib/python3.10/dist-packages (from requests>=2.19.0->datasets) (2023.7.22)\n",
            "Requirement already satisfied: python-dateutil>=2.8.1 in /usr/local/lib/python3.10/dist-packages (from pandas->datasets) (2.8.2)\n",
            "Requirement already satisfied: pytz>=2020.1 in /usr/local/lib/python3.10/dist-packages (from pandas->datasets) (2023.3)\n",
            "Requirement already satisfied: six>=1.5 in /usr/local/lib/python3.10/dist-packages (from python-dateutil>=2.8.1->pandas->datasets) (1.16.0)\n",
            "Installing collected packages: tokenizers, safetensors, xxhash, dill, multiprocess, huggingface-hub, transformers, datasets\n",
            "Successfully installed datasets-2.14.4 dill-0.3.7 huggingface-hub-0.16.4 multiprocess-0.70.15 safetensors-0.3.2 tokenizers-0.13.3 transformers-4.31.0 xxhash-3.3.0\n",
            "Collecting scikit-multilearn\n",
            "  Downloading scikit_multilearn-0.2.0-py3-none-any.whl (89 kB)\n",
            "\u001b[2K     \u001b[90m━━━━━━━━━━━━━━━━━━━━━━━━━━━━━━━━━━━━━━━━\u001b[0m \u001b[32m89.4/89.4 kB\u001b[0m \u001b[31m2.5 MB/s\u001b[0m eta \u001b[36m0:00:00\u001b[0m\n",
            "\u001b[?25hInstalling collected packages: scikit-multilearn\n",
            "Successfully installed scikit-multilearn-0.2.0\n",
            "Collecting accelerate\n",
            "  Downloading accelerate-0.21.0-py3-none-any.whl (244 kB)\n",
            "\u001b[2K     \u001b[90m━━━━━━━━━━━━━━━━━━━━━━━━━━━━━━━━━━━━━━━\u001b[0m \u001b[32m244.2/244.2 kB\u001b[0m \u001b[31m4.8 MB/s\u001b[0m eta \u001b[36m0:00:00\u001b[0m\n",
            "\u001b[?25hRequirement already satisfied: numpy>=1.17 in /usr/local/lib/python3.10/dist-packages (from accelerate) (1.23.5)\n",
            "Requirement already satisfied: packaging>=20.0 in /usr/local/lib/python3.10/dist-packages (from accelerate) (23.1)\n",
            "Requirement already satisfied: psutil in /usr/local/lib/python3.10/dist-packages (from accelerate) (5.9.5)\n",
            "Requirement already satisfied: pyyaml in /usr/local/lib/python3.10/dist-packages (from accelerate) (6.0.1)\n",
            "Requirement already satisfied: torch>=1.10.0 in /usr/local/lib/python3.10/dist-packages (from accelerate) (2.0.1+cu118)\n",
            "Requirement already satisfied: filelock in /usr/local/lib/python3.10/dist-packages (from torch>=1.10.0->accelerate) (3.12.2)\n",
            "Requirement already satisfied: typing-extensions in /usr/local/lib/python3.10/dist-packages (from torch>=1.10.0->accelerate) (4.7.1)\n",
            "Requirement already satisfied: sympy in /usr/local/lib/python3.10/dist-packages (from torch>=1.10.0->accelerate) (1.12)\n",
            "Requirement already satisfied: networkx in /usr/local/lib/python3.10/dist-packages (from torch>=1.10.0->accelerate) (3.1)\n",
            "Requirement already satisfied: jinja2 in /usr/local/lib/python3.10/dist-packages (from torch>=1.10.0->accelerate) (3.1.2)\n",
            "Requirement already satisfied: triton==2.0.0 in /usr/local/lib/python3.10/dist-packages (from torch>=1.10.0->accelerate) (2.0.0)\n",
            "Requirement already satisfied: cmake in /usr/local/lib/python3.10/dist-packages (from triton==2.0.0->torch>=1.10.0->accelerate) (3.27.2)\n",
            "Requirement already satisfied: lit in /usr/local/lib/python3.10/dist-packages (from triton==2.0.0->torch>=1.10.0->accelerate) (16.0.6)\n",
            "Requirement already satisfied: MarkupSafe>=2.0 in /usr/local/lib/python3.10/dist-packages (from jinja2->torch>=1.10.0->accelerate) (2.1.3)\n",
            "Requirement already satisfied: mpmath>=0.19 in /usr/local/lib/python3.10/dist-packages (from sympy->torch>=1.10.0->accelerate) (1.3.0)\n",
            "Installing collected packages: accelerate\n",
            "Successfully installed accelerate-0.21.0\n",
            "Requirement already satisfied: tensorflow in /usr/local/lib/python3.10/dist-packages (2.12.0)\n",
            "Requirement already satisfied: absl-py>=1.0.0 in /usr/local/lib/python3.10/dist-packages (from tensorflow) (1.4.0)\n",
            "Requirement already satisfied: astunparse>=1.6.0 in /usr/local/lib/python3.10/dist-packages (from tensorflow) (1.6.3)\n",
            "Requirement already satisfied: flatbuffers>=2.0 in /usr/local/lib/python3.10/dist-packages (from tensorflow) (23.5.26)\n",
            "Requirement already satisfied: gast<=0.4.0,>=0.2.1 in /usr/local/lib/python3.10/dist-packages (from tensorflow) (0.4.0)\n",
            "Requirement already satisfied: google-pasta>=0.1.1 in /usr/local/lib/python3.10/dist-packages (from tensorflow) (0.2.0)\n",
            "Requirement already satisfied: grpcio<2.0,>=1.24.3 in /usr/local/lib/python3.10/dist-packages (from tensorflow) (1.57.0)\n",
            "Requirement already satisfied: h5py>=2.9.0 in /usr/local/lib/python3.10/dist-packages (from tensorflow) (3.9.0)\n",
            "Requirement already satisfied: jax>=0.3.15 in /usr/local/lib/python3.10/dist-packages (from tensorflow) (0.4.14)\n",
            "Requirement already satisfied: keras<2.13,>=2.12.0 in /usr/local/lib/python3.10/dist-packages (from tensorflow) (2.12.0)\n",
            "Requirement already satisfied: libclang>=13.0.0 in /usr/local/lib/python3.10/dist-packages (from tensorflow) (16.0.6)\n",
            "Requirement already satisfied: numpy<1.24,>=1.22 in /usr/local/lib/python3.10/dist-packages (from tensorflow) (1.23.5)\n",
            "Requirement already satisfied: opt-einsum>=2.3.2 in /usr/local/lib/python3.10/dist-packages (from tensorflow) (3.3.0)\n",
            "Requirement already satisfied: packaging in /usr/local/lib/python3.10/dist-packages (from tensorflow) (23.1)\n",
            "Requirement already satisfied: protobuf!=4.21.0,!=4.21.1,!=4.21.2,!=4.21.3,!=4.21.4,!=4.21.5,<5.0.0dev,>=3.20.3 in /usr/local/lib/python3.10/dist-packages (from tensorflow) (3.20.3)\n",
            "Requirement already satisfied: setuptools in /usr/local/lib/python3.10/dist-packages (from tensorflow) (67.7.2)\n",
            "Requirement already satisfied: six>=1.12.0 in /usr/local/lib/python3.10/dist-packages (from tensorflow) (1.16.0)\n",
            "Requirement already satisfied: tensorboard<2.13,>=2.12 in /usr/local/lib/python3.10/dist-packages (from tensorflow) (2.12.3)\n",
            "Requirement already satisfied: tensorflow-estimator<2.13,>=2.12.0 in /usr/local/lib/python3.10/dist-packages (from tensorflow) (2.12.0)\n",
            "Requirement already satisfied: termcolor>=1.1.0 in /usr/local/lib/python3.10/dist-packages (from tensorflow) (2.3.0)\n",
            "Requirement already satisfied: typing-extensions>=3.6.6 in /usr/local/lib/python3.10/dist-packages (from tensorflow) (4.7.1)\n",
            "Requirement already satisfied: wrapt<1.15,>=1.11.0 in /usr/local/lib/python3.10/dist-packages (from tensorflow) (1.14.1)\n",
            "Requirement already satisfied: tensorflow-io-gcs-filesystem>=0.23.1 in /usr/local/lib/python3.10/dist-packages (from tensorflow) (0.33.0)\n",
            "Requirement already satisfied: wheel<1.0,>=0.23.0 in /usr/local/lib/python3.10/dist-packages (from astunparse>=1.6.0->tensorflow) (0.41.1)\n",
            "Requirement already satisfied: ml-dtypes>=0.2.0 in /usr/local/lib/python3.10/dist-packages (from jax>=0.3.15->tensorflow) (0.2.0)\n",
            "Requirement already satisfied: scipy>=1.7 in /usr/local/lib/python3.10/dist-packages (from jax>=0.3.15->tensorflow) (1.10.1)\n",
            "Requirement already satisfied: google-auth<3,>=1.6.3 in /usr/local/lib/python3.10/dist-packages (from tensorboard<2.13,>=2.12->tensorflow) (2.17.3)\n",
            "Requirement already satisfied: google-auth-oauthlib<1.1,>=0.5 in /usr/local/lib/python3.10/dist-packages (from tensorboard<2.13,>=2.12->tensorflow) (1.0.0)\n",
            "Requirement already satisfied: markdown>=2.6.8 in /usr/local/lib/python3.10/dist-packages (from tensorboard<2.13,>=2.12->tensorflow) (3.4.4)\n",
            "Requirement already satisfied: requests<3,>=2.21.0 in /usr/local/lib/python3.10/dist-packages (from tensorboard<2.13,>=2.12->tensorflow) (2.31.0)\n",
            "Requirement already satisfied: tensorboard-data-server<0.8.0,>=0.7.0 in /usr/local/lib/python3.10/dist-packages (from tensorboard<2.13,>=2.12->tensorflow) (0.7.1)\n",
            "Requirement already satisfied: werkzeug>=1.0.1 in /usr/local/lib/python3.10/dist-packages (from tensorboard<2.13,>=2.12->tensorflow) (2.3.7)\n",
            "Requirement already satisfied: cachetools<6.0,>=2.0.0 in /usr/local/lib/python3.10/dist-packages (from google-auth<3,>=1.6.3->tensorboard<2.13,>=2.12->tensorflow) (5.3.1)\n",
            "Requirement already satisfied: pyasn1-modules>=0.2.1 in /usr/local/lib/python3.10/dist-packages (from google-auth<3,>=1.6.3->tensorboard<2.13,>=2.12->tensorflow) (0.3.0)\n",
            "Requirement already satisfied: rsa<5,>=3.1.4 in /usr/local/lib/python3.10/dist-packages (from google-auth<3,>=1.6.3->tensorboard<2.13,>=2.12->tensorflow) (4.9)\n",
            "Requirement already satisfied: requests-oauthlib>=0.7.0 in /usr/local/lib/python3.10/dist-packages (from google-auth-oauthlib<1.1,>=0.5->tensorboard<2.13,>=2.12->tensorflow) (1.3.1)\n",
            "Requirement already satisfied: charset-normalizer<4,>=2 in /usr/local/lib/python3.10/dist-packages (from requests<3,>=2.21.0->tensorboard<2.13,>=2.12->tensorflow) (3.2.0)\n",
            "Requirement already satisfied: idna<4,>=2.5 in /usr/local/lib/python3.10/dist-packages (from requests<3,>=2.21.0->tensorboard<2.13,>=2.12->tensorflow) (3.4)\n",
            "Requirement already satisfied: urllib3<3,>=1.21.1 in /usr/local/lib/python3.10/dist-packages (from requests<3,>=2.21.0->tensorboard<2.13,>=2.12->tensorflow) (2.0.4)\n",
            "Requirement already satisfied: certifi>=2017.4.17 in /usr/local/lib/python3.10/dist-packages (from requests<3,>=2.21.0->tensorboard<2.13,>=2.12->tensorflow) (2023.7.22)\n",
            "Requirement already satisfied: MarkupSafe>=2.1.1 in /usr/local/lib/python3.10/dist-packages (from werkzeug>=1.0.1->tensorboard<2.13,>=2.12->tensorflow) (2.1.3)\n",
            "Requirement already satisfied: pyasn1<0.6.0,>=0.4.6 in /usr/local/lib/python3.10/dist-packages (from pyasn1-modules>=0.2.1->google-auth<3,>=1.6.3->tensorboard<2.13,>=2.12->tensorflow) (0.5.0)\n",
            "Requirement already satisfied: oauthlib>=3.0.0 in /usr/local/lib/python3.10/dist-packages (from requests-oauthlib>=0.7.0->google-auth-oauthlib<1.1,>=0.5->tensorboard<2.13,>=2.12->tensorflow) (3.2.2)\n",
            "env: SM_FRAMEWORK=tensorflow.keras\n",
            "Requirement already satisfied: keras in /usr/local/lib/python3.10/dist-packages (2.12.0)\n",
            "Requirement already satisfied: nltk in /usr/local/lib/python3.10/dist-packages (3.8.1)\n",
            "Requirement already satisfied: click in /usr/local/lib/python3.10/dist-packages (from nltk) (8.1.6)\n",
            "Requirement already satisfied: joblib in /usr/local/lib/python3.10/dist-packages (from nltk) (1.3.2)\n",
            "Requirement already satisfied: regex>=2021.8.3 in /usr/local/lib/python3.10/dist-packages (from nltk) (2023.6.3)\n",
            "Requirement already satisfied: tqdm in /usr/local/lib/python3.10/dist-packages (from nltk) (4.66.1)\n",
            "Requirement already satisfied: torch in /usr/local/lib/python3.10/dist-packages (2.0.1+cu118)\n",
            "Requirement already satisfied: filelock in /usr/local/lib/python3.10/dist-packages (from torch) (3.12.2)\n",
            "Requirement already satisfied: typing-extensions in /usr/local/lib/python3.10/dist-packages (from torch) (4.7.1)\n",
            "Requirement already satisfied: sympy in /usr/local/lib/python3.10/dist-packages (from torch) (1.12)\n",
            "Requirement already satisfied: networkx in /usr/local/lib/python3.10/dist-packages (from torch) (3.1)\n",
            "Requirement already satisfied: jinja2 in /usr/local/lib/python3.10/dist-packages (from torch) (3.1.2)\n",
            "Requirement already satisfied: triton==2.0.0 in /usr/local/lib/python3.10/dist-packages (from torch) (2.0.0)\n",
            "Requirement already satisfied: cmake in /usr/local/lib/python3.10/dist-packages (from triton==2.0.0->torch) (3.27.2)\n",
            "Requirement already satisfied: lit in /usr/local/lib/python3.10/dist-packages (from triton==2.0.0->torch) (16.0.6)\n",
            "Requirement already satisfied: MarkupSafe>=2.0 in /usr/local/lib/python3.10/dist-packages (from jinja2->torch) (2.1.3)\n",
            "Requirement already satisfied: mpmath>=0.19 in /usr/local/lib/python3.10/dist-packages (from sympy->torch) (1.3.0)\n",
            "Collecting nvidia-tensorrt\n",
            "  Downloading nvidia_tensorrt-99.0.0-py3-none-manylinux_2_17_x86_64.whl (17 kB)\n",
            "Collecting tensorrt (from nvidia-tensorrt)\n",
            "  Downloading tensorrt-8.6.1.tar.gz (16 kB)\n",
            "  Preparing metadata (setup.py) ... \u001b[?25l\u001b[?25hdone\n",
            "Building wheels for collected packages: tensorrt\n",
            "  Building wheel for tensorrt (setup.py) ... \u001b[?25l\u001b[?25hdone\n",
            "  Created wheel for tensorrt: filename=tensorrt-8.6.1-py2.py3-none-any.whl size=16972 sha256=0d2ef4ec62e7466f5a36343e4f3e0785b27ddfb2aee0a2dd618a42fa3f139ba6\n",
            "  Stored in directory: /root/.cache/pip/wheels/6d/29/56/abdffd4c604f255b5254bef3f1c598ab7811ea020540599438\n",
            "Successfully built tensorrt\n",
            "Installing collected packages: tensorrt, nvidia-tensorrt\n",
            "Successfully installed nvidia-tensorrt-99.0.0 tensorrt-8.6.1\n"
          ]
        }
      ],
      "source": [
        "!pip install datasets transformers\n",
        "# ==4.28.0\n",
        "!pip install scikit-multilearn\n",
        "!pip install accelerate -U\n",
        "!pip install tensorflow\n",
        "%env SM_FRAMEWORK=tensorflow.keras\n",
        "!pip install keras\n",
        "!pip install nltk\n",
        "!pip install torch\n",
        "!pip3 install nvidia-tensorrt"
      ]
    },
    {
      "cell_type": "code",
      "execution_count": 3,
      "id": "56148197-4294-4edb-9e31-53021e636f98",
      "metadata": {
        "id": "56148197-4294-4edb-9e31-53021e636f98"
      },
      "outputs": [],
      "source": [
        "import pickle\n",
        "import pandas as pd\n",
        "import numpy as np\n",
        "import nltk\n",
        "import torch\n",
        "import string\n",
        "import os\n",
        "import tensorflow as tf\n",
        "import time\n",
        "from time import sleep\n",
        "from string import punctuation\n",
        "from sklearn import metrics\n",
        "from tensorflow.keras.applications.resnet50 import preprocess_input\n",
        "from tensorflow.keras import layers, models\n",
        "from transformers import AutoTokenizer, AutoModelForSequenceClassification, Trainer, TrainingArguments, TFBertModel\n",
        "from datasets import load_dataset, load_from_disk, DatasetDict, Dataset\n",
        "from nltk.corpus import stopwords\n",
        "from nltk.stem import WordNetLemmatizer\n",
        "from sklearn.preprocessing import MultiLabelBinarizer\n",
        "from sklearn.model_selection import train_test_split\n",
        "from tensorflow.keras.metrics import CategoricalAccuracy\n",
        "from tensorflow.keras.preprocessing.text import Tokenizer\n",
        "from tensorflow.keras.preprocessing.sequence import pad_sequences\n",
        "from tensorflow.keras.applications.resnet50 import ResNet50\n",
        "from tqdm import tqdm\n",
        "from tensorflow.keras.preprocessing import image\n",
        "from tensorflow.keras.callbacks import EarlyStopping\n",
        "from PIL import Image"
      ]
    },
    {
      "cell_type": "code",
      "execution_count": 4,
      "id": "lkCMqISZneeh",
      "metadata": {
        "colab": {
          "base_uri": "https://localhost:8080/"
        },
        "id": "lkCMqISZneeh",
        "outputId": "114bc92d-00ff-4c44-d22c-b91463356153"
      },
      "outputs": [
        {
          "output_type": "stream",
          "name": "stdout",
          "text": [
            "Mounted at /content/drive\n"
          ]
        }
      ],
      "source": [
        "from google.colab import drive\n",
        "drive.mount('/content/drive')"
      ]
    },
    {
      "cell_type": "code",
      "execution_count": 5,
      "id": "DcCnE_ZonoQL",
      "metadata": {
        "id": "DcCnE_ZonoQL"
      },
      "outputs": [],
      "source": [
        "os.environ['CUDA_VISIBLE_DEVICES'] ='0'"
      ]
    },
    {
      "cell_type": "markdown",
      "id": "775b6d6d-285c-41d9-a411-15be01adb463",
      "metadata": {
        "id": "775b6d6d-285c-41d9-a411-15be01adb463"
      },
      "source": [
        "## Load Data"
      ]
    },
    {
      "cell_type": "code",
      "execution_count": null,
      "id": "5cd102db-5417-40c8-8bd2-02bb38f362e1",
      "metadata": {
        "id": "5cd102db-5417-40c8-8bd2-02bb38f362e1"
      },
      "outputs": [],
      "source": [
        "long_df = pd.read_csv('long_sypnosis.csv').drop(columns = \"Unnamed: 0\")"
      ]
    },
    {
      "cell_type": "code",
      "execution_count": null,
      "id": "a2d6a532-a098-4e68-82da-97e3c7aa9d5c",
      "metadata": {
        "id": "a2d6a532-a098-4e68-82da-97e3c7aa9d5c",
        "outputId": "7f047a84-fdbd-4730-fdf4-db6aab513fbc",
        "scrolled": true
      },
      "outputs": [
        {
          "name": "stderr",
          "output_type": "stream",
          "text": [
            "100%|█████████████████████████████████████████████████████████████████████████████| 4624/4624 [00:02<00:00, 1812.31it/s]\n"
          ]
        }
      ],
      "source": [
        "corrupted_list = []\n",
        "\n",
        "for img in tqdm(range(long_df.shape[0])):\n",
        "    try:\n",
        "        images_path = f\"/home/jessica/code/chooj202/movie_genre_prediction/notebooks/merged/{long_df['imdb_id'][img]}.jpg\"\n",
        "        image = Image.open(images_path)\n",
        "    except:\n",
        "        corrupted_list.append(long_df['imdb_id'][img])"
      ]
    },
    {
      "cell_type": "code",
      "execution_count": null,
      "id": "97ce74a3-ea80-4bf8-b883-293603091536",
      "metadata": {
        "id": "97ce74a3-ea80-4bf8-b883-293603091536",
        "outputId": "c4979891-fcbd-4af2-eb01-f9d48269ca65"
      },
      "outputs": [
        {
          "data": {
            "text/plain": [
              "681"
            ]
          },
          "execution_count": 33,
          "metadata": {},
          "output_type": "execute_result"
        }
      ],
      "source": [
        "len(corrupted_list)"
      ]
    },
    {
      "cell_type": "code",
      "execution_count": null,
      "id": "3015d50d-c533-4dee-b638-0fa58d71c868",
      "metadata": {
        "id": "3015d50d-c533-4dee-b638-0fa58d71c868"
      },
      "outputs": [],
      "source": [
        "long_df = long_df.loc[~long_df['imdb_id'].isin(corrupted_list)]"
      ]
    },
    {
      "cell_type": "code",
      "execution_count": null,
      "id": "73d18b73-0404-491e-9c67-a29e4f31f904",
      "metadata": {
        "id": "73d18b73-0404-491e-9c67-a29e4f31f904"
      },
      "outputs": [],
      "source": [
        "long_df = long_df.reset_index(drop=True)"
      ]
    },
    {
      "cell_type": "markdown",
      "id": "0cd8a89f-6852-460b-b0a4-2e13b9cdd59d",
      "metadata": {
        "id": "0cd8a89f-6852-460b-b0a4-2e13b9cdd59d"
      },
      "source": [
        "## Preprocess Data\n",
        "images -> resize and scale\n",
        "text -> word_ids?"
      ]
    },
    {
      "cell_type": "code",
      "execution_count": null,
      "id": "d8d449f5-6178-4a10-9d85-2c7346aed5e3",
      "metadata": {
        "id": "d8d449f5-6178-4a10-9d85-2c7346aed5e3"
      },
      "outputs": [],
      "source": [
        "long_df[\"genre\"] = (\n",
        "    long_df[\"genre\"]\n",
        "    .apply(eval)\n",
        "    .apply(lambda x: [genre.strip() for genre in x])\n",
        "    )"
      ]
    },
    {
      "cell_type": "code",
      "execution_count": null,
      "id": "5afa22ba-e299-4141-b840-60fef3eb12f9",
      "metadata": {
        "id": "5afa22ba-e299-4141-b840-60fef3eb12f9",
        "outputId": "5373acdc-5e4a-4976-cbf5-d1b27aa2c006",
        "scrolled": true
      },
      "outputs": [
        {
          "data": {
            "text/html": [
              "<div>\n",
              "<style scoped>\n",
              "    .dataframe tbody tr th:only-of-type {\n",
              "        vertical-align: middle;\n",
              "    }\n",
              "\n",
              "    .dataframe tbody tr th {\n",
              "        vertical-align: top;\n",
              "    }\n",
              "\n",
              "    .dataframe thead th {\n",
              "        text-align: right;\n",
              "    }\n",
              "</style>\n",
              "<table border=\"1\" class=\"dataframe\">\n",
              "  <thead>\n",
              "    <tr style=\"text-align: right;\">\n",
              "      <th></th>\n",
              "      <th>movie</th>\n",
              "      <th>imdb_id</th>\n",
              "      <th>genre</th>\n",
              "      <th>image_url</th>\n",
              "      <th>sypnosis</th>\n",
              "    </tr>\n",
              "  </thead>\n",
              "  <tbody>\n",
              "    <tr>\n",
              "      <th>0</th>\n",
              "      <td>Ramayana: The Legend of Prince Rama</td>\n",
              "      <td>tt0259534</td>\n",
              "      <td>[Animation, Action, Adventure]</td>\n",
              "      <td>http://img.omdbapi.com/?i=tt0259534&amp;h=600&amp;apik...</td>\n",
              "      <td>An anime adaptation of the Hindu epic the Rama...</td>\n",
              "    </tr>\n",
              "    <tr>\n",
              "      <th>1</th>\n",
              "      <td>The Dark Knight</td>\n",
              "      <td>tt0468569</td>\n",
              "      <td>[Action, Crime, Drama]</td>\n",
              "      <td>http://img.omdbapi.com/?i=tt0468569&amp;h=600&amp;apik...</td>\n",
              "      <td>When the menace known as the Joker wreaks havo...</td>\n",
              "    </tr>\n",
              "    <tr>\n",
              "      <th>2</th>\n",
              "      <td>The Lord of the Rings: The Return of the King</td>\n",
              "      <td>tt0167260</td>\n",
              "      <td>[Action, Adventure, Drama]</td>\n",
              "      <td>http://img.omdbapi.com/?i=tt0167260&amp;h=600&amp;apik...</td>\n",
              "      <td>Gandalf and Aragorn lead the World of Men agai...</td>\n",
              "    </tr>\n",
              "    <tr>\n",
              "      <th>3</th>\n",
              "      <td>Spider-Man: Across the Spider-Verse</td>\n",
              "      <td>tt9362722</td>\n",
              "      <td>[Animation, Action, Adventure]</td>\n",
              "      <td>http://img.omdbapi.com/?i=tt9362722&amp;h=600&amp;apik...</td>\n",
              "      <td>Miles Morales catapults across the Multiverse,...</td>\n",
              "    </tr>\n",
              "    <tr>\n",
              "      <th>4</th>\n",
              "      <td>The Message</td>\n",
              "      <td>tt0075143</td>\n",
              "      <td>[Action, Adventure, Biography]</td>\n",
              "      <td>http://img.omdbapi.com/?i=tt0075143&amp;h=600&amp;apik...</td>\n",
              "      <td>The story of prophet \"Muhammad\" and the delive...</td>\n",
              "    </tr>\n",
              "  </tbody>\n",
              "</table>\n",
              "</div>"
            ],
            "text/plain": [
              "                                           movie    imdb_id  \\\n",
              "0            Ramayana: The Legend of Prince Rama  tt0259534   \n",
              "1                                The Dark Knight  tt0468569   \n",
              "2  The Lord of the Rings: The Return of the King  tt0167260   \n",
              "3            Spider-Man: Across the Spider-Verse  tt9362722   \n",
              "4                                    The Message  tt0075143   \n",
              "\n",
              "                            genre  \\\n",
              "0  [Animation, Action, Adventure]   \n",
              "1          [Action, Crime, Drama]   \n",
              "2      [Action, Adventure, Drama]   \n",
              "3  [Animation, Action, Adventure]   \n",
              "4  [Action, Adventure, Biography]   \n",
              "\n",
              "                                           image_url  \\\n",
              "0  http://img.omdbapi.com/?i=tt0259534&h=600&apik...   \n",
              "1  http://img.omdbapi.com/?i=tt0468569&h=600&apik...   \n",
              "2  http://img.omdbapi.com/?i=tt0167260&h=600&apik...   \n",
              "3  http://img.omdbapi.com/?i=tt9362722&h=600&apik...   \n",
              "4  http://img.omdbapi.com/?i=tt0075143&h=600&apik...   \n",
              "\n",
              "                                            sypnosis  \n",
              "0  An anime adaptation of the Hindu epic the Rama...  \n",
              "1  When the menace known as the Joker wreaks havo...  \n",
              "2  Gandalf and Aragorn lead the World of Men agai...  \n",
              "3  Miles Morales catapults across the Multiverse,...  \n",
              "4  The story of prophet \"Muhammad\" and the delive...  "
            ]
          },
          "execution_count": 48,
          "metadata": {},
          "output_type": "execute_result"
        }
      ],
      "source": [
        "long_df.head()"
      ]
    },
    {
      "cell_type": "code",
      "execution_count": null,
      "id": "a6870d5b-b1d9-4fb7-9351-2433bfb46095",
      "metadata": {
        "id": "a6870d5b-b1d9-4fb7-9351-2433bfb46095"
      },
      "outputs": [],
      "source": [
        "def cleaning(sentence):\n",
        "\n",
        "    # Basic cleaning\n",
        "    sentence = sentence.strip() ## remove whitespaces\n",
        "    sentence = sentence.lower() ## lowercase\n",
        "    sentence = ''.join(char for char in sentence if not char.isdigit()) ## remove numbers\n",
        "\n",
        "    # Advanced cleaning\n",
        "    for punctuation in string.punctuation:\n",
        "        sentence = sentence.replace(punctuation, '') ## remove punctuation\n",
        "\n",
        "    return sentence"
      ]
    },
    {
      "cell_type": "code",
      "execution_count": null,
      "id": "2c53b407-c2f8-4a06-b122-a67e30f0a743",
      "metadata": {
        "id": "2c53b407-c2f8-4a06-b122-a67e30f0a743"
      },
      "outputs": [],
      "source": [
        "long_df['sypnosis'] = long_df['sypnosis'].apply(cleaning)"
      ]
    },
    {
      "cell_type": "code",
      "execution_count": null,
      "id": "5d240f7f-79c0-4915-b981-5ceab7c347cc",
      "metadata": {
        "id": "5d240f7f-79c0-4915-b981-5ceab7c347cc",
        "outputId": "aad51c53-bdd7-47e7-f6c7-20b93391e326"
      },
      "outputs": [
        {
          "data": {
            "text/html": [
              "<div>\n",
              "<style scoped>\n",
              "    .dataframe tbody tr th:only-of-type {\n",
              "        vertical-align: middle;\n",
              "    }\n",
              "\n",
              "    .dataframe tbody tr th {\n",
              "        vertical-align: top;\n",
              "    }\n",
              "\n",
              "    .dataframe thead th {\n",
              "        text-align: right;\n",
              "    }\n",
              "</style>\n",
              "<table border=\"1\" class=\"dataframe\">\n",
              "  <thead>\n",
              "    <tr style=\"text-align: right;\">\n",
              "      <th></th>\n",
              "      <th>movie</th>\n",
              "      <th>imdb_id</th>\n",
              "      <th>genre</th>\n",
              "      <th>image_url</th>\n",
              "      <th>sypnosis</th>\n",
              "    </tr>\n",
              "  </thead>\n",
              "  <tbody>\n",
              "    <tr>\n",
              "      <th>0</th>\n",
              "      <td>Ramayana: The Legend of Prince Rama</td>\n",
              "      <td>tt0259534</td>\n",
              "      <td>[Animation, Action, Adventure]</td>\n",
              "      <td>http://img.omdbapi.com/?i=tt0259534&amp;h=600&amp;apik...</td>\n",
              "      <td>an anime adaptation of the hindu epic the rama...</td>\n",
              "    </tr>\n",
              "    <tr>\n",
              "      <th>1</th>\n",
              "      <td>The Dark Knight</td>\n",
              "      <td>tt0468569</td>\n",
              "      <td>[Action, Crime, Drama]</td>\n",
              "      <td>http://img.omdbapi.com/?i=tt0468569&amp;h=600&amp;apik...</td>\n",
              "      <td>when the menace known as the joker wreaks havo...</td>\n",
              "    </tr>\n",
              "    <tr>\n",
              "      <th>2</th>\n",
              "      <td>The Lord of the Rings: The Return of the King</td>\n",
              "      <td>tt0167260</td>\n",
              "      <td>[Action, Adventure, Drama]</td>\n",
              "      <td>http://img.omdbapi.com/?i=tt0167260&amp;h=600&amp;apik...</td>\n",
              "      <td>gandalf and aragorn lead the world of men agai...</td>\n",
              "    </tr>\n",
              "    <tr>\n",
              "      <th>3</th>\n",
              "      <td>Spider-Man: Across the Spider-Verse</td>\n",
              "      <td>tt9362722</td>\n",
              "      <td>[Animation, Action, Adventure]</td>\n",
              "      <td>http://img.omdbapi.com/?i=tt9362722&amp;h=600&amp;apik...</td>\n",
              "      <td>miles morales catapults across the multiverse ...</td>\n",
              "    </tr>\n",
              "    <tr>\n",
              "      <th>4</th>\n",
              "      <td>The Message</td>\n",
              "      <td>tt0075143</td>\n",
              "      <td>[Action, Adventure, Biography]</td>\n",
              "      <td>http://img.omdbapi.com/?i=tt0075143&amp;h=600&amp;apik...</td>\n",
              "      <td>the story of prophet muhammad and the delivery...</td>\n",
              "    </tr>\n",
              "  </tbody>\n",
              "</table>\n",
              "</div>"
            ],
            "text/plain": [
              "                                           movie    imdb_id  \\\n",
              "0            Ramayana: The Legend of Prince Rama  tt0259534   \n",
              "1                                The Dark Knight  tt0468569   \n",
              "2  The Lord of the Rings: The Return of the King  tt0167260   \n",
              "3            Spider-Man: Across the Spider-Verse  tt9362722   \n",
              "4                                    The Message  tt0075143   \n",
              "\n",
              "                            genre  \\\n",
              "0  [Animation, Action, Adventure]   \n",
              "1          [Action, Crime, Drama]   \n",
              "2      [Action, Adventure, Drama]   \n",
              "3  [Animation, Action, Adventure]   \n",
              "4  [Action, Adventure, Biography]   \n",
              "\n",
              "                                           image_url  \\\n",
              "0  http://img.omdbapi.com/?i=tt0259534&h=600&apik...   \n",
              "1  http://img.omdbapi.com/?i=tt0468569&h=600&apik...   \n",
              "2  http://img.omdbapi.com/?i=tt0167260&h=600&apik...   \n",
              "3  http://img.omdbapi.com/?i=tt9362722&h=600&apik...   \n",
              "4  http://img.omdbapi.com/?i=tt0075143&h=600&apik...   \n",
              "\n",
              "                                            sypnosis  \n",
              "0  an anime adaptation of the hindu epic the rama...  \n",
              "1  when the menace known as the joker wreaks havo...  \n",
              "2  gandalf and aragorn lead the world of men agai...  \n",
              "3  miles morales catapults across the multiverse ...  \n",
              "4  the story of prophet muhammad and the delivery...  "
            ]
          },
          "execution_count": 56,
          "metadata": {},
          "output_type": "execute_result"
        }
      ],
      "source": [
        "long_df.head()"
      ]
    },
    {
      "cell_type": "code",
      "execution_count": null,
      "id": "c3a32759-e107-4215-9d9e-b2f11896e976",
      "metadata": {
        "id": "c3a32759-e107-4215-9d9e-b2f11896e976"
      },
      "outputs": [],
      "source": [
        "from skmultilearn.model_selection import iterative_train_test_split\n",
        "\n",
        "mlb = MultiLabelBinarizer()\n",
        "\n",
        "def balanced_split(df, mlb, test_size=0.5):\n",
        "    ind = np.expand_dims(np.arange(len(df)), axis=1)\n",
        "    mlb.fit_transform(df[\"genre\"])\n",
        "    labels = mlb.transform(df[\"genre\"])\n",
        "    ind_train, _, ind_test, _ = iterative_train_test_split(\n",
        "        ind, labels, test_size\n",
        "    )\n",
        "    return df.iloc[ind_train[:, 0]], df.iloc[ind_test[:, 0]]"
      ]
    },
    {
      "cell_type": "code",
      "execution_count": null,
      "id": "4b6caf7d-1289-4217-9815-6598ad4cce0a",
      "metadata": {
        "id": "4b6caf7d-1289-4217-9815-6598ad4cce0a"
      },
      "outputs": [],
      "source": [
        "df_train, df_test = balanced_split(long_df, mlb, test_size=0.2)\n",
        "# df_val, df_test = balanced_split(df_tmp, test_size=0.5)"
      ]
    },
    {
      "cell_type": "code",
      "execution_count": null,
      "id": "qm5gvVqv1kJ7",
      "metadata": {
        "id": "qm5gvVqv1kJ7"
      },
      "outputs": [],
      "source": [
        "df_val, df_test = balanced_split(df_test, mlb, test_size=0.5)"
      ]
    },
    {
      "cell_type": "code",
      "execution_count": null,
      "id": "6bfef0cd-152b-4c5a-9c0c-61fa9a72c252",
      "metadata": {
        "id": "6bfef0cd-152b-4c5a-9c0c-61fa9a72c252",
        "outputId": "9f8fae3b-9845-486f-8113-ee2f9c477576",
        "scrolled": true
      },
      "outputs": [
        {
          "data": {
            "text/plain": [
              "(3136, 5)"
            ]
          },
          "execution_count": 66,
          "metadata": {},
          "output_type": "execute_result"
        }
      ],
      "source": [
        "df_train.shape"
      ]
    },
    {
      "cell_type": "code",
      "execution_count": 6,
      "id": "0816c079-6c59-4231-9dc8-2a2273494c3b",
      "metadata": {
        "id": "0816c079-6c59-4231-9dc8-2a2273494c3b"
      },
      "outputs": [],
      "source": [
        "df_train = pd.read_csv(\"/content/drive/MyDrive/new_stack_train.csv\")\n",
        "df_test = pd.read_csv('/content/drive/MyDrive/new_stack_test.csv')\n",
        "df_val = pd.read_csv('/content/drive/MyDrive/new_stack_val.csv')"
      ]
    },
    {
      "cell_type": "code",
      "source": [
        "df_train = df_train.drop(columns = [\"Unnamed: 0.1\", \"Unnamed: 0\"])\n",
        "df_test = df_test.drop(columns = [\"Unnamed: 0.1\", \"Unnamed: 0\"])\n",
        "df_val = df_val.drop(columns = [\"Unnamed: 0.1\", \"Unnamed: 0\"])"
      ],
      "metadata": {
        "id": "WYc6PUoSrD5m"
      },
      "id": "WYc6PUoSrD5m",
      "execution_count": 55,
      "outputs": []
    },
    {
      "cell_type": "code",
      "source": [
        "df_train[\"genre\"] = (\n",
        "    df_train[\"genre\"]\n",
        "    .apply(eval)\n",
        "    .apply(lambda x: [genre.strip() for genre in x])\n",
        "    )"
      ],
      "metadata": {
        "id": "8niRdkn8rmVj"
      },
      "id": "8niRdkn8rmVj",
      "execution_count": 7,
      "outputs": []
    },
    {
      "cell_type": "code",
      "source": [
        "df_test[\"genre\"] = (\n",
        "    df_test[\"genre\"]\n",
        "    .apply(eval)\n",
        "    .apply(lambda x: [genre.strip() for genre in x])\n",
        "    )"
      ],
      "metadata": {
        "id": "ml6tnJ60rqhW"
      },
      "id": "ml6tnJ60rqhW",
      "execution_count": 8,
      "outputs": []
    },
    {
      "cell_type": "code",
      "source": [
        "df_val[\"genre\"] = (\n",
        "    df_val[\"genre\"]\n",
        "    .apply(eval)\n",
        "    .apply(lambda x: [genre.strip() for genre in x])\n",
        "    )"
      ],
      "metadata": {
        "id": "LXN3TkmUrsO-"
      },
      "id": "LXN3TkmUrsO-",
      "execution_count": 9,
      "outputs": []
    },
    {
      "cell_type": "code",
      "execution_count": 10,
      "id": "24ac8d9c-580c-460f-985e-f26368204467",
      "metadata": {
        "id": "24ac8d9c-580c-460f-985e-f26368204467"
      },
      "outputs": [],
      "source": [
        "df_train = df_train.reset_index(drop = True)\n",
        "df_test = df_test.reset_index(drop = True)\n",
        "df_val = df_val.reset_index(drop = True)"
      ]
    },
    {
      "cell_type": "code",
      "execution_count": 11,
      "id": "fc56ff2f-509b-4860-9f85-69174e1cd26d",
      "metadata": {
        "id": "fc56ff2f-509b-4860-9f85-69174e1cd26d"
      },
      "outputs": [],
      "source": [
        "df_train.to_csv('new_stack_train.csv')\n",
        "df_test.to_csv('new_stack_test.csv')\n",
        "df_val.to_csv('new_stack_val.csv')"
      ]
    },
    {
      "cell_type": "code",
      "execution_count": null,
      "id": "2b22de5d-4f9c-48c0-83a6-ba89108e85db",
      "metadata": {
        "id": "2b22de5d-4f9c-48c0-83a6-ba89108e85db",
        "outputId": "4f52feac-8012-4715-cad1-254db465e531"
      },
      "outputs": [
        {
          "name": "stderr",
          "output_type": "stream",
          "text": [
            "100%|███████████████████████████████████████████████████████████████████████████████| 3136/3136 [55:25<00:00,  1.06s/it]\n"
          ]
        }
      ],
      "source": [
        "train_imgs = []\n",
        "\n",
        "for img in tqdm(range(df_train.shape[0])):\n",
        "    images_path = f\"/home/jessica/code/chooj202/movie_genre_prediction/notebooks/merged/{df_train['imdb_id'][img]}.jpg\"\n",
        "    image = Image.open(images_path)\n",
        "    image = image.resize((256, 256))\n",
        "    train_imgs.append(np.array(image))\n",
        "    time.sleep(1)\n",
        "\n",
        "train_imgs = np.array(train_imgs)\n",
        "np.save('/home/jessica/code/chooj202/movie_genre_prediction/notebooks/train_imgs_new', train_imgs)"
      ]
    },
    {
      "cell_type": "code",
      "execution_count": null,
      "id": "5628f8b2-12c5-44fc-9a2a-d0e6cdf4b01a",
      "metadata": {
        "id": "5628f8b2-12c5-44fc-9a2a-d0e6cdf4b01a"
      },
      "outputs": [],
      "source": [
        "np.save('/home/jessica/code/chooj202/movie_genre_prediction/notebooks/new_train_imgs', train_imgs)"
      ]
    },
    {
      "cell_type": "code",
      "execution_count": null,
      "id": "dc19be01-43f2-4657-b89f-1e360cb348b4",
      "metadata": {
        "colab": {
          "base_uri": "https://localhost:8080/",
          "height": 384
        },
        "id": "dc19be01-43f2-4657-b89f-1e360cb348b4",
        "outputId": "f1a8db38-b24e-4983-9aed-a7fc595f6743"
      },
      "outputs": [
        {
          "name": "stderr",
          "output_type": "stream",
          "text": [
            "100%|█████████████████████████████████████████████████████████████████████████████████| 402/402 [07:11<00:00,  1.07s/it]\n"
          ]
        }
      ],
      "source": [
        "test_imgs = []\n",
        "\n",
        "for img in tqdm(range(df_test.shape[0])):\n",
        "    images_path = f\"/home/jessica/code/chooj202/movie_genre_prediction/notebooks/merged/{df_test['imdb_id'][img]}.jpg\"\n",
        "    image = Image.open(images_path)\n",
        "    image = image.resize((256, 256))\n",
        "    test_imgs.append(np.array(image))\n",
        "    time.sleep(1)\n",
        "\n",
        "test_imgs = np.array(test_imgs)\n",
        "np.save('/home/jessica/code/chooj202/movie_genre_prediction/notebooks/new_test_imgs', test_imgs)"
      ]
    },
    {
      "cell_type": "code",
      "execution_count": null,
      "id": "kgnvITv43A3H",
      "metadata": {
        "id": "kgnvITv43A3H",
        "outputId": "c05f5a80-7265-4dbf-d1f5-78c33d3d30bb"
      },
      "outputs": [
        {
          "name": "stderr",
          "output_type": "stream",
          "text": [
            "100%|█████████████████████████████████████████████████████████████████████████████████| 405/405 [07:16<00:00,  1.08s/it]\n"
          ]
        }
      ],
      "source": [
        "val_imgs = []\n",
        "\n",
        "for img in tqdm(range(df_val.shape[0])):\n",
        "    images_path = f\"/home/jessica/code/chooj202/movie_genre_prediction/notebooks/merged/{df_val['imdb_id'][img]}.jpg\"\n",
        "    image = Image.open(images_path)\n",
        "    image = image.resize((256, 256))\n",
        "    val_imgs.append(np.array(image))\n",
        "    time.sleep(1)\n",
        "\n",
        "val_imgs = np.array(val_imgs)\n",
        "np.save('/home/jessica/code/chooj202/movie_genre_prediction/notebooks/new_val_imgs', val_imgs)"
      ]
    },
    {
      "cell_type": "code",
      "source": [
        "df_train"
      ],
      "metadata": {
        "colab": {
          "base_uri": "https://localhost:8080/",
          "height": 1000
        },
        "id": "PVTIvE8CrfH9",
        "outputId": "ca778e2a-5903-49ef-e2a7-26e9d1f9a8c6"
      },
      "id": "PVTIvE8CrfH9",
      "execution_count": 18,
      "outputs": [
        {
          "output_type": "execute_result",
          "data": {
            "text/plain": [
              "      Unnamed: 0.1  Unnamed: 0                                  movie  \\\n",
              "0                0           0    Ramayana: The Legend of Prince Rama   \n",
              "1                1           1                        The Dark Knight   \n",
              "2                2           2    Spider-Man: Across the Spider-Verse   \n",
              "3                3           3                              Inception   \n",
              "4                4           4  The Lord of the Rings: The Two Towers   \n",
              "...            ...         ...                                    ...   \n",
              "3131          3131        3131                              Bad Girls   \n",
              "3132          3132        3132                               Renegade   \n",
              "3133          3133        3133                         Wild Wild West   \n",
              "3134          3134        3134                       The Ridiculous 6   \n",
              "3135          3135        3135                              Jonah Hex   \n",
              "\n",
              "        imdb_id                           genre  \\\n",
              "0     tt0259534  [Animation, Action, Adventure]   \n",
              "1     tt0468569          [Action, Crime, Drama]   \n",
              "2     tt9362722  [Animation, Action, Adventure]   \n",
              "3     tt1375666     [Action, Adventure, Sci-Fi]   \n",
              "4     tt0167261      [Action, Adventure, Drama]   \n",
              "...         ...                             ...   \n",
              "3131  tt0109198      [Action, Adventure, Drama]   \n",
              "3132  tt0276830   [Adventure, Fantasy, Western]   \n",
              "3133  tt0120891        [Action, Comedy, Sci-Fi]   \n",
              "3134  tt2479478     [Action, Adventure, Comedy]   \n",
              "3135  tt1075747        [Action, Drama, Fantasy]   \n",
              "\n",
              "                                              image_url  \\\n",
              "0     http://img.omdbapi.com/?i=tt0259534&h=600&apik...   \n",
              "1     http://img.omdbapi.com/?i=tt0468569&h=600&apik...   \n",
              "2     http://img.omdbapi.com/?i=tt9362722&h=600&apik...   \n",
              "3     http://img.omdbapi.com/?i=tt1375666&h=600&apik...   \n",
              "4     http://img.omdbapi.com/?i=tt0167261&h=600&apik...   \n",
              "...                                                 ...   \n",
              "3131  http://img.omdbapi.com/?i=tt0109198&h=600&apik...   \n",
              "3132  http://img.omdbapi.com/?i=tt0276830&h=600&apik...   \n",
              "3133  http://img.omdbapi.com/?i=tt0120891&h=600&apik...   \n",
              "3134  http://img.omdbapi.com/?i=tt2479478&h=600&apik...   \n",
              "3135  http://img.omdbapi.com/?i=tt1075747&h=600&apik...   \n",
              "\n",
              "                                               sypnosis  Action  Adventure  \\\n",
              "0     an anime adaptation of the hindu epic the rama...       1          1   \n",
              "1     when the menace known as the joker wreaks havo...       1          0   \n",
              "2     miles morales catapults across the multiverse ...       1          1   \n",
              "3     a thief who steals corporate secrets through t...       1          1   \n",
              "4     while frodo and sam edge closer to mordor with...       1          1   \n",
              "...                                                 ...     ...        ...   \n",
              "3131  four prostitutes join together to travel the o...       1          1   \n",
              "3132  in  after a brutal runin with an outlaw in a b...       0          1   \n",
              "3133  the two best special agents in the wild west m...       1          0   \n",
              "3134  an outlaw who was raised by native americans d...       1          1   \n",
              "3135  the us military makes a scarred bounty hunter ...       1          0   \n",
              "\n",
              "      Animation  ...  Horror  Music  Musical  Mystery  Romance  Sci-Fi  Sport  \\\n",
              "0             1  ...       0      0        0        0        0       0      0   \n",
              "1             0  ...       0      0        0        0        0       0      0   \n",
              "2             1  ...       0      0        0        0        0       0      0   \n",
              "3             0  ...       0      0        0        0        0       1      0   \n",
              "4             0  ...       0      0        0        0        0       0      0   \n",
              "...         ...  ...     ...    ...      ...      ...      ...     ...    ...   \n",
              "3131          0  ...       0      0        0        0        0       0      0   \n",
              "3132          0  ...       0      0        0        0        0       0      0   \n",
              "3133          0  ...       0      0        0        0        0       1      0   \n",
              "3134          0  ...       0      0        0        0        0       0      0   \n",
              "3135          0  ...       0      0        0        0        0       0      0   \n",
              "\n",
              "      Thriller  War  Western  \n",
              "0            0    0        0  \n",
              "1            0    0        0  \n",
              "2            0    0        0  \n",
              "3            0    0        0  \n",
              "4            0    0        0  \n",
              "...        ...  ...      ...  \n",
              "3131         0    0        0  \n",
              "3132         0    0        1  \n",
              "3133         0    0        0  \n",
              "3134         0    0        0  \n",
              "3135         0    0        0  \n",
              "\n",
              "[3136 rows x 28 columns]"
            ],
            "text/html": [
              "\n",
              "  <div id=\"df-2f3366d0-166e-4c7f-9e61-ca46646c2bb8\" class=\"colab-df-container\">\n",
              "    <div>\n",
              "<style scoped>\n",
              "    .dataframe tbody tr th:only-of-type {\n",
              "        vertical-align: middle;\n",
              "    }\n",
              "\n",
              "    .dataframe tbody tr th {\n",
              "        vertical-align: top;\n",
              "    }\n",
              "\n",
              "    .dataframe thead th {\n",
              "        text-align: right;\n",
              "    }\n",
              "</style>\n",
              "<table border=\"1\" class=\"dataframe\">\n",
              "  <thead>\n",
              "    <tr style=\"text-align: right;\">\n",
              "      <th></th>\n",
              "      <th>Unnamed: 0.1</th>\n",
              "      <th>Unnamed: 0</th>\n",
              "      <th>movie</th>\n",
              "      <th>imdb_id</th>\n",
              "      <th>genre</th>\n",
              "      <th>image_url</th>\n",
              "      <th>sypnosis</th>\n",
              "      <th>Action</th>\n",
              "      <th>Adventure</th>\n",
              "      <th>Animation</th>\n",
              "      <th>...</th>\n",
              "      <th>Horror</th>\n",
              "      <th>Music</th>\n",
              "      <th>Musical</th>\n",
              "      <th>Mystery</th>\n",
              "      <th>Romance</th>\n",
              "      <th>Sci-Fi</th>\n",
              "      <th>Sport</th>\n",
              "      <th>Thriller</th>\n",
              "      <th>War</th>\n",
              "      <th>Western</th>\n",
              "    </tr>\n",
              "  </thead>\n",
              "  <tbody>\n",
              "    <tr>\n",
              "      <th>0</th>\n",
              "      <td>0</td>\n",
              "      <td>0</td>\n",
              "      <td>Ramayana: The Legend of Prince Rama</td>\n",
              "      <td>tt0259534</td>\n",
              "      <td>[Animation, Action, Adventure]</td>\n",
              "      <td>http://img.omdbapi.com/?i=tt0259534&amp;h=600&amp;apik...</td>\n",
              "      <td>an anime adaptation of the hindu epic the rama...</td>\n",
              "      <td>1</td>\n",
              "      <td>1</td>\n",
              "      <td>1</td>\n",
              "      <td>...</td>\n",
              "      <td>0</td>\n",
              "      <td>0</td>\n",
              "      <td>0</td>\n",
              "      <td>0</td>\n",
              "      <td>0</td>\n",
              "      <td>0</td>\n",
              "      <td>0</td>\n",
              "      <td>0</td>\n",
              "      <td>0</td>\n",
              "      <td>0</td>\n",
              "    </tr>\n",
              "    <tr>\n",
              "      <th>1</th>\n",
              "      <td>1</td>\n",
              "      <td>1</td>\n",
              "      <td>The Dark Knight</td>\n",
              "      <td>tt0468569</td>\n",
              "      <td>[Action, Crime, Drama]</td>\n",
              "      <td>http://img.omdbapi.com/?i=tt0468569&amp;h=600&amp;apik...</td>\n",
              "      <td>when the menace known as the joker wreaks havo...</td>\n",
              "      <td>1</td>\n",
              "      <td>0</td>\n",
              "      <td>0</td>\n",
              "      <td>...</td>\n",
              "      <td>0</td>\n",
              "      <td>0</td>\n",
              "      <td>0</td>\n",
              "      <td>0</td>\n",
              "      <td>0</td>\n",
              "      <td>0</td>\n",
              "      <td>0</td>\n",
              "      <td>0</td>\n",
              "      <td>0</td>\n",
              "      <td>0</td>\n",
              "    </tr>\n",
              "    <tr>\n",
              "      <th>2</th>\n",
              "      <td>2</td>\n",
              "      <td>2</td>\n",
              "      <td>Spider-Man: Across the Spider-Verse</td>\n",
              "      <td>tt9362722</td>\n",
              "      <td>[Animation, Action, Adventure]</td>\n",
              "      <td>http://img.omdbapi.com/?i=tt9362722&amp;h=600&amp;apik...</td>\n",
              "      <td>miles morales catapults across the multiverse ...</td>\n",
              "      <td>1</td>\n",
              "      <td>1</td>\n",
              "      <td>1</td>\n",
              "      <td>...</td>\n",
              "      <td>0</td>\n",
              "      <td>0</td>\n",
              "      <td>0</td>\n",
              "      <td>0</td>\n",
              "      <td>0</td>\n",
              "      <td>0</td>\n",
              "      <td>0</td>\n",
              "      <td>0</td>\n",
              "      <td>0</td>\n",
              "      <td>0</td>\n",
              "    </tr>\n",
              "    <tr>\n",
              "      <th>3</th>\n",
              "      <td>3</td>\n",
              "      <td>3</td>\n",
              "      <td>Inception</td>\n",
              "      <td>tt1375666</td>\n",
              "      <td>[Action, Adventure, Sci-Fi]</td>\n",
              "      <td>http://img.omdbapi.com/?i=tt1375666&amp;h=600&amp;apik...</td>\n",
              "      <td>a thief who steals corporate secrets through t...</td>\n",
              "      <td>1</td>\n",
              "      <td>1</td>\n",
              "      <td>0</td>\n",
              "      <td>...</td>\n",
              "      <td>0</td>\n",
              "      <td>0</td>\n",
              "      <td>0</td>\n",
              "      <td>0</td>\n",
              "      <td>0</td>\n",
              "      <td>1</td>\n",
              "      <td>0</td>\n",
              "      <td>0</td>\n",
              "      <td>0</td>\n",
              "      <td>0</td>\n",
              "    </tr>\n",
              "    <tr>\n",
              "      <th>4</th>\n",
              "      <td>4</td>\n",
              "      <td>4</td>\n",
              "      <td>The Lord of the Rings: The Two Towers</td>\n",
              "      <td>tt0167261</td>\n",
              "      <td>[Action, Adventure, Drama]</td>\n",
              "      <td>http://img.omdbapi.com/?i=tt0167261&amp;h=600&amp;apik...</td>\n",
              "      <td>while frodo and sam edge closer to mordor with...</td>\n",
              "      <td>1</td>\n",
              "      <td>1</td>\n",
              "      <td>0</td>\n",
              "      <td>...</td>\n",
              "      <td>0</td>\n",
              "      <td>0</td>\n",
              "      <td>0</td>\n",
              "      <td>0</td>\n",
              "      <td>0</td>\n",
              "      <td>0</td>\n",
              "      <td>0</td>\n",
              "      <td>0</td>\n",
              "      <td>0</td>\n",
              "      <td>0</td>\n",
              "    </tr>\n",
              "    <tr>\n",
              "      <th>...</th>\n",
              "      <td>...</td>\n",
              "      <td>...</td>\n",
              "      <td>...</td>\n",
              "      <td>...</td>\n",
              "      <td>...</td>\n",
              "      <td>...</td>\n",
              "      <td>...</td>\n",
              "      <td>...</td>\n",
              "      <td>...</td>\n",
              "      <td>...</td>\n",
              "      <td>...</td>\n",
              "      <td>...</td>\n",
              "      <td>...</td>\n",
              "      <td>...</td>\n",
              "      <td>...</td>\n",
              "      <td>...</td>\n",
              "      <td>...</td>\n",
              "      <td>...</td>\n",
              "      <td>...</td>\n",
              "      <td>...</td>\n",
              "      <td>...</td>\n",
              "    </tr>\n",
              "    <tr>\n",
              "      <th>3131</th>\n",
              "      <td>3131</td>\n",
              "      <td>3131</td>\n",
              "      <td>Bad Girls</td>\n",
              "      <td>tt0109198</td>\n",
              "      <td>[Action, Adventure, Drama]</td>\n",
              "      <td>http://img.omdbapi.com/?i=tt0109198&amp;h=600&amp;apik...</td>\n",
              "      <td>four prostitutes join together to travel the o...</td>\n",
              "      <td>1</td>\n",
              "      <td>1</td>\n",
              "      <td>0</td>\n",
              "      <td>...</td>\n",
              "      <td>0</td>\n",
              "      <td>0</td>\n",
              "      <td>0</td>\n",
              "      <td>0</td>\n",
              "      <td>0</td>\n",
              "      <td>0</td>\n",
              "      <td>0</td>\n",
              "      <td>0</td>\n",
              "      <td>0</td>\n",
              "      <td>0</td>\n",
              "    </tr>\n",
              "    <tr>\n",
              "      <th>3132</th>\n",
              "      <td>3132</td>\n",
              "      <td>3132</td>\n",
              "      <td>Renegade</td>\n",
              "      <td>tt0276830</td>\n",
              "      <td>[Adventure, Fantasy, Western]</td>\n",
              "      <td>http://img.omdbapi.com/?i=tt0276830&amp;h=600&amp;apik...</td>\n",
              "      <td>in  after a brutal runin with an outlaw in a b...</td>\n",
              "      <td>0</td>\n",
              "      <td>1</td>\n",
              "      <td>0</td>\n",
              "      <td>...</td>\n",
              "      <td>0</td>\n",
              "      <td>0</td>\n",
              "      <td>0</td>\n",
              "      <td>0</td>\n",
              "      <td>0</td>\n",
              "      <td>0</td>\n",
              "      <td>0</td>\n",
              "      <td>0</td>\n",
              "      <td>0</td>\n",
              "      <td>1</td>\n",
              "    </tr>\n",
              "    <tr>\n",
              "      <th>3133</th>\n",
              "      <td>3133</td>\n",
              "      <td>3133</td>\n",
              "      <td>Wild Wild West</td>\n",
              "      <td>tt0120891</td>\n",
              "      <td>[Action, Comedy, Sci-Fi]</td>\n",
              "      <td>http://img.omdbapi.com/?i=tt0120891&amp;h=600&amp;apik...</td>\n",
              "      <td>the two best special agents in the wild west m...</td>\n",
              "      <td>1</td>\n",
              "      <td>0</td>\n",
              "      <td>0</td>\n",
              "      <td>...</td>\n",
              "      <td>0</td>\n",
              "      <td>0</td>\n",
              "      <td>0</td>\n",
              "      <td>0</td>\n",
              "      <td>0</td>\n",
              "      <td>1</td>\n",
              "      <td>0</td>\n",
              "      <td>0</td>\n",
              "      <td>0</td>\n",
              "      <td>0</td>\n",
              "    </tr>\n",
              "    <tr>\n",
              "      <th>3134</th>\n",
              "      <td>3134</td>\n",
              "      <td>3134</td>\n",
              "      <td>The Ridiculous 6</td>\n",
              "      <td>tt2479478</td>\n",
              "      <td>[Action, Adventure, Comedy]</td>\n",
              "      <td>http://img.omdbapi.com/?i=tt2479478&amp;h=600&amp;apik...</td>\n",
              "      <td>an outlaw who was raised by native americans d...</td>\n",
              "      <td>1</td>\n",
              "      <td>1</td>\n",
              "      <td>0</td>\n",
              "      <td>...</td>\n",
              "      <td>0</td>\n",
              "      <td>0</td>\n",
              "      <td>0</td>\n",
              "      <td>0</td>\n",
              "      <td>0</td>\n",
              "      <td>0</td>\n",
              "      <td>0</td>\n",
              "      <td>0</td>\n",
              "      <td>0</td>\n",
              "      <td>0</td>\n",
              "    </tr>\n",
              "    <tr>\n",
              "      <th>3135</th>\n",
              "      <td>3135</td>\n",
              "      <td>3135</td>\n",
              "      <td>Jonah Hex</td>\n",
              "      <td>tt1075747</td>\n",
              "      <td>[Action, Drama, Fantasy]</td>\n",
              "      <td>http://img.omdbapi.com/?i=tt1075747&amp;h=600&amp;apik...</td>\n",
              "      <td>the us military makes a scarred bounty hunter ...</td>\n",
              "      <td>1</td>\n",
              "      <td>0</td>\n",
              "      <td>0</td>\n",
              "      <td>...</td>\n",
              "      <td>0</td>\n",
              "      <td>0</td>\n",
              "      <td>0</td>\n",
              "      <td>0</td>\n",
              "      <td>0</td>\n",
              "      <td>0</td>\n",
              "      <td>0</td>\n",
              "      <td>0</td>\n",
              "      <td>0</td>\n",
              "      <td>0</td>\n",
              "    </tr>\n",
              "  </tbody>\n",
              "</table>\n",
              "<p>3136 rows × 28 columns</p>\n",
              "</div>\n",
              "    <div class=\"colab-df-buttons\">\n",
              "\n",
              "  <div class=\"colab-df-container\">\n",
              "    <button class=\"colab-df-convert\" onclick=\"convertToInteractive('df-2f3366d0-166e-4c7f-9e61-ca46646c2bb8')\"\n",
              "            title=\"Convert this dataframe to an interactive table.\"\n",
              "            style=\"display:none;\">\n",
              "\n",
              "  <svg xmlns=\"http://www.w3.org/2000/svg\" height=\"24px\" viewBox=\"0 -960 960 960\">\n",
              "    <path d=\"M120-120v-720h720v720H120Zm60-500h600v-160H180v160Zm220 220h160v-160H400v160Zm0 220h160v-160H400v160ZM180-400h160v-160H180v160Zm440 0h160v-160H620v160ZM180-180h160v-160H180v160Zm440 0h160v-160H620v160Z\"/>\n",
              "  </svg>\n",
              "    </button>\n",
              "\n",
              "  <style>\n",
              "    .colab-df-container {\n",
              "      display:flex;\n",
              "      gap: 12px;\n",
              "    }\n",
              "\n",
              "    .colab-df-convert {\n",
              "      background-color: #E8F0FE;\n",
              "      border: none;\n",
              "      border-radius: 50%;\n",
              "      cursor: pointer;\n",
              "      display: none;\n",
              "      fill: #1967D2;\n",
              "      height: 32px;\n",
              "      padding: 0 0 0 0;\n",
              "      width: 32px;\n",
              "    }\n",
              "\n",
              "    .colab-df-convert:hover {\n",
              "      background-color: #E2EBFA;\n",
              "      box-shadow: 0px 1px 2px rgba(60, 64, 67, 0.3), 0px 1px 3px 1px rgba(60, 64, 67, 0.15);\n",
              "      fill: #174EA6;\n",
              "    }\n",
              "\n",
              "    .colab-df-buttons div {\n",
              "      margin-bottom: 4px;\n",
              "    }\n",
              "\n",
              "    [theme=dark] .colab-df-convert {\n",
              "      background-color: #3B4455;\n",
              "      fill: #D2E3FC;\n",
              "    }\n",
              "\n",
              "    [theme=dark] .colab-df-convert:hover {\n",
              "      background-color: #434B5C;\n",
              "      box-shadow: 0px 1px 3px 1px rgba(0, 0, 0, 0.15);\n",
              "      filter: drop-shadow(0px 1px 2px rgba(0, 0, 0, 0.3));\n",
              "      fill: #FFFFFF;\n",
              "    }\n",
              "  </style>\n",
              "\n",
              "    <script>\n",
              "      const buttonEl =\n",
              "        document.querySelector('#df-2f3366d0-166e-4c7f-9e61-ca46646c2bb8 button.colab-df-convert');\n",
              "      buttonEl.style.display =\n",
              "        google.colab.kernel.accessAllowed ? 'block' : 'none';\n",
              "\n",
              "      async function convertToInteractive(key) {\n",
              "        const element = document.querySelector('#df-2f3366d0-166e-4c7f-9e61-ca46646c2bb8');\n",
              "        const dataTable =\n",
              "          await google.colab.kernel.invokeFunction('convertToInteractive',\n",
              "                                                    [key], {});\n",
              "        if (!dataTable) return;\n",
              "\n",
              "        const docLinkHtml = 'Like what you see? Visit the ' +\n",
              "          '<a target=\"_blank\" href=https://colab.research.google.com/notebooks/data_table.ipynb>data table notebook</a>'\n",
              "          + ' to learn more about interactive tables.';\n",
              "        element.innerHTML = '';\n",
              "        dataTable['output_type'] = 'display_data';\n",
              "        await google.colab.output.renderOutput(dataTable, element);\n",
              "        const docLink = document.createElement('div');\n",
              "        docLink.innerHTML = docLinkHtml;\n",
              "        element.appendChild(docLink);\n",
              "      }\n",
              "    </script>\n",
              "  </div>\n",
              "\n",
              "\n",
              "<div id=\"df-79a46823-1dae-4b8d-b0d7-61480bccddbc\">\n",
              "  <button class=\"colab-df-quickchart\" onclick=\"quickchart('df-79a46823-1dae-4b8d-b0d7-61480bccddbc')\"\n",
              "            title=\"Suggest charts.\"\n",
              "            style=\"display:none;\">\n",
              "\n",
              "<svg xmlns=\"http://www.w3.org/2000/svg\" height=\"24px\"viewBox=\"0 0 24 24\"\n",
              "     width=\"24px\">\n",
              "    <g>\n",
              "        <path d=\"M19 3H5c-1.1 0-2 .9-2 2v14c0 1.1.9 2 2 2h14c1.1 0 2-.9 2-2V5c0-1.1-.9-2-2-2zM9 17H7v-7h2v7zm4 0h-2V7h2v10zm4 0h-2v-4h2v4z\"/>\n",
              "    </g>\n",
              "</svg>\n",
              "  </button>\n",
              "\n",
              "<style>\n",
              "  .colab-df-quickchart {\n",
              "    background-color: #E8F0FE;\n",
              "    border: none;\n",
              "    border-radius: 50%;\n",
              "    cursor: pointer;\n",
              "    display: none;\n",
              "    fill: #1967D2;\n",
              "    height: 32px;\n",
              "    padding: 0 0 0 0;\n",
              "    width: 32px;\n",
              "  }\n",
              "\n",
              "  .colab-df-quickchart:hover {\n",
              "    background-color: #E2EBFA;\n",
              "    box-shadow: 0px 1px 2px rgba(60, 64, 67, 0.3), 0px 1px 3px 1px rgba(60, 64, 67, 0.15);\n",
              "    fill: #174EA6;\n",
              "  }\n",
              "\n",
              "  [theme=dark] .colab-df-quickchart {\n",
              "    background-color: #3B4455;\n",
              "    fill: #D2E3FC;\n",
              "  }\n",
              "\n",
              "  [theme=dark] .colab-df-quickchart:hover {\n",
              "    background-color: #434B5C;\n",
              "    box-shadow: 0px 1px 3px 1px rgba(0, 0, 0, 0.15);\n",
              "    filter: drop-shadow(0px 1px 2px rgba(0, 0, 0, 0.3));\n",
              "    fill: #FFFFFF;\n",
              "  }\n",
              "</style>\n",
              "\n",
              "  <script>\n",
              "    async function quickchart(key) {\n",
              "      const charts = await google.colab.kernel.invokeFunction(\n",
              "          'suggestCharts', [key], {});\n",
              "    }\n",
              "    (() => {\n",
              "      let quickchartButtonEl =\n",
              "        document.querySelector('#df-79a46823-1dae-4b8d-b0d7-61480bccddbc button');\n",
              "      quickchartButtonEl.style.display =\n",
              "        google.colab.kernel.accessAllowed ? 'block' : 'none';\n",
              "    })();\n",
              "  </script>\n",
              "</div>\n",
              "    </div>\n",
              "  </div>\n"
            ]
          },
          "metadata": {},
          "execution_count": 18
        }
      ]
    },
    {
      "cell_type": "code",
      "execution_count": 12,
      "id": "bef166f8-ab01-4195-a311-8f6f03759ecf",
      "metadata": {
        "id": "bef166f8-ab01-4195-a311-8f6f03759ecf"
      },
      "outputs": [],
      "source": [
        "multilabel_binarizer = MultiLabelBinarizer()\n",
        "multilabel_binarizer.fit(df_train['genre'])\n",
        "\n",
        "#transform target variable\n",
        "y_train = multilabel_binarizer.transform(df_train['genre'])\n",
        "genre_names = multilabel_binarizer.classes_\n",
        "\n",
        "# Adding\n",
        "for i in range(len(genre_names)):\n",
        "    df_train[f\"{genre_names[i]}\"] = y_train[:,i]"
      ]
    },
    {
      "cell_type": "code",
      "execution_count": 13,
      "id": "728e6599-3415-46dc-b239-600bd7c2bdde",
      "metadata": {
        "id": "728e6599-3415-46dc-b239-600bd7c2bdde"
      },
      "outputs": [],
      "source": [
        "multilabel_binarizer = MultiLabelBinarizer()\n",
        "multilabel_binarizer.fit(df_test['genre'])\n",
        "\n",
        "#transform target variable\n",
        "y_test = multilabel_binarizer.transform(df_test['genre'])\n",
        "genre_names = multilabel_binarizer.classes_\n",
        "\n",
        "# Adding\n",
        "for i in range(len(genre_names)):\n",
        "    df_test[f\"{genre_names[i]}\"] = y_test[:,i]"
      ]
    },
    {
      "cell_type": "code",
      "execution_count": 14,
      "id": "4fc8c9ed-8a71-45a5-95cf-930c4f5cd4d0",
      "metadata": {
        "id": "4fc8c9ed-8a71-45a5-95cf-930c4f5cd4d0"
      },
      "outputs": [],
      "source": [
        "multilabel_binarizer = MultiLabelBinarizer()\n",
        "multilabel_binarizer.fit(df_val['genre'])\n",
        "\n",
        "#transform target variable\n",
        "y_val = multilabel_binarizer.transform(df_val['genre'])\n",
        "genre_names = multilabel_binarizer.classes_\n",
        "\n",
        "# Adding\n",
        "for i in range(len(genre_names)):\n",
        "    df_val[f\"{genre_names[i]}\"] = y_val[:,i]"
      ]
    },
    {
      "cell_type": "code",
      "source": [
        "y_test.shape"
      ],
      "metadata": {
        "colab": {
          "base_uri": "https://localhost:8080/"
        },
        "id": "EOCR1gxvr4fS",
        "outputId": "694d6ab0-82ab-4bcf-de62-13797844ad82"
      },
      "id": "EOCR1gxvr4fS",
      "execution_count": 15,
      "outputs": [
        {
          "output_type": "execute_result",
          "data": {
            "text/plain": [
              "(402, 21)"
            ]
          },
          "metadata": {},
          "execution_count": 15
        }
      ]
    },
    {
      "cell_type": "code",
      "execution_count": null,
      "id": "30a6d303-d551-445b-a56e-a830b7ac8905",
      "metadata": {
        "id": "30a6d303-d551-445b-a56e-a830b7ac8905"
      },
      "outputs": [],
      "source": [
        "np.save('new_y_train', y_train)\n",
        "np.save('new_y_test', y_test)\n",
        "np.save('new_y_val', y_val)"
      ]
    },
    {
      "cell_type": "code",
      "execution_count": null,
      "id": "185095c3-0cad-4a06-8ec2-c845a4f01cbf",
      "metadata": {
        "id": "185095c3-0cad-4a06-8ec2-c845a4f01cbf"
      },
      "outputs": [],
      "source": [
        "df_train = pd.read_csv('/content/drive/MyDrive/stack_train.csv')\n",
        "df_test = pd.read_csv('/content/drive/MyDrive/stack_test.csv')\n",
        "df_val = pd.read_csv('/content/drive/MyDrive/stack_val.csv')"
      ]
    },
    {
      "cell_type": "code",
      "execution_count": 19,
      "id": "6bee42f0-ff91-4425-9a81-be42a00bbf79",
      "metadata": {
        "id": "6bee42f0-ff91-4425-9a81-be42a00bbf79"
      },
      "outputs": [],
      "source": [
        "tokenizer = AutoTokenizer.from_pretrained(\"bert-base-uncased\")\n",
        "\n",
        "train_text = df_train['sypnosis'].to_list()"
      ]
    },
    {
      "cell_type": "code",
      "execution_count": 20,
      "id": "d04f97fc-0883-4fff-b59b-8fbea5470979",
      "metadata": {
        "colab": {
          "base_uri": "https://localhost:8080/"
        },
        "id": "d04f97fc-0883-4fff-b59b-8fbea5470979",
        "outputId": "8ad698a5-103c-4356-ff98-f43c5637eff3"
      },
      "outputs": [
        {
          "output_type": "execute_result",
          "data": {
            "text/plain": [
              "3136"
            ]
          },
          "metadata": {},
          "execution_count": 20
        }
      ],
      "source": [
        "len(train_text)"
      ]
    },
    {
      "cell_type": "code",
      "execution_count": 21,
      "id": "f7647cff-7ab8-4c19-9019-8ea03651fb44",
      "metadata": {
        "id": "f7647cff-7ab8-4c19-9019-8ea03651fb44"
      },
      "outputs": [],
      "source": [
        "tokenizer = AutoTokenizer.from_pretrained(\"bert-base-uncased\")\n",
        "\n",
        "test_text = df_test['sypnosis'].to_list()"
      ]
    },
    {
      "cell_type": "code",
      "execution_count": 22,
      "id": "c3dc947a-07fb-46a1-9cdd-32a3b1c54371",
      "metadata": {
        "id": "c3dc947a-07fb-46a1-9cdd-32a3b1c54371"
      },
      "outputs": [],
      "source": [
        "tokenizer = AutoTokenizer.from_pretrained(\"bert-base-uncased\")\n",
        "\n",
        "val_text = df_val['sypnosis'].to_list()"
      ]
    },
    {
      "cell_type": "code",
      "execution_count": null,
      "id": "8d7bdf3b-0667-47cc-b75e-42e63ec9bfe1",
      "metadata": {
        "id": "8d7bdf3b-0667-47cc-b75e-42e63ec9bfe1"
      },
      "outputs": [],
      "source": [
        "# train_encodings_list = []\n",
        "# test_encodings_list = []\n",
        "\n",
        "# for movie in train_text:\n",
        "#   train_encodings = tokenizer(str(movie), truncation=True, padding=True, max_length=128)\n",
        "#   train_encodings_list.append(train_encodings['input_ids'])\n",
        "\n",
        "# for movie in test_text:\n",
        "#   test_encodings = tokenizer(str(movie), truncation=True, padding=True, max_length=128)\n",
        "#   test_encodings_list.append(test_encodings['input_ids'])\n",
        "\n",
        "# model.fit(train_encodings, tf.convert_to_tensor(y_train), epochs=3)"
      ]
    },
    {
      "cell_type": "code",
      "execution_count": 23,
      "id": "2ruTKb3mxD_3",
      "metadata": {
        "id": "2ruTKb3mxD_3"
      },
      "outputs": [],
      "source": [
        "train_encodings = tokenizer(train_text, truncation = True, padding = True, max_length = 128, return_tensors = \"np\")\n",
        "test_encodings = tokenizer(test_text, truncation = True, padding = True, max_length = 128, return_tensors = \"np\")\n",
        "val_encodings = tokenizer(val_text, truncation = True, padding = True, max_length = 128, return_tensors = \"np\")"
      ]
    },
    {
      "cell_type": "code",
      "execution_count": 24,
      "id": "PpGj4BUDpp96",
      "metadata": {
        "colab": {
          "base_uri": "https://localhost:8080/"
        },
        "id": "PpGj4BUDpp96",
        "outputId": "c314f1b4-0517-4d6b-be48-d7a6da9b51d8"
      },
      "outputs": [
        {
          "output_type": "execute_result",
          "data": {
            "text/plain": [
              "(3136, 128)"
            ]
          },
          "metadata": {},
          "execution_count": 24
        }
      ],
      "source": [
        "train_encodings['input_ids'].shape"
      ]
    },
    {
      "cell_type": "code",
      "execution_count": null,
      "id": "ee2bc594-9dd9-44e0-85a2-d47d4b94168a",
      "metadata": {
        "colab": {
          "base_uri": "https://localhost:8080/"
        },
        "id": "ee2bc594-9dd9-44e0-85a2-d47d4b94168a",
        "outputId": "f6febb59-5015-4a89-91e5-af1bb05b0964",
        "scrolled": true
      },
      "outputs": [
        {
          "data": {
            "text/plain": [
              "(3136,)"
            ]
          },
          "execution_count": 74,
          "metadata": {},
          "output_type": "execute_result"
        }
      ],
      "source": [
        "train_encodings.shape"
      ]
    },
    {
      "cell_type": "code",
      "execution_count": null,
      "id": "3da0f7f2-4033-4336-9e1b-31d47518d406",
      "metadata": {
        "id": "3da0f7f2-4033-4336-9e1b-31d47518d406"
      },
      "outputs": [],
      "source": [
        "with open(\"X_test_text\", \"wb\") as fp:   #Pickling\n",
        "    pickle.dump(test_encodings_list, fp)\n",
        "\n",
        "# >>> with open(\"test\", \"rb\") as fp:   # Unpickling\n",
        "# ...   b = pickle.load(fp)\n",
        "# ...\n",
        "# >>> b\n",
        "# [1, 2, 3, 4]"
      ]
    },
    {
      "cell_type": "code",
      "execution_count": null,
      "id": "41ccff23-9454-4180-9320-2d894663b30d",
      "metadata": {
        "id": "41ccff23-9454-4180-9320-2d894663b30d"
      },
      "outputs": [],
      "source": [
        "with open(\"X_train_text\", \"wb\") as fp:   #Pickling\n",
        "    pickle.dump(train_encodings_list, fp)\n",
        "\n",
        "# >>> with open(\"test\", \"rb\") as fp:   # Unpickling\n",
        "# ...   b = pickle.load(fp)\n",
        "# ...\n",
        "# >>> b\n",
        "# [1, 2, 3, 4]"
      ]
    },
    {
      "cell_type": "code",
      "execution_count": null,
      "id": "b2593c8b-ce7f-4996-a7e1-25b691b4c9f7",
      "metadata": {
        "id": "b2593c8b-ce7f-4996-a7e1-25b691b4c9f7"
      },
      "outputs": [],
      "source": [
        "test_text = test_text['input_ids']"
      ]
    },
    {
      "cell_type": "code",
      "execution_count": null,
      "id": "2e088e5d-2b42-4526-9369-2d1b7dedbee8",
      "metadata": {
        "id": "2e088e5d-2b42-4526-9369-2d1b7dedbee8"
      },
      "outputs": [],
      "source": [
        "train_text = train_text['input_ids']"
      ]
    },
    {
      "cell_type": "code",
      "execution_count": 25,
      "id": "4p9CiWiuq8o1",
      "metadata": {
        "id": "4p9CiWiuq8o1"
      },
      "outputs": [],
      "source": [
        "train_imgs = np.load('/content/drive/MyDrive/new_train_imgs.npy')\n",
        "test_imgs = np.load('/content/drive/MyDrive/new_test_imgs.npy')\n",
        "val_imgs = np.load('/content/drive/MyDrive/new_val_imgs.npy')"
      ]
    },
    {
      "cell_type": "code",
      "execution_count": null,
      "id": "xOMoCsOMq8wz",
      "metadata": {
        "id": "xOMoCsOMq8wz"
      },
      "outputs": [],
      "source": [
        "y_train = np.load('new_y_train.npy')\n",
        "y_test = np.load('new_y_test.npy')\n",
        "y_val = np.load('new_y_val.npy')"
      ]
    },
    {
      "cell_type": "code",
      "execution_count": 26,
      "id": "d1de147d-48fd-4d38-9a3c-7b8d669a8c4f",
      "metadata": {
        "id": "d1de147d-48fd-4d38-9a3c-7b8d669a8c4f"
      },
      "outputs": [],
      "source": [
        "train_imgs = preprocess_input(train_imgs)\n",
        "val_imgs = preprocess_input(val_imgs)\n",
        "test_imgs = preprocess_input(test_imgs)"
      ]
    },
    {
      "cell_type": "code",
      "source": [
        "X_val"
      ],
      "metadata": {
        "colab": {
          "base_uri": "https://localhost:8080/"
        },
        "id": "dGaSuIp8pk7b",
        "outputId": "7771da03-e7bc-4452-c143-0a1e39b502c7"
      },
      "id": "dGaSuIp8pk7b",
      "execution_count": 23,
      "outputs": [
        {
          "output_type": "execute_result",
          "data": {
            "text/plain": [
              "0      gandalf and aragorn lead the world of men agai...\n",
              "1      a meek hobbit from the shire and eight compani...\n",
              "2      the bride must kill her exboss and lover bill ...\n",
              "3      after the rebels are overpowered by the empire...\n",
              "4      teen miles morales becomes the spiderman of hi...\n",
              "                             ...                        \n",
              "400    to climb the corporate ladder to success a guy...\n",
              "401    a high school janitor has not recovered from h...\n",
              "402    as the german fascists expand their borders sc...\n",
              "403    a mysterious stranger with a harmonica joins f...\n",
              "404    bambino tries to teach his brother trinity how...\n",
              "Name: sypnosis, Length: 405, dtype: object"
            ]
          },
          "metadata": {},
          "execution_count": 23
        }
      ]
    },
    {
      "cell_type": "code",
      "execution_count": 27,
      "id": "e01d71f3-7775-48f9-979e-886f464db4cc",
      "metadata": {
        "id": "e01d71f3-7775-48f9-979e-886f464db4cc"
      },
      "outputs": [],
      "source": [
        "# load the dataset and split into train/test sets\n",
        "# REMEMBER TO DROP COLUMNS!!\n",
        "X_train_img = train_imgs\n",
        "X_train_text = train_encodings['input_ids']\n",
        "y_train = y_train\n",
        "X_test_img = test_imgs\n",
        "X_test_text = test_encodings['input_ids']\n",
        "y_test = y_test\n",
        "X_val_img = val_imgs\n",
        "X_val_text = val_encodings['input_ids']\n",
        "y_val = y_val"
      ]
    },
    {
      "cell_type": "code",
      "source": [
        "y_train.shape"
      ],
      "metadata": {
        "colab": {
          "base_uri": "https://localhost:8080/"
        },
        "id": "G3CiZ5BWq5z1",
        "outputId": "2da2de6a-6b5d-4cbd-ca6c-f005c9b6e4eb"
      },
      "id": "G3CiZ5BWq5z1",
      "execution_count": 65,
      "outputs": [
        {
          "output_type": "execute_result",
          "data": {
            "text/plain": [
              "(3136, 21)"
            ]
          },
          "metadata": {},
          "execution_count": 65
        }
      ]
    },
    {
      "cell_type": "code",
      "execution_count": null,
      "id": "fe51d988-c147-4a1c-a662-64ee310ce1b4",
      "metadata": {
        "id": "fe51d988-c147-4a1c-a662-64ee310ce1b4"
      },
      "outputs": [],
      "source": [
        "train_imgs[0].shape\n",
        "\n",
        "for img in train_imgs:\n",
        "  if img.shape != (224, 224, 3):\n",
        "    print(\"wrong dimensions\")"
      ]
    },
    {
      "cell_type": "markdown",
      "id": "a337fde0-fa05-414b-b1dc-41e41e95ecc5",
      "metadata": {
        "id": "a337fde0-fa05-414b-b1dc-41e41e95ecc5"
      },
      "source": [
        "## RESNET 50"
      ]
    },
    {
      "cell_type": "code",
      "execution_count": 28,
      "id": "4379333a-2cb3-41a5-b98a-d369114b78e1",
      "metadata": {
        "id": "4379333a-2cb3-41a5-b98a-d369114b78e1"
      },
      "outputs": [],
      "source": [
        "def load_model():\n",
        "\n",
        "    # $CHALLENGIFY_BEGIN\n",
        "\n",
        "    model = ResNet50(weights=\"imagenet\", include_top=False, input_shape=(256, 256, 3))\n",
        "\n",
        "    # $CHALLENGIFY_END\n",
        "\n",
        "    return model"
      ]
    },
    {
      "cell_type": "code",
      "execution_count": 29,
      "id": "8a658a2e-990d-45e3-b585-fb7f36006c10",
      "metadata": {
        "id": "8a658a2e-990d-45e3-b585-fb7f36006c10"
      },
      "outputs": [],
      "source": [
        "def set_nontrainable_layers(model):\n",
        "\n",
        "    # $CHALLENGIFY_BEGIN\n",
        "    # Set the first layers to be untrainable\n",
        "    model.trainable = False\n",
        "\n",
        "    # $CHALLENGIFY_END\n",
        "\n",
        "    return model"
      ]
    },
    {
      "cell_type": "code",
      "execution_count": 30,
      "id": "ac8ab489-4f22-4cdd-bcf6-631b7e86b1c8",
      "metadata": {
        "id": "ac8ab489-4f22-4cdd-bcf6-631b7e86b1c8"
      },
      "outputs": [],
      "source": [
        "def add_last_layers(model):\n",
        "    '''Take a pre-trained model, set its parameters as non-trainable, and add additional trainable layers on top'''\n",
        "    # $CHALLENGIFY_BEGIN\n",
        "    base_model = load_model()\n",
        "    base_model = set_nontrainable_layers(base_model)\n",
        "    flatten_layer = layers.Flatten()\n",
        "    dense_layer = layers.Dense(500, activation='relu')\n",
        "    prediction_layer = layers.Dense(512, activation='relu')\n",
        "\n",
        "    model = models.Sequential([\n",
        "        base_model,\n",
        "        flatten_layer,\n",
        "        dense_layer,\n",
        "        prediction_layer\n",
        "    ])\n",
        "    # $CHALLENGIFY_END\n",
        "    return model"
      ]
    },
    {
      "cell_type": "markdown",
      "id": "af3037b0-8881-4bae-87ea-5e45ffb8b67f",
      "metadata": {
        "id": "af3037b0-8881-4bae-87ea-5e45ffb8b67f"
      },
      "source": [
        "## BERT Model"
      ]
    },
    {
      "cell_type": "code",
      "execution_count": 31,
      "id": "22068806-d30a-4a99-bb57-8634b4a727a0",
      "metadata": {
        "id": "22068806-d30a-4a99-bb57-8634b4a727a0"
      },
      "outputs": [],
      "source": [
        "# define the BERT-based text feature extractor\n",
        "def build_text_model():\n",
        " bert_model = TFBertModel.from_pretrained('bert-base-uncased')\n",
        " inputs = tf.keras.layers.Input(shape=(None,), dtype=tf.int32, name='input_word_ids')\n",
        " outputs = bert_model(inputs)[1]\n",
        " text_model = tf.keras.Model(inputs=inputs, outputs=outputs)\n",
        " return text_model"
      ]
    },
    {
      "cell_type": "markdown",
      "id": "2b5e9b35-96f9-46ff-90d3-c47c7c0a42a7",
      "metadata": {
        "id": "2b5e9b35-96f9-46ff-90d3-c47c7c0a42a7"
      },
      "source": [
        "## Multimodal Model"
      ]
    },
    {
      "cell_type": "code",
      "execution_count": 32,
      "id": "fcd45939-8327-4f03-89e1-c8b6399e3bae",
      "metadata": {
        "id": "fcd45939-8327-4f03-89e1-c8b6399e3bae"
      },
      "outputs": [],
      "source": [
        "# define the multimodal document classification model\n",
        "def build_multimodal_model(num_classes):\n",
        "    model = load_model()\n",
        "    model = set_nontrainable_layers(model)\n",
        "    img_model = add_last_layers(model)\n",
        "    text_model = build_text_model()\n",
        "    img_input = tf.keras.layers.Input(shape=(256, 256, 3), name='img_input')\n",
        "    text_input = tf.keras.layers.Input(shape=(None,), dtype=tf.int32, name='text_input')\n",
        "    img_features = img_model(img_input)\n",
        "    text_features = text_model(text_input)\n",
        "    concat_features = tf.keras.layers.concatenate([img_features, text_features])\n",
        "    x = tf.keras.layers.Dense(512, activation='relu')(concat_features)\n",
        "    x = tf.keras.layers.Dense(num_classes, activation='sigmoid')(x)\n",
        "    multimodal_model = tf.keras.Model(inputs=[img_input, text_input], outputs=x)\n",
        "    return multimodal_model"
      ]
    },
    {
      "cell_type": "code",
      "execution_count": 33,
      "id": "025cb8dd-dedf-469f-b808-40ebf19ce74c",
      "metadata": {
        "colab": {
          "base_uri": "https://localhost:8080/",
          "height": 624,
          "referenced_widgets": [
            "88870423e0b5417a9fe1d43d6fd970bf",
            "707b727b28a842ebb07341442e0e853d",
            "ee23d41e207e48c8acb0d6f652eb17f2",
            "cb0933081686461796ba9888dbe90ce1",
            "e44e76ef6abe420cb4d66b86c155f693",
            "72be679c79d249df8648c0465e5c2085",
            "407d9966843342e88a588e940332c568",
            "835b1e74bcee462381bee113a79a1fda",
            "fe64dc2124be4e96929879b71849fc28",
            "4b727a1d12ac4a59ba16a8bea8f9b579",
            "bf03c03fc7b1489fa307f1ae52642bb2"
          ]
        },
        "id": "025cb8dd-dedf-469f-b808-40ebf19ce74c",
        "outputId": "436ed871-9dbe-42ea-984a-78e78f761113"
      },
      "outputs": [
        {
          "output_type": "stream",
          "name": "stdout",
          "text": [
            "Downloading data from https://storage.googleapis.com/tensorflow/keras-applications/resnet/resnet50_weights_tf_dim_ordering_tf_kernels_notop.h5\n",
            "94765736/94765736 [==============================] - 5s 0us/step\n"
          ]
        },
        {
          "output_type": "display_data",
          "data": {
            "text/plain": [
              "Downloading model.safetensors:   0%|          | 0.00/440M [00:00<?, ?B/s]"
            ],
            "application/vnd.jupyter.widget-view+json": {
              "version_major": 2,
              "version_minor": 0,
              "model_id": "88870423e0b5417a9fe1d43d6fd970bf"
            }
          },
          "metadata": {}
        },
        {
          "output_type": "stream",
          "name": "stderr",
          "text": [
            "Some weights of the PyTorch model were not used when initializing the TF 2.0 model TFBertModel: ['cls.seq_relationship.bias', 'cls.predictions.transform.dense.bias', 'cls.seq_relationship.weight', 'cls.predictions.bias', 'cls.predictions.transform.LayerNorm.bias', 'cls.predictions.transform.LayerNorm.weight', 'cls.predictions.transform.dense.weight']\n",
            "- This IS expected if you are initializing TFBertModel from a PyTorch model trained on another task or with another architecture (e.g. initializing a TFBertForSequenceClassification model from a BertForPreTraining model).\n",
            "- This IS NOT expected if you are initializing TFBertModel from a PyTorch model that you expect to be exactly identical (e.g. initializing a TFBertForSequenceClassification model from a BertForSequenceClassification model).\n",
            "All the weights of TFBertModel were initialized from the PyTorch model.\n",
            "If your task is similar to the task the model of the checkpoint was trained on, you can already use TFBertModel for predictions without further training.\n"
          ]
        },
        {
          "output_type": "stream",
          "name": "stdout",
          "text": [
            "Model: \"model_1\"\n",
            "__________________________________________________________________________________________________\n",
            " Layer (type)                   Output Shape         Param #     Connected to                     \n",
            "==================================================================================================\n",
            " img_input (InputLayer)         [(None, 256, 256, 3  0           []                               \n",
            "                                )]                                                                \n",
            "                                                                                                  \n",
            " text_input (InputLayer)        [(None, None)]       0           []                               \n",
            "                                                                                                  \n",
            " sequential (Sequential)        (None, 512)          89380724    ['img_input[0][0]']              \n",
            "                                                                                                  \n",
            " model (Functional)             (None, 768)          109482240   ['text_input[0][0]']             \n",
            "                                                                                                  \n",
            " concatenate (Concatenate)      (None, 1280)         0           ['sequential[0][0]',             \n",
            "                                                                  'model[0][0]']                  \n",
            "                                                                                                  \n",
            " dense_2 (Dense)                (None, 512)          655872      ['concatenate[0][0]']            \n",
            "                                                                                                  \n",
            " dense_3 (Dense)                (None, 21)           10773       ['dense_2[0][0]']                \n",
            "                                                                                                  \n",
            "==================================================================================================\n",
            "Total params: 199,529,609\n",
            "Trainable params: 175,941,897\n",
            "Non-trainable params: 23,587,712\n",
            "__________________________________________________________________________________________________\n"
          ]
        }
      ],
      "source": [
        "# build the multimodal model\n",
        "num_classes = 21\n",
        "multimodal_model = build_multimodal_model(num_classes)\n",
        "multimodal_model.summary()"
      ]
    },
    {
      "cell_type": "code",
      "execution_count": 34,
      "id": "a91dd087-d74c-4e01-9f7e-ea03cc2118c2",
      "metadata": {
        "colab": {
          "base_uri": "https://localhost:8080/"
        },
        "id": "a91dd087-d74c-4e01-9f7e-ea03cc2118c2",
        "outputId": "e5c66a75-9c46-4381-a265-cd0b66e8521d"
      },
      "outputs": [
        {
          "output_type": "stream",
          "name": "stdout",
          "text": [
            "Epoch 1/15\n",
            "98/98 [==============================] - 152s 1s/step - loss: 0.6592 - accuracy: 0.2640 - auc: 0.7307 - binary_accuracy: 0.8676 - categorical_accuracy: 0.2640 - val_loss: 0.3287 - val_accuracy: 0.2691 - val_auc: 0.7880 - val_binary_accuracy: 0.8800 - val_categorical_accuracy: 0.2691\n",
            "Epoch 2/15\n",
            "98/98 [==============================] - 96s 976ms/step - loss: 0.2225 - accuracy: 0.3807 - auc: 0.9122 - binary_accuracy: 0.9157 - categorical_accuracy: 0.3807 - val_loss: 0.3375 - val_accuracy: 0.3259 - val_auc: 0.8024 - val_binary_accuracy: 0.8794 - val_categorical_accuracy: 0.3259\n",
            "Epoch 3/15\n",
            "98/98 [==============================] - 95s 971ms/step - loss: 0.1199 - accuracy: 0.4142 - auc: 0.9769 - binary_accuracy: 0.9550 - categorical_accuracy: 0.4142 - val_loss: 0.3909 - val_accuracy: 0.2938 - val_auc: 0.8004 - val_binary_accuracy: 0.8772 - val_categorical_accuracy: 0.2938\n",
            "Epoch 4/15\n",
            "98/98 [==============================] - 95s 967ms/step - loss: 0.0591 - accuracy: 0.4359 - auc: 0.9943 - binary_accuracy: 0.9794 - categorical_accuracy: 0.4359 - val_loss: 0.4912 - val_accuracy: 0.2938 - val_auc: 0.7855 - val_binary_accuracy: 0.8783 - val_categorical_accuracy: 0.2938\n",
            "Epoch 5/15\n",
            "98/98 [==============================] - 95s 967ms/step - loss: 0.0419 - accuracy: 0.3980 - auc: 0.9956 - binary_accuracy: 0.9866 - categorical_accuracy: 0.3980 - val_loss: 0.5683 - val_accuracy: 0.2765 - val_auc: 0.7737 - val_binary_accuracy: 0.8698 - val_categorical_accuracy: 0.2765\n",
            "Epoch 6/15\n",
            "98/98 [==============================] - 94s 963ms/step - loss: 0.0272 - accuracy: 0.3986 - auc: 0.9976 - binary_accuracy: 0.9916 - categorical_accuracy: 0.3986 - val_loss: 0.7163 - val_accuracy: 0.3012 - val_auc: 0.7586 - val_binary_accuracy: 0.8792 - val_categorical_accuracy: 0.3012\n",
            "Epoch 7/15\n",
            "98/98 [==============================] - ETA: 0s - loss: 0.0205 - accuracy: 0.3909 - auc: 0.9985 - binary_accuracy: 0.9937 - categorical_accuracy: 0.3909Restoring model weights from the end of the best epoch: 2.\n",
            "98/98 [==============================] - 95s 972ms/step - loss: 0.0205 - accuracy: 0.3909 - auc: 0.9985 - binary_accuracy: 0.9937 - categorical_accuracy: 0.3909 - val_loss: 0.6938 - val_accuracy: 0.3111 - val_auc: 0.7633 - val_binary_accuracy: 0.8777 - val_categorical_accuracy: 0.3111\n",
            "Epoch 7: early stopping\n"
          ]
        }
      ],
      "source": [
        "# compile the model and train on the train set\n",
        "multimodal_model.compile(optimizer='adam', loss='binary_crossentropy', metrics=['accuracy', 'AUC', 'binary_accuracy', 'categorical_accuracy'])\n",
        "\n",
        "es = EarlyStopping(monitor = 'val_accuracy',\n",
        "                   mode = 'max',\n",
        "                   patience = 5,\n",
        "                   verbose = 1,\n",
        "                   restore_best_weights = True)\n",
        "\n",
        "history = multimodal_model.fit([(X_train_img, X_train_text)], tf.convert_to_tensor(y_train), epochs=15, batch_size=32, validation_data=([(X_val_img, X_val_text)], tf.convert_to_tensor(y_val)), callbacks = [es])"
      ]
    },
    {
      "cell_type": "code",
      "execution_count": 35,
      "id": "eVkff5btuPm7",
      "metadata": {
        "id": "eVkff5btuPm7",
        "colab": {
          "base_uri": "https://localhost:8080/"
        },
        "outputId": "9f4ef2ff-3566-4f80-eaaa-de0f19ae20b8"
      },
      "outputs": [
        {
          "output_type": "stream",
          "name": "stdout",
          "text": [
            "13/13 [==============================] - 10s 428ms/step - loss: 0.3545 - accuracy: 0.3159 - auc: 0.7856 - binary_accuracy: 0.8750 - categorical_accuracy: 0.3159\n"
          ]
        },
        {
          "output_type": "execute_result",
          "data": {
            "text/plain": [
              "[0.35447487235069275,\n",
              " 0.3159204125404358,\n",
              " 0.7856151461601257,\n",
              " 0.8750296831130981,\n",
              " 0.3159204125404358]"
            ]
          },
          "metadata": {},
          "execution_count": 35
        }
      ],
      "source": [
        "res = multimodal_model.evaluate([X_test_img, X_test_text], y_test)\n",
        "res"
      ]
    },
    {
      "cell_type": "code",
      "source": [
        "y_pred = multimodal_model.predict([X_test_img, X_test_text], verbose=1)\n",
        "\n",
        "y_pred"
      ],
      "metadata": {
        "colab": {
          "base_uri": "https://localhost:8080/"
        },
        "id": "GyyokOgnw8US",
        "outputId": "3d4bc1b1-d439-41b6-ed72-add50170c565"
      },
      "id": "GyyokOgnw8US",
      "execution_count": 40,
      "outputs": [
        {
          "output_type": "stream",
          "name": "stdout",
          "text": [
            "13/13 [==============================] - 5s 366ms/step\n"
          ]
        },
        {
          "output_type": "execute_result",
          "data": {
            "text/plain": [
              "array([[8.2236253e-02, 8.2993530e-02, 1.3274819e-04, ..., 3.3313847e-01,\n",
              "        2.2073217e-01, 5.7364505e-02],\n",
              "       [9.7507226e-01, 3.2630283e-02, 7.0102169e-04, ..., 2.3516418e-01,\n",
              "        5.9916764e-02, 2.4602646e-03],\n",
              "       [9.6376914e-01, 7.9833281e-01, 1.0248142e-02, ..., 4.9962099e-03,\n",
              "        3.2701131e-02, 3.9017152e-02],\n",
              "       ...,\n",
              "       [4.4252090e-02, 1.1410884e-01, 1.4067977e-03, ..., 1.3462026e-01,\n",
              "        7.4716553e-02, 3.6329467e-02],\n",
              "       [5.0951988e-02, 2.3777980e-01, 2.9711396e-04, ..., 1.1669300e-01,\n",
              "        2.0584992e-01, 7.3611468e-02],\n",
              "       [2.5226668e-01, 4.3160986e-02, 1.2624636e-04, ..., 2.2960226e-01,\n",
              "        1.0963456e-01, 8.7910652e-02]], dtype=float32)"
            ]
          },
          "metadata": {},
          "execution_count": 40
        }
      ]
    },
    {
      "cell_type": "code",
      "source": [
        "multilabel_binarizer.inverse_transform(y_pred.round())[0:10]"
      ],
      "metadata": {
        "colab": {
          "base_uri": "https://localhost:8080/"
        },
        "id": "synrFAgGK4WV",
        "outputId": "d064d3cd-386c-4fdc-fc6b-d85931f2ff92"
      },
      "id": "synrFAgGK4WV",
      "execution_count": 43,
      "outputs": [
        {
          "output_type": "execute_result",
          "data": {
            "text/plain": [
              "[('Drama',),\n",
              " ('Action', 'Crime', 'Drama'),\n",
              " ('Action', 'Adventure'),\n",
              " ('Action', 'Drama', 'War'),\n",
              " ('Action', 'Crime', 'Drama'),\n",
              " ('Biography', 'Crime', 'Drama'),\n",
              " ('Action', 'Adventure'),\n",
              " ('Drama',),\n",
              " ('Action', 'Drama'),\n",
              " ('Action', 'Drama')]"
            ]
          },
          "metadata": {},
          "execution_count": 43
        }
      ]
    },
    {
      "cell_type": "code",
      "source": [
        "multilabel_binarizer.inverse_transform(y_test)[0:10]"
      ],
      "metadata": {
        "colab": {
          "base_uri": "https://localhost:8080/"
        },
        "id": "IAHHqHlaMUsC",
        "outputId": "87909a2a-2783-4fc6-e295-cdffd300c128"
      },
      "id": "IAHHqHlaMUsC",
      "execution_count": 45,
      "outputs": [
        {
          "output_type": "execute_result",
          "data": {
            "text/plain": [
              "[('Action', 'Adventure', 'Biography'),\n",
              " ('Action', 'Sci-Fi'),\n",
              " ('Action', 'Drama', 'Fantasy'),\n",
              " ('Action', 'Adventure', 'Drama'),\n",
              " ('Action', 'Crime', 'Drama'),\n",
              " ('Action', 'Adventure', 'Mystery'),\n",
              " ('Action', 'Adventure', 'Fantasy'),\n",
              " ('Action', 'Drama', 'War'),\n",
              " ('Action', 'Crime', 'Drama'),\n",
              " ('Action', 'Adventure', 'Fantasy')]"
            ]
          },
          "metadata": {},
          "execution_count": 45
        }
      ]
    },
    {
      "cell_type": "code",
      "execution_count": 74,
      "id": "80b4b209-ce6c-47a1-baa6-e620aedec28d",
      "metadata": {
        "colab": {
          "base_uri": "https://localhost:8080/"
        },
        "id": "80b4b209-ce6c-47a1-baa6-e620aedec28d",
        "outputId": "f2001f89-3702-4a4b-e5dc-94ef300c5f55"
      },
      "outputs": [
        {
          "output_type": "stream",
          "name": "stderr",
          "text": [
            "/usr/local/lib/python3.10/dist-packages/transformers/generation/tf_utils.py:465: UserWarning: `seed_generator` is deprecated and will be removed in a future version.\n",
            "  warnings.warn(\"`seed_generator` is deprecated and will be removed in a future version.\", UserWarning)\n"
          ]
        }
      ],
      "source": [
        "pickle.dump(multimodal_model, open('/content/drive/MyDrive/multimodal_model.pkl','wb'))"
      ]
    }
  ],
  "metadata": {
    "accelerator": "GPU",
    "colab": {
      "gpuType": "T4",
      "machine_shape": "hm",
      "provenance": []
    },
    "kernelspec": {
      "display_name": "Python 3",
      "name": "python3"
    },
    "language_info": {
      "codemirror_mode": {
        "name": "ipython",
        "version": 3
      },
      "file_extension": ".py",
      "mimetype": "text/x-python",
      "name": "python",
      "nbconvert_exporter": "python",
      "pygments_lexer": "ipython3",
      "version": "3.10.6"
    },
    "widgets": {
      "application/vnd.jupyter.widget-state+json": {
        "88870423e0b5417a9fe1d43d6fd970bf": {
          "model_module": "@jupyter-widgets/controls",
          "model_name": "HBoxModel",
          "model_module_version": "1.5.0",
          "state": {
            "_dom_classes": [],
            "_model_module": "@jupyter-widgets/controls",
            "_model_module_version": "1.5.0",
            "_model_name": "HBoxModel",
            "_view_count": null,
            "_view_module": "@jupyter-widgets/controls",
            "_view_module_version": "1.5.0",
            "_view_name": "HBoxView",
            "box_style": "",
            "children": [
              "IPY_MODEL_707b727b28a842ebb07341442e0e853d",
              "IPY_MODEL_ee23d41e207e48c8acb0d6f652eb17f2",
              "IPY_MODEL_cb0933081686461796ba9888dbe90ce1"
            ],
            "layout": "IPY_MODEL_e44e76ef6abe420cb4d66b86c155f693"
          }
        },
        "707b727b28a842ebb07341442e0e853d": {
          "model_module": "@jupyter-widgets/controls",
          "model_name": "HTMLModel",
          "model_module_version": "1.5.0",
          "state": {
            "_dom_classes": [],
            "_model_module": "@jupyter-widgets/controls",
            "_model_module_version": "1.5.0",
            "_model_name": "HTMLModel",
            "_view_count": null,
            "_view_module": "@jupyter-widgets/controls",
            "_view_module_version": "1.5.0",
            "_view_name": "HTMLView",
            "description": "",
            "description_tooltip": null,
            "layout": "IPY_MODEL_72be679c79d249df8648c0465e5c2085",
            "placeholder": "​",
            "style": "IPY_MODEL_407d9966843342e88a588e940332c568",
            "value": "Downloading model.safetensors: 100%"
          }
        },
        "ee23d41e207e48c8acb0d6f652eb17f2": {
          "model_module": "@jupyter-widgets/controls",
          "model_name": "FloatProgressModel",
          "model_module_version": "1.5.0",
          "state": {
            "_dom_classes": [],
            "_model_module": "@jupyter-widgets/controls",
            "_model_module_version": "1.5.0",
            "_model_name": "FloatProgressModel",
            "_view_count": null,
            "_view_module": "@jupyter-widgets/controls",
            "_view_module_version": "1.5.0",
            "_view_name": "ProgressView",
            "bar_style": "success",
            "description": "",
            "description_tooltip": null,
            "layout": "IPY_MODEL_835b1e74bcee462381bee113a79a1fda",
            "max": 440449768,
            "min": 0,
            "orientation": "horizontal",
            "style": "IPY_MODEL_fe64dc2124be4e96929879b71849fc28",
            "value": 440449768
          }
        },
        "cb0933081686461796ba9888dbe90ce1": {
          "model_module": "@jupyter-widgets/controls",
          "model_name": "HTMLModel",
          "model_module_version": "1.5.0",
          "state": {
            "_dom_classes": [],
            "_model_module": "@jupyter-widgets/controls",
            "_model_module_version": "1.5.0",
            "_model_name": "HTMLModel",
            "_view_count": null,
            "_view_module": "@jupyter-widgets/controls",
            "_view_module_version": "1.5.0",
            "_view_name": "HTMLView",
            "description": "",
            "description_tooltip": null,
            "layout": "IPY_MODEL_4b727a1d12ac4a59ba16a8bea8f9b579",
            "placeholder": "​",
            "style": "IPY_MODEL_bf03c03fc7b1489fa307f1ae52642bb2",
            "value": " 440M/440M [00:00&lt;00:00, 534MB/s]"
          }
        },
        "e44e76ef6abe420cb4d66b86c155f693": {
          "model_module": "@jupyter-widgets/base",
          "model_name": "LayoutModel",
          "model_module_version": "1.2.0",
          "state": {
            "_model_module": "@jupyter-widgets/base",
            "_model_module_version": "1.2.0",
            "_model_name": "LayoutModel",
            "_view_count": null,
            "_view_module": "@jupyter-widgets/base",
            "_view_module_version": "1.2.0",
            "_view_name": "LayoutView",
            "align_content": null,
            "align_items": null,
            "align_self": null,
            "border": null,
            "bottom": null,
            "display": null,
            "flex": null,
            "flex_flow": null,
            "grid_area": null,
            "grid_auto_columns": null,
            "grid_auto_flow": null,
            "grid_auto_rows": null,
            "grid_column": null,
            "grid_gap": null,
            "grid_row": null,
            "grid_template_areas": null,
            "grid_template_columns": null,
            "grid_template_rows": null,
            "height": null,
            "justify_content": null,
            "justify_items": null,
            "left": null,
            "margin": null,
            "max_height": null,
            "max_width": null,
            "min_height": null,
            "min_width": null,
            "object_fit": null,
            "object_position": null,
            "order": null,
            "overflow": null,
            "overflow_x": null,
            "overflow_y": null,
            "padding": null,
            "right": null,
            "top": null,
            "visibility": null,
            "width": null
          }
        },
        "72be679c79d249df8648c0465e5c2085": {
          "model_module": "@jupyter-widgets/base",
          "model_name": "LayoutModel",
          "model_module_version": "1.2.0",
          "state": {
            "_model_module": "@jupyter-widgets/base",
            "_model_module_version": "1.2.0",
            "_model_name": "LayoutModel",
            "_view_count": null,
            "_view_module": "@jupyter-widgets/base",
            "_view_module_version": "1.2.0",
            "_view_name": "LayoutView",
            "align_content": null,
            "align_items": null,
            "align_self": null,
            "border": null,
            "bottom": null,
            "display": null,
            "flex": null,
            "flex_flow": null,
            "grid_area": null,
            "grid_auto_columns": null,
            "grid_auto_flow": null,
            "grid_auto_rows": null,
            "grid_column": null,
            "grid_gap": null,
            "grid_row": null,
            "grid_template_areas": null,
            "grid_template_columns": null,
            "grid_template_rows": null,
            "height": null,
            "justify_content": null,
            "justify_items": null,
            "left": null,
            "margin": null,
            "max_height": null,
            "max_width": null,
            "min_height": null,
            "min_width": null,
            "object_fit": null,
            "object_position": null,
            "order": null,
            "overflow": null,
            "overflow_x": null,
            "overflow_y": null,
            "padding": null,
            "right": null,
            "top": null,
            "visibility": null,
            "width": null
          }
        },
        "407d9966843342e88a588e940332c568": {
          "model_module": "@jupyter-widgets/controls",
          "model_name": "DescriptionStyleModel",
          "model_module_version": "1.5.0",
          "state": {
            "_model_module": "@jupyter-widgets/controls",
            "_model_module_version": "1.5.0",
            "_model_name": "DescriptionStyleModel",
            "_view_count": null,
            "_view_module": "@jupyter-widgets/base",
            "_view_module_version": "1.2.0",
            "_view_name": "StyleView",
            "description_width": ""
          }
        },
        "835b1e74bcee462381bee113a79a1fda": {
          "model_module": "@jupyter-widgets/base",
          "model_name": "LayoutModel",
          "model_module_version": "1.2.0",
          "state": {
            "_model_module": "@jupyter-widgets/base",
            "_model_module_version": "1.2.0",
            "_model_name": "LayoutModel",
            "_view_count": null,
            "_view_module": "@jupyter-widgets/base",
            "_view_module_version": "1.2.0",
            "_view_name": "LayoutView",
            "align_content": null,
            "align_items": null,
            "align_self": null,
            "border": null,
            "bottom": null,
            "display": null,
            "flex": null,
            "flex_flow": null,
            "grid_area": null,
            "grid_auto_columns": null,
            "grid_auto_flow": null,
            "grid_auto_rows": null,
            "grid_column": null,
            "grid_gap": null,
            "grid_row": null,
            "grid_template_areas": null,
            "grid_template_columns": null,
            "grid_template_rows": null,
            "height": null,
            "justify_content": null,
            "justify_items": null,
            "left": null,
            "margin": null,
            "max_height": null,
            "max_width": null,
            "min_height": null,
            "min_width": null,
            "object_fit": null,
            "object_position": null,
            "order": null,
            "overflow": null,
            "overflow_x": null,
            "overflow_y": null,
            "padding": null,
            "right": null,
            "top": null,
            "visibility": null,
            "width": null
          }
        },
        "fe64dc2124be4e96929879b71849fc28": {
          "model_module": "@jupyter-widgets/controls",
          "model_name": "ProgressStyleModel",
          "model_module_version": "1.5.0",
          "state": {
            "_model_module": "@jupyter-widgets/controls",
            "_model_module_version": "1.5.0",
            "_model_name": "ProgressStyleModel",
            "_view_count": null,
            "_view_module": "@jupyter-widgets/base",
            "_view_module_version": "1.2.0",
            "_view_name": "StyleView",
            "bar_color": null,
            "description_width": ""
          }
        },
        "4b727a1d12ac4a59ba16a8bea8f9b579": {
          "model_module": "@jupyter-widgets/base",
          "model_name": "LayoutModel",
          "model_module_version": "1.2.0",
          "state": {
            "_model_module": "@jupyter-widgets/base",
            "_model_module_version": "1.2.0",
            "_model_name": "LayoutModel",
            "_view_count": null,
            "_view_module": "@jupyter-widgets/base",
            "_view_module_version": "1.2.0",
            "_view_name": "LayoutView",
            "align_content": null,
            "align_items": null,
            "align_self": null,
            "border": null,
            "bottom": null,
            "display": null,
            "flex": null,
            "flex_flow": null,
            "grid_area": null,
            "grid_auto_columns": null,
            "grid_auto_flow": null,
            "grid_auto_rows": null,
            "grid_column": null,
            "grid_gap": null,
            "grid_row": null,
            "grid_template_areas": null,
            "grid_template_columns": null,
            "grid_template_rows": null,
            "height": null,
            "justify_content": null,
            "justify_items": null,
            "left": null,
            "margin": null,
            "max_height": null,
            "max_width": null,
            "min_height": null,
            "min_width": null,
            "object_fit": null,
            "object_position": null,
            "order": null,
            "overflow": null,
            "overflow_x": null,
            "overflow_y": null,
            "padding": null,
            "right": null,
            "top": null,
            "visibility": null,
            "width": null
          }
        },
        "bf03c03fc7b1489fa307f1ae52642bb2": {
          "model_module": "@jupyter-widgets/controls",
          "model_name": "DescriptionStyleModel",
          "model_module_version": "1.5.0",
          "state": {
            "_model_module": "@jupyter-widgets/controls",
            "_model_module_version": "1.5.0",
            "_model_name": "DescriptionStyleModel",
            "_view_count": null,
            "_view_module": "@jupyter-widgets/base",
            "_view_module_version": "1.2.0",
            "_view_name": "StyleView",
            "description_width": ""
          }
        }
      }
    }
  },
  "nbformat": 4,
  "nbformat_minor": 5
}