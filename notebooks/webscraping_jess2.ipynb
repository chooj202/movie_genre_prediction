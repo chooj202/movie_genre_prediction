{
 "cells": [
  {
   "cell_type": "code",
   "execution_count": 8,
   "id": "276be6eb-33e2-42d8-8861-199d8e803480",
   "metadata": {
    "scrolled": true
   },
   "outputs": [
    {
     "name": "stdout",
     "output_type": "stream",
     "text": [
      "Collecting pandas\n",
      "  Obtaining dependency information for pandas from https://files.pythonhosted.org/packages/e3/59/35a2892bf09ded9c1bf3804461efe772836a5261ef5dfb4e264ce813ff99/pandas-2.0.3-cp310-cp310-manylinux_2_17_x86_64.manylinux2014_x86_64.whl.metadata\n",
      "  Downloading pandas-2.0.3-cp310-cp310-manylinux_2_17_x86_64.manylinux2014_x86_64.whl.metadata (18 kB)\n",
      "Requirement already satisfied: python-dateutil>=2.8.2 in /home/jessica/.pyenv/versions/3.10.6/envs/movie_genre_prediction/lib/python3.10/site-packages (from pandas) (2.8.2)\n",
      "Collecting pytz>=2020.1 (from pandas)\n",
      "  Using cached pytz-2023.3-py2.py3-none-any.whl (502 kB)\n",
      "Collecting tzdata>=2022.1 (from pandas)\n",
      "  Downloading tzdata-2023.3-py2.py3-none-any.whl (341 kB)\n",
      "\u001b[2K     \u001b[90m━━━━━━━━━━━━━━━━━━━━━━━━━━━━━━━━━━━━━━━\u001b[0m \u001b[32m341.8/341.8 kB\u001b[0m \u001b[31m5.0 MB/s\u001b[0m eta \u001b[36m0:00:00\u001b[0ma \u001b[36m0:00:01\u001b[0m\n",
      "\u001b[?25hRequirement already satisfied: numpy>=1.21.0 in /home/jessica/.pyenv/versions/3.10.6/envs/movie_genre_prediction/lib/python3.10/site-packages (from pandas) (1.25.2)\n",
      "Requirement already satisfied: six>=1.5 in /home/jessica/.pyenv/versions/3.10.6/envs/movie_genre_prediction/lib/python3.10/site-packages (from python-dateutil>=2.8.2->pandas) (1.16.0)\n",
      "Downloading pandas-2.0.3-cp310-cp310-manylinux_2_17_x86_64.manylinux2014_x86_64.whl (12.3 MB)\n",
      "\u001b[2K   \u001b[90m━━━━━━━━━━━━━━━━━━━━━━━━━━━━━━━━━━━━━━━━\u001b[0m \u001b[32m12.3/12.3 MB\u001b[0m \u001b[31m7.2 MB/s\u001b[0m eta \u001b[36m0:00:00\u001b[0m00:01\u001b[0m00:01\u001b[0m\n",
      "\u001b[?25hInstalling collected packages: pytz, tzdata, pandas\n",
      "Successfully installed pandas-2.0.3 pytz-2023.3 tzdata-2023.3\n"
     ]
    }
   ],
   "source": [
    "!pip install pandas"
   ]
  },
  {
   "cell_type": "code",
   "execution_count": 6,
   "id": "56cea406-c362-4ab7-a892-c57cafda578b",
   "metadata": {
    "scrolled": true
   },
   "outputs": [
    {
     "name": "stdout",
     "output_type": "stream",
     "text": [
      "Collecting numpy\n",
      "  Obtaining dependency information for numpy from https://files.pythonhosted.org/packages/71/3c/3b1981c6a1986adc9ee7db760c0c34ea5b14ac3da9ecfcf1ea2a4ec6c398/numpy-1.25.2-cp310-cp310-manylinux_2_17_x86_64.manylinux2014_x86_64.whl.metadata\n",
      "  Downloading numpy-1.25.2-cp310-cp310-manylinux_2_17_x86_64.manylinux2014_x86_64.whl.metadata (5.6 kB)\n",
      "Downloading numpy-1.25.2-cp310-cp310-manylinux_2_17_x86_64.manylinux2014_x86_64.whl (18.2 MB)\n",
      "\u001b[2K   \u001b[90m━━━━━━━━━━━━━━━━━━━━━━━━━━━━━━━━━━━━━━━━\u001b[0m \u001b[32m18.2/18.2 MB\u001b[0m \u001b[31m6.5 MB/s\u001b[0m eta \u001b[36m0:00:00\u001b[0m00:01\u001b[0m00:01\u001b[0m\n",
      "\u001b[?25hInstalling collected packages: numpy\n",
      "Successfully installed numpy-1.25.2\n"
     ]
    }
   ],
   "source": [
    "!pip install numpy"
   ]
  },
  {
   "cell_type": "code",
   "execution_count": 10,
   "id": "9af6719f-1e94-450d-9b56-655521099b46",
   "metadata": {},
   "outputs": [
    {
     "name": "stdout",
     "output_type": "stream",
     "text": [
      "Collecting seaborn\n",
      "  Using cached seaborn-0.12.2-py3-none-any.whl (293 kB)\n",
      "Requirement already satisfied: numpy!=1.24.0,>=1.17 in /home/jessica/.pyenv/versions/3.10.6/envs/movie_genre_prediction/lib/python3.10/site-packages (from seaborn) (1.25.2)\n",
      "Requirement already satisfied: pandas>=0.25 in /home/jessica/.pyenv/versions/3.10.6/envs/movie_genre_prediction/lib/python3.10/site-packages (from seaborn) (2.0.3)\n",
      "Collecting matplotlib!=3.6.1,>=3.1 (from seaborn)\n",
      "  Obtaining dependency information for matplotlib!=3.6.1,>=3.1 from https://files.pythonhosted.org/packages/c2/da/a5622266952ab05dc3995d77689cba600e49ea9d6c51d469c077695cb719/matplotlib-3.7.2-cp310-cp310-manylinux_2_17_x86_64.manylinux2014_x86_64.whl.metadata\n",
      "  Downloading matplotlib-3.7.2-cp310-cp310-manylinux_2_17_x86_64.manylinux2014_x86_64.whl.metadata (5.6 kB)\n",
      "Collecting contourpy>=1.0.1 (from matplotlib!=3.6.1,>=3.1->seaborn)\n",
      "  Obtaining dependency information for contourpy>=1.0.1 from https://files.pythonhosted.org/packages/aa/55/02c6d24804592b862b38a85c9b3283edc245081390a520ccd11697b6b24f/contourpy-1.1.0-cp310-cp310-manylinux_2_17_x86_64.manylinux2014_x86_64.whl.metadata\n",
      "  Downloading contourpy-1.1.0-cp310-cp310-manylinux_2_17_x86_64.manylinux2014_x86_64.whl.metadata (5.7 kB)\n",
      "Collecting cycler>=0.10 (from matplotlib!=3.6.1,>=3.1->seaborn)\n",
      "  Using cached cycler-0.11.0-py3-none-any.whl (6.4 kB)\n",
      "Collecting fonttools>=4.22.0 (from matplotlib!=3.6.1,>=3.1->seaborn)\n",
      "  Obtaining dependency information for fonttools>=4.22.0 from https://files.pythonhosted.org/packages/87/61/f50ab3237b0cbf2b0be12274227f912d30f94e2b93fb8bae92c91107eee8/fonttools-4.42.0-cp310-cp310-manylinux_2_17_x86_64.manylinux2014_x86_64.whl.metadata\n",
      "  Downloading fonttools-4.42.0-cp310-cp310-manylinux_2_17_x86_64.manylinux2014_x86_64.whl.metadata (150 kB)\n",
      "\u001b[2K     \u001b[90m━━━━━━━━━━━━━━━━━━━━━━━━━━━━━━━━━━━━━━━\u001b[0m \u001b[32m150.6/150.6 kB\u001b[0m \u001b[31m2.9 MB/s\u001b[0m eta \u001b[36m0:00:00\u001b[0ma \u001b[36m0:00:01\u001b[0m\n",
      "\u001b[?25hCollecting kiwisolver>=1.0.1 (from matplotlib!=3.6.1,>=3.1->seaborn)\n",
      "  Using cached kiwisolver-1.4.4-cp310-cp310-manylinux_2_12_x86_64.manylinux2010_x86_64.whl (1.6 MB)\n",
      "Requirement already satisfied: packaging>=20.0 in /home/jessica/.pyenv/versions/3.10.6/envs/movie_genre_prediction/lib/python3.10/site-packages (from matplotlib!=3.6.1,>=3.1->seaborn) (23.1)\n",
      "Collecting pillow>=6.2.0 (from matplotlib!=3.6.1,>=3.1->seaborn)\n",
      "  Obtaining dependency information for pillow>=6.2.0 from https://files.pythonhosted.org/packages/3d/36/e78f09d510354977e10102dd811e928666021d9c451e05df962d56477772/Pillow-10.0.0-cp310-cp310-manylinux_2_28_x86_64.whl.metadata\n",
      "  Downloading Pillow-10.0.0-cp310-cp310-manylinux_2_28_x86_64.whl.metadata (9.5 kB)\n",
      "Collecting pyparsing<3.1,>=2.3.1 (from matplotlib!=3.6.1,>=3.1->seaborn)\n",
      "  Using cached pyparsing-3.0.9-py3-none-any.whl (98 kB)\n",
      "Requirement already satisfied: python-dateutil>=2.7 in /home/jessica/.pyenv/versions/3.10.6/envs/movie_genre_prediction/lib/python3.10/site-packages (from matplotlib!=3.6.1,>=3.1->seaborn) (2.8.2)\n",
      "Requirement already satisfied: pytz>=2020.1 in /home/jessica/.pyenv/versions/3.10.6/envs/movie_genre_prediction/lib/python3.10/site-packages (from pandas>=0.25->seaborn) (2023.3)\n",
      "Requirement already satisfied: tzdata>=2022.1 in /home/jessica/.pyenv/versions/3.10.6/envs/movie_genre_prediction/lib/python3.10/site-packages (from pandas>=0.25->seaborn) (2023.3)\n",
      "Requirement already satisfied: six>=1.5 in /home/jessica/.pyenv/versions/3.10.6/envs/movie_genre_prediction/lib/python3.10/site-packages (from python-dateutil>=2.7->matplotlib!=3.6.1,>=3.1->seaborn) (1.16.0)\n",
      "Using cached matplotlib-3.7.2-cp310-cp310-manylinux_2_17_x86_64.manylinux2014_x86_64.whl (11.6 MB)\n",
      "Using cached contourpy-1.1.0-cp310-cp310-manylinux_2_17_x86_64.manylinux2014_x86_64.whl (300 kB)\n",
      "Downloading fonttools-4.42.0-cp310-cp310-manylinux_2_17_x86_64.manylinux2014_x86_64.whl (4.5 MB)\n",
      "\u001b[2K   \u001b[90m━━━━━━━━━━━━━━━━━━━━━━━━━━━━━━━━━━━━━━━━\u001b[0m \u001b[32m4.5/4.5 MB\u001b[0m \u001b[31m6.6 MB/s\u001b[0m eta \u001b[36m0:00:00\u001b[0m00:01\u001b[0m00:01\u001b[0m\n",
      "\u001b[?25hUsing cached Pillow-10.0.0-cp310-cp310-manylinux_2_28_x86_64.whl (3.4 MB)\n",
      "Installing collected packages: pyparsing, pillow, kiwisolver, fonttools, cycler, contourpy, matplotlib, seaborn\n",
      "Successfully installed contourpy-1.1.0 cycler-0.11.0 fonttools-4.42.0 kiwisolver-1.4.4 matplotlib-3.7.2 pillow-10.0.0 pyparsing-3.0.9 seaborn-0.12.2\n"
     ]
    }
   ],
   "source": [
    "!pip install seaborn"
   ]
  },
  {
   "cell_type": "code",
   "execution_count": 11,
   "id": "38bb12d6-268b-4685-aae0-bf322613f8ff",
   "metadata": {},
   "outputs": [],
   "source": [
    "from requests import get\n",
    "from bs4 import BeautifulSoup\n",
    "from warnings import warn\n",
    "from time import sleep\n",
    "from random import randint\n",
    "import numpy as np\n",
    "import pandas as pd\n",
    "import seaborn as sns"
   ]
  },
  {
   "cell_type": "code",
   "execution_count": 145,
   "id": "2d40b4aa-29cd-4102-940f-627e138edc19",
   "metadata": {},
   "outputs": [],
   "source": [
    "def scrapping(genre):\n",
    "    pages = [1,51,101,151,201]\n",
    "    URL1 = f'https://www.imdb.com/search/title/?title_type=feature&num_votes=10000,&genres={genre}&languages=en&sort=user_rating,desc&start='\n",
    "    URL2 = '&explore=genres&ref_=adv_nxt'\n",
    "    headers = {'Accept-Language': 'en-US,en;q=0.8'} # If this is not specified, the default language is Mandarin\n",
    "    \n",
    "    #initialize empty lists to store the variables scraped\n",
    "    genre_titles = []\n",
    "    genre_imdb_ids = []\n",
    "    genre_genres = []\n",
    "    genre_imgdata = []\n",
    "    genre_plot = []\n",
    "    \n",
    "    for page in pages:\n",
    "      \n",
    "       #get request for adventure\n",
    "       response = get(URL1\n",
    "                      + str(page)\n",
    "                      + URL2, headers=headers)\n",
    "      \n",
    "       sleep(randint(8,15))\n",
    "       \n",
    "       #throw warning for status codes that are not 200\n",
    "       if response.status_code != 200:\n",
    "           warn('Request: {}; Status code: {}'.format(requests, response.status_code))\n",
    "    \n",
    "       #parse the content of current iteration of request\n",
    "       page_html = BeautifulSoup(response.text, 'html.parser')\n",
    "          \n",
    "       movie_containers = page_html.find_all('div', class_ = 'lister-item mode-advanced')\n",
    "      \n",
    "       #extract the 50 movies for that page\n",
    "       for container in movie_containers:\n",
    "    \n",
    "            #title\n",
    "            title = container.h3.a.text\n",
    "            genre_titles.append(title)\n",
    "    \n",
    "            #imdb_id\n",
    "            imdb_id = container.find('a')['href'].strip().split('/')[-2]\n",
    "            genre_imdb_ids.append(imdb_id)\n",
    "    \n",
    "            #images\n",
    "            img = f'http://img.omdbapi.com/?i={imdb_id}&h=600&apikey=7c8ba5e4'\n",
    "            genre_imgdata.append(img)\n",
    "                \n",
    "            #genre\n",
    "            genre_name = container.p.find('span', class_ = 'genre').text.replace(\"\\n\", \"\").rstrip().split(',') # remove the whitespace character, strip, and split to create an array of genres\n",
    "            genre_genres.append(genre_name)\n",
    "\n",
    "            #plot\n",
    "            plot_url = f'https://www.omdbapi.com/?i={imdb_id}&apikey=7c8ba5e4&plot=full'\n",
    "            response = requests.get(plot_url)\n",
    "            response.raise_for_status()  # raises exception when not a 2xx response\n",
    "            if response.status_code != 204:\n",
    "                response = response.json()\n",
    "            genre_plot.append(response['Plot'])\n",
    "    \n",
    "    df = pd.DataFrame({'movie': genre_titles,\n",
    "                          'imdb_id': genre_imdb_ids,\n",
    "                          'genre': genre_genres,\n",
    "                       'plot':genre_plot,\n",
    "                        'image_url':genre_imgdata}\n",
    "                              )\n",
    "    return df"
   ]
  },
  {
   "cell_type": "code",
   "execution_count": 144,
   "id": "f2e28788-7d11-4d8c-84e0-4b1a2f5065a6",
   "metadata": {},
   "outputs": [
    {
     "data": {
      "text/plain": [
       "'In the end of the nineteenth century, in London, Robert Angier, his beloved wife Julia McCullough, and Alfred Borden are friends and assistants of a magician. When Julia accidentally dies during a performance, Robert blames Alfred for her death, and they become enemies. Both become famous and rival magicians, sabotaging the performance of the other on the stage. When Alfred performs a successful trick, Robert becomes obsessed trying to disclose the secret of his competitor with tragic consequences.'"
      ]
     },
     "execution_count": 144,
     "metadata": {},
     "output_type": "execute_result"
    }
   ],
   "source": [
    "imdb_id = 'tt0482571'\n",
    "plot_url = f'https://www.omdbapi.com/?i={imdb_id}&apikey=7c8ba5e4&plot=full'\n",
    "response = requests.get(plot_url)\n",
    "response.raise_for_status()  # raises exception when not a 2xx response\n",
    "if response.status_code != 204:\n",
    "    response = response.json()\n",
    "response['Plot']"
   ]
  },
  {
   "cell_type": "code",
   "execution_count": 146,
   "id": "c8cd2e76-b4d4-4cff-8d01-4020ad4a7780",
   "metadata": {},
   "outputs": [],
   "source": [
    "mystery_df = scrapping(\"mystery\")"
   ]
  },
  {
   "cell_type": "code",
   "execution_count": 147,
   "id": "3a3f27b9-9f7f-42d0-8c9a-ff9a8c9affd3",
   "metadata": {},
   "outputs": [
    {
     "data": {
      "text/html": [
       "<div>\n",
       "<style scoped>\n",
       "    .dataframe tbody tr th:only-of-type {\n",
       "        vertical-align: middle;\n",
       "    }\n",
       "\n",
       "    .dataframe tbody tr th {\n",
       "        vertical-align: top;\n",
       "    }\n",
       "\n",
       "    .dataframe thead th {\n",
       "        text-align: right;\n",
       "    }\n",
       "</style>\n",
       "<table border=\"1\" class=\"dataframe\">\n",
       "  <thead>\n",
       "    <tr style=\"text-align: right;\">\n",
       "      <th></th>\n",
       "      <th>movie</th>\n",
       "      <th>imdb_id</th>\n",
       "      <th>genre</th>\n",
       "      <th>plot</th>\n",
       "      <th>image_url</th>\n",
       "    </tr>\n",
       "  </thead>\n",
       "  <tbody>\n",
       "    <tr>\n",
       "      <th>0</th>\n",
       "      <td>Se7en</td>\n",
       "      <td>tt0114369</td>\n",
       "      <td>[Crime,  Drama,  Mystery]</td>\n",
       "      <td>A film about two homicide detectives' (Morgan ...</td>\n",
       "      <td>http://img.omdbapi.com/?i=tt0114369&amp;h=600&amp;apik...</td>\n",
       "    </tr>\n",
       "    <tr>\n",
       "      <th>1</th>\n",
       "      <td>The Green Mile</td>\n",
       "      <td>tt0120689</td>\n",
       "      <td>[Crime,  Drama,  Fantasy]</td>\n",
       "      <td>Death Row guards at a penitentiary, in the 193...</td>\n",
       "      <td>http://img.omdbapi.com/?i=tt0120689&amp;h=600&amp;apik...</td>\n",
       "    </tr>\n",
       "    <tr>\n",
       "      <th>2</th>\n",
       "      <td>The Prestige</td>\n",
       "      <td>tt0482571</td>\n",
       "      <td>[Drama,  Mystery,  Sci-Fi]</td>\n",
       "      <td>In the end of the nineteenth century, in Londo...</td>\n",
       "      <td>http://img.omdbapi.com/?i=tt0482571&amp;h=600&amp;apik...</td>\n",
       "    </tr>\n",
       "    <tr>\n",
       "      <th>3</th>\n",
       "      <td>The Usual Suspects</td>\n",
       "      <td>tt0114814</td>\n",
       "      <td>[Crime,  Drama,  Mystery]</td>\n",
       "      <td>Following a truck hijack in New York, five cri...</td>\n",
       "      <td>http://img.omdbapi.com/?i=tt0114814&amp;h=600&amp;apik...</td>\n",
       "    </tr>\n",
       "    <tr>\n",
       "      <th>4</th>\n",
       "      <td>Psycho</td>\n",
       "      <td>tt0054215</td>\n",
       "      <td>[Horror,  Mystery,  Thriller]</td>\n",
       "      <td>Phoenix office worker Marion Crane is fed up w...</td>\n",
       "      <td>http://img.omdbapi.com/?i=tt0054215&amp;h=600&amp;apik...</td>\n",
       "    </tr>\n",
       "    <tr>\n",
       "      <th>...</th>\n",
       "      <td>...</td>\n",
       "      <td>...</td>\n",
       "      <td>...</td>\n",
       "      <td>...</td>\n",
       "      <td>...</td>\n",
       "    </tr>\n",
       "    <tr>\n",
       "      <th>245</th>\n",
       "      <td>Nothing But the Truth</td>\n",
       "      <td>tt1073241</td>\n",
       "      <td>[Crime,  Drama,  Mystery]</td>\n",
       "      <td>Thinking Pulitzer Prize and hoping to bring do...</td>\n",
       "      <td>http://img.omdbapi.com/?i=tt1073241&amp;h=600&amp;apik...</td>\n",
       "    </tr>\n",
       "    <tr>\n",
       "      <th>246</th>\n",
       "      <td>The Wolf Man</td>\n",
       "      <td>tt0034398</td>\n",
       "      <td>[Horror,  Mystery,  Romance]</td>\n",
       "      <td>Upon the death of his brother, Larry Talbot re...</td>\n",
       "      <td>http://img.omdbapi.com/?i=tt0034398&amp;h=600&amp;apik...</td>\n",
       "    </tr>\n",
       "    <tr>\n",
       "      <th>247</th>\n",
       "      <td>In the Valley of Elah</td>\n",
       "      <td>tt0478134</td>\n",
       "      <td>[Crime,  Drama,  Mystery]</td>\n",
       "      <td>A retired military investigator works with a p...</td>\n",
       "      <td>http://img.omdbapi.com/?i=tt0478134&amp;h=600&amp;apik...</td>\n",
       "    </tr>\n",
       "    <tr>\n",
       "      <th>248</th>\n",
       "      <td>Talaash: The Answer Lies Within</td>\n",
       "      <td>tt1787988</td>\n",
       "      <td>[Crime,  Drama,  Mystery]</td>\n",
       "      <td>Seeing reflections of Mumbai under the red lig...</td>\n",
       "      <td>http://img.omdbapi.com/?i=tt1787988&amp;h=600&amp;apik...</td>\n",
       "    </tr>\n",
       "    <tr>\n",
       "      <th>249</th>\n",
       "      <td>D.O.A.</td>\n",
       "      <td>tt0042369</td>\n",
       "      <td>[Crime,  Drama,  Film-Noir]</td>\n",
       "      <td>Small-town accountant Frank Bigelow goes to Sa...</td>\n",
       "      <td>http://img.omdbapi.com/?i=tt0042369&amp;h=600&amp;apik...</td>\n",
       "    </tr>\n",
       "  </tbody>\n",
       "</table>\n",
       "<p>250 rows × 5 columns</p>\n",
       "</div>"
      ],
      "text/plain": [
       "                               movie    imdb_id  \\\n",
       "0                              Se7en  tt0114369   \n",
       "1                     The Green Mile  tt0120689   \n",
       "2                       The Prestige  tt0482571   \n",
       "3                 The Usual Suspects  tt0114814   \n",
       "4                             Psycho  tt0054215   \n",
       "..                               ...        ...   \n",
       "245            Nothing But the Truth  tt1073241   \n",
       "246                     The Wolf Man  tt0034398   \n",
       "247            In the Valley of Elah  tt0478134   \n",
       "248  Talaash: The Answer Lies Within  tt1787988   \n",
       "249                           D.O.A.  tt0042369   \n",
       "\n",
       "                             genre  \\\n",
       "0        [Crime,  Drama,  Mystery]   \n",
       "1        [Crime,  Drama,  Fantasy]   \n",
       "2       [Drama,  Mystery,  Sci-Fi]   \n",
       "3        [Crime,  Drama,  Mystery]   \n",
       "4    [Horror,  Mystery,  Thriller]   \n",
       "..                             ...   \n",
       "245      [Crime,  Drama,  Mystery]   \n",
       "246   [Horror,  Mystery,  Romance]   \n",
       "247      [Crime,  Drama,  Mystery]   \n",
       "248      [Crime,  Drama,  Mystery]   \n",
       "249    [Crime,  Drama,  Film-Noir]   \n",
       "\n",
       "                                                  plot  \\\n",
       "0    A film about two homicide detectives' (Morgan ...   \n",
       "1    Death Row guards at a penitentiary, in the 193...   \n",
       "2    In the end of the nineteenth century, in Londo...   \n",
       "3    Following a truck hijack in New York, five cri...   \n",
       "4    Phoenix office worker Marion Crane is fed up w...   \n",
       "..                                                 ...   \n",
       "245  Thinking Pulitzer Prize and hoping to bring do...   \n",
       "246  Upon the death of his brother, Larry Talbot re...   \n",
       "247  A retired military investigator works with a p...   \n",
       "248  Seeing reflections of Mumbai under the red lig...   \n",
       "249  Small-town accountant Frank Bigelow goes to Sa...   \n",
       "\n",
       "                                             image_url  \n",
       "0    http://img.omdbapi.com/?i=tt0114369&h=600&apik...  \n",
       "1    http://img.omdbapi.com/?i=tt0120689&h=600&apik...  \n",
       "2    http://img.omdbapi.com/?i=tt0482571&h=600&apik...  \n",
       "3    http://img.omdbapi.com/?i=tt0114814&h=600&apik...  \n",
       "4    http://img.omdbapi.com/?i=tt0054215&h=600&apik...  \n",
       "..                                                 ...  \n",
       "245  http://img.omdbapi.com/?i=tt1073241&h=600&apik...  \n",
       "246  http://img.omdbapi.com/?i=tt0034398&h=600&apik...  \n",
       "247  http://img.omdbapi.com/?i=tt0478134&h=600&apik...  \n",
       "248  http://img.omdbapi.com/?i=tt1787988&h=600&apik...  \n",
       "249  http://img.omdbapi.com/?i=tt0042369&h=600&apik...  \n",
       "\n",
       "[250 rows x 5 columns]"
      ]
     },
     "execution_count": 147,
     "metadata": {},
     "output_type": "execute_result"
    }
   ],
   "source": [
    "mystery_df"
   ]
  },
  {
   "cell_type": "code",
   "execution_count": 148,
   "id": "fa708728-3a35-4d24-8ece-cf93c480a6e3",
   "metadata": {},
   "outputs": [],
   "source": [
    "romance_df = scrapping(\"romance\")"
   ]
  },
  {
   "cell_type": "code",
   "execution_count": 149,
   "id": "6a2f2ae8-f978-43a3-b69a-645cc40dc698",
   "metadata": {},
   "outputs": [],
   "source": [
    "scifi_df = scrapping(\"scifi\")"
   ]
  },
  {
   "cell_type": "code",
   "execution_count": 150,
   "id": "e0fc6f31-fc2f-4835-b8e8-e097f64824bd",
   "metadata": {},
   "outputs": [],
   "source": [
    "sport_df = scrapping(\"sport\")"
   ]
  },
  {
   "cell_type": "code",
   "execution_count": 151,
   "id": "b303c3bf-bc40-4ca4-9030-ae024fb058f0",
   "metadata": {},
   "outputs": [],
   "source": [
    "thriller_df = scrapping(\"thriller\")"
   ]
  },
  {
   "cell_type": "code",
   "execution_count": 152,
   "id": "9b314955-9794-4f40-b40a-a1f4615f86dd",
   "metadata": {},
   "outputs": [],
   "source": [
    "war_df = scrapping(\"war\")"
   ]
  },
  {
   "cell_type": "code",
   "execution_count": 153,
   "id": "3ad4874f-fedf-42fb-aa7c-f03256289d38",
   "metadata": {},
   "outputs": [],
   "source": [
    "western_df = scrapping(\"western\")"
   ]
  },
  {
   "cell_type": "code",
   "execution_count": 154,
   "id": "15af5e64-b547-4cba-9df1-0b4a0c8c15e8",
   "metadata": {},
   "outputs": [],
   "source": [
    "mystery_df.to_csv(\"mystery_df.csv\")"
   ]
  },
  {
   "cell_type": "code",
   "execution_count": 155,
   "id": "8da13e14-a10e-4b19-a61f-cb1476f03ff6",
   "metadata": {},
   "outputs": [],
   "source": [
    "romance_df.to_csv(\"romance_df.csv\")"
   ]
  },
  {
   "cell_type": "code",
   "execution_count": 156,
   "id": "2bc5108a-94d4-4ce2-9e2f-98cba34c4186",
   "metadata": {},
   "outputs": [],
   "source": [
    "scifi_df.to_csv(\"scifi_df.csv\")"
   ]
  },
  {
   "cell_type": "code",
   "execution_count": 157,
   "id": "71756470-da2b-4559-927d-70af74c1cb2c",
   "metadata": {},
   "outputs": [],
   "source": [
    "sport_df.to_csv(\"sport_df.csv\")"
   ]
  },
  {
   "cell_type": "code",
   "execution_count": 158,
   "id": "aff97553-99be-4759-b5d8-34984944f179",
   "metadata": {},
   "outputs": [],
   "source": [
    "thriller_df.to_csv(\"thriller_df.csv\")"
   ]
  },
  {
   "cell_type": "code",
   "execution_count": 159,
   "id": "7ab7b65e-abad-42a8-a9f9-65d473930946",
   "metadata": {},
   "outputs": [],
   "source": [
    "war_df.to_csv(\"war_df.csv\")"
   ]
  },
  {
   "cell_type": "code",
   "execution_count": 160,
   "id": "103de35e-5ee7-4cc3-aea8-d7302896553a",
   "metadata": {},
   "outputs": [],
   "source": [
    "western_df.to_csv(\"western_df.csv\")"
   ]
  },
  {
   "cell_type": "code",
   "execution_count": 177,
   "id": "a4c3ab9e-d172-4d4f-9cf0-b86367b1a1f7",
   "metadata": {},
   "outputs": [
    {
     "data": {
      "text/plain": [
       "\"When Senator Ransom Stoddard returns home to Shinbone for the funeral of Tom Doniphon, he recounts to a local newspaper editor the story behind it all. He had come to town many years before, a lawyer by profession. The stage was robbed on its way in by the local ruffian, Liberty Valance, and Stoddard has nothing to his name left save a few law books. He gets a job in the kitchen at the Ericson's restaurant and there meets his future wife, Hallie. The territory is vying for Statehood and Stoddard is selected as a representative over Valance, who continues terrorizing the town. When he destroys the local newspaper office and attacks the editor, Stoddard calls him out, though the conclusion is not quite as straightforward as legend would have it.\""
      ]
     },
     "execution_count": 177,
     "metadata": {},
     "output_type": "execute_result"
    }
   ],
   "source": [
    "western_df['plot'][6]"
   ]
  },
  {
   "cell_type": "code",
   "execution_count": 161,
   "id": "edbb7006-71f5-4f44-8a23-28c0a8885898",
   "metadata": {},
   "outputs": [],
   "source": [
    "import requests\n",
    "import os\n",
    "\n",
    "def create_dir(directory):\n",
    "    if not os.path.exists(directory):\n",
    "        os.makedirs(directory)\n",
    "    return directory\n",
    "\n",
    "def download_photos(genre, df):\n",
    "    for index, row in df.iterrows():\n",
    "        img_data = requests.get(row['image_url']).content\n",
    "        imdb_id = row['imdb_id']\n",
    "        with open(create_dir(f\"{genre}\") + \"/\" + f'{imdb_id}.jpg', 'wb') as handler:\n",
    "            handler.write(img_data)"
   ]
  },
  {
   "cell_type": "code",
   "execution_count": 162,
   "id": "7abaaa07-23a2-46c3-a45b-142d01ad60ae",
   "metadata": {},
   "outputs": [],
   "source": [
    "download_photos(\"mystery\", mystery_df)"
   ]
  },
  {
   "cell_type": "code",
   "execution_count": 163,
   "id": "3ecebf0c-b6cc-4082-bfb6-413156832c91",
   "metadata": {},
   "outputs": [],
   "source": [
    "download_photos(\"romance\", romance_df)"
   ]
  },
  {
   "cell_type": "code",
   "execution_count": 164,
   "id": "e4d72306-4b9f-4b31-b843-edb8c803f4c8",
   "metadata": {},
   "outputs": [],
   "source": [
    "download_photos(\"scifi\", scifi_df)"
   ]
  },
  {
   "cell_type": "code",
   "execution_count": 165,
   "id": "b73b0e61-33e4-4c98-a13e-f8b814a608d8",
   "metadata": {},
   "outputs": [],
   "source": [
    "download_photos(\"sport\", sport_df)"
   ]
  },
  {
   "cell_type": "code",
   "execution_count": 166,
   "id": "e0e8e6c5-9720-465a-9949-2d0521a5c3c1",
   "metadata": {},
   "outputs": [],
   "source": [
    "download_photos(\"thriller\", thriller_df)"
   ]
  },
  {
   "cell_type": "code",
   "execution_count": 167,
   "id": "805dd4cc-7829-49e5-a68e-ea09b9906e07",
   "metadata": {},
   "outputs": [],
   "source": [
    "download_photos(\"war\", war_df)"
   ]
  },
  {
   "cell_type": "code",
   "execution_count": 168,
   "id": "0348aa9b-04d2-476d-aadf-f3b596dd4b59",
   "metadata": {},
   "outputs": [],
   "source": [
    "download_photos(\"western\", western_df)"
   ]
  },
  {
   "cell_type": "code",
   "execution_count": 81,
   "id": "d9caaafd-3d8e-4a36-b943-8ec637f33e6d",
   "metadata": {},
   "outputs": [
    {
     "name": "stdout",
     "output_type": "stream",
     "text": [
      "On branch webscraping_jess\n",
      "Changes not staged for commit:\n",
      "  (use \"git add <file>...\" to update what will be committed)\n",
      "  (use \"git restore <file>...\" to discard changes in working directory)\n",
      "\t\u001b[31mmodified:   webscraping_jess.ipynb\u001b[m\n",
      "\n",
      "Untracked files:\n",
      "  (use \"git add <file>...\" to include in what will be committed)\n",
      "\t\u001b[31m../.python-version\u001b[m\n",
      "\t\u001b[31m.ipynb_checkpoints/\u001b[m\n",
      "\t\u001b[31mwebscraping.ipynb\u001b[m\n",
      "\n",
      "no changes added to commit (use \"git add\" and/or \"git commit -a\")\n"
     ]
    }
   ],
   "source": [
    "!git status"
   ]
  },
  {
   "cell_type": "code",
   "execution_count": 82,
   "id": "0eaa263a-3e44-4fdc-98c2-018ebbd69ff5",
   "metadata": {},
   "outputs": [],
   "source": [
    "!git add webscraping.ipynb"
   ]
  },
  {
   "cell_type": "code",
   "execution_count": 83,
   "id": "d7ccb8b4-8e28-4afa-97dc-0e355b033ea3",
   "metadata": {},
   "outputs": [
    {
     "name": "stdout",
     "output_type": "stream",
     "text": [
      "[webscraping_jess 1f7e039] webscraping\n",
      " 1 file changed, 0 insertions(+), 0 deletions(-)\n",
      " create mode 100644 notebooks/webscraping.ipynb\n"
     ]
    }
   ],
   "source": [
    "!git commit -m \"webscraping\""
   ]
  },
  {
   "cell_type": "code",
   "execution_count": 84,
   "id": "cb10c0d2-9318-4f81-b031-54bebb4e201d",
   "metadata": {},
   "outputs": [
    {
     "name": "stdout",
     "output_type": "stream",
     "text": [
      "To github.com:chooj202/movie_genre_prediction.git\n",
      " \u001b[31m! [rejected]       \u001b[m webscraping_jess -> webscraping_jess (fetch first)\n",
      "\u001b[31merror: failed to push some refs to 'github.com:chooj202/movie_genre_prediction.git'\n",
      "\u001b[m\u001b[33mhint: Updates were rejected because the remote contains work that you do\u001b[m\n",
      "\u001b[33mhint: not have locally. This is usually caused by another repository pushing\u001b[m\n",
      "\u001b[33mhint: to the same ref. You may want to first integrate the remote changes\u001b[m\n",
      "\u001b[33mhint: (e.g., 'git pull ...') before pushing again.\u001b[m\n",
      "\u001b[33mhint: See the 'Note about fast-forwards' in 'git push --help' for details.\u001b[m\n"
     ]
    }
   ],
   "source": [
    "!git push origin webscraping_jess"
   ]
  },
  {
   "cell_type": "code",
   "execution_count": 86,
   "id": "a7edb0c1-6615-4d95-a670-d15b89b72f70",
   "metadata": {},
   "outputs": [
    {
     "name": "stdout",
     "output_type": "stream",
     "text": [
      "remote: Enumerating objects: 19, done.\u001b[K\n",
      "remote: Counting objects: 100% (19/19), done.\u001b[K\n",
      "remote: Compressing objects: 100% (10/10), done.\u001b[K\n",
      "remote: Total 15 (delta 6), reused 12 (delta 5), pack-reused 0\u001b[K\n",
      "Unpacking objects: 100% (15/15), 3.32 KiB | 243.00 KiB/s, done.\n",
      "From github.com:chooj202/movie_genre_prediction\n",
      " * branch            master     -> FETCH_HEAD\n",
      "   00c39bb..08770b1  master     -> origin/master\n",
      "error: Your local changes to the following files would be overwritten by merge:\n",
      "\tnotebooks/webscraping_jess.ipynb\n",
      "Please commit your changes or stash them before you merge.\n",
      "Aborting\n"
     ]
    }
   ],
   "source": [
    "!git pull origin master"
   ]
  },
  {
   "cell_type": "code",
   "execution_count": 89,
   "id": "c771f782-cbf6-4bf7-b28d-2d6ce5db550a",
   "metadata": {},
   "outputs": [],
   "source": [
    "!git add webscraping_jess.ipynb"
   ]
  }
 ],
 "metadata": {
  "kernelspec": {
   "display_name": "Python 3 (ipykernel)",
   "language": "python",
   "name": "python3"
  },
  "language_info": {
   "codemirror_mode": {
    "name": "ipython",
    "version": 3
   },
   "file_extension": ".py",
   "mimetype": "text/x-python",
   "name": "python",
   "nbconvert_exporter": "python",
   "pygments_lexer": "ipython3",
   "version": "3.10.6"
  }
 },
 "nbformat": 4,
 "nbformat_minor": 5
}
