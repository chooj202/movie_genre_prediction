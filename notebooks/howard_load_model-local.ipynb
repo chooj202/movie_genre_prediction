{
 "cells": [
  {
   "cell_type": "markdown",
   "metadata": {},
   "source": [
    "# Try to load model from local file path"
   ]
  },
  {
   "cell_type": "code",
   "execution_count": 1,
   "metadata": {},
   "outputs": [
    {
     "name": "stderr",
     "output_type": "stream",
     "text": [
      "/Users/howardtangkulung/.pyenv/versions/3.10.6/envs/movie_genre_prediction/lib/python3.10/site-packages/tqdm/auto.py:21: TqdmWarning: IProgress not found. Please update jupyter and ipywidgets. See https://ipywidgets.readthedocs.io/en/stable/user_install.html\n",
      "  from .autonotebook import tqdm as notebook_tqdm\n"
     ]
    }
   ],
   "source": [
    "from tensorflow import keras\n",
    "import transformers\n",
    "import numpy as np"
   ]
  },
  {
   "cell_type": "code",
   "execution_count": 13,
   "metadata": {},
   "outputs": [],
   "source": [
    "from mlops.ml_logic.data import image_preprocessing_multimodal\n",
    "image_file_path = \"../raw_data/large_dataset/folder 1/tt2978102.jpg\"\n",
    "X_img = image_preprocessing_multimodal(image_file_path)"
   ]
  },
  {
   "cell_type": "code",
   "execution_count": 14,
   "metadata": {},
   "outputs": [],
   "source": [
    "from mlops.ml_logic.data import text_preprocessing_multimodal\n",
    "text = \"\"\"\n",
    "The story opens with a woman telling a portion of her people's history on the desert planet, Arrakis. The woman, Chani, is a Fremen. She explains that since before she was born the planet has been ruled by the cruel Harkonnens who have grown enormously rich harvesting the psychogenic substance \"melange\" also known as the spice. The Fremen have been trying to expel the Harkonnens, but to no avail. Recently, however, the Padishah Emperor Shaddam IV has ordered the Harkonnens to leave Arrakis. Chani wonders who the new rulers will be.\n",
    "On the planet Caladan, Paul Atreides eats breakfast with his mother, Lady Jessica, Duke Leto's concubine. A member of the quasi-religious order of the Bene Gesserit, Jessica has been trying to teach her son the special powers of her order. She tests Paul by having him try to compel her to pass him a glass of water. Paul is only partially successful. Paul learns about the planet Arrakis and its people. It is the only source of the psychoactive spice, which extends life and perception. Spice is necessary for interstellar travel since it makes possible the expanded consciousness of the navigators who plot faster than light jumps, \"folding\" space time to travel instantly from one planet to another.\n",
    "Leto Atreides, along with soldier Gurney Halleck and mentat Thufir Hawat, receive an imperial envoy who formalizes the awarding of Arrakis to House Atreides. The emperor fears Leto's growing political power and popularity in the Landsraad, a conclave of noble houses. Leto recognizes that his appointment to oversee Arrakis is a trap of some kind, but cannot refuse an imperial offer. Paul asks his friend, the elite soldier Duncan Idaho to take him along when Duncan goes to Arrakis weeks ahead of time to scout things out. Duncan refuses. Paul confides that he's been having dreams about Arrakis and the Fremen, including one where Duncan falls in battle. Duncan dismisses this as merely a dream, telling Paul that \"Everything important happens when we're awake\".\n",
    "Paul discusses his wish to travel to Arrakis early with his father, but Leto refuses, saying that he needs Paul by his side. He explains the political situation: the emperor has set up a conflict between House Atreides and House Harkonnen, a war which will weaken them both, to the benefit of the Emperor. Leto instead intends to strike an alliance with the Fremen in order to harness their \"desert power\" to his own and outwit the Emperor. Paul expresses his doubts about his ability to succeed his father as a leader. Leto confides his own doubts when he was young and insists that Paul will find his way to leadership, just as he did.\n",
    "Gurney has a sparring session with Paul, insisting that the young ducal heir must be more wary about the danger posed by the Harkonnens and more ruthless in battle. Paul begins to have dreams of Chani. Jessica's Bene Gesserit superior, Reverend Mother Gaius Helen Mohiam arrives on Caladan to test Paul. Before the meeting he is inspected by Suk doctor Wellington Yueh, who warns Paul that the Bene Gesserit have their own agenda. Mo.\n",
    "\"\"\"\n",
    "X_text = text_preprocessing_multimodal(text)"
   ]
  },
  {
   "cell_type": "code",
   "execution_count": 15,
   "metadata": {},
   "outputs": [
    {
     "data": {
      "text/plain": [
       "(1, 128)"
      ]
     },
     "execution_count": 15,
     "metadata": {},
     "output_type": "execute_result"
    }
   ],
   "source": [
    "X_text.shape"
   ]
  },
  {
   "cell_type": "code",
   "execution_count": 16,
   "metadata": {},
   "outputs": [
    {
     "data": {
      "text/plain": [
       "(256, 256, 3)"
      ]
     },
     "execution_count": 16,
     "metadata": {},
     "output_type": "execute_result"
    }
   ],
   "source": [
    "X_img.shape"
   ]
  },
  {
   "cell_type": "code",
   "execution_count": 19,
   "metadata": {},
   "outputs": [],
   "source": [
    "model_file_path = \"../training_outputs/models/20230827-233439.h5\"\n",
    "model = keras.models.load_model(model_file_path, custom_objects={\"TFBertModel\": transformers.TFBertModel})"
   ]
  },
  {
   "cell_type": "code",
   "execution_count": 22,
   "metadata": {},
   "outputs": [
    {
     "name": "stdout",
     "output_type": "stream",
     "text": [
      "1/1 [==============================] - 1s 523ms/step\n"
     ]
    }
   ],
   "source": [
    "y_pred = model.predict([np.array([X_img]), X_text])"
   ]
  },
  {
   "cell_type": "code",
   "execution_count": 34,
   "metadata": {},
   "outputs": [],
   "source": [
    "genres = ['Action',\n",
    "  'Adventure',\n",
    "  'Animation',\n",
    "  'Biography',\n",
    "  'Comedy',\n",
    "  'Crime',\n",
    "  'Horror',\n",
    "  'Romance',\n",
    "  'Thriller',\n",
    "  'War']"
   ]
  },
  {
   "cell_type": "code",
   "execution_count": 36,
   "metadata": {},
   "outputs": [
    {
     "data": {
      "text/plain": [
       "['Action', 'Adventure', 'Biography', 'Horror']"
      ]
     },
     "execution_count": 36,
     "metadata": {},
     "output_type": "execute_result"
    }
   ],
   "source": [
    "def get_genre_names(y_pred:np.array, genres:list, threshold=0.2):\n",
    "    pred_genres = []\n",
    "    pred = y_pred[0]\n",
    "    for i in range(len(pred)):\n",
    "        if pred[i] > threshold:\n",
    "            pred_genres.append(genres[i])\n",
    "    return pred_genres\n",
    "\n",
    "get_genre_names(y_pred, genres, 0.2)"
   ]
  },
  {
   "cell_type": "code",
   "execution_count": null,
   "metadata": {},
   "outputs": [],
   "source": []
  }
 ],
 "metadata": {
  "kernelspec": {
   "display_name": "movie_genre_prediction",
   "language": "python",
   "name": "python3"
  },
  "language_info": {
   "codemirror_mode": {
    "name": "ipython",
    "version": 3
   },
   "file_extension": ".py",
   "mimetype": "text/x-python",
   "name": "python",
   "nbconvert_exporter": "python",
   "pygments_lexer": "ipython3",
   "version": "3.10.6"
  },
  "orig_nbformat": 4
 },
 "nbformat": 4,
 "nbformat_minor": 2
}
