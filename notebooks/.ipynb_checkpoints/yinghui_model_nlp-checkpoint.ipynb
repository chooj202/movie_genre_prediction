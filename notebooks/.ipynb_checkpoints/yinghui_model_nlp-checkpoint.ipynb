{
 "cells": [
  {
   "cell_type": "code",
   "execution_count": 1,
   "id": "53a9e74e-15c0-4fd2-89b8-a24fcce91cfc",
   "metadata": {},
   "outputs": [
    {
     "name": "stderr",
     "output_type": "stream",
     "text": [
      "2023-08-10 19:36:48.184840: I tensorflow/core/platform/cpu_feature_guard.cc:193] This TensorFlow binary is optimized with oneAPI Deep Neural Network Library (oneDNN) to use the following CPU instructions in performance-critical operations:  AVX2 FMA\n",
      "To enable them in other operations, rebuild TensorFlow with the appropriate compiler flags.\n",
      "2023-08-10 19:36:48.410595: W tensorflow/stream_executor/platform/default/dso_loader.cc:64] Could not load dynamic library 'libcudart.so.11.0'; dlerror: libcudart.so.11.0: cannot open shared object file: No such file or directory\n",
      "2023-08-10 19:36:48.410717: I tensorflow/stream_executor/cuda/cudart_stub.cc:29] Ignore above cudart dlerror if you do not have a GPU set up on your machine.\n",
      "2023-08-10 19:36:48.446589: E tensorflow/stream_executor/cuda/cuda_blas.cc:2981] Unable to register cuBLAS factory: Attempting to register factory for plugin cuBLAS when one has already been registered\n",
      "2023-08-10 19:36:49.727450: W tensorflow/stream_executor/platform/default/dso_loader.cc:64] Could not load dynamic library 'libnvinfer.so.7'; dlerror: libnvinfer.so.7: cannot open shared object file: No such file or directory\n",
      "2023-08-10 19:36:49.727633: W tensorflow/stream_executor/platform/default/dso_loader.cc:64] Could not load dynamic library 'libnvinfer_plugin.so.7'; dlerror: libnvinfer_plugin.so.7: cannot open shared object file: No such file or directory\n",
      "2023-08-10 19:36:49.727647: W tensorflow/compiler/tf2tensorrt/utils/py_utils.cc:38] TF-TRT Warning: Cannot dlopen some TensorRT libraries. If you would like to use Nvidia GPU with TensorRT, please make sure the missing libraries mentioned above are installed properly.\n"
     ]
    }
   ],
   "source": [
    "import numpy as np\n",
    "import pandas as pd\n",
    "import seaborn as sns\n",
    "import string\n",
    "import os\n",
    "import requests\n",
    "\n",
    "from requests import get\n",
    "from bs4 import BeautifulSoup\n",
    "from warnings import warn\n",
    "from time import sleep\n",
    "from random import randint\n",
    "from xgboost import XGBClassifier\n",
    "from tqdm import tqdm\n",
    "from time import sleep\n",
    "\n",
    "from pathlib import Path\n",
    "from sklearn.preprocessing import MultiLabelBinarizer\n",
    "from sklearn.model_selection import train_test_split, GridSearchCV\n",
    "from nltk.stem.porter import *\n",
    "from nltk.corpus import stopwords\n",
    "from nltk.tokenize import word_tokenize\n",
    "from nltk.stem import WordNetLemmatizer\n",
    "from sklearn.feature_extraction.text import TfidfVectorizer\n",
    "from sklearn.linear_model import LogisticRegression, SGDClassifier\n",
    "from sklearn.metrics import accuracy_score\n",
    "from sklearn.multiclass import OneVsRestClassifier\n",
    "from sklearn.preprocessing import MultiLabelBinarizer\n",
    "from sklearn.naive_bayes import MultinomialNB\n",
    "from sklearn.ensemble import RandomForestClassifier\n",
    "from sklearn.svm import SVC\n",
    "\n",
    "from tensorflow.keras import layers, Sequential, callbacks, optimizers, utils, models, applications\n",
    "from tensorflow.keras.applications.inception_v3 import InceptionV3\n",
    "from tensorflow.keras.regularizers import l2, l1\n",
    "from tensorflow.keras.preprocessing import image\n",
    "from tensorflow.keras.preprocessing.image import ImageDataGenerator\n",
    "from tensorflow.keras.preprocessing.sequence import pad_sequences\n",
    "from tensorflow.keras.preprocessing.text import Tokenizer"
   ]
  },
  {
   "cell_type": "code",
   "execution_count": 2,
   "id": "2817348c",
   "metadata": {},
   "outputs": [],
   "source": [
    "folder_path = '/home/yinghui/code/chooj202/movie_genre_prediction/movie_genre_prediction/raw_data/csv/'\n",
    "dataframes = []\n",
    "for file_name in os.listdir(folder_path):\n",
    "    if file_name.endswith('.csv'):\n",
    "        file_path = os.path.join(folder_path, file_name)\n",
    "        df = pd.read_csv(file_path)\n",
    "        dataframes.append(df)\n",
    "merged_df = pd.concat(dataframes, ignore_index=True)"
   ]
  },
  {
   "cell_type": "code",
   "execution_count": 3,
   "id": "29bac3ba-bb73-43b0-a367-0485c0a94801",
   "metadata": {},
   "outputs": [],
   "source": [
    "# action_df = pd.read_csv(\"/home/yinghui/code/chooj202/movie_genre_prediction/movie_genre_prediction/raw_data/csv/action_df.csv\")\n",
    "# adventure_df = pd.read_csv(\"/home/yinghui/code/chooj202/movie_genre_prediction/movie_genre_prediction/raw_data/csv/adventure_df.csv\")\n",
    "# animation_df = pd.read_csv(\"/home/yinghui/code/chooj202/movie_genre_prediction/movie_genre_prediction/raw_data/csv/animation_df.csv\")\n",
    "# biography_df = pd.read_csv(\"/home/yinghui/code/chooj202/movie_genre_prediction/movie_genre_prediction/raw_data/csv/biography_df.csv\")\n",
    "# comedy_df = pd.read_csv(\"/home/yinghui/code/chooj202/movie_genre_prediction/movie_genre_prediction/raw_data/csv/comedy_df.csv\")\n",
    "# crime_df = pd.read_csv(\"/home/yinghui/code/chooj202/movie_genre_prediction/movie_genre_prediction/raw_data/csv/crime_df.csv\")\n",
    "# documentary_df = pd.read_csv(\"/home/yinghui/code/chooj202/movie_genre_prediction/movie_genre_prediction/raw_data/csv/documentary_df.csv\")\n",
    "\n",
    "# merged_df = pd.concat([action_df, adventure_df, animation_df, biography_df, comedy_df, crime_df, documentary_df])\n",
    "# merged_df.shape"
   ]
  },
  {
   "cell_type": "code",
   "execution_count": 4,
   "id": "cc324790",
   "metadata": {},
   "outputs": [
    {
     "data": {
      "text/html": [
       "<div>\n",
       "<style scoped>\n",
       "    .dataframe tbody tr th:only-of-type {\n",
       "        vertical-align: middle;\n",
       "    }\n",
       "\n",
       "    .dataframe tbody tr th {\n",
       "        vertical-align: top;\n",
       "    }\n",
       "\n",
       "    .dataframe thead th {\n",
       "        text-align: right;\n",
       "    }\n",
       "</style>\n",
       "<table border=\"1\" class=\"dataframe\">\n",
       "  <thead>\n",
       "    <tr style=\"text-align: right;\">\n",
       "      <th></th>\n",
       "      <th>Unnamed: 0</th>\n",
       "      <th>movie</th>\n",
       "      <th>imdb_id</th>\n",
       "      <th>genre</th>\n",
       "      <th>plot</th>\n",
       "      <th>image_url</th>\n",
       "    </tr>\n",
       "  </thead>\n",
       "  <tbody>\n",
       "    <tr>\n",
       "      <th>0</th>\n",
       "      <td>0</td>\n",
       "      <td>It's a Wonderful Life</td>\n",
       "      <td>tt0038650</td>\n",
       "      <td>['Drama', ' Family', ' Fantasy']</td>\n",
       "      <td>George Bailey has spent his entire life giving...</td>\n",
       "      <td>http://img.omdbapi.com/?i=tt0038650&amp;h=600&amp;apik...</td>\n",
       "    </tr>\n",
       "    <tr>\n",
       "      <th>1</th>\n",
       "      <td>1</td>\n",
       "      <td>The Lion King</td>\n",
       "      <td>tt0110357</td>\n",
       "      <td>['Animation', ' Adventure', ' Drama']</td>\n",
       "      <td>A young lion prince is cast out of his pride b...</td>\n",
       "      <td>http://img.omdbapi.com/?i=tt0110357&amp;h=600&amp;apik...</td>\n",
       "    </tr>\n",
       "    <tr>\n",
       "      <th>2</th>\n",
       "      <td>2</td>\n",
       "      <td>Spider-Man: Into the Spider-Verse</td>\n",
       "      <td>tt4633694</td>\n",
       "      <td>['Animation', ' Action', ' Adventure']</td>\n",
       "      <td>Phil Lord and Christopher Miller, the creative...</td>\n",
       "      <td>http://img.omdbapi.com/?i=tt4633694&amp;h=600&amp;apik...</td>\n",
       "    </tr>\n",
       "    <tr>\n",
       "      <th>3</th>\n",
       "      <td>3</td>\n",
       "      <td>Coco</td>\n",
       "      <td>tt2380307</td>\n",
       "      <td>['Animation', ' Adventure', ' Drama']</td>\n",
       "      <td>Despite his family's baffling generations-old ...</td>\n",
       "      <td>http://img.omdbapi.com/?i=tt2380307&amp;h=600&amp;apik...</td>\n",
       "    </tr>\n",
       "    <tr>\n",
       "      <th>4</th>\n",
       "      <td>4</td>\n",
       "      <td>WALL·E</td>\n",
       "      <td>tt0910970</td>\n",
       "      <td>['Animation', ' Adventure', ' Family']</td>\n",
       "      <td>In a distant, but not so unrealistic, future w...</td>\n",
       "      <td>http://img.omdbapi.com/?i=tt0910970&amp;h=600&amp;apik...</td>\n",
       "    </tr>\n",
       "  </tbody>\n",
       "</table>\n",
       "</div>"
      ],
      "text/plain": [
       "  Unnamed: 0                              movie    imdb_id  \\\n",
       "0          0              It's a Wonderful Life  tt0038650   \n",
       "1          1                      The Lion King  tt0110357   \n",
       "2          2  Spider-Man: Into the Spider-Verse  tt4633694   \n",
       "3          3                               Coco  tt2380307   \n",
       "4          4                             WALL·E  tt0910970   \n",
       "\n",
       "                                    genre  \\\n",
       "0        ['Drama', ' Family', ' Fantasy']   \n",
       "1   ['Animation', ' Adventure', ' Drama']   \n",
       "2  ['Animation', ' Action', ' Adventure']   \n",
       "3   ['Animation', ' Adventure', ' Drama']   \n",
       "4  ['Animation', ' Adventure', ' Family']   \n",
       "\n",
       "                                                plot  \\\n",
       "0  George Bailey has spent his entire life giving...   \n",
       "1  A young lion prince is cast out of his pride b...   \n",
       "2  Phil Lord and Christopher Miller, the creative...   \n",
       "3  Despite his family's baffling generations-old ...   \n",
       "4  In a distant, but not so unrealistic, future w...   \n",
       "\n",
       "                                           image_url  \n",
       "0  http://img.omdbapi.com/?i=tt0038650&h=600&apik...  \n",
       "1  http://img.omdbapi.com/?i=tt0110357&h=600&apik...  \n",
       "2  http://img.omdbapi.com/?i=tt4633694&h=600&apik...  \n",
       "3  http://img.omdbapi.com/?i=tt2380307&h=600&apik...  \n",
       "4  http://img.omdbapi.com/?i=tt0910970&h=600&apik...  "
      ]
     },
     "execution_count": 4,
     "metadata": {},
     "output_type": "execute_result"
    }
   ],
   "source": [
    "merged_df.head(5)"
   ]
  },
  {
   "cell_type": "code",
   "execution_count": 5,
   "id": "668257f5",
   "metadata": {},
   "outputs": [],
   "source": [
    "merged_df = merged_df.drop(columns=['Unnamed: 0'])"
   ]
  },
  {
   "cell_type": "code",
   "execution_count": 6,
   "id": "db5f5815",
   "metadata": {},
   "outputs": [
    {
     "data": {
      "text/plain": [
       "(8864, 5)"
      ]
     },
     "execution_count": 6,
     "metadata": {},
     "output_type": "execute_result"
    }
   ],
   "source": [
    "merged_df = merged_df.drop_duplicates()\n",
    "merged_df.shape"
   ]
  },
  {
   "cell_type": "code",
   "execution_count": 7,
   "id": "745281b0-a384-40fc-8f43-eddb6bd12c45",
   "metadata": {},
   "outputs": [
    {
     "data": {
      "text/html": [
       "<div>\n",
       "<style scoped>\n",
       "    .dataframe tbody tr th:only-of-type {\n",
       "        vertical-align: middle;\n",
       "    }\n",
       "\n",
       "    .dataframe tbody tr th {\n",
       "        vertical-align: top;\n",
       "    }\n",
       "\n",
       "    .dataframe thead th {\n",
       "        text-align: right;\n",
       "    }\n",
       "</style>\n",
       "<table border=\"1\" class=\"dataframe\">\n",
       "  <thead>\n",
       "    <tr style=\"text-align: right;\">\n",
       "      <th></th>\n",
       "      <th>movie</th>\n",
       "      <th>imdb_id</th>\n",
       "      <th>genre</th>\n",
       "      <th>plot</th>\n",
       "      <th>image_url</th>\n",
       "    </tr>\n",
       "  </thead>\n",
       "  <tbody>\n",
       "    <tr>\n",
       "      <th>5042</th>\n",
       "      <td>Stardust</td>\n",
       "      <td>tt0486655</td>\n",
       "      <td>['Adventure', ' Family', ' Fantasy']</td>\n",
       "      <td>NaN</td>\n",
       "      <td>http://img.omdbapi.com/?i=tt0486655&amp;h=600&amp;apik...</td>\n",
       "    </tr>\n",
       "    <tr>\n",
       "      <th>10163</th>\n",
       "      <td>The Broken Circle Breakdown</td>\n",
       "      <td>tt2024519</td>\n",
       "      <td>['Drama', ' Music', ' Romance']</td>\n",
       "      <td>NaN</td>\n",
       "      <td>http://img.omdbapi.com/?i=tt2024519&amp;h=600&amp;apik...</td>\n",
       "    </tr>\n",
       "    <tr>\n",
       "      <th>9497</th>\n",
       "      <td>Flyboys</td>\n",
       "      <td>tt0454824</td>\n",
       "      <td>['Action', ' Drama', ' History']</td>\n",
       "      <td>NaN</td>\n",
       "      <td>http://img.omdbapi.com/?i=tt0454824&amp;h=600&amp;apik...</td>\n",
       "    </tr>\n",
       "    <tr>\n",
       "      <th>9924</th>\n",
       "      <td>Annabelle: Creation</td>\n",
       "      <td>tt5140878</td>\n",
       "      <td>['Horror', ' Mystery', ' Thriller']</td>\n",
       "      <td>NaN</td>\n",
       "      <td>http://img.omdbapi.com/?i=tt5140878&amp;h=600&amp;apik...</td>\n",
       "    </tr>\n",
       "    <tr>\n",
       "      <th>10421</th>\n",
       "      <td>Last Days</td>\n",
       "      <td>tt0403217</td>\n",
       "      <td>['Drama', ' Music']</td>\n",
       "      <td>NaN</td>\n",
       "      <td>http://img.omdbapi.com/?i=tt0403217&amp;h=600&amp;apik...</td>\n",
       "    </tr>\n",
       "  </tbody>\n",
       "</table>\n",
       "</div>"
      ],
      "text/plain": [
       "                             movie    imdb_id  \\\n",
       "5042                      Stardust  tt0486655   \n",
       "10163  The Broken Circle Breakdown  tt2024519   \n",
       "9497                       Flyboys  tt0454824   \n",
       "9924           Annabelle: Creation  tt5140878   \n",
       "10421                    Last Days  tt0403217   \n",
       "\n",
       "                                      genre plot  \\\n",
       "5042   ['Adventure', ' Family', ' Fantasy']  NaN   \n",
       "10163       ['Drama', ' Music', ' Romance']  NaN   \n",
       "9497       ['Action', ' Drama', ' History']  NaN   \n",
       "9924    ['Horror', ' Mystery', ' Thriller']  NaN   \n",
       "10421                   ['Drama', ' Music']  NaN   \n",
       "\n",
       "                                               image_url  \n",
       "5042   http://img.omdbapi.com/?i=tt0486655&h=600&apik...  \n",
       "10163  http://img.omdbapi.com/?i=tt2024519&h=600&apik...  \n",
       "9497   http://img.omdbapi.com/?i=tt0454824&h=600&apik...  \n",
       "9924   http://img.omdbapi.com/?i=tt5140878&h=600&apik...  \n",
       "10421  http://img.omdbapi.com/?i=tt0403217&h=600&apik...  "
      ]
     },
     "execution_count": 7,
     "metadata": {},
     "output_type": "execute_result"
    }
   ],
   "source": [
    "merged_df.sample(5)"
   ]
  },
  {
   "cell_type": "code",
   "execution_count": 8,
   "id": "8421d7a6",
   "metadata": {},
   "outputs": [
    {
     "data": {
      "text/plain": [
       "4240"
      ]
     },
     "execution_count": 8,
     "metadata": {},
     "output_type": "execute_result"
    }
   ],
   "source": [
    "merged_df[\"plot\"].notna().sum()"
   ]
  },
  {
   "cell_type": "code",
   "execution_count": 9,
   "id": "88863dc3",
   "metadata": {},
   "outputs": [
    {
     "data": {
      "text/html": [
       "<div>\n",
       "<style scoped>\n",
       "    .dataframe tbody tr th:only-of-type {\n",
       "        vertical-align: middle;\n",
       "    }\n",
       "\n",
       "    .dataframe tbody tr th {\n",
       "        vertical-align: top;\n",
       "    }\n",
       "\n",
       "    .dataframe thead th {\n",
       "        text-align: right;\n",
       "    }\n",
       "</style>\n",
       "<table border=\"1\" class=\"dataframe\">\n",
       "  <thead>\n",
       "    <tr style=\"text-align: right;\">\n",
       "      <th></th>\n",
       "      <th>movie</th>\n",
       "      <th>imdb_id</th>\n",
       "      <th>genre</th>\n",
       "      <th>plot</th>\n",
       "      <th>image_url</th>\n",
       "    </tr>\n",
       "  </thead>\n",
       "  <tbody>\n",
       "    <tr>\n",
       "      <th>0</th>\n",
       "      <td>It's a Wonderful Life</td>\n",
       "      <td>tt0038650</td>\n",
       "      <td>['Drama', ' Family', ' Fantasy']</td>\n",
       "      <td>George Bailey has spent his entire life giving...</td>\n",
       "      <td>http://img.omdbapi.com/?i=tt0038650&amp;h=600&amp;apik...</td>\n",
       "    </tr>\n",
       "    <tr>\n",
       "      <th>1</th>\n",
       "      <td>The Lion King</td>\n",
       "      <td>tt0110357</td>\n",
       "      <td>['Animation', ' Adventure', ' Drama']</td>\n",
       "      <td>A young lion prince is cast out of his pride b...</td>\n",
       "      <td>http://img.omdbapi.com/?i=tt0110357&amp;h=600&amp;apik...</td>\n",
       "    </tr>\n",
       "    <tr>\n",
       "      <th>2</th>\n",
       "      <td>Spider-Man: Into the Spider-Verse</td>\n",
       "      <td>tt4633694</td>\n",
       "      <td>['Animation', ' Action', ' Adventure']</td>\n",
       "      <td>Phil Lord and Christopher Miller, the creative...</td>\n",
       "      <td>http://img.omdbapi.com/?i=tt4633694&amp;h=600&amp;apik...</td>\n",
       "    </tr>\n",
       "    <tr>\n",
       "      <th>3</th>\n",
       "      <td>Coco</td>\n",
       "      <td>tt2380307</td>\n",
       "      <td>['Animation', ' Adventure', ' Drama']</td>\n",
       "      <td>Despite his family's baffling generations-old ...</td>\n",
       "      <td>http://img.omdbapi.com/?i=tt2380307&amp;h=600&amp;apik...</td>\n",
       "    </tr>\n",
       "    <tr>\n",
       "      <th>4</th>\n",
       "      <td>WALL·E</td>\n",
       "      <td>tt0910970</td>\n",
       "      <td>['Animation', ' Adventure', ' Family']</td>\n",
       "      <td>In a distant, but not so unrealistic, future w...</td>\n",
       "      <td>http://img.omdbapi.com/?i=tt0910970&amp;h=600&amp;apik...</td>\n",
       "    </tr>\n",
       "    <tr>\n",
       "      <th>...</th>\n",
       "      <td>...</td>\n",
       "      <td>...</td>\n",
       "      <td>...</td>\n",
       "      <td>...</td>\n",
       "      <td>...</td>\n",
       "    </tr>\n",
       "    <tr>\n",
       "      <th>21569</th>\n",
       "      <td>The Spy Who Loved Me</td>\n",
       "      <td>tt0076752</td>\n",
       "      <td>['Action', ' Adventure', ' Thriller']</td>\n",
       "      <td>James Bond is back again and his new mission i...</td>\n",
       "      <td>http://img.omdbapi.com/?i=tt0076752&amp;h=600&amp;apik...</td>\n",
       "    </tr>\n",
       "    <tr>\n",
       "      <th>21570</th>\n",
       "      <td>Harold &amp; Kumar Go to White Castle</td>\n",
       "      <td>tt0366551</td>\n",
       "      <td>['Adventure', ' Comedy']</td>\n",
       "      <td>Harold Lee and Kumar Patel are two stoners who...</td>\n",
       "      <td>http://img.omdbapi.com/?i=tt0366551&amp;h=600&amp;apik...</td>\n",
       "    </tr>\n",
       "    <tr>\n",
       "      <th>21571</th>\n",
       "      <td>American Honey</td>\n",
       "      <td>tt3721936</td>\n",
       "      <td>['Adventure', ' Drama', ' Romance']</td>\n",
       "      <td>Star, a teenage girl with nothing to lose, joi...</td>\n",
       "      <td>http://img.omdbapi.com/?i=tt3721936&amp;h=600&amp;apik...</td>\n",
       "    </tr>\n",
       "    <tr>\n",
       "      <th>21574</th>\n",
       "      <td>The Wandering Earth II</td>\n",
       "      <td>tt13539646</td>\n",
       "      <td>['Action', ' Adventure', ' Drama']</td>\n",
       "      <td>Humans built huge engines on the surface of th...</td>\n",
       "      <td>http://img.omdbapi.com/?i=tt13539646&amp;h=600&amp;api...</td>\n",
       "    </tr>\n",
       "    <tr>\n",
       "      <th>21584</th>\n",
       "      <td>Away We Go</td>\n",
       "      <td>tt1176740</td>\n",
       "      <td>['Adventure', ' Comedy', ' Drama']</td>\n",
       "      <td>Burt Farlander and Verona De Tessant are a cou...</td>\n",
       "      <td>http://img.omdbapi.com/?i=tt1176740&amp;h=600&amp;apik...</td>\n",
       "    </tr>\n",
       "  </tbody>\n",
       "</table>\n",
       "<p>8864 rows × 5 columns</p>\n",
       "</div>"
      ],
      "text/plain": [
       "                                   movie     imdb_id  \\\n",
       "0                  It's a Wonderful Life   tt0038650   \n",
       "1                          The Lion King   tt0110357   \n",
       "2      Spider-Man: Into the Spider-Verse   tt4633694   \n",
       "3                                   Coco   tt2380307   \n",
       "4                                 WALL·E   tt0910970   \n",
       "...                                  ...         ...   \n",
       "21569               The Spy Who Loved Me   tt0076752   \n",
       "21570  Harold & Kumar Go to White Castle   tt0366551   \n",
       "21571                     American Honey   tt3721936   \n",
       "21574             The Wandering Earth II  tt13539646   \n",
       "21584                         Away We Go   tt1176740   \n",
       "\n",
       "                                        genre  \\\n",
       "0            ['Drama', ' Family', ' Fantasy']   \n",
       "1       ['Animation', ' Adventure', ' Drama']   \n",
       "2      ['Animation', ' Action', ' Adventure']   \n",
       "3       ['Animation', ' Adventure', ' Drama']   \n",
       "4      ['Animation', ' Adventure', ' Family']   \n",
       "...                                       ...   \n",
       "21569   ['Action', ' Adventure', ' Thriller']   \n",
       "21570                ['Adventure', ' Comedy']   \n",
       "21571     ['Adventure', ' Drama', ' Romance']   \n",
       "21574      ['Action', ' Adventure', ' Drama']   \n",
       "21584      ['Adventure', ' Comedy', ' Drama']   \n",
       "\n",
       "                                                    plot  \\\n",
       "0      George Bailey has spent his entire life giving...   \n",
       "1      A young lion prince is cast out of his pride b...   \n",
       "2      Phil Lord and Christopher Miller, the creative...   \n",
       "3      Despite his family's baffling generations-old ...   \n",
       "4      In a distant, but not so unrealistic, future w...   \n",
       "...                                                  ...   \n",
       "21569  James Bond is back again and his new mission i...   \n",
       "21570  Harold Lee and Kumar Patel are two stoners who...   \n",
       "21571  Star, a teenage girl with nothing to lose, joi...   \n",
       "21574  Humans built huge engines on the surface of th...   \n",
       "21584  Burt Farlander and Verona De Tessant are a cou...   \n",
       "\n",
       "                                               image_url  \n",
       "0      http://img.omdbapi.com/?i=tt0038650&h=600&apik...  \n",
       "1      http://img.omdbapi.com/?i=tt0110357&h=600&apik...  \n",
       "2      http://img.omdbapi.com/?i=tt4633694&h=600&apik...  \n",
       "3      http://img.omdbapi.com/?i=tt2380307&h=600&apik...  \n",
       "4      http://img.omdbapi.com/?i=tt0910970&h=600&apik...  \n",
       "...                                                  ...  \n",
       "21569  http://img.omdbapi.com/?i=tt0076752&h=600&apik...  \n",
       "21570  http://img.omdbapi.com/?i=tt0366551&h=600&apik...  \n",
       "21571  http://img.omdbapi.com/?i=tt3721936&h=600&apik...  \n",
       "21574  http://img.omdbapi.com/?i=tt13539646&h=600&api...  \n",
       "21584  http://img.omdbapi.com/?i=tt1176740&h=600&apik...  \n",
       "\n",
       "[8864 rows x 5 columns]"
      ]
     },
     "execution_count": 9,
     "metadata": {},
     "output_type": "execute_result"
    }
   ],
   "source": [
    "merged_df"
   ]
  },
  {
   "cell_type": "code",
   "execution_count": 10,
   "id": "c8b8d781",
   "metadata": {},
   "outputs": [],
   "source": [
    "import string\n",
    "from nltk.tokenize import word_tokenize\n",
    "from nltk.corpus import stopwords \n",
    "from nltk.stem import WordNetLemmatizer"
   ]
  },
  {
   "cell_type": "code",
   "execution_count": 11,
   "id": "1e72a118",
   "metadata": {},
   "outputs": [],
   "source": [
    "def cleaning(sentence):\n",
    "    if isinstance(sentence, str):\n",
    "    # Basic cleaning\n",
    "        sentence = sentence.strip() ## remove whitespaces\n",
    "        sentence = sentence.lower() ## lowercase \n",
    "        sentence = ''.join(char for char in sentence if not char.isdigit()) ## remove numbers\n",
    "\n",
    "        # Advanced cleaning\n",
    "        for punctuation in string.punctuation:\n",
    "            sentence = sentence.replace(punctuation, '') ## remove punctuation\n",
    "\n",
    "        tokenized_sentence = word_tokenize(sentence) ## tokenize \n",
    "        stop_words = set(stopwords.words('english')) ## define stopwords\n",
    "\n",
    "        tokenized_sentence_cleaned = [ ## remove stopwords\n",
    "            w for w in tokenized_sentence if not w in stop_words\n",
    "        ]\n",
    "\n",
    "        lemmatized = [\n",
    "            WordNetLemmatizer().lemmatize(word, pos = \"v\") \n",
    "            for word in tokenized_sentence_cleaned\n",
    "        ]\n",
    "\n",
    "        cleaned_sentence = ' '.join(word for word in lemmatized)\n",
    "\n",
    "        return cleaned_sentence"
   ]
  },
  {
   "cell_type": "code",
   "execution_count": 12,
   "id": "59f616b0",
   "metadata": {},
   "outputs": [],
   "source": [
    "merged_df[\"clean_plot\"] = merged_df[\"plot\"].apply(cleaning)"
   ]
  },
  {
   "cell_type": "code",
   "execution_count": 13,
   "id": "4eb8ba2f",
   "metadata": {},
   "outputs": [],
   "source": [
    "merged_df[\"clean_title\"] = merged_df[\"movie\"].apply(cleaning)"
   ]
  },
  {
   "cell_type": "code",
   "execution_count": 14,
   "id": "e9d0eb78",
   "metadata": {},
   "outputs": [
    {
     "data": {
      "text/plain": [
       "movie             0\n",
       "imdb_id           0\n",
       "genre             0\n",
       "plot           4624\n",
       "image_url         0\n",
       "clean_plot     4624\n",
       "clean_title       0\n",
       "dtype: int64"
      ]
     },
     "execution_count": 14,
     "metadata": {},
     "output_type": "execute_result"
    }
   ],
   "source": [
    "merged_df.isna().sum()"
   ]
  },
  {
   "cell_type": "code",
   "execution_count": 15,
   "id": "10898163",
   "metadata": {},
   "outputs": [],
   "source": [
    "merged_df[\"genre\"] = (\n",
    "    merged_df[\"genre\"]\n",
    "    .apply(eval)\n",
    "    .apply(lambda x: [genre.strip() for genre in x])\n",
    "    )"
   ]
  },
  {
   "cell_type": "code",
   "execution_count": 16,
   "id": "ca0d38d5",
   "metadata": {},
   "outputs": [
    {
     "data": {
      "text/plain": [
       "(8864, 7)"
      ]
     },
     "execution_count": 16,
     "metadata": {},
     "output_type": "execute_result"
    }
   ],
   "source": [
    "merged_df.shape"
   ]
  },
  {
   "cell_type": "code",
   "execution_count": 17,
   "id": "c67dce0c",
   "metadata": {},
   "outputs": [],
   "source": [
    "merged_df = merged_df.dropna()"
   ]
  },
  {
   "cell_type": "code",
   "execution_count": 18,
   "id": "cd79a4e4",
   "metadata": {},
   "outputs": [
    {
     "data": {
      "text/plain": [
       "(4240, 7)"
      ]
     },
     "execution_count": 18,
     "metadata": {},
     "output_type": "execute_result"
    }
   ],
   "source": [
    "merged_df.shape"
   ]
  },
  {
   "cell_type": "code",
   "execution_count": 19,
   "id": "4b65b769",
   "metadata": {},
   "outputs": [
    {
     "data": {
      "text/plain": [
       "Drama        2633\n",
       "Comedy       1364\n",
       "Adventure     948\n",
       "Action        876\n",
       "Crime         734\n",
       "Romance       573\n",
       "Biography     565\n",
       "Thriller      495\n",
       "Horror        466\n",
       "Mystery       451\n",
       "Animation     405\n",
       "Fantasy       347\n",
       "History       298\n",
       "Family        289\n",
       "Music         261\n",
       "Sci-Fi        236\n",
       "War           201\n",
       "Sport         187\n",
       "Musical       106\n",
       "Western       105\n",
       "Film-Noir      59\n",
       "Name: genre, dtype: int64"
      ]
     },
     "execution_count": 19,
     "metadata": {},
     "output_type": "execute_result"
    }
   ],
   "source": [
    "#check the genre we have\n",
    "merged_df[\"genre\"].explode().value_counts()"
   ]
  },
  {
   "cell_type": "code",
   "execution_count": 20,
   "id": "e27ab2ed",
   "metadata": {},
   "outputs": [],
   "source": [
    "from sklearn.preprocessing import MultiLabelBinarizer\n",
    "\n",
    "multilabel_binarizer = MultiLabelBinarizer()\n",
    "multilabel_binarizer.fit(merged_df[\"genre\"])\n",
    "\n",
    "# transform target variable\n",
    "y = multilabel_binarizer.transform(merged_df['genre'])"
   ]
  },
  {
   "cell_type": "code",
   "execution_count": 21,
   "id": "1590fcab",
   "metadata": {},
   "outputs": [
    {
     "data": {
      "text/plain": [
       "(4240, 21)"
      ]
     },
     "execution_count": 21,
     "metadata": {},
     "output_type": "execute_result"
    }
   ],
   "source": [
    "y.shape"
   ]
  },
  {
   "cell_type": "code",
   "execution_count": 22,
   "id": "a2503db6",
   "metadata": {},
   "outputs": [
    {
     "name": "stderr",
     "output_type": "stream",
     "text": [
      "/tmp/ipykernel_4531/311065743.py:5: SettingWithCopyWarning: \n",
      "A value is trying to be set on a copy of a slice from a DataFrame.\n",
      "Try using .loc[row_indexer,col_indexer] = value instead\n",
      "\n",
      "See the caveats in the documentation: https://pandas.pydata.org/pandas-docs/stable/user_guide/indexing.html#returning-a-view-versus-a-copy\n",
      "  merged_df[f\"{genre_names[i]}\"] = y[:,i]\n",
      "/tmp/ipykernel_4531/311065743.py:5: SettingWithCopyWarning: \n",
      "A value is trying to be set on a copy of a slice from a DataFrame.\n",
      "Try using .loc[row_indexer,col_indexer] = value instead\n",
      "\n",
      "See the caveats in the documentation: https://pandas.pydata.org/pandas-docs/stable/user_guide/indexing.html#returning-a-view-versus-a-copy\n",
      "  merged_df[f\"{genre_names[i]}\"] = y[:,i]\n",
      "/tmp/ipykernel_4531/311065743.py:5: SettingWithCopyWarning: \n",
      "A value is trying to be set on a copy of a slice from a DataFrame.\n",
      "Try using .loc[row_indexer,col_indexer] = value instead\n",
      "\n",
      "See the caveats in the documentation: https://pandas.pydata.org/pandas-docs/stable/user_guide/indexing.html#returning-a-view-versus-a-copy\n",
      "  merged_df[f\"{genre_names[i]}\"] = y[:,i]\n",
      "/tmp/ipykernel_4531/311065743.py:5: SettingWithCopyWarning: \n",
      "A value is trying to be set on a copy of a slice from a DataFrame.\n",
      "Try using .loc[row_indexer,col_indexer] = value instead\n",
      "\n",
      "See the caveats in the documentation: https://pandas.pydata.org/pandas-docs/stable/user_guide/indexing.html#returning-a-view-versus-a-copy\n",
      "  merged_df[f\"{genre_names[i]}\"] = y[:,i]\n",
      "/tmp/ipykernel_4531/311065743.py:5: SettingWithCopyWarning: \n",
      "A value is trying to be set on a copy of a slice from a DataFrame.\n",
      "Try using .loc[row_indexer,col_indexer] = value instead\n",
      "\n",
      "See the caveats in the documentation: https://pandas.pydata.org/pandas-docs/stable/user_guide/indexing.html#returning-a-view-versus-a-copy\n",
      "  merged_df[f\"{genre_names[i]}\"] = y[:,i]\n",
      "/tmp/ipykernel_4531/311065743.py:5: SettingWithCopyWarning: \n",
      "A value is trying to be set on a copy of a slice from a DataFrame.\n",
      "Try using .loc[row_indexer,col_indexer] = value instead\n",
      "\n",
      "See the caveats in the documentation: https://pandas.pydata.org/pandas-docs/stable/user_guide/indexing.html#returning-a-view-versus-a-copy\n",
      "  merged_df[f\"{genre_names[i]}\"] = y[:,i]\n",
      "/tmp/ipykernel_4531/311065743.py:5: SettingWithCopyWarning: \n",
      "A value is trying to be set on a copy of a slice from a DataFrame.\n",
      "Try using .loc[row_indexer,col_indexer] = value instead\n",
      "\n",
      "See the caveats in the documentation: https://pandas.pydata.org/pandas-docs/stable/user_guide/indexing.html#returning-a-view-versus-a-copy\n",
      "  merged_df[f\"{genre_names[i]}\"] = y[:,i]\n",
      "/tmp/ipykernel_4531/311065743.py:5: SettingWithCopyWarning: \n",
      "A value is trying to be set on a copy of a slice from a DataFrame.\n",
      "Try using .loc[row_indexer,col_indexer] = value instead\n",
      "\n",
      "See the caveats in the documentation: https://pandas.pydata.org/pandas-docs/stable/user_guide/indexing.html#returning-a-view-versus-a-copy\n",
      "  merged_df[f\"{genre_names[i]}\"] = y[:,i]\n",
      "/tmp/ipykernel_4531/311065743.py:5: SettingWithCopyWarning: \n",
      "A value is trying to be set on a copy of a slice from a DataFrame.\n",
      "Try using .loc[row_indexer,col_indexer] = value instead\n",
      "\n",
      "See the caveats in the documentation: https://pandas.pydata.org/pandas-docs/stable/user_guide/indexing.html#returning-a-view-versus-a-copy\n",
      "  merged_df[f\"{genre_names[i]}\"] = y[:,i]\n",
      "/tmp/ipykernel_4531/311065743.py:5: SettingWithCopyWarning: \n",
      "A value is trying to be set on a copy of a slice from a DataFrame.\n",
      "Try using .loc[row_indexer,col_indexer] = value instead\n",
      "\n",
      "See the caveats in the documentation: https://pandas.pydata.org/pandas-docs/stable/user_guide/indexing.html#returning-a-view-versus-a-copy\n",
      "  merged_df[f\"{genre_names[i]}\"] = y[:,i]\n",
      "/tmp/ipykernel_4531/311065743.py:5: SettingWithCopyWarning: \n",
      "A value is trying to be set on a copy of a slice from a DataFrame.\n",
      "Try using .loc[row_indexer,col_indexer] = value instead\n",
      "\n",
      "See the caveats in the documentation: https://pandas.pydata.org/pandas-docs/stable/user_guide/indexing.html#returning-a-view-versus-a-copy\n",
      "  merged_df[f\"{genre_names[i]}\"] = y[:,i]\n",
      "/tmp/ipykernel_4531/311065743.py:5: SettingWithCopyWarning: \n",
      "A value is trying to be set on a copy of a slice from a DataFrame.\n",
      "Try using .loc[row_indexer,col_indexer] = value instead\n",
      "\n",
      "See the caveats in the documentation: https://pandas.pydata.org/pandas-docs/stable/user_guide/indexing.html#returning-a-view-versus-a-copy\n",
      "  merged_df[f\"{genre_names[i]}\"] = y[:,i]\n",
      "/tmp/ipykernel_4531/311065743.py:5: SettingWithCopyWarning: \n",
      "A value is trying to be set on a copy of a slice from a DataFrame.\n",
      "Try using .loc[row_indexer,col_indexer] = value instead\n",
      "\n",
      "See the caveats in the documentation: https://pandas.pydata.org/pandas-docs/stable/user_guide/indexing.html#returning-a-view-versus-a-copy\n",
      "  merged_df[f\"{genre_names[i]}\"] = y[:,i]\n",
      "/tmp/ipykernel_4531/311065743.py:5: SettingWithCopyWarning: \n",
      "A value is trying to be set on a copy of a slice from a DataFrame.\n",
      "Try using .loc[row_indexer,col_indexer] = value instead\n",
      "\n",
      "See the caveats in the documentation: https://pandas.pydata.org/pandas-docs/stable/user_guide/indexing.html#returning-a-view-versus-a-copy\n",
      "  merged_df[f\"{genre_names[i]}\"] = y[:,i]\n",
      "/tmp/ipykernel_4531/311065743.py:5: SettingWithCopyWarning: \n",
      "A value is trying to be set on a copy of a slice from a DataFrame.\n",
      "Try using .loc[row_indexer,col_indexer] = value instead\n",
      "\n",
      "See the caveats in the documentation: https://pandas.pydata.org/pandas-docs/stable/user_guide/indexing.html#returning-a-view-versus-a-copy\n",
      "  merged_df[f\"{genre_names[i]}\"] = y[:,i]\n",
      "/tmp/ipykernel_4531/311065743.py:5: SettingWithCopyWarning: \n",
      "A value is trying to be set on a copy of a slice from a DataFrame.\n",
      "Try using .loc[row_indexer,col_indexer] = value instead\n",
      "\n",
      "See the caveats in the documentation: https://pandas.pydata.org/pandas-docs/stable/user_guide/indexing.html#returning-a-view-versus-a-copy\n",
      "  merged_df[f\"{genre_names[i]}\"] = y[:,i]\n",
      "/tmp/ipykernel_4531/311065743.py:5: SettingWithCopyWarning: \n",
      "A value is trying to be set on a copy of a slice from a DataFrame.\n",
      "Try using .loc[row_indexer,col_indexer] = value instead\n",
      "\n",
      "See the caveats in the documentation: https://pandas.pydata.org/pandas-docs/stable/user_guide/indexing.html#returning-a-view-versus-a-copy\n",
      "  merged_df[f\"{genre_names[i]}\"] = y[:,i]\n",
      "/tmp/ipykernel_4531/311065743.py:5: SettingWithCopyWarning: \n",
      "A value is trying to be set on a copy of a slice from a DataFrame.\n",
      "Try using .loc[row_indexer,col_indexer] = value instead\n",
      "\n",
      "See the caveats in the documentation: https://pandas.pydata.org/pandas-docs/stable/user_guide/indexing.html#returning-a-view-versus-a-copy\n",
      "  merged_df[f\"{genre_names[i]}\"] = y[:,i]\n",
      "/tmp/ipykernel_4531/311065743.py:5: SettingWithCopyWarning: \n",
      "A value is trying to be set on a copy of a slice from a DataFrame.\n",
      "Try using .loc[row_indexer,col_indexer] = value instead\n",
      "\n",
      "See the caveats in the documentation: https://pandas.pydata.org/pandas-docs/stable/user_guide/indexing.html#returning-a-view-versus-a-copy\n",
      "  merged_df[f\"{genre_names[i]}\"] = y[:,i]\n",
      "/tmp/ipykernel_4531/311065743.py:5: SettingWithCopyWarning: \n",
      "A value is trying to be set on a copy of a slice from a DataFrame.\n",
      "Try using .loc[row_indexer,col_indexer] = value instead\n",
      "\n",
      "See the caveats in the documentation: https://pandas.pydata.org/pandas-docs/stable/user_guide/indexing.html#returning-a-view-versus-a-copy\n",
      "  merged_df[f\"{genre_names[i]}\"] = y[:,i]\n",
      "/tmp/ipykernel_4531/311065743.py:5: SettingWithCopyWarning: \n",
      "A value is trying to be set on a copy of a slice from a DataFrame.\n",
      "Try using .loc[row_indexer,col_indexer] = value instead\n",
      "\n",
      "See the caveats in the documentation: https://pandas.pydata.org/pandas-docs/stable/user_guide/indexing.html#returning-a-view-versus-a-copy\n",
      "  merged_df[f\"{genre_names[i]}\"] = y[:,i]\n"
     ]
    },
    {
     "data": {
      "text/plain": [
       "(4240, 28)"
      ]
     },
     "execution_count": 22,
     "metadata": {},
     "output_type": "execute_result"
    }
   ],
   "source": [
    "genre_names = multilabel_binarizer.classes_\n",
    "\n",
    "# Adding \n",
    "for i in range(len(genre_names)):\n",
    "    merged_df[f\"{genre_names[i]}\"] = y[:,i]\n",
    "\n",
    "merged_df.shape"
   ]
  },
  {
   "cell_type": "code",
   "execution_count": 23,
   "id": "946d9b1f",
   "metadata": {},
   "outputs": [
    {
     "data": {
      "text/html": [
       "<div>\n",
       "<style scoped>\n",
       "    .dataframe tbody tr th:only-of-type {\n",
       "        vertical-align: middle;\n",
       "    }\n",
       "\n",
       "    .dataframe tbody tr th {\n",
       "        vertical-align: top;\n",
       "    }\n",
       "\n",
       "    .dataframe thead th {\n",
       "        text-align: right;\n",
       "    }\n",
       "</style>\n",
       "<table border=\"1\" class=\"dataframe\">\n",
       "  <thead>\n",
       "    <tr style=\"text-align: right;\">\n",
       "      <th></th>\n",
       "      <th>movie</th>\n",
       "      <th>imdb_id</th>\n",
       "      <th>genre</th>\n",
       "      <th>plot</th>\n",
       "      <th>image_url</th>\n",
       "      <th>clean_plot</th>\n",
       "      <th>clean_title</th>\n",
       "      <th>Action</th>\n",
       "      <th>Adventure</th>\n",
       "      <th>Animation</th>\n",
       "      <th>...</th>\n",
       "      <th>Horror</th>\n",
       "      <th>Music</th>\n",
       "      <th>Musical</th>\n",
       "      <th>Mystery</th>\n",
       "      <th>Romance</th>\n",
       "      <th>Sci-Fi</th>\n",
       "      <th>Sport</th>\n",
       "      <th>Thriller</th>\n",
       "      <th>War</th>\n",
       "      <th>Western</th>\n",
       "    </tr>\n",
       "  </thead>\n",
       "  <tbody>\n",
       "    <tr>\n",
       "      <th>0</th>\n",
       "      <td>It's a Wonderful Life</td>\n",
       "      <td>tt0038650</td>\n",
       "      <td>[Drama, Family, Fantasy]</td>\n",
       "      <td>George Bailey has spent his entire life giving...</td>\n",
       "      <td>http://img.omdbapi.com/?i=tt0038650&amp;h=600&amp;apik...</td>\n",
       "      <td>george bailey spend entire life give people be...</td>\n",
       "      <td>wonderful life</td>\n",
       "      <td>0</td>\n",
       "      <td>0</td>\n",
       "      <td>0</td>\n",
       "      <td>...</td>\n",
       "      <td>0</td>\n",
       "      <td>0</td>\n",
       "      <td>0</td>\n",
       "      <td>0</td>\n",
       "      <td>0</td>\n",
       "      <td>0</td>\n",
       "      <td>0</td>\n",
       "      <td>0</td>\n",
       "      <td>0</td>\n",
       "      <td>0</td>\n",
       "    </tr>\n",
       "    <tr>\n",
       "      <th>1</th>\n",
       "      <td>The Lion King</td>\n",
       "      <td>tt0110357</td>\n",
       "      <td>[Animation, Adventure, Drama]</td>\n",
       "      <td>A young lion prince is cast out of his pride b...</td>\n",
       "      <td>http://img.omdbapi.com/?i=tt0110357&amp;h=600&amp;apik...</td>\n",
       "      <td>young lion prince cast pride cruel uncle claim...</td>\n",
       "      <td>lion king</td>\n",
       "      <td>0</td>\n",
       "      <td>1</td>\n",
       "      <td>1</td>\n",
       "      <td>...</td>\n",
       "      <td>0</td>\n",
       "      <td>0</td>\n",
       "      <td>0</td>\n",
       "      <td>0</td>\n",
       "      <td>0</td>\n",
       "      <td>0</td>\n",
       "      <td>0</td>\n",
       "      <td>0</td>\n",
       "      <td>0</td>\n",
       "      <td>0</td>\n",
       "    </tr>\n",
       "    <tr>\n",
       "      <th>2</th>\n",
       "      <td>Spider-Man: Into the Spider-Verse</td>\n",
       "      <td>tt4633694</td>\n",
       "      <td>[Animation, Action, Adventure]</td>\n",
       "      <td>Phil Lord and Christopher Miller, the creative...</td>\n",
       "      <td>http://img.omdbapi.com/?i=tt4633694&amp;h=600&amp;apik...</td>\n",
       "      <td>phil lord christopher miller creative mind beh...</td>\n",
       "      <td>spiderman spiderverse</td>\n",
       "      <td>1</td>\n",
       "      <td>1</td>\n",
       "      <td>1</td>\n",
       "      <td>...</td>\n",
       "      <td>0</td>\n",
       "      <td>0</td>\n",
       "      <td>0</td>\n",
       "      <td>0</td>\n",
       "      <td>0</td>\n",
       "      <td>0</td>\n",
       "      <td>0</td>\n",
       "      <td>0</td>\n",
       "      <td>0</td>\n",
       "      <td>0</td>\n",
       "    </tr>\n",
       "    <tr>\n",
       "      <th>3</th>\n",
       "      <td>Coco</td>\n",
       "      <td>tt2380307</td>\n",
       "      <td>[Animation, Adventure, Drama]</td>\n",
       "      <td>Despite his family's baffling generations-old ...</td>\n",
       "      <td>http://img.omdbapi.com/?i=tt2380307&amp;h=600&amp;apik...</td>\n",
       "      <td>despite familys baffle generationsold ban musi...</td>\n",
       "      <td>coco</td>\n",
       "      <td>0</td>\n",
       "      <td>1</td>\n",
       "      <td>1</td>\n",
       "      <td>...</td>\n",
       "      <td>0</td>\n",
       "      <td>0</td>\n",
       "      <td>0</td>\n",
       "      <td>0</td>\n",
       "      <td>0</td>\n",
       "      <td>0</td>\n",
       "      <td>0</td>\n",
       "      <td>0</td>\n",
       "      <td>0</td>\n",
       "      <td>0</td>\n",
       "    </tr>\n",
       "    <tr>\n",
       "      <th>4</th>\n",
       "      <td>WALL·E</td>\n",
       "      <td>tt0910970</td>\n",
       "      <td>[Animation, Adventure, Family]</td>\n",
       "      <td>In a distant, but not so unrealistic, future w...</td>\n",
       "      <td>http://img.omdbapi.com/?i=tt0910970&amp;h=600&amp;apik...</td>\n",
       "      <td>distant unrealistic future mankind abandon ear...</td>\n",
       "      <td>wall·e</td>\n",
       "      <td>0</td>\n",
       "      <td>1</td>\n",
       "      <td>1</td>\n",
       "      <td>...</td>\n",
       "      <td>0</td>\n",
       "      <td>0</td>\n",
       "      <td>0</td>\n",
       "      <td>0</td>\n",
       "      <td>0</td>\n",
       "      <td>0</td>\n",
       "      <td>0</td>\n",
       "      <td>0</td>\n",
       "      <td>0</td>\n",
       "      <td>0</td>\n",
       "    </tr>\n",
       "  </tbody>\n",
       "</table>\n",
       "<p>5 rows × 28 columns</p>\n",
       "</div>"
      ],
      "text/plain": [
       "                               movie    imdb_id  \\\n",
       "0              It's a Wonderful Life  tt0038650   \n",
       "1                      The Lion King  tt0110357   \n",
       "2  Spider-Man: Into the Spider-Verse  tt4633694   \n",
       "3                               Coco  tt2380307   \n",
       "4                             WALL·E  tt0910970   \n",
       "\n",
       "                            genre  \\\n",
       "0        [Drama, Family, Fantasy]   \n",
       "1   [Animation, Adventure, Drama]   \n",
       "2  [Animation, Action, Adventure]   \n",
       "3   [Animation, Adventure, Drama]   \n",
       "4  [Animation, Adventure, Family]   \n",
       "\n",
       "                                                plot  \\\n",
       "0  George Bailey has spent his entire life giving...   \n",
       "1  A young lion prince is cast out of his pride b...   \n",
       "2  Phil Lord and Christopher Miller, the creative...   \n",
       "3  Despite his family's baffling generations-old ...   \n",
       "4  In a distant, but not so unrealistic, future w...   \n",
       "\n",
       "                                           image_url  \\\n",
       "0  http://img.omdbapi.com/?i=tt0038650&h=600&apik...   \n",
       "1  http://img.omdbapi.com/?i=tt0110357&h=600&apik...   \n",
       "2  http://img.omdbapi.com/?i=tt4633694&h=600&apik...   \n",
       "3  http://img.omdbapi.com/?i=tt2380307&h=600&apik...   \n",
       "4  http://img.omdbapi.com/?i=tt0910970&h=600&apik...   \n",
       "\n",
       "                                          clean_plot            clean_title  \\\n",
       "0  george bailey spend entire life give people be...         wonderful life   \n",
       "1  young lion prince cast pride cruel uncle claim...              lion king   \n",
       "2  phil lord christopher miller creative mind beh...  spiderman spiderverse   \n",
       "3  despite familys baffle generationsold ban musi...                   coco   \n",
       "4  distant unrealistic future mankind abandon ear...                 wall·e   \n",
       "\n",
       "   Action  Adventure  Animation  ...  Horror  Music  Musical  Mystery  \\\n",
       "0       0          0          0  ...       0      0        0        0   \n",
       "1       0          1          1  ...       0      0        0        0   \n",
       "2       1          1          1  ...       0      0        0        0   \n",
       "3       0          1          1  ...       0      0        0        0   \n",
       "4       0          1          1  ...       0      0        0        0   \n",
       "\n",
       "   Romance  Sci-Fi  Sport  Thriller  War  Western  \n",
       "0        0       0      0         0    0        0  \n",
       "1        0       0      0         0    0        0  \n",
       "2        0       0      0         0    0        0  \n",
       "3        0       0      0         0    0        0  \n",
       "4        0       0      0         0    0        0  \n",
       "\n",
       "[5 rows x 28 columns]"
      ]
     },
     "execution_count": 23,
     "metadata": {},
     "output_type": "execute_result"
    }
   ],
   "source": [
    "merged_df.head(5)"
   ]
  },
  {
   "cell_type": "code",
   "execution_count": 31,
   "id": "a0bfabfe",
   "metadata": {},
   "outputs": [],
   "source": [
    "X = merged_df[[\"clean_title\",'clean_plot']]"
   ]
  },
  {
   "cell_type": "code",
   "execution_count": 32,
   "id": "7fe12ade",
   "metadata": {},
   "outputs": [],
   "source": [
    "X_train, X_test, y_train, y_test = train_test_split(X, y, test_size=0.3)"
   ]
  },
  {
   "cell_type": "code",
   "execution_count": 58,
   "id": "92c226a8",
   "metadata": {},
   "outputs": [
    {
     "data": {
      "text/plain": [
       "(2968, 2)"
      ]
     },
     "execution_count": 58,
     "metadata": {},
     "output_type": "execute_result"
    }
   ],
   "source": [
    "X_train.shape"
   ]
  },
  {
   "cell_type": "code",
   "execution_count": 33,
   "id": "45437106",
   "metadata": {},
   "outputs": [
    {
     "data": {
      "text/html": [
       "<div>\n",
       "<style scoped>\n",
       "    .dataframe tbody tr th:only-of-type {\n",
       "        vertical-align: middle;\n",
       "    }\n",
       "\n",
       "    .dataframe tbody tr th {\n",
       "        vertical-align: top;\n",
       "    }\n",
       "\n",
       "    .dataframe thead th {\n",
       "        text-align: right;\n",
       "    }\n",
       "</style>\n",
       "<table border=\"1\" class=\"dataframe\">\n",
       "  <thead>\n",
       "    <tr style=\"text-align: right;\">\n",
       "      <th></th>\n",
       "      <th>clean_title</th>\n",
       "      <th>clean_plot</th>\n",
       "    </tr>\n",
       "  </thead>\n",
       "  <tbody>\n",
       "    <tr>\n",
       "      <th>979</th>\n",
       "      <td>highlander</td>\n",
       "      <td>new york city owner sophisticate antique shop ...</td>\n",
       "    </tr>\n",
       "    <tr>\n",
       "      <th>339</th>\n",
       "      <td>dog go heaven</td>\n",
       "      <td>charlie b barkin burt reynolds rascally german...</td>\n",
       "    </tr>\n",
       "    <tr>\n",
       "      <th>2594</th>\n",
       "      <td>rider</td>\n",
       "      <td>brady blackburn rodeo bronc rider renown learn...</td>\n",
       "    </tr>\n",
       "    <tr>\n",
       "      <th>16460</th>\n",
       "      <td>revenant</td>\n",
       "      <td>night funeral bart soldier kill iraq get grave...</td>\n",
       "    </tr>\n",
       "    <tr>\n",
       "      <th>615</th>\n",
       "      <td>cowboy bebop movie</td>\n",
       "      <td>year follow terrorist bomb deadly virus releas...</td>\n",
       "    </tr>\n",
       "  </tbody>\n",
       "</table>\n",
       "</div>"
      ],
      "text/plain": [
       "              clean_title                                         clean_plot\n",
       "979            highlander  new york city owner sophisticate antique shop ...\n",
       "339         dog go heaven  charlie b barkin burt reynolds rascally german...\n",
       "2594                rider  brady blackburn rodeo bronc rider renown learn...\n",
       "16460            revenant  night funeral bart soldier kill iraq get grave...\n",
       "615    cowboy bebop movie  year follow terrorist bomb deadly virus releas..."
      ]
     },
     "execution_count": 33,
     "metadata": {},
     "output_type": "execute_result"
    }
   ],
   "source": [
    "X_train.head(5)"
   ]
  },
  {
   "cell_type": "code",
   "execution_count": 68,
   "id": "45661bd7",
   "metadata": {},
   "outputs": [],
   "source": [
    "# Instantiating the TfidfVectorizer\n",
    "# tf_idf_vectorizer = TfidfVectorizer(max_df=0.8, min_df=0.05, max_features=10000)\n",
    "tf_idf_vectorizer = TfidfVectorizer()\n",
    "\n",
    "# Training it on the texts\n",
    "X_train_plot_vec = pd.DataFrame(tf_idf_vectorizer.fit_transform(X_train[\"clean_plot\"]).toarray(),\n",
    "                 columns = tf_idf_vectorizer.get_feature_names_out())\n",
    "X_train_title_vec = pd.DataFrame(tf_idf_vectorizer.fit_transform(X_train[\"clean_title\"]).toarray(),\n",
    "                 columns = tf_idf_vectorizer.get_feature_names_out())\n",
    "X_test_plot_vec =  pd.DataFrame(tf_idf_vectorizer.transform(X_test[\"clean_plot\"]).toarray(),\n",
    "                 columns = tf_idf_vectorizer.get_feature_names_out())\n",
    "X_test_title_vec =  pd.DataFrame(tf_idf_vectorizer.transform(X_test[\"clean_title\"]).toarray(),\n",
    "                 columns = tf_idf_vectorizer.get_feature_names_out())\n"
   ]
  },
  {
   "cell_type": "code",
   "execution_count": 76,
   "id": "b22e261a",
   "metadata": {},
   "outputs": [
    {
     "data": {
      "text/html": [
       "<div>\n",
       "<style scoped>\n",
       "    .dataframe tbody tr th:only-of-type {\n",
       "        vertical-align: middle;\n",
       "    }\n",
       "\n",
       "    .dataframe tbody tr th {\n",
       "        vertical-align: top;\n",
       "    }\n",
       "\n",
       "    .dataframe thead th {\n",
       "        text-align: right;\n",
       "    }\n",
       "</style>\n",
       "<table border=\"1\" class=\"dataframe\">\n",
       "  <thead>\n",
       "    <tr style=\"text-align: right;\">\n",
       "      <th></th>\n",
       "      <th>abbey</th>\n",
       "      <th>abbott</th>\n",
       "      <th>abdul</th>\n",
       "      <th>abominable</th>\n",
       "      <th>aby</th>\n",
       "      <th>accountant</th>\n",
       "      <th>ace</th>\n",
       "      <th>across</th>\n",
       "      <th>act</th>\n",
       "      <th>action</th>\n",
       "      <th>...</th>\n",
       "      <th>zissou</th>\n",
       "      <th>zodiac</th>\n",
       "      <th>zombie</th>\n",
       "      <th>zombieland</th>\n",
       "      <th>zone</th>\n",
       "      <th>zoo</th>\n",
       "      <th>zookeepers</th>\n",
       "      <th>zorro</th>\n",
       "      <th>zulu</th>\n",
       "      <th>époque</th>\n",
       "    </tr>\n",
       "  </thead>\n",
       "  <tbody>\n",
       "    <tr>\n",
       "      <th>0</th>\n",
       "      <td>0.0</td>\n",
       "      <td>0.0</td>\n",
       "      <td>0.0</td>\n",
       "      <td>0.0</td>\n",
       "      <td>0.0</td>\n",
       "      <td>0.0</td>\n",
       "      <td>0.0</td>\n",
       "      <td>0.0</td>\n",
       "      <td>0.0</td>\n",
       "      <td>0.0</td>\n",
       "      <td>...</td>\n",
       "      <td>0.0</td>\n",
       "      <td>0.0</td>\n",
       "      <td>0.0</td>\n",
       "      <td>0.0</td>\n",
       "      <td>0.0</td>\n",
       "      <td>0.0</td>\n",
       "      <td>0.0</td>\n",
       "      <td>0.0</td>\n",
       "      <td>0.0</td>\n",
       "      <td>0.0</td>\n",
       "    </tr>\n",
       "    <tr>\n",
       "      <th>1</th>\n",
       "      <td>0.0</td>\n",
       "      <td>0.0</td>\n",
       "      <td>0.0</td>\n",
       "      <td>0.0</td>\n",
       "      <td>0.0</td>\n",
       "      <td>0.0</td>\n",
       "      <td>0.0</td>\n",
       "      <td>0.0</td>\n",
       "      <td>0.0</td>\n",
       "      <td>0.0</td>\n",
       "      <td>...</td>\n",
       "      <td>0.0</td>\n",
       "      <td>0.0</td>\n",
       "      <td>0.0</td>\n",
       "      <td>0.0</td>\n",
       "      <td>0.0</td>\n",
       "      <td>0.0</td>\n",
       "      <td>0.0</td>\n",
       "      <td>0.0</td>\n",
       "      <td>0.0</td>\n",
       "      <td>0.0</td>\n",
       "    </tr>\n",
       "    <tr>\n",
       "      <th>2</th>\n",
       "      <td>0.0</td>\n",
       "      <td>0.0</td>\n",
       "      <td>0.0</td>\n",
       "      <td>0.0</td>\n",
       "      <td>0.0</td>\n",
       "      <td>0.0</td>\n",
       "      <td>0.0</td>\n",
       "      <td>0.0</td>\n",
       "      <td>0.0</td>\n",
       "      <td>0.0</td>\n",
       "      <td>...</td>\n",
       "      <td>0.0</td>\n",
       "      <td>0.0</td>\n",
       "      <td>0.0</td>\n",
       "      <td>0.0</td>\n",
       "      <td>0.0</td>\n",
       "      <td>0.0</td>\n",
       "      <td>0.0</td>\n",
       "      <td>0.0</td>\n",
       "      <td>0.0</td>\n",
       "      <td>0.0</td>\n",
       "    </tr>\n",
       "    <tr>\n",
       "      <th>3</th>\n",
       "      <td>0.0</td>\n",
       "      <td>0.0</td>\n",
       "      <td>0.0</td>\n",
       "      <td>0.0</td>\n",
       "      <td>0.0</td>\n",
       "      <td>0.0</td>\n",
       "      <td>0.0</td>\n",
       "      <td>0.0</td>\n",
       "      <td>0.0</td>\n",
       "      <td>0.0</td>\n",
       "      <td>...</td>\n",
       "      <td>0.0</td>\n",
       "      <td>0.0</td>\n",
       "      <td>0.0</td>\n",
       "      <td>0.0</td>\n",
       "      <td>0.0</td>\n",
       "      <td>0.0</td>\n",
       "      <td>0.0</td>\n",
       "      <td>0.0</td>\n",
       "      <td>0.0</td>\n",
       "      <td>0.0</td>\n",
       "    </tr>\n",
       "    <tr>\n",
       "      <th>4</th>\n",
       "      <td>0.0</td>\n",
       "      <td>0.0</td>\n",
       "      <td>0.0</td>\n",
       "      <td>0.0</td>\n",
       "      <td>0.0</td>\n",
       "      <td>0.0</td>\n",
       "      <td>0.0</td>\n",
       "      <td>0.0</td>\n",
       "      <td>0.0</td>\n",
       "      <td>0.0</td>\n",
       "      <td>...</td>\n",
       "      <td>0.0</td>\n",
       "      <td>0.0</td>\n",
       "      <td>0.0</td>\n",
       "      <td>0.0</td>\n",
       "      <td>0.0</td>\n",
       "      <td>0.0</td>\n",
       "      <td>0.0</td>\n",
       "      <td>0.0</td>\n",
       "      <td>0.0</td>\n",
       "      <td>0.0</td>\n",
       "    </tr>\n",
       "    <tr>\n",
       "      <th>...</th>\n",
       "      <td>...</td>\n",
       "      <td>...</td>\n",
       "      <td>...</td>\n",
       "      <td>...</td>\n",
       "      <td>...</td>\n",
       "      <td>...</td>\n",
       "      <td>...</td>\n",
       "      <td>...</td>\n",
       "      <td>...</td>\n",
       "      <td>...</td>\n",
       "      <td>...</td>\n",
       "      <td>...</td>\n",
       "      <td>...</td>\n",
       "      <td>...</td>\n",
       "      <td>...</td>\n",
       "      <td>...</td>\n",
       "      <td>...</td>\n",
       "      <td>...</td>\n",
       "      <td>...</td>\n",
       "      <td>...</td>\n",
       "      <td>...</td>\n",
       "    </tr>\n",
       "    <tr>\n",
       "      <th>1267</th>\n",
       "      <td>0.0</td>\n",
       "      <td>0.0</td>\n",
       "      <td>0.0</td>\n",
       "      <td>0.0</td>\n",
       "      <td>0.0</td>\n",
       "      <td>0.0</td>\n",
       "      <td>0.0</td>\n",
       "      <td>0.0</td>\n",
       "      <td>0.0</td>\n",
       "      <td>0.0</td>\n",
       "      <td>...</td>\n",
       "      <td>0.0</td>\n",
       "      <td>0.0</td>\n",
       "      <td>0.0</td>\n",
       "      <td>0.0</td>\n",
       "      <td>0.0</td>\n",
       "      <td>0.0</td>\n",
       "      <td>0.0</td>\n",
       "      <td>0.0</td>\n",
       "      <td>0.0</td>\n",
       "      <td>0.0</td>\n",
       "    </tr>\n",
       "    <tr>\n",
       "      <th>1268</th>\n",
       "      <td>0.0</td>\n",
       "      <td>0.0</td>\n",
       "      <td>0.0</td>\n",
       "      <td>0.0</td>\n",
       "      <td>0.0</td>\n",
       "      <td>0.0</td>\n",
       "      <td>0.0</td>\n",
       "      <td>0.0</td>\n",
       "      <td>0.0</td>\n",
       "      <td>0.0</td>\n",
       "      <td>...</td>\n",
       "      <td>0.0</td>\n",
       "      <td>0.0</td>\n",
       "      <td>0.0</td>\n",
       "      <td>0.0</td>\n",
       "      <td>0.0</td>\n",
       "      <td>0.0</td>\n",
       "      <td>0.0</td>\n",
       "      <td>0.0</td>\n",
       "      <td>0.0</td>\n",
       "      <td>0.0</td>\n",
       "    </tr>\n",
       "    <tr>\n",
       "      <th>1269</th>\n",
       "      <td>0.0</td>\n",
       "      <td>0.0</td>\n",
       "      <td>0.0</td>\n",
       "      <td>0.0</td>\n",
       "      <td>0.0</td>\n",
       "      <td>0.0</td>\n",
       "      <td>0.0</td>\n",
       "      <td>0.0</td>\n",
       "      <td>0.0</td>\n",
       "      <td>0.0</td>\n",
       "      <td>...</td>\n",
       "      <td>0.0</td>\n",
       "      <td>0.0</td>\n",
       "      <td>0.0</td>\n",
       "      <td>0.0</td>\n",
       "      <td>0.0</td>\n",
       "      <td>0.0</td>\n",
       "      <td>0.0</td>\n",
       "      <td>0.0</td>\n",
       "      <td>0.0</td>\n",
       "      <td>0.0</td>\n",
       "    </tr>\n",
       "    <tr>\n",
       "      <th>1270</th>\n",
       "      <td>0.0</td>\n",
       "      <td>0.0</td>\n",
       "      <td>0.0</td>\n",
       "      <td>0.0</td>\n",
       "      <td>0.0</td>\n",
       "      <td>0.0</td>\n",
       "      <td>0.0</td>\n",
       "      <td>0.0</td>\n",
       "      <td>0.0</td>\n",
       "      <td>0.0</td>\n",
       "      <td>...</td>\n",
       "      <td>0.0</td>\n",
       "      <td>0.0</td>\n",
       "      <td>0.0</td>\n",
       "      <td>0.0</td>\n",
       "      <td>0.0</td>\n",
       "      <td>0.0</td>\n",
       "      <td>0.0</td>\n",
       "      <td>0.0</td>\n",
       "      <td>0.0</td>\n",
       "      <td>0.0</td>\n",
       "    </tr>\n",
       "    <tr>\n",
       "      <th>1271</th>\n",
       "      <td>0.0</td>\n",
       "      <td>0.0</td>\n",
       "      <td>0.0</td>\n",
       "      <td>0.0</td>\n",
       "      <td>0.0</td>\n",
       "      <td>0.0</td>\n",
       "      <td>0.0</td>\n",
       "      <td>0.0</td>\n",
       "      <td>0.0</td>\n",
       "      <td>0.0</td>\n",
       "      <td>...</td>\n",
       "      <td>0.0</td>\n",
       "      <td>0.0</td>\n",
       "      <td>0.0</td>\n",
       "      <td>0.0</td>\n",
       "      <td>0.0</td>\n",
       "      <td>0.0</td>\n",
       "      <td>0.0</td>\n",
       "      <td>0.0</td>\n",
       "      <td>0.0</td>\n",
       "      <td>0.0</td>\n",
       "    </tr>\n",
       "  </tbody>\n",
       "</table>\n",
       "<p>1272 rows × 3033 columns</p>\n",
       "</div>"
      ],
      "text/plain": [
       "      abbey  abbott  abdul  abominable  aby  accountant  ace  across  act  \\\n",
       "0       0.0     0.0    0.0         0.0  0.0         0.0  0.0     0.0  0.0   \n",
       "1       0.0     0.0    0.0         0.0  0.0         0.0  0.0     0.0  0.0   \n",
       "2       0.0     0.0    0.0         0.0  0.0         0.0  0.0     0.0  0.0   \n",
       "3       0.0     0.0    0.0         0.0  0.0         0.0  0.0     0.0  0.0   \n",
       "4       0.0     0.0    0.0         0.0  0.0         0.0  0.0     0.0  0.0   \n",
       "...     ...     ...    ...         ...  ...         ...  ...     ...  ...   \n",
       "1267    0.0     0.0    0.0         0.0  0.0         0.0  0.0     0.0  0.0   \n",
       "1268    0.0     0.0    0.0         0.0  0.0         0.0  0.0     0.0  0.0   \n",
       "1269    0.0     0.0    0.0         0.0  0.0         0.0  0.0     0.0  0.0   \n",
       "1270    0.0     0.0    0.0         0.0  0.0         0.0  0.0     0.0  0.0   \n",
       "1271    0.0     0.0    0.0         0.0  0.0         0.0  0.0     0.0  0.0   \n",
       "\n",
       "      action  ...  zissou  zodiac  zombie  zombieland  zone  zoo  zookeepers  \\\n",
       "0        0.0  ...     0.0     0.0     0.0         0.0   0.0  0.0         0.0   \n",
       "1        0.0  ...     0.0     0.0     0.0         0.0   0.0  0.0         0.0   \n",
       "2        0.0  ...     0.0     0.0     0.0         0.0   0.0  0.0         0.0   \n",
       "3        0.0  ...     0.0     0.0     0.0         0.0   0.0  0.0         0.0   \n",
       "4        0.0  ...     0.0     0.0     0.0         0.0   0.0  0.0         0.0   \n",
       "...      ...  ...     ...     ...     ...         ...   ...  ...         ...   \n",
       "1267     0.0  ...     0.0     0.0     0.0         0.0   0.0  0.0         0.0   \n",
       "1268     0.0  ...     0.0     0.0     0.0         0.0   0.0  0.0         0.0   \n",
       "1269     0.0  ...     0.0     0.0     0.0         0.0   0.0  0.0         0.0   \n",
       "1270     0.0  ...     0.0     0.0     0.0         0.0   0.0  0.0         0.0   \n",
       "1271     0.0  ...     0.0     0.0     0.0         0.0   0.0  0.0         0.0   \n",
       "\n",
       "      zorro  zulu  époque  \n",
       "0       0.0   0.0     0.0  \n",
       "1       0.0   0.0     0.0  \n",
       "2       0.0   0.0     0.0  \n",
       "3       0.0   0.0     0.0  \n",
       "4       0.0   0.0     0.0  \n",
       "...     ...   ...     ...  \n",
       "1267    0.0   0.0     0.0  \n",
       "1268    0.0   0.0     0.0  \n",
       "1269    0.0   0.0     0.0  \n",
       "1270    0.0   0.0     0.0  \n",
       "1271    0.0   0.0     0.0  \n",
       "\n",
       "[1272 rows x 3033 columns]"
      ]
     },
     "execution_count": 76,
     "metadata": {},
     "output_type": "execute_result"
    }
   ],
   "source": [
    "X_test_title_vec"
   ]
  },
  {
   "cell_type": "code",
   "execution_count": 74,
   "id": "ef97c5e5",
   "metadata": {},
   "outputs": [],
   "source": [
    "X_train_vec = pd.concat([X_train_plot_vec,X_train_title_vec], axis=1)"
   ]
  },
  {
   "cell_type": "code",
   "execution_count": 75,
   "id": "ae70d944",
   "metadata": {},
   "outputs": [
    {
     "data": {
      "text/html": [
       "<div>\n",
       "<style scoped>\n",
       "    .dataframe tbody tr th:only-of-type {\n",
       "        vertical-align: middle;\n",
       "    }\n",
       "\n",
       "    .dataframe tbody tr th {\n",
       "        vertical-align: top;\n",
       "    }\n",
       "\n",
       "    .dataframe thead th {\n",
       "        text-align: right;\n",
       "    }\n",
       "</style>\n",
       "<table border=\"1\" class=\"dataframe\">\n",
       "  <thead>\n",
       "    <tr style=\"text-align: right;\">\n",
       "      <th></th>\n",
       "      <th>aa</th>\n",
       "      <th>aaa</th>\n",
       "      <th>aames</th>\n",
       "      <th>aamir</th>\n",
       "      <th>aampm</th>\n",
       "      <th>aarfa</th>\n",
       "      <th>aaron</th>\n",
       "      <th>aarons</th>\n",
       "      <th>aaronson</th>\n",
       "      <th>abagnale</th>\n",
       "      <th>...</th>\n",
       "      <th>zissou</th>\n",
       "      <th>zodiac</th>\n",
       "      <th>zombie</th>\n",
       "      <th>zombieland</th>\n",
       "      <th>zone</th>\n",
       "      <th>zoo</th>\n",
       "      <th>zookeepers</th>\n",
       "      <th>zorro</th>\n",
       "      <th>zulu</th>\n",
       "      <th>époque</th>\n",
       "    </tr>\n",
       "  </thead>\n",
       "  <tbody>\n",
       "    <tr>\n",
       "      <th>0</th>\n",
       "      <td>0.0</td>\n",
       "      <td>0.0</td>\n",
       "      <td>0.0</td>\n",
       "      <td>0.0</td>\n",
       "      <td>0.0</td>\n",
       "      <td>0.0</td>\n",
       "      <td>0.0</td>\n",
       "      <td>0.0</td>\n",
       "      <td>0.0</td>\n",
       "      <td>0.0</td>\n",
       "      <td>...</td>\n",
       "      <td>0.0</td>\n",
       "      <td>0.0</td>\n",
       "      <td>0.0</td>\n",
       "      <td>0.0</td>\n",
       "      <td>0.0</td>\n",
       "      <td>0.0</td>\n",
       "      <td>0.0</td>\n",
       "      <td>0.0</td>\n",
       "      <td>0.0</td>\n",
       "      <td>0.0</td>\n",
       "    </tr>\n",
       "    <tr>\n",
       "      <th>1</th>\n",
       "      <td>0.0</td>\n",
       "      <td>0.0</td>\n",
       "      <td>0.0</td>\n",
       "      <td>0.0</td>\n",
       "      <td>0.0</td>\n",
       "      <td>0.0</td>\n",
       "      <td>0.0</td>\n",
       "      <td>0.0</td>\n",
       "      <td>0.0</td>\n",
       "      <td>0.0</td>\n",
       "      <td>...</td>\n",
       "      <td>0.0</td>\n",
       "      <td>0.0</td>\n",
       "      <td>0.0</td>\n",
       "      <td>0.0</td>\n",
       "      <td>0.0</td>\n",
       "      <td>0.0</td>\n",
       "      <td>0.0</td>\n",
       "      <td>0.0</td>\n",
       "      <td>0.0</td>\n",
       "      <td>0.0</td>\n",
       "    </tr>\n",
       "    <tr>\n",
       "      <th>2</th>\n",
       "      <td>0.0</td>\n",
       "      <td>0.0</td>\n",
       "      <td>0.0</td>\n",
       "      <td>0.0</td>\n",
       "      <td>0.0</td>\n",
       "      <td>0.0</td>\n",
       "      <td>0.0</td>\n",
       "      <td>0.0</td>\n",
       "      <td>0.0</td>\n",
       "      <td>0.0</td>\n",
       "      <td>...</td>\n",
       "      <td>0.0</td>\n",
       "      <td>0.0</td>\n",
       "      <td>0.0</td>\n",
       "      <td>0.0</td>\n",
       "      <td>0.0</td>\n",
       "      <td>0.0</td>\n",
       "      <td>0.0</td>\n",
       "      <td>0.0</td>\n",
       "      <td>0.0</td>\n",
       "      <td>0.0</td>\n",
       "    </tr>\n",
       "    <tr>\n",
       "      <th>3</th>\n",
       "      <td>0.0</td>\n",
       "      <td>0.0</td>\n",
       "      <td>0.0</td>\n",
       "      <td>0.0</td>\n",
       "      <td>0.0</td>\n",
       "      <td>0.0</td>\n",
       "      <td>0.0</td>\n",
       "      <td>0.0</td>\n",
       "      <td>0.0</td>\n",
       "      <td>0.0</td>\n",
       "      <td>...</td>\n",
       "      <td>0.0</td>\n",
       "      <td>0.0</td>\n",
       "      <td>0.0</td>\n",
       "      <td>0.0</td>\n",
       "      <td>0.0</td>\n",
       "      <td>0.0</td>\n",
       "      <td>0.0</td>\n",
       "      <td>0.0</td>\n",
       "      <td>0.0</td>\n",
       "      <td>0.0</td>\n",
       "    </tr>\n",
       "    <tr>\n",
       "      <th>4</th>\n",
       "      <td>0.0</td>\n",
       "      <td>0.0</td>\n",
       "      <td>0.0</td>\n",
       "      <td>0.0</td>\n",
       "      <td>0.0</td>\n",
       "      <td>0.0</td>\n",
       "      <td>0.0</td>\n",
       "      <td>0.0</td>\n",
       "      <td>0.0</td>\n",
       "      <td>0.0</td>\n",
       "      <td>...</td>\n",
       "      <td>0.0</td>\n",
       "      <td>0.0</td>\n",
       "      <td>0.0</td>\n",
       "      <td>0.0</td>\n",
       "      <td>0.0</td>\n",
       "      <td>0.0</td>\n",
       "      <td>0.0</td>\n",
       "      <td>0.0</td>\n",
       "      <td>0.0</td>\n",
       "      <td>0.0</td>\n",
       "    </tr>\n",
       "    <tr>\n",
       "      <th>...</th>\n",
       "      <td>...</td>\n",
       "      <td>...</td>\n",
       "      <td>...</td>\n",
       "      <td>...</td>\n",
       "      <td>...</td>\n",
       "      <td>...</td>\n",
       "      <td>...</td>\n",
       "      <td>...</td>\n",
       "      <td>...</td>\n",
       "      <td>...</td>\n",
       "      <td>...</td>\n",
       "      <td>...</td>\n",
       "      <td>...</td>\n",
       "      <td>...</td>\n",
       "      <td>...</td>\n",
       "      <td>...</td>\n",
       "      <td>...</td>\n",
       "      <td>...</td>\n",
       "      <td>...</td>\n",
       "      <td>...</td>\n",
       "      <td>...</td>\n",
       "    </tr>\n",
       "    <tr>\n",
       "      <th>2963</th>\n",
       "      <td>0.0</td>\n",
       "      <td>0.0</td>\n",
       "      <td>0.0</td>\n",
       "      <td>0.0</td>\n",
       "      <td>0.0</td>\n",
       "      <td>0.0</td>\n",
       "      <td>0.0</td>\n",
       "      <td>0.0</td>\n",
       "      <td>0.0</td>\n",
       "      <td>0.0</td>\n",
       "      <td>...</td>\n",
       "      <td>0.0</td>\n",
       "      <td>0.0</td>\n",
       "      <td>0.0</td>\n",
       "      <td>0.0</td>\n",
       "      <td>0.0</td>\n",
       "      <td>0.0</td>\n",
       "      <td>0.0</td>\n",
       "      <td>0.0</td>\n",
       "      <td>0.0</td>\n",
       "      <td>0.0</td>\n",
       "    </tr>\n",
       "    <tr>\n",
       "      <th>2964</th>\n",
       "      <td>0.0</td>\n",
       "      <td>0.0</td>\n",
       "      <td>0.0</td>\n",
       "      <td>0.0</td>\n",
       "      <td>0.0</td>\n",
       "      <td>0.0</td>\n",
       "      <td>0.0</td>\n",
       "      <td>0.0</td>\n",
       "      <td>0.0</td>\n",
       "      <td>0.0</td>\n",
       "      <td>...</td>\n",
       "      <td>0.0</td>\n",
       "      <td>0.0</td>\n",
       "      <td>0.0</td>\n",
       "      <td>0.0</td>\n",
       "      <td>0.0</td>\n",
       "      <td>0.0</td>\n",
       "      <td>0.0</td>\n",
       "      <td>0.0</td>\n",
       "      <td>0.0</td>\n",
       "      <td>0.0</td>\n",
       "    </tr>\n",
       "    <tr>\n",
       "      <th>2965</th>\n",
       "      <td>0.0</td>\n",
       "      <td>0.0</td>\n",
       "      <td>0.0</td>\n",
       "      <td>0.0</td>\n",
       "      <td>0.0</td>\n",
       "      <td>0.0</td>\n",
       "      <td>0.0</td>\n",
       "      <td>0.0</td>\n",
       "      <td>0.0</td>\n",
       "      <td>0.0</td>\n",
       "      <td>...</td>\n",
       "      <td>0.0</td>\n",
       "      <td>0.0</td>\n",
       "      <td>0.0</td>\n",
       "      <td>0.0</td>\n",
       "      <td>0.0</td>\n",
       "      <td>0.0</td>\n",
       "      <td>0.0</td>\n",
       "      <td>0.0</td>\n",
       "      <td>0.0</td>\n",
       "      <td>0.0</td>\n",
       "    </tr>\n",
       "    <tr>\n",
       "      <th>2966</th>\n",
       "      <td>0.0</td>\n",
       "      <td>0.0</td>\n",
       "      <td>0.0</td>\n",
       "      <td>0.0</td>\n",
       "      <td>0.0</td>\n",
       "      <td>0.0</td>\n",
       "      <td>0.0</td>\n",
       "      <td>0.0</td>\n",
       "      <td>0.0</td>\n",
       "      <td>0.0</td>\n",
       "      <td>...</td>\n",
       "      <td>0.0</td>\n",
       "      <td>0.0</td>\n",
       "      <td>0.0</td>\n",
       "      <td>0.0</td>\n",
       "      <td>0.0</td>\n",
       "      <td>0.0</td>\n",
       "      <td>0.0</td>\n",
       "      <td>0.0</td>\n",
       "      <td>0.0</td>\n",
       "      <td>0.0</td>\n",
       "    </tr>\n",
       "    <tr>\n",
       "      <th>2967</th>\n",
       "      <td>0.0</td>\n",
       "      <td>0.0</td>\n",
       "      <td>0.0</td>\n",
       "      <td>0.0</td>\n",
       "      <td>0.0</td>\n",
       "      <td>0.0</td>\n",
       "      <td>0.0</td>\n",
       "      <td>0.0</td>\n",
       "      <td>0.0</td>\n",
       "      <td>0.0</td>\n",
       "      <td>...</td>\n",
       "      <td>0.0</td>\n",
       "      <td>0.0</td>\n",
       "      <td>0.0</td>\n",
       "      <td>0.0</td>\n",
       "      <td>0.0</td>\n",
       "      <td>0.0</td>\n",
       "      <td>0.0</td>\n",
       "      <td>0.0</td>\n",
       "      <td>0.0</td>\n",
       "      <td>0.0</td>\n",
       "    </tr>\n",
       "  </tbody>\n",
       "</table>\n",
       "<p>2968 rows × 25469 columns</p>\n",
       "</div>"
      ],
      "text/plain": [
       "       aa  aaa  aames  aamir  aampm  aarfa  aaron  aarons  aaronson  abagnale  \\\n",
       "0     0.0  0.0    0.0    0.0    0.0    0.0    0.0     0.0       0.0       0.0   \n",
       "1     0.0  0.0    0.0    0.0    0.0    0.0    0.0     0.0       0.0       0.0   \n",
       "2     0.0  0.0    0.0    0.0    0.0    0.0    0.0     0.0       0.0       0.0   \n",
       "3     0.0  0.0    0.0    0.0    0.0    0.0    0.0     0.0       0.0       0.0   \n",
       "4     0.0  0.0    0.0    0.0    0.0    0.0    0.0     0.0       0.0       0.0   \n",
       "...   ...  ...    ...    ...    ...    ...    ...     ...       ...       ...   \n",
       "2963  0.0  0.0    0.0    0.0    0.0    0.0    0.0     0.0       0.0       0.0   \n",
       "2964  0.0  0.0    0.0    0.0    0.0    0.0    0.0     0.0       0.0       0.0   \n",
       "2965  0.0  0.0    0.0    0.0    0.0    0.0    0.0     0.0       0.0       0.0   \n",
       "2966  0.0  0.0    0.0    0.0    0.0    0.0    0.0     0.0       0.0       0.0   \n",
       "2967  0.0  0.0    0.0    0.0    0.0    0.0    0.0     0.0       0.0       0.0   \n",
       "\n",
       "      ...  zissou  zodiac  zombie  zombieland  zone  zoo  zookeepers  zorro  \\\n",
       "0     ...     0.0     0.0     0.0         0.0   0.0  0.0         0.0    0.0   \n",
       "1     ...     0.0     0.0     0.0         0.0   0.0  0.0         0.0    0.0   \n",
       "2     ...     0.0     0.0     0.0         0.0   0.0  0.0         0.0    0.0   \n",
       "3     ...     0.0     0.0     0.0         0.0   0.0  0.0         0.0    0.0   \n",
       "4     ...     0.0     0.0     0.0         0.0   0.0  0.0         0.0    0.0   \n",
       "...   ...     ...     ...     ...         ...   ...  ...         ...    ...   \n",
       "2963  ...     0.0     0.0     0.0         0.0   0.0  0.0         0.0    0.0   \n",
       "2964  ...     0.0     0.0     0.0         0.0   0.0  0.0         0.0    0.0   \n",
       "2965  ...     0.0     0.0     0.0         0.0   0.0  0.0         0.0    0.0   \n",
       "2966  ...     0.0     0.0     0.0         0.0   0.0  0.0         0.0    0.0   \n",
       "2967  ...     0.0     0.0     0.0         0.0   0.0  0.0         0.0    0.0   \n",
       "\n",
       "      zulu  époque  \n",
       "0      0.0     0.0  \n",
       "1      0.0     0.0  \n",
       "2      0.0     0.0  \n",
       "3      0.0     0.0  \n",
       "4      0.0     0.0  \n",
       "...    ...     ...  \n",
       "2963   0.0     0.0  \n",
       "2964   0.0     0.0  \n",
       "2965   0.0     0.0  \n",
       "2966   0.0     0.0  \n",
       "2967   0.0     0.0  \n",
       "\n",
       "[2968 rows x 25469 columns]"
      ]
     },
     "execution_count": 75,
     "metadata": {},
     "output_type": "execute_result"
    }
   ],
   "source": [
    "X_train_vec"
   ]
  },
  {
   "cell_type": "code",
   "execution_count": 77,
   "id": "2b766bb5",
   "metadata": {},
   "outputs": [
    {
     "data": {
      "text/plain": [
       "(2968, 25469)"
      ]
     },
     "execution_count": 77,
     "metadata": {},
     "output_type": "execute_result"
    }
   ],
   "source": [
    "X_train_vec.shape"
   ]
  },
  {
   "cell_type": "code",
   "execution_count": 78,
   "id": "a6cb0dba",
   "metadata": {},
   "outputs": [],
   "source": [
    "X_test_vec = pd.concat([X_test_plot_vec,X_test_title_vec], axis=1)"
   ]
  },
  {
   "cell_type": "code",
   "execution_count": 79,
   "id": "17d25822",
   "metadata": {},
   "outputs": [
    {
     "data": {
      "text/html": [
       "<div>\n",
       "<style scoped>\n",
       "    .dataframe tbody tr th:only-of-type {\n",
       "        vertical-align: middle;\n",
       "    }\n",
       "\n",
       "    .dataframe tbody tr th {\n",
       "        vertical-align: top;\n",
       "    }\n",
       "\n",
       "    .dataframe thead th {\n",
       "        text-align: right;\n",
       "    }\n",
       "</style>\n",
       "<table border=\"1\" class=\"dataframe\">\n",
       "  <thead>\n",
       "    <tr style=\"text-align: right;\">\n",
       "      <th></th>\n",
       "      <th>aa</th>\n",
       "      <th>aaa</th>\n",
       "      <th>aames</th>\n",
       "      <th>aamir</th>\n",
       "      <th>aampm</th>\n",
       "      <th>aarfa</th>\n",
       "      <th>aaron</th>\n",
       "      <th>aarons</th>\n",
       "      <th>aaronson</th>\n",
       "      <th>abagnale</th>\n",
       "      <th>...</th>\n",
       "      <th>zissou</th>\n",
       "      <th>zodiac</th>\n",
       "      <th>zombie</th>\n",
       "      <th>zombieland</th>\n",
       "      <th>zone</th>\n",
       "      <th>zoo</th>\n",
       "      <th>zookeepers</th>\n",
       "      <th>zorro</th>\n",
       "      <th>zulu</th>\n",
       "      <th>époque</th>\n",
       "    </tr>\n",
       "  </thead>\n",
       "  <tbody>\n",
       "    <tr>\n",
       "      <th>0</th>\n",
       "      <td>0.0</td>\n",
       "      <td>0.0</td>\n",
       "      <td>0.0</td>\n",
       "      <td>0.0</td>\n",
       "      <td>0.0</td>\n",
       "      <td>0.0</td>\n",
       "      <td>0.0</td>\n",
       "      <td>0.0</td>\n",
       "      <td>0.0</td>\n",
       "      <td>0.0</td>\n",
       "      <td>...</td>\n",
       "      <td>0.0</td>\n",
       "      <td>0.0</td>\n",
       "      <td>0.0</td>\n",
       "      <td>0.0</td>\n",
       "      <td>0.0</td>\n",
       "      <td>0.0</td>\n",
       "      <td>0.0</td>\n",
       "      <td>0.0</td>\n",
       "      <td>0.0</td>\n",
       "      <td>0.0</td>\n",
       "    </tr>\n",
       "    <tr>\n",
       "      <th>1</th>\n",
       "      <td>0.0</td>\n",
       "      <td>0.0</td>\n",
       "      <td>0.0</td>\n",
       "      <td>0.0</td>\n",
       "      <td>0.0</td>\n",
       "      <td>0.0</td>\n",
       "      <td>0.0</td>\n",
       "      <td>0.0</td>\n",
       "      <td>0.0</td>\n",
       "      <td>0.0</td>\n",
       "      <td>...</td>\n",
       "      <td>0.0</td>\n",
       "      <td>0.0</td>\n",
       "      <td>0.0</td>\n",
       "      <td>0.0</td>\n",
       "      <td>0.0</td>\n",
       "      <td>0.0</td>\n",
       "      <td>0.0</td>\n",
       "      <td>0.0</td>\n",
       "      <td>0.0</td>\n",
       "      <td>0.0</td>\n",
       "    </tr>\n",
       "    <tr>\n",
       "      <th>2</th>\n",
       "      <td>0.0</td>\n",
       "      <td>0.0</td>\n",
       "      <td>0.0</td>\n",
       "      <td>0.0</td>\n",
       "      <td>0.0</td>\n",
       "      <td>0.0</td>\n",
       "      <td>0.0</td>\n",
       "      <td>0.0</td>\n",
       "      <td>0.0</td>\n",
       "      <td>0.0</td>\n",
       "      <td>...</td>\n",
       "      <td>0.0</td>\n",
       "      <td>0.0</td>\n",
       "      <td>0.0</td>\n",
       "      <td>0.0</td>\n",
       "      <td>0.0</td>\n",
       "      <td>0.0</td>\n",
       "      <td>0.0</td>\n",
       "      <td>0.0</td>\n",
       "      <td>0.0</td>\n",
       "      <td>0.0</td>\n",
       "    </tr>\n",
       "    <tr>\n",
       "      <th>3</th>\n",
       "      <td>0.0</td>\n",
       "      <td>0.0</td>\n",
       "      <td>0.0</td>\n",
       "      <td>0.0</td>\n",
       "      <td>0.0</td>\n",
       "      <td>0.0</td>\n",
       "      <td>0.0</td>\n",
       "      <td>0.0</td>\n",
       "      <td>0.0</td>\n",
       "      <td>0.0</td>\n",
       "      <td>...</td>\n",
       "      <td>0.0</td>\n",
       "      <td>0.0</td>\n",
       "      <td>0.0</td>\n",
       "      <td>0.0</td>\n",
       "      <td>0.0</td>\n",
       "      <td>0.0</td>\n",
       "      <td>0.0</td>\n",
       "      <td>0.0</td>\n",
       "      <td>0.0</td>\n",
       "      <td>0.0</td>\n",
       "    </tr>\n",
       "    <tr>\n",
       "      <th>4</th>\n",
       "      <td>0.0</td>\n",
       "      <td>0.0</td>\n",
       "      <td>0.0</td>\n",
       "      <td>0.0</td>\n",
       "      <td>0.0</td>\n",
       "      <td>0.0</td>\n",
       "      <td>0.0</td>\n",
       "      <td>0.0</td>\n",
       "      <td>0.0</td>\n",
       "      <td>0.0</td>\n",
       "      <td>...</td>\n",
       "      <td>0.0</td>\n",
       "      <td>0.0</td>\n",
       "      <td>0.0</td>\n",
       "      <td>0.0</td>\n",
       "      <td>0.0</td>\n",
       "      <td>0.0</td>\n",
       "      <td>0.0</td>\n",
       "      <td>0.0</td>\n",
       "      <td>0.0</td>\n",
       "      <td>0.0</td>\n",
       "    </tr>\n",
       "  </tbody>\n",
       "</table>\n",
       "<p>5 rows × 25469 columns</p>\n",
       "</div>"
      ],
      "text/plain": [
       "    aa  aaa  aames  aamir  aampm  aarfa  aaron  aarons  aaronson  abagnale  \\\n",
       "0  0.0  0.0    0.0    0.0    0.0    0.0    0.0     0.0       0.0       0.0   \n",
       "1  0.0  0.0    0.0    0.0    0.0    0.0    0.0     0.0       0.0       0.0   \n",
       "2  0.0  0.0    0.0    0.0    0.0    0.0    0.0     0.0       0.0       0.0   \n",
       "3  0.0  0.0    0.0    0.0    0.0    0.0    0.0     0.0       0.0       0.0   \n",
       "4  0.0  0.0    0.0    0.0    0.0    0.0    0.0     0.0       0.0       0.0   \n",
       "\n",
       "   ...  zissou  zodiac  zombie  zombieland  zone  zoo  zookeepers  zorro  \\\n",
       "0  ...     0.0     0.0     0.0         0.0   0.0  0.0         0.0    0.0   \n",
       "1  ...     0.0     0.0     0.0         0.0   0.0  0.0         0.0    0.0   \n",
       "2  ...     0.0     0.0     0.0         0.0   0.0  0.0         0.0    0.0   \n",
       "3  ...     0.0     0.0     0.0         0.0   0.0  0.0         0.0    0.0   \n",
       "4  ...     0.0     0.0     0.0         0.0   0.0  0.0         0.0    0.0   \n",
       "\n",
       "   zulu  époque  \n",
       "0   0.0     0.0  \n",
       "1   0.0     0.0  \n",
       "2   0.0     0.0  \n",
       "3   0.0     0.0  \n",
       "4   0.0     0.0  \n",
       "\n",
       "[5 rows x 25469 columns]"
      ]
     },
     "execution_count": 79,
     "metadata": {},
     "output_type": "execute_result"
    }
   ],
   "source": [
    "X_train_vec.head(5)"
   ]
  },
  {
   "cell_type": "code",
   "execution_count": 80,
   "id": "bfb33a0d",
   "metadata": {},
   "outputs": [
    {
     "data": {
      "text/plain": [
       "(1272, 6066)"
      ]
     },
     "execution_count": 80,
     "metadata": {},
     "output_type": "execute_result"
    }
   ],
   "source": [
    "X_test_vec.shape"
   ]
  },
  {
   "cell_type": "code",
   "execution_count": 81,
   "id": "8f164be9",
   "metadata": {},
   "outputs": [],
   "source": [
    "from sklearn.linear_model import LogisticRegression\n",
    "from sklearn.multiclass import OneVsRestClassifier\n",
    "from sklearn.metrics import f1_score, accuracy_score"
   ]
  },
  {
   "cell_type": "markdown",
   "id": "9ec0c451",
   "metadata": {},
   "source": [
    "## OneVsRest logistic regression"
   ]
  },
  {
   "cell_type": "markdown",
   "id": "43002255",
   "metadata": {},
   "source": [
    "### Simple OneVsRest logistic regression"
   ]
  },
  {
   "cell_type": "code",
   "execution_count": null,
   "id": "46ae2a71",
   "metadata": {},
   "outputs": [],
   "source": [
    "log = LogisticRegression()\n",
    "model_test_1 = OneVsRestClassifier(log)\n",
    "\n",
    "model_test_1.fit(X_train_vec, y_train)"
   ]
  },
  {
   "cell_type": "code",
   "execution_count": null,
   "id": "75455326",
   "metadata": {},
   "outputs": [],
   "source": [
    "y_pred = model_test_1.predict(X_test_vec)"
   ]
  },
  {
   "cell_type": "code",
   "execution_count": null,
   "id": "5dc494f9",
   "metadata": {},
   "outputs": [],
   "source": [
    "accuracy_score(y_test, y_pred)"
   ]
  },
  {
   "cell_type": "code",
   "execution_count": null,
   "id": "e915c3a4",
   "metadata": {},
   "outputs": [],
   "source": [
    "multilabel_binarizer.inverse_transform(y_pred)[1]"
   ]
  },
  {
   "cell_type": "code",
   "execution_count": null,
   "id": "5ee747e7",
   "metadata": {},
   "outputs": [],
   "source": [
    "merged_df[merged_df.clean_plot == X_test.iat[1]]"
   ]
  },
  {
   "cell_type": "markdown",
   "id": "4f94bf73",
   "metadata": {},
   "source": [
    "#### Grouping the topic"
   ]
  },
  {
   "cell_type": "code",
   "execution_count": null,
   "id": "297aea2f",
   "metadata": {},
   "outputs": [],
   "source": [
    "from sklearn.decomposition import LatentDirichletAllocation\n",
    "\n",
    "# Instantiate the LDA \n",
    "n_components = 7\n",
    "lda_model = LatentDirichletAllocation(n_components=n_components, max_iter = 500)\n",
    "\n",
    "# Fit the LDA on the vectorized documents\n",
    "lda_model.fit(X_train_vec)"
   ]
  },
  {
   "cell_type": "code",
   "execution_count": null,
   "id": "d35716ee",
   "metadata": {},
   "outputs": [],
   "source": [
    "X_train_topic_mixture = lda_model.transform(X_train_vec)\n",
    "X_train_topic_df = pd.DataFrame(X_train_topic_mixture)\n",
    "X_train_topic_df"
   ]
  },
  {
   "cell_type": "code",
   "execution_count": null,
   "id": "5dda4ec4",
   "metadata": {},
   "outputs": [],
   "source": [
    "X_test_topic_mixture = lda_model.transform(X_test_vec)\n",
    "X_test_topic_df = pd.DataFrame(X_test_topic_mixture)\n",
    "X_test_topic_df"
   ]
  },
  {
   "cell_type": "markdown",
   "id": "56079a6c",
   "metadata": {
    "heading_collapsed": true
   },
   "source": [
    "### Training OneVsRest using topic grouping as input"
   ]
  },
  {
   "cell_type": "code",
   "execution_count": 50,
   "id": "766d1edb",
   "metadata": {
    "hidden": true
   },
   "outputs": [
    {
     "ename": "NameError",
     "evalue": "name 'X_train_topic_df' is not defined",
     "output_type": "error",
     "traceback": [
      "\u001b[0;31m---------------------------------------------------------------------------\u001b[0m",
      "\u001b[0;31mNameError\u001b[0m                                 Traceback (most recent call last)",
      "Cell \u001b[0;32mIn [50], line 2\u001b[0m\n\u001b[1;32m      1\u001b[0m model_test_2 \u001b[38;5;241m=\u001b[39m OneVsRestClassifier(log)\n\u001b[0;32m----> 2\u001b[0m model_test_2\u001b[38;5;241m.\u001b[39mfit(\u001b[43mX_train_topic_df\u001b[49m, y_train)\n",
      "\u001b[0;31mNameError\u001b[0m: name 'X_train_topic_df' is not defined"
     ]
    }
   ],
   "source": [
    "model_test_2 = OneVsRestClassifier(log)\n",
    "model_test_2.fit(X_train_topic_df, y_train)"
   ]
  },
  {
   "cell_type": "code",
   "execution_count": null,
   "id": "756a9c22",
   "metadata": {
    "hidden": true
   },
   "outputs": [],
   "source": [
    "y_pred_2 = model_test_2.predict(X_test_topic_df)\n",
    "accuracy_score(y_test, y_pred_2)"
   ]
  },
  {
   "cell_type": "code",
   "execution_count": null,
   "id": "fafcd154",
   "metadata": {
    "hidden": true
   },
   "outputs": [],
   "source": [
    "multilabel_binarizer.inverse_transform(y_pred_2)[0:10]"
   ]
  },
  {
   "cell_type": "code",
   "execution_count": null,
   "id": "1b4e171c",
   "metadata": {
    "hidden": true
   },
   "outputs": [],
   "source": [
    "multilabel_binarizer.inverse_transform(y_test)[0:10]"
   ]
  },
  {
   "cell_type": "markdown",
   "id": "64c4b66c",
   "metadata": {
    "heading_collapsed": true
   },
   "source": [
    "### Using both topic grouping as input + OneVsRest "
   ]
  },
  {
   "cell_type": "code",
   "execution_count": null,
   "id": "f7a8af48",
   "metadata": {
    "hidden": true
   },
   "outputs": [],
   "source": [
    "# model_test_3 = OneVsRestClassifier(log)\n",
    "# model_test_3.fit(X_train_topic_df, y_train)\n",
    "# model_test_3.fit(X_train_vec, y_train)"
   ]
  },
  {
   "cell_type": "code",
   "execution_count": null,
   "id": "f2392f7f",
   "metadata": {
    "hidden": true
   },
   "outputs": [],
   "source": [
    "# y_pred_3 = model_test_2.predict(X_test_topic_df)\n",
    "# accuracy_score(y_test, y_pred_3)"
   ]
  },
  {
   "cell_type": "markdown",
   "id": "e635cf7c",
   "metadata": {},
   "source": [
    "## SGD"
   ]
  },
  {
   "cell_type": "code",
   "execution_count": 51,
   "id": "c3edea9d",
   "metadata": {},
   "outputs": [
    {
     "data": {
      "text/html": [
       "<style>#sk-container-id-2 {color: black;background-color: white;}#sk-container-id-2 pre{padding: 0;}#sk-container-id-2 div.sk-toggleable {background-color: white;}#sk-container-id-2 label.sk-toggleable__label {cursor: pointer;display: block;width: 100%;margin-bottom: 0;padding: 0.3em;box-sizing: border-box;text-align: center;}#sk-container-id-2 label.sk-toggleable__label-arrow:before {content: \"▸\";float: left;margin-right: 0.25em;color: #696969;}#sk-container-id-2 label.sk-toggleable__label-arrow:hover:before {color: black;}#sk-container-id-2 div.sk-estimator:hover label.sk-toggleable__label-arrow:before {color: black;}#sk-container-id-2 div.sk-toggleable__content {max-height: 0;max-width: 0;overflow: hidden;text-align: left;background-color: #f0f8ff;}#sk-container-id-2 div.sk-toggleable__content pre {margin: 0.2em;color: black;border-radius: 0.25em;background-color: #f0f8ff;}#sk-container-id-2 input.sk-toggleable__control:checked~div.sk-toggleable__content {max-height: 200px;max-width: 100%;overflow: auto;}#sk-container-id-2 input.sk-toggleable__control:checked~label.sk-toggleable__label-arrow:before {content: \"▾\";}#sk-container-id-2 div.sk-estimator input.sk-toggleable__control:checked~label.sk-toggleable__label {background-color: #d4ebff;}#sk-container-id-2 div.sk-label input.sk-toggleable__control:checked~label.sk-toggleable__label {background-color: #d4ebff;}#sk-container-id-2 input.sk-hidden--visually {border: 0;clip: rect(1px 1px 1px 1px);clip: rect(1px, 1px, 1px, 1px);height: 1px;margin: -1px;overflow: hidden;padding: 0;position: absolute;width: 1px;}#sk-container-id-2 div.sk-estimator {font-family: monospace;background-color: #f0f8ff;border: 1px dotted black;border-radius: 0.25em;box-sizing: border-box;margin-bottom: 0.5em;}#sk-container-id-2 div.sk-estimator:hover {background-color: #d4ebff;}#sk-container-id-2 div.sk-parallel-item::after {content: \"\";width: 100%;border-bottom: 1px solid gray;flex-grow: 1;}#sk-container-id-2 div.sk-label:hover label.sk-toggleable__label {background-color: #d4ebff;}#sk-container-id-2 div.sk-serial::before {content: \"\";position: absolute;border-left: 1px solid gray;box-sizing: border-box;top: 0;bottom: 0;left: 50%;z-index: 0;}#sk-container-id-2 div.sk-serial {display: flex;flex-direction: column;align-items: center;background-color: white;padding-right: 0.2em;padding-left: 0.2em;position: relative;}#sk-container-id-2 div.sk-item {position: relative;z-index: 1;}#sk-container-id-2 div.sk-parallel {display: flex;align-items: stretch;justify-content: center;background-color: white;position: relative;}#sk-container-id-2 div.sk-item::before, #sk-container-id-2 div.sk-parallel-item::before {content: \"\";position: absolute;border-left: 1px solid gray;box-sizing: border-box;top: 0;bottom: 0;left: 50%;z-index: -1;}#sk-container-id-2 div.sk-parallel-item {display: flex;flex-direction: column;z-index: 1;position: relative;background-color: white;}#sk-container-id-2 div.sk-parallel-item:first-child::after {align-self: flex-end;width: 50%;}#sk-container-id-2 div.sk-parallel-item:last-child::after {align-self: flex-start;width: 50%;}#sk-container-id-2 div.sk-parallel-item:only-child::after {width: 0;}#sk-container-id-2 div.sk-dashed-wrapped {border: 1px dashed gray;margin: 0 0.4em 0.5em 0.4em;box-sizing: border-box;padding-bottom: 0.4em;background-color: white;}#sk-container-id-2 div.sk-label label {font-family: monospace;font-weight: bold;display: inline-block;line-height: 1.2em;}#sk-container-id-2 div.sk-label-container {text-align: center;}#sk-container-id-2 div.sk-container {/* jupyter's `normalize.less` sets `[hidden] { display: none; }` but bootstrap.min.css set `[hidden] { display: none !important; }` so we also need the `!important` here to be able to override the default hidden behavior on the sphinx rendered scikit-learn.org. See: https://github.com/scikit-learn/scikit-learn/issues/21755 */display: inline-block !important;position: relative;}#sk-container-id-2 div.sk-text-repr-fallback {display: none;}</style><div id=\"sk-container-id-2\" class=\"sk-top-container\"><div class=\"sk-text-repr-fallback\"><pre>OneVsRestClassifier(estimator=SGDClassifier(random_state=42))</pre><b>In a Jupyter environment, please rerun this cell to show the HTML representation or trust the notebook. <br />On GitHub, the HTML representation is unable to render, please try loading this page with nbviewer.org.</b></div><div class=\"sk-container\" hidden><div class=\"sk-item sk-dashed-wrapped\"><div class=\"sk-label-container\"><div class=\"sk-label sk-toggleable\"><input class=\"sk-toggleable__control sk-hidden--visually\" id=\"sk-estimator-id-4\" type=\"checkbox\" ><label for=\"sk-estimator-id-4\" class=\"sk-toggleable__label sk-toggleable__label-arrow\">OneVsRestClassifier</label><div class=\"sk-toggleable__content\"><pre>OneVsRestClassifier(estimator=SGDClassifier(random_state=42))</pre></div></div></div><div class=\"sk-parallel\"><div class=\"sk-parallel-item\"><div class=\"sk-item\"><div class=\"sk-label-container\"><div class=\"sk-label sk-toggleable\"><input class=\"sk-toggleable__control sk-hidden--visually\" id=\"sk-estimator-id-5\" type=\"checkbox\" ><label for=\"sk-estimator-id-5\" class=\"sk-toggleable__label sk-toggleable__label-arrow\">estimator: SGDClassifier</label><div class=\"sk-toggleable__content\"><pre>SGDClassifier(random_state=42)</pre></div></div></div><div class=\"sk-serial\"><div class=\"sk-item\"><div class=\"sk-estimator sk-toggleable\"><input class=\"sk-toggleable__control sk-hidden--visually\" id=\"sk-estimator-id-6\" type=\"checkbox\" ><label for=\"sk-estimator-id-6\" class=\"sk-toggleable__label sk-toggleable__label-arrow\">SGDClassifier</label><div class=\"sk-toggleable__content\"><pre>SGDClassifier(random_state=42)</pre></div></div></div></div></div></div></div></div></div></div>"
      ],
      "text/plain": [
       "OneVsRestClassifier(estimator=SGDClassifier(random_state=42))"
      ]
     },
     "execution_count": 51,
     "metadata": {},
     "output_type": "execute_result"
    }
   ],
   "source": [
    "sgd = SGDClassifier(random_state = 42)\n",
    "sgd_model = OneVsRestClassifier(sgd)\n",
    "sgd_model.fit(X_train_vec,y_train)"
   ]
  },
  {
   "cell_type": "code",
   "execution_count": 52,
   "id": "0f1ace1e",
   "metadata": {},
   "outputs": [],
   "source": [
    "y_pred_sgd1 = sgd_model.predict(X_test_vec)"
   ]
  },
  {
   "cell_type": "code",
   "execution_count": 53,
   "id": "e240a7c2",
   "metadata": {},
   "outputs": [
    {
     "data": {
      "text/plain": [
       "[('Comedy', 'Drama'),\n",
       " (),\n",
       " ('Comedy', 'Drama'),\n",
       " ('Drama',),\n",
       " (),\n",
       " ('Comedy',),\n",
       " ('Drama',),\n",
       " ('Drama',),\n",
       " ('Drama',),\n",
       " ('Drama',)]"
      ]
     },
     "execution_count": 53,
     "metadata": {},
     "output_type": "execute_result"
    }
   ],
   "source": [
    "multilabel_binarizer.inverse_transform(y_pred_sgd1)[0:10]"
   ]
  },
  {
   "cell_type": "code",
   "execution_count": 54,
   "id": "e6d32cc2",
   "metadata": {},
   "outputs": [
    {
     "data": {
      "text/plain": [
       "0.018081761006289308"
      ]
     },
     "execution_count": 54,
     "metadata": {},
     "output_type": "execute_result"
    }
   ],
   "source": [
    "accuracy_score(y_test, y_pred_sgd1)"
   ]
  },
  {
   "cell_type": "markdown",
   "id": "1c0e2c45",
   "metadata": {},
   "source": [
    "## Random Forest Classifier"
   ]
  },
  {
   "cell_type": "code",
   "execution_count": 55,
   "id": "691f86c4",
   "metadata": {},
   "outputs": [
    {
     "data": {
      "text/html": [
       "<style>#sk-container-id-3 {color: black;background-color: white;}#sk-container-id-3 pre{padding: 0;}#sk-container-id-3 div.sk-toggleable {background-color: white;}#sk-container-id-3 label.sk-toggleable__label {cursor: pointer;display: block;width: 100%;margin-bottom: 0;padding: 0.3em;box-sizing: border-box;text-align: center;}#sk-container-id-3 label.sk-toggleable__label-arrow:before {content: \"▸\";float: left;margin-right: 0.25em;color: #696969;}#sk-container-id-3 label.sk-toggleable__label-arrow:hover:before {color: black;}#sk-container-id-3 div.sk-estimator:hover label.sk-toggleable__label-arrow:before {color: black;}#sk-container-id-3 div.sk-toggleable__content {max-height: 0;max-width: 0;overflow: hidden;text-align: left;background-color: #f0f8ff;}#sk-container-id-3 div.sk-toggleable__content pre {margin: 0.2em;color: black;border-radius: 0.25em;background-color: #f0f8ff;}#sk-container-id-3 input.sk-toggleable__control:checked~div.sk-toggleable__content {max-height: 200px;max-width: 100%;overflow: auto;}#sk-container-id-3 input.sk-toggleable__control:checked~label.sk-toggleable__label-arrow:before {content: \"▾\";}#sk-container-id-3 div.sk-estimator input.sk-toggleable__control:checked~label.sk-toggleable__label {background-color: #d4ebff;}#sk-container-id-3 div.sk-label input.sk-toggleable__control:checked~label.sk-toggleable__label {background-color: #d4ebff;}#sk-container-id-3 input.sk-hidden--visually {border: 0;clip: rect(1px 1px 1px 1px);clip: rect(1px, 1px, 1px, 1px);height: 1px;margin: -1px;overflow: hidden;padding: 0;position: absolute;width: 1px;}#sk-container-id-3 div.sk-estimator {font-family: monospace;background-color: #f0f8ff;border: 1px dotted black;border-radius: 0.25em;box-sizing: border-box;margin-bottom: 0.5em;}#sk-container-id-3 div.sk-estimator:hover {background-color: #d4ebff;}#sk-container-id-3 div.sk-parallel-item::after {content: \"\";width: 100%;border-bottom: 1px solid gray;flex-grow: 1;}#sk-container-id-3 div.sk-label:hover label.sk-toggleable__label {background-color: #d4ebff;}#sk-container-id-3 div.sk-serial::before {content: \"\";position: absolute;border-left: 1px solid gray;box-sizing: border-box;top: 0;bottom: 0;left: 50%;z-index: 0;}#sk-container-id-3 div.sk-serial {display: flex;flex-direction: column;align-items: center;background-color: white;padding-right: 0.2em;padding-left: 0.2em;position: relative;}#sk-container-id-3 div.sk-item {position: relative;z-index: 1;}#sk-container-id-3 div.sk-parallel {display: flex;align-items: stretch;justify-content: center;background-color: white;position: relative;}#sk-container-id-3 div.sk-item::before, #sk-container-id-3 div.sk-parallel-item::before {content: \"\";position: absolute;border-left: 1px solid gray;box-sizing: border-box;top: 0;bottom: 0;left: 50%;z-index: -1;}#sk-container-id-3 div.sk-parallel-item {display: flex;flex-direction: column;z-index: 1;position: relative;background-color: white;}#sk-container-id-3 div.sk-parallel-item:first-child::after {align-self: flex-end;width: 50%;}#sk-container-id-3 div.sk-parallel-item:last-child::after {align-self: flex-start;width: 50%;}#sk-container-id-3 div.sk-parallel-item:only-child::after {width: 0;}#sk-container-id-3 div.sk-dashed-wrapped {border: 1px dashed gray;margin: 0 0.4em 0.5em 0.4em;box-sizing: border-box;padding-bottom: 0.4em;background-color: white;}#sk-container-id-3 div.sk-label label {font-family: monospace;font-weight: bold;display: inline-block;line-height: 1.2em;}#sk-container-id-3 div.sk-label-container {text-align: center;}#sk-container-id-3 div.sk-container {/* jupyter's `normalize.less` sets `[hidden] { display: none; }` but bootstrap.min.css set `[hidden] { display: none !important; }` so we also need the `!important` here to be able to override the default hidden behavior on the sphinx rendered scikit-learn.org. See: https://github.com/scikit-learn/scikit-learn/issues/21755 */display: inline-block !important;position: relative;}#sk-container-id-3 div.sk-text-repr-fallback {display: none;}</style><div id=\"sk-container-id-3\" class=\"sk-top-container\"><div class=\"sk-text-repr-fallback\"><pre>OneVsRestClassifier(estimator=RandomForestClassifier(random_state=42))</pre><b>In a Jupyter environment, please rerun this cell to show the HTML representation or trust the notebook. <br />On GitHub, the HTML representation is unable to render, please try loading this page with nbviewer.org.</b></div><div class=\"sk-container\" hidden><div class=\"sk-item sk-dashed-wrapped\"><div class=\"sk-label-container\"><div class=\"sk-label sk-toggleable\"><input class=\"sk-toggleable__control sk-hidden--visually\" id=\"sk-estimator-id-7\" type=\"checkbox\" ><label for=\"sk-estimator-id-7\" class=\"sk-toggleable__label sk-toggleable__label-arrow\">OneVsRestClassifier</label><div class=\"sk-toggleable__content\"><pre>OneVsRestClassifier(estimator=RandomForestClassifier(random_state=42))</pre></div></div></div><div class=\"sk-parallel\"><div class=\"sk-parallel-item\"><div class=\"sk-item\"><div class=\"sk-label-container\"><div class=\"sk-label sk-toggleable\"><input class=\"sk-toggleable__control sk-hidden--visually\" id=\"sk-estimator-id-8\" type=\"checkbox\" ><label for=\"sk-estimator-id-8\" class=\"sk-toggleable__label sk-toggleable__label-arrow\">estimator: RandomForestClassifier</label><div class=\"sk-toggleable__content\"><pre>RandomForestClassifier(random_state=42)</pre></div></div></div><div class=\"sk-serial\"><div class=\"sk-item\"><div class=\"sk-estimator sk-toggleable\"><input class=\"sk-toggleable__control sk-hidden--visually\" id=\"sk-estimator-id-9\" type=\"checkbox\" ><label for=\"sk-estimator-id-9\" class=\"sk-toggleable__label sk-toggleable__label-arrow\">RandomForestClassifier</label><div class=\"sk-toggleable__content\"><pre>RandomForestClassifier(random_state=42)</pre></div></div></div></div></div></div></div></div></div></div>"
      ],
      "text/plain": [
       "OneVsRestClassifier(estimator=RandomForestClassifier(random_state=42))"
      ]
     },
     "execution_count": 55,
     "metadata": {},
     "output_type": "execute_result"
    }
   ],
   "source": [
    "rfc = RandomForestClassifier(random_state = 42)\n",
    "rfc_model = OneVsRestClassifier(rfc)\n",
    "\n",
    "rfc_model.fit(X_train_vec,y_train)"
   ]
  },
  {
   "cell_type": "code",
   "execution_count": 56,
   "id": "97f43ab3",
   "metadata": {},
   "outputs": [],
   "source": [
    "y_pred_rfc1 = rfc_model.predict(X_test_vec)"
   ]
  },
  {
   "cell_type": "code",
   "execution_count": 57,
   "id": "aed0796f",
   "metadata": {},
   "outputs": [
    {
     "data": {
      "text/plain": [
       "[('Comedy', 'Drama'),\n",
       " ('Drama',),\n",
       " ('Comedy', 'Drama'),\n",
       " ('Drama',),\n",
       " (),\n",
       " ('Adventure',),\n",
       " ('Crime', 'Drama'),\n",
       " ('Drama',),\n",
       " ('Drama',),\n",
       " ('Drama',)]"
      ]
     },
     "execution_count": 57,
     "metadata": {},
     "output_type": "execute_result"
    }
   ],
   "source": [
    "multilabel_binarizer.inverse_transform(y_pred_rfc1)[0:10]"
   ]
  },
  {
   "cell_type": "code",
   "execution_count": 58,
   "id": "e070c4ca",
   "metadata": {},
   "outputs": [
    {
     "data": {
      "text/plain": [
       "0.015723270440251572"
      ]
     },
     "execution_count": 58,
     "metadata": {},
     "output_type": "execute_result"
    }
   ],
   "source": [
    "accuracy_score(y_test, y_pred_rfc1)"
   ]
  },
  {
   "cell_type": "code",
   "execution_count": 59,
   "id": "f687015d",
   "metadata": {},
   "outputs": [
    {
     "data": {
      "text/plain": [
       "[('Comedy', 'Fantasy', 'Horror'),\n",
       " ('Biography', 'Drama', 'History'),\n",
       " ('Comedy', 'Romance', 'Sport'),\n",
       " ('Crime', 'Drama'),\n",
       " ('Horror', 'Sci-Fi'),\n",
       " ('Action', 'Sci-Fi', 'Thriller'),\n",
       " ('Crime', 'Mystery', 'Thriller'),\n",
       " ('Biography', 'Drama', 'Sport'),\n",
       " ('Drama', 'Musical', 'Romance'),\n",
       " ('Action', 'Drama', 'Sci-Fi')]"
      ]
     },
     "execution_count": 59,
     "metadata": {},
     "output_type": "execute_result"
    }
   ],
   "source": [
    "multilabel_binarizer.inverse_transform(y_test)[0:10]"
   ]
  },
  {
   "cell_type": "markdown",
   "id": "261f0ee7",
   "metadata": {},
   "source": [
    "## Poly SVC"
   ]
  },
  {
   "cell_type": "code",
   "execution_count": 60,
   "id": "72d87c1d",
   "metadata": {},
   "outputs": [
    {
     "name": "stdout",
     "output_type": "stream",
     "text": [
      "Accuracy score for SVC poly model is 0.015723270440251572\n"
     ]
    }
   ],
   "source": [
    "X_train1, X_val1, y_train1, y_val1 = train_test_split(merged_df['clean_plot'], y, test_size = 0.3, random_state = 0)\n",
    "tfidf_vectorizer = TfidfVectorizer()\n",
    "X_train_tfidf1 = tfidf_vectorizer.fit_transform(X_train1)\n",
    "X_val_tfidf1 = tfidf_vectorizer.transform(X_val1)\n",
    "sgd = SGDClassifier()\n",
    "lr = LogisticRegression(C=1.0)\n",
    "svc = SVC(kernel='poly')\n",
    "nb = MultinomialNB()\n",
    "# One vs Restclassifier\n",
    "model = OneVsRestClassifier(svc)\n",
    "model.fit(X_train_tfidf1, y_train1)\n",
    "y_pred1 = model.predict(X_val_tfidf1)\n",
    "print(f'Accuracy score for SVC poly model is {accuracy_score(y_val1, y_pred1)}')"
   ]
  },
  {
   "cell_type": "code",
   "execution_count": 61,
   "id": "c9762ac6",
   "metadata": {},
   "outputs": [
    {
     "name": "stdout",
     "output_type": "stream",
     "text": [
      "Accuracy score for SVC poly model is 0.027515723270440252\n"
     ]
    }
   ],
   "source": [
    "sgd = SGDClassifier()\n",
    "lr = LogisticRegression(C=1.0)\n",
    "svc = SVC(kernel='poly')\n",
    "nb = MultinomialNB()\n",
    "# One vs Restclassifier\n",
    "model = OneVsRestClassifier(svc)\n",
    "model.fit(X_train_vec, y_train)\n",
    "y_pred_sgd2 = model.predict(X_test_vec)\n",
    "print(f'Accuracy score for SVC poly model is {accuracy_score(y_test, y_pred_sgd2)}')"
   ]
  },
  {
   "cell_type": "code",
   "execution_count": 63,
   "id": "74ae4b7e",
   "metadata": {},
   "outputs": [
    {
     "name": "stdout",
     "output_type": "stream",
     "text": [
      "Accuracy score for SVC poly model is 0.015723270440251572\n"
     ]
    }
   ],
   "source": [
    "X_train1, X_val1, y_train1, y_val1 = train_test_split(merged_df['clean_plot'], y, test_size = 0.3, random_state = 0)\n",
    "tfidf_vectorizer = TfidfVectorizer()\n",
    "X_train_tfidf1 = tfidf_vectorizer.fit_transform(X_train1)\n",
    "X_val_tfidf1 = tfidf_vectorizer.transform(X_val1)\n",
    "sgd = SGDClassifier()\n",
    "lr = LogisticRegression(C=1.0)\n",
    "svc = SVC(kernel='poly')\n",
    "nb = MultinomialNB()\n",
    "# One vs Restclassifier\n",
    "model = OneVsRestClassifier(svc)\n",
    "model.fit(X_train_tfidf1, y_train1)\n",
    "y_pred1 = model.predict(X_val_tfidf1)\n",
    "print(f'Accuracy score for SVC poly model is {accuracy_score(y_val1, y_pred1)}')"
   ]
  },
  {
   "cell_type": "markdown",
   "id": "0f0d7abe",
   "metadata": {},
   "source": [
    "## Label Powerset"
   ]
  },
  {
   "cell_type": "code",
   "execution_count": 64,
   "id": "e09e61d1",
   "metadata": {},
   "outputs": [
    {
     "name": "stderr",
     "output_type": "stream",
     "text": [
      "/home/yinghui/.pyenv/versions/3.10.6/envs/lewagon/lib/python3.10/site-packages/sklearn/base.py:413: UserWarning: X has feature names, but LogisticRegression was fitted without feature names\n",
      "  warnings.warn(\n"
     ]
    },
    {
     "name": "stdout",
     "output_type": "stream",
     "text": [
      "Accuracy =  0.09669811320754718\n",
      "\n",
      "\n"
     ]
    }
   ],
   "source": [
    "# using Label Powerset\n",
    "from skmultilearn.problem_transform import LabelPowerset\n",
    "# initialize label powerset multi-label classifier\n",
    "classifier = LabelPowerset(LogisticRegression())\n",
    "# train\n",
    "classifier.fit(X_train_vec, y_train)\n",
    "# predict\n",
    "predictions = classifier.predict(X_test_vec)\n",
    "# accuracy\n",
    "print(\"Accuracy = \",accuracy_score(y_test,predictions))\n",
    "print(\"\\n\")"
   ]
  },
  {
   "cell_type": "markdown",
   "id": "37255aef",
   "metadata": {},
   "source": [
    "## Classifier Chains"
   ]
  },
  {
   "cell_type": "code",
   "execution_count": 65,
   "id": "437ee052",
   "metadata": {},
   "outputs": [
    {
     "name": "stdout",
     "output_type": "stream",
     "text": [
      "Accuracy =  0.040880503144654086\n",
      "\n",
      "\n"
     ]
    }
   ],
   "source": [
    "# using classifier chains\n",
    "from skmultilearn.problem_transform import ClassifierChain\n",
    "\n",
    "# initialize classifier chains multi-label classifier\n",
    "classifier = ClassifierChain(LogisticRegression())\n",
    "# Training logistic regression model on train data\n",
    "classifier.fit(X_train_vec, y_train)\n",
    "# predict\n",
    "predictions = classifier.predict(X_test_vec)\n",
    "# accuracy\n",
    "print(\"Accuracy = \",accuracy_score(y_test,predictions))\n",
    "print(\"\\n\")"
   ]
  },
  {
   "cell_type": "code",
   "execution_count": 66,
   "id": "ae243aea",
   "metadata": {},
   "outputs": [
    {
     "data": {
      "text/plain": [
       "[('Comedy',), ('Comedy', 'Sport'), ('Comedy', 'Drama')]"
      ]
     },
     "execution_count": 66,
     "metadata": {},
     "output_type": "execute_result"
    }
   ],
   "source": [
    "multilabel_binarizer.inverse_transform(predictions)[0:3]"
   ]
  },
  {
   "cell_type": "code",
   "execution_count": 67,
   "id": "6e1cd099",
   "metadata": {},
   "outputs": [
    {
     "data": {
      "text/plain": [
       "[('Comedy', 'Fantasy', 'Horror'),\n",
       " ('Biography', 'Drama', 'History'),\n",
       " ('Comedy', 'Romance', 'Sport')]"
      ]
     },
     "execution_count": 67,
     "metadata": {},
     "output_type": "execute_result"
    }
   ],
   "source": [
    "multilabel_binarizer.inverse_transform(y_test)[0:3]"
   ]
  }
 ],
 "metadata": {
  "kernelspec": {
   "display_name": "Python 3 (ipykernel)",
   "language": "python",
   "name": "python3"
  },
  "language_info": {
   "codemirror_mode": {
    "name": "ipython",
    "version": 3
   },
   "file_extension": ".py",
   "mimetype": "text/x-python",
   "name": "python",
   "nbconvert_exporter": "python",
   "pygments_lexer": "ipython3",
   "version": "3.10.6"
  },
  "toc": {
   "base_numbering": 1,
   "nav_menu": {},
   "number_sections": true,
   "sideBar": true,
   "skip_h1_title": false,
   "title_cell": "Table of Contents",
   "title_sidebar": "Contents",
   "toc_cell": false,
   "toc_position": {},
   "toc_section_display": true,
   "toc_window_display": false
  }
 },
 "nbformat": 4,
 "nbformat_minor": 5
}
