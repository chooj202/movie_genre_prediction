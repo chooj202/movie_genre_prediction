{
 "cells": [
  {
   "cell_type": "code",
   "execution_count": 5,
   "id": "984146a7-4f70-428e-95fe-cf27248f7e3c",
   "metadata": {
    "id": "984146a7-4f70-428e-95fe-cf27248f7e3c",
    "scrolled": true
   },
   "outputs": [
    {
     "name": "stderr",
     "output_type": "stream",
     "text": [
      "2023-08-12 14:14:00.185038: I tensorflow/tsl/cuda/cudart_stub.cc:28] Could not find cuda drivers on your machine, GPU will not be used.\n",
      "2023-08-12 14:14:00.346268: I tensorflow/tsl/cuda/cudart_stub.cc:28] Could not find cuda drivers on your machine, GPU will not be used.\n",
      "2023-08-12 14:14:00.348911: I tensorflow/core/platform/cpu_feature_guard.cc:182] This TensorFlow binary is optimized to use available CPU instructions in performance-critical operations.\n",
      "To enable the following instructions: AVX2 FMA, in other operations, rebuild TensorFlow with the appropriate compiler flags.\n",
      "2023-08-12 14:14:01.874030: W tensorflow/compiler/tf2tensorrt/utils/py_utils.cc:38] TF-TRT Warning: Could not find TensorRT\n"
     ]
    }
   ],
   "source": [
    "import numpy as np\n",
    "import pandas as pd\n",
    "import seaborn as sns\n",
    "import string\n",
    "import os\n",
    "import requests\n",
    "import tensorflow_hub as hub\n",
    "import time\n",
    "import tensorflow\n",
    "import matplotlib as plt\n",
    "\n",
    "from requests import get\n",
    "from bs4 import BeautifulSoup\n",
    "from warnings import warn\n",
    "from time import sleep\n",
    "from random import randint\n",
    "from xgboost import XGBClassifier\n",
    "from tqdm import tqdm\n",
    "from time import sleep\n",
    "from matplotlib.figure import Figure\n",
    "from PIL import Image\n",
    "\n",
    "from pathlib import Path\n",
    "from sklearn.preprocessing import MultiLabelBinarizer\n",
    "from sklearn.model_selection import train_test_split, GridSearchCV\n",
    "from nltk.stem.porter import *\n",
    "from nltk.corpus import stopwords\n",
    "from nltk.tokenize import word_tokenize\n",
    "from nltk.stem import WordNetLemmatizer\n",
    "from sklearn.feature_extraction.text import TfidfVectorizer\n",
    "from sklearn.linear_model import LogisticRegression, SGDClassifier\n",
    "from sklearn.metrics import accuracy_score, hamming_loss\n",
    "from sklearn.multiclass import OneVsRestClassifier\n",
    "from sklearn.preprocessing import MultiLabelBinarizer\n",
    "from sklearn.naive_bayes import MultinomialNB\n",
    "from sklearn.ensemble import RandomForestClassifier\n",
    "from sklearn.svm import SVC\n",
    "\n",
    "from tensorflow.keras import layers, Sequential, callbacks, optimizers, utils, models, applications\n",
    "from tensorflow.keras.metrics import CategoricalAccuracy\n",
    "from tensorflow.keras.applications.inception_v3 import InceptionV3\n",
    "from tensorflow.keras.regularizers import l2, l1\n",
    "from tensorflow.keras.preprocessing import image\n",
    "from tensorflow.keras.preprocessing.image import ImageDataGenerator\n",
    "from tensorflow.keras.preprocessing.sequence import pad_sequences\n",
    "from tensorflow.keras.preprocessing.text import Tokenizer"
   ]
  },
  {
   "cell_type": "code",
   "execution_count": 2,
   "id": "wcmqvKesA7yR",
   "metadata": {
    "colab": {
     "base_uri": "https://localhost:8080/"
    },
    "id": "wcmqvKesA7yR",
    "outputId": "ae6624e3-9346-4a52-980d-7bdfdea4ff04"
   },
   "outputs": [
    {
     "name": "stdout",
     "output_type": "stream",
     "text": [
      "Mounted at /content/drive\n"
     ]
    }
   ],
   "source": [
    "from google.colab import drive\n",
    "drive.mount('/content/drive')"
   ]
  },
  {
   "cell_type": "code",
   "execution_count": null,
   "id": "zwP6JpZNG7Ii",
   "metadata": {
    "colab": {
     "base_uri": "https://localhost:8080/",
     "height": 175
    },
    "id": "zwP6JpZNG7Ii",
    "outputId": "187e9f6f-8f63-4f95-8c7d-88496473504d"
   },
   "outputs": [
    {
     "ename": "FileNotFoundError",
     "evalue": "ignored",
     "output_type": "error",
     "traceback": [
      "\u001b[0;31m---------------------------------------------------------------------------\u001b[0m",
      "\u001b[0;31mFileNotFoundError\u001b[0m                         Traceback (most recent call last)",
      "\u001b[0;32m<ipython-input-6-566cda86da19>\u001b[0m in \u001b[0;36m<cell line: 1>\u001b[0;34m()\u001b[0m\n\u001b[0;32m----> 1\u001b[0;31m \u001b[0mopen\u001b[0m\u001b[0;34m(\u001b[0m\u001b[0;34m'/content/gdrive/My Drive/'\u001b[0m\u001b[0;34m)\u001b[0m\u001b[0;34m\u001b[0m\u001b[0;34m\u001b[0m\u001b[0m\n\u001b[0m",
      "\u001b[0;31mFileNotFoundError\u001b[0m: [Errno 2] No such file or directory: '/content/gdrive/My Drive/'"
     ]
    }
   ],
   "source": [
    "open('/content/gdrive/My Drive/')"
   ]
  },
  {
   "cell_type": "code",
   "execution_count": null,
   "id": "e08b71b1-fd13-49ba-b2d1-8550d84b1b61",
   "metadata": {
    "id": "e08b71b1-fd13-49ba-b2d1-8550d84b1b61",
    "outputId": "286b72bc-191b-468d-8e6f-bb9122ac2ada"
   },
   "outputs": [
    {
     "name": "stdout",
     "output_type": "stream",
     "text": [
      "\u001b[31mERROR: Could not find a version that satisfies the requirement PIL (from versions: none)\u001b[0m\u001b[31m\n",
      "\u001b[0m\u001b[31mERROR: No matching distribution found for PIL\u001b[0m\u001b[31m\n",
      "\u001b[0m"
     ]
    }
   ],
   "source": [
    "!pip install PIL"
   ]
  },
  {
   "cell_type": "code",
   "execution_count": 33,
   "id": "3401e12b-debe-434d-b608-dc0cccd147f1",
   "metadata": {
    "id": "3401e12b-debe-434d-b608-dc0cccd147f1"
   },
   "outputs": [],
   "source": [
    "folder_path = '/home/jessica/code/chooj202/movie_genre_prediction/notebooks/'\n",
    "dataframes = []\n",
    "for file_name in os.listdir(folder_path):\n",
    "    if file_name.endswith('long_sypnosis.csv'):\n",
    "        file_path = os.path.join(folder_path, file_name)\n",
    "        df = pd.read_csv(file_path)\n",
    "        dataframes.append(df)\n",
    "long_df = pd.concat(dataframes, ignore_index=True)"
   ]
  },
  {
   "cell_type": "code",
   "execution_count": 34,
   "id": "-fIqPaKVHPnS",
   "metadata": {
    "id": "-fIqPaKVHPnS",
    "scrolled": true
   },
   "outputs": [],
   "source": [
    "# merged_df = pd.read_csv('/content/drive/MyDrive/merged_500.csv')"
   ]
  },
  {
   "cell_type": "code",
   "execution_count": 37,
   "id": "032f1a75-593a-4a75-a30a-f8e0a055b403",
   "metadata": {},
   "outputs": [],
   "source": [
    "long_df = long_df.drop(columns = [\"Unnamed: 0\", \"movie\", \"image_url\"])"
   ]
  },
  {
   "cell_type": "code",
   "execution_count": 21,
   "id": "o3M08Mz6Kgmw",
   "metadata": {
    "colab": {
     "base_uri": "https://localhost:8080/",
     "height": 424
    },
    "id": "o3M08Mz6Kgmw",
    "outputId": "ddd76b70-f055-4b53-8ee5-2478cf3acf00"
   },
   "outputs": [],
   "source": [
    "merged_df = merged_df.drop(columns = [\"Unnamed: 0\", \"index\", \"movie\", \"plot\", \"image_url\"])"
   ]
  },
  {
   "cell_type": "code",
   "execution_count": 22,
   "id": "NhxkTqG4KCeK",
   "metadata": {
    "colab": {
     "base_uri": "https://localhost:8080/"
    },
    "id": "NhxkTqG4KCeK",
    "outputId": "50b41311-cf55-46bb-dfec-fb5ddce891c6"
   },
   "outputs": [
    {
     "name": "stderr",
     "output_type": "stream",
     "text": [
      "100%|█████████████████████████████████████████████████████████████████████████████████| 4237/4237 [00:00<00:00, 9149.23it/s]\n"
     ]
    }
   ],
   "source": [
    "corrupted_list = []\n",
    "\n",
    "for img in tqdm(range(merged_df.shape[0])):\n",
    "    try:\n",
    "        images_path = f\"/home/jessica/code/chooj202/movie_genre_prediction/notebooks/merged/{merged_df['imdb_id'][img]}.jpg\"\n",
    "        image = Image.open(images_path)\n",
    "    except:\n",
    "        corrupted_list.append(merged_df['imdb_id'][img])"
   ]
  },
  {
   "cell_type": "code",
   "execution_count": 23,
   "id": "U1sGERL2KH7a",
   "metadata": {
    "id": "U1sGERL2KH7a"
   },
   "outputs": [],
   "source": [
    "merged_df = merged_df.loc[~merged_df['imdb_id'].isin(corrupted_list)]"
   ]
  },
  {
   "cell_type": "code",
   "execution_count": 24,
   "id": "kOM14H9BKcD4",
   "metadata": {
    "colab": {
     "base_uri": "https://localhost:8080/",
     "height": 49
    },
    "id": "kOM14H9BKcD4",
    "outputId": "5fe58015-acc4-4935-f07d-b4a59527a2bd"
   },
   "outputs": [
    {
     "data": {
      "text/html": [
       "<div>\n",
       "<style scoped>\n",
       "    .dataframe tbody tr th:only-of-type {\n",
       "        vertical-align: middle;\n",
       "    }\n",
       "\n",
       "    .dataframe tbody tr th {\n",
       "        vertical-align: top;\n",
       "    }\n",
       "\n",
       "    .dataframe thead th {\n",
       "        text-align: right;\n",
       "    }\n",
       "</style>\n",
       "<table border=\"1\" class=\"dataframe\">\n",
       "  <thead>\n",
       "    <tr style=\"text-align: right;\">\n",
       "      <th></th>\n",
       "      <th>imdb_id</th>\n",
       "      <th>genre</th>\n",
       "    </tr>\n",
       "  </thead>\n",
       "  <tbody>\n",
       "    <tr>\n",
       "      <th>0</th>\n",
       "      <td>tt0111161</td>\n",
       "      <td>['Drama']</td>\n",
       "    </tr>\n",
       "    <tr>\n",
       "      <th>1</th>\n",
       "      <td>tt0068646</td>\n",
       "      <td>['Crime', ' Drama']</td>\n",
       "    </tr>\n",
       "    <tr>\n",
       "      <th>2</th>\n",
       "      <td>tt0259534</td>\n",
       "      <td>['Animation', ' Action', ' Adventure']</td>\n",
       "    </tr>\n",
       "    <tr>\n",
       "      <th>3</th>\n",
       "      <td>tt0468569</td>\n",
       "      <td>['Action', ' Crime', ' Drama']</td>\n",
       "    </tr>\n",
       "    <tr>\n",
       "      <th>4</th>\n",
       "      <td>tt0108052</td>\n",
       "      <td>['Biography', ' Drama', ' History']</td>\n",
       "    </tr>\n",
       "    <tr>\n",
       "      <th>...</th>\n",
       "      <td>...</td>\n",
       "      <td>...</td>\n",
       "    </tr>\n",
       "    <tr>\n",
       "      <th>4232</th>\n",
       "      <td>tt0076752</td>\n",
       "      <td>['Action', ' Adventure', ' Thriller']</td>\n",
       "    </tr>\n",
       "    <tr>\n",
       "      <th>4233</th>\n",
       "      <td>tt0366551</td>\n",
       "      <td>['Adventure', ' Comedy']</td>\n",
       "    </tr>\n",
       "    <tr>\n",
       "      <th>4234</th>\n",
       "      <td>tt3721936</td>\n",
       "      <td>['Adventure', ' Drama', ' Romance']</td>\n",
       "    </tr>\n",
       "    <tr>\n",
       "      <th>4235</th>\n",
       "      <td>tt13539646</td>\n",
       "      <td>['Action', ' Adventure', ' Drama']</td>\n",
       "    </tr>\n",
       "    <tr>\n",
       "      <th>4236</th>\n",
       "      <td>tt1176740</td>\n",
       "      <td>['Adventure', ' Comedy', ' Drama']</td>\n",
       "    </tr>\n",
       "  </tbody>\n",
       "</table>\n",
       "<p>3943 rows × 2 columns</p>\n",
       "</div>"
      ],
      "text/plain": [
       "         imdb_id                                   genre\n",
       "0      tt0111161                               ['Drama']\n",
       "1      tt0068646                     ['Crime', ' Drama']\n",
       "2      tt0259534  ['Animation', ' Action', ' Adventure']\n",
       "3      tt0468569          ['Action', ' Crime', ' Drama']\n",
       "4      tt0108052     ['Biography', ' Drama', ' History']\n",
       "...          ...                                     ...\n",
       "4232   tt0076752   ['Action', ' Adventure', ' Thriller']\n",
       "4233   tt0366551                ['Adventure', ' Comedy']\n",
       "4234   tt3721936     ['Adventure', ' Drama', ' Romance']\n",
       "4235  tt13539646      ['Action', ' Adventure', ' Drama']\n",
       "4236   tt1176740      ['Adventure', ' Comedy', ' Drama']\n",
       "\n",
       "[3943 rows x 2 columns]"
      ]
     },
     "execution_count": 24,
     "metadata": {},
     "output_type": "execute_result"
    }
   ],
   "source": [
    "merged_df"
   ]
  },
  {
   "cell_type": "code",
   "execution_count": 14,
   "id": "9519ac97-a00c-4fb2-bcd9-06cf6f686bc3",
   "metadata": {
    "id": "9519ac97-a00c-4fb2-bcd9-06cf6f686bc3"
   },
   "outputs": [],
   "source": [
    "merged_df = merged_df.drop(columns = ['imdb_id', 'Unnamed: 0', 'index', 'image_url'])"
   ]
  },
  {
   "cell_type": "code",
   "execution_count": 38,
   "id": "7201a111-919b-4b92-8142-75c06ccb0681",
   "metadata": {
    "id": "7201a111-919b-4b92-8142-75c06ccb0681",
    "scrolled": true
   },
   "outputs": [],
   "source": [
    "long_df = long_df.astype(str).drop_duplicates()"
   ]
  },
  {
   "cell_type": "code",
   "execution_count": 40,
   "id": "4a612df8-5023-447c-b02c-3c38f0a82c32",
   "metadata": {
    "colab": {
     "base_uri": "https://localhost:8080/"
    },
    "id": "4a612df8-5023-447c-b02c-3c38f0a82c32",
    "outputId": "4fe7f6eb-5590-498e-9185-a70aa09b15f9",
    "scrolled": true
   },
   "outputs": [
    {
     "data": {
      "text/html": [
       "<div>\n",
       "<style scoped>\n",
       "    .dataframe tbody tr th:only-of-type {\n",
       "        vertical-align: middle;\n",
       "    }\n",
       "\n",
       "    .dataframe tbody tr th {\n",
       "        vertical-align: top;\n",
       "    }\n",
       "\n",
       "    .dataframe thead th {\n",
       "        text-align: right;\n",
       "    }\n",
       "</style>\n",
       "<table border=\"1\" class=\"dataframe\">\n",
       "  <thead>\n",
       "    <tr style=\"text-align: right;\">\n",
       "      <th></th>\n",
       "      <th>imdb_id</th>\n",
       "      <th>genre</th>\n",
       "      <th>sypnosis</th>\n",
       "    </tr>\n",
       "  </thead>\n",
       "  <tbody>\n",
       "    <tr>\n",
       "      <th>3014</th>\n",
       "      <td>tt0004972</td>\n",
       "      <td>['Drama', ' History', ' War']</td>\n",
       "      <td>The Stoneman family finds its friendship with ...</td>\n",
       "    </tr>\n",
       "    <tr>\n",
       "      <th>2906</th>\n",
       "      <td>tt0006864</td>\n",
       "      <td>['Drama', ' History']</td>\n",
       "      <td>The story of a poor young woman separated by p...</td>\n",
       "    </tr>\n",
       "    <tr>\n",
       "      <th>4045</th>\n",
       "      <td>tt0009968</td>\n",
       "      <td>['Drama', ' Romance']</td>\n",
       "      <td>A frail waif, abused by her brutal boxer fathe...</td>\n",
       "    </tr>\n",
       "    <tr>\n",
       "      <th>1640</th>\n",
       "      <td>tt0012349</td>\n",
       "      <td>['Comedy', ' Drama', ' Family']</td>\n",
       "      <td>The Tramp cares for an abandoned child, but ev...</td>\n",
       "    </tr>\n",
       "    <tr>\n",
       "      <th>2690</th>\n",
       "      <td>tt0013442</td>\n",
       "      <td>['Fantasy', ' Horror']</td>\n",
       "      <td>Vampire Count Orlok expresses interest in a ne...</td>\n",
       "    </tr>\n",
       "    <tr>\n",
       "      <th>...</th>\n",
       "      <td>...</td>\n",
       "      <td>...</td>\n",
       "      <td>...</td>\n",
       "    </tr>\n",
       "    <tr>\n",
       "      <th>1613</th>\n",
       "      <td>tt9779516</td>\n",
       "      <td>['Biography', ' Drama', ' Music']</td>\n",
       "      <td>The true-life story of Christian music star Je...</td>\n",
       "    </tr>\n",
       "    <tr>\n",
       "      <th>1272</th>\n",
       "      <td>tt9784798</td>\n",
       "      <td>['Biography', ' Drama', ' History']</td>\n",
       "      <td>Offered a plea deal by the FBI, William O'Neal...</td>\n",
       "    </tr>\n",
       "    <tr>\n",
       "      <th>1055</th>\n",
       "      <td>tt9848626</td>\n",
       "      <td>['Animation', ' Adventure', ' Comedy']</td>\n",
       "      <td>After one experiment, Johnny turns into a mons...</td>\n",
       "    </tr>\n",
       "    <tr>\n",
       "      <th>3861</th>\n",
       "      <td>tt9873892</td>\n",
       "      <td>['Action', ' Comedy', ' Mystery']</td>\n",
       "      <td>A series of eerie events thrusts an unlikely t...</td>\n",
       "    </tr>\n",
       "    <tr>\n",
       "      <th>3459</th>\n",
       "      <td>tt9907782</td>\n",
       "      <td>['Fantasy', ' Horror', ' Mystery']</td>\n",
       "      <td>In rural 19th-century France, a mysterious, po...</td>\n",
       "    </tr>\n",
       "  </tbody>\n",
       "</table>\n",
       "<p>4624 rows × 3 columns</p>\n",
       "</div>"
      ],
      "text/plain": [
       "        imdb_id                                   genre  \\\n",
       "3014  tt0004972           ['Drama', ' History', ' War']   \n",
       "2906  tt0006864                   ['Drama', ' History']   \n",
       "4045  tt0009968                   ['Drama', ' Romance']   \n",
       "1640  tt0012349         ['Comedy', ' Drama', ' Family']   \n",
       "2690  tt0013442                  ['Fantasy', ' Horror']   \n",
       "...         ...                                     ...   \n",
       "1613  tt9779516       ['Biography', ' Drama', ' Music']   \n",
       "1272  tt9784798     ['Biography', ' Drama', ' History']   \n",
       "1055  tt9848626  ['Animation', ' Adventure', ' Comedy']   \n",
       "3861  tt9873892       ['Action', ' Comedy', ' Mystery']   \n",
       "3459  tt9907782      ['Fantasy', ' Horror', ' Mystery']   \n",
       "\n",
       "                                               sypnosis  \n",
       "3014  The Stoneman family finds its friendship with ...  \n",
       "2906  The story of a poor young woman separated by p...  \n",
       "4045  A frail waif, abused by her brutal boxer fathe...  \n",
       "1640  The Tramp cares for an abandoned child, but ev...  \n",
       "2690  Vampire Count Orlok expresses interest in a ne...  \n",
       "...                                                 ...  \n",
       "1613  The true-life story of Christian music star Je...  \n",
       "1272  Offered a plea deal by the FBI, William O'Neal...  \n",
       "1055  After one experiment, Johnny turns into a mons...  \n",
       "3861  A series of eerie events thrusts an unlikely t...  \n",
       "3459  In rural 19th-century France, a mysterious, po...  \n",
       "\n",
       "[4624 rows x 3 columns]"
      ]
     },
     "execution_count": 40,
     "metadata": {},
     "output_type": "execute_result"
    }
   ],
   "source": [
    "long_df.sort_values('imdb_id')"
   ]
  },
  {
   "cell_type": "code",
   "execution_count": null,
   "id": "211f2bd1-883a-4869-90e4-24c8055b0043",
   "metadata": {},
   "outputs": [],
   "source": []
  },
  {
   "cell_type": "code",
   "execution_count": 41,
   "id": "02067a70-ebb1-4226-a8db-e8c74cd5ebad",
   "metadata": {
    "id": "02067a70-ebb1-4226-a8db-e8c74cd5ebad"
   },
   "outputs": [],
   "source": [
    "long_df[\"genre\"] = (\n",
    "    long_df[\"genre\"]\n",
    "    .apply(eval)\n",
    "    .apply(lambda x: [genre.strip() for genre in x])\n",
    "    )"
   ]
  },
  {
   "cell_type": "code",
   "execution_count": 28,
   "id": "840bdb22-ea19-46d4-b422-fc96d1adf0ff",
   "metadata": {
    "id": "840bdb22-ea19-46d4-b422-fc96d1adf0ff"
   },
   "outputs": [],
   "source": [
    "merged_df = merged_df.dropna()"
   ]
  },
  {
   "cell_type": "code",
   "execution_count": 29,
   "id": "c5d72a02-b443-4083-a9bd-c111893e2a6d",
   "metadata": {
    "colab": {
     "base_uri": "https://localhost:8080/",
     "height": 206
    },
    "id": "c5d72a02-b443-4083-a9bd-c111893e2a6d",
    "outputId": "1859eea4-f5cd-43bb-fdb5-b87d12b34b1c",
    "scrolled": true
   },
   "outputs": [
    {
     "data": {
      "text/html": [
       "<div>\n",
       "<style scoped>\n",
       "    .dataframe tbody tr th:only-of-type {\n",
       "        vertical-align: middle;\n",
       "    }\n",
       "\n",
       "    .dataframe tbody tr th {\n",
       "        vertical-align: top;\n",
       "    }\n",
       "\n",
       "    .dataframe thead th {\n",
       "        text-align: right;\n",
       "    }\n",
       "</style>\n",
       "<table border=\"1\" class=\"dataframe\">\n",
       "  <thead>\n",
       "    <tr style=\"text-align: right;\">\n",
       "      <th></th>\n",
       "      <th>imdb_id</th>\n",
       "      <th>genre</th>\n",
       "    </tr>\n",
       "  </thead>\n",
       "  <tbody>\n",
       "    <tr>\n",
       "      <th>0</th>\n",
       "      <td>tt0111161</td>\n",
       "      <td>[Drama]</td>\n",
       "    </tr>\n",
       "    <tr>\n",
       "      <th>1</th>\n",
       "      <td>tt0068646</td>\n",
       "      <td>[Crime, Drama]</td>\n",
       "    </tr>\n",
       "    <tr>\n",
       "      <th>2</th>\n",
       "      <td>tt0259534</td>\n",
       "      <td>[Animation, Action, Adventure]</td>\n",
       "    </tr>\n",
       "    <tr>\n",
       "      <th>3</th>\n",
       "      <td>tt0468569</td>\n",
       "      <td>[Action, Crime, Drama]</td>\n",
       "    </tr>\n",
       "    <tr>\n",
       "      <th>4</th>\n",
       "      <td>tt0108052</td>\n",
       "      <td>[Biography, Drama, History]</td>\n",
       "    </tr>\n",
       "  </tbody>\n",
       "</table>\n",
       "</div>"
      ],
      "text/plain": [
       "     imdb_id                           genre\n",
       "0  tt0111161                         [Drama]\n",
       "1  tt0068646                  [Crime, Drama]\n",
       "2  tt0259534  [Animation, Action, Adventure]\n",
       "3  tt0468569          [Action, Crime, Drama]\n",
       "4  tt0108052     [Biography, Drama, History]"
      ]
     },
     "execution_count": 29,
     "metadata": {},
     "output_type": "execute_result"
    }
   ],
   "source": [
    "merged_df.head()"
   ]
  },
  {
   "cell_type": "code",
   "execution_count": 42,
   "id": "866fe4b1-2ce5-44a4-b24a-8e4c522c3b98",
   "metadata": {
    "id": "866fe4b1-2ce5-44a4-b24a-8e4c522c3b98"
   },
   "outputs": [],
   "source": [
    "multilabel_binarizer = MultiLabelBinarizer()\n",
    "multilabel_binarizer.fit(long_df['genre'])\n",
    "\n",
    "#transform target variable\n",
    "y = multilabel_binarizer.transform(long_df['genre'])\n",
    "genre_names = multilabel_binarizer.classes_\n",
    "\n",
    "# Adding\n",
    "for i in range(len(genre_names)):\n",
    "    long_df[f\"{genre_names[i]}\"] = y[:,i]"
   ]
  },
  {
   "cell_type": "code",
   "execution_count": 45,
   "id": "c806fe80-a131-4789-8333-6ab888a3cf93",
   "metadata": {},
   "outputs": [
    {
     "data": {
      "text/html": [
       "<div>\n",
       "<style scoped>\n",
       "    .dataframe tbody tr th:only-of-type {\n",
       "        vertical-align: middle;\n",
       "    }\n",
       "\n",
       "    .dataframe tbody tr th {\n",
       "        vertical-align: top;\n",
       "    }\n",
       "\n",
       "    .dataframe thead th {\n",
       "        text-align: right;\n",
       "    }\n",
       "</style>\n",
       "<table border=\"1\" class=\"dataframe\">\n",
       "  <thead>\n",
       "    <tr style=\"text-align: right;\">\n",
       "      <th></th>\n",
       "      <th>imdb_id</th>\n",
       "      <th>genre</th>\n",
       "      <th>sypnosis</th>\n",
       "      <th>Action</th>\n",
       "      <th>Adventure</th>\n",
       "      <th>Animation</th>\n",
       "      <th>Biography</th>\n",
       "      <th>Comedy</th>\n",
       "      <th>Crime</th>\n",
       "      <th>Drama</th>\n",
       "      <th>...</th>\n",
       "      <th>Horror</th>\n",
       "      <th>Music</th>\n",
       "      <th>Musical</th>\n",
       "      <th>Mystery</th>\n",
       "      <th>Romance</th>\n",
       "      <th>Sci-Fi</th>\n",
       "      <th>Sport</th>\n",
       "      <th>Thriller</th>\n",
       "      <th>War</th>\n",
       "      <th>Western</th>\n",
       "    </tr>\n",
       "  </thead>\n",
       "  <tbody>\n",
       "    <tr>\n",
       "      <th>0</th>\n",
       "      <td>tt0259534</td>\n",
       "      <td>[Animation, Action, Adventure]</td>\n",
       "      <td>An anime adaptation of the Hindu epic the Rama...</td>\n",
       "      <td>1</td>\n",
       "      <td>1</td>\n",
       "      <td>1</td>\n",
       "      <td>0</td>\n",
       "      <td>0</td>\n",
       "      <td>0</td>\n",
       "      <td>0</td>\n",
       "      <td>...</td>\n",
       "      <td>0</td>\n",
       "      <td>0</td>\n",
       "      <td>0</td>\n",
       "      <td>0</td>\n",
       "      <td>0</td>\n",
       "      <td>0</td>\n",
       "      <td>0</td>\n",
       "      <td>0</td>\n",
       "      <td>0</td>\n",
       "      <td>0</td>\n",
       "    </tr>\n",
       "    <tr>\n",
       "      <th>1</th>\n",
       "      <td>tt0468569</td>\n",
       "      <td>[Action, Crime, Drama]</td>\n",
       "      <td>When the menace known as the Joker wreaks havo...</td>\n",
       "      <td>1</td>\n",
       "      <td>0</td>\n",
       "      <td>0</td>\n",
       "      <td>0</td>\n",
       "      <td>0</td>\n",
       "      <td>1</td>\n",
       "      <td>1</td>\n",
       "      <td>...</td>\n",
       "      <td>0</td>\n",
       "      <td>0</td>\n",
       "      <td>0</td>\n",
       "      <td>0</td>\n",
       "      <td>0</td>\n",
       "      <td>0</td>\n",
       "      <td>0</td>\n",
       "      <td>0</td>\n",
       "      <td>0</td>\n",
       "      <td>0</td>\n",
       "    </tr>\n",
       "    <tr>\n",
       "      <th>2</th>\n",
       "      <td>tt0167260</td>\n",
       "      <td>[Action, Adventure, Drama]</td>\n",
       "      <td>Gandalf and Aragorn lead the World of Men agai...</td>\n",
       "      <td>1</td>\n",
       "      <td>1</td>\n",
       "      <td>0</td>\n",
       "      <td>0</td>\n",
       "      <td>0</td>\n",
       "      <td>0</td>\n",
       "      <td>1</td>\n",
       "      <td>...</td>\n",
       "      <td>0</td>\n",
       "      <td>0</td>\n",
       "      <td>0</td>\n",
       "      <td>0</td>\n",
       "      <td>0</td>\n",
       "      <td>0</td>\n",
       "      <td>0</td>\n",
       "      <td>0</td>\n",
       "      <td>0</td>\n",
       "      <td>0</td>\n",
       "    </tr>\n",
       "    <tr>\n",
       "      <th>3</th>\n",
       "      <td>tt9362722</td>\n",
       "      <td>[Animation, Action, Adventure]</td>\n",
       "      <td>Miles Morales catapults across the Multiverse,...</td>\n",
       "      <td>1</td>\n",
       "      <td>1</td>\n",
       "      <td>1</td>\n",
       "      <td>0</td>\n",
       "      <td>0</td>\n",
       "      <td>0</td>\n",
       "      <td>0</td>\n",
       "      <td>...</td>\n",
       "      <td>0</td>\n",
       "      <td>0</td>\n",
       "      <td>0</td>\n",
       "      <td>0</td>\n",
       "      <td>0</td>\n",
       "      <td>0</td>\n",
       "      <td>0</td>\n",
       "      <td>0</td>\n",
       "      <td>0</td>\n",
       "      <td>0</td>\n",
       "    </tr>\n",
       "    <tr>\n",
       "      <th>4</th>\n",
       "      <td>tt0075143</td>\n",
       "      <td>[Action, Adventure, Biography]</td>\n",
       "      <td>The story of prophet \"Muhammad\" and the delive...</td>\n",
       "      <td>1</td>\n",
       "      <td>1</td>\n",
       "      <td>0</td>\n",
       "      <td>1</td>\n",
       "      <td>0</td>\n",
       "      <td>0</td>\n",
       "      <td>0</td>\n",
       "      <td>...</td>\n",
       "      <td>0</td>\n",
       "      <td>0</td>\n",
       "      <td>0</td>\n",
       "      <td>0</td>\n",
       "      <td>0</td>\n",
       "      <td>0</td>\n",
       "      <td>0</td>\n",
       "      <td>0</td>\n",
       "      <td>0</td>\n",
       "      <td>0</td>\n",
       "    </tr>\n",
       "    <tr>\n",
       "      <th>...</th>\n",
       "      <td>...</td>\n",
       "      <td>...</td>\n",
       "      <td>...</td>\n",
       "      <td>...</td>\n",
       "      <td>...</td>\n",
       "      <td>...</td>\n",
       "      <td>...</td>\n",
       "      <td>...</td>\n",
       "      <td>...</td>\n",
       "      <td>...</td>\n",
       "      <td>...</td>\n",
       "      <td>...</td>\n",
       "      <td>...</td>\n",
       "      <td>...</td>\n",
       "      <td>...</td>\n",
       "      <td>...</td>\n",
       "      <td>...</td>\n",
       "      <td>...</td>\n",
       "      <td>...</td>\n",
       "      <td>...</td>\n",
       "      <td>...</td>\n",
       "    </tr>\n",
       "    <tr>\n",
       "      <th>4619</th>\n",
       "      <td>tt0109198</td>\n",
       "      <td>[Action, Adventure, Drama]</td>\n",
       "      <td>Four prostitutes join together to travel the O...</td>\n",
       "      <td>1</td>\n",
       "      <td>1</td>\n",
       "      <td>0</td>\n",
       "      <td>0</td>\n",
       "      <td>0</td>\n",
       "      <td>0</td>\n",
       "      <td>1</td>\n",
       "      <td>...</td>\n",
       "      <td>0</td>\n",
       "      <td>0</td>\n",
       "      <td>0</td>\n",
       "      <td>0</td>\n",
       "      <td>0</td>\n",
       "      <td>0</td>\n",
       "      <td>0</td>\n",
       "      <td>0</td>\n",
       "      <td>0</td>\n",
       "      <td>0</td>\n",
       "    </tr>\n",
       "    <tr>\n",
       "      <th>4620</th>\n",
       "      <td>tt0276830</td>\n",
       "      <td>[Adventure, Fantasy, Western]</td>\n",
       "      <td>In 1870, after a brutal run-in with an outlaw ...</td>\n",
       "      <td>0</td>\n",
       "      <td>1</td>\n",
       "      <td>0</td>\n",
       "      <td>0</td>\n",
       "      <td>0</td>\n",
       "      <td>0</td>\n",
       "      <td>0</td>\n",
       "      <td>...</td>\n",
       "      <td>0</td>\n",
       "      <td>0</td>\n",
       "      <td>0</td>\n",
       "      <td>0</td>\n",
       "      <td>0</td>\n",
       "      <td>0</td>\n",
       "      <td>0</td>\n",
       "      <td>0</td>\n",
       "      <td>0</td>\n",
       "      <td>1</td>\n",
       "    </tr>\n",
       "    <tr>\n",
       "      <th>4621</th>\n",
       "      <td>tt0120891</td>\n",
       "      <td>[Action, Comedy, Sci-Fi]</td>\n",
       "      <td>The two best special agents in the Wild West m...</td>\n",
       "      <td>1</td>\n",
       "      <td>0</td>\n",
       "      <td>0</td>\n",
       "      <td>0</td>\n",
       "      <td>1</td>\n",
       "      <td>0</td>\n",
       "      <td>0</td>\n",
       "      <td>...</td>\n",
       "      <td>0</td>\n",
       "      <td>0</td>\n",
       "      <td>0</td>\n",
       "      <td>0</td>\n",
       "      <td>0</td>\n",
       "      <td>1</td>\n",
       "      <td>0</td>\n",
       "      <td>0</td>\n",
       "      <td>0</td>\n",
       "      <td>0</td>\n",
       "    </tr>\n",
       "    <tr>\n",
       "      <th>4622</th>\n",
       "      <td>tt2479478</td>\n",
       "      <td>[Action, Adventure, Comedy]</td>\n",
       "      <td>An outlaw who was raised by Native Americans d...</td>\n",
       "      <td>1</td>\n",
       "      <td>1</td>\n",
       "      <td>0</td>\n",
       "      <td>0</td>\n",
       "      <td>1</td>\n",
       "      <td>0</td>\n",
       "      <td>0</td>\n",
       "      <td>...</td>\n",
       "      <td>0</td>\n",
       "      <td>0</td>\n",
       "      <td>0</td>\n",
       "      <td>0</td>\n",
       "      <td>0</td>\n",
       "      <td>0</td>\n",
       "      <td>0</td>\n",
       "      <td>0</td>\n",
       "      <td>0</td>\n",
       "      <td>0</td>\n",
       "    </tr>\n",
       "    <tr>\n",
       "      <th>4623</th>\n",
       "      <td>tt1075747</td>\n",
       "      <td>[Action, Drama, Fantasy]</td>\n",
       "      <td>The U.S. military makes a scarred bounty hunte...</td>\n",
       "      <td>1</td>\n",
       "      <td>0</td>\n",
       "      <td>0</td>\n",
       "      <td>0</td>\n",
       "      <td>0</td>\n",
       "      <td>0</td>\n",
       "      <td>1</td>\n",
       "      <td>...</td>\n",
       "      <td>0</td>\n",
       "      <td>0</td>\n",
       "      <td>0</td>\n",
       "      <td>0</td>\n",
       "      <td>0</td>\n",
       "      <td>0</td>\n",
       "      <td>0</td>\n",
       "      <td>0</td>\n",
       "      <td>0</td>\n",
       "      <td>0</td>\n",
       "    </tr>\n",
       "  </tbody>\n",
       "</table>\n",
       "<p>4624 rows × 24 columns</p>\n",
       "</div>"
      ],
      "text/plain": [
       "        imdb_id                           genre  \\\n",
       "0     tt0259534  [Animation, Action, Adventure]   \n",
       "1     tt0468569          [Action, Crime, Drama]   \n",
       "2     tt0167260      [Action, Adventure, Drama]   \n",
       "3     tt9362722  [Animation, Action, Adventure]   \n",
       "4     tt0075143  [Action, Adventure, Biography]   \n",
       "...         ...                             ...   \n",
       "4619  tt0109198      [Action, Adventure, Drama]   \n",
       "4620  tt0276830   [Adventure, Fantasy, Western]   \n",
       "4621  tt0120891        [Action, Comedy, Sci-Fi]   \n",
       "4622  tt2479478     [Action, Adventure, Comedy]   \n",
       "4623  tt1075747        [Action, Drama, Fantasy]   \n",
       "\n",
       "                                               sypnosis  Action  Adventure  \\\n",
       "0     An anime adaptation of the Hindu epic the Rama...       1          1   \n",
       "1     When the menace known as the Joker wreaks havo...       1          0   \n",
       "2     Gandalf and Aragorn lead the World of Men agai...       1          1   \n",
       "3     Miles Morales catapults across the Multiverse,...       1          1   \n",
       "4     The story of prophet \"Muhammad\" and the delive...       1          1   \n",
       "...                                                 ...     ...        ...   \n",
       "4619  Four prostitutes join together to travel the O...       1          1   \n",
       "4620  In 1870, after a brutal run-in with an outlaw ...       0          1   \n",
       "4621  The two best special agents in the Wild West m...       1          0   \n",
       "4622  An outlaw who was raised by Native Americans d...       1          1   \n",
       "4623  The U.S. military makes a scarred bounty hunte...       1          0   \n",
       "\n",
       "      Animation  Biography  Comedy  Crime  Drama  ...  Horror  Music  Musical  \\\n",
       "0             1          0       0      0      0  ...       0      0        0   \n",
       "1             0          0       0      1      1  ...       0      0        0   \n",
       "2             0          0       0      0      1  ...       0      0        0   \n",
       "3             1          0       0      0      0  ...       0      0        0   \n",
       "4             0          1       0      0      0  ...       0      0        0   \n",
       "...         ...        ...     ...    ...    ...  ...     ...    ...      ...   \n",
       "4619          0          0       0      0      1  ...       0      0        0   \n",
       "4620          0          0       0      0      0  ...       0      0        0   \n",
       "4621          0          0       1      0      0  ...       0      0        0   \n",
       "4622          0          0       1      0      0  ...       0      0        0   \n",
       "4623          0          0       0      0      1  ...       0      0        0   \n",
       "\n",
       "      Mystery  Romance  Sci-Fi  Sport  Thriller  War  Western  \n",
       "0           0        0       0      0         0    0        0  \n",
       "1           0        0       0      0         0    0        0  \n",
       "2           0        0       0      0         0    0        0  \n",
       "3           0        0       0      0         0    0        0  \n",
       "4           0        0       0      0         0    0        0  \n",
       "...       ...      ...     ...    ...       ...  ...      ...  \n",
       "4619        0        0       0      0         0    0        0  \n",
       "4620        0        0       0      0         0    0        1  \n",
       "4621        0        0       1      0         0    0        0  \n",
       "4622        0        0       0      0         0    0        0  \n",
       "4623        0        0       0      0         0    0        0  \n",
       "\n",
       "[4624 rows x 24 columns]"
      ]
     },
     "execution_count": 45,
     "metadata": {},
     "output_type": "execute_result"
    }
   ],
   "source": [
    "long_df"
   ]
  },
  {
   "cell_type": "code",
   "execution_count": 31,
   "id": "a2635c6f-6931-4eb3-a965-2b16ad94a997",
   "metadata": {
    "colab": {
     "base_uri": "https://localhost:8080/"
    },
    "id": "a2635c6f-6931-4eb3-a965-2b16ad94a997",
    "outputId": "532d2ab6-e766-4432-97e8-008fb1c4c2cf"
   },
   "outputs": [
    {
     "data": {
      "text/plain": [
       "(3943, 21)"
      ]
     },
     "execution_count": 31,
     "metadata": {},
     "output_type": "execute_result"
    }
   ],
   "source": []
  },
  {
   "cell_type": "code",
   "execution_count": null,
   "id": "3Zj5UlVVJSzA",
   "metadata": {
    "colab": {
     "base_uri": "https://localhost:8080/"
    },
    "id": "3Zj5UlVVJSzA",
    "outputId": "475512b6-8d92-41b0-ef9d-8725d5143a56"
   },
   "outputs": [
    {
     "data": {
      "text/plain": [
       "(3943, 256, 256, 3)"
      ]
     },
     "execution_count": 27,
     "metadata": {},
     "output_type": "execute_result"
    }
   ],
   "source": [
    "X.shape"
   ]
  },
  {
   "cell_type": "code",
   "execution_count": null,
   "id": "0bd86de4-0358-4744-afb1-cf90e694deeb",
   "metadata": {
    "id": "0bd86de4-0358-4744-afb1-cf90e694deeb"
   },
   "outputs": [],
   "source": [
    "np.save('y_array', y)"
   ]
  },
  {
   "cell_type": "code",
   "execution_count": null,
   "id": "c1261602-26a5-45e4-9127-b7ad50ddff18",
   "metadata": {
    "id": "c1261602-26a5-45e4-9127-b7ad50ddff18"
   },
   "outputs": [],
   "source": [
    "merged_df.to_csv(\"jess_small_dataset.csv\")"
   ]
  },
  {
   "cell_type": "code",
   "execution_count": null,
   "id": "c887d18e-d5c7-4833-8502-6b3737fab336",
   "metadata": {
    "id": "c887d18e-d5c7-4833-8502-6b3737fab336",
    "outputId": "14980204-7e92-4ffd-a85d-54fec3a2e4de"
   },
   "outputs": [
    {
     "name": "stderr",
     "output_type": "stream",
     "text": [
      "100%|█████████████████████████████████████████████████████████████████████████████| 1702/1702 [00:00<00:00, 7787.25it/s]\n"
     ]
    }
   ],
   "source": [
    "# # resize all images to 256 x 256\n",
    "# # convert images to arrays (ignore corrupted images)\n",
    "# width, height = 256, 256\n",
    "# image_array = []\n",
    "\n",
    "# for i in tqdm(range(merged_df.shape[0])):\n",
    "#     try:\n",
    "#         image_path = f\"/home/jessica/code/chooj202/movie_genre_prediction/raw_data/posters/{merged_df['imdb_id'][i]}.jpg\"\n",
    "#         img = Image.open(image_path)\n",
    "#         input_arr = image.img_to_array(img)\n",
    "#         input_arr = input_arr/255.0\n",
    "#         image_array.append([merged_df['imdb_id'][i], input_arr])\n",
    "#         time.sleep(1)\n",
    "#     except:\n",
    "#         pass\n",
    "\n",
    "# img_array_df = pd.DataFrame(image_array, columns=[\"imdb_id\", \"image_array\"])"
   ]
  },
  {
   "cell_type": "code",
   "execution_count": null,
   "id": "5119b264-5565-4d94-b4b5-c8164de65edf",
   "metadata": {
    "id": "5119b264-5565-4d94-b4b5-c8164de65edf",
    "outputId": "3b5e21a0-a7fa-412b-df65-010332702618",
    "scrolled": true
   },
   "outputs": [
    {
     "name": "stderr",
     "output_type": "stream",
     "text": [
      "100%|███████████████████████████████████████████████████████████████████████████████| 1398/1398 [24:41<00:00,  1.06s/it]\n"
     ]
    }
   ],
   "source": [
    "imgs = []\n",
    "images_path = f\"/home/jessica/code/chooj202/movie_genre_prediction/raw_data/posters/{merged_df['imdb_id'][i]}.jpg\"\n",
    "for img in tqdm(range(merged_df.shape[0])):\n",
    "    image = Image.open(images_path)\n",
    "    image = image.resize((256, 256))\n",
    "    imgs.append(np.array(image))\n",
    "    time.sleep(1)"
   ]
  },
  {
   "cell_type": "code",
   "execution_count": null,
   "id": "ad88311e-3228-496d-b98f-195b8dc17276",
   "metadata": {
    "id": "ad88311e-3228-496d-b98f-195b8dc17276"
   },
   "outputs": [],
   "source": [
    "X = np.array(imgs)\n",
    "\n",
    "np.save('X_array', X)"
   ]
  },
  {
   "cell_type": "code",
   "execution_count": null,
   "id": "11850b94-ba03-4df2-a338-b4e93b7f829f",
   "metadata": {
    "id": "11850b94-ba03-4df2-a338-b4e93b7f829f"
   },
   "outputs": [],
   "source": [
    "new_df = pd.merge(img_array_df, merged_df, how = 'right', on = 'imdb_id')"
   ]
  },
  {
   "cell_type": "code",
   "execution_count": null,
   "id": "953d54aa-5025-4896-a0da-4fa594844540",
   "metadata": {
    "id": "953d54aa-5025-4896-a0da-4fa594844540",
    "outputId": "0c9dee25-ea98-4f41-acef-da59476ee795",
    "scrolled": true
   },
   "outputs": [
    {
     "data": {
      "text/html": [
       "<div>\n",
       "<style scoped>\n",
       "    .dataframe tbody tr th:only-of-type {\n",
       "        vertical-align: middle;\n",
       "    }\n",
       "\n",
       "    .dataframe tbody tr th {\n",
       "        vertical-align: top;\n",
       "    }\n",
       "\n",
       "    .dataframe thead th {\n",
       "        text-align: right;\n",
       "    }\n",
       "</style>\n",
       "<table border=\"1\" class=\"dataframe\">\n",
       "  <thead>\n",
       "    <tr style=\"text-align: right;\">\n",
       "      <th></th>\n",
       "      <th>imdb_id</th>\n",
       "      <th>image_array</th>\n",
       "      <th>plot</th>\n",
       "      <th>Action</th>\n",
       "      <th>Adventure</th>\n",
       "      <th>Animation</th>\n",
       "      <th>Biography</th>\n",
       "      <th>Comedy</th>\n",
       "      <th>Crime</th>\n",
       "      <th>Drama</th>\n",
       "      <th>...</th>\n",
       "      <th>Horror</th>\n",
       "      <th>Music</th>\n",
       "      <th>Musical</th>\n",
       "      <th>Mystery</th>\n",
       "      <th>Romance</th>\n",
       "      <th>Sci-Fi</th>\n",
       "      <th>Sport</th>\n",
       "      <th>Thriller</th>\n",
       "      <th>War</th>\n",
       "      <th>Western</th>\n",
       "    </tr>\n",
       "  </thead>\n",
       "  <tbody>\n",
       "    <tr>\n",
       "      <th>0</th>\n",
       "      <td>tt0075143</td>\n",
       "      <td>[[[0.99607843 0.99607843 1.        ]\\n  [0.992...</td>\n",
       "      <td>The story of prophet \"Muhammad\" and the delive...</td>\n",
       "      <td>1</td>\n",
       "      <td>1</td>\n",
       "      <td>0</td>\n",
       "      <td>1</td>\n",
       "      <td>0</td>\n",
       "      <td>0</td>\n",
       "      <td>0</td>\n",
       "      <td>...</td>\n",
       "      <td>0</td>\n",
       "      <td>0</td>\n",
       "      <td>0</td>\n",
       "      <td>0</td>\n",
       "      <td>0</td>\n",
       "      <td>0</td>\n",
       "      <td>0</td>\n",
       "      <td>0</td>\n",
       "      <td>0</td>\n",
       "      <td>0</td>\n",
       "    </tr>\n",
       "    <tr>\n",
       "      <th>3</th>\n",
       "      <td>tt0120815</td>\n",
       "      <td>[[[0.94509804 0.9254902  0.9490196 ]\\n  [0.819...</td>\n",
       "      <td>Opening with the Allied invasion of Normandy o...</td>\n",
       "      <td>0</td>\n",
       "      <td>0</td>\n",
       "      <td>0</td>\n",
       "      <td>0</td>\n",
       "      <td>0</td>\n",
       "      <td>0</td>\n",
       "      <td>1</td>\n",
       "      <td>...</td>\n",
       "      <td>0</td>\n",
       "      <td>0</td>\n",
       "      <td>0</td>\n",
       "      <td>0</td>\n",
       "      <td>0</td>\n",
       "      <td>0</td>\n",
       "      <td>0</td>\n",
       "      <td>0</td>\n",
       "      <td>1</td>\n",
       "      <td>0</td>\n",
       "    </tr>\n",
       "    <tr>\n",
       "      <th>5</th>\n",
       "      <td>tt0118799</td>\n",
       "      <td>[[[0.98039216 0.95686275 0.8627451 ]\\n  [0.980...</td>\n",
       "      <td>In 1930s Italy, a carefree Jewish waiter named...</td>\n",
       "      <td>0</td>\n",
       "      <td>0</td>\n",
       "      <td>0</td>\n",
       "      <td>0</td>\n",
       "      <td>1</td>\n",
       "      <td>0</td>\n",
       "      <td>1</td>\n",
       "      <td>...</td>\n",
       "      <td>0</td>\n",
       "      <td>0</td>\n",
       "      <td>0</td>\n",
       "      <td>0</td>\n",
       "      <td>1</td>\n",
       "      <td>0</td>\n",
       "      <td>0</td>\n",
       "      <td>0</td>\n",
       "      <td>0</td>\n",
       "      <td>0</td>\n",
       "    </tr>\n",
       "    <tr>\n",
       "      <th>8</th>\n",
       "      <td>tt0116860</td>\n",
       "      <td>[[[0.9647059  0.96862745 0.9843137 ]\\n  [0.988...</td>\n",
       "      <td>At the Belgrade army hospital, casualties of B...</td>\n",
       "      <td>0</td>\n",
       "      <td>0</td>\n",
       "      <td>0</td>\n",
       "      <td>0</td>\n",
       "      <td>1</td>\n",
       "      <td>0</td>\n",
       "      <td>1</td>\n",
       "      <td>...</td>\n",
       "      <td>0</td>\n",
       "      <td>0</td>\n",
       "      <td>0</td>\n",
       "      <td>0</td>\n",
       "      <td>0</td>\n",
       "      <td>0</td>\n",
       "      <td>0</td>\n",
       "      <td>0</td>\n",
       "      <td>0</td>\n",
       "      <td>0</td>\n",
       "    </tr>\n",
       "    <tr>\n",
       "      <th>10</th>\n",
       "      <td>tt0253474</td>\n",
       "      <td>[[[0.5254902  0.5254902  0.5254902 ]\\n  [0.325...</td>\n",
       "      <td>In this adaptation of the autobiography \"The P...</td>\n",
       "      <td>0</td>\n",
       "      <td>0</td>\n",
       "      <td>0</td>\n",
       "      <td>1</td>\n",
       "      <td>0</td>\n",
       "      <td>0</td>\n",
       "      <td>1</td>\n",
       "      <td>...</td>\n",
       "      <td>0</td>\n",
       "      <td>1</td>\n",
       "      <td>0</td>\n",
       "      <td>0</td>\n",
       "      <td>0</td>\n",
       "      <td>0</td>\n",
       "      <td>0</td>\n",
       "      <td>0</td>\n",
       "      <td>0</td>\n",
       "      <td>0</td>\n",
       "    </tr>\n",
       "    <tr>\n",
       "      <th>...</th>\n",
       "      <td>...</td>\n",
       "      <td>...</td>\n",
       "      <td>...</td>\n",
       "      <td>...</td>\n",
       "      <td>...</td>\n",
       "      <td>...</td>\n",
       "      <td>...</td>\n",
       "      <td>...</td>\n",
       "      <td>...</td>\n",
       "      <td>...</td>\n",
       "      <td>...</td>\n",
       "      <td>...</td>\n",
       "      <td>...</td>\n",
       "      <td>...</td>\n",
       "      <td>...</td>\n",
       "      <td>...</td>\n",
       "      <td>...</td>\n",
       "      <td>...</td>\n",
       "      <td>...</td>\n",
       "      <td>...</td>\n",
       "      <td>...</td>\n",
       "    </tr>\n",
       "    <tr>\n",
       "      <th>2391</th>\n",
       "      <td>tt1073241</td>\n",
       "      <td>[[[0.23921569 0.21960784 0.23529412]\\n  [0.415...</td>\n",
       "      <td>Thinking Pulitzer Prize and hoping to bring do...</td>\n",
       "      <td>0</td>\n",
       "      <td>0</td>\n",
       "      <td>0</td>\n",
       "      <td>0</td>\n",
       "      <td>0</td>\n",
       "      <td>1</td>\n",
       "      <td>1</td>\n",
       "      <td>...</td>\n",
       "      <td>0</td>\n",
       "      <td>0</td>\n",
       "      <td>0</td>\n",
       "      <td>1</td>\n",
       "      <td>0</td>\n",
       "      <td>0</td>\n",
       "      <td>0</td>\n",
       "      <td>0</td>\n",
       "      <td>0</td>\n",
       "      <td>0</td>\n",
       "    </tr>\n",
       "    <tr>\n",
       "      <th>2392</th>\n",
       "      <td>tt0034398</td>\n",
       "      <td>[[[0.11764706 0.11764706 0.11764706]\\n  [0.105...</td>\n",
       "      <td>Upon the death of his brother, Larry Talbot re...</td>\n",
       "      <td>0</td>\n",
       "      <td>0</td>\n",
       "      <td>0</td>\n",
       "      <td>0</td>\n",
       "      <td>0</td>\n",
       "      <td>0</td>\n",
       "      <td>0</td>\n",
       "      <td>...</td>\n",
       "      <td>1</td>\n",
       "      <td>0</td>\n",
       "      <td>0</td>\n",
       "      <td>1</td>\n",
       "      <td>1</td>\n",
       "      <td>0</td>\n",
       "      <td>0</td>\n",
       "      <td>0</td>\n",
       "      <td>0</td>\n",
       "      <td>0</td>\n",
       "    </tr>\n",
       "    <tr>\n",
       "      <th>2393</th>\n",
       "      <td>tt0478134</td>\n",
       "      <td>[[[0.20784314 0.21176471 0.23137255]\\n  [0.117...</td>\n",
       "      <td>A retired military investigator works with a p...</td>\n",
       "      <td>0</td>\n",
       "      <td>0</td>\n",
       "      <td>0</td>\n",
       "      <td>0</td>\n",
       "      <td>0</td>\n",
       "      <td>1</td>\n",
       "      <td>1</td>\n",
       "      <td>...</td>\n",
       "      <td>0</td>\n",
       "      <td>0</td>\n",
       "      <td>0</td>\n",
       "      <td>1</td>\n",
       "      <td>0</td>\n",
       "      <td>0</td>\n",
       "      <td>0</td>\n",
       "      <td>0</td>\n",
       "      <td>0</td>\n",
       "      <td>0</td>\n",
       "    </tr>\n",
       "    <tr>\n",
       "      <th>2394</th>\n",
       "      <td>tt1787988</td>\n",
       "      <td>[[[0.8352941  0.40784314 0.00392157]\\n  [0.831...</td>\n",
       "      <td>Seeing reflections of Mumbai under the red lig...</td>\n",
       "      <td>0</td>\n",
       "      <td>0</td>\n",
       "      <td>0</td>\n",
       "      <td>0</td>\n",
       "      <td>0</td>\n",
       "      <td>1</td>\n",
       "      <td>1</td>\n",
       "      <td>...</td>\n",
       "      <td>0</td>\n",
       "      <td>0</td>\n",
       "      <td>0</td>\n",
       "      <td>1</td>\n",
       "      <td>0</td>\n",
       "      <td>0</td>\n",
       "      <td>0</td>\n",
       "      <td>0</td>\n",
       "      <td>0</td>\n",
       "      <td>0</td>\n",
       "    </tr>\n",
       "    <tr>\n",
       "      <th>2395</th>\n",
       "      <td>tt0042369</td>\n",
       "      <td>[[[0.07450981 0.0627451  0.04313726]\\n  [0.074...</td>\n",
       "      <td>Small-town accountant Frank Bigelow goes to Sa...</td>\n",
       "      <td>0</td>\n",
       "      <td>0</td>\n",
       "      <td>0</td>\n",
       "      <td>0</td>\n",
       "      <td>0</td>\n",
       "      <td>1</td>\n",
       "      <td>1</td>\n",
       "      <td>...</td>\n",
       "      <td>0</td>\n",
       "      <td>0</td>\n",
       "      <td>0</td>\n",
       "      <td>0</td>\n",
       "      <td>0</td>\n",
       "      <td>0</td>\n",
       "      <td>0</td>\n",
       "      <td>0</td>\n",
       "      <td>0</td>\n",
       "      <td>0</td>\n",
       "    </tr>\n",
       "  </tbody>\n",
       "</table>\n",
       "<p>1340 rows × 24 columns</p>\n",
       "</div>"
      ],
      "text/plain": [
       "        imdb_id                                        image_array  \\\n",
       "0     tt0075143  [[[0.99607843 0.99607843 1.        ]\\n  [0.992...   \n",
       "3     tt0120815  [[[0.94509804 0.9254902  0.9490196 ]\\n  [0.819...   \n",
       "5     tt0118799  [[[0.98039216 0.95686275 0.8627451 ]\\n  [0.980...   \n",
       "8     tt0116860  [[[0.9647059  0.96862745 0.9843137 ]\\n  [0.988...   \n",
       "10    tt0253474  [[[0.5254902  0.5254902  0.5254902 ]\\n  [0.325...   \n",
       "...         ...                                                ...   \n",
       "2391  tt1073241  [[[0.23921569 0.21960784 0.23529412]\\n  [0.415...   \n",
       "2392  tt0034398  [[[0.11764706 0.11764706 0.11764706]\\n  [0.105...   \n",
       "2393  tt0478134  [[[0.20784314 0.21176471 0.23137255]\\n  [0.117...   \n",
       "2394  tt1787988  [[[0.8352941  0.40784314 0.00392157]\\n  [0.831...   \n",
       "2395  tt0042369  [[[0.07450981 0.0627451  0.04313726]\\n  [0.074...   \n",
       "\n",
       "                                                   plot Action Adventure  \\\n",
       "0     The story of prophet \"Muhammad\" and the delive...      1         1   \n",
       "3     Opening with the Allied invasion of Normandy o...      0         0   \n",
       "5     In 1930s Italy, a carefree Jewish waiter named...      0         0   \n",
       "8     At the Belgrade army hospital, casualties of B...      0         0   \n",
       "10    In this adaptation of the autobiography \"The P...      0         0   \n",
       "...                                                 ...    ...       ...   \n",
       "2391  Thinking Pulitzer Prize and hoping to bring do...      0         0   \n",
       "2392  Upon the death of his brother, Larry Talbot re...      0         0   \n",
       "2393  A retired military investigator works with a p...      0         0   \n",
       "2394  Seeing reflections of Mumbai under the red lig...      0         0   \n",
       "2395  Small-town accountant Frank Bigelow goes to Sa...      0         0   \n",
       "\n",
       "     Animation Biography Comedy Crime Drama  ... Horror Music Musical Mystery  \\\n",
       "0            0         1      0     0     0  ...      0     0       0       0   \n",
       "3            0         0      0     0     1  ...      0     0       0       0   \n",
       "5            0         0      1     0     1  ...      0     0       0       0   \n",
       "8            0         0      1     0     1  ...      0     0       0       0   \n",
       "10           0         1      0     0     1  ...      0     1       0       0   \n",
       "...        ...       ...    ...   ...   ...  ...    ...   ...     ...     ...   \n",
       "2391         0         0      0     1     1  ...      0     0       0       1   \n",
       "2392         0         0      0     0     0  ...      1     0       0       1   \n",
       "2393         0         0      0     1     1  ...      0     0       0       1   \n",
       "2394         0         0      0     1     1  ...      0     0       0       1   \n",
       "2395         0         0      0     1     1  ...      0     0       0       0   \n",
       "\n",
       "     Romance Sci-Fi Sport Thriller War Western  \n",
       "0          0      0     0        0   0       0  \n",
       "3          0      0     0        0   1       0  \n",
       "5          1      0     0        0   0       0  \n",
       "8          0      0     0        0   0       0  \n",
       "10         0      0     0        0   0       0  \n",
       "...      ...    ...   ...      ...  ..     ...  \n",
       "2391       0      0     0        0   0       0  \n",
       "2392       1      0     0        0   0       0  \n",
       "2393       0      0     0        0   0       0  \n",
       "2394       0      0     0        0   0       0  \n",
       "2395       0      0     0        0   0       0  \n",
       "\n",
       "[1340 rows x 24 columns]"
      ]
     },
     "execution_count": 71,
     "metadata": {},
     "output_type": "execute_result"
    }
   ],
   "source": [
    "new_df"
   ]
  },
  {
   "cell_type": "code",
   "execution_count": 46,
   "id": "9e4368fd-2edc-4b75-8b59-4fe542b5d1f6",
   "metadata": {
    "id": "9e4368fd-2edc-4b75-8b59-4fe542b5d1f6"
   },
   "outputs": [],
   "source": [
    "def cleaning(sentence):\n",
    "\n",
    "    # Basic cleaning\n",
    "    sentence = sentence.strip() ## remove whitespaces\n",
    "    sentence = sentence.lower() ## lowercase\n",
    "    sentence = ''.join(char for char in sentence if not char.isdigit()) ## remove numbers\n",
    "\n",
    "    # Advanced cleaning\n",
    "    for punctuation in string.punctuation:\n",
    "        sentence = sentence.replace(punctuation, '') ## remove punctuation\n",
    "\n",
    "    tokenized_sentence = word_tokenize(sentence) ## tokenize\n",
    "    stop_words = set(stopwords.words('english')) ## define stopwords\n",
    "\n",
    "    tokenized_sentence_cleaned = [ ## remove stopwords\n",
    "    w for w in tokenized_sentence if not w in stop_words]\n",
    "\n",
    "    lemmatized = [\n",
    "    WordNetLemmatizer().lemmatize(word, pos = \"v\")\n",
    "        for word in tokenized_sentence_cleaned\n",
    "    ]\n",
    "\n",
    "    cleaned_sentence = ' '.join(word for word in lemmatized)\n",
    "\n",
    "    return cleaned_sentence"
   ]
  },
  {
   "cell_type": "code",
   "execution_count": 48,
   "id": "cdb1241f-5f8f-46f4-b201-31fc92c734dd",
   "metadata": {
    "id": "cdb1241f-5f8f-46f4-b201-31fc92c734dd"
   },
   "outputs": [],
   "source": [
    "long_df['sypnosis'] = long_df['sypnosis'].apply(cleaning)"
   ]
  },
  {
   "cell_type": "code",
   "execution_count": 57,
   "id": "5de6688a-07e4-484f-9e96-30575261ba6f",
   "metadata": {},
   "outputs": [],
   "source": [
    "from skmultilearn.model_selection import iterative_train_test_split\n",
    "\n",
    "mlb = MultiLabelBinarizer()\n",
    "\n",
    "def balanced_split(df, mlb, test_size=0.5):\n",
    "    ind = np.expand_dims(np.arange(len(df)), axis=1)\n",
    "    mlb.fit_transform(df[\"genre\"])\n",
    "    labels = mlb.transform(df[\"genre\"])\n",
    "    ind_train, _, ind_test, _ = iterative_train_test_split(\n",
    "        ind, labels, test_size\n",
    "    )\n",
    "    return df.iloc[ind_train[:, 0]], df.iloc[ind_test[:, 0]]"
   ]
  },
  {
   "cell_type": "code",
   "execution_count": 59,
   "id": "5ffd3037-749a-4d82-a7b7-7fa782453396",
   "metadata": {},
   "outputs": [],
   "source": [
    "df_train, df_test = balanced_split(long_df, mlb, test_size=0.2)\n",
    "# df_val, df_test = balanced_split(df_tmp, test_size=0.5)"
   ]
  },
  {
   "cell_type": "code",
   "execution_count": 60,
   "id": "15e4b0fb-1c8f-4534-896d-13d5226b8eef",
   "metadata": {
    "scrolled": true
   },
   "outputs": [
    {
     "data": {
      "text/html": [
       "<div>\n",
       "<style scoped>\n",
       "    .dataframe tbody tr th:only-of-type {\n",
       "        vertical-align: middle;\n",
       "    }\n",
       "\n",
       "    .dataframe tbody tr th {\n",
       "        vertical-align: top;\n",
       "    }\n",
       "\n",
       "    .dataframe thead th {\n",
       "        text-align: right;\n",
       "    }\n",
       "</style>\n",
       "<table border=\"1\" class=\"dataframe\">\n",
       "  <thead>\n",
       "    <tr style=\"text-align: right;\">\n",
       "      <th></th>\n",
       "      <th>imdb_id</th>\n",
       "      <th>genre</th>\n",
       "      <th>sypnosis</th>\n",
       "      <th>Action</th>\n",
       "      <th>Adventure</th>\n",
       "      <th>Animation</th>\n",
       "      <th>Biography</th>\n",
       "      <th>Comedy</th>\n",
       "      <th>Crime</th>\n",
       "      <th>Drama</th>\n",
       "      <th>...</th>\n",
       "      <th>Horror</th>\n",
       "      <th>Music</th>\n",
       "      <th>Musical</th>\n",
       "      <th>Mystery</th>\n",
       "      <th>Romance</th>\n",
       "      <th>Sci-Fi</th>\n",
       "      <th>Sport</th>\n",
       "      <th>Thriller</th>\n",
       "      <th>War</th>\n",
       "      <th>Western</th>\n",
       "    </tr>\n",
       "  </thead>\n",
       "  <tbody>\n",
       "    <tr>\n",
       "      <th>2</th>\n",
       "      <td>tt0167260</td>\n",
       "      <td>[Action, Adventure, Drama]</td>\n",
       "      <td>gandalf aragorn lead world men saurons army dr...</td>\n",
       "      <td>1</td>\n",
       "      <td>1</td>\n",
       "      <td>0</td>\n",
       "      <td>0</td>\n",
       "      <td>0</td>\n",
       "      <td>0</td>\n",
       "      <td>1</td>\n",
       "      <td>...</td>\n",
       "      <td>0</td>\n",
       "      <td>0</td>\n",
       "      <td>0</td>\n",
       "      <td>0</td>\n",
       "      <td>0</td>\n",
       "      <td>0</td>\n",
       "      <td>0</td>\n",
       "      <td>0</td>\n",
       "      <td>0</td>\n",
       "      <td>0</td>\n",
       "    </tr>\n",
       "    <tr>\n",
       "      <th>4</th>\n",
       "      <td>tt0075143</td>\n",
       "      <td>[Action, Adventure, Biography]</td>\n",
       "      <td>story prophet muhammad delivery message god allah</td>\n",
       "      <td>1</td>\n",
       "      <td>1</td>\n",
       "      <td>0</td>\n",
       "      <td>1</td>\n",
       "      <td>0</td>\n",
       "      <td>0</td>\n",
       "      <td>0</td>\n",
       "      <td>...</td>\n",
       "      <td>0</td>\n",
       "      <td>0</td>\n",
       "      <td>0</td>\n",
       "      <td>0</td>\n",
       "      <td>0</td>\n",
       "      <td>0</td>\n",
       "      <td>0</td>\n",
       "      <td>0</td>\n",
       "      <td>0</td>\n",
       "      <td>0</td>\n",
       "    </tr>\n",
       "    <tr>\n",
       "      <th>6</th>\n",
       "      <td>tt0120737</td>\n",
       "      <td>[Action, Adventure, Drama]</td>\n",
       "      <td>meek hobbit shire eight companion set journey ...</td>\n",
       "      <td>1</td>\n",
       "      <td>1</td>\n",
       "      <td>0</td>\n",
       "      <td>0</td>\n",
       "      <td>0</td>\n",
       "      <td>0</td>\n",
       "      <td>1</td>\n",
       "      <td>...</td>\n",
       "      <td>0</td>\n",
       "      <td>0</td>\n",
       "      <td>0</td>\n",
       "      <td>0</td>\n",
       "      <td>0</td>\n",
       "      <td>0</td>\n",
       "      <td>0</td>\n",
       "      <td>0</td>\n",
       "      <td>0</td>\n",
       "      <td>0</td>\n",
       "    </tr>\n",
       "    <tr>\n",
       "      <th>8</th>\n",
       "      <td>tt6019206</td>\n",
       "      <td>[Action, Crime, Thriller]</td>\n",
       "      <td>bride must kill exboss lover bill betray wed r...</td>\n",
       "      <td>1</td>\n",
       "      <td>0</td>\n",
       "      <td>0</td>\n",
       "      <td>0</td>\n",
       "      <td>0</td>\n",
       "      <td>1</td>\n",
       "      <td>0</td>\n",
       "      <td>...</td>\n",
       "      <td>0</td>\n",
       "      <td>0</td>\n",
       "      <td>0</td>\n",
       "      <td>0</td>\n",
       "      <td>0</td>\n",
       "      <td>0</td>\n",
       "      <td>0</td>\n",
       "      <td>1</td>\n",
       "      <td>0</td>\n",
       "      <td>0</td>\n",
       "    </tr>\n",
       "    <tr>\n",
       "      <th>10</th>\n",
       "      <td>tt0080684</td>\n",
       "      <td>[Action, Adventure, Fantasy]</td>\n",
       "      <td>rebel overpower empire luke skywalker begin je...</td>\n",
       "      <td>1</td>\n",
       "      <td>1</td>\n",
       "      <td>0</td>\n",
       "      <td>0</td>\n",
       "      <td>0</td>\n",
       "      <td>0</td>\n",
       "      <td>0</td>\n",
       "      <td>...</td>\n",
       "      <td>0</td>\n",
       "      <td>0</td>\n",
       "      <td>0</td>\n",
       "      <td>0</td>\n",
       "      <td>0</td>\n",
       "      <td>0</td>\n",
       "      <td>0</td>\n",
       "      <td>0</td>\n",
       "      <td>0</td>\n",
       "      <td>0</td>\n",
       "    </tr>\n",
       "    <tr>\n",
       "      <th>...</th>\n",
       "      <td>...</td>\n",
       "      <td>...</td>\n",
       "      <td>...</td>\n",
       "      <td>...</td>\n",
       "      <td>...</td>\n",
       "      <td>...</td>\n",
       "      <td>...</td>\n",
       "      <td>...</td>\n",
       "      <td>...</td>\n",
       "      <td>...</td>\n",
       "      <td>...</td>\n",
       "      <td>...</td>\n",
       "      <td>...</td>\n",
       "      <td>...</td>\n",
       "      <td>...</td>\n",
       "      <td>...</td>\n",
       "      <td>...</td>\n",
       "      <td>...</td>\n",
       "      <td>...</td>\n",
       "      <td>...</td>\n",
       "      <td>...</td>\n",
       "    </tr>\n",
       "    <tr>\n",
       "      <th>4534</th>\n",
       "      <td>tt0067411</td>\n",
       "      <td>[Drama, Western]</td>\n",
       "      <td>gambler prostitute become business partner rem...</td>\n",
       "      <td>0</td>\n",
       "      <td>0</td>\n",
       "      <td>0</td>\n",
       "      <td>0</td>\n",
       "      <td>0</td>\n",
       "      <td>0</td>\n",
       "      <td>1</td>\n",
       "      <td>...</td>\n",
       "      <td>0</td>\n",
       "      <td>0</td>\n",
       "      <td>0</td>\n",
       "      <td>0</td>\n",
       "      <td>0</td>\n",
       "      <td>0</td>\n",
       "      <td>0</td>\n",
       "      <td>0</td>\n",
       "      <td>0</td>\n",
       "      <td>1</td>\n",
       "    </tr>\n",
       "    <tr>\n",
       "      <th>4536</th>\n",
       "      <td>tt0046303</td>\n",
       "      <td>[Drama, Western]</td>\n",
       "      <td>weary gunfighter wyoming begin envision quiete...</td>\n",
       "      <td>0</td>\n",
       "      <td>0</td>\n",
       "      <td>0</td>\n",
       "      <td>0</td>\n",
       "      <td>0</td>\n",
       "      <td>0</td>\n",
       "      <td>1</td>\n",
       "      <td>...</td>\n",
       "      <td>0</td>\n",
       "      <td>0</td>\n",
       "      <td>0</td>\n",
       "      <td>0</td>\n",
       "      <td>0</td>\n",
       "      <td>0</td>\n",
       "      <td>0</td>\n",
       "      <td>0</td>\n",
       "      <td>0</td>\n",
       "      <td>1</td>\n",
       "    </tr>\n",
       "    <tr>\n",
       "      <th>4547</th>\n",
       "      <td>tt0068154</td>\n",
       "      <td>[Comedy, Western]</td>\n",
       "      <td>bambino try teach brother trinity become outla...</td>\n",
       "      <td>0</td>\n",
       "      <td>0</td>\n",
       "      <td>0</td>\n",
       "      <td>0</td>\n",
       "      <td>1</td>\n",
       "      <td>0</td>\n",
       "      <td>0</td>\n",
       "      <td>...</td>\n",
       "      <td>0</td>\n",
       "      <td>0</td>\n",
       "      <td>0</td>\n",
       "      <td>0</td>\n",
       "      <td>0</td>\n",
       "      <td>0</td>\n",
       "      <td>0</td>\n",
       "      <td>0</td>\n",
       "      <td>0</td>\n",
       "      <td>1</td>\n",
       "    </tr>\n",
       "    <tr>\n",
       "      <th>4599</th>\n",
       "      <td>tt3608930</td>\n",
       "      <td>[Action, Western]</td>\n",
       "      <td>mysterious stranger random act violence drag t...</td>\n",
       "      <td>1</td>\n",
       "      <td>0</td>\n",
       "      <td>0</td>\n",
       "      <td>0</td>\n",
       "      <td>0</td>\n",
       "      <td>0</td>\n",
       "      <td>0</td>\n",
       "      <td>...</td>\n",
       "      <td>0</td>\n",
       "      <td>0</td>\n",
       "      <td>0</td>\n",
       "      <td>0</td>\n",
       "      <td>0</td>\n",
       "      <td>0</td>\n",
       "      <td>0</td>\n",
       "      <td>0</td>\n",
       "      <td>0</td>\n",
       "      <td>1</td>\n",
       "    </tr>\n",
       "    <tr>\n",
       "      <th>4605</th>\n",
       "      <td>tt0244000</td>\n",
       "      <td>[Action, Western]</td>\n",
       "      <td>southern friends return home war end yankee so...</td>\n",
       "      <td>1</td>\n",
       "      <td>0</td>\n",
       "      <td>0</td>\n",
       "      <td>0</td>\n",
       "      <td>0</td>\n",
       "      <td>0</td>\n",
       "      <td>0</td>\n",
       "      <td>...</td>\n",
       "      <td>0</td>\n",
       "      <td>0</td>\n",
       "      <td>0</td>\n",
       "      <td>0</td>\n",
       "      <td>0</td>\n",
       "      <td>0</td>\n",
       "      <td>0</td>\n",
       "      <td>0</td>\n",
       "      <td>0</td>\n",
       "      <td>1</td>\n",
       "    </tr>\n",
       "  </tbody>\n",
       "</table>\n",
       "<p>938 rows × 24 columns</p>\n",
       "</div>"
      ],
      "text/plain": [
       "        imdb_id                           genre  \\\n",
       "2     tt0167260      [Action, Adventure, Drama]   \n",
       "4     tt0075143  [Action, Adventure, Biography]   \n",
       "6     tt0120737      [Action, Adventure, Drama]   \n",
       "8     tt6019206       [Action, Crime, Thriller]   \n",
       "10    tt0080684    [Action, Adventure, Fantasy]   \n",
       "...         ...                             ...   \n",
       "4534  tt0067411                [Drama, Western]   \n",
       "4536  tt0046303                [Drama, Western]   \n",
       "4547  tt0068154               [Comedy, Western]   \n",
       "4599  tt3608930               [Action, Western]   \n",
       "4605  tt0244000               [Action, Western]   \n",
       "\n",
       "                                               sypnosis  Action  Adventure  \\\n",
       "2     gandalf aragorn lead world men saurons army dr...       1          1   \n",
       "4     story prophet muhammad delivery message god allah       1          1   \n",
       "6     meek hobbit shire eight companion set journey ...       1          1   \n",
       "8     bride must kill exboss lover bill betray wed r...       1          0   \n",
       "10    rebel overpower empire luke skywalker begin je...       1          1   \n",
       "...                                                 ...     ...        ...   \n",
       "4534  gambler prostitute become business partner rem...       0          0   \n",
       "4536  weary gunfighter wyoming begin envision quiete...       0          0   \n",
       "4547  bambino try teach brother trinity become outla...       0          0   \n",
       "4599  mysterious stranger random act violence drag t...       1          0   \n",
       "4605  southern friends return home war end yankee so...       1          0   \n",
       "\n",
       "      Animation  Biography  Comedy  Crime  Drama  ...  Horror  Music  Musical  \\\n",
       "2             0          0       0      0      1  ...       0      0        0   \n",
       "4             0          1       0      0      0  ...       0      0        0   \n",
       "6             0          0       0      0      1  ...       0      0        0   \n",
       "8             0          0       0      1      0  ...       0      0        0   \n",
       "10            0          0       0      0      0  ...       0      0        0   \n",
       "...         ...        ...     ...    ...    ...  ...     ...    ...      ...   \n",
       "4534          0          0       0      0      1  ...       0      0        0   \n",
       "4536          0          0       0      0      1  ...       0      0        0   \n",
       "4547          0          0       1      0      0  ...       0      0        0   \n",
       "4599          0          0       0      0      0  ...       0      0        0   \n",
       "4605          0          0       0      0      0  ...       0      0        0   \n",
       "\n",
       "      Mystery  Romance  Sci-Fi  Sport  Thriller  War  Western  \n",
       "2           0        0       0      0         0    0        0  \n",
       "4           0        0       0      0         0    0        0  \n",
       "6           0        0       0      0         0    0        0  \n",
       "8           0        0       0      0         1    0        0  \n",
       "10          0        0       0      0         0    0        0  \n",
       "...       ...      ...     ...    ...       ...  ...      ...  \n",
       "4534        0        0       0      0         0    0        1  \n",
       "4536        0        0       0      0         0    0        1  \n",
       "4547        0        0       0      0         0    0        1  \n",
       "4599        0        0       0      0         0    0        1  \n",
       "4605        0        0       0      0         0    0        1  \n",
       "\n",
       "[938 rows x 24 columns]"
      ]
     },
     "execution_count": 60,
     "metadata": {},
     "output_type": "execute_result"
    }
   ],
   "source": [
    "df_test"
   ]
  },
  {
   "cell_type": "code",
   "execution_count": 62,
   "id": "feff482e-973a-4f88-9af6-9188f810756d",
   "metadata": {},
   "outputs": [],
   "source": [
    "X_train = df_train['sypnosis']"
   ]
  },
  {
   "cell_type": "code",
   "execution_count": 61,
   "id": "1a2a5f40-7735-4b50-8eea-27bb0e76b41a",
   "metadata": {},
   "outputs": [],
   "source": [
    "X_test = df_test['sypnosis']"
   ]
  },
  {
   "cell_type": "code",
   "execution_count": null,
   "id": "5a798de2-3416-4c11-a0c2-31a6eb1cc48b",
   "metadata": {
    "id": "5a798de2-3416-4c11-a0c2-31a6eb1cc48b"
   },
   "outputs": [],
   "source": [
    "X = np.array(imgs)"
   ]
  },
  {
   "cell_type": "code",
   "execution_count": 10,
   "id": "cffc71ab-1406-430c-9821-36cee4bbfdad",
   "metadata": {
    "colab": {
     "base_uri": "https://localhost:8080/"
    },
    "id": "cffc71ab-1406-430c-9821-36cee4bbfdad",
    "outputId": "ff74059e-be26-44eb-a4fc-ba31e98bbb29"
   },
   "outputs": [
    {
     "data": {
      "text/plain": [
       "(3889, 256, 256, 3)"
      ]
     },
     "execution_count": 10,
     "metadata": {},
     "output_type": "execute_result"
    }
   ],
   "source": [
    "X.shape"
   ]
  },
  {
   "cell_type": "code",
   "execution_count": null,
   "id": "e59d9dbb-90f5-4f6e-bf8a-a20d5367cd33",
   "metadata": {
    "id": "e59d9dbb-90f5-4f6e-bf8a-a20d5367cd33"
   },
   "outputs": [],
   "source": [
    "merged_df = merged_df.drop(columns = ['imdb_id', 'plot'])"
   ]
  },
  {
   "cell_type": "code",
   "execution_count": 5,
   "id": "42fb4a5f-aa28-4f5c-b0ee-0764798eda75",
   "metadata": {
    "colab": {
     "base_uri": "https://localhost:8080/"
    },
    "id": "42fb4a5f-aa28-4f5c-b0ee-0764798eda75",
    "outputId": "fceead7a-e154-4b88-abf4-02b69ab54b22"
   },
   "outputs": [
    {
     "data": {
      "text/plain": [
       "(3889, 20)"
      ]
     },
     "execution_count": 5,
     "metadata": {},
     "output_type": "execute_result"
    }
   ],
   "source": [
    "y.shape"
   ]
  },
  {
   "cell_type": "code",
   "execution_count": null,
   "id": "f1a41624-b19b-4a10-89fa-7700cd5b796e",
   "metadata": {
    "id": "f1a41624-b19b-4a10-89fa-7700cd5b796e"
   },
   "outputs": [],
   "source": [
    "y = merged_df\n",
    "y.to_csv(\"Y.csv\")"
   ]
  },
  {
   "cell_type": "code",
   "execution_count": 40,
   "id": "6WVHmG5aEvyZ",
   "metadata": {
    "id": "6WVHmG5aEvyZ"
   },
   "outputs": [],
   "source": [
    "y = np.load('/content/drive/MyDrive/y500_array.npy')"
   ]
  },
  {
   "cell_type": "code",
   "execution_count": null,
   "id": "5cd0fXWqG0fe",
   "metadata": {
    "id": "5cd0fXWqG0fe"
   },
   "outputs": [],
   "source": [
    "y = y.drop(columns = ['Unnamed: 0'])"
   ]
  },
  {
   "cell_type": "code",
   "execution_count": 41,
   "id": "8q62fD8WHHV2",
   "metadata": {
    "id": "8q62fD8WHHV2"
   },
   "outputs": [],
   "source": [
    "X = np.load('/content/drive/MyDrive/X500_array.npy')"
   ]
  },
  {
   "cell_type": "code",
   "execution_count": 49,
   "id": "d82d914f-89c7-440f-91bc-b53ff236186e",
   "metadata": {
    "colab": {
     "base_uri": "https://localhost:8080/",
     "height": 319
    },
    "id": "d82d914f-89c7-440f-91bc-b53ff236186e",
    "outputId": "5278daf6-cd8a-488f-cece-e42ffe25b331"
   },
   "outputs": [],
   "source": [
    "# X = np.load('X_array.npy')"
   ]
  },
  {
   "cell_type": "code",
   "execution_count": 42,
   "id": "ebe2a1d4-c64e-44fc-93b2-4447b529342c",
   "metadata": {
    "id": "ebe2a1d4-c64e-44fc-93b2-4447b529342c"
   },
   "outputs": [],
   "source": [
    "X_train, X_test, y_train ,y_test = train_test_split(X, y, test_size=0.2)"
   ]
  },
  {
   "cell_type": "code",
   "execution_count": 43,
   "id": "94c769a3-e954-4acc-b318-a4a83a272b78",
   "metadata": {
    "id": "94c769a3-e954-4acc-b318-a4a83a272b78"
   },
   "outputs": [],
   "source": [
    "X_val, X_test, y_val, y_test = train_test_split(X_test, y_test, test_size = 0.5)"
   ]
  },
  {
   "cell_type": "code",
   "execution_count": 16,
   "id": "de0360f4-ec8d-477e-ac82-c7ea39e3adf4",
   "metadata": {
    "colab": {
     "base_uri": "https://localhost:8080/"
    },
    "id": "de0360f4-ec8d-477e-ac82-c7ea39e3adf4",
    "outputId": "583399d3-46c2-407d-f3cd-6cc19472ce04"
   },
   "outputs": [
    {
     "data": {
      "text/plain": [
       "(3111, 256, 256, 3)"
      ]
     },
     "execution_count": 16,
     "metadata": {},
     "output_type": "execute_result"
    }
   ],
   "source": [
    "X_train.shape"
   ]
  },
  {
   "cell_type": "code",
   "execution_count": 14,
   "id": "d8a39e84-e1f3-4353-8a1a-0be387a3a076",
   "metadata": {
    "colab": {
     "base_uri": "https://localhost:8080/"
    },
    "id": "d8a39e84-e1f3-4353-8a1a-0be387a3a076",
    "outputId": "9010a0f1-3f14-4ff0-e050-5a94a02866d2"
   },
   "outputs": [
    {
     "data": {
      "text/plain": [
       "(389, 256, 256, 3)"
      ]
     },
     "execution_count": 14,
     "metadata": {},
     "output_type": "execute_result"
    }
   ],
   "source": [
    "X_val.shape"
   ]
  },
  {
   "cell_type": "code",
   "execution_count": null,
   "id": "6b63cc82-c5ef-47f7-838b-c49f2bddbf51",
   "metadata": {
    "colab": {
     "base_uri": "https://localhost:8080/"
    },
    "id": "6b63cc82-c5ef-47f7-838b-c49f2bddbf51",
    "outputId": "83705112-2f81-430a-ff5b-45594a5ae173"
   },
   "outputs": [
    {
     "data": {
      "text/plain": [
       "(395, 256, 256, 3)"
      ]
     },
     "execution_count": 9,
     "metadata": {},
     "output_type": "execute_result"
    }
   ],
   "source": [
    "X_test.shape"
   ]
  },
  {
   "cell_type": "code",
   "execution_count": 24,
   "id": "d4c0384b-36ac-49de-87f0-0251a7e5fc14",
   "metadata": {
    "colab": {
     "base_uri": "https://localhost:8080/"
    },
    "id": "d4c0384b-36ac-49de-87f0-0251a7e5fc14",
    "outputId": "d7dd2657-3d71-495a-fb23-a288b5febff9"
   },
   "outputs": [
    {
     "data": {
      "text/plain": [
       "(389, 20)"
      ]
     },
     "execution_count": 24,
     "metadata": {},
     "output_type": "execute_result"
    }
   ],
   "source": [
    "y_test.shape"
   ]
  },
  {
   "cell_type": "code",
   "execution_count": 16,
   "id": "1547487e-6f9e-46a0-8913-3c0941be773f",
   "metadata": {
    "colab": {
     "base_uri": "https://localhost:8080/"
    },
    "id": "1547487e-6f9e-46a0-8913-3c0941be773f",
    "outputId": "d7f8373c-6d47-4553-9dea-5b9ada535657"
   },
   "outputs": [
    {
     "data": {
      "text/plain": [
       "(389, 20)"
      ]
     },
     "execution_count": 16,
     "metadata": {},
     "output_type": "execute_result"
    }
   ],
   "source": [
    "y_val.shape"
   ]
  },
  {
   "cell_type": "code",
   "execution_count": 17,
   "id": "4254f872-93af-4c4b-85d6-74e472b66cb1",
   "metadata": {
    "colab": {
     "base_uri": "https://localhost:8080/"
    },
    "id": "4254f872-93af-4c4b-85d6-74e472b66cb1",
    "outputId": "3243386f-3787-4e34-8569-e572a920a8e4"
   },
   "outputs": [
    {
     "data": {
      "text/plain": [
       "(3111, 20)"
      ]
     },
     "execution_count": 17,
     "metadata": {},
     "output_type": "execute_result"
    }
   ],
   "source": [
    "y_train.shape"
   ]
  },
  {
   "cell_type": "markdown",
   "id": "e4d83e23-d3c3-4814-8dee-7962fb25de2c",
   "metadata": {
    "id": "e4d83e23-d3c3-4814-8dee-7962fb25de2c"
   },
   "source": [
    "## CNN"
   ]
  },
  {
   "cell_type": "code",
   "execution_count": null,
   "id": "97ad32d2-401c-438f-ac42-42b2ffe5f071",
   "metadata": {
    "id": "97ad32d2-401c-438f-ac42-42b2ffe5f071"
   },
   "outputs": [],
   "source": [
    "from tensorflow.keras import Sequential, layers\n",
    "from tensorflow.keras import optimizers\n",
    "from tensorflow.keras.callbacks import EarlyStopping\n",
    "from tensorflow.keras.layers.experimental.preprocessing import Rescaling\n",
    "\n",
    "def load_own_model():\n",
    "\n",
    "    model = Sequential()\n",
    "    model.add(Rescaling(1./255, input_shape=(256,256,3)))\n",
    "\n",
    "    model.add(layers.Conv2D(16, kernel_size=10, activation='relu'))\n",
    "    model.add(layers.MaxPooling2D(3))\n",
    "\n",
    "    model.add(layers.Conv2D(32, kernel_size=8, activation=\"relu\"))\n",
    "    model.add(layers.MaxPooling2D(3))\n",
    "\n",
    "    model.add(layers.Conv2D(32, kernel_size=6, activation=\"relu\"))\n",
    "    model.add(layers.MaxPooling2D(3))\n",
    "\n",
    "    model.add(layers.Flatten())\n",
    "    model.add(layers.Dense(100, activation='relu'))\n",
    "    model.add(layers.Dense(21, activation='softmax'))\n",
    "\n",
    "    opt = optimizers.Adam(learning_rate=1e-4)\n",
    "    model.compile(loss='categorical_crossentropy',\n",
    "                  optimizer=opt,\n",
    "                  metrics=['accuracy'])\n",
    "\n",
    "    return model"
   ]
  },
  {
   "cell_type": "code",
   "execution_count": null,
   "id": "f0760b12-6925-4e71-a208-dd85d39aba2d",
   "metadata": {
    "colab": {
     "base_uri": "https://localhost:8080/"
    },
    "id": "f0760b12-6925-4e71-a208-dd85d39aba2d",
    "outputId": "e008a640-8e61-4882-a62f-a932df61b4dd"
   },
   "outputs": [
    {
     "name": "stdout",
     "output_type": "stream",
     "text": [
      "Model: \"sequential\"\n",
      "_________________________________________________________________\n",
      " Layer (type)                Output Shape              Param #   \n",
      "=================================================================\n",
      " rescaling (Rescaling)       (None, 256, 256, 3)       0         \n",
      "                                                                 \n",
      " conv2d (Conv2D)             (None, 247, 247, 16)      4816      \n",
      "                                                                 \n",
      " max_pooling2d (MaxPooling2D  (None, 82, 82, 16)       0         \n",
      " )                                                               \n",
      "                                                                 \n",
      " conv2d_1 (Conv2D)           (None, 75, 75, 32)        32800     \n",
      "                                                                 \n",
      " max_pooling2d_1 (MaxPooling  (None, 25, 25, 32)       0         \n",
      " 2D)                                                             \n",
      "                                                                 \n",
      " conv2d_2 (Conv2D)           (None, 20, 20, 32)        36896     \n",
      "                                                                 \n",
      " max_pooling2d_2 (MaxPooling  (None, 6, 6, 32)         0         \n",
      " 2D)                                                             \n",
      "                                                                 \n",
      " flatten (Flatten)           (None, 1152)              0         \n",
      "                                                                 \n",
      " dense (Dense)               (None, 100)               115300    \n",
      "                                                                 \n",
      " dense_1 (Dense)             (None, 21)                2121      \n",
      "                                                                 \n",
      "=================================================================\n",
      "Total params: 191,933\n",
      "Trainable params: 191,933\n",
      "Non-trainable params: 0\n",
      "_________________________________________________________________\n"
     ]
    }
   ],
   "source": [
    "model_homemade = load_own_model()\n",
    "model_homemade.summary()"
   ]
  },
  {
   "cell_type": "code",
   "execution_count": null,
   "id": "3c71c106-88ca-4d95-98de-ced4d7a43684",
   "metadata": {
    "colab": {
     "base_uri": "https://localhost:8080/"
    },
    "id": "3c71c106-88ca-4d95-98de-ced4d7a43684",
    "outputId": "c2d5c372-cfe4-45a3-f538-210511ca8125"
   },
   "outputs": [
    {
     "name": "stdout",
     "output_type": "stream",
     "text": [
      "Epoch 1/100\n",
      "198/198 [==============================] - 18s 23ms/step - loss: 19550.4531 - accuracy: 0.1620 - val_loss: 132950.1562 - val_accuracy: 0.1726\n",
      "Epoch 2/100\n",
      "198/198 [==============================] - 4s 20ms/step - loss: 1279690.5000 - accuracy: 0.1677 - val_loss: 3859834.5000 - val_accuracy: 0.1980\n",
      "Epoch 3/100\n",
      "198/198 [==============================] - 4s 21ms/step - loss: 9163273.0000 - accuracy: 0.1538 - val_loss: 14607878.0000 - val_accuracy: 0.1853\n",
      "Epoch 4/100\n",
      "198/198 [==============================] - 4s 20ms/step - loss: 30560906.0000 - accuracy: 0.1522 - val_loss: 48564364.0000 - val_accuracy: 0.2030\n",
      "Epoch 5/100\n",
      "198/198 [==============================] - 4s 20ms/step - loss: 74421184.0000 - accuracy: 0.1506 - val_loss: 105663712.0000 - val_accuracy: 0.1980\n",
      "Epoch 6/100\n",
      "198/198 [==============================] - 4s 20ms/step - loss: 139518912.0000 - accuracy: 0.1585 - val_loss: 189814000.0000 - val_accuracy: 0.1472\n",
      "Epoch 7/100\n",
      "198/198 [==============================] - 4s 21ms/step - loss: 233603504.0000 - accuracy: 0.1525 - val_loss: 267133296.0000 - val_accuracy: 0.1269\n",
      "Epoch 8/100\n",
      "198/198 [==============================] - 4s 21ms/step - loss: 337066496.0000 - accuracy: 0.1522 - val_loss: 349849888.0000 - val_accuracy: 0.0838\n",
      "Epoch 9/100\n",
      "198/198 [==============================] - 4s 21ms/step - loss: 414431552.0000 - accuracy: 0.1439 - val_loss: 499244896.0000 - val_accuracy: 0.2107\n",
      "Epoch 10/100\n",
      "198/198 [==============================] - 4s 21ms/step - loss: 575089216.0000 - accuracy: 0.1519 - val_loss: 778960384.0000 - val_accuracy: 0.2081\n",
      "Epoch 11/100\n",
      "198/198 [==============================] - 4s 20ms/step - loss: 809426624.0000 - accuracy: 0.1595 - val_loss: 958959168.0000 - val_accuracy: 0.2081\n",
      "Epoch 12/100\n",
      "198/198 [==============================] - 4s 19ms/step - loss: 1075509760.0000 - accuracy: 0.1417 - val_loss: 1279054592.0000 - val_accuracy: 0.1523\n",
      "Epoch 13/100\n",
      "198/198 [==============================] - 4s 21ms/step - loss: 1446691456.0000 - accuracy: 0.1516 - val_loss: 1780751872.0000 - val_accuracy: 0.2056\n",
      "Epoch 14/100\n",
      "196/198 [============================>.] - ETA: 0s - loss: 1793635200.0000 - accuracy: 0.1323Restoring model weights from the end of the best epoch: 9.\n",
      "198/198 [==============================] - 4s 21ms/step - loss: 1796503808.0000 - accuracy: 0.1322 - val_loss: 2129714688.0000 - val_accuracy: 0.0000e+00\n",
      "Epoch 14: early stopping\n"
     ]
    }
   ],
   "source": [
    "es = EarlyStopping(monitor = 'val_accuracy',\n",
    "                   mode = 'max',\n",
    "                   patience = 5,\n",
    "                   verbose = 1,\n",
    "                   restore_best_weights = True)\n",
    "\n",
    "history = model_homemade.fit(X_train, y_train,\n",
    "                             validation_data = (X_val, y_val),\n",
    "                             batch_size = 16,\n",
    "                             epochs = 100,\n",
    "                             callbacks=[es])"
   ]
  },
  {
   "cell_type": "code",
   "execution_count": null,
   "id": "faa0a00e-8455-4f2e-922b-5c1ed63afe4a",
   "metadata": {
    "colab": {
     "base_uri": "https://localhost:8080/"
    },
    "id": "faa0a00e-8455-4f2e-922b-5c1ed63afe4a",
    "outputId": "c2f245d3-6087-49eb-a017-af94eee43ffb"
   },
   "outputs": [
    {
     "name": "stdout",
     "output_type": "stream",
     "text": [
      "13/13 [==============================] - 1s 32ms/step - loss: 420876256.0000 - accuracy: 0.2051\n"
     ]
    }
   ],
   "source": [
    "res = model_homemade.evaluate(X_test, y_test)"
   ]
  },
  {
   "cell_type": "code",
   "execution_count": null,
   "id": "404c7e34-9a62-4fab-be96-ccd9d4cbb1ad",
   "metadata": {
    "colab": {
     "base_uri": "https://localhost:8080/"
    },
    "id": "404c7e34-9a62-4fab-be96-ccd9d4cbb1ad",
    "outputId": "6581e1a3-fc01-4f8d-dfae-b876aed2fe99"
   },
   "outputs": [
    {
     "name": "stdout",
     "output_type": "stream",
     "text": [
      "test_accuracy = 21.0 %\n"
     ]
    }
   ],
   "source": [
    "test_accuracy = res[-1]\n",
    "print(f\"test_accuracy = {round(test_accuracy,2)*100} %\")"
   ]
  },
  {
   "cell_type": "markdown",
   "id": "2af4d018-f116-4504-860f-539c83ae94e1",
   "metadata": {
    "id": "2af4d018-f116-4504-860f-539c83ae94e1"
   },
   "source": [
    "## RESNET 50"
   ]
  },
  {
   "cell_type": "code",
   "execution_count": null,
   "id": "2a37837d-36b5-4b9b-b220-f0c8bbede93d",
   "metadata": {
    "id": "2a37837d-36b5-4b9b-b220-f0c8bbede93d",
    "outputId": "a1ea9372-84d3-4de3-c85c-1b450dc42d04"
   },
   "outputs": [
    {
     "name": "stdout",
     "output_type": "stream",
     "text": [
      "Collecting nvidia-tensorrt\n",
      "  Downloading nvidia_tensorrt-99.0.0-py3-none-manylinux_2_17_x86_64.whl (17 kB)\n",
      "Collecting tensorrt (from nvidia-tensorrt)\n",
      "  Downloading tensorrt-8.6.1.tar.gz (16 kB)\n",
      "  Preparing metadata (setup.py) ... \u001b[?25ldone\n",
      "\u001b[?25hBuilding wheels for collected packages: tensorrt\n",
      "  Building wheel for tensorrt (setup.py) ... \u001b[?25ldone\n",
      "\u001b[?25h  Created wheel for tensorrt: filename=tensorrt-8.6.1-py2.py3-none-any.whl size=16972 sha256=0763287a6dc9951ce1b79810c204573546288c31f966df08ce3b978153c65d4a\n",
      "  Stored in directory: /home/jessica/.cache/pip/wheels/6d/29/56/abdffd4c604f255b5254bef3f1c598ab7811ea020540599438\n",
      "Successfully built tensorrt\n",
      "Installing collected packages: tensorrt, nvidia-tensorrt\n",
      "Successfully installed nvidia-tensorrt-99.0.0 tensorrt-8.6.1\n"
     ]
    }
   ],
   "source": [
    "!pip3 install nvidia-tensorrt"
   ]
  },
  {
   "cell_type": "code",
   "execution_count": null,
   "id": "87c74dec-df49-4161-9bf4-5ce5b4b484fc",
   "metadata": {
    "colab": {
     "base_uri": "https://localhost:8080/"
    },
    "id": "87c74dec-df49-4161-9bf4-5ce5b4b484fc",
    "outputId": "ac3b6534-57cd-4ad7-c3de-e913cf620ac4"
   },
   "outputs": [
    {
     "name": "stdout",
     "output_type": "stream",
     "text": [
      "Downloading data from https://storage.googleapis.com/tensorflow/keras-applications/resnet/resnet50_weights_tf_dim_ordering_tf_kernels_notop.h5\n",
      "94765736/94765736 [==============================] - 3s 0us/step\n"
     ]
    }
   ],
   "source": [
    "from tensorflow.keras.applications.resnet50 import ResNet50\n",
    "\n",
    "def load_model():\n",
    "\n",
    "    # $CHALLENGIFY_BEGIN\n",
    "\n",
    "    model = ResNet50(weights=\"imagenet\", include_top=False, input_shape=(256, 256, 3))\n",
    "\n",
    "    # $CHALLENGIFY_END\n",
    "\n",
    "    return model\n",
    "\n",
    "model = load_model()"
   ]
  },
  {
   "cell_type": "code",
   "execution_count": null,
   "id": "d1b64366-3b2f-42fe-86ea-f41391a183c4",
   "metadata": {
    "colab": {
     "base_uri": "https://localhost:8080/"
    },
    "id": "d1b64366-3b2f-42fe-86ea-f41391a183c4",
    "outputId": "6cff4be7-b699-4057-86a7-c230a7236d9c"
   },
   "outputs": [
    {
     "name": "stdout",
     "output_type": "stream",
     "text": [
      "Model: \"resnet50\"\n",
      "__________________________________________________________________________________________________\n",
      " Layer (type)                   Output Shape         Param #     Connected to                     \n",
      "==================================================================================================\n",
      " input_1 (InputLayer)           [(None, 256, 256, 3  0           []                               \n",
      "                                )]                                                                \n",
      "                                                                                                  \n",
      " conv1_pad (ZeroPadding2D)      (None, 262, 262, 3)  0           ['input_1[0][0]']                \n",
      "                                                                                                  \n",
      " conv1_conv (Conv2D)            (None, 128, 128, 64  9472        ['conv1_pad[0][0]']              \n",
      "                                )                                                                 \n",
      "                                                                                                  \n",
      " conv1_bn (BatchNormalization)  (None, 128, 128, 64  256         ['conv1_conv[0][0]']             \n",
      "                                )                                                                 \n",
      "                                                                                                  \n",
      " conv1_relu (Activation)        (None, 128, 128, 64  0           ['conv1_bn[0][0]']               \n",
      "                                )                                                                 \n",
      "                                                                                                  \n",
      " pool1_pad (ZeroPadding2D)      (None, 130, 130, 64  0           ['conv1_relu[0][0]']             \n",
      "                                )                                                                 \n",
      "                                                                                                  \n",
      " pool1_pool (MaxPooling2D)      (None, 64, 64, 64)   0           ['pool1_pad[0][0]']              \n",
      "                                                                                                  \n",
      " conv2_block1_1_conv (Conv2D)   (None, 64, 64, 64)   4160        ['pool1_pool[0][0]']             \n",
      "                                                                                                  \n",
      " conv2_block1_1_bn (BatchNormal  (None, 64, 64, 64)  256         ['conv2_block1_1_conv[0][0]']    \n",
      " ization)                                                                                         \n",
      "                                                                                                  \n",
      " conv2_block1_1_relu (Activatio  (None, 64, 64, 64)  0           ['conv2_block1_1_bn[0][0]']      \n",
      " n)                                                                                               \n",
      "                                                                                                  \n",
      " conv2_block1_2_conv (Conv2D)   (None, 64, 64, 64)   36928       ['conv2_block1_1_relu[0][0]']    \n",
      "                                                                                                  \n",
      " conv2_block1_2_bn (BatchNormal  (None, 64, 64, 64)  256         ['conv2_block1_2_conv[0][0]']    \n",
      " ization)                                                                                         \n",
      "                                                                                                  \n",
      " conv2_block1_2_relu (Activatio  (None, 64, 64, 64)  0           ['conv2_block1_2_bn[0][0]']      \n",
      " n)                                                                                               \n",
      "                                                                                                  \n",
      " conv2_block1_0_conv (Conv2D)   (None, 64, 64, 256)  16640       ['pool1_pool[0][0]']             \n",
      "                                                                                                  \n",
      " conv2_block1_3_conv (Conv2D)   (None, 64, 64, 256)  16640       ['conv2_block1_2_relu[0][0]']    \n",
      "                                                                                                  \n",
      " conv2_block1_0_bn (BatchNormal  (None, 64, 64, 256)  1024       ['conv2_block1_0_conv[0][0]']    \n",
      " ization)                                                                                         \n",
      "                                                                                                  \n",
      " conv2_block1_3_bn (BatchNormal  (None, 64, 64, 256)  1024       ['conv2_block1_3_conv[0][0]']    \n",
      " ization)                                                                                         \n",
      "                                                                                                  \n",
      " conv2_block1_add (Add)         (None, 64, 64, 256)  0           ['conv2_block1_0_bn[0][0]',      \n",
      "                                                                  'conv2_block1_3_bn[0][0]']      \n",
      "                                                                                                  \n",
      " conv2_block1_out (Activation)  (None, 64, 64, 256)  0           ['conv2_block1_add[0][0]']       \n",
      "                                                                                                  \n",
      " conv2_block2_1_conv (Conv2D)   (None, 64, 64, 64)   16448       ['conv2_block1_out[0][0]']       \n",
      "                                                                                                  \n",
      " conv2_block2_1_bn (BatchNormal  (None, 64, 64, 64)  256         ['conv2_block2_1_conv[0][0]']    \n",
      " ization)                                                                                         \n",
      "                                                                                                  \n",
      " conv2_block2_1_relu (Activatio  (None, 64, 64, 64)  0           ['conv2_block2_1_bn[0][0]']      \n",
      " n)                                                                                               \n",
      "                                                                                                  \n",
      " conv2_block2_2_conv (Conv2D)   (None, 64, 64, 64)   36928       ['conv2_block2_1_relu[0][0]']    \n",
      "                                                                                                  \n",
      " conv2_block2_2_bn (BatchNormal  (None, 64, 64, 64)  256         ['conv2_block2_2_conv[0][0]']    \n",
      " ization)                                                                                         \n",
      "                                                                                                  \n",
      " conv2_block2_2_relu (Activatio  (None, 64, 64, 64)  0           ['conv2_block2_2_bn[0][0]']      \n",
      " n)                                                                                               \n",
      "                                                                                                  \n",
      " conv2_block2_3_conv (Conv2D)   (None, 64, 64, 256)  16640       ['conv2_block2_2_relu[0][0]']    \n",
      "                                                                                                  \n",
      " conv2_block2_3_bn (BatchNormal  (None, 64, 64, 256)  1024       ['conv2_block2_3_conv[0][0]']    \n",
      " ization)                                                                                         \n",
      "                                                                                                  \n",
      " conv2_block2_add (Add)         (None, 64, 64, 256)  0           ['conv2_block1_out[0][0]',       \n",
      "                                                                  'conv2_block2_3_bn[0][0]']      \n",
      "                                                                                                  \n",
      " conv2_block2_out (Activation)  (None, 64, 64, 256)  0           ['conv2_block2_add[0][0]']       \n",
      "                                                                                                  \n",
      " conv2_block3_1_conv (Conv2D)   (None, 64, 64, 64)   16448       ['conv2_block2_out[0][0]']       \n",
      "                                                                                                  \n",
      " conv2_block3_1_bn (BatchNormal  (None, 64, 64, 64)  256         ['conv2_block3_1_conv[0][0]']    \n",
      " ization)                                                                                         \n",
      "                                                                                                  \n",
      " conv2_block3_1_relu (Activatio  (None, 64, 64, 64)  0           ['conv2_block3_1_bn[0][0]']      \n",
      " n)                                                                                               \n",
      "                                                                                                  \n",
      " conv2_block3_2_conv (Conv2D)   (None, 64, 64, 64)   36928       ['conv2_block3_1_relu[0][0]']    \n",
      "                                                                                                  \n",
      " conv2_block3_2_bn (BatchNormal  (None, 64, 64, 64)  256         ['conv2_block3_2_conv[0][0]']    \n",
      " ization)                                                                                         \n",
      "                                                                                                  \n",
      " conv2_block3_2_relu (Activatio  (None, 64, 64, 64)  0           ['conv2_block3_2_bn[0][0]']      \n",
      " n)                                                                                               \n",
      "                                                                                                  \n",
      " conv2_block3_3_conv (Conv2D)   (None, 64, 64, 256)  16640       ['conv2_block3_2_relu[0][0]']    \n",
      "                                                                                                  \n",
      " conv2_block3_3_bn (BatchNormal  (None, 64, 64, 256)  1024       ['conv2_block3_3_conv[0][0]']    \n",
      " ization)                                                                                         \n",
      "                                                                                                  \n",
      " conv2_block3_add (Add)         (None, 64, 64, 256)  0           ['conv2_block2_out[0][0]',       \n",
      "                                                                  'conv2_block3_3_bn[0][0]']      \n",
      "                                                                                                  \n",
      " conv2_block3_out (Activation)  (None, 64, 64, 256)  0           ['conv2_block3_add[0][0]']       \n",
      "                                                                                                  \n",
      " conv3_block1_1_conv (Conv2D)   (None, 32, 32, 128)  32896       ['conv2_block3_out[0][0]']       \n",
      "                                                                                                  \n",
      " conv3_block1_1_bn (BatchNormal  (None, 32, 32, 128)  512        ['conv3_block1_1_conv[0][0]']    \n",
      " ization)                                                                                         \n",
      "                                                                                                  \n",
      " conv3_block1_1_relu (Activatio  (None, 32, 32, 128)  0          ['conv3_block1_1_bn[0][0]']      \n",
      " n)                                                                                               \n",
      "                                                                                                  \n",
      " conv3_block1_2_conv (Conv2D)   (None, 32, 32, 128)  147584      ['conv3_block1_1_relu[0][0]']    \n",
      "                                                                                                  \n",
      " conv3_block1_2_bn (BatchNormal  (None, 32, 32, 128)  512        ['conv3_block1_2_conv[0][0]']    \n",
      " ization)                                                                                         \n",
      "                                                                                                  \n",
      " conv3_block1_2_relu (Activatio  (None, 32, 32, 128)  0          ['conv3_block1_2_bn[0][0]']      \n",
      " n)                                                                                               \n",
      "                                                                                                  \n",
      " conv3_block1_0_conv (Conv2D)   (None, 32, 32, 512)  131584      ['conv2_block3_out[0][0]']       \n",
      "                                                                                                  \n",
      " conv3_block1_3_conv (Conv2D)   (None, 32, 32, 512)  66048       ['conv3_block1_2_relu[0][0]']    \n",
      "                                                                                                  \n",
      " conv3_block1_0_bn (BatchNormal  (None, 32, 32, 512)  2048       ['conv3_block1_0_conv[0][0]']    \n",
      " ization)                                                                                         \n",
      "                                                                                                  \n",
      " conv3_block1_3_bn (BatchNormal  (None, 32, 32, 512)  2048       ['conv3_block1_3_conv[0][0]']    \n",
      " ization)                                                                                         \n",
      "                                                                                                  \n",
      " conv3_block1_add (Add)         (None, 32, 32, 512)  0           ['conv3_block1_0_bn[0][0]',      \n",
      "                                                                  'conv3_block1_3_bn[0][0]']      \n",
      "                                                                                                  \n",
      " conv3_block1_out (Activation)  (None, 32, 32, 512)  0           ['conv3_block1_add[0][0]']       \n",
      "                                                                                                  \n",
      " conv3_block2_1_conv (Conv2D)   (None, 32, 32, 128)  65664       ['conv3_block1_out[0][0]']       \n",
      "                                                                                                  \n",
      " conv3_block2_1_bn (BatchNormal  (None, 32, 32, 128)  512        ['conv3_block2_1_conv[0][0]']    \n",
      " ization)                                                                                         \n",
      "                                                                                                  \n",
      " conv3_block2_1_relu (Activatio  (None, 32, 32, 128)  0          ['conv3_block2_1_bn[0][0]']      \n",
      " n)                                                                                               \n",
      "                                                                                                  \n",
      " conv3_block2_2_conv (Conv2D)   (None, 32, 32, 128)  147584      ['conv3_block2_1_relu[0][0]']    \n",
      "                                                                                                  \n",
      " conv3_block2_2_bn (BatchNormal  (None, 32, 32, 128)  512        ['conv3_block2_2_conv[0][0]']    \n",
      " ization)                                                                                         \n",
      "                                                                                                  \n",
      " conv3_block2_2_relu (Activatio  (None, 32, 32, 128)  0          ['conv3_block2_2_bn[0][0]']      \n",
      " n)                                                                                               \n",
      "                                                                                                  \n",
      " conv3_block2_3_conv (Conv2D)   (None, 32, 32, 512)  66048       ['conv3_block2_2_relu[0][0]']    \n",
      "                                                                                                  \n",
      " conv3_block2_3_bn (BatchNormal  (None, 32, 32, 512)  2048       ['conv3_block2_3_conv[0][0]']    \n",
      " ization)                                                                                         \n",
      "                                                                                                  \n",
      " conv3_block2_add (Add)         (None, 32, 32, 512)  0           ['conv3_block1_out[0][0]',       \n",
      "                                                                  'conv3_block2_3_bn[0][0]']      \n",
      "                                                                                                  \n",
      " conv3_block2_out (Activation)  (None, 32, 32, 512)  0           ['conv3_block2_add[0][0]']       \n",
      "                                                                                                  \n",
      " conv3_block3_1_conv (Conv2D)   (None, 32, 32, 128)  65664       ['conv3_block2_out[0][0]']       \n",
      "                                                                                                  \n",
      " conv3_block3_1_bn (BatchNormal  (None, 32, 32, 128)  512        ['conv3_block3_1_conv[0][0]']    \n",
      " ization)                                                                                         \n",
      "                                                                                                  \n",
      " conv3_block3_1_relu (Activatio  (None, 32, 32, 128)  0          ['conv3_block3_1_bn[0][0]']      \n",
      " n)                                                                                               \n",
      "                                                                                                  \n",
      " conv3_block3_2_conv (Conv2D)   (None, 32, 32, 128)  147584      ['conv3_block3_1_relu[0][0]']    \n",
      "                                                                                                  \n",
      " conv3_block3_2_bn (BatchNormal  (None, 32, 32, 128)  512        ['conv3_block3_2_conv[0][0]']    \n",
      " ization)                                                                                         \n",
      "                                                                                                  \n",
      " conv3_block3_2_relu (Activatio  (None, 32, 32, 128)  0          ['conv3_block3_2_bn[0][0]']      \n",
      " n)                                                                                               \n",
      "                                                                                                  \n",
      " conv3_block3_3_conv (Conv2D)   (None, 32, 32, 512)  66048       ['conv3_block3_2_relu[0][0]']    \n",
      "                                                                                                  \n",
      " conv3_block3_3_bn (BatchNormal  (None, 32, 32, 512)  2048       ['conv3_block3_3_conv[0][0]']    \n",
      " ization)                                                                                         \n",
      "                                                                                                  \n",
      " conv3_block3_add (Add)         (None, 32, 32, 512)  0           ['conv3_block2_out[0][0]',       \n",
      "                                                                  'conv3_block3_3_bn[0][0]']      \n",
      "                                                                                                  \n",
      " conv3_block3_out (Activation)  (None, 32, 32, 512)  0           ['conv3_block3_add[0][0]']       \n",
      "                                                                                                  \n",
      " conv3_block4_1_conv (Conv2D)   (None, 32, 32, 128)  65664       ['conv3_block3_out[0][0]']       \n",
      "                                                                                                  \n",
      " conv3_block4_1_bn (BatchNormal  (None, 32, 32, 128)  512        ['conv3_block4_1_conv[0][0]']    \n",
      " ization)                                                                                         \n",
      "                                                                                                  \n",
      " conv3_block4_1_relu (Activatio  (None, 32, 32, 128)  0          ['conv3_block4_1_bn[0][0]']      \n",
      " n)                                                                                               \n",
      "                                                                                                  \n",
      " conv3_block4_2_conv (Conv2D)   (None, 32, 32, 128)  147584      ['conv3_block4_1_relu[0][0]']    \n",
      "                                                                                                  \n",
      " conv3_block4_2_bn (BatchNormal  (None, 32, 32, 128)  512        ['conv3_block4_2_conv[0][0]']    \n",
      " ization)                                                                                         \n",
      "                                                                                                  \n",
      " conv3_block4_2_relu (Activatio  (None, 32, 32, 128)  0          ['conv3_block4_2_bn[0][0]']      \n",
      " n)                                                                                               \n",
      "                                                                                                  \n",
      " conv3_block4_3_conv (Conv2D)   (None, 32, 32, 512)  66048       ['conv3_block4_2_relu[0][0]']    \n",
      "                                                                                                  \n",
      " conv3_block4_3_bn (BatchNormal  (None, 32, 32, 512)  2048       ['conv3_block4_3_conv[0][0]']    \n",
      " ization)                                                                                         \n",
      "                                                                                                  \n",
      " conv3_block4_add (Add)         (None, 32, 32, 512)  0           ['conv3_block3_out[0][0]',       \n",
      "                                                                  'conv3_block4_3_bn[0][0]']      \n",
      "                                                                                                  \n",
      " conv3_block4_out (Activation)  (None, 32, 32, 512)  0           ['conv3_block4_add[0][0]']       \n",
      "                                                                                                  \n",
      " conv4_block1_1_conv (Conv2D)   (None, 16, 16, 256)  131328      ['conv3_block4_out[0][0]']       \n",
      "                                                                                                  \n",
      " conv4_block1_1_bn (BatchNormal  (None, 16, 16, 256)  1024       ['conv4_block1_1_conv[0][0]']    \n",
      " ization)                                                                                         \n",
      "                                                                                                  \n",
      " conv4_block1_1_relu (Activatio  (None, 16, 16, 256)  0          ['conv4_block1_1_bn[0][0]']      \n",
      " n)                                                                                               \n",
      "                                                                                                  \n",
      " conv4_block1_2_conv (Conv2D)   (None, 16, 16, 256)  590080      ['conv4_block1_1_relu[0][0]']    \n",
      "                                                                                                  \n",
      " conv4_block1_2_bn (BatchNormal  (None, 16, 16, 256)  1024       ['conv4_block1_2_conv[0][0]']    \n",
      " ization)                                                                                         \n",
      "                                                                                                  \n",
      " conv4_block1_2_relu (Activatio  (None, 16, 16, 256)  0          ['conv4_block1_2_bn[0][0]']      \n",
      " n)                                                                                               \n",
      "                                                                                                  \n",
      " conv4_block1_0_conv (Conv2D)   (None, 16, 16, 1024  525312      ['conv3_block4_out[0][0]']       \n",
      "                                )                                                                 \n",
      "                                                                                                  \n",
      " conv4_block1_3_conv (Conv2D)   (None, 16, 16, 1024  263168      ['conv4_block1_2_relu[0][0]']    \n",
      "                                )                                                                 \n",
      "                                                                                                  \n",
      " conv4_block1_0_bn (BatchNormal  (None, 16, 16, 1024  4096       ['conv4_block1_0_conv[0][0]']    \n",
      " ization)                       )                                                                 \n",
      "                                                                                                  \n",
      " conv4_block1_3_bn (BatchNormal  (None, 16, 16, 1024  4096       ['conv4_block1_3_conv[0][0]']    \n",
      " ization)                       )                                                                 \n",
      "                                                                                                  \n",
      " conv4_block1_add (Add)         (None, 16, 16, 1024  0           ['conv4_block1_0_bn[0][0]',      \n",
      "                                )                                 'conv4_block1_3_bn[0][0]']      \n",
      "                                                                                                  \n",
      " conv4_block1_out (Activation)  (None, 16, 16, 1024  0           ['conv4_block1_add[0][0]']       \n",
      "                                )                                                                 \n",
      "                                                                                                  \n",
      " conv4_block2_1_conv (Conv2D)   (None, 16, 16, 256)  262400      ['conv4_block1_out[0][0]']       \n",
      "                                                                                                  \n",
      " conv4_block2_1_bn (BatchNormal  (None, 16, 16, 256)  1024       ['conv4_block2_1_conv[0][0]']    \n",
      " ization)                                                                                         \n",
      "                                                                                                  \n",
      " conv4_block2_1_relu (Activatio  (None, 16, 16, 256)  0          ['conv4_block2_1_bn[0][0]']      \n",
      " n)                                                                                               \n",
      "                                                                                                  \n",
      " conv4_block2_2_conv (Conv2D)   (None, 16, 16, 256)  590080      ['conv4_block2_1_relu[0][0]']    \n",
      "                                                                                                  \n",
      " conv4_block2_2_bn (BatchNormal  (None, 16, 16, 256)  1024       ['conv4_block2_2_conv[0][0]']    \n",
      " ization)                                                                                         \n",
      "                                                                                                  \n",
      " conv4_block2_2_relu (Activatio  (None, 16, 16, 256)  0          ['conv4_block2_2_bn[0][0]']      \n",
      " n)                                                                                               \n",
      "                                                                                                  \n",
      " conv4_block2_3_conv (Conv2D)   (None, 16, 16, 1024  263168      ['conv4_block2_2_relu[0][0]']    \n",
      "                                )                                                                 \n",
      "                                                                                                  \n",
      " conv4_block2_3_bn (BatchNormal  (None, 16, 16, 1024  4096       ['conv4_block2_3_conv[0][0]']    \n",
      " ization)                       )                                                                 \n",
      "                                                                                                  \n",
      " conv4_block2_add (Add)         (None, 16, 16, 1024  0           ['conv4_block1_out[0][0]',       \n",
      "                                )                                 'conv4_block2_3_bn[0][0]']      \n",
      "                                                                                                  \n",
      " conv4_block2_out (Activation)  (None, 16, 16, 1024  0           ['conv4_block2_add[0][0]']       \n",
      "                                )                                                                 \n",
      "                                                                                                  \n",
      " conv4_block3_1_conv (Conv2D)   (None, 16, 16, 256)  262400      ['conv4_block2_out[0][0]']       \n",
      "                                                                                                  \n",
      " conv4_block3_1_bn (BatchNormal  (None, 16, 16, 256)  1024       ['conv4_block3_1_conv[0][0]']    \n",
      " ization)                                                                                         \n",
      "                                                                                                  \n",
      " conv4_block3_1_relu (Activatio  (None, 16, 16, 256)  0          ['conv4_block3_1_bn[0][0]']      \n",
      " n)                                                                                               \n",
      "                                                                                                  \n",
      " conv4_block3_2_conv (Conv2D)   (None, 16, 16, 256)  590080      ['conv4_block3_1_relu[0][0]']    \n",
      "                                                                                                  \n",
      " conv4_block3_2_bn (BatchNormal  (None, 16, 16, 256)  1024       ['conv4_block3_2_conv[0][0]']    \n",
      " ization)                                                                                         \n",
      "                                                                                                  \n",
      " conv4_block3_2_relu (Activatio  (None, 16, 16, 256)  0          ['conv4_block3_2_bn[0][0]']      \n",
      " n)                                                                                               \n",
      "                                                                                                  \n",
      " conv4_block3_3_conv (Conv2D)   (None, 16, 16, 1024  263168      ['conv4_block3_2_relu[0][0]']    \n",
      "                                )                                                                 \n",
      "                                                                                                  \n",
      " conv4_block3_3_bn (BatchNormal  (None, 16, 16, 1024  4096       ['conv4_block3_3_conv[0][0]']    \n",
      " ization)                       )                                                                 \n",
      "                                                                                                  \n",
      " conv4_block3_add (Add)         (None, 16, 16, 1024  0           ['conv4_block2_out[0][0]',       \n",
      "                                )                                 'conv4_block3_3_bn[0][0]']      \n",
      "                                                                                                  \n",
      " conv4_block3_out (Activation)  (None, 16, 16, 1024  0           ['conv4_block3_add[0][0]']       \n",
      "                                )                                                                 \n",
      "                                                                                                  \n",
      " conv4_block4_1_conv (Conv2D)   (None, 16, 16, 256)  262400      ['conv4_block3_out[0][0]']       \n",
      "                                                                                                  \n",
      " conv4_block4_1_bn (BatchNormal  (None, 16, 16, 256)  1024       ['conv4_block4_1_conv[0][0]']    \n",
      " ization)                                                                                         \n",
      "                                                                                                  \n",
      " conv4_block4_1_relu (Activatio  (None, 16, 16, 256)  0          ['conv4_block4_1_bn[0][0]']      \n",
      " n)                                                                                               \n",
      "                                                                                                  \n",
      " conv4_block4_2_conv (Conv2D)   (None, 16, 16, 256)  590080      ['conv4_block4_1_relu[0][0]']    \n",
      "                                                                                                  \n",
      " conv4_block4_2_bn (BatchNormal  (None, 16, 16, 256)  1024       ['conv4_block4_2_conv[0][0]']    \n",
      " ization)                                                                                         \n",
      "                                                                                                  \n",
      " conv4_block4_2_relu (Activatio  (None, 16, 16, 256)  0          ['conv4_block4_2_bn[0][0]']      \n",
      " n)                                                                                               \n",
      "                                                                                                  \n",
      " conv4_block4_3_conv (Conv2D)   (None, 16, 16, 1024  263168      ['conv4_block4_2_relu[0][0]']    \n",
      "                                )                                                                 \n",
      "                                                                                                  \n",
      " conv4_block4_3_bn (BatchNormal  (None, 16, 16, 1024  4096       ['conv4_block4_3_conv[0][0]']    \n",
      " ization)                       )                                                                 \n",
      "                                                                                                  \n",
      " conv4_block4_add (Add)         (None, 16, 16, 1024  0           ['conv4_block3_out[0][0]',       \n",
      "                                )                                 'conv4_block4_3_bn[0][0]']      \n",
      "                                                                                                  \n",
      " conv4_block4_out (Activation)  (None, 16, 16, 1024  0           ['conv4_block4_add[0][0]']       \n",
      "                                )                                                                 \n",
      "                                                                                                  \n",
      " conv4_block5_1_conv (Conv2D)   (None, 16, 16, 256)  262400      ['conv4_block4_out[0][0]']       \n",
      "                                                                                                  \n",
      " conv4_block5_1_bn (BatchNormal  (None, 16, 16, 256)  1024       ['conv4_block5_1_conv[0][0]']    \n",
      " ization)                                                                                         \n",
      "                                                                                                  \n",
      " conv4_block5_1_relu (Activatio  (None, 16, 16, 256)  0          ['conv4_block5_1_bn[0][0]']      \n",
      " n)                                                                                               \n",
      "                                                                                                  \n",
      " conv4_block5_2_conv (Conv2D)   (None, 16, 16, 256)  590080      ['conv4_block5_1_relu[0][0]']    \n",
      "                                                                                                  \n",
      " conv4_block5_2_bn (BatchNormal  (None, 16, 16, 256)  1024       ['conv4_block5_2_conv[0][0]']    \n",
      " ization)                                                                                         \n",
      "                                                                                                  \n",
      " conv4_block5_2_relu (Activatio  (None, 16, 16, 256)  0          ['conv4_block5_2_bn[0][0]']      \n",
      " n)                                                                                               \n",
      "                                                                                                  \n",
      " conv4_block5_3_conv (Conv2D)   (None, 16, 16, 1024  263168      ['conv4_block5_2_relu[0][0]']    \n",
      "                                )                                                                 \n",
      "                                                                                                  \n",
      " conv4_block5_3_bn (BatchNormal  (None, 16, 16, 1024  4096       ['conv4_block5_3_conv[0][0]']    \n",
      " ization)                       )                                                                 \n",
      "                                                                                                  \n",
      " conv4_block5_add (Add)         (None, 16, 16, 1024  0           ['conv4_block4_out[0][0]',       \n",
      "                                )                                 'conv4_block5_3_bn[0][0]']      \n",
      "                                                                                                  \n",
      " conv4_block5_out (Activation)  (None, 16, 16, 1024  0           ['conv4_block5_add[0][0]']       \n",
      "                                )                                                                 \n",
      "                                                                                                  \n",
      " conv4_block6_1_conv (Conv2D)   (None, 16, 16, 256)  262400      ['conv4_block5_out[0][0]']       \n",
      "                                                                                                  \n",
      " conv4_block6_1_bn (BatchNormal  (None, 16, 16, 256)  1024       ['conv4_block6_1_conv[0][0]']    \n",
      " ization)                                                                                         \n",
      "                                                                                                  \n",
      " conv4_block6_1_relu (Activatio  (None, 16, 16, 256)  0          ['conv4_block6_1_bn[0][0]']      \n",
      " n)                                                                                               \n",
      "                                                                                                  \n",
      " conv4_block6_2_conv (Conv2D)   (None, 16, 16, 256)  590080      ['conv4_block6_1_relu[0][0]']    \n",
      "                                                                                                  \n",
      " conv4_block6_2_bn (BatchNormal  (None, 16, 16, 256)  1024       ['conv4_block6_2_conv[0][0]']    \n",
      " ization)                                                                                         \n",
      "                                                                                                  \n",
      " conv4_block6_2_relu (Activatio  (None, 16, 16, 256)  0          ['conv4_block6_2_bn[0][0]']      \n",
      " n)                                                                                               \n",
      "                                                                                                  \n",
      " conv4_block6_3_conv (Conv2D)   (None, 16, 16, 1024  263168      ['conv4_block6_2_relu[0][0]']    \n",
      "                                )                                                                 \n",
      "                                                                                                  \n",
      " conv4_block6_3_bn (BatchNormal  (None, 16, 16, 1024  4096       ['conv4_block6_3_conv[0][0]']    \n",
      " ization)                       )                                                                 \n",
      "                                                                                                  \n",
      " conv4_block6_add (Add)         (None, 16, 16, 1024  0           ['conv4_block5_out[0][0]',       \n",
      "                                )                                 'conv4_block6_3_bn[0][0]']      \n",
      "                                                                                                  \n",
      " conv4_block6_out (Activation)  (None, 16, 16, 1024  0           ['conv4_block6_add[0][0]']       \n",
      "                                )                                                                 \n",
      "                                                                                                  \n",
      " conv5_block1_1_conv (Conv2D)   (None, 8, 8, 512)    524800      ['conv4_block6_out[0][0]']       \n",
      "                                                                                                  \n",
      " conv5_block1_1_bn (BatchNormal  (None, 8, 8, 512)   2048        ['conv5_block1_1_conv[0][0]']    \n",
      " ization)                                                                                         \n",
      "                                                                                                  \n",
      " conv5_block1_1_relu (Activatio  (None, 8, 8, 512)   0           ['conv5_block1_1_bn[0][0]']      \n",
      " n)                                                                                               \n",
      "                                                                                                  \n",
      " conv5_block1_2_conv (Conv2D)   (None, 8, 8, 512)    2359808     ['conv5_block1_1_relu[0][0]']    \n",
      "                                                                                                  \n",
      " conv5_block1_2_bn (BatchNormal  (None, 8, 8, 512)   2048        ['conv5_block1_2_conv[0][0]']    \n",
      " ization)                                                                                         \n",
      "                                                                                                  \n",
      " conv5_block1_2_relu (Activatio  (None, 8, 8, 512)   0           ['conv5_block1_2_bn[0][0]']      \n",
      " n)                                                                                               \n",
      "                                                                                                  \n",
      " conv5_block1_0_conv (Conv2D)   (None, 8, 8, 2048)   2099200     ['conv4_block6_out[0][0]']       \n",
      "                                                                                                  \n",
      " conv5_block1_3_conv (Conv2D)   (None, 8, 8, 2048)   1050624     ['conv5_block1_2_relu[0][0]']    \n",
      "                                                                                                  \n",
      " conv5_block1_0_bn (BatchNormal  (None, 8, 8, 2048)  8192        ['conv5_block1_0_conv[0][0]']    \n",
      " ization)                                                                                         \n",
      "                                                                                                  \n",
      " conv5_block1_3_bn (BatchNormal  (None, 8, 8, 2048)  8192        ['conv5_block1_3_conv[0][0]']    \n",
      " ization)                                                                                         \n",
      "                                                                                                  \n",
      " conv5_block1_add (Add)         (None, 8, 8, 2048)   0           ['conv5_block1_0_bn[0][0]',      \n",
      "                                                                  'conv5_block1_3_bn[0][0]']      \n",
      "                                                                                                  \n",
      " conv5_block1_out (Activation)  (None, 8, 8, 2048)   0           ['conv5_block1_add[0][0]']       \n",
      "                                                                                                  \n",
      " conv5_block2_1_conv (Conv2D)   (None, 8, 8, 512)    1049088     ['conv5_block1_out[0][0]']       \n",
      "                                                                                                  \n",
      " conv5_block2_1_bn (BatchNormal  (None, 8, 8, 512)   2048        ['conv5_block2_1_conv[0][0]']    \n",
      " ization)                                                                                         \n",
      "                                                                                                  \n",
      " conv5_block2_1_relu (Activatio  (None, 8, 8, 512)   0           ['conv5_block2_1_bn[0][0]']      \n",
      " n)                                                                                               \n",
      "                                                                                                  \n",
      " conv5_block2_2_conv (Conv2D)   (None, 8, 8, 512)    2359808     ['conv5_block2_1_relu[0][0]']    \n",
      "                                                                                                  \n",
      " conv5_block2_2_bn (BatchNormal  (None, 8, 8, 512)   2048        ['conv5_block2_2_conv[0][0]']    \n",
      " ization)                                                                                         \n",
      "                                                                                                  \n",
      " conv5_block2_2_relu (Activatio  (None, 8, 8, 512)   0           ['conv5_block2_2_bn[0][0]']      \n",
      " n)                                                                                               \n",
      "                                                                                                  \n",
      " conv5_block2_3_conv (Conv2D)   (None, 8, 8, 2048)   1050624     ['conv5_block2_2_relu[0][0]']    \n",
      "                                                                                                  \n",
      " conv5_block2_3_bn (BatchNormal  (None, 8, 8, 2048)  8192        ['conv5_block2_3_conv[0][0]']    \n",
      " ization)                                                                                         \n",
      "                                                                                                  \n",
      " conv5_block2_add (Add)         (None, 8, 8, 2048)   0           ['conv5_block1_out[0][0]',       \n",
      "                                                                  'conv5_block2_3_bn[0][0]']      \n",
      "                                                                                                  \n",
      " conv5_block2_out (Activation)  (None, 8, 8, 2048)   0           ['conv5_block2_add[0][0]']       \n",
      "                                                                                                  \n",
      " conv5_block3_1_conv (Conv2D)   (None, 8, 8, 512)    1049088     ['conv5_block2_out[0][0]']       \n",
      "                                                                                                  \n",
      " conv5_block3_1_bn (BatchNormal  (None, 8, 8, 512)   2048        ['conv5_block3_1_conv[0][0]']    \n",
      " ization)                                                                                         \n",
      "                                                                                                  \n",
      " conv5_block3_1_relu (Activatio  (None, 8, 8, 512)   0           ['conv5_block3_1_bn[0][0]']      \n",
      " n)                                                                                               \n",
      "                                                                                                  \n",
      " conv5_block3_2_conv (Conv2D)   (None, 8, 8, 512)    2359808     ['conv5_block3_1_relu[0][0]']    \n",
      "                                                                                                  \n",
      " conv5_block3_2_bn (BatchNormal  (None, 8, 8, 512)   2048        ['conv5_block3_2_conv[0][0]']    \n",
      " ization)                                                                                         \n",
      "                                                                                                  \n",
      " conv5_block3_2_relu (Activatio  (None, 8, 8, 512)   0           ['conv5_block3_2_bn[0][0]']      \n",
      " n)                                                                                               \n",
      "                                                                                                  \n",
      " conv5_block3_3_conv (Conv2D)   (None, 8, 8, 2048)   1050624     ['conv5_block3_2_relu[0][0]']    \n",
      "                                                                                                  \n",
      " conv5_block3_3_bn (BatchNormal  (None, 8, 8, 2048)  8192        ['conv5_block3_3_conv[0][0]']    \n",
      " ization)                                                                                         \n",
      "                                                                                                  \n",
      " conv5_block3_add (Add)         (None, 8, 8, 2048)   0           ['conv5_block2_out[0][0]',       \n",
      "                                                                  'conv5_block3_3_bn[0][0]']      \n",
      "                                                                                                  \n",
      " conv5_block3_out (Activation)  (None, 8, 8, 2048)   0           ['conv5_block3_add[0][0]']       \n",
      "                                                                                                  \n",
      "==================================================================================================\n",
      "Total params: 23,587,712\n",
      "Trainable params: 0\n",
      "Non-trainable params: 23,587,712\n",
      "__________________________________________________________________________________________________\n"
     ]
    }
   ],
   "source": [
    "def set_nontrainable_layers(model):\n",
    "\n",
    "    # $CHALLENGIFY_BEGIN\n",
    "    # Set the first layers to be untrainable\n",
    "    model.trainable = False\n",
    "\n",
    "    # $CHALLENGIFY_END\n",
    "\n",
    "    return model\n",
    "\n",
    "model = set_nontrainable_layers(model)\n",
    "model.summary()"
   ]
  },
  {
   "cell_type": "code",
   "execution_count": null,
   "id": "ee3675b8-10ec-4f98-8d98-80b9698ba085",
   "metadata": {
    "id": "ee3675b8-10ec-4f98-8d98-80b9698ba085"
   },
   "outputs": [],
   "source": [
    "from tensorflow.keras import layers, models\n",
    "\n",
    "def add_last_layers(model):\n",
    "    '''Take a pre-trained model, set its parameters as non-trainable, and add additional trainable layers on top'''\n",
    "    # $CHALLENGIFY_BEGIN\n",
    "    base_model = load_model()\n",
    "    base_model = set_nontrainable_layers(base_model)\n",
    "    flatten_layer = layers.Flatten()\n",
    "    dense_layer = layers.Dense(500, activation='relu')\n",
    "    prediction_layer = layers.Dense(21, activation='softmax')\n",
    "\n",
    "    model = models.Sequential([\n",
    "        base_model,\n",
    "        flatten_layer,\n",
    "        dense_layer,\n",
    "        prediction_layer\n",
    "    ])\n",
    "    # $CHALLENGIFY_END\n",
    "    return model\n",
    "\n",
    "model = add_last_layers(model)"
   ]
  },
  {
   "cell_type": "code",
   "execution_count": null,
   "id": "fca4d82e-51c6-4872-b19a-e7c9f5d2cbd7",
   "metadata": {
    "id": "fca4d82e-51c6-4872-b19a-e7c9f5d2cbd7"
   },
   "outputs": [],
   "source": [
    "from tensorflow.keras import optimizers\n",
    "\n",
    "def build_model():\n",
    "    # $CHALLENGIFY_BEGIN\n",
    "    model = load_model()\n",
    "    model = add_last_layers(model)\n",
    "\n",
    "    opt = optimizers.Adam(learning_rate=1e-4)\n",
    "    model.compile(loss='categorical_crossentropy',\n",
    "                  optimizer=opt,\n",
    "                  metrics=['accuracy'])\n",
    "    return model\n",
    "    # $CHALLENGIFY_END\n",
    "\n",
    "model = build_model()"
   ]
  },
  {
   "cell_type": "code",
   "execution_count": null,
   "id": "b1d3586b-24ad-4078-b70d-624802067eda",
   "metadata": {
    "id": "b1d3586b-24ad-4078-b70d-624802067eda"
   },
   "outputs": [],
   "source": [
    "from tensorflow.keras.applications.resnet50 import preprocess_input\n",
    "\n",
    "X_train = preprocess_input(X_train)\n",
    "X_val = preprocess_input(X_val)\n",
    "X_test = preprocess_input(X_test)"
   ]
  },
  {
   "cell_type": "code",
   "execution_count": null,
   "id": "db18b286-282b-4de2-a66f-0e0cf7e023b9",
   "metadata": {
    "colab": {
     "base_uri": "https://localhost:8080/"
    },
    "id": "db18b286-282b-4de2-a66f-0e0cf7e023b9",
    "outputId": "970a26a4-93fb-45d0-9c13-24de5ccf1f49"
   },
   "outputs": [
    {
     "name": "stdout",
     "output_type": "stream",
     "text": [
      "Epoch 1/50\n",
      "198/198 [==============================] - 27s 104ms/step - loss: 474.6301 - accuracy: 0.2958 - val_loss: 919.1820 - val_accuracy: 0.3376\n",
      "Epoch 2/50\n",
      "198/198 [==============================] - 17s 85ms/step - loss: 1488.0557 - accuracy: 0.3542 - val_loss: 1768.7870 - val_accuracy: 0.2741\n",
      "Epoch 3/50\n",
      "198/198 [==============================] - 17s 85ms/step - loss: 2773.7695 - accuracy: 0.3494 - val_loss: 3480.1306 - val_accuracy: 0.2893\n",
      "Epoch 4/50\n",
      "198/198 [==============================] - 17s 84ms/step - loss: 4915.2197 - accuracy: 0.3345 - val_loss: 5581.1030 - val_accuracy: 0.2005\n",
      "Epoch 5/50\n",
      "198/198 [==============================] - 18s 89ms/step - loss: 7514.8691 - accuracy: 0.3491 - val_loss: 7841.3838 - val_accuracy: 0.1523\n",
      "Epoch 6/50\n",
      "197/198 [============================>.] - ETA: 0s - loss: 9685.9180 - accuracy: 0.2979Restoring model weights from the end of the best epoch: 1.\n",
      "198/198 [==============================] - 17s 86ms/step - loss: 9680.1855 - accuracy: 0.2980 - val_loss: 9694.1094 - val_accuracy: 0.2538\n",
      "Epoch 6: early stopping\n"
     ]
    }
   ],
   "source": [
    "from tensorflow.keras.callbacks import EarlyStopping\n",
    "\n",
    "model = build_model()\n",
    "\n",
    "es = EarlyStopping(monitor = 'val_accuracy',\n",
    "                   mode = 'max',\n",
    "                   patience = 5,\n",
    "                   verbose = 1,\n",
    "                   restore_best_weights = True)\n",
    "\n",
    "history = model.fit(X_train, y_train,\n",
    "                    validation_data=(X_val, y_val),\n",
    "                    epochs=50,\n",
    "                    batch_size=16,\n",
    "                    callbacks=[es])"
   ]
  },
  {
   "cell_type": "code",
   "execution_count": null,
   "id": "80c5a8af-4c72-42f2-b257-d9d1bc18a7a5",
   "metadata": {
    "colab": {
     "base_uri": "https://localhost:8080/"
    },
    "id": "80c5a8af-4c72-42f2-b257-d9d1bc18a7a5",
    "outputId": "e6f16622-5774-4745-8ba9-3f2de83cb286"
   },
   "outputs": [
    {
     "name": "stdout",
     "output_type": "stream",
     "text": [
      "13/13 [==============================] - 4s 175ms/step - loss: 871.4994 - accuracy: 0.3190\n",
      "test_accuracy_resnet = 32.0 %\n"
     ]
    }
   ],
   "source": [
    "res_resnet = model.evaluate(X_test, y_test)\n",
    "\n",
    "test_accuracy_resnet = res_resnet[-1]\n",
    "\n",
    "\n",
    "print(f\"test_accuracy_resnet = {round(test_accuracy_resnet,2)*100} %\")\n"
   ]
  },
  {
   "cell_type": "markdown",
   "id": "85b7bc57-3631-4f03-a045-5be147284048",
   "metadata": {
    "id": "85b7bc57-3631-4f03-a045-5be147284048"
   },
   "source": [
    "## VGG 19"
   ]
  },
  {
   "cell_type": "code",
   "execution_count": null,
   "id": "f6d1ad9a-39f4-41ee-ac9c-3eaa1347ddc2",
   "metadata": {
    "id": "f6d1ad9a-39f4-41ee-ac9c-3eaa1347ddc2"
   },
   "outputs": [],
   "source": [
    "from tensorflow.keras.applications.vgg19 import VGG19\n",
    "\n",
    "def load_model():\n",
    "\n",
    "    # $CHALLENGIFY_BEGIN\n",
    "\n",
    "    model = VGG19(weights=\"imagenet\", include_top=False, input_shape=(256, 256, 3))\n",
    "\n",
    "    # $CHALLENGIFY_END\n",
    "\n",
    "    return model\n",
    "\n",
    "model = load_model()"
   ]
  },
  {
   "cell_type": "code",
   "execution_count": null,
   "id": "C-9j3TejMBgQ",
   "metadata": {
    "id": "C-9j3TejMBgQ"
   },
   "outputs": [],
   "source": [
    "def set_nontrainable_layers(model):\n",
    "\n",
    "    # $CHALLENGIFY_BEGIN\n",
    "    # Set the first layers to be untrainable\n",
    "    model.trainable = False\n",
    "\n",
    "    # $CHALLENGIFY_END\n",
    "\n",
    "    return model\n",
    "\n",
    "model = set_nontrainable_layers(model)"
   ]
  },
  {
   "cell_type": "code",
   "execution_count": null,
   "id": "s4s4jxc1MDYZ",
   "metadata": {
    "id": "s4s4jxc1MDYZ"
   },
   "outputs": [],
   "source": [
    "from tensorflow.keras import layers, models\n",
    "\n",
    "def add_last_layers(model):\n",
    "    '''Take a pre-trained model, set its parameters as non-trainable, and add additional trainable layers on top'''\n",
    "    # $CHALLENGIFY_BEGIN\n",
    "    base_model = load_model()\n",
    "    base_model = set_nontrainable_layers(base_model)\n",
    "    flatten_layer = layers.Flatten()\n",
    "    dense_layer = layers.Dense(500, activation='relu')\n",
    "    prediction_layer = layers.Dense(21, activation='softmax')\n",
    "\n",
    "    model = models.Sequential([\n",
    "        base_model,\n",
    "        flatten_layer,\n",
    "        dense_layer,\n",
    "        prediction_layer\n",
    "    ])\n",
    "    # $CHALLENGIFY_END\n",
    "    return model\n",
    "\n",
    "model = add_last_layers(model)"
   ]
  },
  {
   "cell_type": "code",
   "execution_count": null,
   "id": "ZfMWWfskMF2f",
   "metadata": {
    "id": "ZfMWWfskMF2f"
   },
   "outputs": [],
   "source": [
    "from tensorflow.keras import optimizers\n",
    "\n",
    "def build_model():\n",
    "    # $CHALLENGIFY_BEGIN\n",
    "    model = load_model()\n",
    "    model = add_last_layers(model)\n",
    "\n",
    "    opt = optimizers.Adam(learning_rate=1e-4)\n",
    "    model.compile(loss='categorical_crossentropy',\n",
    "                  optimizer=opt,\n",
    "                  metrics=['accuracy'])\n",
    "    return model\n",
    "    # $CHALLENGIFY_END\n",
    "\n",
    "model = build_model()"
   ]
  },
  {
   "cell_type": "code",
   "execution_count": null,
   "id": "W4V_FfecMJ6i",
   "metadata": {
    "id": "W4V_FfecMJ6i"
   },
   "outputs": [],
   "source": [
    "from tensorflow.keras.applications.vgg19 import preprocess_input\n",
    "\n",
    "X_train = preprocess_input(X_train)\n",
    "X_val = preprocess_input(X_val)\n",
    "X_test = preprocess_input(X_test)"
   ]
  },
  {
   "cell_type": "code",
   "execution_count": null,
   "id": "yRJEWJooMMIU",
   "metadata": {
    "colab": {
     "base_uri": "https://localhost:8080/"
    },
    "id": "yRJEWJooMMIU",
    "outputId": "3c467591-bc0a-4128-91d5-7bec05a2a19d"
   },
   "outputs": [
    {
     "name": "stdout",
     "output_type": "stream",
     "text": [
      "Epoch 1/50\n",
      "198/198 [==============================] - 40s 140ms/step - loss: 445.4320 - accuracy: 0.2685 - val_loss: 814.5861 - val_accuracy: 0.3147\n",
      "Epoch 2/50\n",
      "198/198 [==============================] - 25s 124ms/step - loss: 1376.3737 - accuracy: 0.3738 - val_loss: 1995.0945 - val_accuracy: 0.3147\n",
      "Epoch 3/50\n",
      "198/198 [==============================] - 24s 120ms/step - loss: 2760.8323 - accuracy: 0.3773 - val_loss: 3863.5579 - val_accuracy: 0.3046\n",
      "Epoch 4/50\n",
      "198/198 [==============================] - 23s 118ms/step - loss: 5283.5762 - accuracy: 0.3672 - val_loss: 6335.3896 - val_accuracy: 0.2716\n",
      "Epoch 5/50\n",
      "198/198 [==============================] - 26s 133ms/step - loss: 7848.6250 - accuracy: 0.3729 - val_loss: 8933.8457 - val_accuracy: 0.1929\n",
      "Epoch 6/50\n",
      "197/198 [============================>.] - ETA: 0s - loss: 11167.2529 - accuracy: 0.3347Restoring model weights from the end of the best epoch: 1.\n",
      "198/198 [==============================] - 27s 134ms/step - loss: 11167.3418 - accuracy: 0.3348 - val_loss: 11987.1484 - val_accuracy: 0.1726\n",
      "Epoch 6: early stopping\n"
     ]
    }
   ],
   "source": [
    "from tensorflow.keras.callbacks import EarlyStopping\n",
    "\n",
    "model = build_model()\n",
    "\n",
    "es = EarlyStopping(monitor = 'val_accuracy',\n",
    "                   mode = 'max',\n",
    "                   patience = 5,\n",
    "                   verbose = 1,\n",
    "                   restore_best_weights = True)\n",
    "\n",
    "history = model.fit(X_train, y_train,\n",
    "                    validation_data=(X_val, y_val),\n",
    "                    epochs=50,\n",
    "                    batch_size=16,\n",
    "                    callbacks=[es])"
   ]
  },
  {
   "cell_type": "code",
   "execution_count": null,
   "id": "-sZy5iTcMPds",
   "metadata": {
    "colab": {
     "base_uri": "https://localhost:8080/"
    },
    "id": "-sZy5iTcMPds",
    "outputId": "ec0f0df2-2106-4c52-f362-d8b550d76d53"
   },
   "outputs": [
    {
     "name": "stdout",
     "output_type": "stream",
     "text": [
      "13/13 [==============================] - 11s 413ms/step - loss: 849.5046 - accuracy: 0.3139\n",
      "test_accuracy_vgg19 = 31.0 %\n"
     ]
    }
   ],
   "source": [
    "res_vgg19 = model.evaluate(X_test, y_test)\n",
    "\n",
    "test_accuracy_vgg19 = res_vgg19[-1]\n",
    "\n",
    "\n",
    "print(f\"test_accuracy_vgg19 = {round(test_accuracy_vgg19,2)*100} %\")"
   ]
  },
  {
   "cell_type": "markdown",
   "id": "99b40728-ff35-40f4-97cf-87f20261145f",
   "metadata": {
    "id": "99b40728-ff35-40f4-97cf-87f20261145f"
   },
   "source": [
    "## VGG 16"
   ]
  },
  {
   "cell_type": "code",
   "execution_count": 60,
   "id": "3SuRfPbroeRk",
   "metadata": {
    "id": "3SuRfPbroeRk"
   },
   "outputs": [],
   "source": [
    "def alpha_evaluation_score(y_true, y_pred):\n",
    "    alpha = 1\n",
    "    beta = 0.25\n",
    "    gamma = 1\n",
    "\n",
    "    # compute true positives across training examples and labels\n",
    "    tp = np.sum(np.logical_and(y_true, y_pred))\n",
    "\n",
    "    # compute false negatives (Missed Labels) across training examples and labels\n",
    "    fn = np.sum(np.logical_and(y_true, np.logical_not(y_pred)))\n",
    "\n",
    "    # compute False Positive across training examples and labels.\n",
    "    fp = np.sum(np.logical_and(np.logical_not(y_true), y_pred))\n",
    "\n",
    "    # Compute alpha evaluation score\n",
    "    alpha_score = (1 - ((beta * fn + gamma * fp ) / (tp +fn + fp + 0.00001)))**alpha\n",
    "\n",
    "    return alpha_score"
   ]
  },
  {
   "cell_type": "code",
   "execution_count": 19,
   "id": "b1q0cnrLoe8n",
   "metadata": {
    "id": "b1q0cnrLoe8n"
   },
   "outputs": [],
   "source": [
    "def hamming_loss(y_true, y_pred):\n",
    "    \"\"\"\n",
    "\tXOR TT for reference -\n",
    "\n",
    "\tA  B   Output\n",
    "\n",
    "\t0  0    0\n",
    "\t0  1    1\n",
    "\t1  0    1\n",
    "\t1  1    0\n",
    "\t\"\"\"\n",
    "    hl_num = np.sum(np.logical_xor(y_true, y_pred))\n",
    "    hl_den = np.prod(y_true.shape)\n",
    "\n",
    "    return hl_num/hl_den"
   ]
  },
  {
   "cell_type": "code",
   "execution_count": 33,
   "id": "lbcfOB17r48G",
   "metadata": {
    "id": "lbcfOB17r48G"
   },
   "outputs": [],
   "source": [
    "def Custom_Hamming_Loss(y_true, y_pred):\n",
    "  return K.mean(y_true*(1-y_pred)+(1-y_true)*y_pred)"
   ]
  },
  {
   "cell_type": "code",
   "execution_count": 48,
   "id": "6dd07f91-7159-4816-8f46-5074b20bebb6",
   "metadata": {
    "id": "6dd07f91-7159-4816-8f46-5074b20bebb6"
   },
   "outputs": [],
   "source": [
    "from tensorflow.keras.applications.vgg16 import VGG16\n",
    "\n",
    "def load_model():\n",
    "\n",
    "    # $CHALLENGIFY_BEGIN\n",
    "\n",
    "    model = VGG16(weights=\"imagenet\", include_top=False, input_shape=(256, 256, 3))\n",
    "\n",
    "    # $CHALLENGIFY_END\n",
    "\n",
    "    return model\n",
    "\n",
    "model = load_model()"
   ]
  },
  {
   "cell_type": "code",
   "execution_count": 49,
   "id": "lRyC9ZKIISO5",
   "metadata": {
    "id": "lRyC9ZKIISO5"
   },
   "outputs": [],
   "source": [
    "def set_nontrainable_layers(model):\n",
    "\n",
    "    # $CHALLENGIFY_BEGIN\n",
    "    # Set the first layers to be untrainable\n",
    "    model.trainable = False\n",
    "\n",
    "    # $CHALLENGIFY_END\n",
    "\n",
    "    return model\n",
    "\n",
    "model = set_nontrainable_layers(model)"
   ]
  },
  {
   "cell_type": "code",
   "execution_count": 54,
   "id": "1Jw9ksXWISXW",
   "metadata": {
    "id": "1Jw9ksXWISXW"
   },
   "outputs": [],
   "source": [
    "from tensorflow.keras import layers, models\n",
    "\n",
    "def add_last_layers(model):\n",
    "    '''Take a pre-trained model, set its parameters as non-trainable, and add additional trainable layers on top'''\n",
    "    # $CHALLENGIFY_BEGIN\n",
    "    base_model = load_model()\n",
    "    base_model = set_nontrainable_layers(base_model)\n",
    "    flatten_layer = layers.Flatten()\n",
    "    dense_layer = layers.Dense(500, activation='relu')\n",
    "    prediction_layer = layers.Dense(21, activation='sigmoid')\n",
    "\n",
    "    model = models.Sequential([\n",
    "        base_model,\n",
    "        flatten_layer,\n",
    "        dense_layer,\n",
    "        prediction_layer\n",
    "    ])\n",
    "    # $CHALLENGIFY_END\n",
    "    return model\n",
    "\n",
    "model = add_last_layers(model)"
   ]
  },
  {
   "cell_type": "code",
   "execution_count": 55,
   "id": "RBa5NfL7ISd9",
   "metadata": {
    "id": "RBa5NfL7ISd9"
   },
   "outputs": [],
   "source": [
    "from tensorflow.keras import optimizers\n",
    "\n",
    "def build_model():\n",
    "    # $CHALLENGIFY_BEGIN\n",
    "    model = load_model()\n",
    "    model = add_last_layers(model)\n",
    "\n",
    "    opt = optimizers.Adam(learning_rate=1e-4)\n",
    "    model.compile(loss='binary_crossentropy',\n",
    "                  optimizer=opt,\n",
    "                  metrics=['categorical_accuracy'])\n",
    "    return model\n",
    "    # $CHALLENGIFY_END\n",
    "\n",
    "model = build_model()"
   ]
  },
  {
   "cell_type": "code",
   "execution_count": 56,
   "id": "JxRat-aLISj5",
   "metadata": {
    "id": "JxRat-aLISj5"
   },
   "outputs": [],
   "source": [
    "from tensorflow.keras.applications.vgg16 import preprocess_input\n",
    "\n",
    "X_train = preprocess_input(X_train)\n",
    "X_val = preprocess_input(X_val)\n",
    "X_test = preprocess_input(X_test)"
   ]
  },
  {
   "cell_type": "code",
   "execution_count": 57,
   "id": "_ieeqmU9Inz6",
   "metadata": {
    "colab": {
     "base_uri": "https://localhost:8080/"
    },
    "id": "_ieeqmU9Inz6",
    "outputId": "f117e343-be8c-43d4-b725-1fa2fe9777cc"
   },
   "outputs": [
    {
     "name": "stdout",
     "output_type": "stream",
     "text": [
      "Epoch 1/50\n",
      "198/198 [==============================] - 25s 121ms/step - loss: 0.9442 - categorical_accuracy: 0.1956 - val_loss: 0.4528 - val_categorical_accuracy: 0.2081\n",
      "Epoch 2/50\n",
      "198/198 [==============================] - 19s 97ms/step - loss: 0.2734 - categorical_accuracy: 0.3912 - val_loss: 0.4988 - val_categorical_accuracy: 0.2766\n",
      "Epoch 3/50\n",
      "198/198 [==============================] - 19s 94ms/step - loss: 0.1776 - categorical_accuracy: 0.4255 - val_loss: 0.5227 - val_categorical_accuracy: 0.2589\n",
      "Epoch 4/50\n",
      "198/198 [==============================] - 19s 95ms/step - loss: 0.1217 - categorical_accuracy: 0.4420 - val_loss: 0.5996 - val_categorical_accuracy: 0.2817\n",
      "Epoch 5/50\n",
      "198/198 [==============================] - 19s 96ms/step - loss: 0.0908 - categorical_accuracy: 0.4347 - val_loss: 0.6186 - val_categorical_accuracy: 0.2538\n",
      "Epoch 6/50\n",
      "198/198 [==============================] - 19s 97ms/step - loss: 0.0706 - categorical_accuracy: 0.4353 - val_loss: 0.6622 - val_categorical_accuracy: 0.2690\n",
      "Epoch 7/50\n",
      "198/198 [==============================] - 19s 96ms/step - loss: 0.0546 - categorical_accuracy: 0.4474 - val_loss: 0.6831 - val_categorical_accuracy: 0.2640\n",
      "Epoch 8/50\n",
      "198/198 [==============================] - 19s 95ms/step - loss: 0.0402 - categorical_accuracy: 0.4179 - val_loss: 0.7245 - val_categorical_accuracy: 0.2665\n",
      "Epoch 9/50\n",
      "198/198 [==============================] - 19s 95ms/step - loss: 0.0278 - categorical_accuracy: 0.4207 - val_loss: 0.7993 - val_categorical_accuracy: 0.2817\n",
      "Epoch 10/50\n",
      "198/198 [==============================] - 19s 96ms/step - loss: 0.0204 - categorical_accuracy: 0.4318 - val_loss: 0.8232 - val_categorical_accuracy: 0.2817\n",
      "Epoch 11/50\n",
      "198/198 [==============================] - 19s 96ms/step - loss: 0.0177 - categorical_accuracy: 0.4223 - val_loss: 0.8647 - val_categorical_accuracy: 0.2843\n",
      "Epoch 12/50\n",
      "197/198 [============================>.] - ETA: 0s - loss: 0.0137 - categorical_accuracy: 0.4258Restoring model weights from the end of the best epoch: 7.\n",
      "198/198 [==============================] - 19s 96ms/step - loss: 0.0137 - categorical_accuracy: 0.4258 - val_loss: 0.9063 - val_categorical_accuracy: 0.2868\n",
      "Epoch 12: early stopping\n"
     ]
    }
   ],
   "source": [
    "from tensorflow.keras.callbacks import EarlyStopping\n",
    "\n",
    "model = build_model()\n",
    "\n",
    "es = EarlyStopping(monitor = 'categorical_accuracy',\n",
    "                   mode = 'max',\n",
    "                   patience = 5,\n",
    "                   verbose = 1,\n",
    "                   restore_best_weights = True)\n",
    "\n",
    "history = model.fit(X_train, y_train,\n",
    "                    validation_data=(X_val, y_val),\n",
    "                    epochs=50,\n",
    "                    batch_size=16,\n",
    "                    callbacks=[es])"
   ]
  },
  {
   "cell_type": "code",
   "execution_count": 58,
   "id": "13u3oN9cIuJ4",
   "metadata": {
    "colab": {
     "base_uri": "https://localhost:8080/"
    },
    "id": "13u3oN9cIuJ4",
    "outputId": "6eb6cbfa-973c-4adc-aa9a-398083cce04e"
   },
   "outputs": [
    {
     "name": "stdout",
     "output_type": "stream",
     "text": [
      "13/13 [==============================] - 4s 350ms/step - loss: 0.7078 - categorical_accuracy: 0.2582\n"
     ]
    }
   ],
   "source": [
    "res_vgg16 = model.evaluate(X_test, y_test)\n"
   ]
  },
  {
   "cell_type": "code",
   "execution_count": 59,
   "id": "dRuoLNga1wSC",
   "metadata": {
    "colab": {
     "base_uri": "https://localhost:8080/"
    },
    "id": "dRuoLNga1wSC",
    "outputId": "72580d95-da82-4fa8-d0c3-a9d90fb16aa8"
   },
   "outputs": [
    {
     "name": "stdout",
     "output_type": "stream",
     "text": [
      "13/13 [==============================] - 2s 171ms/step\n",
      "accuracy_score: 0.2582278481012658\n",
      "Hamming_loss: 0.7417721518987341\n"
     ]
    }
   ],
   "source": [
    "import numpy as np\n",
    "from sklearn.metrics import hamming_loss, accuracy_score\n",
    "\n",
    "y_pred = model.predict(X_test)\n",
    "\n",
    "y_pred=np.argmax(y_pred, axis=1)\n",
    "y_true=np.argmax(y_test, axis = 1)\n",
    "\n",
    "print(\"accuracy_score:\", accuracy_score(y_true, y_pred))\n",
    "print(\"Hamming_loss:\", hamming_loss(y_true, y_pred))"
   ]
  },
  {
   "cell_type": "code",
   "execution_count": 61,
   "id": "synxFd0l2WDq",
   "metadata": {
    "colab": {
     "base_uri": "https://localhost:8080/"
    },
    "id": "synxFd0l2WDq",
    "outputId": "216aee94-6a51-466b-f320-7c96ad378993"
   },
   "outputs": [
    {
     "data": {
      "text/plain": [
       "0.8083989551601324"
      ]
     },
     "execution_count": 61,
     "metadata": {},
     "output_type": "execute_result"
    }
   ],
   "source": [
    "alpha_evaluation_score(y_true, y_pred)"
   ]
  },
  {
   "cell_type": "code",
   "execution_count": 39,
   "id": "ulhtc5cI18EW",
   "metadata": {
    "colab": {
     "base_uri": "https://localhost:8080/"
    },
    "id": "ulhtc5cI18EW",
    "outputId": "b355a5d3-b3b5-49b7-ab33-105e98590313"
   },
   "outputs": [
    {
     "data": {
      "text/plain": [
       "31"
      ]
     },
     "execution_count": 39,
     "metadata": {},
     "output_type": "execute_result"
    }
   ],
   "source": [
    "y_true"
   ]
  },
  {
   "cell_type": "code",
   "execution_count": 63,
   "id": "gStNv2JZ1_U0",
   "metadata": {
    "id": "gStNv2JZ1_U0"
   },
   "outputs": [],
   "source": [
    "np.save('predictions.npy', y_pred)"
   ]
  },
  {
   "cell_type": "code",
   "execution_count": 32,
   "id": "0676df74-e084-4670-9d6e-049867694c86",
   "metadata": {},
   "outputs": [
    {
     "ename": "FileNotFoundError",
     "evalue": "[Errno 2] No such file or directory: 'predictions.npy'",
     "output_type": "error",
     "traceback": [
      "\u001b[0;31m---------------------------------------------------------------------------\u001b[0m",
      "\u001b[0;31mFileNotFoundError\u001b[0m                         Traceback (most recent call last)",
      "Cell \u001b[0;32mIn[32], line 1\u001b[0m\n\u001b[0;32m----> 1\u001b[0m predictions \u001b[38;5;241m=\u001b[39m \u001b[43mnp\u001b[49m\u001b[38;5;241;43m.\u001b[39;49m\u001b[43mload\u001b[49m\u001b[43m(\u001b[49m\u001b[38;5;124;43m'\u001b[39;49m\u001b[38;5;124;43mpredictions.npy\u001b[39;49m\u001b[38;5;124;43m'\u001b[39;49m\u001b[43m)\u001b[49m\n",
      "File \u001b[0;32m~/.pyenv/versions/3.10.6/envs/movie_genre_prediction/lib/python3.10/site-packages/numpy/lib/npyio.py:405\u001b[0m, in \u001b[0;36mload\u001b[0;34m(file, mmap_mode, allow_pickle, fix_imports, encoding, max_header_size)\u001b[0m\n\u001b[1;32m    403\u001b[0m     own_fid \u001b[38;5;241m=\u001b[39m \u001b[38;5;28;01mFalse\u001b[39;00m\n\u001b[1;32m    404\u001b[0m \u001b[38;5;28;01melse\u001b[39;00m:\n\u001b[0;32m--> 405\u001b[0m     fid \u001b[38;5;241m=\u001b[39m stack\u001b[38;5;241m.\u001b[39menter_context(\u001b[38;5;28;43mopen\u001b[39;49m\u001b[43m(\u001b[49m\u001b[43mos_fspath\u001b[49m\u001b[43m(\u001b[49m\u001b[43mfile\u001b[49m\u001b[43m)\u001b[49m\u001b[43m,\u001b[49m\u001b[43m \u001b[49m\u001b[38;5;124;43m\"\u001b[39;49m\u001b[38;5;124;43mrb\u001b[39;49m\u001b[38;5;124;43m\"\u001b[39;49m\u001b[43m)\u001b[49m)\n\u001b[1;32m    406\u001b[0m     own_fid \u001b[38;5;241m=\u001b[39m \u001b[38;5;28;01mTrue\u001b[39;00m\n\u001b[1;32m    408\u001b[0m \u001b[38;5;66;03m# Code to distinguish from NumPy binary files and pickles.\u001b[39;00m\n",
      "\u001b[0;31mFileNotFoundError\u001b[0m: [Errno 2] No such file or directory: 'predictions.npy'"
     ]
    }
   ],
   "source": [
    "predictions = np.load('predictions.npy')"
   ]
  },
  {
   "cell_type": "code",
   "execution_count": null,
   "id": "b9b72e8d-38a8-40b3-84cb-8547f215232e",
   "metadata": {},
   "outputs": [],
   "source": [
    "multilabel_binarizer.inverse_transform(y_pred)[0:10]"
   ]
  },
  {
   "cell_type": "markdown",
   "id": "a71891c0-2203-4712-93f2-418227b914a8",
   "metadata": {
    "id": "a71891c0-2203-4712-93f2-418227b914a8"
   },
   "source": [
    "## Stacking Multimodal Model"
   ]
  },
  {
   "cell_type": "code",
   "execution_count": null,
   "id": "c7642724-fc53-4f53-a198-c02ea459ebb3",
   "metadata": {
    "id": "c7642724-fc53-4f53-a198-c02ea459ebb3",
    "outputId": "05e10adb-8b7b-4e4f-a55d-ccee57e18fc0"
   },
   "outputs": [
    {
     "data": {
      "text/plain": [
       "1582"
      ]
     },
     "execution_count": 68,
     "metadata": {},
     "output_type": "execute_result"
    }
   ],
   "source": [
    "vocab_size"
   ]
  },
  {
   "cell_type": "code",
   "execution_count": null,
   "id": "1ff25f52-8099-4f5f-bbd8-ffaa6f60b1b9",
   "metadata": {
    "id": "1ff25f52-8099-4f5f-bbd8-ffaa6f60b1b9"
   },
   "outputs": [],
   "source": [
    "multilabel_binarizer.classes_.shape"
   ]
  },
  {
   "cell_type": "code",
   "execution_count": null,
   "id": "4349eba1-4f26-4b71-8398-43d6bcc6e671",
   "metadata": {
    "id": "4349eba1-4f26-4b71-8398-43d6bcc6e671"
   },
   "outputs": [],
   "source": []
  },
  {
   "cell_type": "code",
   "execution_count": null,
   "id": "fb7e9084-0e55-46c9-9bc5-012066b805fc",
   "metadata": {
    "id": "fb7e9084-0e55-46c9-9bc5-012066b805fc"
   },
   "outputs": [],
   "source": [
    "# define two sets of inputs\n",
    "inputA = layers.Input(shape = (350,350,3))\n",
    "inputB = layers.Input(shape=(352,352,3))\n",
    "\n",
    "# the first branch operates on the first input\n",
    "x = layers.Embedding(\n",
    "    input_dim = vocab_size +1,\n",
    "    input_length = 292,\n",
    "    output_dim = 100,\n",
    "    mask_zero = True)\n",
    "x = layers.Dense(1024, activation = 'relu')(inputA)\n",
    "x = layers.Dense(21, activation='softmax')(x)\n",
    "x = models.Model(inputs = inputA, outputs=x)\n",
    "\n",
    "# the second branch operates on the second input\n",
    "y = layers.Conv2D(16, kernel_size = (3,3), activation=\"relu\")(inputB)\n",
    "y = layers.Dense(32, activation=\"relu\")(y)\n",
    "y = layers.Dense(21, activation=\"softmax\")(y)\n",
    "y = models.Model(inputs = inputB, outputs=y)\n",
    "\n",
    "# combine the output of the two branches\n",
    "combined = layers.concatenate([x.output, y.output])\n",
    "\n",
    "# apply a FC layer and then a regression prediction on the\n",
    "# combined outputs\n",
    "\n",
    "z = layers.Dense(10, activation=\"relu\")(combined)\n",
    "z = layers.Dense(21, activation=\"softmax\")(z)\n",
    "\n",
    "# our model will accept the inputs of the two branches and\n",
    "# then output a single value\n",
    "model = models.Model(inputs=[x.input, y.input], outputs=z)"
   ]
  },
  {
   "cell_type": "markdown",
   "id": "86fd3904-a1f8-4eb3-8a3d-b98eeb7cadb2",
   "metadata": {},
   "source": [
    "## BERT MODEL"
   ]
  },
  {
   "cell_type": "code",
   "execution_count": null,
   "id": "c6b6f0a3-eb41-42f7-aa4e-c0d9cb527f1f",
   "metadata": {
    "id": "c6b6f0a3-eb41-42f7-aa4e-c0d9cb527f1f",
    "outputId": "5ed9ffcf-34f1-4b74-f1fd-16a528605153"
   },
   "outputs": [
    {
     "name": "stdout",
     "output_type": "stream",
     "text": [
      "There are 1582 different words in your corpus\n"
     ]
    }
   ],
   "source": [
    "tk = Tokenizer()\n",
    "tk.fit_on_texts(X_train['plot'])\n",
    "vocab_size = len(tk.word_index)\n",
    "print(f'There are {vocab_size} different words in your corpus')\n",
    "X_token = tk.texts_to_sequences(X_train['plot'])\n",
    "\n",
    "X_pad = pad_sequences(X_token, dtype = 'float32', padding = 'post')"
   ]
  },
  {
   "cell_type": "code",
   "execution_count": null,
   "id": "16753eb3-3ff8-4f7c-b1d1-25839d3b5d78",
   "metadata": {
    "id": "16753eb3-3ff8-4f7c-b1d1-25839d3b5d78"
   },
   "outputs": [],
   "source": [
    "input_word_ids = layers.Input(shape=(max_seq_length,), dtype=tensorflow.int32,\n",
    "                                           name=\"input_word_ids\")\n",
    "input_mask = layers.Input(shape=(max_seq_length,), dtype=tensorflow.int32,\n",
    "                                       name=\"input_mask\")\n",
    "segment_ids = layers.Input(shape=(max_seq_length,), dtype=tensorflow.int32,\n",
    "                                        name=\"segment_ids\")\n",
    "\n",
    "seq_out = bert_layer([input_ids, input_masks, input_segments])\n",
    "out = layers.LSTM(128, name='LSTM')(seq_out)\n",
    "model_lstm = models.Model([input_ids, input_masks, input_segments], out)"
   ]
  },
  {
   "cell_type": "code",
   "execution_count": null,
   "id": "5ae756f1-afed-47e9-b42a-7c2bd42d42d9",
   "metadata": {
    "id": "5ae756f1-afed-47e9-b42a-7c2bd42d42d9"
   },
   "outputs": [],
   "source": [
    "s = \"This is a nice sentence.\"\n",
    "stokens = tokenizer.tokenize(s)\n",
    "stokens = [\"[CLS]\"] + stokens + [\"[SEP]\"]\n",
    "\n",
    "input_ids = get_ids(stokens, tokenizer, max_seq_length)\n",
    "input_masks = get_masks(stokens, max_seq_length)\n",
    "input_segments = get_segments(stokens, max_seq_length)\n",
    "\n",
    "pool_embs, all_embs = model.predict([[input_ids],[input_masks],[input_segments]])"
   ]
  },
  {
   "cell_type": "code",
   "execution_count": 63,
   "id": "5ff474cb-0ef7-4fb2-aaef-7591612ecb7d",
   "metadata": {
    "colab": {
     "base_uri": "https://localhost:8080/"
    },
    "id": "5ff474cb-0ef7-4fb2-aaef-7591612ecb7d",
    "outputId": "05d454f7-3258-4277-dd8b-3e3ec6bf1450"
   },
   "outputs": [
    {
     "name": "stdout",
     "output_type": "stream",
     "text": [
      "On branch Jess-image-model\n",
      "Changes to be committed:\n",
      "  (use \"git restore --staged <file>...\" to unstage)\n",
      "\t\u001b[32mnew file:   Jess_Model_3.ipynb\u001b[m\n",
      "\n",
      "Changes not staged for commit:\n",
      "  (use \"git add <file>...\" to update what will be committed)\n",
      "  (use \"git restore <file>...\" to discard changes in working directory)\n",
      "\t\u001b[31mmodified:   ../.gitignore\u001b[m\n",
      "\t\u001b[31mmodified:   Basic-Model.ipynb\u001b[m\n",
      "\t\u001b[31mmodified:   Jess-Model-2.ipynb\u001b[m\n",
      "\t\u001b[31mmodified:   Jess_Model_3.ipynb\u001b[m\n",
      "\t\u001b[31mmodified:   webscraping_jess2.ipynb\u001b[m\n",
      "\t\u001b[31mmodified:   yinghui_model_nlp.ipynb\u001b[m\n",
      "\n",
      "Untracked files:\n",
      "  (use \"git add <file>...\" to include in what will be committed)\n",
      "\t\u001b[31m.ipynb_checkpoints/Basic-Model-checkpoint.ipynb\u001b[m\n",
      "\t\u001b[31m.ipynb_checkpoints/Image-Classification-checkpoint.ipynb\u001b[m\n",
      "\t\u001b[31m.ipynb_checkpoints/Jess-Model-2-checkpoint.ipynb\u001b[m\n",
      "\t\u001b[31m.ipynb_checkpoints/Jess_Model_3-checkpoint.ipynb\u001b[m\n",
      "\t\u001b[31m.ipynb_checkpoints/howard_raw_data-checkpoint.ipynb\u001b[m\n",
      "\t\u001b[31m.ipynb_checkpoints/import-checkpoint\u001b[m\n",
      "\t\u001b[31m.ipynb_checkpoints/webscraping_jess2-checkpoint.ipynb\u001b[m\n",
      "\t\u001b[31m.ipynb_checkpoints/yinghui_model_nlp-checkpoint.ipynb\u001b[m\n",
      "\t\u001b[31mC:/\u001b[m\n",
      "\t\u001b[31mDownloads/\u001b[m\n",
      "\t\u001b[31mImage-Classification.ipynb\u001b[m\n",
      "\t\u001b[31mJess-Model-2 (1).ipynb\u001b[m\n",
      "\t\u001b[31mX500_array.npy\u001b[m\n",
      "\t\u001b[31mX_array.npy\u001b[m\n",
      "\t\u001b[31mX_new_array.npy\u001b[m\n",
      "\t\u001b[31mX_wod.csv\u001b[m\n",
      "\t\u001b[31mY.csv\u001b[m\n",
      "\t\u001b[31maction_1000.csv\u001b[m\n",
      "\t\u001b[31madventure_1000.csv\u001b[m\n",
      "\t\u001b[31manimation_1000.csv\u001b[m\n",
      "\t\u001b[31manimation_2000.csv\u001b[m\n",
      "\t\u001b[31mbiography_1000.csv\u001b[m\n",
      "\t\u001b[31mbiography_2000.csv\u001b[m\n",
      "\t\u001b[31mcomedy_1000.csv\u001b[m\n",
      "\t\u001b[31mcrime_1000.csv\u001b[m\n",
      "\t\u001b[31mdrama_1000.csv\u001b[m\n",
      "\t\u001b[31mfamily_1000.csv\u001b[m\n",
      "\t\u001b[31mfantasy_1000.csv\u001b[m\n",
      "\t\u001b[31mfantasy_2000.csv\u001b[m\n",
      "\t\u001b[31mfilm_noir_1000.csv\u001b[m\n",
      "\t\u001b[31mfoo.csv\u001b[m\n",
      "\t\u001b[31mglobal\u001b[m\n",
      "\t\u001b[31mhistory_1000.csv\u001b[m\n",
      "\t\u001b[31mhorror_1000.csv\u001b[m\n",
      "\t\u001b[31mhorror_2000.csv\u001b[m\n",
      "\t\u001b[31mimport\u001b[m\n",
      "\t\u001b[31mjess_small_dataset.csv\u001b[m\n",
      "\t\u001b[31mlong_sypnosis.csv\u001b[m\n",
      "\t\u001b[31mlong_sypnosis.csv:Zone.Identifier\u001b[m\n",
      "\t\u001b[31mmerged/\u001b[m\n",
      "\t\u001b[31mmerged_500.csv\u001b[m\n",
      "\t\u001b[31mmusic_1000.csv\u001b[m\n",
      "\t\u001b[31mmusic_2000.csv\u001b[m\n",
      "\t\u001b[31mmusical_1000.csv\u001b[m\n",
      "\t\u001b[31mmystery.csv\u001b[m\n",
      "\t\u001b[31mmystery/\u001b[m\n",
      "\t\u001b[31mmystery_1000.csv\u001b[m\n",
      "\t\u001b[31mmystery_2000.csv\u001b[m\n",
      "\t\u001b[31mmystery_df.csv\u001b[m\n",
      "\t\u001b[31mnew_df.csv\u001b[m\n",
      "\t\u001b[31mromance.csv\u001b[m\n",
      "\t\u001b[31mromance/\u001b[m\n",
      "\t\u001b[31mromance_1000.csv\u001b[m\n",
      "\t\u001b[31mromance_df.csv\u001b[m\n",
      "\t\u001b[31mscifi.csv\u001b[m\n",
      "\t\u001b[31mscifi/\u001b[m\n",
      "\t\u001b[31mscifi_1000.csv\u001b[m\n",
      "\t\u001b[31mscifi_2000.csv\u001b[m\n",
      "\t\u001b[31mscifi_df.csv\u001b[m\n",
      "\t\u001b[31msport.csv\u001b[m\n",
      "\t\u001b[31msport/\u001b[m\n",
      "\t\u001b[31msport_1000.csv\u001b[m\n",
      "\t\u001b[31msport_df.csv\u001b[m\n",
      "\t\u001b[31mthriller.csv\u001b[m\n",
      "\t\u001b[31mthriller/\u001b[m\n",
      "\t\u001b[31mthriller_1000.csv\u001b[m\n",
      "\t\u001b[31mthriller_2000.csv\u001b[m\n",
      "\t\u001b[31mthriller_df.csv\u001b[m\n",
      "\t\u001b[31mwar.csv\u001b[m\n",
      "\t\u001b[31mwar/\u001b[m\n",
      "\t\u001b[31mwar_1000.csv\u001b[m\n",
      "\t\u001b[31mwar_df.csv\u001b[m\n",
      "\t\u001b[31mwestern.csv\u001b[m\n",
      "\t\u001b[31mwestern/\u001b[m\n",
      "\t\u001b[31mwestern_1000.csv\u001b[m\n",
      "\t\u001b[31mwestern_df.csv\u001b[m\n",
      "\t\u001b[31my500_array.npy\u001b[m\n",
      "\t\u001b[31my_array.npy\u001b[m\n",
      "\t\u001b[31my_new_array.npy\u001b[m\n",
      "\t\u001b[31my_wod.csv\u001b[m\n",
      "\n"
     ]
    }
   ],
   "source": [
    "!git status"
   ]
  },
  {
   "cell_type": "code",
   "execution_count": 3,
   "id": "6920b3d3-b065-498f-b56a-2beb142f9f00",
   "metadata": {},
   "outputs": [],
   "source": [
    "!git add Jess_Model_3.ipynb"
   ]
  },
  {
   "cell_type": "code",
   "execution_count": 4,
   "id": "f4f0a679-b1e3-420b-ace3-76e6affd42cf",
   "metadata": {},
   "outputs": [
    {
     "name": "stdout",
     "output_type": "stream",
     "text": [
      "Everything up-to-date\n"
     ]
    }
   ],
   "source": [
    "!git push origin Jess-image-model"
   ]
  }
 ],
 "metadata": {
  "accelerator": "GPU",
  "colab": {
   "gpuType": "T4",
   "machine_shape": "hm",
   "provenance": []
  },
  "kernelspec": {
   "display_name": "Python 3 (ipykernel)",
   "language": "python",
   "name": "python3"
  },
  "language_info": {
   "codemirror_mode": {
    "name": "ipython",
    "version": 3
   },
   "file_extension": ".py",
   "mimetype": "text/x-python",
   "name": "python",
   "nbconvert_exporter": "python",
   "pygments_lexer": "ipython3",
   "version": "3.10.6"
  }
 },
 "nbformat": 4,
 "nbformat_minor": 5
}
