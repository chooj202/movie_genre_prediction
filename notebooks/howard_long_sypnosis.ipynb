{
 "cells": [
  {
   "cell_type": "code",
   "execution_count": 55,
   "metadata": {},
   "outputs": [],
   "source": [
    "import requests\n",
    "from bs4 import BeautifulSoup\n",
    "from warnings import warn\n",
    "from time import sleep\n",
    "from random import randint\n",
    "import numpy as np\n",
    "import pandas as pd\n",
    "import seaborn as sns\n",
    "from tqdm import tqdm"
   ]
  },
  {
   "cell_type": "code",
   "execution_count": 13,
   "metadata": {},
   "outputs": [],
   "source": [
    "yinghui_csv_path = \"../raw_data/long_sypnosis/title_only_df.csv\"\n",
    "df = pd.read_csv(yinghui_csv_path).drop(columns=['Unnamed: 0']).drop_duplicates().reset_index(drop=True)\n",
    "imdb_id_ls = df[\"imdb_id\"]"
   ]
  },
  {
   "cell_type": "code",
   "execution_count": 60,
   "metadata": {},
   "outputs": [
    {
     "name": "stderr",
     "output_type": "stream",
     "text": [
      "100%|██████████| 4624/4624 [1:43:40<00:00,  1.35s/it]\n"
     ]
    }
   ],
   "source": [
    "headers = {'User-Agent': 'Mozilla/5.0 (Macintosh; Intel Mac OS X 10_15_7) AppleWebKit/537.36 (KHTML, like Gecko) Chrome/115.0.0.0 Safari/537.36', 'Accept-Language': 'en-US,en;q=0.8'}\n",
    "summary_full_ls = []\n",
    "for i in tqdm(range(len(imdb_id_ls))):\n",
    "\n",
    "    url = f'https://www.imdb.com/title/{imdb_id_ls[i]}/plotsummary/'\n",
    "    response = requests.get(url, headers=headers)\n",
    "    if response.status_code != 200:\n",
    "           warn('Request: {}; Status code: {}'.format(requests, response.status_code))\n",
    "\n",
    "    page_html = BeautifulSoup(response.text, 'html.parser')\n",
    "    summaries_ls = page_html.find_all('div', class_='ipc-html-content-inner-div')\n",
    "    summary_str = \" \".join([summary.get_text() for summary in summaries_ls])\n",
    "    summary_full_ls.append([imdb_id_ls[i], summary_str])"
   ]
  },
  {
   "cell_type": "code",
   "execution_count": 63,
   "metadata": {},
   "outputs": [
    {
     "data": {
      "text/html": [
       "<div>\n",
       "<style scoped>\n",
       "    .dataframe tbody tr th:only-of-type {\n",
       "        vertical-align: middle;\n",
       "    }\n",
       "\n",
       "    .dataframe tbody tr th {\n",
       "        vertical-align: top;\n",
       "    }\n",
       "\n",
       "    .dataframe thead th {\n",
       "        text-align: right;\n",
       "    }\n",
       "</style>\n",
       "<table border=\"1\" class=\"dataframe\">\n",
       "  <thead>\n",
       "    <tr style=\"text-align: right;\">\n",
       "      <th></th>\n",
       "      <th>imdb_id</th>\n",
       "      <th>sypnosis</th>\n",
       "    </tr>\n",
       "  </thead>\n",
       "  <tbody>\n",
       "    <tr>\n",
       "      <th>0</th>\n",
       "      <td>tt0259534</td>\n",
       "      <td>An anime adaptation of the Hindu epic the Rama...</td>\n",
       "    </tr>\n",
       "    <tr>\n",
       "      <th>1</th>\n",
       "      <td>tt0468569</td>\n",
       "      <td>When the menace known as the Joker wreaks havo...</td>\n",
       "    </tr>\n",
       "    <tr>\n",
       "      <th>2</th>\n",
       "      <td>tt0167260</td>\n",
       "      <td>Gandalf and Aragorn lead the World of Men agai...</td>\n",
       "    </tr>\n",
       "    <tr>\n",
       "      <th>3</th>\n",
       "      <td>tt9362722</td>\n",
       "      <td>Miles Morales catapults across the Multiverse,...</td>\n",
       "    </tr>\n",
       "    <tr>\n",
       "      <th>4</th>\n",
       "      <td>tt0075143</td>\n",
       "      <td>The story of prophet \"Muhammad\" and the delive...</td>\n",
       "    </tr>\n",
       "    <tr>\n",
       "      <th>...</th>\n",
       "      <td>...</td>\n",
       "      <td>...</td>\n",
       "    </tr>\n",
       "    <tr>\n",
       "      <th>4619</th>\n",
       "      <td>tt0109198</td>\n",
       "      <td>Four prostitutes join together to travel the O...</td>\n",
       "    </tr>\n",
       "    <tr>\n",
       "      <th>4620</th>\n",
       "      <td>tt0276830</td>\n",
       "      <td>In 1870, after a brutal run-in with an outlaw ...</td>\n",
       "    </tr>\n",
       "    <tr>\n",
       "      <th>4621</th>\n",
       "      <td>tt0120891</td>\n",
       "      <td>The two best special agents in the Wild West m...</td>\n",
       "    </tr>\n",
       "    <tr>\n",
       "      <th>4622</th>\n",
       "      <td>tt2479478</td>\n",
       "      <td>An outlaw who was raised by Native Americans d...</td>\n",
       "    </tr>\n",
       "    <tr>\n",
       "      <th>4623</th>\n",
       "      <td>tt1075747</td>\n",
       "      <td>The U.S. military makes a scarred bounty hunte...</td>\n",
       "    </tr>\n",
       "  </tbody>\n",
       "</table>\n",
       "<p>4624 rows × 2 columns</p>\n",
       "</div>"
      ],
      "text/plain": [
       "        imdb_id                                           sypnosis\n",
       "0     tt0259534  An anime adaptation of the Hindu epic the Rama...\n",
       "1     tt0468569  When the menace known as the Joker wreaks havo...\n",
       "2     tt0167260  Gandalf and Aragorn lead the World of Men agai...\n",
       "3     tt9362722  Miles Morales catapults across the Multiverse,...\n",
       "4     tt0075143  The story of prophet \"Muhammad\" and the delive...\n",
       "...         ...                                                ...\n",
       "4619  tt0109198  Four prostitutes join together to travel the O...\n",
       "4620  tt0276830  In 1870, after a brutal run-in with an outlaw ...\n",
       "4621  tt0120891  The two best special agents in the Wild West m...\n",
       "4622  tt2479478  An outlaw who was raised by Native Americans d...\n",
       "4623  tt1075747  The U.S. military makes a scarred bounty hunte...\n",
       "\n",
       "[4624 rows x 2 columns]"
      ]
     },
     "execution_count": 63,
     "metadata": {},
     "output_type": "execute_result"
    }
   ],
   "source": [
    "sypnosis_df = pd.DataFrame(summary_full_ls, columns=['imdb_id', 'sypnosis'])\n",
    "sypnosis_df"
   ]
  },
  {
   "cell_type": "code",
   "execution_count": 65,
   "metadata": {},
   "outputs": [],
   "source": [
    "result_df = pd.merge(df, sypnosis_df)"
   ]
  },
  {
   "cell_type": "code",
   "execution_count": 66,
   "metadata": {},
   "outputs": [],
   "source": [
    "result_df.to_csv('../raw_data/long_sypnosis/long_sypnosis.csv')"
   ]
  },
  {
   "cell_type": "code",
   "execution_count": null,
   "metadata": {},
   "outputs": [],
   "source": []
  }
 ],
 "metadata": {
  "kernelspec": {
   "display_name": "movie_genre_prediction",
   "language": "python",
   "name": "python3"
  },
  "language_info": {
   "codemirror_mode": {
    "name": "ipython",
    "version": 3
   },
   "file_extension": ".py",
   "mimetype": "text/x-python",
   "name": "python",
   "nbconvert_exporter": "python",
   "pygments_lexer": "ipython3",
   "version": "3.10.6"
  },
  "orig_nbformat": 4
 },
 "nbformat": 4,
 "nbformat_minor": 2
}
