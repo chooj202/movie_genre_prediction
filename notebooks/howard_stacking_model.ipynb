{
 "cells": [
  {
   "cell_type": "code",
   "execution_count": 1,
   "metadata": {},
   "outputs": [
    {
     "name": "stderr",
     "output_type": "stream",
     "text": [
      "/Users/howardtangkulung/.pyenv/versions/3.10.6/envs/movie_genre_prediction/lib/python3.10/site-packages/tqdm/auto.py:21: TqdmWarning: IProgress not found. Please update jupyter and ipywidgets. See https://ipywidgets.readthedocs.io/en/stable/user_install.html\n",
      "  from .autonotebook import tqdm as notebook_tqdm\n"
     ]
    }
   ],
   "source": [
    "import pickle\n",
    "import pandas as pd\n",
    "import numpy as np\n",
    "import nltk\n",
    "import torch\n",
    "import string\n",
    "import os\n",
    "import keras\n",
    "import tensorflow as tf\n",
    "from string import punctuation\n",
    "from sklearn import metrics\n",
    "from tensorflow.keras.applications.resnet50 import preprocess_input\n",
    "from tensorflow.keras import layers, models\n",
    "from transformers import AutoTokenizer, AutoModelForSequenceClassification, Trainer, TrainingArguments, TFBertModel\n",
    "from datasets import load_dataset, load_from_disk, DatasetDict, Dataset\n",
    "from nltk.corpus import stopwords\n",
    "from nltk.stem import WordNetLemmatizer\n",
    "from sklearn.preprocessing import MultiLabelBinarizer\n",
    "from sklearn.model_selection import train_test_split\n",
    "from tensorflow.keras.metrics import CategoricalAccuracy\n",
    "from tensorflow.keras.preprocessing.text import Tokenizer\n",
    "from tensorflow.keras.preprocessing.sequence import pad_sequences\n",
    "from tensorflow.keras.applications.resnet50 import ResNet50\n",
    "from tqdm import tqdm\n",
    "from tensorflow.keras.preprocessing import image\n",
    "from tensorflow.keras.callbacks import EarlyStopping\n",
    "from PIL import Image\n",
    "import transformers\n",
    "from PIL import UnidentifiedImageError\n",
    "from tensorflow.keras.preprocessing import image"
   ]
  },
  {
   "cell_type": "code",
   "execution_count": 2,
   "metadata": {},
   "outputs": [],
   "source": [
    "big_train_df = pd.read_csv('../raw_data/large_dataset/big_data_train.csv').drop(columns = \"Unnamed: 0\").head(6000)\n",
    "big_test_df = pd.read_csv('../raw_data/large_dataset/big_data_test.csv').drop(columns = \"Unnamed: 0\").head(1000)\n",
    "big_val_df = pd.read_csv('../raw_data/large_dataset/big_data_val.csv').drop(columns = \"Unnamed: 0\").head(1000)"
   ]
  },
  {
   "cell_type": "code",
   "execution_count": 3,
   "metadata": {},
   "outputs": [
    {
     "data": {
      "text/plain": [
       "'tt6791350'"
      ]
     },
     "execution_count": 3,
     "metadata": {},
     "output_type": "execute_result"
    }
   ],
   "source": [
    "big_train_df[\"imdb_id\"][0]"
   ]
  },
  {
   "cell_type": "code",
   "execution_count": 8,
   "metadata": {},
   "outputs": [],
   "source": [
    "# resize all images to 256x256\n",
    "# convert images to arrays (ignore corrupted images)\n",
    "def get_image_array(df):\n",
    "    width, height = 256, 256\n",
    "    image_array = np.zeros((df.shape[0],width, height, 3,), dtype=np.float32)\n",
    "    unidentified_count = 0\n",
    "    not_found_count = 0\n",
    "    print(f\"total: {df.shape[0]}\")\n",
    "    for i in tqdm(range(df.shape[0])):\n",
    "        try:\n",
    "            folder = df[\"location\"][i]\n",
    "            image_path = f\"../raw_data/large_dataset/{folder}/{df['imdb_id'][i]}.jpg\"\n",
    "            img = image.load_img(image_path, target_size=(width, height, 3))\n",
    "            input_arr = np.asarray(image.img_to_array(img))\n",
    "            image_array[i] = input_arr\n",
    "        except UnidentifiedImageError as e1:\n",
    "            unidentified_count += 1\n",
    "            df.drop(index=i)\n",
    "            pass\n",
    "        except FileNotFoundError as e2:\n",
    "            not_found_count += 1\n",
    "            df.drop(index=i)\n",
    "            pass\n",
    "    print(f\"{unidentified_count} files were unidentified\\n{not_found_count} files were not found\")\n",
    "    print(f\"we got {len(image_array)}\")\n",
    "    return df, image_array"
   ]
  },
  {
   "cell_type": "code",
   "execution_count": 17,
   "metadata": {},
   "outputs": [
    {
     "data": {
      "text/plain": [
       "(256, 256, 3)"
      ]
     },
     "execution_count": 17,
     "metadata": {},
     "output_type": "execute_result"
    }
   ],
   "source": [
    "np.zeros((df_train.shape[0],256, 256, 3,))[0].shape"
   ]
  },
  {
   "cell_type": "code",
   "execution_count": 9,
   "metadata": {},
   "outputs": [
    {
     "name": "stdout",
     "output_type": "stream",
     "text": [
      "total: 6000\n"
     ]
    },
    {
     "name": "stderr",
     "output_type": "stream",
     "text": [
      "100%|██████████| 6000/6000 [00:20<00:00, 292.02it/s]"
     ]
    },
    {
     "name": "stdout",
     "output_type": "stream",
     "text": [
      "0 files were unidentified\n",
      "0 files were not found\n",
      "we got 6000\n"
     ]
    },
    {
     "name": "stderr",
     "output_type": "stream",
     "text": [
      "\n"
     ]
    }
   ],
   "source": [
    "df_train, X_train_img = get_image_array(big_train_df)"
   ]
  },
  {
   "cell_type": "code",
   "execution_count": 11,
   "metadata": {},
   "outputs": [
    {
     "name": "stdout",
     "output_type": "stream",
     "text": [
      "total: 1000\n"
     ]
    },
    {
     "name": "stderr",
     "output_type": "stream",
     "text": [
      "100%|██████████| 1000/1000 [00:03<00:00, 272.34it/s]\n"
     ]
    },
    {
     "name": "stdout",
     "output_type": "stream",
     "text": [
      "0 files were unidentified\n",
      "0 files were not found\n",
      "we got 1000\n",
      "total: 1000\n"
     ]
    },
    {
     "name": "stderr",
     "output_type": "stream",
     "text": [
      "100%|██████████| 1000/1000 [00:03<00:00, 279.88it/s]"
     ]
    },
    {
     "name": "stdout",
     "output_type": "stream",
     "text": [
      "0 files were unidentified\n",
      "0 files were not found\n",
      "we got 1000\n"
     ]
    },
    {
     "name": "stderr",
     "output_type": "stream",
     "text": [
      "\n"
     ]
    }
   ],
   "source": [
    "df_test, X_test_img = get_image_array(big_test_df)\n",
    "df_val, X_val_img = get_image_array(big_val_df)"
   ]
  },
  {
   "cell_type": "markdown",
   "metadata": {},
   "source": [
    "# Preprocess Data"
   ]
  },
  {
   "cell_type": "code",
   "execution_count": 12,
   "metadata": {},
   "outputs": [],
   "source": [
    "def preprocess_genre(df):\n",
    "    df[\"genre\"] = (\n",
    "        df[\"genre\"]\n",
    "        .apply(eval)\n",
    "        .apply(lambda x: [genre.strip() for genre in x])\n",
    "        )\n",
    "    multilabel_binarizer = MultiLabelBinarizer()\n",
    "    multilabel_binarizer.fit(df['genre'])\n",
    "\n",
    "    #transform target variable\n",
    "    y = multilabel_binarizer.transform(df['genre'])\n",
    "    genre_names = multilabel_binarizer.classes_\n",
    "\n",
    "    # Adding\n",
    "    for i in range(len(genre_names)):\n",
    "        df[f\"{genre_names[i]}\"] = y[:,i]\n",
    "    \n",
    "    return (df, y)\n",
    "    "
   ]
  },
  {
   "cell_type": "code",
   "execution_count": 13,
   "metadata": {},
   "outputs": [
    {
     "data": {
      "text/html": [
       "<div>\n",
       "<style scoped>\n",
       "    .dataframe tbody tr th:only-of-type {\n",
       "        vertical-align: middle;\n",
       "    }\n",
       "\n",
       "    .dataframe tbody tr th {\n",
       "        vertical-align: top;\n",
       "    }\n",
       "\n",
       "    .dataframe thead th {\n",
       "        text-align: right;\n",
       "    }\n",
       "</style>\n",
       "<table border=\"1\" class=\"dataframe\">\n",
       "  <thead>\n",
       "    <tr style=\"text-align: right;\">\n",
       "      <th></th>\n",
       "      <th>imdb_id</th>\n",
       "      <th>genre</th>\n",
       "      <th>plot</th>\n",
       "      <th>location</th>\n",
       "      <th>Action</th>\n",
       "      <th>Adventure</th>\n",
       "      <th>Animation</th>\n",
       "      <th>Biography</th>\n",
       "      <th>Comedy</th>\n",
       "      <th>Crime</th>\n",
       "      <th>Horror</th>\n",
       "      <th>Romance</th>\n",
       "      <th>Thriller</th>\n",
       "      <th>War</th>\n",
       "    </tr>\n",
       "  </thead>\n",
       "  <tbody>\n",
       "    <tr>\n",
       "      <th>0</th>\n",
       "      <td>tt6791350</td>\n",
       "      <td>[Action, Adventure, Comedy]</td>\n",
       "      <td>still reeling from the loss of gamora peter qu...</td>\n",
       "      <td>folder 1</td>\n",
       "      <td>1</td>\n",
       "      <td>1</td>\n",
       "      <td>0</td>\n",
       "      <td>0</td>\n",
       "      <td>1</td>\n",
       "      <td>0</td>\n",
       "      <td>0</td>\n",
       "      <td>0</td>\n",
       "      <td>0</td>\n",
       "      <td>0</td>\n",
       "    </tr>\n",
       "  </tbody>\n",
       "</table>\n",
       "</div>"
      ],
      "text/plain": [
       "     imdb_id                        genre  \\\n",
       "0  tt6791350  [Action, Adventure, Comedy]   \n",
       "\n",
       "                                                plot  location  Action  \\\n",
       "0  still reeling from the loss of gamora peter qu...  folder 1       1   \n",
       "\n",
       "   Adventure  Animation  Biography  Comedy  Crime  Horror  Romance  Thriller  \\\n",
       "0          1          0          0       1      0       0        0         0   \n",
       "\n",
       "   War  \n",
       "0    0  "
      ]
     },
     "execution_count": 13,
     "metadata": {},
     "output_type": "execute_result"
    }
   ],
   "source": [
    "df_train, y_train = preprocess_genre(df_train)\n",
    "df_train.head(1)"
   ]
  },
  {
   "cell_type": "code",
   "execution_count": 14,
   "metadata": {},
   "outputs": [
    {
     "data": {
      "text/plain": [
       "(6000, 10)"
      ]
     },
     "execution_count": 14,
     "metadata": {},
     "output_type": "execute_result"
    }
   ],
   "source": [
    "y_train.shape"
   ]
  },
  {
   "cell_type": "code",
   "execution_count": 15,
   "metadata": {},
   "outputs": [],
   "source": [
    "df_test[\"genre\"] = (\n",
    "    df_test[\"genre\"]\n",
    "    .apply(eval)\n",
    "    .apply(lambda x: [genre.strip() for genre in x])\n",
    "    )\n",
    "df_val[\"genre\"] = (\n",
    "    df_val[\"genre\"]\n",
    "    .apply(eval)\n",
    "    .apply(lambda x: [genre.strip() for genre in x])\n",
    "    )"
   ]
  },
  {
   "cell_type": "code",
   "execution_count": 16,
   "metadata": {},
   "outputs": [],
   "source": [
    "multilabel_binarizer = MultiLabelBinarizer()\n",
    "multilabel_binarizer.fit(df_train['genre'])\n",
    "\n",
    "#transform target variable\n",
    "y_train = multilabel_binarizer.transform(df_train['genre'])\n",
    "genre_names = multilabel_binarizer.classes_\n",
    "\n",
    "# Adding\n",
    "for i in range(len(genre_names)):\n",
    "    df_train[f\"{genre_names[i]}\"] = y_train[:,i]\n",
    "\n",
    "multilabel_binarizer = MultiLabelBinarizer()\n",
    "multilabel_binarizer.fit(df_test['genre'])\n",
    "\n",
    "#transform target variable\n",
    "y_test = multilabel_binarizer.transform(df_test['genre'])\n",
    "genre_names = multilabel_binarizer.classes_\n",
    "\n",
    "# Adding\n",
    "for i in range(len(genre_names)):\n",
    "    df_test[f\"{genre_names[i]}\"] = y_test[:,i]\n",
    "\n",
    "multilabel_binarizer = MultiLabelBinarizer()\n",
    "multilabel_binarizer.fit(df_val['genre'])\n",
    "\n",
    "#transform target variable\n",
    "y_val = multilabel_binarizer.transform(df_val['genre'])\n",
    "genre_names = multilabel_binarizer.classes_\n",
    "\n",
    "# Adding\n",
    "for i in range(len(genre_names)):\n",
    "    df_val[f\"{genre_names[i]}\"] = y_val[:,i]"
   ]
  },
  {
   "cell_type": "code",
   "execution_count": 17,
   "metadata": {},
   "outputs": [
    {
     "name": "stdout",
     "output_type": "stream",
     "text": [
      "(1000, 10) (6000, 10) (1000, 10)\n"
     ]
    }
   ],
   "source": [
    "print(y_test.shape, y_train.shape, y_val.shape)"
   ]
  },
  {
   "cell_type": "code",
   "execution_count": 18,
   "metadata": {},
   "outputs": [],
   "source": [
    "tokenizer = AutoTokenizer.from_pretrained(\"bert-base-uncased\")\n",
    "\n",
    "train_text = df_train['plot'].to_list()\n",
    "\n",
    "tokenizer = AutoTokenizer.from_pretrained(\"bert-base-uncased\")\n",
    "\n",
    "test_text = df_test['plot'].to_list()\n",
    "\n",
    "tokenizer = AutoTokenizer.from_pretrained(\"bert-base-uncased\")\n",
    "\n",
    "val_text = df_val['plot'].to_list()"
   ]
  },
  {
   "cell_type": "code",
   "execution_count": 19,
   "metadata": {},
   "outputs": [],
   "source": [
    "def tokenize_encode_multimodal(df):\n",
    "    tokenizer = AutoTokenizer.from_pretrained(\"bert-base-uncased\")\n",
    "    text = df['plot'].to_list()\n",
    "    encodings = tokenizer(text, truncation = True, padding = True, max_length = 128, return_tensors = \"np\")\n",
    "    return encodings"
   ]
  },
  {
   "cell_type": "code",
   "execution_count": 20,
   "metadata": {},
   "outputs": [
    {
     "data": {
      "text/plain": [
       "{'input_ids': array([[  101,  2145, 28515, ...,  2162, 20286,   102],\n",
       "       [  101,  1037,  2470, ..., 26836, 15166,   102],\n",
       "       [  101,  2661, 17103, ...,  4154,  2332,   102],\n",
       "       ...,\n",
       "       [  101,  1037,  6887, ...,  2004,  9298,   102],\n",
       "       [  101,  2048,  2814, ...,     0,     0,     0],\n",
       "       [  101,  1037,  2402, ...,  5856,  2008,   102]]), 'token_type_ids': array([[0, 0, 0, ..., 0, 0, 0],\n",
       "       [0, 0, 0, ..., 0, 0, 0],\n",
       "       [0, 0, 0, ..., 0, 0, 0],\n",
       "       ...,\n",
       "       [0, 0, 0, ..., 0, 0, 0],\n",
       "       [0, 0, 0, ..., 0, 0, 0],\n",
       "       [0, 0, 0, ..., 0, 0, 0]]), 'attention_mask': array([[1, 1, 1, ..., 1, 1, 1],\n",
       "       [1, 1, 1, ..., 1, 1, 1],\n",
       "       [1, 1, 1, ..., 1, 1, 1],\n",
       "       ...,\n",
       "       [1, 1, 1, ..., 1, 1, 1],\n",
       "       [1, 1, 1, ..., 0, 0, 0],\n",
       "       [1, 1, 1, ..., 1, 1, 1]])}"
      ]
     },
     "execution_count": 20,
     "metadata": {},
     "output_type": "execute_result"
    }
   ],
   "source": [
    "tokenize_encode_multimodal(df_train)"
   ]
  },
  {
   "cell_type": "code",
   "execution_count": 21,
   "metadata": {},
   "outputs": [],
   "source": [
    "train_encodings = tokenizer(train_text, truncation = True, padding = True, max_length = 128, return_tensors = \"np\")\n",
    "test_encodings = tokenizer(test_text, truncation = True, padding = True, max_length = 128, return_tensors = \"np\")\n",
    "val_encodings = tokenizer(val_text, truncation = True, padding = True, max_length = 128, return_tensors = \"np\")"
   ]
  },
  {
   "cell_type": "code",
   "execution_count": 22,
   "metadata": {},
   "outputs": [],
   "source": [
    "# load the dataset and split into train/test sets\n",
    "# REMEMBER TO DROP COLUMNS!!\n",
    "X_train_img = X_train_img\n",
    "X_train_text = train_encodings['input_ids']\n",
    "y_train = y_train\n",
    "X_test_img = X_test_img\n",
    "X_test_text = test_encodings['input_ids']\n",
    "y_test = y_test\n",
    "X_val_img = X_val_img\n",
    "X_val_text = val_encodings['input_ids']\n",
    "y_val = y_val"
   ]
  },
  {
   "cell_type": "code",
   "execution_count": 23,
   "metadata": {},
   "outputs": [
    {
     "data": {
      "text/plain": [
       "numpy.ndarray"
      ]
     },
     "execution_count": 23,
     "metadata": {},
     "output_type": "execute_result"
    }
   ],
   "source": [
    "type(y_train)"
   ]
  },
  {
   "cell_type": "markdown",
   "metadata": {},
   "source": [
    "# RESNET 50"
   ]
  },
  {
   "cell_type": "code",
   "execution_count": 24,
   "metadata": {},
   "outputs": [],
   "source": [
    "def load_model():\n",
    "    model = ResNet50(weights=\"imagenet\", include_top=False, input_shape=(256, 256, 3))\n",
    "    return model\n"
   ]
  },
  {
   "cell_type": "code",
   "execution_count": 25,
   "metadata": {},
   "outputs": [],
   "source": [
    "def set_nontrainable_layers(model):\n",
    "    model.trainable = False\n",
    "    return model"
   ]
  },
  {
   "cell_type": "code",
   "execution_count": 26,
   "metadata": {},
   "outputs": [],
   "source": [
    "def add_last_layers(model):\n",
    "    '''Take a pre-trained model, set its parameters as non-trainable, and add additional trainable layers on top'''\n",
    "    base_model = load_model()\n",
    "    base_model = set_nontrainable_layers(base_model)\n",
    "    flatten_layer = layers.Flatten()\n",
    "    dense_layer = layers.Dense(500, activation='relu')\n",
    "    prediction_layer = layers.Dense(512, activation='relu')\n",
    "\n",
    "    model = models.Sequential([\n",
    "        base_model,\n",
    "        flatten_layer,\n",
    "        dense_layer,\n",
    "        prediction_layer\n",
    "    ])\n",
    "    return model"
   ]
  },
  {
   "cell_type": "markdown",
   "metadata": {},
   "source": [
    "# CNN"
   ]
  },
  {
   "cell_type": "code",
   "execution_count": 17,
   "metadata": {},
   "outputs": [],
   "source": [
    "from tensorflow.keras import Sequential, layers\n",
    "from tensorflow.keras import optimizers\n",
    "from tensorflow.keras.callbacks import EarlyStopping\n",
    "from tensorflow.keras.layers.experimental.preprocessing import Rescaling\n",
    "\n",
    "def load_own_model():\n",
    "\n",
    "    model = Sequential()\n",
    "    model.add(Rescaling(1./255, input_shape=(256,256,3)))\n",
    "\n",
    "    model.add(layers.Conv2D(16, kernel_size=10, activation='relu'))\n",
    "    model.add(layers.MaxPooling2D(3))\n",
    "\n",
    "    model.add(layers.Conv2D(32, kernel_size=8, activation=\"relu\"))\n",
    "    model.add(layers.MaxPooling2D(3))\n",
    "\n",
    "    model.add(layers.Conv2D(32, kernel_size=6, activation=\"relu\"))\n",
    "    model.add(layers.MaxPooling2D(3))\n",
    "\n",
    "    model.add(layers.Flatten())\n",
    "    model.add(layers.Dense(100, activation='relu'))\n",
    "    model.add(layers.Dense(21, activation=''))\n",
    "\n",
    "    return model"
   ]
  },
  {
   "cell_type": "markdown",
   "metadata": {},
   "source": [
    "# BERT Model"
   ]
  },
  {
   "cell_type": "code",
   "execution_count": 27,
   "metadata": {},
   "outputs": [],
   "source": [
    "# define the BERT-based text feature extractor\n",
    "def build_text_model():\n",
    "    bert_model = TFBertModel.from_pretrained('bert-base-uncased')\n",
    "    inputs = tf.keras.layers.Input(shape=(None,), dtype=tf.int32, name='input_word_ids')\n",
    "    outputs = bert_model(inputs)[1]\n",
    "    text_model = tf.keras.Model(inputs=inputs, outputs=outputs)\n",
    "    return text_model"
   ]
  },
  {
   "cell_type": "markdown",
   "metadata": {},
   "source": [
    "# Multimodal Model"
   ]
  },
  {
   "cell_type": "code",
   "execution_count": 28,
   "metadata": {},
   "outputs": [],
   "source": [
    "# define the multimodal document classification model\n",
    "def build_multimodal_model(num_classes):\n",
    "    model = load_model()\n",
    "    model = set_nontrainable_layers(model)\n",
    "    img_model = add_last_layers(model)\n",
    "    text_model = build_text_model()\n",
    "    img_input = tf.keras.layers.Input(shape=(256, 256, 3), name='img_input')\n",
    "    text_input = tf.keras.layers.Input(shape=(None,), dtype=tf.int32, name='text_input')\n",
    "    img_features = img_model(img_input)\n",
    "    text_features = text_model(text_input)\n",
    "    concat_features = tf.keras.layers.concatenate([img_features, text_features])\n",
    "    x = tf.keras.layers.Dense(512, activation='relu')(concat_features)\n",
    "    x = tf.keras.layers.Dense(num_classes, activation='sigmoid')(x)\n",
    "    multimodal_model = tf.keras.Model(inputs=[img_input, text_input], outputs=x)\n",
    "    return multimodal_model"
   ]
  },
  {
   "cell_type": "code",
   "execution_count": 29,
   "metadata": {},
   "outputs": [
    {
     "data": {
      "text/plain": [
       "10"
      ]
     },
     "execution_count": 29,
     "metadata": {},
     "output_type": "execute_result"
    }
   ],
   "source": [
    "y_train.shape[1]"
   ]
  },
  {
   "cell_type": "code",
   "execution_count": 30,
   "metadata": {},
   "outputs": [
    {
     "name": "stderr",
     "output_type": "stream",
     "text": [
      "Some weights of the PyTorch model were not used when initializing the TF 2.0 model TFBertModel: ['cls.predictions.transform.LayerNorm.bias', 'cls.predictions.transform.dense.bias', 'cls.seq_relationship.weight', 'cls.predictions.bias', 'cls.predictions.transform.LayerNorm.weight', 'cls.predictions.transform.dense.weight', 'cls.seq_relationship.bias']\n",
      "- This IS expected if you are initializing TFBertModel from a PyTorch model trained on another task or with another architecture (e.g. initializing a TFBertForSequenceClassification model from a BertForPreTraining model).\n",
      "- This IS NOT expected if you are initializing TFBertModel from a PyTorch model that you expect to be exactly identical (e.g. initializing a TFBertForSequenceClassification model from a BertForSequenceClassification model).\n",
      "All the weights of TFBertModel were initialized from the PyTorch model.\n",
      "If your task is similar to the task the model of the checkpoint was trained on, you can already use TFBertModel for predictions without further training.\n"
     ]
    },
    {
     "name": "stdout",
     "output_type": "stream",
     "text": [
      "Model: \"model_1\"\n",
      "__________________________________________________________________________________________________\n",
      " Layer (type)                   Output Shape         Param #     Connected to                     \n",
      "==================================================================================================\n",
      " img_input (InputLayer)         [(None, 256, 256, 3  0           []                               \n",
      "                                )]                                                                \n",
      "                                                                                                  \n",
      " text_input (InputLayer)        [(None, None)]       0           []                               \n",
      "                                                                                                  \n",
      " sequential (Sequential)        (None, 512)          89380724    ['img_input[0][0]']              \n",
      "                                                                                                  \n",
      " model (Functional)             (None, 768)          109482240   ['text_input[0][0]']             \n",
      "                                                                                                  \n",
      " concatenate (Concatenate)      (None, 1280)         0           ['sequential[0][0]',             \n",
      "                                                                  'model[0][0]']                  \n",
      "                                                                                                  \n",
      " dense_2 (Dense)                (None, 512)          655872      ['concatenate[0][0]']            \n",
      "                                                                                                  \n",
      " dense_3 (Dense)                (None, 10)           5130        ['dense_2[0][0]']                \n",
      "                                                                                                  \n",
      "==================================================================================================\n",
      "Total params: 199,523,966\n",
      "Trainable params: 175,936,254\n",
      "Non-trainable params: 23,587,712\n",
      "__________________________________________________________________________________________________\n"
     ]
    }
   ],
   "source": [
    "# build the multimodal model\n",
    "num_classes = 10\n",
    "multimodal_model = build_multimodal_model(num_classes)\n",
    "multimodal_model.summary()"
   ]
  },
  {
   "cell_type": "code",
   "execution_count": 31,
   "metadata": {},
   "outputs": [
    {
     "name": "stdout",
     "output_type": "stream",
     "text": [
      "Epoch 1/5\n"
     ]
    },
    {
     "name": "stderr",
     "output_type": "stream",
     "text": [
      "2023-08-27 17:32:25.034815: W tensorflow/tsl/platform/profile_utils/cpu_utils.cc:128] Failed to get CPU frequency: 0 Hz\n"
     ]
    },
    {
     "name": "stdout",
     "output_type": "stream",
     "text": [
      " 1/94 [..............................] - ETA: 1:44:40 - loss: 0.7934 - accuracy: 0.0781 - auc: 0.5118 - binary_accuracy: 0.5109 - categorical_accuracy: 0.0781"
     ]
    }
   ],
   "source": [
    "# compile the model and train on the train set\n",
    "multimodal_model.compile(optimizer='adam', loss='binary_crossentropy', metrics=['accuracy', 'AUC', 'binary_accuracy', 'categorical_accuracy'])\n",
    "\n",
    "es = EarlyStopping(monitor = 'val_accuracy',\n",
    "                   mode = 'max',\n",
    "                   patience = 5,\n",
    "                   verbose = 1,\n",
    "                   restore_best_weights = True)\n",
    "\n",
    "history = multimodal_model.fit([(X_train_img, X_train_text)], tf.convert_to_tensor(y_train), epochs=5, batch_size=64, validation_data=([(X_val_img, X_val_text)], tf.convert_to_tensor(y_val)), callbacks = [es])"
   ]
  },
  {
   "cell_type": "code",
   "execution_count": 27,
   "metadata": {},
   "outputs": [
    {
     "name": "stderr",
     "output_type": "stream",
     "text": [
      "WARNING:absl:At this time, the v2.11+ optimizer `tf.keras.optimizers.Adam` runs slowly on M1/M2 Macs, please use the legacy Keras optimizer instead, located at `tf.keras.optimizers.legacy.Adam`.\n",
      "WARNING:absl:There is a known slowdown when using v2.11+ Keras optimizers on M1/M2 Macs. Falling back to the legacy Keras optimizer, i.e., `tf.keras.optimizers.legacy.Adam`.\n"
     ]
    },
    {
     "name": "stdout",
     "output_type": "stream",
     "text": [
      "WARNING:tensorflow:Error in loading the saved optimizer state. As a result, your model is starting with a freshly initialized optimizer.\n"
     ]
    },
    {
     "name": "stderr",
     "output_type": "stream",
     "text": [
      "WARNING:tensorflow:Error in loading the saved optimizer state. As a result, your model is starting with a freshly initialized optimizer.\n"
     ]
    }
   ],
   "source": [
    "model_file_path = \"../raw_data/models/multimodal_model2.h5\"\n",
    "multimodal_model = keras.models.load_model(model_file_path, custom_objects={\"TFBertModel\": transformers.TFBertModel})"
   ]
  },
  {
   "cell_type": "code",
   "execution_count": 28,
   "metadata": {},
   "outputs": [
    {
     "name": "stderr",
     "output_type": "stream",
     "text": [
      "2023-08-26 13:06:49.668624: W tensorflow/tsl/platform/profile_utils/cpu_utils.cc:128] Failed to get CPU frequency: 0 Hz\n"
     ]
    },
    {
     "name": "stdout",
     "output_type": "stream",
     "text": [
      "32/32 [==============================] - 230s 7s/step\n"
     ]
    },
    {
     "data": {
      "text/plain": [
       "array([[1.21127591e-01, 3.54467660e-01, 2.45623738e-01, ...,\n",
       "        2.71149695e-01, 7.44471140e-03, 8.83271918e-03],\n",
       "       [1.78913042e-01, 5.82661510e-01, 6.40847087e-01, ...,\n",
       "        6.84283972e-02, 3.99492588e-03, 5.12607768e-03],\n",
       "       [3.74326676e-01, 8.94030392e-01, 9.84095156e-01, ...,\n",
       "        1.97840109e-03, 2.98309806e-05, 3.02653571e-05],\n",
       "       ...,\n",
       "       [2.19731271e-01, 4.96504098e-01, 4.47186798e-01, ...,\n",
       "        1.07982166e-01, 1.78508684e-02, 2.23114789e-02],\n",
       "       [1.49251565e-01, 4.63459224e-01, 3.72579306e-01, ...,\n",
       "        1.70451730e-01, 1.37967588e-02, 2.45810319e-02],\n",
       "       [1.16007797e-01, 3.27760935e-01, 1.72129318e-01, ...,\n",
       "        2.65073121e-01, 1.18262535e-02, 2.30597947e-02]], dtype=float32)"
      ]
     },
     "execution_count": 28,
     "metadata": {},
     "output_type": "execute_result"
    }
   ],
   "source": [
    "y_pred = multimodal_model.predict([X_test_img, X_test_text], verbose=1)\n",
    "\n",
    "y_pred"
   ]
  },
  {
   "cell_type": "code",
   "execution_count": 29,
   "metadata": {},
   "outputs": [
    {
     "ename": "ValueError",
     "evalue": "Expected indicator for 10 classes, but got 11",
     "output_type": "error",
     "traceback": [
      "\u001b[0;31m---------------------------------------------------------------------------\u001b[0m",
      "\u001b[0;31mValueError\u001b[0m                                Traceback (most recent call last)",
      "Cell \u001b[0;32mIn[29], line 1\u001b[0m\n\u001b[0;32m----> 1\u001b[0m multilabel_binarizer\u001b[39m.\u001b[39;49minverse_transform(y_pred\u001b[39m.\u001b[39;49mround())[\u001b[39m0\u001b[39m:\u001b[39m10\u001b[39m]\n",
      "File \u001b[0;32m~/.pyenv/versions/3.10.6/envs/movie_genre_prediction/lib/python3.10/site-packages/sklearn/preprocessing/_label.py:921\u001b[0m, in \u001b[0;36mMultiLabelBinarizer.inverse_transform\u001b[0;34m(self, yt)\u001b[0m\n\u001b[1;32m    918\u001b[0m check_is_fitted(\u001b[39mself\u001b[39m)\n\u001b[1;32m    920\u001b[0m \u001b[39mif\u001b[39;00m yt\u001b[39m.\u001b[39mshape[\u001b[39m1\u001b[39m] \u001b[39m!=\u001b[39m \u001b[39mlen\u001b[39m(\u001b[39mself\u001b[39m\u001b[39m.\u001b[39mclasses_):\n\u001b[0;32m--> 921\u001b[0m     \u001b[39mraise\u001b[39;00m \u001b[39mValueError\u001b[39;00m(\n\u001b[1;32m    922\u001b[0m         \u001b[39m\"\u001b[39m\u001b[39mExpected indicator for \u001b[39m\u001b[39m{0}\u001b[39;00m\u001b[39m classes, but got \u001b[39m\u001b[39m{1}\u001b[39;00m\u001b[39m\"\u001b[39m\u001b[39m.\u001b[39mformat(\n\u001b[1;32m    923\u001b[0m             \u001b[39mlen\u001b[39m(\u001b[39mself\u001b[39m\u001b[39m.\u001b[39mclasses_), yt\u001b[39m.\u001b[39mshape[\u001b[39m1\u001b[39m]\n\u001b[1;32m    924\u001b[0m         )\n\u001b[1;32m    925\u001b[0m     )\n\u001b[1;32m    927\u001b[0m \u001b[39mif\u001b[39;00m sp\u001b[39m.\u001b[39missparse(yt):\n\u001b[1;32m    928\u001b[0m     yt \u001b[39m=\u001b[39m yt\u001b[39m.\u001b[39mtocsr()\n",
      "\u001b[0;31mValueError\u001b[0m: Expected indicator for 10 classes, but got 11"
     ]
    }
   ],
   "source": [
    "multilabel_binarizer.inverse_transform(y_pred.round())[0:10]"
   ]
  },
  {
   "cell_type": "code",
   "execution_count": null,
   "metadata": {},
   "outputs": [],
   "source": []
  }
 ],
 "metadata": {
  "kernelspec": {
   "display_name": "movie_genre_prediction",
   "language": "python",
   "name": "python3"
  },
  "language_info": {
   "codemirror_mode": {
    "name": "ipython",
    "version": 3
   },
   "file_extension": ".py",
   "mimetype": "text/x-python",
   "name": "python",
   "nbconvert_exporter": "python",
   "pygments_lexer": "ipython3",
   "version": "3.10.6"
  },
  "orig_nbformat": 4
 },
 "nbformat": 4,
 "nbformat_minor": 2
}
