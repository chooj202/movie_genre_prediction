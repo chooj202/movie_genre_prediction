{
 "cells": [
  {
   "cell_type": "code",
   "execution_count": 132,
   "id": "53a9e74e-15c0-4fd2-89b8-a24fcce91cfc",
   "metadata": {},
   "outputs": [],
   "source": [
    "import numpy as np\n",
    "import pandas as pd\n",
    "import seaborn as sns\n",
    "import string\n",
    "import os\n",
    "import requests\n",
    "\n",
    "from requests import get\n",
    "from bs4 import BeautifulSoup\n",
    "from warnings import warn\n",
    "from time import sleep\n",
    "from random import randint\n",
    "from xgboost import XGBClassifier\n",
    "from tqdm import tqdm\n",
    "from time import sleep\n",
    "\n",
    "from pathlib import Path\n",
    "from sklearn.preprocessing import MultiLabelBinarizer\n",
    "from sklearn.model_selection import train_test_split, GridSearchCV,RandomizedSearchCV\n",
    "from nltk.stem.porter import *\n",
    "from nltk.corpus import stopwords\n",
    "from nltk.tokenize import word_tokenize\n",
    "from nltk.stem import WordNetLemmatizer\n",
    "from sklearn.feature_extraction.text import TfidfVectorizer\n",
    "from sklearn.linear_model import LogisticRegression, SGDClassifier\n",
    "from sklearn.metrics import accuracy_score, recall_score, f1_score, precision_score, hamming_loss\n",
    "from sklearn.multiclass import OneVsRestClassifier\n",
    "from sklearn.preprocessing import MultiLabelBinarizer\n",
    "from sklearn.naive_bayes import MultinomialNB\n",
    "from sklearn.ensemble import RandomForestClassifier\n",
    "from sklearn.svm import SVC\n",
    "\n",
    "from tensorflow.keras import layers, Sequential, callbacks, optimizers, utils, models, applications\n",
    "from tensorflow.keras.applications.inception_v3 import InceptionV3\n",
    "from tensorflow.keras.regularizers import l2, l1\n",
    "from tensorflow.keras.preprocessing import image\n",
    "from tensorflow.keras.preprocessing.image import ImageDataGenerator\n",
    "from tensorflow.keras.preprocessing.sequence import pad_sequences\n",
    "from tensorflow.keras.preprocessing.text import Tokenizer"
   ]
  },
  {
   "cell_type": "code",
   "execution_count": 2,
   "id": "2817348c",
   "metadata": {},
   "outputs": [],
   "source": [
    "# folder_path = '/home/yinghui/code/chooj202/movie_genre_prediction/movie_genre_prediction/raw_data/csv/'\n",
    "# dataframes = []\n",
    "# for file_name in os.listdir(folder_path):\n",
    "#     if file_name.endswith('.csv'):\n",
    "#         file_path = os.path.join(folder_path, file_name)\n",
    "#         df = pd.read_csv(file_path)\n",
    "#         dataframes.append(df)\n",
    "# merged_df = pd.concat(dataframes, ignore_index=True)"
   ]
  },
  {
   "cell_type": "code",
   "execution_count": 3,
   "id": "29bac3ba-bb73-43b0-a367-0485c0a94801",
   "metadata": {},
   "outputs": [
    {
     "data": {
      "text/plain": [
       "(4624, 6)"
      ]
     },
     "execution_count": 3,
     "metadata": {},
     "output_type": "execute_result"
    }
   ],
   "source": [
    "merged_df = pd.read_csv(\"/home/yinghui/code/chooj202/movie_genre_prediction/movie_genre_prediction/raw_data/long_sypnosis.csv\")\n",
    "\n",
    "merged_df.shape"
   ]
  },
  {
   "cell_type": "code",
   "execution_count": 4,
   "id": "d032d3ae",
   "metadata": {},
   "outputs": [
    {
     "data": {
      "text/html": [
       "<div>\n",
       "<style scoped>\n",
       "    .dataframe tbody tr th:only-of-type {\n",
       "        vertical-align: middle;\n",
       "    }\n",
       "\n",
       "    .dataframe tbody tr th {\n",
       "        vertical-align: top;\n",
       "    }\n",
       "\n",
       "    .dataframe thead th {\n",
       "        text-align: right;\n",
       "    }\n",
       "</style>\n",
       "<table border=\"1\" class=\"dataframe\">\n",
       "  <thead>\n",
       "    <tr style=\"text-align: right;\">\n",
       "      <th></th>\n",
       "      <th>Unnamed: 0</th>\n",
       "      <th>movie</th>\n",
       "      <th>imdb_id</th>\n",
       "      <th>genre</th>\n",
       "      <th>image_url</th>\n",
       "      <th>sypnosis</th>\n",
       "    </tr>\n",
       "  </thead>\n",
       "  <tbody>\n",
       "    <tr>\n",
       "      <th>0</th>\n",
       "      <td>0</td>\n",
       "      <td>Ramayana: The Legend of Prince Rama</td>\n",
       "      <td>tt0259534</td>\n",
       "      <td>['Animation', ' Action', ' Adventure']</td>\n",
       "      <td>http://img.omdbapi.com/?i=tt0259534&amp;h=600&amp;apik...</td>\n",
       "      <td>An anime adaptation of the Hindu epic the Rama...</td>\n",
       "    </tr>\n",
       "    <tr>\n",
       "      <th>1</th>\n",
       "      <td>1</td>\n",
       "      <td>The Dark Knight</td>\n",
       "      <td>tt0468569</td>\n",
       "      <td>['Action', ' Crime', ' Drama']</td>\n",
       "      <td>http://img.omdbapi.com/?i=tt0468569&amp;h=600&amp;apik...</td>\n",
       "      <td>When the menace known as the Joker wreaks havo...</td>\n",
       "    </tr>\n",
       "    <tr>\n",
       "      <th>2</th>\n",
       "      <td>2</td>\n",
       "      <td>The Lord of the Rings: The Return of the King</td>\n",
       "      <td>tt0167260</td>\n",
       "      <td>['Action', ' Adventure', ' Drama']</td>\n",
       "      <td>http://img.omdbapi.com/?i=tt0167260&amp;h=600&amp;apik...</td>\n",
       "      <td>Gandalf and Aragorn lead the World of Men agai...</td>\n",
       "    </tr>\n",
       "    <tr>\n",
       "      <th>3</th>\n",
       "      <td>3</td>\n",
       "      <td>Spider-Man: Across the Spider-Verse</td>\n",
       "      <td>tt9362722</td>\n",
       "      <td>['Animation', ' Action', ' Adventure']</td>\n",
       "      <td>http://img.omdbapi.com/?i=tt9362722&amp;h=600&amp;apik...</td>\n",
       "      <td>Miles Morales catapults across the Multiverse,...</td>\n",
       "    </tr>\n",
       "    <tr>\n",
       "      <th>4</th>\n",
       "      <td>4</td>\n",
       "      <td>The Message</td>\n",
       "      <td>tt0075143</td>\n",
       "      <td>['Action', ' Adventure', ' Biography']</td>\n",
       "      <td>http://img.omdbapi.com/?i=tt0075143&amp;h=600&amp;apik...</td>\n",
       "      <td>The story of prophet \"Muhammad\" and the delive...</td>\n",
       "    </tr>\n",
       "  </tbody>\n",
       "</table>\n",
       "</div>"
      ],
      "text/plain": [
       "   Unnamed: 0                                          movie    imdb_id  \\\n",
       "0           0            Ramayana: The Legend of Prince Rama  tt0259534   \n",
       "1           1                                The Dark Knight  tt0468569   \n",
       "2           2  The Lord of the Rings: The Return of the King  tt0167260   \n",
       "3           3            Spider-Man: Across the Spider-Verse  tt9362722   \n",
       "4           4                                    The Message  tt0075143   \n",
       "\n",
       "                                    genre  \\\n",
       "0  ['Animation', ' Action', ' Adventure']   \n",
       "1          ['Action', ' Crime', ' Drama']   \n",
       "2      ['Action', ' Adventure', ' Drama']   \n",
       "3  ['Animation', ' Action', ' Adventure']   \n",
       "4  ['Action', ' Adventure', ' Biography']   \n",
       "\n",
       "                                           image_url  \\\n",
       "0  http://img.omdbapi.com/?i=tt0259534&h=600&apik...   \n",
       "1  http://img.omdbapi.com/?i=tt0468569&h=600&apik...   \n",
       "2  http://img.omdbapi.com/?i=tt0167260&h=600&apik...   \n",
       "3  http://img.omdbapi.com/?i=tt9362722&h=600&apik...   \n",
       "4  http://img.omdbapi.com/?i=tt0075143&h=600&apik...   \n",
       "\n",
       "                                            sypnosis  \n",
       "0  An anime adaptation of the Hindu epic the Rama...  \n",
       "1  When the menace known as the Joker wreaks havo...  \n",
       "2  Gandalf and Aragorn lead the World of Men agai...  \n",
       "3  Miles Morales catapults across the Multiverse,...  \n",
       "4  The story of prophet \"Muhammad\" and the delive...  "
      ]
     },
     "execution_count": 4,
     "metadata": {},
     "output_type": "execute_result"
    }
   ],
   "source": [
    "merged_df.head(5)"
   ]
  },
  {
   "cell_type": "code",
   "execution_count": 5,
   "id": "668257f5",
   "metadata": {},
   "outputs": [],
   "source": [
    "merged_df = merged_df.drop(columns=['Unnamed: 0'])"
   ]
  },
  {
   "cell_type": "code",
   "execution_count": 6,
   "id": "db5f5815",
   "metadata": {},
   "outputs": [
    {
     "data": {
      "text/plain": [
       "(4624, 5)"
      ]
     },
     "execution_count": 6,
     "metadata": {},
     "output_type": "execute_result"
    }
   ],
   "source": [
    "merged_df = merged_df.drop_duplicates()\n",
    "merged_df.shape"
   ]
  },
  {
   "cell_type": "code",
   "execution_count": 7,
   "id": "745281b0-a384-40fc-8f43-eddb6bd12c45",
   "metadata": {},
   "outputs": [
    {
     "data": {
      "text/html": [
       "<div>\n",
       "<style scoped>\n",
       "    .dataframe tbody tr th:only-of-type {\n",
       "        vertical-align: middle;\n",
       "    }\n",
       "\n",
       "    .dataframe tbody tr th {\n",
       "        vertical-align: top;\n",
       "    }\n",
       "\n",
       "    .dataframe thead th {\n",
       "        text-align: right;\n",
       "    }\n",
       "</style>\n",
       "<table border=\"1\" class=\"dataframe\">\n",
       "  <thead>\n",
       "    <tr style=\"text-align: right;\">\n",
       "      <th></th>\n",
       "      <th>movie</th>\n",
       "      <th>imdb_id</th>\n",
       "      <th>genre</th>\n",
       "      <th>image_url</th>\n",
       "      <th>sypnosis</th>\n",
       "    </tr>\n",
       "  </thead>\n",
       "  <tbody>\n",
       "    <tr>\n",
       "      <th>0</th>\n",
       "      <td>Ramayana: The Legend of Prince Rama</td>\n",
       "      <td>tt0259534</td>\n",
       "      <td>['Animation', ' Action', ' Adventure']</td>\n",
       "      <td>http://img.omdbapi.com/?i=tt0259534&amp;h=600&amp;apik...</td>\n",
       "      <td>An anime adaptation of the Hindu epic the Rama...</td>\n",
       "    </tr>\n",
       "    <tr>\n",
       "      <th>1</th>\n",
       "      <td>The Dark Knight</td>\n",
       "      <td>tt0468569</td>\n",
       "      <td>['Action', ' Crime', ' Drama']</td>\n",
       "      <td>http://img.omdbapi.com/?i=tt0468569&amp;h=600&amp;apik...</td>\n",
       "      <td>When the menace known as the Joker wreaks havo...</td>\n",
       "    </tr>\n",
       "    <tr>\n",
       "      <th>2</th>\n",
       "      <td>The Lord of the Rings: The Return of the King</td>\n",
       "      <td>tt0167260</td>\n",
       "      <td>['Action', ' Adventure', ' Drama']</td>\n",
       "      <td>http://img.omdbapi.com/?i=tt0167260&amp;h=600&amp;apik...</td>\n",
       "      <td>Gandalf and Aragorn lead the World of Men agai...</td>\n",
       "    </tr>\n",
       "    <tr>\n",
       "      <th>3</th>\n",
       "      <td>Spider-Man: Across the Spider-Verse</td>\n",
       "      <td>tt9362722</td>\n",
       "      <td>['Animation', ' Action', ' Adventure']</td>\n",
       "      <td>http://img.omdbapi.com/?i=tt9362722&amp;h=600&amp;apik...</td>\n",
       "      <td>Miles Morales catapults across the Multiverse,...</td>\n",
       "    </tr>\n",
       "    <tr>\n",
       "      <th>4</th>\n",
       "      <td>The Message</td>\n",
       "      <td>tt0075143</td>\n",
       "      <td>['Action', ' Adventure', ' Biography']</td>\n",
       "      <td>http://img.omdbapi.com/?i=tt0075143&amp;h=600&amp;apik...</td>\n",
       "      <td>The story of prophet \"Muhammad\" and the delive...</td>\n",
       "    </tr>\n",
       "  </tbody>\n",
       "</table>\n",
       "</div>"
      ],
      "text/plain": [
       "                                           movie    imdb_id  \\\n",
       "0            Ramayana: The Legend of Prince Rama  tt0259534   \n",
       "1                                The Dark Knight  tt0468569   \n",
       "2  The Lord of the Rings: The Return of the King  tt0167260   \n",
       "3            Spider-Man: Across the Spider-Verse  tt9362722   \n",
       "4                                    The Message  tt0075143   \n",
       "\n",
       "                                    genre  \\\n",
       "0  ['Animation', ' Action', ' Adventure']   \n",
       "1          ['Action', ' Crime', ' Drama']   \n",
       "2      ['Action', ' Adventure', ' Drama']   \n",
       "3  ['Animation', ' Action', ' Adventure']   \n",
       "4  ['Action', ' Adventure', ' Biography']   \n",
       "\n",
       "                                           image_url  \\\n",
       "0  http://img.omdbapi.com/?i=tt0259534&h=600&apik...   \n",
       "1  http://img.omdbapi.com/?i=tt0468569&h=600&apik...   \n",
       "2  http://img.omdbapi.com/?i=tt0167260&h=600&apik...   \n",
       "3  http://img.omdbapi.com/?i=tt9362722&h=600&apik...   \n",
       "4  http://img.omdbapi.com/?i=tt0075143&h=600&apik...   \n",
       "\n",
       "                                            sypnosis  \n",
       "0  An anime adaptation of the Hindu epic the Rama...  \n",
       "1  When the menace known as the Joker wreaks havo...  \n",
       "2  Gandalf and Aragorn lead the World of Men agai...  \n",
       "3  Miles Morales catapults across the Multiverse,...  \n",
       "4  The story of prophet \"Muhammad\" and the delive...  "
      ]
     },
     "execution_count": 7,
     "metadata": {},
     "output_type": "execute_result"
    }
   ],
   "source": [
    "merged_df.head(5)"
   ]
  },
  {
   "cell_type": "code",
   "execution_count": 8,
   "id": "bd80d88b",
   "metadata": {},
   "outputs": [
    {
     "data": {
      "text/plain": [
       "4624"
      ]
     },
     "execution_count": 8,
     "metadata": {},
     "output_type": "execute_result"
    }
   ],
   "source": [
    "merged_df[\"sypnosis\"].notna().sum()"
   ]
  },
  {
   "cell_type": "code",
   "execution_count": 9,
   "id": "a8fc7c84",
   "metadata": {},
   "outputs": [
    {
     "data": {
      "text/html": [
       "<div>\n",
       "<style scoped>\n",
       "    .dataframe tbody tr th:only-of-type {\n",
       "        vertical-align: middle;\n",
       "    }\n",
       "\n",
       "    .dataframe tbody tr th {\n",
       "        vertical-align: top;\n",
       "    }\n",
       "\n",
       "    .dataframe thead th {\n",
       "        text-align: right;\n",
       "    }\n",
       "</style>\n",
       "<table border=\"1\" class=\"dataframe\">\n",
       "  <thead>\n",
       "    <tr style=\"text-align: right;\">\n",
       "      <th></th>\n",
       "      <th>movie</th>\n",
       "      <th>imdb_id</th>\n",
       "      <th>genre</th>\n",
       "      <th>image_url</th>\n",
       "      <th>sypnosis</th>\n",
       "    </tr>\n",
       "  </thead>\n",
       "  <tbody>\n",
       "    <tr>\n",
       "      <th>0</th>\n",
       "      <td>Ramayana: The Legend of Prince Rama</td>\n",
       "      <td>tt0259534</td>\n",
       "      <td>['Animation', ' Action', ' Adventure']</td>\n",
       "      <td>http://img.omdbapi.com/?i=tt0259534&amp;h=600&amp;apik...</td>\n",
       "      <td>An anime adaptation of the Hindu epic the Rama...</td>\n",
       "    </tr>\n",
       "    <tr>\n",
       "      <th>1</th>\n",
       "      <td>The Dark Knight</td>\n",
       "      <td>tt0468569</td>\n",
       "      <td>['Action', ' Crime', ' Drama']</td>\n",
       "      <td>http://img.omdbapi.com/?i=tt0468569&amp;h=600&amp;apik...</td>\n",
       "      <td>When the menace known as the Joker wreaks havo...</td>\n",
       "    </tr>\n",
       "    <tr>\n",
       "      <th>2</th>\n",
       "      <td>The Lord of the Rings: The Return of the King</td>\n",
       "      <td>tt0167260</td>\n",
       "      <td>['Action', ' Adventure', ' Drama']</td>\n",
       "      <td>http://img.omdbapi.com/?i=tt0167260&amp;h=600&amp;apik...</td>\n",
       "      <td>Gandalf and Aragorn lead the World of Men agai...</td>\n",
       "    </tr>\n",
       "    <tr>\n",
       "      <th>3</th>\n",
       "      <td>Spider-Man: Across the Spider-Verse</td>\n",
       "      <td>tt9362722</td>\n",
       "      <td>['Animation', ' Action', ' Adventure']</td>\n",
       "      <td>http://img.omdbapi.com/?i=tt9362722&amp;h=600&amp;apik...</td>\n",
       "      <td>Miles Morales catapults across the Multiverse,...</td>\n",
       "    </tr>\n",
       "    <tr>\n",
       "      <th>4</th>\n",
       "      <td>The Message</td>\n",
       "      <td>tt0075143</td>\n",
       "      <td>['Action', ' Adventure', ' Biography']</td>\n",
       "      <td>http://img.omdbapi.com/?i=tt0075143&amp;h=600&amp;apik...</td>\n",
       "      <td>The story of prophet \"Muhammad\" and the delive...</td>\n",
       "    </tr>\n",
       "    <tr>\n",
       "      <th>...</th>\n",
       "      <td>...</td>\n",
       "      <td>...</td>\n",
       "      <td>...</td>\n",
       "      <td>...</td>\n",
       "      <td>...</td>\n",
       "    </tr>\n",
       "    <tr>\n",
       "      <th>4619</th>\n",
       "      <td>Bad Girls</td>\n",
       "      <td>tt0109198</td>\n",
       "      <td>['Action', ' Adventure', ' Drama']</td>\n",
       "      <td>http://img.omdbapi.com/?i=tt0109198&amp;h=600&amp;apik...</td>\n",
       "      <td>Four prostitutes join together to travel the O...</td>\n",
       "    </tr>\n",
       "    <tr>\n",
       "      <th>4620</th>\n",
       "      <td>Renegade</td>\n",
       "      <td>tt0276830</td>\n",
       "      <td>['Adventure', ' Fantasy', ' Western']</td>\n",
       "      <td>http://img.omdbapi.com/?i=tt0276830&amp;h=600&amp;apik...</td>\n",
       "      <td>In 1870, after a brutal run-in with an outlaw ...</td>\n",
       "    </tr>\n",
       "    <tr>\n",
       "      <th>4621</th>\n",
       "      <td>Wild Wild West</td>\n",
       "      <td>tt0120891</td>\n",
       "      <td>['Action', ' Comedy', ' Sci-Fi']</td>\n",
       "      <td>http://img.omdbapi.com/?i=tt0120891&amp;h=600&amp;apik...</td>\n",
       "      <td>The two best special agents in the Wild West m...</td>\n",
       "    </tr>\n",
       "    <tr>\n",
       "      <th>4622</th>\n",
       "      <td>The Ridiculous 6</td>\n",
       "      <td>tt2479478</td>\n",
       "      <td>['Action', ' Adventure', ' Comedy']</td>\n",
       "      <td>http://img.omdbapi.com/?i=tt2479478&amp;h=600&amp;apik...</td>\n",
       "      <td>An outlaw who was raised by Native Americans d...</td>\n",
       "    </tr>\n",
       "    <tr>\n",
       "      <th>4623</th>\n",
       "      <td>Jonah Hex</td>\n",
       "      <td>tt1075747</td>\n",
       "      <td>['Action', ' Drama', ' Fantasy']</td>\n",
       "      <td>http://img.omdbapi.com/?i=tt1075747&amp;h=600&amp;apik...</td>\n",
       "      <td>The U.S. military makes a scarred bounty hunte...</td>\n",
       "    </tr>\n",
       "  </tbody>\n",
       "</table>\n",
       "<p>4624 rows × 5 columns</p>\n",
       "</div>"
      ],
      "text/plain": [
       "                                              movie    imdb_id  \\\n",
       "0               Ramayana: The Legend of Prince Rama  tt0259534   \n",
       "1                                   The Dark Knight  tt0468569   \n",
       "2     The Lord of the Rings: The Return of the King  tt0167260   \n",
       "3               Spider-Man: Across the Spider-Verse  tt9362722   \n",
       "4                                       The Message  tt0075143   \n",
       "...                                             ...        ...   \n",
       "4619                                      Bad Girls  tt0109198   \n",
       "4620                                       Renegade  tt0276830   \n",
       "4621                                 Wild Wild West  tt0120891   \n",
       "4622                               The Ridiculous 6  tt2479478   \n",
       "4623                                      Jonah Hex  tt1075747   \n",
       "\n",
       "                                       genre  \\\n",
       "0     ['Animation', ' Action', ' Adventure']   \n",
       "1             ['Action', ' Crime', ' Drama']   \n",
       "2         ['Action', ' Adventure', ' Drama']   \n",
       "3     ['Animation', ' Action', ' Adventure']   \n",
       "4     ['Action', ' Adventure', ' Biography']   \n",
       "...                                      ...   \n",
       "4619      ['Action', ' Adventure', ' Drama']   \n",
       "4620   ['Adventure', ' Fantasy', ' Western']   \n",
       "4621        ['Action', ' Comedy', ' Sci-Fi']   \n",
       "4622     ['Action', ' Adventure', ' Comedy']   \n",
       "4623        ['Action', ' Drama', ' Fantasy']   \n",
       "\n",
       "                                              image_url  \\\n",
       "0     http://img.omdbapi.com/?i=tt0259534&h=600&apik...   \n",
       "1     http://img.omdbapi.com/?i=tt0468569&h=600&apik...   \n",
       "2     http://img.omdbapi.com/?i=tt0167260&h=600&apik...   \n",
       "3     http://img.omdbapi.com/?i=tt9362722&h=600&apik...   \n",
       "4     http://img.omdbapi.com/?i=tt0075143&h=600&apik...   \n",
       "...                                                 ...   \n",
       "4619  http://img.omdbapi.com/?i=tt0109198&h=600&apik...   \n",
       "4620  http://img.omdbapi.com/?i=tt0276830&h=600&apik...   \n",
       "4621  http://img.omdbapi.com/?i=tt0120891&h=600&apik...   \n",
       "4622  http://img.omdbapi.com/?i=tt2479478&h=600&apik...   \n",
       "4623  http://img.omdbapi.com/?i=tt1075747&h=600&apik...   \n",
       "\n",
       "                                               sypnosis  \n",
       "0     An anime adaptation of the Hindu epic the Rama...  \n",
       "1     When the menace known as the Joker wreaks havo...  \n",
       "2     Gandalf and Aragorn lead the World of Men agai...  \n",
       "3     Miles Morales catapults across the Multiverse,...  \n",
       "4     The story of prophet \"Muhammad\" and the delive...  \n",
       "...                                                 ...  \n",
       "4619  Four prostitutes join together to travel the O...  \n",
       "4620  In 1870, after a brutal run-in with an outlaw ...  \n",
       "4621  The two best special agents in the Wild West m...  \n",
       "4622  An outlaw who was raised by Native Americans d...  \n",
       "4623  The U.S. military makes a scarred bounty hunte...  \n",
       "\n",
       "[4624 rows x 5 columns]"
      ]
     },
     "execution_count": 9,
     "metadata": {},
     "output_type": "execute_result"
    }
   ],
   "source": [
    "merged_df"
   ]
  },
  {
   "cell_type": "code",
   "execution_count": 10,
   "id": "c8b8d781",
   "metadata": {},
   "outputs": [],
   "source": [
    "import string\n",
    "from nltk.tokenize import word_tokenize\n",
    "from nltk.corpus import stopwords \n",
    "from nltk.stem import WordNetLemmatizer"
   ]
  },
  {
   "cell_type": "code",
   "execution_count": 11,
   "id": "1e72a118",
   "metadata": {},
   "outputs": [],
   "source": [
    "def cleaning(sentence):\n",
    "    if isinstance(sentence, str):\n",
    "    # Basic cleaning\n",
    "        sentence = sentence.strip() ## remove whitespaces\n",
    "        sentence = sentence.lower() ## lowercase \n",
    "        sentence = ''.join(char for char in sentence if not char.isdigit()) ## remove numbers\n",
    "\n",
    "        # Advanced cleaning\n",
    "        for punctuation in string.punctuation:\n",
    "            sentence = sentence.replace(punctuation, '') ## remove punctuation\n",
    "\n",
    "        tokenized_sentence = word_tokenize(sentence) ## tokenize \n",
    "        stop_words = set(stopwords.words('english')) ## define stopwords\n",
    "\n",
    "        tokenized_sentence_cleaned = [ ## remove stopwords\n",
    "            w for w in tokenized_sentence if not w in stop_words\n",
    "        ]\n",
    "\n",
    "        lemmatized = [\n",
    "            WordNetLemmatizer().lemmatize(word, pos = \"v\") \n",
    "            for word in tokenized_sentence_cleaned\n",
    "        ]\n",
    "\n",
    "        cleaned_sentence = ' '.join(word for word in lemmatized)\n",
    "\n",
    "        return cleaned_sentence"
   ]
  },
  {
   "cell_type": "code",
   "execution_count": 12,
   "id": "59f616b0",
   "metadata": {},
   "outputs": [],
   "source": [
    "# merged_df[\"clean_plot\"] = merged_df[\"plot\"].apply(cleaning)"
   ]
  },
  {
   "cell_type": "code",
   "execution_count": 13,
   "id": "7ef657ca",
   "metadata": {},
   "outputs": [],
   "source": [
    "merged_df[\"clean_sypnosis\"] = merged_df[\"sypnosis\"].apply(cleaning)"
   ]
  },
  {
   "cell_type": "code",
   "execution_count": 14,
   "id": "50413baf",
   "metadata": {},
   "outputs": [],
   "source": [
    "merged_df[\"clean_title\"] = merged_df[\"movie\"].apply(cleaning)"
   ]
  },
  {
   "cell_type": "code",
   "execution_count": 15,
   "id": "10898163",
   "metadata": {},
   "outputs": [],
   "source": [
    "merged_df[\"genre\"] = (\n",
    "    merged_df[\"genre\"]\n",
    "    .apply(eval)\n",
    "    .apply(lambda x: [genre.strip() for genre in x])\n",
    "    )"
   ]
  },
  {
   "cell_type": "code",
   "execution_count": 16,
   "id": "4d52b648",
   "metadata": {},
   "outputs": [
    {
     "data": {
      "text/plain": [
       "(4624, 7)"
      ]
     },
     "execution_count": 16,
     "metadata": {},
     "output_type": "execute_result"
    }
   ],
   "source": [
    "merged_df.shape"
   ]
  },
  {
   "cell_type": "code",
   "execution_count": 17,
   "id": "73e35c22",
   "metadata": {},
   "outputs": [],
   "source": [
    "merged_df = merged_df.dropna()"
   ]
  },
  {
   "cell_type": "code",
   "execution_count": 18,
   "id": "9e29471e",
   "metadata": {},
   "outputs": [
    {
     "data": {
      "text/plain": [
       "(4624, 7)"
      ]
     },
     "execution_count": 18,
     "metadata": {},
     "output_type": "execute_result"
    }
   ],
   "source": [
    "merged_df.shape"
   ]
  },
  {
   "cell_type": "code",
   "execution_count": 19,
   "id": "4b65b769",
   "metadata": {},
   "outputs": [
    {
     "data": {
      "text/plain": [
       "Drama        2824\n",
       "Comedy       1495\n",
       "Adventure    1045\n",
       "Action        994\n",
       "Crime         806\n",
       "Romance       647\n",
       "Biography     591\n",
       "Thriller      544\n",
       "Horror        511\n",
       "Mystery       504\n",
       "Animation     405\n",
       "Fantasy       387\n",
       "Sci-Fi        360\n",
       "Family        312\n",
       "History       298\n",
       "Music         261\n",
       "War           201\n",
       "Sport         187\n",
       "Musical       106\n",
       "Western       104\n",
       "Film-Noir      59\n",
       "Name: genre, dtype: int64"
      ]
     },
     "execution_count": 19,
     "metadata": {},
     "output_type": "execute_result"
    }
   ],
   "source": [
    "#check the genre we have\n",
    "merged_df[\"genre\"].explode().value_counts()"
   ]
  },
  {
   "cell_type": "code",
   "execution_count": 20,
   "id": "e27ab2ed",
   "metadata": {},
   "outputs": [],
   "source": [
    "from sklearn.preprocessing import MultiLabelBinarizer\n",
    "\n",
    "multilabel_binarizer = MultiLabelBinarizer()\n",
    "multilabel_binarizer.fit(merged_df[\"genre\"])\n",
    "\n",
    "# transform target variable\n",
    "y = multilabel_binarizer.transform(merged_df['genre'])"
   ]
  },
  {
   "cell_type": "code",
   "execution_count": 21,
   "id": "a2503db6",
   "metadata": {
    "jupyter": {
     "outputs_hidden": true
    }
   },
   "outputs": [
    {
     "data": {
      "text/plain": [
       "(4624, 28)"
      ]
     },
     "execution_count": 21,
     "metadata": {},
     "output_type": "execute_result"
    }
   ],
   "source": [
    "genre_names = multilabel_binarizer.classes_\n",
    "\n",
    "# Adding \n",
    "for i in range(len(genre_names)):\n",
    "    merged_df[f\"{genre_names[i]}\"] = y[:,i]\n",
    "\n",
    "merged_df.shape"
   ]
  },
  {
   "cell_type": "code",
   "execution_count": 22,
   "id": "946d9b1f",
   "metadata": {},
   "outputs": [
    {
     "data": {
      "text/html": [
       "<div>\n",
       "<style scoped>\n",
       "    .dataframe tbody tr th:only-of-type {\n",
       "        vertical-align: middle;\n",
       "    }\n",
       "\n",
       "    .dataframe tbody tr th {\n",
       "        vertical-align: top;\n",
       "    }\n",
       "\n",
       "    .dataframe thead th {\n",
       "        text-align: right;\n",
       "    }\n",
       "</style>\n",
       "<table border=\"1\" class=\"dataframe\">\n",
       "  <thead>\n",
       "    <tr style=\"text-align: right;\">\n",
       "      <th></th>\n",
       "      <th>movie</th>\n",
       "      <th>imdb_id</th>\n",
       "      <th>genre</th>\n",
       "      <th>image_url</th>\n",
       "      <th>sypnosis</th>\n",
       "      <th>clean_sypnosis</th>\n",
       "      <th>clean_title</th>\n",
       "      <th>Action</th>\n",
       "      <th>Adventure</th>\n",
       "      <th>Animation</th>\n",
       "      <th>...</th>\n",
       "      <th>Horror</th>\n",
       "      <th>Music</th>\n",
       "      <th>Musical</th>\n",
       "      <th>Mystery</th>\n",
       "      <th>Romance</th>\n",
       "      <th>Sci-Fi</th>\n",
       "      <th>Sport</th>\n",
       "      <th>Thriller</th>\n",
       "      <th>War</th>\n",
       "      <th>Western</th>\n",
       "    </tr>\n",
       "  </thead>\n",
       "  <tbody>\n",
       "    <tr>\n",
       "      <th>0</th>\n",
       "      <td>Ramayana: The Legend of Prince Rama</td>\n",
       "      <td>tt0259534</td>\n",
       "      <td>[Animation, Action, Adventure]</td>\n",
       "      <td>http://img.omdbapi.com/?i=tt0259534&amp;h=600&amp;apik...</td>\n",
       "      <td>An anime adaptation of the Hindu epic the Rama...</td>\n",
       "      <td>anime adaptation hindu epic ramayana lord ram ...</td>\n",
       "      <td>ramayana legend prince rama</td>\n",
       "      <td>1</td>\n",
       "      <td>1</td>\n",
       "      <td>1</td>\n",
       "      <td>...</td>\n",
       "      <td>0</td>\n",
       "      <td>0</td>\n",
       "      <td>0</td>\n",
       "      <td>0</td>\n",
       "      <td>0</td>\n",
       "      <td>0</td>\n",
       "      <td>0</td>\n",
       "      <td>0</td>\n",
       "      <td>0</td>\n",
       "      <td>0</td>\n",
       "    </tr>\n",
       "    <tr>\n",
       "      <th>1</th>\n",
       "      <td>The Dark Knight</td>\n",
       "      <td>tt0468569</td>\n",
       "      <td>[Action, Crime, Drama]</td>\n",
       "      <td>http://img.omdbapi.com/?i=tt0468569&amp;h=600&amp;apik...</td>\n",
       "      <td>When the menace known as the Joker wreaks havo...</td>\n",
       "      <td>menace know joker wreak havoc chaos people got...</td>\n",
       "      <td>dark knight</td>\n",
       "      <td>1</td>\n",
       "      <td>0</td>\n",
       "      <td>0</td>\n",
       "      <td>...</td>\n",
       "      <td>0</td>\n",
       "      <td>0</td>\n",
       "      <td>0</td>\n",
       "      <td>0</td>\n",
       "      <td>0</td>\n",
       "      <td>0</td>\n",
       "      <td>0</td>\n",
       "      <td>0</td>\n",
       "      <td>0</td>\n",
       "      <td>0</td>\n",
       "    </tr>\n",
       "    <tr>\n",
       "      <th>2</th>\n",
       "      <td>The Lord of the Rings: The Return of the King</td>\n",
       "      <td>tt0167260</td>\n",
       "      <td>[Action, Adventure, Drama]</td>\n",
       "      <td>http://img.omdbapi.com/?i=tt0167260&amp;h=600&amp;apik...</td>\n",
       "      <td>Gandalf and Aragorn lead the World of Men agai...</td>\n",
       "      <td>gandalf aragorn lead world men saurons army dr...</td>\n",
       "      <td>lord ring return king</td>\n",
       "      <td>1</td>\n",
       "      <td>1</td>\n",
       "      <td>0</td>\n",
       "      <td>...</td>\n",
       "      <td>0</td>\n",
       "      <td>0</td>\n",
       "      <td>0</td>\n",
       "      <td>0</td>\n",
       "      <td>0</td>\n",
       "      <td>0</td>\n",
       "      <td>0</td>\n",
       "      <td>0</td>\n",
       "      <td>0</td>\n",
       "      <td>0</td>\n",
       "    </tr>\n",
       "    <tr>\n",
       "      <th>3</th>\n",
       "      <td>Spider-Man: Across the Spider-Verse</td>\n",
       "      <td>tt9362722</td>\n",
       "      <td>[Animation, Action, Adventure]</td>\n",
       "      <td>http://img.omdbapi.com/?i=tt9362722&amp;h=600&amp;apik...</td>\n",
       "      <td>Miles Morales catapults across the Multiverse,...</td>\n",
       "      <td>miles morales catapult across multiverse encou...</td>\n",
       "      <td>spiderman across spiderverse</td>\n",
       "      <td>1</td>\n",
       "      <td>1</td>\n",
       "      <td>1</td>\n",
       "      <td>...</td>\n",
       "      <td>0</td>\n",
       "      <td>0</td>\n",
       "      <td>0</td>\n",
       "      <td>0</td>\n",
       "      <td>0</td>\n",
       "      <td>0</td>\n",
       "      <td>0</td>\n",
       "      <td>0</td>\n",
       "      <td>0</td>\n",
       "      <td>0</td>\n",
       "    </tr>\n",
       "    <tr>\n",
       "      <th>4</th>\n",
       "      <td>The Message</td>\n",
       "      <td>tt0075143</td>\n",
       "      <td>[Action, Adventure, Biography]</td>\n",
       "      <td>http://img.omdbapi.com/?i=tt0075143&amp;h=600&amp;apik...</td>\n",
       "      <td>The story of prophet \"Muhammad\" and the delive...</td>\n",
       "      <td>story prophet muhammad delivery message god allah</td>\n",
       "      <td>message</td>\n",
       "      <td>1</td>\n",
       "      <td>1</td>\n",
       "      <td>0</td>\n",
       "      <td>...</td>\n",
       "      <td>0</td>\n",
       "      <td>0</td>\n",
       "      <td>0</td>\n",
       "      <td>0</td>\n",
       "      <td>0</td>\n",
       "      <td>0</td>\n",
       "      <td>0</td>\n",
       "      <td>0</td>\n",
       "      <td>0</td>\n",
       "      <td>0</td>\n",
       "    </tr>\n",
       "  </tbody>\n",
       "</table>\n",
       "<p>5 rows × 28 columns</p>\n",
       "</div>"
      ],
      "text/plain": [
       "                                           movie    imdb_id  \\\n",
       "0            Ramayana: The Legend of Prince Rama  tt0259534   \n",
       "1                                The Dark Knight  tt0468569   \n",
       "2  The Lord of the Rings: The Return of the King  tt0167260   \n",
       "3            Spider-Man: Across the Spider-Verse  tt9362722   \n",
       "4                                    The Message  tt0075143   \n",
       "\n",
       "                            genre  \\\n",
       "0  [Animation, Action, Adventure]   \n",
       "1          [Action, Crime, Drama]   \n",
       "2      [Action, Adventure, Drama]   \n",
       "3  [Animation, Action, Adventure]   \n",
       "4  [Action, Adventure, Biography]   \n",
       "\n",
       "                                           image_url  \\\n",
       "0  http://img.omdbapi.com/?i=tt0259534&h=600&apik...   \n",
       "1  http://img.omdbapi.com/?i=tt0468569&h=600&apik...   \n",
       "2  http://img.omdbapi.com/?i=tt0167260&h=600&apik...   \n",
       "3  http://img.omdbapi.com/?i=tt9362722&h=600&apik...   \n",
       "4  http://img.omdbapi.com/?i=tt0075143&h=600&apik...   \n",
       "\n",
       "                                            sypnosis  \\\n",
       "0  An anime adaptation of the Hindu epic the Rama...   \n",
       "1  When the menace known as the Joker wreaks havo...   \n",
       "2  Gandalf and Aragorn lead the World of Men agai...   \n",
       "3  Miles Morales catapults across the Multiverse,...   \n",
       "4  The story of prophet \"Muhammad\" and the delive...   \n",
       "\n",
       "                                      clean_sypnosis  \\\n",
       "0  anime adaptation hindu epic ramayana lord ram ...   \n",
       "1  menace know joker wreak havoc chaos people got...   \n",
       "2  gandalf aragorn lead world men saurons army dr...   \n",
       "3  miles morales catapult across multiverse encou...   \n",
       "4  story prophet muhammad delivery message god allah   \n",
       "\n",
       "                    clean_title  Action  Adventure  Animation  ...  Horror  \\\n",
       "0   ramayana legend prince rama       1          1          1  ...       0   \n",
       "1                   dark knight       1          0          0  ...       0   \n",
       "2         lord ring return king       1          1          0  ...       0   \n",
       "3  spiderman across spiderverse       1          1          1  ...       0   \n",
       "4                       message       1          1          0  ...       0   \n",
       "\n",
       "   Music  Musical  Mystery  Romance  Sci-Fi  Sport  Thriller  War  Western  \n",
       "0      0        0        0        0       0      0         0    0        0  \n",
       "1      0        0        0        0       0      0         0    0        0  \n",
       "2      0        0        0        0       0      0         0    0        0  \n",
       "3      0        0        0        0       0      0         0    0        0  \n",
       "4      0        0        0        0       0      0         0    0        0  \n",
       "\n",
       "[5 rows x 28 columns]"
      ]
     },
     "execution_count": 22,
     "metadata": {},
     "output_type": "execute_result"
    }
   ],
   "source": [
    "merged_df.head(5)"
   ]
  },
  {
   "cell_type": "code",
   "execution_count": 23,
   "id": "16a2d2db",
   "metadata": {},
   "outputs": [],
   "source": [
    "# from imblearn.under_sampling import RandomUnderSampler\n",
    "# from sklearn.datasets import make_classification\n",
    "# from collections import Counter\n",
    "\n",
    "# # Generate a sample imbalanced dataset\n",
    "# X, y = make_classification(n_classes=2, class_sep=2, weights=[0.1, 0.9], n_informative=3, n_redundant=1, flip_y=0, n_features=20, n_clusters_per_class=1, n_samples=1000, random_state=10)\n",
    "\n",
    "# # Count the class distribution before undersampling\n",
    "# print(\"Class distribution before undersampling:\", Counter(y))\n",
    "\n",
    "# # Apply random undersampling\n",
    "# rus = RandomUnderSampler(random_state=42)\n",
    "# X_resampled, y_resampled = rus.fit_resample(X, y)\n",
    "\n",
    "# # Count the class distribution after undersampling\n",
    "# print(\"Class distribution after undersampling:\", Counter(y_resampled))"
   ]
  },
  {
   "cell_type": "code",
   "execution_count": 24,
   "id": "aff75b9a",
   "metadata": {},
   "outputs": [],
   "source": [
    "# X = merged_df[[\"clean_sypnosis\",\"clean_title\"]]\n",
    "# y = merged_df.drop(columns=[\"movie\",\"imdb_id\",\"genre\",\"image_url\",\"sypnosis\",\"clean_sypnosis\",\"clean_title\"])"
   ]
  },
  {
   "cell_type": "code",
   "execution_count": 25,
   "id": "6dac6d50",
   "metadata": {},
   "outputs": [
    {
     "data": {
      "text/plain": [
       "Drama        1446\n",
       "Comedy        744\n",
       "Action        703\n",
       "Crime         608\n",
       "Adventure     493\n",
       "Horror        490\n",
       "Thriller      480\n",
       "Mystery       475\n",
       "Romance       418\n",
       "Sci-Fi        344\n",
       "Fantasy       284\n",
       "Name: genre, dtype: int64"
      ]
     },
     "execution_count": 25,
     "metadata": {},
     "output_type": "execute_result"
    }
   ],
   "source": [
    "condition1 =  (merged_df['Animation'] == 1) | (merged_df['Music'] == 1)  | (merged_df['Biography'] == 1) | (merged_df['Sport'] == 1) |(merged_df['Musical'] == 1) |(merged_df['War'] == 1)|(merged_df['Western'] == 1)|(merged_df['History'] == 1)|(merged_df['Film-Noir'] == 1)|(merged_df['Family'] == 1)\n",
    "\n",
    "rows_to_drop1 = merged_df[condition1].index\n",
    "test_df = merged_df.drop(rows_to_drop1)\n",
    "\n",
    "test_df[\"genre\"].explode().value_counts()"
   ]
  },
  {
   "cell_type": "code",
   "execution_count": 26,
   "id": "02d2ddca",
   "metadata": {},
   "outputs": [
    {
     "data": {
      "text/plain": [
       "Drama        1267\n",
       "Action        586\n",
       "Crime         497\n",
       "Horror        490\n",
       "Thriller      480\n",
       "Mystery       475\n",
       "Romance       418\n",
       "Comedy        383\n",
       "Adventure     359\n",
       "Sci-Fi        344\n",
       "Fantasy       284\n",
       "Name: genre, dtype: int64"
      ]
     },
     "execution_count": 26,
     "metadata": {},
     "output_type": "execute_result"
    }
   ],
   "source": [
    "condition2 = (test_df['Comedy'] == 1)  & (test_df['Romance'] != 1)& (test_df['Thriller'] != 1)& (test_df['Horror'] != 1)& (test_df['Mystery'] != 1)& (test_df['Sci-Fi'] != 1)& (test_df['Fantasy'] != 1)\n",
    "rows_to_drop2 = test_df[condition2].index\n",
    "test_df2 = test_df.drop(rows_to_drop2)\n",
    "\n",
    "   \n",
    "test_df2[\"genre\"].explode().value_counts()"
   ]
  },
  {
   "cell_type": "code",
   "execution_count": 27,
   "id": "98606c53",
   "metadata": {},
   "outputs": [
    {
     "name": "stderr",
     "output_type": "stream",
     "text": [
      "/tmp/ipykernel_639/3571784835.py:3: UserWarning: Boolean Series key will be reindexed to match DataFrame index.\n",
      "  rows_to_drop3 = test_df2[condition3].index\n"
     ]
    },
    {
     "data": {
      "text/plain": [
       "Drama        1174\n",
       "Horror        490\n",
       "Action        485\n",
       "Thriller      480\n",
       "Mystery       475\n",
       "Romance       418\n",
       "Crime         396\n",
       "Comedy        383\n",
       "Adventure     351\n",
       "Sci-Fi        344\n",
       "Fantasy       284\n",
       "Name: genre, dtype: int64"
      ]
     },
     "execution_count": 27,
     "metadata": {},
     "output_type": "execute_result"
    }
   ],
   "source": [
    "condition3 = (test_df2['Action'] == 1)  & (test_df2['Crime'] == 1)  & (test_df['Romance'] != 1)& (test_df['Thriller'] != 1)& (test_df['Horror'] != 1)& (test_df['Mystery'] != 1)& (test_df['Sci-Fi'] != 1)& (test_df['Fantasy'] != 1)\n",
    "# & (test_df['Romance'] != 1)& (test_df['Thriller'] != 1)& (test_df['Biography'] != 1)& (test_df['Horror'] != 1)& (test_df['Mystery'] != 1)& (test_df['Animation'] != 1)& (test_df['Sci-Fi'] != 1)& (test_df['Fantasy'] != 1)& (test_df['History'] != 1)& (test_df['Family'] != 1)& (test_df['Music'] != 1)\n",
    "rows_to_drop3 = test_df2[condition3].index\n",
    "test_df3= test_df2.drop(rows_to_drop3)\n",
    "\n",
    "   \n",
    "test_df3[\"genre\"].explode().value_counts()"
   ]
  },
  {
   "cell_type": "code",
   "execution_count": 28,
   "id": "923e6ede",
   "metadata": {},
   "outputs": [
    {
     "data": {
      "text/plain": [
       "Index(['movie', 'imdb_id', 'genre', 'image_url', 'sypnosis', 'clean_sypnosis',\n",
       "       'clean_title', 'Action', 'Adventure', 'Animation', 'Biography',\n",
       "       'Comedy', 'Crime', 'Drama', 'Family', 'Fantasy', 'Film-Noir', 'History',\n",
       "       'Horror', 'Music', 'Musical', 'Mystery', 'Romance', 'Sci-Fi', 'Sport',\n",
       "       'Thriller', 'War', 'Western'],\n",
       "      dtype='object')"
      ]
     },
     "execution_count": 28,
     "metadata": {},
     "output_type": "execute_result"
    }
   ],
   "source": [
    "test_df3.columns"
   ]
  },
  {
   "cell_type": "code",
   "execution_count": 29,
   "id": "dbbb37f4",
   "metadata": {},
   "outputs": [],
   "source": [
    "no_drama_df = test_df3.drop(columns=[\"Drama\", \"Biography\", \"Family\",\"Film-Noir\",\"History\",\"Music\",\"Musical\",\"Sport\", \"War\", \"Western\", \"Animation\"])"
   ]
  },
  {
   "cell_type": "code",
   "execution_count": 30,
   "id": "ceeb33f2",
   "metadata": {},
   "outputs": [
    {
     "data": {
      "text/plain": [
       "Index(['movie', 'imdb_id', 'genre', 'image_url', 'sypnosis', 'clean_sypnosis',\n",
       "       'clean_title', 'Action', 'Adventure', 'Comedy', 'Crime', 'Fantasy',\n",
       "       'Horror', 'Mystery', 'Romance', 'Sci-Fi', 'Thriller'],\n",
       "      dtype='object')"
      ]
     },
     "execution_count": 30,
     "metadata": {},
     "output_type": "execute_result"
    }
   ],
   "source": [
    "no_drama_df.columns"
   ]
  },
  {
   "cell_type": "code",
   "execution_count": 31,
   "id": "333d4077",
   "metadata": {},
   "outputs": [],
   "source": [
    "condition_null = (no_drama_df['Action'] == 1) | (no_drama_df['Adventure'] == 1) | (no_drama_df['Comedy'] == 1)| (no_drama_df['Crime'] == 1)| (no_drama_df['Fantasy'] == 1)| (no_drama_df['Horror'] == 1)| (no_drama_df['Mystery'] == 1)| (no_drama_df['Romance'] == 1)| (no_drama_df['Sci-Fi'] == 1)| (no_drama_df['Thriller'] == 1)\n",
    "no_drama_df1 =no_drama_df.loc[no_drama_df[condition_null].index]"
   ]
  },
  {
   "cell_type": "code",
   "execution_count": 32,
   "id": "f88b5f4c",
   "metadata": {},
   "outputs": [
    {
     "data": {
      "text/html": [
       "<div>\n",
       "<style scoped>\n",
       "    .dataframe tbody tr th:only-of-type {\n",
       "        vertical-align: middle;\n",
       "    }\n",
       "\n",
       "    .dataframe tbody tr th {\n",
       "        vertical-align: top;\n",
       "    }\n",
       "\n",
       "    .dataframe thead th {\n",
       "        text-align: right;\n",
       "    }\n",
       "</style>\n",
       "<table border=\"1\" class=\"dataframe\">\n",
       "  <thead>\n",
       "    <tr style=\"text-align: right;\">\n",
       "      <th></th>\n",
       "      <th>movie</th>\n",
       "      <th>imdb_id</th>\n",
       "      <th>genre</th>\n",
       "      <th>image_url</th>\n",
       "      <th>sypnosis</th>\n",
       "      <th>clean_sypnosis</th>\n",
       "      <th>clean_title</th>\n",
       "      <th>Action</th>\n",
       "      <th>Adventure</th>\n",
       "      <th>Comedy</th>\n",
       "      <th>Crime</th>\n",
       "      <th>Fantasy</th>\n",
       "      <th>Horror</th>\n",
       "      <th>Mystery</th>\n",
       "      <th>Romance</th>\n",
       "      <th>Sci-Fi</th>\n",
       "      <th>Thriller</th>\n",
       "    </tr>\n",
       "  </thead>\n",
       "  <tbody>\n",
       "    <tr>\n",
       "      <th>2</th>\n",
       "      <td>The Lord of the Rings: The Return of the King</td>\n",
       "      <td>tt0167260</td>\n",
       "      <td>[Action, Adventure, Drama]</td>\n",
       "      <td>http://img.omdbapi.com/?i=tt0167260&amp;h=600&amp;apik...</td>\n",
       "      <td>Gandalf and Aragorn lead the World of Men agai...</td>\n",
       "      <td>gandalf aragorn lead world men saurons army dr...</td>\n",
       "      <td>lord ring return king</td>\n",
       "      <td>1</td>\n",
       "      <td>1</td>\n",
       "      <td>0</td>\n",
       "      <td>0</td>\n",
       "      <td>0</td>\n",
       "      <td>0</td>\n",
       "      <td>0</td>\n",
       "      <td>0</td>\n",
       "      <td>0</td>\n",
       "      <td>0</td>\n",
       "    </tr>\n",
       "    <tr>\n",
       "      <th>5</th>\n",
       "      <td>Inception</td>\n",
       "      <td>tt1375666</td>\n",
       "      <td>[Action, Adventure, Sci-Fi]</td>\n",
       "      <td>http://img.omdbapi.com/?i=tt1375666&amp;h=600&amp;apik...</td>\n",
       "      <td>A thief who steals corporate secrets through t...</td>\n",
       "      <td>thief steal corporate secrets use dreamsharing...</td>\n",
       "      <td>inception</td>\n",
       "      <td>1</td>\n",
       "      <td>1</td>\n",
       "      <td>0</td>\n",
       "      <td>0</td>\n",
       "      <td>0</td>\n",
       "      <td>0</td>\n",
       "      <td>0</td>\n",
       "      <td>0</td>\n",
       "      <td>1</td>\n",
       "      <td>0</td>\n",
       "    </tr>\n",
       "    <tr>\n",
       "      <th>6</th>\n",
       "      <td>The Lord of the Rings: The Fellowship of the Ring</td>\n",
       "      <td>tt0120737</td>\n",
       "      <td>[Action, Adventure, Drama]</td>\n",
       "      <td>http://img.omdbapi.com/?i=tt0120737&amp;h=600&amp;apik...</td>\n",
       "      <td>A meek Hobbit from the Shire and eight compani...</td>\n",
       "      <td>meek hobbit shire eight companion set journey ...</td>\n",
       "      <td>lord ring fellowship ring</td>\n",
       "      <td>1</td>\n",
       "      <td>1</td>\n",
       "      <td>0</td>\n",
       "      <td>0</td>\n",
       "      <td>0</td>\n",
       "      <td>0</td>\n",
       "      <td>0</td>\n",
       "      <td>0</td>\n",
       "      <td>0</td>\n",
       "      <td>0</td>\n",
       "    </tr>\n",
       "    <tr>\n",
       "      <th>7</th>\n",
       "      <td>The Lord of the Rings: The Two Towers</td>\n",
       "      <td>tt0167261</td>\n",
       "      <td>[Action, Adventure, Drama]</td>\n",
       "      <td>http://img.omdbapi.com/?i=tt0167261&amp;h=600&amp;apik...</td>\n",
       "      <td>While Frodo and Sam edge closer to Mordor with...</td>\n",
       "      <td>frodo sam edge closer mordor help shifty gollu...</td>\n",
       "      <td>lord ring two tower</td>\n",
       "      <td>1</td>\n",
       "      <td>1</td>\n",
       "      <td>0</td>\n",
       "      <td>0</td>\n",
       "      <td>0</td>\n",
       "      <td>0</td>\n",
       "      <td>0</td>\n",
       "      <td>0</td>\n",
       "      <td>0</td>\n",
       "      <td>0</td>\n",
       "    </tr>\n",
       "    <tr>\n",
       "      <th>8</th>\n",
       "      <td>Kill Bill: The Whole Bloody Affair</td>\n",
       "      <td>tt6019206</td>\n",
       "      <td>[Action, Crime, Thriller]</td>\n",
       "      <td>http://img.omdbapi.com/?i=tt6019206&amp;h=600&amp;apik...</td>\n",
       "      <td>The Bride must kill her ex-boss and lover Bill...</td>\n",
       "      <td>bride must kill exboss lover bill betray wed r...</td>\n",
       "      <td>kill bill whole bloody affair</td>\n",
       "      <td>1</td>\n",
       "      <td>0</td>\n",
       "      <td>0</td>\n",
       "      <td>1</td>\n",
       "      <td>0</td>\n",
       "      <td>0</td>\n",
       "      <td>0</td>\n",
       "      <td>0</td>\n",
       "      <td>0</td>\n",
       "      <td>1</td>\n",
       "    </tr>\n",
       "    <tr>\n",
       "      <th>...</th>\n",
       "      <td>...</td>\n",
       "      <td>...</td>\n",
       "      <td>...</td>\n",
       "      <td>...</td>\n",
       "      <td>...</td>\n",
       "      <td>...</td>\n",
       "      <td>...</td>\n",
       "      <td>...</td>\n",
       "      <td>...</td>\n",
       "      <td>...</td>\n",
       "      <td>...</td>\n",
       "      <td>...</td>\n",
       "      <td>...</td>\n",
       "      <td>...</td>\n",
       "      <td>...</td>\n",
       "      <td>...</td>\n",
       "      <td>...</td>\n",
       "    </tr>\n",
       "    <tr>\n",
       "      <th>4611</th>\n",
       "      <td>Chaos Walking</td>\n",
       "      <td>tt2076822</td>\n",
       "      <td>[Action, Adventure, Fantasy]</td>\n",
       "      <td>http://img.omdbapi.com/?i=tt2076822&amp;h=600&amp;apik...</td>\n",
       "      <td>Two unlikely companions embark on a perilous a...</td>\n",
       "      <td>two unlikely companion embark perilous adventu...</td>\n",
       "      <td>chaos walk</td>\n",
       "      <td>1</td>\n",
       "      <td>1</td>\n",
       "      <td>0</td>\n",
       "      <td>0</td>\n",
       "      <td>1</td>\n",
       "      <td>0</td>\n",
       "      <td>0</td>\n",
       "      <td>0</td>\n",
       "      <td>0</td>\n",
       "      <td>0</td>\n",
       "    </tr>\n",
       "    <tr>\n",
       "      <th>4614</th>\n",
       "      <td>The Dark Tower</td>\n",
       "      <td>tt1648190</td>\n",
       "      <td>[Action, Adventure, Fantasy]</td>\n",
       "      <td>http://img.omdbapi.com/?i=tt1648190&amp;h=600&amp;apik...</td>\n",
       "      <td>A boy haunted by visions of a dark tower from ...</td>\n",
       "      <td>boy haunt visions dark tower parallel reality ...</td>\n",
       "      <td>dark tower</td>\n",
       "      <td>1</td>\n",
       "      <td>1</td>\n",
       "      <td>0</td>\n",
       "      <td>0</td>\n",
       "      <td>1</td>\n",
       "      <td>0</td>\n",
       "      <td>0</td>\n",
       "      <td>0</td>\n",
       "      <td>0</td>\n",
       "      <td>0</td>\n",
       "    </tr>\n",
       "    <tr>\n",
       "      <th>4619</th>\n",
       "      <td>Bad Girls</td>\n",
       "      <td>tt0109198</td>\n",
       "      <td>[Action, Adventure, Drama]</td>\n",
       "      <td>http://img.omdbapi.com/?i=tt0109198&amp;h=600&amp;apik...</td>\n",
       "      <td>Four prostitutes join together to travel the O...</td>\n",
       "      <td>four prostitute join together travel old west ...</td>\n",
       "      <td>bad girls</td>\n",
       "      <td>1</td>\n",
       "      <td>1</td>\n",
       "      <td>0</td>\n",
       "      <td>0</td>\n",
       "      <td>0</td>\n",
       "      <td>0</td>\n",
       "      <td>0</td>\n",
       "      <td>0</td>\n",
       "      <td>0</td>\n",
       "      <td>0</td>\n",
       "    </tr>\n",
       "    <tr>\n",
       "      <th>4621</th>\n",
       "      <td>Wild Wild West</td>\n",
       "      <td>tt0120891</td>\n",
       "      <td>[Action, Comedy, Sci-Fi]</td>\n",
       "      <td>http://img.omdbapi.com/?i=tt0120891&amp;h=600&amp;apik...</td>\n",
       "      <td>The two best special agents in the Wild West m...</td>\n",
       "      <td>two best special agents wild west must save pr...</td>\n",
       "      <td>wild wild west</td>\n",
       "      <td>1</td>\n",
       "      <td>0</td>\n",
       "      <td>1</td>\n",
       "      <td>0</td>\n",
       "      <td>0</td>\n",
       "      <td>0</td>\n",
       "      <td>0</td>\n",
       "      <td>0</td>\n",
       "      <td>1</td>\n",
       "      <td>0</td>\n",
       "    </tr>\n",
       "    <tr>\n",
       "      <th>4623</th>\n",
       "      <td>Jonah Hex</td>\n",
       "      <td>tt1075747</td>\n",
       "      <td>[Action, Drama, Fantasy]</td>\n",
       "      <td>http://img.omdbapi.com/?i=tt1075747&amp;h=600&amp;apik...</td>\n",
       "      <td>The U.S. military makes a scarred bounty hunte...</td>\n",
       "      <td>us military make scar bounty hunter warrant he...</td>\n",
       "      <td>jonah hex</td>\n",
       "      <td>1</td>\n",
       "      <td>0</td>\n",
       "      <td>0</td>\n",
       "      <td>0</td>\n",
       "      <td>1</td>\n",
       "      <td>0</td>\n",
       "      <td>0</td>\n",
       "      <td>0</td>\n",
       "      <td>0</td>\n",
       "      <td>0</td>\n",
       "    </tr>\n",
       "  </tbody>\n",
       "</table>\n",
       "<p>1925 rows × 17 columns</p>\n",
       "</div>"
      ],
      "text/plain": [
       "                                                  movie    imdb_id  \\\n",
       "2         The Lord of the Rings: The Return of the King  tt0167260   \n",
       "5                                             Inception  tt1375666   \n",
       "6     The Lord of the Rings: The Fellowship of the Ring  tt0120737   \n",
       "7                 The Lord of the Rings: The Two Towers  tt0167261   \n",
       "8                    Kill Bill: The Whole Bloody Affair  tt6019206   \n",
       "...                                                 ...        ...   \n",
       "4611                                      Chaos Walking  tt2076822   \n",
       "4614                                     The Dark Tower  tt1648190   \n",
       "4619                                          Bad Girls  tt0109198   \n",
       "4621                                     Wild Wild West  tt0120891   \n",
       "4623                                          Jonah Hex  tt1075747   \n",
       "\n",
       "                             genre  \\\n",
       "2       [Action, Adventure, Drama]   \n",
       "5      [Action, Adventure, Sci-Fi]   \n",
       "6       [Action, Adventure, Drama]   \n",
       "7       [Action, Adventure, Drama]   \n",
       "8        [Action, Crime, Thriller]   \n",
       "...                            ...   \n",
       "4611  [Action, Adventure, Fantasy]   \n",
       "4614  [Action, Adventure, Fantasy]   \n",
       "4619    [Action, Adventure, Drama]   \n",
       "4621      [Action, Comedy, Sci-Fi]   \n",
       "4623      [Action, Drama, Fantasy]   \n",
       "\n",
       "                                              image_url  \\\n",
       "2     http://img.omdbapi.com/?i=tt0167260&h=600&apik...   \n",
       "5     http://img.omdbapi.com/?i=tt1375666&h=600&apik...   \n",
       "6     http://img.omdbapi.com/?i=tt0120737&h=600&apik...   \n",
       "7     http://img.omdbapi.com/?i=tt0167261&h=600&apik...   \n",
       "8     http://img.omdbapi.com/?i=tt6019206&h=600&apik...   \n",
       "...                                                 ...   \n",
       "4611  http://img.omdbapi.com/?i=tt2076822&h=600&apik...   \n",
       "4614  http://img.omdbapi.com/?i=tt1648190&h=600&apik...   \n",
       "4619  http://img.omdbapi.com/?i=tt0109198&h=600&apik...   \n",
       "4621  http://img.omdbapi.com/?i=tt0120891&h=600&apik...   \n",
       "4623  http://img.omdbapi.com/?i=tt1075747&h=600&apik...   \n",
       "\n",
       "                                               sypnosis  \\\n",
       "2     Gandalf and Aragorn lead the World of Men agai...   \n",
       "5     A thief who steals corporate secrets through t...   \n",
       "6     A meek Hobbit from the Shire and eight compani...   \n",
       "7     While Frodo and Sam edge closer to Mordor with...   \n",
       "8     The Bride must kill her ex-boss and lover Bill...   \n",
       "...                                                 ...   \n",
       "4611  Two unlikely companions embark on a perilous a...   \n",
       "4614  A boy haunted by visions of a dark tower from ...   \n",
       "4619  Four prostitutes join together to travel the O...   \n",
       "4621  The two best special agents in the Wild West m...   \n",
       "4623  The U.S. military makes a scarred bounty hunte...   \n",
       "\n",
       "                                         clean_sypnosis  \\\n",
       "2     gandalf aragorn lead world men saurons army dr...   \n",
       "5     thief steal corporate secrets use dreamsharing...   \n",
       "6     meek hobbit shire eight companion set journey ...   \n",
       "7     frodo sam edge closer mordor help shifty gollu...   \n",
       "8     bride must kill exboss lover bill betray wed r...   \n",
       "...                                                 ...   \n",
       "4611  two unlikely companion embark perilous adventu...   \n",
       "4614  boy haunt visions dark tower parallel reality ...   \n",
       "4619  four prostitute join together travel old west ...   \n",
       "4621  two best special agents wild west must save pr...   \n",
       "4623  us military make scar bounty hunter warrant he...   \n",
       "\n",
       "                        clean_title  Action  Adventure  Comedy  Crime  \\\n",
       "2             lord ring return king       1          1       0      0   \n",
       "5                         inception       1          1       0      0   \n",
       "6         lord ring fellowship ring       1          1       0      0   \n",
       "7               lord ring two tower       1          1       0      0   \n",
       "8     kill bill whole bloody affair       1          0       0      1   \n",
       "...                             ...     ...        ...     ...    ...   \n",
       "4611                     chaos walk       1          1       0      0   \n",
       "4614                     dark tower       1          1       0      0   \n",
       "4619                      bad girls       1          1       0      0   \n",
       "4621                 wild wild west       1          0       1      0   \n",
       "4623                      jonah hex       1          0       0      0   \n",
       "\n",
       "      Fantasy  Horror  Mystery  Romance  Sci-Fi  Thriller  \n",
       "2           0       0        0        0       0         0  \n",
       "5           0       0        0        0       1         0  \n",
       "6           0       0        0        0       0         0  \n",
       "7           0       0        0        0       0         0  \n",
       "8           0       0        0        0       0         1  \n",
       "...       ...     ...      ...      ...     ...       ...  \n",
       "4611        1       0        0        0       0         0  \n",
       "4614        1       0        0        0       0         0  \n",
       "4619        0       0        0        0       0         0  \n",
       "4621        0       0        0        0       1         0  \n",
       "4623        1       0        0        0       0         0  \n",
       "\n",
       "[1925 rows x 17 columns]"
      ]
     },
     "execution_count": 32,
     "metadata": {},
     "output_type": "execute_result"
    }
   ],
   "source": [
    "no_drama_df1"
   ]
  },
  {
   "cell_type": "code",
   "execution_count": 33,
   "id": "440c820b",
   "metadata": {},
   "outputs": [],
   "source": [
    "no_drama_df1.reset_index(inplace=True)"
   ]
  },
  {
   "cell_type": "code",
   "execution_count": 34,
   "id": "187c28a0",
   "metadata": {},
   "outputs": [],
   "source": [
    "no_drama_df1 = no_drama_df1.drop(columns=[\"index\"])"
   ]
  },
  {
   "cell_type": "code",
   "execution_count": 35,
   "id": "02cfcbf8",
   "metadata": {},
   "outputs": [
    {
     "data": {
      "text/html": [
       "<div>\n",
       "<style scoped>\n",
       "    .dataframe tbody tr th:only-of-type {\n",
       "        vertical-align: middle;\n",
       "    }\n",
       "\n",
       "    .dataframe tbody tr th {\n",
       "        vertical-align: top;\n",
       "    }\n",
       "\n",
       "    .dataframe thead th {\n",
       "        text-align: right;\n",
       "    }\n",
       "</style>\n",
       "<table border=\"1\" class=\"dataframe\">\n",
       "  <thead>\n",
       "    <tr style=\"text-align: right;\">\n",
       "      <th></th>\n",
       "      <th>movie</th>\n",
       "      <th>imdb_id</th>\n",
       "      <th>genre</th>\n",
       "      <th>image_url</th>\n",
       "      <th>sypnosis</th>\n",
       "      <th>clean_sypnosis</th>\n",
       "      <th>clean_title</th>\n",
       "      <th>Action</th>\n",
       "      <th>Adventure</th>\n",
       "      <th>Comedy</th>\n",
       "      <th>Crime</th>\n",
       "      <th>Fantasy</th>\n",
       "      <th>Horror</th>\n",
       "      <th>Mystery</th>\n",
       "      <th>Romance</th>\n",
       "      <th>Sci-Fi</th>\n",
       "      <th>Thriller</th>\n",
       "    </tr>\n",
       "  </thead>\n",
       "  <tbody>\n",
       "    <tr>\n",
       "      <th>0</th>\n",
       "      <td>The Lord of the Rings: The Return of the King</td>\n",
       "      <td>tt0167260</td>\n",
       "      <td>[Action, Adventure, Drama]</td>\n",
       "      <td>http://img.omdbapi.com/?i=tt0167260&amp;h=600&amp;apik...</td>\n",
       "      <td>Gandalf and Aragorn lead the World of Men agai...</td>\n",
       "      <td>gandalf aragorn lead world men saurons army dr...</td>\n",
       "      <td>lord ring return king</td>\n",
       "      <td>1</td>\n",
       "      <td>1</td>\n",
       "      <td>0</td>\n",
       "      <td>0</td>\n",
       "      <td>0</td>\n",
       "      <td>0</td>\n",
       "      <td>0</td>\n",
       "      <td>0</td>\n",
       "      <td>0</td>\n",
       "      <td>0</td>\n",
       "    </tr>\n",
       "    <tr>\n",
       "      <th>1</th>\n",
       "      <td>Inception</td>\n",
       "      <td>tt1375666</td>\n",
       "      <td>[Action, Adventure, Sci-Fi]</td>\n",
       "      <td>http://img.omdbapi.com/?i=tt1375666&amp;h=600&amp;apik...</td>\n",
       "      <td>A thief who steals corporate secrets through t...</td>\n",
       "      <td>thief steal corporate secrets use dreamsharing...</td>\n",
       "      <td>inception</td>\n",
       "      <td>1</td>\n",
       "      <td>1</td>\n",
       "      <td>0</td>\n",
       "      <td>0</td>\n",
       "      <td>0</td>\n",
       "      <td>0</td>\n",
       "      <td>0</td>\n",
       "      <td>0</td>\n",
       "      <td>1</td>\n",
       "      <td>0</td>\n",
       "    </tr>\n",
       "    <tr>\n",
       "      <th>2</th>\n",
       "      <td>The Lord of the Rings: The Fellowship of the Ring</td>\n",
       "      <td>tt0120737</td>\n",
       "      <td>[Action, Adventure, Drama]</td>\n",
       "      <td>http://img.omdbapi.com/?i=tt0120737&amp;h=600&amp;apik...</td>\n",
       "      <td>A meek Hobbit from the Shire and eight compani...</td>\n",
       "      <td>meek hobbit shire eight companion set journey ...</td>\n",
       "      <td>lord ring fellowship ring</td>\n",
       "      <td>1</td>\n",
       "      <td>1</td>\n",
       "      <td>0</td>\n",
       "      <td>0</td>\n",
       "      <td>0</td>\n",
       "      <td>0</td>\n",
       "      <td>0</td>\n",
       "      <td>0</td>\n",
       "      <td>0</td>\n",
       "      <td>0</td>\n",
       "    </tr>\n",
       "  </tbody>\n",
       "</table>\n",
       "</div>"
      ],
      "text/plain": [
       "                                               movie    imdb_id  \\\n",
       "0      The Lord of the Rings: The Return of the King  tt0167260   \n",
       "1                                          Inception  tt1375666   \n",
       "2  The Lord of the Rings: The Fellowship of the Ring  tt0120737   \n",
       "\n",
       "                         genre  \\\n",
       "0   [Action, Adventure, Drama]   \n",
       "1  [Action, Adventure, Sci-Fi]   \n",
       "2   [Action, Adventure, Drama]   \n",
       "\n",
       "                                           image_url  \\\n",
       "0  http://img.omdbapi.com/?i=tt0167260&h=600&apik...   \n",
       "1  http://img.omdbapi.com/?i=tt1375666&h=600&apik...   \n",
       "2  http://img.omdbapi.com/?i=tt0120737&h=600&apik...   \n",
       "\n",
       "                                            sypnosis  \\\n",
       "0  Gandalf and Aragorn lead the World of Men agai...   \n",
       "1  A thief who steals corporate secrets through t...   \n",
       "2  A meek Hobbit from the Shire and eight compani...   \n",
       "\n",
       "                                      clean_sypnosis  \\\n",
       "0  gandalf aragorn lead world men saurons army dr...   \n",
       "1  thief steal corporate secrets use dreamsharing...   \n",
       "2  meek hobbit shire eight companion set journey ...   \n",
       "\n",
       "                 clean_title  Action  Adventure  Comedy  Crime  Fantasy  \\\n",
       "0      lord ring return king       1          1       0      0        0   \n",
       "1                  inception       1          1       0      0        0   \n",
       "2  lord ring fellowship ring       1          1       0      0        0   \n",
       "\n",
       "   Horror  Mystery  Romance  Sci-Fi  Thriller  \n",
       "0       0        0        0       0         0  \n",
       "1       0        0        0       1         0  \n",
       "2       0        0        0       0         0  "
      ]
     },
     "execution_count": 35,
     "metadata": {},
     "output_type": "execute_result"
    }
   ],
   "source": [
    "no_drama_df1.head(3)"
   ]
  },
  {
   "cell_type": "code",
   "execution_count": 36,
   "id": "da782e68",
   "metadata": {},
   "outputs": [],
   "source": [
    "no_drama_df1.to_csv(\"filtered.csv\")"
   ]
  },
  {
   "cell_type": "code",
   "execution_count": 37,
   "id": "1098f1c2",
   "metadata": {},
   "outputs": [
    {
     "data": {
      "text/plain": [
       "Drama        1112\n",
       "Horror        490\n",
       "Action        485\n",
       "Thriller      480\n",
       "Mystery       475\n",
       "Romance       418\n",
       "Crime         396\n",
       "Comedy        383\n",
       "Adventure     351\n",
       "Sci-Fi        344\n",
       "Fantasy       284\n",
       "Name: genre, dtype: int64"
      ]
     },
     "execution_count": 37,
     "metadata": {},
     "output_type": "execute_result"
    }
   ],
   "source": [
    "no_drama_df1[\"genre\"].explode().value_counts()"
   ]
  },
  {
   "cell_type": "code",
   "execution_count": 38,
   "id": "9974b307",
   "metadata": {},
   "outputs": [],
   "source": [
    "# condition = (merged_df['Drama'] == 1) & (merged_df['Comedy'] == 1)\n",
    "# rows_to_drop = merged_df[condition].head(500).index\n",
    "# balancing_df = merged_df.drop(rows_to_drop)\n",
    "# balancing_df.shape\n",
    "# balancing_df[\"genre\"].explode().value_counts()"
   ]
  },
  {
   "cell_type": "code",
   "execution_count": 39,
   "id": "5b09062d",
   "metadata": {},
   "outputs": [],
   "source": [
    "# condition1 = (merged_df['Drama'] == 1)&(merged_df['Romance'] != 1)& (merged_df['Sci-Fi'] != 1)& (merged_df['Fantasy'] != 1)\n",
    "# # & (merged_df['Crime'] != 1)& (merged_df['Romance'] != 1)& (merged_df['Thriller'] != 1)& (merged_df['Biography'] != 1)& (merged_df['Horror'] != 1)& (merged_df['Mystery'] != 1)& (merged_df['Animation'] != 1)& (merged_df['Sci-Fi'] != 1)& (merged_df['Fantasy'] != 1)& (merged_df['History'] != 1)& (merged_df['Family'] != 1)& (merged_df['Music'] != 1)\n",
    "# # & (merged_df['War'] == 1)& (merged_df['Sport'] == 1)& (merged_df['Western'] == 1)& (merged_df['Musical'] == 1)& (merged_df['Film-Noir'] == 1)\n",
    "# # & (merged_df['Adventure'] == 1)& (merged_df['Action'] != 1)\n",
    "# # & (merged_df['Comedy'] != 1)\n",
    "\n",
    "# rows_to_drop1 = merged_df[condition1].index\n",
    "# # .head(1000).index\n",
    "# test_df = merged_df.drop(rows_to_drop1)\n",
    "\n",
    "\n",
    "   \n",
    "# test_df[\"genre\"].explode().value_counts()"
   ]
  },
  {
   "cell_type": "code",
   "execution_count": 40,
   "id": "02088179",
   "metadata": {},
   "outputs": [],
   "source": [
    "# condition2 = (test_df['Comedy'] == 1)  & (test_df['Adventure'] == 1)\n",
    "# # & (test_df['Romance'] != 1)& (test_df['Thriller'] != 1)& (test_df['Biography'] != 1)& (test_df['Horror'] != 1)& (test_df['Mystery'] != 1)& (test_df['Animation'] != 1)& (test_df['Sci-Fi'] != 1)& (test_df['Fantasy'] != 1)& (test_df['History'] != 1)& (test_df['Family'] != 1)& (test_df['Music'] != 1)\n",
    "# rows_to_drop2 = test_df[condition2].index\n",
    "# test_df2 = test_df.drop(rows_to_drop2)\n",
    "\n",
    "   \n",
    "# test_df2[\"genre\"].explode().value_counts()"
   ]
  },
  {
   "cell_type": "code",
   "execution_count": 41,
   "id": "fd932a99",
   "metadata": {},
   "outputs": [],
   "source": [
    "# condition3 = (test_df['Music'] == 1) | (test_df['Biography'] == 1) | (test_df['Sport'] == 1) |(test_df['Musical'] == 1) |(test_df['War'] == 1)|(test_df['Western'] == 1)|(test_df['History'] == 1)|(test_df['Film-Noir'] == 1)|(test_df['Family'] == 1)\n",
    "\n",
    "# rows_to_drop3 = test_df[condition3].index\n",
    "# test_df3 = test_df.drop(rows_to_drop3)\n",
    "\n",
    "   \n",
    "# test_df3[\"genre\"].explode().value_counts()"
   ]
  },
  {
   "cell_type": "code",
   "execution_count": 42,
   "id": "e59a4d60",
   "metadata": {},
   "outputs": [],
   "source": [
    "# condition2 = (balancing_df['Drama'] == 1)\n",
    "# rows_to_drop = balancing_df[condition2].head(500).index\n",
    "# balancing_df2 = balancing_df.drop(rows_to_drop)\n",
    "# balancing_df2[\"genre\"].explode().value_counts()"
   ]
  },
  {
   "cell_type": "code",
   "execution_count": 43,
   "id": "1bcf3299",
   "metadata": {},
   "outputs": [
    {
     "data": {
      "text/html": [
       "<div>\n",
       "<style scoped>\n",
       "    .dataframe tbody tr th:only-of-type {\n",
       "        vertical-align: middle;\n",
       "    }\n",
       "\n",
       "    .dataframe tbody tr th {\n",
       "        vertical-align: top;\n",
       "    }\n",
       "\n",
       "    .dataframe thead th {\n",
       "        text-align: right;\n",
       "    }\n",
       "</style>\n",
       "<table border=\"1\" class=\"dataframe\">\n",
       "  <thead>\n",
       "    <tr style=\"text-align: right;\">\n",
       "      <th></th>\n",
       "      <th>movie</th>\n",
       "      <th>imdb_id</th>\n",
       "      <th>genre</th>\n",
       "      <th>image_url</th>\n",
       "      <th>sypnosis</th>\n",
       "      <th>clean_sypnosis</th>\n",
       "      <th>clean_title</th>\n",
       "      <th>Action</th>\n",
       "      <th>Adventure</th>\n",
       "      <th>Comedy</th>\n",
       "      <th>Crime</th>\n",
       "      <th>Fantasy</th>\n",
       "      <th>Horror</th>\n",
       "      <th>Mystery</th>\n",
       "      <th>Romance</th>\n",
       "      <th>Sci-Fi</th>\n",
       "      <th>Thriller</th>\n",
       "    </tr>\n",
       "  </thead>\n",
       "  <tbody>\n",
       "    <tr>\n",
       "      <th>0</th>\n",
       "      <td>The Lord of the Rings: The Return of the King</td>\n",
       "      <td>tt0167260</td>\n",
       "      <td>[Action, Adventure, Drama]</td>\n",
       "      <td>http://img.omdbapi.com/?i=tt0167260&amp;h=600&amp;apik...</td>\n",
       "      <td>Gandalf and Aragorn lead the World of Men agai...</td>\n",
       "      <td>gandalf aragorn lead world men saurons army dr...</td>\n",
       "      <td>lord ring return king</td>\n",
       "      <td>1</td>\n",
       "      <td>1</td>\n",
       "      <td>0</td>\n",
       "      <td>0</td>\n",
       "      <td>0</td>\n",
       "      <td>0</td>\n",
       "      <td>0</td>\n",
       "      <td>0</td>\n",
       "      <td>0</td>\n",
       "      <td>0</td>\n",
       "    </tr>\n",
       "    <tr>\n",
       "      <th>1</th>\n",
       "      <td>Inception</td>\n",
       "      <td>tt1375666</td>\n",
       "      <td>[Action, Adventure, Sci-Fi]</td>\n",
       "      <td>http://img.omdbapi.com/?i=tt1375666&amp;h=600&amp;apik...</td>\n",
       "      <td>A thief who steals corporate secrets through t...</td>\n",
       "      <td>thief steal corporate secrets use dreamsharing...</td>\n",
       "      <td>inception</td>\n",
       "      <td>1</td>\n",
       "      <td>1</td>\n",
       "      <td>0</td>\n",
       "      <td>0</td>\n",
       "      <td>0</td>\n",
       "      <td>0</td>\n",
       "      <td>0</td>\n",
       "      <td>0</td>\n",
       "      <td>1</td>\n",
       "      <td>0</td>\n",
       "    </tr>\n",
       "    <tr>\n",
       "      <th>2</th>\n",
       "      <td>The Lord of the Rings: The Fellowship of the Ring</td>\n",
       "      <td>tt0120737</td>\n",
       "      <td>[Action, Adventure, Drama]</td>\n",
       "      <td>http://img.omdbapi.com/?i=tt0120737&amp;h=600&amp;apik...</td>\n",
       "      <td>A meek Hobbit from the Shire and eight compani...</td>\n",
       "      <td>meek hobbit shire eight companion set journey ...</td>\n",
       "      <td>lord ring fellowship ring</td>\n",
       "      <td>1</td>\n",
       "      <td>1</td>\n",
       "      <td>0</td>\n",
       "      <td>0</td>\n",
       "      <td>0</td>\n",
       "      <td>0</td>\n",
       "      <td>0</td>\n",
       "      <td>0</td>\n",
       "      <td>0</td>\n",
       "      <td>0</td>\n",
       "    </tr>\n",
       "    <tr>\n",
       "      <th>3</th>\n",
       "      <td>The Lord of the Rings: The Two Towers</td>\n",
       "      <td>tt0167261</td>\n",
       "      <td>[Action, Adventure, Drama]</td>\n",
       "      <td>http://img.omdbapi.com/?i=tt0167261&amp;h=600&amp;apik...</td>\n",
       "      <td>While Frodo and Sam edge closer to Mordor with...</td>\n",
       "      <td>frodo sam edge closer mordor help shifty gollu...</td>\n",
       "      <td>lord ring two tower</td>\n",
       "      <td>1</td>\n",
       "      <td>1</td>\n",
       "      <td>0</td>\n",
       "      <td>0</td>\n",
       "      <td>0</td>\n",
       "      <td>0</td>\n",
       "      <td>0</td>\n",
       "      <td>0</td>\n",
       "      <td>0</td>\n",
       "      <td>0</td>\n",
       "    </tr>\n",
       "    <tr>\n",
       "      <th>4</th>\n",
       "      <td>Kill Bill: The Whole Bloody Affair</td>\n",
       "      <td>tt6019206</td>\n",
       "      <td>[Action, Crime, Thriller]</td>\n",
       "      <td>http://img.omdbapi.com/?i=tt6019206&amp;h=600&amp;apik...</td>\n",
       "      <td>The Bride must kill her ex-boss and lover Bill...</td>\n",
       "      <td>bride must kill exboss lover bill betray wed r...</td>\n",
       "      <td>kill bill whole bloody affair</td>\n",
       "      <td>1</td>\n",
       "      <td>0</td>\n",
       "      <td>0</td>\n",
       "      <td>1</td>\n",
       "      <td>0</td>\n",
       "      <td>0</td>\n",
       "      <td>0</td>\n",
       "      <td>0</td>\n",
       "      <td>0</td>\n",
       "      <td>1</td>\n",
       "    </tr>\n",
       "  </tbody>\n",
       "</table>\n",
       "</div>"
      ],
      "text/plain": [
       "                                               movie    imdb_id  \\\n",
       "0      The Lord of the Rings: The Return of the King  tt0167260   \n",
       "1                                          Inception  tt1375666   \n",
       "2  The Lord of the Rings: The Fellowship of the Ring  tt0120737   \n",
       "3              The Lord of the Rings: The Two Towers  tt0167261   \n",
       "4                 Kill Bill: The Whole Bloody Affair  tt6019206   \n",
       "\n",
       "                         genre  \\\n",
       "0   [Action, Adventure, Drama]   \n",
       "1  [Action, Adventure, Sci-Fi]   \n",
       "2   [Action, Adventure, Drama]   \n",
       "3   [Action, Adventure, Drama]   \n",
       "4    [Action, Crime, Thriller]   \n",
       "\n",
       "                                           image_url  \\\n",
       "0  http://img.omdbapi.com/?i=tt0167260&h=600&apik...   \n",
       "1  http://img.omdbapi.com/?i=tt1375666&h=600&apik...   \n",
       "2  http://img.omdbapi.com/?i=tt0120737&h=600&apik...   \n",
       "3  http://img.omdbapi.com/?i=tt0167261&h=600&apik...   \n",
       "4  http://img.omdbapi.com/?i=tt6019206&h=600&apik...   \n",
       "\n",
       "                                            sypnosis  \\\n",
       "0  Gandalf and Aragorn lead the World of Men agai...   \n",
       "1  A thief who steals corporate secrets through t...   \n",
       "2  A meek Hobbit from the Shire and eight compani...   \n",
       "3  While Frodo and Sam edge closer to Mordor with...   \n",
       "4  The Bride must kill her ex-boss and lover Bill...   \n",
       "\n",
       "                                      clean_sypnosis  \\\n",
       "0  gandalf aragorn lead world men saurons army dr...   \n",
       "1  thief steal corporate secrets use dreamsharing...   \n",
       "2  meek hobbit shire eight companion set journey ...   \n",
       "3  frodo sam edge closer mordor help shifty gollu...   \n",
       "4  bride must kill exboss lover bill betray wed r...   \n",
       "\n",
       "                     clean_title  Action  Adventure  Comedy  Crime  Fantasy  \\\n",
       "0          lord ring return king       1          1       0      0        0   \n",
       "1                      inception       1          1       0      0        0   \n",
       "2      lord ring fellowship ring       1          1       0      0        0   \n",
       "3            lord ring two tower       1          1       0      0        0   \n",
       "4  kill bill whole bloody affair       1          0       0      1        0   \n",
       "\n",
       "   Horror  Mystery  Romance  Sci-Fi  Thriller  \n",
       "0       0        0        0       0         0  \n",
       "1       0        0        0       1         0  \n",
       "2       0        0        0       0         0  \n",
       "3       0        0        0       0         0  \n",
       "4       0        0        0       0         1  "
      ]
     },
     "execution_count": 43,
     "metadata": {},
     "output_type": "execute_result"
    }
   ],
   "source": [
    "no_drama_df1.head(5)"
   ]
  },
  {
   "cell_type": "markdown",
   "id": "1abd43a6",
   "metadata": {},
   "source": [
    "## Split Data and Vectorize"
   ]
  },
  {
   "cell_type": "code",
   "execution_count": 44,
   "id": "ef7093ce",
   "metadata": {},
   "outputs": [],
   "source": [
    "X = no_drama_df1[[\"movie\",\"clean_sypnosis\"]]\n",
    "y = no_drama_df1.drop(columns=[\"movie\",\"imdb_id\",\"genre\",\"image_url\",\"sypnosis\",\"clean_sypnosis\",\"clean_title\"])"
   ]
  },
  {
   "cell_type": "code",
   "execution_count": 45,
   "id": "7fe12ade",
   "metadata": {},
   "outputs": [],
   "source": [
    "X_train, X_test, y_train, y_test = train_test_split(X, y, test_size=0.3)"
   ]
  },
  {
   "cell_type": "code",
   "execution_count": 46,
   "id": "e707a73e",
   "metadata": {},
   "outputs": [
    {
     "data": {
      "text/plain": [
       "(1347, 2)"
      ]
     },
     "execution_count": 46,
     "metadata": {},
     "output_type": "execute_result"
    }
   ],
   "source": [
    "X_train.shape"
   ]
  },
  {
   "cell_type": "code",
   "execution_count": 47,
   "id": "45437106",
   "metadata": {},
   "outputs": [
    {
     "data": {
      "text/html": [
       "<div>\n",
       "<style scoped>\n",
       "    .dataframe tbody tr th:only-of-type {\n",
       "        vertical-align: middle;\n",
       "    }\n",
       "\n",
       "    .dataframe tbody tr th {\n",
       "        vertical-align: top;\n",
       "    }\n",
       "\n",
       "    .dataframe thead th {\n",
       "        text-align: right;\n",
       "    }\n",
       "</style>\n",
       "<table border=\"1\" class=\"dataframe\">\n",
       "  <thead>\n",
       "    <tr style=\"text-align: right;\">\n",
       "      <th></th>\n",
       "      <th>movie</th>\n",
       "      <th>clean_sypnosis</th>\n",
       "    </tr>\n",
       "  </thead>\n",
       "  <tbody>\n",
       "    <tr>\n",
       "      <th>176</th>\n",
       "      <td>From Dusk Till Dawn</td>\n",
       "      <td>two criminals hostages unknowingly seek tempor...</td>\n",
       "    </tr>\n",
       "    <tr>\n",
       "      <th>1127</th>\n",
       "      <td>Night of the Living Dead</td>\n",
       "      <td>unburied dead return life seek human victims s...</td>\n",
       "    </tr>\n",
       "    <tr>\n",
       "      <th>724</th>\n",
       "      <td>Department Q: The Absent One</td>\n",
       "      <td>murder young twin initially implicate group up...</td>\n",
       "    </tr>\n",
       "    <tr>\n",
       "      <th>1300</th>\n",
       "      <td>Scouts Guide to the Zombie Apocalypse</td>\n",
       "      <td>three scout eve last campout discover true mea...</td>\n",
       "    </tr>\n",
       "    <tr>\n",
       "      <th>1321</th>\n",
       "      <td>The Blob</td>\n",
       "      <td>alien lifeform consume everything path grow gr...</td>\n",
       "    </tr>\n",
       "  </tbody>\n",
       "</table>\n",
       "</div>"
      ],
      "text/plain": [
       "                                      movie  \\\n",
       "176                     From Dusk Till Dawn   \n",
       "1127               Night of the Living Dead   \n",
       "724            Department Q: The Absent One   \n",
       "1300  Scouts Guide to the Zombie Apocalypse   \n",
       "1321                               The Blob   \n",
       "\n",
       "                                         clean_sypnosis  \n",
       "176   two criminals hostages unknowingly seek tempor...  \n",
       "1127  unburied dead return life seek human victims s...  \n",
       "724   murder young twin initially implicate group up...  \n",
       "1300  three scout eve last campout discover true mea...  \n",
       "1321  alien lifeform consume everything path grow gr...  "
      ]
     },
     "execution_count": 47,
     "metadata": {},
     "output_type": "execute_result"
    }
   ],
   "source": [
    "X_train.head(5)"
   ]
  },
  {
   "cell_type": "code",
   "execution_count": 48,
   "id": "edab8e14",
   "metadata": {},
   "outputs": [
    {
     "data": {
      "text/html": [
       "<div>\n",
       "<style scoped>\n",
       "    .dataframe tbody tr th:only-of-type {\n",
       "        vertical-align: middle;\n",
       "    }\n",
       "\n",
       "    .dataframe tbody tr th {\n",
       "        vertical-align: top;\n",
       "    }\n",
       "\n",
       "    .dataframe thead th {\n",
       "        text-align: right;\n",
       "    }\n",
       "</style>\n",
       "<table border=\"1\" class=\"dataframe\">\n",
       "  <thead>\n",
       "    <tr style=\"text-align: right;\">\n",
       "      <th></th>\n",
       "      <th>movie</th>\n",
       "      <th>clean_sypnosis</th>\n",
       "    </tr>\n",
       "  </thead>\n",
       "  <tbody>\n",
       "    <tr>\n",
       "      <th>677</th>\n",
       "      <td>Death on the Nile</td>\n",
       "      <td>hercule poirot enjoy luxurious cruise nile new...</td>\n",
       "    </tr>\n",
       "    <tr>\n",
       "      <th>240</th>\n",
       "      <td>Constantine</td>\n",
       "      <td>supernatural exorcist demonologist john consta...</td>\n",
       "    </tr>\n",
       "    <tr>\n",
       "      <th>1627</th>\n",
       "      <td>The Edukators</td>\n",
       "      <td>three activists cobble together kidnap plot en...</td>\n",
       "    </tr>\n",
       "    <tr>\n",
       "      <th>1674</th>\n",
       "      <td>A Better Life</td>\n",
       "      <td>gardener east la struggle keep son away gang i...</td>\n",
       "    </tr>\n",
       "    <tr>\n",
       "      <th>598</th>\n",
       "      <td>The Cook, the Thief, His Wife &amp; Her Lover</td>\n",
       "      <td>le hollandais gourmet restaurant every night f...</td>\n",
       "    </tr>\n",
       "  </tbody>\n",
       "</table>\n",
       "</div>"
      ],
      "text/plain": [
       "                                          movie  \\\n",
       "677                           Death on the Nile   \n",
       "240                                 Constantine   \n",
       "1627                              The Edukators   \n",
       "1674                              A Better Life   \n",
       "598   The Cook, the Thief, His Wife & Her Lover   \n",
       "\n",
       "                                         clean_sypnosis  \n",
       "677   hercule poirot enjoy luxurious cruise nile new...  \n",
       "240   supernatural exorcist demonologist john consta...  \n",
       "1627  three activists cobble together kidnap plot en...  \n",
       "1674  gardener east la struggle keep son away gang i...  \n",
       "598   le hollandais gourmet restaurant every night f...  "
      ]
     },
     "execution_count": 48,
     "metadata": {},
     "output_type": "execute_result"
    }
   ],
   "source": [
    "X_test.head(5)"
   ]
  },
  {
   "cell_type": "code",
   "execution_count": 49,
   "id": "045f86f1",
   "metadata": {},
   "outputs": [
    {
     "data": {
      "text/plain": [
       "(1347, 10)"
      ]
     },
     "execution_count": 49,
     "metadata": {},
     "output_type": "execute_result"
    }
   ],
   "source": [
    "y_train.shape "
   ]
  },
  {
   "cell_type": "code",
   "execution_count": 50,
   "id": "cac933c2",
   "metadata": {},
   "outputs": [
    {
     "data": {
      "text/html": [
       "<div>\n",
       "<style scoped>\n",
       "    .dataframe tbody tr th:only-of-type {\n",
       "        vertical-align: middle;\n",
       "    }\n",
       "\n",
       "    .dataframe tbody tr th {\n",
       "        vertical-align: top;\n",
       "    }\n",
       "\n",
       "    .dataframe thead th {\n",
       "        text-align: right;\n",
       "    }\n",
       "</style>\n",
       "<table border=\"1\" class=\"dataframe\">\n",
       "  <thead>\n",
       "    <tr style=\"text-align: right;\">\n",
       "      <th></th>\n",
       "      <th>Action</th>\n",
       "      <th>Adventure</th>\n",
       "      <th>Comedy</th>\n",
       "      <th>Crime</th>\n",
       "      <th>Fantasy</th>\n",
       "      <th>Horror</th>\n",
       "      <th>Mystery</th>\n",
       "      <th>Romance</th>\n",
       "      <th>Sci-Fi</th>\n",
       "      <th>Thriller</th>\n",
       "    </tr>\n",
       "  </thead>\n",
       "  <tbody>\n",
       "    <tr>\n",
       "      <th>176</th>\n",
       "      <td>1</td>\n",
       "      <td>0</td>\n",
       "      <td>0</td>\n",
       "      <td>1</td>\n",
       "      <td>0</td>\n",
       "      <td>1</td>\n",
       "      <td>0</td>\n",
       "      <td>0</td>\n",
       "      <td>0</td>\n",
       "      <td>0</td>\n",
       "    </tr>\n",
       "    <tr>\n",
       "      <th>1127</th>\n",
       "      <td>0</td>\n",
       "      <td>0</td>\n",
       "      <td>0</td>\n",
       "      <td>0</td>\n",
       "      <td>0</td>\n",
       "      <td>1</td>\n",
       "      <td>0</td>\n",
       "      <td>0</td>\n",
       "      <td>0</td>\n",
       "      <td>0</td>\n",
       "    </tr>\n",
       "    <tr>\n",
       "      <th>724</th>\n",
       "      <td>0</td>\n",
       "      <td>0</td>\n",
       "      <td>0</td>\n",
       "      <td>1</td>\n",
       "      <td>0</td>\n",
       "      <td>0</td>\n",
       "      <td>1</td>\n",
       "      <td>0</td>\n",
       "      <td>0</td>\n",
       "      <td>0</td>\n",
       "    </tr>\n",
       "    <tr>\n",
       "      <th>1300</th>\n",
       "      <td>1</td>\n",
       "      <td>0</td>\n",
       "      <td>1</td>\n",
       "      <td>0</td>\n",
       "      <td>0</td>\n",
       "      <td>1</td>\n",
       "      <td>0</td>\n",
       "      <td>0</td>\n",
       "      <td>0</td>\n",
       "      <td>0</td>\n",
       "    </tr>\n",
       "    <tr>\n",
       "      <th>1321</th>\n",
       "      <td>0</td>\n",
       "      <td>0</td>\n",
       "      <td>0</td>\n",
       "      <td>0</td>\n",
       "      <td>0</td>\n",
       "      <td>1</td>\n",
       "      <td>0</td>\n",
       "      <td>0</td>\n",
       "      <td>1</td>\n",
       "      <td>0</td>\n",
       "    </tr>\n",
       "  </tbody>\n",
       "</table>\n",
       "</div>"
      ],
      "text/plain": [
       "      Action  Adventure  Comedy  Crime  Fantasy  Horror  Mystery  Romance  \\\n",
       "176        1          0       0      1        0       1        0        0   \n",
       "1127       0          0       0      0        0       1        0        0   \n",
       "724        0          0       0      1        0       0        1        0   \n",
       "1300       1          0       1      0        0       1        0        0   \n",
       "1321       0          0       0      0        0       1        0        0   \n",
       "\n",
       "      Sci-Fi  Thriller  \n",
       "176        0         0  \n",
       "1127       0         0  \n",
       "724        0         0  \n",
       "1300       0         0  \n",
       "1321       1         0  "
      ]
     },
     "execution_count": 50,
     "metadata": {},
     "output_type": "execute_result"
    }
   ],
   "source": [
    "y_train.head(5)"
   ]
  },
  {
   "cell_type": "code",
   "execution_count": 51,
   "id": "45661bd7",
   "metadata": {},
   "outputs": [],
   "source": [
    "# Instantiating the TfidfVectorizer\n",
    "tf_idf_vectorizer = TfidfVectorizer(max_df=0.85, min_df=0.15, max_features=10000)\n",
    "# tf_idf_title_vectorizer = TfidfVectorizer(min_df=10, max_features=10000)\n",
    "# tf_idf_vectorizer = TfidfVectorizer()\n",
    "\n",
    "# Training it on the texts\n",
    "X_train_vec = pd.DataFrame(tf_idf_vectorizer.fit_transform(X_train[\"clean_sypnosis\"]).toarray(),\n",
    "                 columns = tf_idf_vectorizer.get_feature_names_out())\n",
    "# X_train_title_vec = pd.DataFrame(tf_idf_title_vectorizer.fit_transform(X_train[\"clean_title\"]).toarray(),\n",
    "#                  columns = tf_idf_title_vectorizer.get_feature_names_out())\n",
    "X_test_vec =  pd.DataFrame(tf_idf_vectorizer.transform(X_test[\"clean_sypnosis\"]).toarray(),\n",
    "                 columns = tf_idf_vectorizer.get_feature_names_out())\n",
    "# X_test_title_vec =  pd.DataFrame(tf_idf_title_vectorizer.transform(X_test[\"clean_title\"]).toarray(),\n",
    "#                  columns = tf_idf_title_vectorizer.get_feature_names_out())\n"
   ]
  },
  {
   "cell_type": "code",
   "execution_count": 52,
   "id": "487c9775",
   "metadata": {},
   "outputs": [],
   "source": [
    "# X_test_title_vec"
   ]
  },
  {
   "cell_type": "code",
   "execution_count": 53,
   "id": "d097a234",
   "metadata": {},
   "outputs": [],
   "source": [
    "# X_train_vec = pd.concat([X_train_plot_vec,X_train_title_vec], axis=1)"
   ]
  },
  {
   "cell_type": "code",
   "execution_count": 54,
   "id": "9964b106",
   "metadata": {},
   "outputs": [],
   "source": [
    "# X_train_vec"
   ]
  },
  {
   "cell_type": "code",
   "execution_count": 55,
   "id": "2b766bb5",
   "metadata": {},
   "outputs": [],
   "source": [
    "# X_train_vec.shape"
   ]
  },
  {
   "cell_type": "code",
   "execution_count": 56,
   "id": "2f552fc1",
   "metadata": {},
   "outputs": [],
   "source": [
    "# X_test_vec = pd.concat([X_test_plot_vec,X_test_title_vec], axis=1)"
   ]
  },
  {
   "cell_type": "code",
   "execution_count": 57,
   "id": "4d01cfdb",
   "metadata": {},
   "outputs": [
    {
     "data": {
      "text/html": [
       "<div>\n",
       "<style scoped>\n",
       "    .dataframe tbody tr th:only-of-type {\n",
       "        vertical-align: middle;\n",
       "    }\n",
       "\n",
       "    .dataframe tbody tr th {\n",
       "        vertical-align: top;\n",
       "    }\n",
       "\n",
       "    .dataframe thead th {\n",
       "        text-align: right;\n",
       "    }\n",
       "</style>\n",
       "<table border=\"1\" class=\"dataframe\">\n",
       "  <thead>\n",
       "    <tr style=\"text-align: right;\">\n",
       "      <th></th>\n",
       "      <th>abandon</th>\n",
       "      <th>able</th>\n",
       "      <th>accept</th>\n",
       "      <th>accident</th>\n",
       "      <th>across</th>\n",
       "      <th>act</th>\n",
       "      <th>action</th>\n",
       "      <th>actually</th>\n",
       "      <th>admit</th>\n",
       "      <th>age</th>\n",
       "      <th>...</th>\n",
       "      <th>work</th>\n",
       "      <th>world</th>\n",
       "      <th>would</th>\n",
       "      <th>wound</th>\n",
       "      <th>write</th>\n",
       "      <th>wrong</th>\n",
       "      <th>year</th>\n",
       "      <th>years</th>\n",
       "      <th>yet</th>\n",
       "      <th>young</th>\n",
       "    </tr>\n",
       "  </thead>\n",
       "  <tbody>\n",
       "    <tr>\n",
       "      <th>0</th>\n",
       "      <td>0.000000</td>\n",
       "      <td>0.024316</td>\n",
       "      <td>0.0</td>\n",
       "      <td>0.033879</td>\n",
       "      <td>0.026098</td>\n",
       "      <td>0.027413</td>\n",
       "      <td>0.000000</td>\n",
       "      <td>0.029632</td>\n",
       "      <td>0.029355</td>\n",
       "      <td>0.0</td>\n",
       "      <td>...</td>\n",
       "      <td>0.000000</td>\n",
       "      <td>0.022613</td>\n",
       "      <td>0.000000</td>\n",
       "      <td>0.031354</td>\n",
       "      <td>0.000000</td>\n",
       "      <td>0.000000</td>\n",
       "      <td>0.0</td>\n",
       "      <td>0.000000</td>\n",
       "      <td>0.000000</td>\n",
       "      <td>0.000000</td>\n",
       "    </tr>\n",
       "    <tr>\n",
       "      <th>1</th>\n",
       "      <td>0.064408</td>\n",
       "      <td>0.000000</td>\n",
       "      <td>0.0</td>\n",
       "      <td>0.000000</td>\n",
       "      <td>0.000000</td>\n",
       "      <td>0.000000</td>\n",
       "      <td>0.132134</td>\n",
       "      <td>0.000000</td>\n",
       "      <td>0.000000</td>\n",
       "      <td>0.0</td>\n",
       "      <td>...</td>\n",
       "      <td>0.036405</td>\n",
       "      <td>0.000000</td>\n",
       "      <td>0.043338</td>\n",
       "      <td>0.129577</td>\n",
       "      <td>0.000000</td>\n",
       "      <td>0.000000</td>\n",
       "      <td>0.0</td>\n",
       "      <td>0.000000</td>\n",
       "      <td>0.000000</td>\n",
       "      <td>0.000000</td>\n",
       "    </tr>\n",
       "    <tr>\n",
       "      <th>2</th>\n",
       "      <td>0.000000</td>\n",
       "      <td>0.000000</td>\n",
       "      <td>0.0</td>\n",
       "      <td>0.000000</td>\n",
       "      <td>0.000000</td>\n",
       "      <td>0.000000</td>\n",
       "      <td>0.000000</td>\n",
       "      <td>0.000000</td>\n",
       "      <td>0.000000</td>\n",
       "      <td>0.0</td>\n",
       "      <td>...</td>\n",
       "      <td>0.000000</td>\n",
       "      <td>0.000000</td>\n",
       "      <td>0.000000</td>\n",
       "      <td>0.000000</td>\n",
       "      <td>0.000000</td>\n",
       "      <td>0.000000</td>\n",
       "      <td>0.0</td>\n",
       "      <td>0.000000</td>\n",
       "      <td>0.000000</td>\n",
       "      <td>0.083874</td>\n",
       "    </tr>\n",
       "    <tr>\n",
       "      <th>3</th>\n",
       "      <td>0.000000</td>\n",
       "      <td>0.000000</td>\n",
       "      <td>0.0</td>\n",
       "      <td>0.000000</td>\n",
       "      <td>0.021260</td>\n",
       "      <td>0.000000</td>\n",
       "      <td>0.000000</td>\n",
       "      <td>0.000000</td>\n",
       "      <td>0.047827</td>\n",
       "      <td>0.0</td>\n",
       "      <td>...</td>\n",
       "      <td>0.043055</td>\n",
       "      <td>0.000000</td>\n",
       "      <td>0.017085</td>\n",
       "      <td>0.000000</td>\n",
       "      <td>0.023945</td>\n",
       "      <td>0.051083</td>\n",
       "      <td>0.0</td>\n",
       "      <td>0.033317</td>\n",
       "      <td>0.000000</td>\n",
       "      <td>0.000000</td>\n",
       "    </tr>\n",
       "    <tr>\n",
       "      <th>4</th>\n",
       "      <td>0.000000</td>\n",
       "      <td>0.103117</td>\n",
       "      <td>0.0</td>\n",
       "      <td>0.000000</td>\n",
       "      <td>0.073785</td>\n",
       "      <td>0.000000</td>\n",
       "      <td>0.000000</td>\n",
       "      <td>0.000000</td>\n",
       "      <td>0.000000</td>\n",
       "      <td>0.0</td>\n",
       "      <td>...</td>\n",
       "      <td>0.000000</td>\n",
       "      <td>0.000000</td>\n",
       "      <td>0.000000</td>\n",
       "      <td>0.000000</td>\n",
       "      <td>0.000000</td>\n",
       "      <td>0.000000</td>\n",
       "      <td>0.0</td>\n",
       "      <td>0.000000</td>\n",
       "      <td>0.044453</td>\n",
       "      <td>0.000000</td>\n",
       "    </tr>\n",
       "  </tbody>\n",
       "</table>\n",
       "<p>5 rows × 552 columns</p>\n",
       "</div>"
      ],
      "text/plain": [
       "    abandon      able  accept  accident    across       act    action  \\\n",
       "0  0.000000  0.024316     0.0  0.033879  0.026098  0.027413  0.000000   \n",
       "1  0.064408  0.000000     0.0  0.000000  0.000000  0.000000  0.132134   \n",
       "2  0.000000  0.000000     0.0  0.000000  0.000000  0.000000  0.000000   \n",
       "3  0.000000  0.000000     0.0  0.000000  0.021260  0.000000  0.000000   \n",
       "4  0.000000  0.103117     0.0  0.000000  0.073785  0.000000  0.000000   \n",
       "\n",
       "   actually     admit  age  ...      work     world     would     wound  \\\n",
       "0  0.029632  0.029355  0.0  ...  0.000000  0.022613  0.000000  0.031354   \n",
       "1  0.000000  0.000000  0.0  ...  0.036405  0.000000  0.043338  0.129577   \n",
       "2  0.000000  0.000000  0.0  ...  0.000000  0.000000  0.000000  0.000000   \n",
       "3  0.000000  0.047827  0.0  ...  0.043055  0.000000  0.017085  0.000000   \n",
       "4  0.000000  0.000000  0.0  ...  0.000000  0.000000  0.000000  0.000000   \n",
       "\n",
       "      write     wrong  year     years       yet     young  \n",
       "0  0.000000  0.000000   0.0  0.000000  0.000000  0.000000  \n",
       "1  0.000000  0.000000   0.0  0.000000  0.000000  0.000000  \n",
       "2  0.000000  0.000000   0.0  0.000000  0.000000  0.083874  \n",
       "3  0.023945  0.051083   0.0  0.033317  0.000000  0.000000  \n",
       "4  0.000000  0.000000   0.0  0.000000  0.044453  0.000000  \n",
       "\n",
       "[5 rows x 552 columns]"
      ]
     },
     "execution_count": 57,
     "metadata": {},
     "output_type": "execute_result"
    }
   ],
   "source": [
    "X_train_vec.head(5)"
   ]
  },
  {
   "cell_type": "code",
   "execution_count": 58,
   "id": "bfb33a0d",
   "metadata": {},
   "outputs": [],
   "source": [
    "# X_test_vec.shape"
   ]
  },
  {
   "cell_type": "code",
   "execution_count": 59,
   "id": "8f164be9",
   "metadata": {},
   "outputs": [],
   "source": [
    "from sklearn.linear_model import LogisticRegression\n",
    "from sklearn.multiclass import OneVsRestClassifier\n",
    "from sklearn.metrics import f1_score, accuracy_score"
   ]
  },
  {
   "cell_type": "markdown",
   "id": "9ec0c451",
   "metadata": {},
   "source": [
    "## OneVsRest logistic regression"
   ]
  },
  {
   "cell_type": "markdown",
   "id": "43002255",
   "metadata": {},
   "source": [
    "### Simple OneVsRest logistic regression"
   ]
  },
  {
   "cell_type": "code",
   "execution_count": 60,
   "id": "46ae2a71",
   "metadata": {},
   "outputs": [
    {
     "data": {
      "text/html": [
       "<style>#sk-container-id-1 {color: black;background-color: white;}#sk-container-id-1 pre{padding: 0;}#sk-container-id-1 div.sk-toggleable {background-color: white;}#sk-container-id-1 label.sk-toggleable__label {cursor: pointer;display: block;width: 100%;margin-bottom: 0;padding: 0.3em;box-sizing: border-box;text-align: center;}#sk-container-id-1 label.sk-toggleable__label-arrow:before {content: \"▸\";float: left;margin-right: 0.25em;color: #696969;}#sk-container-id-1 label.sk-toggleable__label-arrow:hover:before {color: black;}#sk-container-id-1 div.sk-estimator:hover label.sk-toggleable__label-arrow:before {color: black;}#sk-container-id-1 div.sk-toggleable__content {max-height: 0;max-width: 0;overflow: hidden;text-align: left;background-color: #f0f8ff;}#sk-container-id-1 div.sk-toggleable__content pre {margin: 0.2em;color: black;border-radius: 0.25em;background-color: #f0f8ff;}#sk-container-id-1 input.sk-toggleable__control:checked~div.sk-toggleable__content {max-height: 200px;max-width: 100%;overflow: auto;}#sk-container-id-1 input.sk-toggleable__control:checked~label.sk-toggleable__label-arrow:before {content: \"▾\";}#sk-container-id-1 div.sk-estimator input.sk-toggleable__control:checked~label.sk-toggleable__label {background-color: #d4ebff;}#sk-container-id-1 div.sk-label input.sk-toggleable__control:checked~label.sk-toggleable__label {background-color: #d4ebff;}#sk-container-id-1 input.sk-hidden--visually {border: 0;clip: rect(1px 1px 1px 1px);clip: rect(1px, 1px, 1px, 1px);height: 1px;margin: -1px;overflow: hidden;padding: 0;position: absolute;width: 1px;}#sk-container-id-1 div.sk-estimator {font-family: monospace;background-color: #f0f8ff;border: 1px dotted black;border-radius: 0.25em;box-sizing: border-box;margin-bottom: 0.5em;}#sk-container-id-1 div.sk-estimator:hover {background-color: #d4ebff;}#sk-container-id-1 div.sk-parallel-item::after {content: \"\";width: 100%;border-bottom: 1px solid gray;flex-grow: 1;}#sk-container-id-1 div.sk-label:hover label.sk-toggleable__label {background-color: #d4ebff;}#sk-container-id-1 div.sk-serial::before {content: \"\";position: absolute;border-left: 1px solid gray;box-sizing: border-box;top: 0;bottom: 0;left: 50%;z-index: 0;}#sk-container-id-1 div.sk-serial {display: flex;flex-direction: column;align-items: center;background-color: white;padding-right: 0.2em;padding-left: 0.2em;position: relative;}#sk-container-id-1 div.sk-item {position: relative;z-index: 1;}#sk-container-id-1 div.sk-parallel {display: flex;align-items: stretch;justify-content: center;background-color: white;position: relative;}#sk-container-id-1 div.sk-item::before, #sk-container-id-1 div.sk-parallel-item::before {content: \"\";position: absolute;border-left: 1px solid gray;box-sizing: border-box;top: 0;bottom: 0;left: 50%;z-index: -1;}#sk-container-id-1 div.sk-parallel-item {display: flex;flex-direction: column;z-index: 1;position: relative;background-color: white;}#sk-container-id-1 div.sk-parallel-item:first-child::after {align-self: flex-end;width: 50%;}#sk-container-id-1 div.sk-parallel-item:last-child::after {align-self: flex-start;width: 50%;}#sk-container-id-1 div.sk-parallel-item:only-child::after {width: 0;}#sk-container-id-1 div.sk-dashed-wrapped {border: 1px dashed gray;margin: 0 0.4em 0.5em 0.4em;box-sizing: border-box;padding-bottom: 0.4em;background-color: white;}#sk-container-id-1 div.sk-label label {font-family: monospace;font-weight: bold;display: inline-block;line-height: 1.2em;}#sk-container-id-1 div.sk-label-container {text-align: center;}#sk-container-id-1 div.sk-container {/* jupyter's `normalize.less` sets `[hidden] { display: none; }` but bootstrap.min.css set `[hidden] { display: none !important; }` so we also need the `!important` here to be able to override the default hidden behavior on the sphinx rendered scikit-learn.org. See: https://github.com/scikit-learn/scikit-learn/issues/21755 */display: inline-block !important;position: relative;}#sk-container-id-1 div.sk-text-repr-fallback {display: none;}</style><div id=\"sk-container-id-1\" class=\"sk-top-container\"><div class=\"sk-text-repr-fallback\"><pre>OneVsRestClassifier(estimator=LogisticRegression())</pre><b>In a Jupyter environment, please rerun this cell to show the HTML representation or trust the notebook. <br />On GitHub, the HTML representation is unable to render, please try loading this page with nbviewer.org.</b></div><div class=\"sk-container\" hidden><div class=\"sk-item sk-dashed-wrapped\"><div class=\"sk-label-container\"><div class=\"sk-label sk-toggleable\"><input class=\"sk-toggleable__control sk-hidden--visually\" id=\"sk-estimator-id-1\" type=\"checkbox\" ><label for=\"sk-estimator-id-1\" class=\"sk-toggleable__label sk-toggleable__label-arrow\">OneVsRestClassifier</label><div class=\"sk-toggleable__content\"><pre>OneVsRestClassifier(estimator=LogisticRegression())</pre></div></div></div><div class=\"sk-parallel\"><div class=\"sk-parallel-item\"><div class=\"sk-item\"><div class=\"sk-label-container\"><div class=\"sk-label sk-toggleable\"><input class=\"sk-toggleable__control sk-hidden--visually\" id=\"sk-estimator-id-2\" type=\"checkbox\" ><label for=\"sk-estimator-id-2\" class=\"sk-toggleable__label sk-toggleable__label-arrow\">estimator: LogisticRegression</label><div class=\"sk-toggleable__content\"><pre>LogisticRegression()</pre></div></div></div><div class=\"sk-serial\"><div class=\"sk-item\"><div class=\"sk-estimator sk-toggleable\"><input class=\"sk-toggleable__control sk-hidden--visually\" id=\"sk-estimator-id-3\" type=\"checkbox\" ><label for=\"sk-estimator-id-3\" class=\"sk-toggleable__label sk-toggleable__label-arrow\">LogisticRegression</label><div class=\"sk-toggleable__content\"><pre>LogisticRegression()</pre></div></div></div></div></div></div></div></div></div></div>"
      ],
      "text/plain": [
       "OneVsRestClassifier(estimator=LogisticRegression())"
      ]
     },
     "execution_count": 60,
     "metadata": {},
     "output_type": "execute_result"
    }
   ],
   "source": [
    "log = LogisticRegression()\n",
    "model_test_1 = OneVsRestClassifier(log)\n",
    "\n",
    "model_test_1.fit(X_train_vec, y_train)"
   ]
  },
  {
   "cell_type": "code",
   "execution_count": 61,
   "id": "75455326",
   "metadata": {},
   "outputs": [],
   "source": [
    "y_pred = model_test_1.predict(X_test_vec)"
   ]
  },
  {
   "cell_type": "code",
   "execution_count": 62,
   "id": "5dc494f9",
   "metadata": {},
   "outputs": [
    {
     "data": {
      "text/plain": [
       "0.11418685121107267"
      ]
     },
     "execution_count": 62,
     "metadata": {},
     "output_type": "execute_result"
    }
   ],
   "source": [
    "accuracy_score(y_test, y_pred)"
   ]
  },
  {
   "cell_type": "code",
   "execution_count": 63,
   "id": "3dcb7b9a",
   "metadata": {},
   "outputs": [
    {
     "data": {
      "text/plain": [
       "0.4561003420752565"
      ]
     },
     "execution_count": 63,
     "metadata": {},
     "output_type": "execute_result"
    }
   ],
   "source": [
    "f1_score(y_test, y_pred, average=\"micro\")"
   ]
  },
  {
   "cell_type": "code",
   "execution_count": 64,
   "id": "6280984c",
   "metadata": {},
   "outputs": [
    {
     "data": {
      "text/html": [
       "<div>\n",
       "<style scoped>\n",
       "    .dataframe tbody tr th:only-of-type {\n",
       "        vertical-align: middle;\n",
       "    }\n",
       "\n",
       "    .dataframe tbody tr th {\n",
       "        vertical-align: top;\n",
       "    }\n",
       "\n",
       "    .dataframe thead th {\n",
       "        text-align: right;\n",
       "    }\n",
       "</style>\n",
       "<table border=\"1\" class=\"dataframe\">\n",
       "  <thead>\n",
       "    <tr style=\"text-align: right;\">\n",
       "      <th></th>\n",
       "      <th>Action</th>\n",
       "      <th>Adventure</th>\n",
       "      <th>Comedy</th>\n",
       "      <th>Crime</th>\n",
       "      <th>Fantasy</th>\n",
       "      <th>Horror</th>\n",
       "      <th>Mystery</th>\n",
       "      <th>Romance</th>\n",
       "      <th>Sci-Fi</th>\n",
       "      <th>Thriller</th>\n",
       "    </tr>\n",
       "  </thead>\n",
       "  <tbody>\n",
       "    <tr>\n",
       "      <th>0</th>\n",
       "      <td>0</td>\n",
       "      <td>0</td>\n",
       "      <td>0</td>\n",
       "      <td>0</td>\n",
       "      <td>0</td>\n",
       "      <td>0</td>\n",
       "      <td>0</td>\n",
       "      <td>0</td>\n",
       "      <td>0</td>\n",
       "      <td>0</td>\n",
       "    </tr>\n",
       "    <tr>\n",
       "      <th>1</th>\n",
       "      <td>0</td>\n",
       "      <td>0</td>\n",
       "      <td>0</td>\n",
       "      <td>0</td>\n",
       "      <td>0</td>\n",
       "      <td>0</td>\n",
       "      <td>0</td>\n",
       "      <td>0</td>\n",
       "      <td>0</td>\n",
       "      <td>0</td>\n",
       "    </tr>\n",
       "    <tr>\n",
       "      <th>2</th>\n",
       "      <td>0</td>\n",
       "      <td>0</td>\n",
       "      <td>0</td>\n",
       "      <td>0</td>\n",
       "      <td>0</td>\n",
       "      <td>0</td>\n",
       "      <td>0</td>\n",
       "      <td>0</td>\n",
       "      <td>0</td>\n",
       "      <td>0</td>\n",
       "    </tr>\n",
       "    <tr>\n",
       "      <th>3</th>\n",
       "      <td>0</td>\n",
       "      <td>0</td>\n",
       "      <td>0</td>\n",
       "      <td>0</td>\n",
       "      <td>0</td>\n",
       "      <td>0</td>\n",
       "      <td>0</td>\n",
       "      <td>0</td>\n",
       "      <td>0</td>\n",
       "      <td>0</td>\n",
       "    </tr>\n",
       "    <tr>\n",
       "      <th>4</th>\n",
       "      <td>0</td>\n",
       "      <td>0</td>\n",
       "      <td>0</td>\n",
       "      <td>0</td>\n",
       "      <td>0</td>\n",
       "      <td>0</td>\n",
       "      <td>0</td>\n",
       "      <td>0</td>\n",
       "      <td>0</td>\n",
       "      <td>0</td>\n",
       "    </tr>\n",
       "  </tbody>\n",
       "</table>\n",
       "</div>"
      ],
      "text/plain": [
       "   Action  Adventure  Comedy  Crime  Fantasy  Horror  Mystery  Romance  \\\n",
       "0       0          0       0      0        0       0        0        0   \n",
       "1       0          0       0      0        0       0        0        0   \n",
       "2       0          0       0      0        0       0        0        0   \n",
       "3       0          0       0      0        0       0        0        0   \n",
       "4       0          0       0      0        0       0        0        0   \n",
       "\n",
       "   Sci-Fi  Thriller  \n",
       "0       0         0  \n",
       "1       0         0  \n",
       "2       0         0  \n",
       "3       0         0  \n",
       "4       0         0  "
      ]
     },
     "execution_count": 64,
     "metadata": {},
     "output_type": "execute_result"
    }
   ],
   "source": [
    "results = pd.DataFrame(y_pred, columns=[\"Action\",\"Adventure\",\"Comedy\",\"Crime\",\"Fantasy\",\"Horror\",\"Mystery\",\"Romance\",\"Sci-Fi\",\"Thriller\"])\n",
    "results[:5]"
   ]
  },
  {
   "cell_type": "code",
   "execution_count": 65,
   "id": "e915c3a4",
   "metadata": {},
   "outputs": [],
   "source": [
    "# multilabel_binarizer.inverse_transform(y_pred)[1]"
   ]
  },
  {
   "cell_type": "code",
   "execution_count": 66,
   "id": "95c5958a",
   "metadata": {},
   "outputs": [
    {
     "data": {
      "text/html": [
       "<div>\n",
       "<style scoped>\n",
       "    .dataframe tbody tr th:only-of-type {\n",
       "        vertical-align: middle;\n",
       "    }\n",
       "\n",
       "    .dataframe tbody tr th {\n",
       "        vertical-align: top;\n",
       "    }\n",
       "\n",
       "    .dataframe thead th {\n",
       "        text-align: right;\n",
       "    }\n",
       "</style>\n",
       "<table border=\"1\" class=\"dataframe\">\n",
       "  <thead>\n",
       "    <tr style=\"text-align: right;\">\n",
       "      <th></th>\n",
       "      <th>Action</th>\n",
       "      <th>Adventure</th>\n",
       "      <th>Comedy</th>\n",
       "      <th>Crime</th>\n",
       "      <th>Fantasy</th>\n",
       "      <th>Horror</th>\n",
       "      <th>Mystery</th>\n",
       "      <th>Romance</th>\n",
       "      <th>Sci-Fi</th>\n",
       "      <th>Thriller</th>\n",
       "    </tr>\n",
       "  </thead>\n",
       "  <tbody>\n",
       "    <tr>\n",
       "      <th>677</th>\n",
       "      <td>0</td>\n",
       "      <td>0</td>\n",
       "      <td>0</td>\n",
       "      <td>1</td>\n",
       "      <td>0</td>\n",
       "      <td>0</td>\n",
       "      <td>1</td>\n",
       "      <td>0</td>\n",
       "      <td>0</td>\n",
       "      <td>0</td>\n",
       "    </tr>\n",
       "    <tr>\n",
       "      <th>240</th>\n",
       "      <td>1</td>\n",
       "      <td>0</td>\n",
       "      <td>0</td>\n",
       "      <td>0</td>\n",
       "      <td>1</td>\n",
       "      <td>1</td>\n",
       "      <td>0</td>\n",
       "      <td>0</td>\n",
       "      <td>0</td>\n",
       "      <td>0</td>\n",
       "    </tr>\n",
       "    <tr>\n",
       "      <th>1627</th>\n",
       "      <td>0</td>\n",
       "      <td>0</td>\n",
       "      <td>0</td>\n",
       "      <td>0</td>\n",
       "      <td>0</td>\n",
       "      <td>0</td>\n",
       "      <td>0</td>\n",
       "      <td>1</td>\n",
       "      <td>0</td>\n",
       "      <td>0</td>\n",
       "    </tr>\n",
       "    <tr>\n",
       "      <th>1674</th>\n",
       "      <td>0</td>\n",
       "      <td>0</td>\n",
       "      <td>0</td>\n",
       "      <td>0</td>\n",
       "      <td>0</td>\n",
       "      <td>0</td>\n",
       "      <td>0</td>\n",
       "      <td>1</td>\n",
       "      <td>0</td>\n",
       "      <td>0</td>\n",
       "    </tr>\n",
       "    <tr>\n",
       "      <th>598</th>\n",
       "      <td>0</td>\n",
       "      <td>0</td>\n",
       "      <td>0</td>\n",
       "      <td>1</td>\n",
       "      <td>0</td>\n",
       "      <td>0</td>\n",
       "      <td>0</td>\n",
       "      <td>0</td>\n",
       "      <td>0</td>\n",
       "      <td>0</td>\n",
       "    </tr>\n",
       "  </tbody>\n",
       "</table>\n",
       "</div>"
      ],
      "text/plain": [
       "      Action  Adventure  Comedy  Crime  Fantasy  Horror  Mystery  Romance  \\\n",
       "677        0          0       0      1        0       0        1        0   \n",
       "240        1          0       0      0        1       1        0        0   \n",
       "1627       0          0       0      0        0       0        0        1   \n",
       "1674       0          0       0      0        0       0        0        1   \n",
       "598        0          0       0      1        0       0        0        0   \n",
       "\n",
       "      Sci-Fi  Thriller  \n",
       "677        0         0  \n",
       "240        0         0  \n",
       "1627       0         0  \n",
       "1674       0         0  \n",
       "598        0         0  "
      ]
     },
     "execution_count": 66,
     "metadata": {},
     "output_type": "execute_result"
    }
   ],
   "source": [
    "y_test[:5]"
   ]
  },
  {
   "cell_type": "markdown",
   "id": "4f94bf73",
   "metadata": {
    "heading_collapsed": true
   },
   "source": [
    "#### Grouping the topic"
   ]
  },
  {
   "cell_type": "code",
   "execution_count": 67,
   "id": "297aea2f",
   "metadata": {
    "hidden": true
   },
   "outputs": [],
   "source": [
    "# from sklearn.decomposition import LatentDirichletAllocation\n",
    "\n",
    "# # Instantiate the LDA \n",
    "# n_components = 7\n",
    "# lda_model = LatentDirichletAllocation(n_components=n_components, max_iter = 500)\n",
    "\n",
    "# # Fit the LDA on the vectorized documents\n",
    "# lda_model.fit(X_train_vec)"
   ]
  },
  {
   "cell_type": "code",
   "execution_count": 68,
   "id": "d35716ee",
   "metadata": {
    "hidden": true
   },
   "outputs": [],
   "source": [
    "# X_train_topic_mixture = lda_model.transform(X_train_vec)\n",
    "# X_train_topic_df = pd.DataFrame(X_train_topic_mixture)\n",
    "# X_train_topic_df"
   ]
  },
  {
   "cell_type": "code",
   "execution_count": 69,
   "id": "5dda4ec4",
   "metadata": {
    "hidden": true
   },
   "outputs": [],
   "source": [
    "# X_test_topic_mixture = lda_model.transform(X_test_vec)\n",
    "# X_test_topic_df = pd.DataFrame(X_test_topic_mixture)\n",
    "# X_test_topic_df"
   ]
  },
  {
   "cell_type": "markdown",
   "id": "56079a6c",
   "metadata": {
    "heading_collapsed": true
   },
   "source": [
    "### Training OneVsRest using topic grouping as input"
   ]
  },
  {
   "cell_type": "code",
   "execution_count": 70,
   "id": "766d1edb",
   "metadata": {
    "hidden": true
   },
   "outputs": [],
   "source": [
    "# model_test_2 = OneVsRestClassifier(log)\n",
    "# model_test_2.fit(X_train_topic_df, y_train)"
   ]
  },
  {
   "cell_type": "code",
   "execution_count": 71,
   "id": "756a9c22",
   "metadata": {
    "hidden": true
   },
   "outputs": [],
   "source": [
    "# y_pred_2 = model_test_2.predict(X_test_topic_df)\n",
    "# accuracy_score(y_test, y_pred_2)"
   ]
  },
  {
   "cell_type": "code",
   "execution_count": 72,
   "id": "fafcd154",
   "metadata": {
    "hidden": true
   },
   "outputs": [],
   "source": [
    "# results = pd.DataFrame(y_pred_2, columns=[\"Action\",\"Adventure\",\"Animation\",\"Comedy\",\"Crime\",\"Fantasy\",\"Horror\",\"Mystery\",\"Romance\",\"Sci-Fi\",\"Thriller\"])\n",
    "# results[:5]"
   ]
  },
  {
   "cell_type": "code",
   "execution_count": 73,
   "id": "1b4e171c",
   "metadata": {
    "hidden": true
   },
   "outputs": [],
   "source": [
    "# y_test[:5]"
   ]
  },
  {
   "cell_type": "markdown",
   "id": "64c4b66c",
   "metadata": {
    "heading_collapsed": true
   },
   "source": [
    "### Using both topic grouping as input + OneVsRest "
   ]
  },
  {
   "cell_type": "code",
   "execution_count": 74,
   "id": "f7a8af48",
   "metadata": {
    "hidden": true
   },
   "outputs": [],
   "source": [
    "# model_test_3 = OneVsRestClassifier(log)\n",
    "# model_test_3.fit(X_train_topic_df, y_train)\n",
    "# model_test_3.fit(X_train_vec, y_train)"
   ]
  },
  {
   "cell_type": "code",
   "execution_count": 75,
   "id": "f2392f7f",
   "metadata": {
    "hidden": true
   },
   "outputs": [],
   "source": [
    "# y_pred_3 = model_test_2.predict(X_test_topic_df)\n",
    "# accuracy_score(y_test, y_pred_3)"
   ]
  },
  {
   "cell_type": "markdown",
   "id": "e635cf7c",
   "metadata": {},
   "source": [
    "## SGD"
   ]
  },
  {
   "cell_type": "code",
   "execution_count": 76,
   "id": "c3edea9d",
   "metadata": {},
   "outputs": [
    {
     "data": {
      "text/html": [
       "<style>#sk-container-id-2 {color: black;background-color: white;}#sk-container-id-2 pre{padding: 0;}#sk-container-id-2 div.sk-toggleable {background-color: white;}#sk-container-id-2 label.sk-toggleable__label {cursor: pointer;display: block;width: 100%;margin-bottom: 0;padding: 0.3em;box-sizing: border-box;text-align: center;}#sk-container-id-2 label.sk-toggleable__label-arrow:before {content: \"▸\";float: left;margin-right: 0.25em;color: #696969;}#sk-container-id-2 label.sk-toggleable__label-arrow:hover:before {color: black;}#sk-container-id-2 div.sk-estimator:hover label.sk-toggleable__label-arrow:before {color: black;}#sk-container-id-2 div.sk-toggleable__content {max-height: 0;max-width: 0;overflow: hidden;text-align: left;background-color: #f0f8ff;}#sk-container-id-2 div.sk-toggleable__content pre {margin: 0.2em;color: black;border-radius: 0.25em;background-color: #f0f8ff;}#sk-container-id-2 input.sk-toggleable__control:checked~div.sk-toggleable__content {max-height: 200px;max-width: 100%;overflow: auto;}#sk-container-id-2 input.sk-toggleable__control:checked~label.sk-toggleable__label-arrow:before {content: \"▾\";}#sk-container-id-2 div.sk-estimator input.sk-toggleable__control:checked~label.sk-toggleable__label {background-color: #d4ebff;}#sk-container-id-2 div.sk-label input.sk-toggleable__control:checked~label.sk-toggleable__label {background-color: #d4ebff;}#sk-container-id-2 input.sk-hidden--visually {border: 0;clip: rect(1px 1px 1px 1px);clip: rect(1px, 1px, 1px, 1px);height: 1px;margin: -1px;overflow: hidden;padding: 0;position: absolute;width: 1px;}#sk-container-id-2 div.sk-estimator {font-family: monospace;background-color: #f0f8ff;border: 1px dotted black;border-radius: 0.25em;box-sizing: border-box;margin-bottom: 0.5em;}#sk-container-id-2 div.sk-estimator:hover {background-color: #d4ebff;}#sk-container-id-2 div.sk-parallel-item::after {content: \"\";width: 100%;border-bottom: 1px solid gray;flex-grow: 1;}#sk-container-id-2 div.sk-label:hover label.sk-toggleable__label {background-color: #d4ebff;}#sk-container-id-2 div.sk-serial::before {content: \"\";position: absolute;border-left: 1px solid gray;box-sizing: border-box;top: 0;bottom: 0;left: 50%;z-index: 0;}#sk-container-id-2 div.sk-serial {display: flex;flex-direction: column;align-items: center;background-color: white;padding-right: 0.2em;padding-left: 0.2em;position: relative;}#sk-container-id-2 div.sk-item {position: relative;z-index: 1;}#sk-container-id-2 div.sk-parallel {display: flex;align-items: stretch;justify-content: center;background-color: white;position: relative;}#sk-container-id-2 div.sk-item::before, #sk-container-id-2 div.sk-parallel-item::before {content: \"\";position: absolute;border-left: 1px solid gray;box-sizing: border-box;top: 0;bottom: 0;left: 50%;z-index: -1;}#sk-container-id-2 div.sk-parallel-item {display: flex;flex-direction: column;z-index: 1;position: relative;background-color: white;}#sk-container-id-2 div.sk-parallel-item:first-child::after {align-self: flex-end;width: 50%;}#sk-container-id-2 div.sk-parallel-item:last-child::after {align-self: flex-start;width: 50%;}#sk-container-id-2 div.sk-parallel-item:only-child::after {width: 0;}#sk-container-id-2 div.sk-dashed-wrapped {border: 1px dashed gray;margin: 0 0.4em 0.5em 0.4em;box-sizing: border-box;padding-bottom: 0.4em;background-color: white;}#sk-container-id-2 div.sk-label label {font-family: monospace;font-weight: bold;display: inline-block;line-height: 1.2em;}#sk-container-id-2 div.sk-label-container {text-align: center;}#sk-container-id-2 div.sk-container {/* jupyter's `normalize.less` sets `[hidden] { display: none; }` but bootstrap.min.css set `[hidden] { display: none !important; }` so we also need the `!important` here to be able to override the default hidden behavior on the sphinx rendered scikit-learn.org. See: https://github.com/scikit-learn/scikit-learn/issues/21755 */display: inline-block !important;position: relative;}#sk-container-id-2 div.sk-text-repr-fallback {display: none;}</style><div id=\"sk-container-id-2\" class=\"sk-top-container\"><div class=\"sk-text-repr-fallback\"><pre>OneVsRestClassifier(estimator=SGDClassifier(random_state=42))</pre><b>In a Jupyter environment, please rerun this cell to show the HTML representation or trust the notebook. <br />On GitHub, the HTML representation is unable to render, please try loading this page with nbviewer.org.</b></div><div class=\"sk-container\" hidden><div class=\"sk-item sk-dashed-wrapped\"><div class=\"sk-label-container\"><div class=\"sk-label sk-toggleable\"><input class=\"sk-toggleable__control sk-hidden--visually\" id=\"sk-estimator-id-4\" type=\"checkbox\" ><label for=\"sk-estimator-id-4\" class=\"sk-toggleable__label sk-toggleable__label-arrow\">OneVsRestClassifier</label><div class=\"sk-toggleable__content\"><pre>OneVsRestClassifier(estimator=SGDClassifier(random_state=42))</pre></div></div></div><div class=\"sk-parallel\"><div class=\"sk-parallel-item\"><div class=\"sk-item\"><div class=\"sk-label-container\"><div class=\"sk-label sk-toggleable\"><input class=\"sk-toggleable__control sk-hidden--visually\" id=\"sk-estimator-id-5\" type=\"checkbox\" ><label for=\"sk-estimator-id-5\" class=\"sk-toggleable__label sk-toggleable__label-arrow\">estimator: SGDClassifier</label><div class=\"sk-toggleable__content\"><pre>SGDClassifier(random_state=42)</pre></div></div></div><div class=\"sk-serial\"><div class=\"sk-item\"><div class=\"sk-estimator sk-toggleable\"><input class=\"sk-toggleable__control sk-hidden--visually\" id=\"sk-estimator-id-6\" type=\"checkbox\" ><label for=\"sk-estimator-id-6\" class=\"sk-toggleable__label sk-toggleable__label-arrow\">SGDClassifier</label><div class=\"sk-toggleable__content\"><pre>SGDClassifier(random_state=42)</pre></div></div></div></div></div></div></div></div></div></div>"
      ],
      "text/plain": [
       "OneVsRestClassifier(estimator=SGDClassifier(random_state=42))"
      ]
     },
     "execution_count": 76,
     "metadata": {},
     "output_type": "execute_result"
    }
   ],
   "source": [
    "sgd = SGDClassifier(random_state = 42)\n",
    "sgd_model = OneVsRestClassifier(sgd)\n",
    "sgd_model.fit(X_train_vec,y_train)"
   ]
  },
  {
   "cell_type": "code",
   "execution_count": 77,
   "id": "0f1ace1e",
   "metadata": {},
   "outputs": [],
   "source": [
    "y_pred_sgd1 = sgd_model.predict(X_test_vec)"
   ]
  },
  {
   "cell_type": "code",
   "execution_count": 78,
   "id": "e240a7c2",
   "metadata": {},
   "outputs": [],
   "source": [
    "# multilabel_binarizer.inverse_transform(y_pred_sgd1)[0:10]"
   ]
  },
  {
   "cell_type": "code",
   "execution_count": 79,
   "id": "e6d32cc2",
   "metadata": {},
   "outputs": [
    {
     "data": {
      "text/plain": [
       "0.1453287197231834"
      ]
     },
     "execution_count": 79,
     "metadata": {},
     "output_type": "execute_result"
    }
   ],
   "source": [
    "accuracy_score(y_test, y_pred_sgd1)"
   ]
  },
  {
   "cell_type": "code",
   "execution_count": 80,
   "id": "fcf4fecf",
   "metadata": {},
   "outputs": [
    {
     "data": {
      "text/plain": [
       "0.5590321234876929"
      ]
     },
     "execution_count": 80,
     "metadata": {},
     "output_type": "execute_result"
    }
   ],
   "source": [
    "f1_score(y_test, y_pred_sgd1, average=\"micro\")"
   ]
  },
  {
   "cell_type": "code",
   "execution_count": 81,
   "id": "c478f70e",
   "metadata": {},
   "outputs": [
    {
     "data": {
      "text/html": [
       "<div>\n",
       "<style scoped>\n",
       "    .dataframe tbody tr th:only-of-type {\n",
       "        vertical-align: middle;\n",
       "    }\n",
       "\n",
       "    .dataframe tbody tr th {\n",
       "        vertical-align: top;\n",
       "    }\n",
       "\n",
       "    .dataframe thead th {\n",
       "        text-align: right;\n",
       "    }\n",
       "</style>\n",
       "<table border=\"1\" class=\"dataframe\">\n",
       "  <thead>\n",
       "    <tr style=\"text-align: right;\">\n",
       "      <th></th>\n",
       "      <th>Action</th>\n",
       "      <th>Adventure</th>\n",
       "      <th>Comedy</th>\n",
       "      <th>Crime</th>\n",
       "      <th>Fantasy</th>\n",
       "      <th>Horror</th>\n",
       "      <th>Mystery</th>\n",
       "      <th>Romance</th>\n",
       "      <th>Sci-Fi</th>\n",
       "      <th>Thriller</th>\n",
       "    </tr>\n",
       "  </thead>\n",
       "  <tbody>\n",
       "    <tr>\n",
       "      <th>0</th>\n",
       "      <td>0</td>\n",
       "      <td>0</td>\n",
       "      <td>0</td>\n",
       "      <td>1</td>\n",
       "      <td>0</td>\n",
       "      <td>1</td>\n",
       "      <td>0</td>\n",
       "      <td>0</td>\n",
       "      <td>0</td>\n",
       "      <td>0</td>\n",
       "    </tr>\n",
       "    <tr>\n",
       "      <th>1</th>\n",
       "      <td>0</td>\n",
       "      <td>0</td>\n",
       "      <td>0</td>\n",
       "      <td>0</td>\n",
       "      <td>1</td>\n",
       "      <td>1</td>\n",
       "      <td>1</td>\n",
       "      <td>0</td>\n",
       "      <td>0</td>\n",
       "      <td>0</td>\n",
       "    </tr>\n",
       "    <tr>\n",
       "      <th>2</th>\n",
       "      <td>0</td>\n",
       "      <td>0</td>\n",
       "      <td>0</td>\n",
       "      <td>1</td>\n",
       "      <td>0</td>\n",
       "      <td>0</td>\n",
       "      <td>1</td>\n",
       "      <td>0</td>\n",
       "      <td>0</td>\n",
       "      <td>0</td>\n",
       "    </tr>\n",
       "    <tr>\n",
       "      <th>3</th>\n",
       "      <td>0</td>\n",
       "      <td>0</td>\n",
       "      <td>1</td>\n",
       "      <td>1</td>\n",
       "      <td>0</td>\n",
       "      <td>0</td>\n",
       "      <td>1</td>\n",
       "      <td>0</td>\n",
       "      <td>0</td>\n",
       "      <td>0</td>\n",
       "    </tr>\n",
       "    <tr>\n",
       "      <th>4</th>\n",
       "      <td>0</td>\n",
       "      <td>0</td>\n",
       "      <td>0</td>\n",
       "      <td>1</td>\n",
       "      <td>0</td>\n",
       "      <td>0</td>\n",
       "      <td>1</td>\n",
       "      <td>0</td>\n",
       "      <td>0</td>\n",
       "      <td>0</td>\n",
       "    </tr>\n",
       "  </tbody>\n",
       "</table>\n",
       "</div>"
      ],
      "text/plain": [
       "   Action  Adventure  Comedy  Crime  Fantasy  Horror  Mystery  Romance  \\\n",
       "0       0          0       0      1        0       1        0        0   \n",
       "1       0          0       0      0        1       1        1        0   \n",
       "2       0          0       0      1        0       0        1        0   \n",
       "3       0          0       1      1        0       0        1        0   \n",
       "4       0          0       0      1        0       0        1        0   \n",
       "\n",
       "   Sci-Fi  Thriller  \n",
       "0       0         0  \n",
       "1       0         0  \n",
       "2       0         0  \n",
       "3       0         0  \n",
       "4       0         0  "
      ]
     },
     "execution_count": 81,
     "metadata": {},
     "output_type": "execute_result"
    }
   ],
   "source": [
    "results = pd.DataFrame(y_pred_sgd1, columns=[\"Action\",\"Adventure\",\"Comedy\",\"Crime\",\"Fantasy\",\"Horror\",\"Mystery\",\"Romance\",\"Sci-Fi\",\"Thriller\"])\n",
    "results[0:5]"
   ]
  },
  {
   "cell_type": "code",
   "execution_count": 82,
   "id": "e4316505",
   "metadata": {},
   "outputs": [
    {
     "data": {
      "text/html": [
       "<div>\n",
       "<style scoped>\n",
       "    .dataframe tbody tr th:only-of-type {\n",
       "        vertical-align: middle;\n",
       "    }\n",
       "\n",
       "    .dataframe tbody tr th {\n",
       "        vertical-align: top;\n",
       "    }\n",
       "\n",
       "    .dataframe thead th {\n",
       "        text-align: right;\n",
       "    }\n",
       "</style>\n",
       "<table border=\"1\" class=\"dataframe\">\n",
       "  <thead>\n",
       "    <tr style=\"text-align: right;\">\n",
       "      <th></th>\n",
       "      <th>Action</th>\n",
       "      <th>Adventure</th>\n",
       "      <th>Comedy</th>\n",
       "      <th>Crime</th>\n",
       "      <th>Fantasy</th>\n",
       "      <th>Horror</th>\n",
       "      <th>Mystery</th>\n",
       "      <th>Romance</th>\n",
       "      <th>Sci-Fi</th>\n",
       "      <th>Thriller</th>\n",
       "    </tr>\n",
       "  </thead>\n",
       "  <tbody>\n",
       "    <tr>\n",
       "      <th>677</th>\n",
       "      <td>0</td>\n",
       "      <td>0</td>\n",
       "      <td>0</td>\n",
       "      <td>1</td>\n",
       "      <td>0</td>\n",
       "      <td>0</td>\n",
       "      <td>1</td>\n",
       "      <td>0</td>\n",
       "      <td>0</td>\n",
       "      <td>0</td>\n",
       "    </tr>\n",
       "    <tr>\n",
       "      <th>240</th>\n",
       "      <td>1</td>\n",
       "      <td>0</td>\n",
       "      <td>0</td>\n",
       "      <td>0</td>\n",
       "      <td>1</td>\n",
       "      <td>1</td>\n",
       "      <td>0</td>\n",
       "      <td>0</td>\n",
       "      <td>0</td>\n",
       "      <td>0</td>\n",
       "    </tr>\n",
       "    <tr>\n",
       "      <th>1627</th>\n",
       "      <td>0</td>\n",
       "      <td>0</td>\n",
       "      <td>0</td>\n",
       "      <td>0</td>\n",
       "      <td>0</td>\n",
       "      <td>0</td>\n",
       "      <td>0</td>\n",
       "      <td>1</td>\n",
       "      <td>0</td>\n",
       "      <td>0</td>\n",
       "    </tr>\n",
       "    <tr>\n",
       "      <th>1674</th>\n",
       "      <td>0</td>\n",
       "      <td>0</td>\n",
       "      <td>0</td>\n",
       "      <td>0</td>\n",
       "      <td>0</td>\n",
       "      <td>0</td>\n",
       "      <td>0</td>\n",
       "      <td>1</td>\n",
       "      <td>0</td>\n",
       "      <td>0</td>\n",
       "    </tr>\n",
       "    <tr>\n",
       "      <th>598</th>\n",
       "      <td>0</td>\n",
       "      <td>0</td>\n",
       "      <td>0</td>\n",
       "      <td>1</td>\n",
       "      <td>0</td>\n",
       "      <td>0</td>\n",
       "      <td>0</td>\n",
       "      <td>0</td>\n",
       "      <td>0</td>\n",
       "      <td>0</td>\n",
       "    </tr>\n",
       "  </tbody>\n",
       "</table>\n",
       "</div>"
      ],
      "text/plain": [
       "      Action  Adventure  Comedy  Crime  Fantasy  Horror  Mystery  Romance  \\\n",
       "677        0          0       0      1        0       0        1        0   \n",
       "240        1          0       0      0        1       1        0        0   \n",
       "1627       0          0       0      0        0       0        0        1   \n",
       "1674       0          0       0      0        0       0        0        1   \n",
       "598        0          0       0      1        0       0        0        0   \n",
       "\n",
       "      Sci-Fi  Thriller  \n",
       "677        0         0  \n",
       "240        0         0  \n",
       "1627       0         0  \n",
       "1674       0         0  \n",
       "598        0         0  "
      ]
     },
     "execution_count": 82,
     "metadata": {},
     "output_type": "execute_result"
    }
   ],
   "source": [
    "y_test[:5]"
   ]
  },
  {
   "cell_type": "code",
   "execution_count": 153,
   "id": "81f54bc4",
   "metadata": {},
   "outputs": [
    {
     "data": {
      "text/html": [
       "<style>#sk-container-id-12 {color: black;background-color: white;}#sk-container-id-12 pre{padding: 0;}#sk-container-id-12 div.sk-toggleable {background-color: white;}#sk-container-id-12 label.sk-toggleable__label {cursor: pointer;display: block;width: 100%;margin-bottom: 0;padding: 0.3em;box-sizing: border-box;text-align: center;}#sk-container-id-12 label.sk-toggleable__label-arrow:before {content: \"▸\";float: left;margin-right: 0.25em;color: #696969;}#sk-container-id-12 label.sk-toggleable__label-arrow:hover:before {color: black;}#sk-container-id-12 div.sk-estimator:hover label.sk-toggleable__label-arrow:before {color: black;}#sk-container-id-12 div.sk-toggleable__content {max-height: 0;max-width: 0;overflow: hidden;text-align: left;background-color: #f0f8ff;}#sk-container-id-12 div.sk-toggleable__content pre {margin: 0.2em;color: black;border-radius: 0.25em;background-color: #f0f8ff;}#sk-container-id-12 input.sk-toggleable__control:checked~div.sk-toggleable__content {max-height: 200px;max-width: 100%;overflow: auto;}#sk-container-id-12 input.sk-toggleable__control:checked~label.sk-toggleable__label-arrow:before {content: \"▾\";}#sk-container-id-12 div.sk-estimator input.sk-toggleable__control:checked~label.sk-toggleable__label {background-color: #d4ebff;}#sk-container-id-12 div.sk-label input.sk-toggleable__control:checked~label.sk-toggleable__label {background-color: #d4ebff;}#sk-container-id-12 input.sk-hidden--visually {border: 0;clip: rect(1px 1px 1px 1px);clip: rect(1px, 1px, 1px, 1px);height: 1px;margin: -1px;overflow: hidden;padding: 0;position: absolute;width: 1px;}#sk-container-id-12 div.sk-estimator {font-family: monospace;background-color: #f0f8ff;border: 1px dotted black;border-radius: 0.25em;box-sizing: border-box;margin-bottom: 0.5em;}#sk-container-id-12 div.sk-estimator:hover {background-color: #d4ebff;}#sk-container-id-12 div.sk-parallel-item::after {content: \"\";width: 100%;border-bottom: 1px solid gray;flex-grow: 1;}#sk-container-id-12 div.sk-label:hover label.sk-toggleable__label {background-color: #d4ebff;}#sk-container-id-12 div.sk-serial::before {content: \"\";position: absolute;border-left: 1px solid gray;box-sizing: border-box;top: 0;bottom: 0;left: 50%;z-index: 0;}#sk-container-id-12 div.sk-serial {display: flex;flex-direction: column;align-items: center;background-color: white;padding-right: 0.2em;padding-left: 0.2em;position: relative;}#sk-container-id-12 div.sk-item {position: relative;z-index: 1;}#sk-container-id-12 div.sk-parallel {display: flex;align-items: stretch;justify-content: center;background-color: white;position: relative;}#sk-container-id-12 div.sk-item::before, #sk-container-id-12 div.sk-parallel-item::before {content: \"\";position: absolute;border-left: 1px solid gray;box-sizing: border-box;top: 0;bottom: 0;left: 50%;z-index: -1;}#sk-container-id-12 div.sk-parallel-item {display: flex;flex-direction: column;z-index: 1;position: relative;background-color: white;}#sk-container-id-12 div.sk-parallel-item:first-child::after {align-self: flex-end;width: 50%;}#sk-container-id-12 div.sk-parallel-item:last-child::after {align-self: flex-start;width: 50%;}#sk-container-id-12 div.sk-parallel-item:only-child::after {width: 0;}#sk-container-id-12 div.sk-dashed-wrapped {border: 1px dashed gray;margin: 0 0.4em 0.5em 0.4em;box-sizing: border-box;padding-bottom: 0.4em;background-color: white;}#sk-container-id-12 div.sk-label label {font-family: monospace;font-weight: bold;display: inline-block;line-height: 1.2em;}#sk-container-id-12 div.sk-label-container {text-align: center;}#sk-container-id-12 div.sk-container {/* jupyter's `normalize.less` sets `[hidden] { display: none; }` but bootstrap.min.css set `[hidden] { display: none !important; }` so we also need the `!important` here to be able to override the default hidden behavior on the sphinx rendered scikit-learn.org. See: https://github.com/scikit-learn/scikit-learn/issues/21755 */display: inline-block !important;position: relative;}#sk-container-id-12 div.sk-text-repr-fallback {display: none;}</style><div id=\"sk-container-id-12\" class=\"sk-top-container\"><div class=\"sk-text-repr-fallback\"><pre>RandomizedSearchCV(estimator=OneVsRestClassifier(estimator=SGDClassifier()),\n",
       "                   n_jobs=-1,\n",
       "                   param_distributions={&#x27;estimator__alpha&#x27;: [9e-06, 1e-05,\n",
       "                                                             2e-05, 3e-05,\n",
       "                                                             4e-05, 5e-05,\n",
       "                                                             0.0001],\n",
       "                                        &#x27;estimator__penalty&#x27;: [&#x27;l1&#x27;, &#x27;l2&#x27;]},\n",
       "                   random_state=42, scoring=&#x27;f1_micro&#x27;)</pre><b>In a Jupyter environment, please rerun this cell to show the HTML representation or trust the notebook. <br />On GitHub, the HTML representation is unable to render, please try loading this page with nbviewer.org.</b></div><div class=\"sk-container\" hidden><div class=\"sk-item sk-dashed-wrapped\"><div class=\"sk-label-container\"><div class=\"sk-label sk-toggleable\"><input class=\"sk-toggleable__control sk-hidden--visually\" id=\"sk-estimator-id-42\" type=\"checkbox\" ><label for=\"sk-estimator-id-42\" class=\"sk-toggleable__label sk-toggleable__label-arrow\">RandomizedSearchCV</label><div class=\"sk-toggleable__content\"><pre>RandomizedSearchCV(estimator=OneVsRestClassifier(estimator=SGDClassifier()),\n",
       "                   n_jobs=-1,\n",
       "                   param_distributions={&#x27;estimator__alpha&#x27;: [9e-06, 1e-05,\n",
       "                                                             2e-05, 3e-05,\n",
       "                                                             4e-05, 5e-05,\n",
       "                                                             0.0001],\n",
       "                                        &#x27;estimator__penalty&#x27;: [&#x27;l1&#x27;, &#x27;l2&#x27;]},\n",
       "                   random_state=42, scoring=&#x27;f1_micro&#x27;)</pre></div></div></div><div class=\"sk-parallel\"><div class=\"sk-parallel-item\"><div class=\"sk-item\"><div class=\"sk-label-container\"><div class=\"sk-label sk-toggleable\"><input class=\"sk-toggleable__control sk-hidden--visually\" id=\"sk-estimator-id-43\" type=\"checkbox\" ><label for=\"sk-estimator-id-43\" class=\"sk-toggleable__label sk-toggleable__label-arrow\">estimator: OneVsRestClassifier</label><div class=\"sk-toggleable__content\"><pre>OneVsRestClassifier(estimator=SGDClassifier())</pre></div></div></div><div class=\"sk-serial\"><div class=\"sk-item sk-dashed-wrapped\"><div class=\"sk-parallel\"><div class=\"sk-parallel-item\"><div class=\"sk-item\"><div class=\"sk-label-container\"><div class=\"sk-label sk-toggleable\"><input class=\"sk-toggleable__control sk-hidden--visually\" id=\"sk-estimator-id-44\" type=\"checkbox\" ><label for=\"sk-estimator-id-44\" class=\"sk-toggleable__label sk-toggleable__label-arrow\">estimator: SGDClassifier</label><div class=\"sk-toggleable__content\"><pre>SGDClassifier()</pre></div></div></div><div class=\"sk-serial\"><div class=\"sk-item\"><div class=\"sk-estimator sk-toggleable\"><input class=\"sk-toggleable__control sk-hidden--visually\" id=\"sk-estimator-id-45\" type=\"checkbox\" ><label for=\"sk-estimator-id-45\" class=\"sk-toggleable__label sk-toggleable__label-arrow\">SGDClassifier</label><div class=\"sk-toggleable__content\"><pre>SGDClassifier()</pre></div></div></div></div></div></div></div></div></div></div></div></div></div></div></div>"
      ],
      "text/plain": [
       "RandomizedSearchCV(estimator=OneVsRestClassifier(estimator=SGDClassifier()),\n",
       "                   n_jobs=-1,\n",
       "                   param_distributions={'estimator__alpha': [9e-06, 1e-05,\n",
       "                                                             2e-05, 3e-05,\n",
       "                                                             4e-05, 5e-05,\n",
       "                                                             0.0001],\n",
       "                                        'estimator__penalty': ['l1', 'l2']},\n",
       "                   random_state=42, scoring='f1_micro')"
      ]
     },
     "execution_count": 153,
     "metadata": {},
     "output_type": "execute_result"
    }
   ],
   "source": [
    "estimator = OneVsRestClassifier(SGDClassifier())\n",
    "params = {\n",
    "    \"estimator__penalty\": [\"l1\",\"l2\"],\n",
    "    \"estimator__alpha\": [0.000009, 0.00001,0.00002,0.00003, 0.00004, 0.00005, 0.0001],\n",
    "}\n",
    "\n",
    "grid_search = RandomizedSearchCV(\n",
    "    estimator=estimator,\n",
    "    param_distributions=params,\n",
    "    scoring=\"f1_micro\",  # Remove the list here\n",
    "    n_iter=10,  # Number of parameter settings that are sampled\n",
    "    random_state=42,  # For reproducibility\n",
    "    n_jobs=-1  # Use all available CPU cores\n",
    ")\n",
    "\n",
    "grid_search.fit(X_train_vec, y_train)"
   ]
  },
  {
   "cell_type": "code",
   "execution_count": 154,
   "id": "74b30a08",
   "metadata": {},
   "outputs": [
    {
     "data": {
      "text/plain": [
       "{'estimator__penalty': 'l1', 'estimator__alpha': 2e-05}"
      ]
     },
     "execution_count": 154,
     "metadata": {},
     "output_type": "execute_result"
    }
   ],
   "source": [
    "grid_search.best_params_"
   ]
  },
  {
   "cell_type": "code",
   "execution_count": 155,
   "id": "a38a4a17",
   "metadata": {},
   "outputs": [
    {
     "data": {
      "text/plain": [
       "0.5460620160408131"
      ]
     },
     "execution_count": 155,
     "metadata": {},
     "output_type": "execute_result"
    }
   ],
   "source": [
    "grid_search.best_score_"
   ]
  },
  {
   "cell_type": "code",
   "execution_count": 156,
   "id": "f1939db5",
   "metadata": {},
   "outputs": [
    {
     "name": "stdout",
     "output_type": "stream",
     "text": [
      "Accuracy =  0.09688581314878893\n",
      "F1 =  0.5386454183266932\n",
      "Precision =  0.5360824742268041\n",
      "Hamming loss =  0.20034602076124566\n",
      "\n",
      "\n"
     ]
    }
   ],
   "source": [
    "best_SGD_model = OneVsRestClassifier(SGDClassifier(penalty=\"l1\", alpha=0.00005))\n",
    "best_SGD_model.fit(X_train_vec,y_train)\n",
    "predictions_SGD = best_SGD_model.predict(X_test_vec)\n",
    "print(\"Accuracy = \",accuracy_score(y_test,predictions_SGD))\n",
    "print(\"F1 = \",f1_score(y_test,predictions_SGD, average=\"micro\"))\n",
    "print(\"Precision = \",precision_score(y_test,predictions_SGD,average=\"micro\" ))\n",
    "print(\"Hamming loss = \",hamming_loss(y_test,predictions_SGD))\n",
    "print(\"\\n\")"
   ]
  },
  {
   "cell_type": "code",
   "execution_count": 84,
   "id": "176abb4c",
   "metadata": {},
   "outputs": [],
   "source": [
    "# multilabel_binarizer.inverse_transform(y_pred_sgd1)[2]"
   ]
  },
  {
   "cell_type": "code",
   "execution_count": 90,
   "id": "0b0b233f",
   "metadata": {},
   "outputs": [],
   "source": [
    "# test_df3[test_df3.clean_sypnosis == X_test.clean_sypnosis.iloc[2]]"
   ]
  },
  {
   "cell_type": "markdown",
   "id": "1c0e2c45",
   "metadata": {
    "heading_collapsed": true
   },
   "source": [
    "## Random Forest Classifier"
   ]
  },
  {
   "cell_type": "code",
   "execution_count": 91,
   "id": "691f86c4",
   "metadata": {
    "hidden": true
   },
   "outputs": [],
   "source": [
    "# rfc = RandomForestClassifier(random_state = 42)\n",
    "# rfc_model = OneVsRestClassifier(rfc)\n",
    "\n",
    "# rfc_model.fit(X_train_vec,y_train)"
   ]
  },
  {
   "cell_type": "code",
   "execution_count": 92,
   "id": "97f43ab3",
   "metadata": {
    "hidden": true
   },
   "outputs": [],
   "source": [
    "# y_pred_rfc1 = rfc_model.predict(X_test_vec)"
   ]
  },
  {
   "cell_type": "code",
   "execution_count": 93,
   "id": "aed0796f",
   "metadata": {
    "hidden": true
   },
   "outputs": [],
   "source": [
    "# results = pd.DataFrame(y_pred_rfc1, columns=[\"Action\",\"Adventure\",\"Comedy\",\"Crime\",\"Fantasy\",\"Horror\",\"Mystery\",\"Romance\",\"Sci-Fi\",\"Thriller\"])\n",
    "# results[4:5]"
   ]
  },
  {
   "cell_type": "code",
   "execution_count": 94,
   "id": "76577eec",
   "metadata": {
    "hidden": true
   },
   "outputs": [],
   "source": [
    "# no_drama_df[no_drama_df.clean_sypnosis == X_test.clean_sypnosis.iloc[4]]"
   ]
  },
  {
   "cell_type": "code",
   "execution_count": 95,
   "id": "e070c4ca",
   "metadata": {
    "hidden": true
   },
   "outputs": [],
   "source": [
    "# accuracy_score(y_test, y_pred_rfc1)"
   ]
  },
  {
   "cell_type": "code",
   "execution_count": 96,
   "id": "4f6271bb",
   "metadata": {
    "hidden": true
   },
   "outputs": [],
   "source": [
    "# f1_score(y_test, y_pred_rfc1, average=\"micro\")"
   ]
  },
  {
   "cell_type": "markdown",
   "id": "261f0ee7",
   "metadata": {
    "heading_collapsed": true
   },
   "source": [
    "## Poly SVC"
   ]
  },
  {
   "cell_type": "code",
   "execution_count": 97,
   "id": "72d87c1d",
   "metadata": {
    "hidden": true
   },
   "outputs": [],
   "source": [
    "# X_train1, X_val1, y_train1, y_val1 = train_test_split(merged_df['clean_sypnosis'], y, test_size = 0.3, random_state = 0)\n",
    "# tfidf_vectorizer = TfidfVectorizer()\n",
    "# X_train_tfidf1 = tfidf_vectorizer.fit_transform(X_train1)\n",
    "# X_val_tfidf1 = tfidf_vectorizer.transform(X_val1)\n",
    "# sgd = SGDClassifier()\n",
    "# lr = LogisticRegression(C=1.0)\n",
    "# svc = SVC(kernel='poly')\n",
    "# nb = MultinomialNB()\n",
    "# # One vs Restclassifier\n",
    "# model = OneVsRestClassifier(svc)\n",
    "# model.fit(X_train_tfidf1, y_train1)\n",
    "# y_pred1 = model.predict(X_val_tfidf1)\n",
    "# print(f'Accuracy score for SVC poly model is {accuracy_score(y_val1, y_pred1)}')\n",
    "# print(f'F1 score for SVC poly model is {f1_score(y_val1, y_pred1, average=\"micro\")}')"
   ]
  },
  {
   "cell_type": "code",
   "execution_count": 98,
   "id": "f2301659",
   "metadata": {
    "hidden": true
   },
   "outputs": [],
   "source": [
    "# sgd = SGDClassifier()\n",
    "# lr = LogisticRegression(C=1.0)\n",
    "# svc = SVC(kernel='poly')\n",
    "# nb = MultinomialNB()\n",
    "# # One vs Restclassifier\n",
    "# model = OneVsRestClassifier(svc)\n",
    "# model.fit(X_train_vec, y_train)\n",
    "# y_pred_sgd2 = model.predict(X_test_vec)\n",
    "# print(f'Accuracy score for SVC poly model is {accuracy_score(y_test, y_pred_sgd2)}')\n",
    "# print(f'F1 score for SVC poly model is {f1_score(y_test, y_pred_sgd2, average=\"micro\")}')"
   ]
  },
  {
   "cell_type": "code",
   "execution_count": 99,
   "id": "228b8f12",
   "metadata": {
    "hidden": true
   },
   "outputs": [],
   "source": [
    "# X_train1, X_val1, y_train1, y_val1 = train_test_split(merged_df['clean_sypnosis'], y, test_size = 0.3, random_state = 0)\n",
    "# tfidf_vectorizer = TfidfVectorizer()\n",
    "# X_train_tfidf1 = tfidf_vectorizer.fit_transform(X_train1)\n",
    "# X_val_tfidf1 = tfidf_vectorizer.transform(X_val1)\n",
    "# sgd = SGDClassifier()\n",
    "# lr = LogisticRegression(C=1.0)\n",
    "# svc = SVC(kernel='poly')\n",
    "# nb = MultinomialNB()\n",
    "# # One vs Restclassifier\n",
    "# model = OneVsRestClassifier(svc)\n",
    "# model.fit(X_train_tfidf1, y_train1)\n",
    "# y_pred1 = model.predict(X_val_tfidf1)\n",
    "# print(f'Accuracy score for SVC poly model is {accuracy_score(y_val1, y_pred1)}')\n",
    "# print(f'F1 score for SVC poly model is {f1_score(y_val1, y_pred1)}')"
   ]
  },
  {
   "cell_type": "markdown",
   "id": "0f0d7abe",
   "metadata": {},
   "source": [
    "## Label Powerset"
   ]
  },
  {
   "cell_type": "code",
   "execution_count": 100,
   "id": "e09e61d1",
   "metadata": {},
   "outputs": [
    {
     "name": "stdout",
     "output_type": "stream",
     "text": [
      "Accuracy =  0.23875432525951557\n",
      "F1 =  0.5515527950310559\n",
      "\n",
      "\n"
     ]
    },
    {
     "name": "stderr",
     "output_type": "stream",
     "text": [
      "/home/yinghui/.pyenv/versions/3.10.6/envs/lewagon/lib/python3.10/site-packages/sklearn/base.py:413: UserWarning: X has feature names, but LogisticRegression was fitted without feature names\n",
      "  warnings.warn(\n"
     ]
    }
   ],
   "source": [
    "# using Label Powerset\n",
    "from skmultilearn.problem_transform import LabelPowerset\n",
    "# initialize label powerset multi-label classifier\n",
    "classifier = LabelPowerset(LogisticRegression())\n",
    "# train\n",
    "classifier.fit(X_train_vec, y_train)\n",
    "# predict\n",
    "predictions_lp = classifier.predict(X_test_vec)\n",
    "# accuracy\n",
    "print(\"Accuracy = \",accuracy_score(y_test,predictions_lp))\n",
    "print(\"F1 = \",f1_score(y_test,predictions_lp, average=\"micro\"))\n",
    "print(\"\\n\")"
   ]
  },
  {
   "cell_type": "code",
   "execution_count": 101,
   "id": "3c9b8494",
   "metadata": {},
   "outputs": [
    {
     "data": {
      "text/plain": [
       "array([[0, 0, 0, ..., 0, 0, 0],\n",
       "       [1, 1, 0, ..., 0, 1, 0],\n",
       "       [0, 0, 0, ..., 0, 0, 0],\n",
       "       ...,\n",
       "       [0, 0, 1, ..., 1, 0, 0],\n",
       "       [1, 1, 0, ..., 0, 0, 0],\n",
       "       [0, 0, 0, ..., 0, 0, 0]])"
      ]
     },
     "execution_count": 101,
     "metadata": {},
     "output_type": "execute_result"
    }
   ],
   "source": [
    "predictions_lp.toarray()"
   ]
  },
  {
   "cell_type": "code",
   "execution_count": 102,
   "id": "fb0d25a3",
   "metadata": {},
   "outputs": [
    {
     "data": {
      "text/html": [
       "<div>\n",
       "<style scoped>\n",
       "    .dataframe tbody tr th:only-of-type {\n",
       "        vertical-align: middle;\n",
       "    }\n",
       "\n",
       "    .dataframe tbody tr th {\n",
       "        vertical-align: top;\n",
       "    }\n",
       "\n",
       "    .dataframe thead th {\n",
       "        text-align: right;\n",
       "    }\n",
       "</style>\n",
       "<table border=\"1\" class=\"dataframe\">\n",
       "  <thead>\n",
       "    <tr style=\"text-align: right;\">\n",
       "      <th></th>\n",
       "      <th>Action</th>\n",
       "      <th>Adventure</th>\n",
       "      <th>Comedy</th>\n",
       "      <th>Crime</th>\n",
       "      <th>Fantasy</th>\n",
       "      <th>Horror</th>\n",
       "      <th>Mystery</th>\n",
       "      <th>Romance</th>\n",
       "      <th>Sci-Fi</th>\n",
       "      <th>Thriller</th>\n",
       "    </tr>\n",
       "  </thead>\n",
       "  <tbody>\n",
       "    <tr>\n",
       "      <th>0</th>\n",
       "      <td>0</td>\n",
       "      <td>0</td>\n",
       "      <td>0</td>\n",
       "      <td>1</td>\n",
       "      <td>0</td>\n",
       "      <td>0</td>\n",
       "      <td>1</td>\n",
       "      <td>0</td>\n",
       "      <td>0</td>\n",
       "      <td>0</td>\n",
       "    </tr>\n",
       "    <tr>\n",
       "      <th>1</th>\n",
       "      <td>1</td>\n",
       "      <td>1</td>\n",
       "      <td>0</td>\n",
       "      <td>0</td>\n",
       "      <td>0</td>\n",
       "      <td>0</td>\n",
       "      <td>0</td>\n",
       "      <td>0</td>\n",
       "      <td>1</td>\n",
       "      <td>0</td>\n",
       "    </tr>\n",
       "    <tr>\n",
       "      <th>2</th>\n",
       "      <td>0</td>\n",
       "      <td>0</td>\n",
       "      <td>0</td>\n",
       "      <td>1</td>\n",
       "      <td>0</td>\n",
       "      <td>0</td>\n",
       "      <td>1</td>\n",
       "      <td>0</td>\n",
       "      <td>0</td>\n",
       "      <td>0</td>\n",
       "    </tr>\n",
       "    <tr>\n",
       "      <th>3</th>\n",
       "      <td>0</td>\n",
       "      <td>0</td>\n",
       "      <td>1</td>\n",
       "      <td>0</td>\n",
       "      <td>0</td>\n",
       "      <td>0</td>\n",
       "      <td>0</td>\n",
       "      <td>1</td>\n",
       "      <td>0</td>\n",
       "      <td>0</td>\n",
       "    </tr>\n",
       "    <tr>\n",
       "      <th>4</th>\n",
       "      <td>0</td>\n",
       "      <td>0</td>\n",
       "      <td>0</td>\n",
       "      <td>1</td>\n",
       "      <td>0</td>\n",
       "      <td>0</td>\n",
       "      <td>1</td>\n",
       "      <td>0</td>\n",
       "      <td>0</td>\n",
       "      <td>0</td>\n",
       "    </tr>\n",
       "  </tbody>\n",
       "</table>\n",
       "</div>"
      ],
      "text/plain": [
       "   Action  Adventure  Comedy  Crime  Fantasy  Horror  Mystery  Romance  \\\n",
       "0       0          0       0      1        0       0        1        0   \n",
       "1       1          1       0      0        0       0        0        0   \n",
       "2       0          0       0      1        0       0        1        0   \n",
       "3       0          0       1      0        0       0        0        1   \n",
       "4       0          0       0      1        0       0        1        0   \n",
       "\n",
       "   Sci-Fi  Thriller  \n",
       "0       0         0  \n",
       "1       1         0  \n",
       "2       0         0  \n",
       "3       0         0  \n",
       "4       0         0  "
      ]
     },
     "execution_count": 102,
     "metadata": {},
     "output_type": "execute_result"
    }
   ],
   "source": [
    "results = pd.DataFrame(predictions_lp.toarray(), columns=[\"Action\",\"Adventure\",\"Comedy\",\"Crime\",\"Fantasy\",\"Horror\",\"Mystery\",\"Romance\",\"Sci-Fi\",\"Thriller\"])\n",
    "results[:5]"
   ]
  },
  {
   "cell_type": "code",
   "execution_count": 103,
   "id": "9e82f679",
   "metadata": {},
   "outputs": [
    {
     "data": {
      "text/html": [
       "<div>\n",
       "<style scoped>\n",
       "    .dataframe tbody tr th:only-of-type {\n",
       "        vertical-align: middle;\n",
       "    }\n",
       "\n",
       "    .dataframe tbody tr th {\n",
       "        vertical-align: top;\n",
       "    }\n",
       "\n",
       "    .dataframe thead th {\n",
       "        text-align: right;\n",
       "    }\n",
       "</style>\n",
       "<table border=\"1\" class=\"dataframe\">\n",
       "  <thead>\n",
       "    <tr style=\"text-align: right;\">\n",
       "      <th></th>\n",
       "      <th>Action</th>\n",
       "      <th>Adventure</th>\n",
       "      <th>Comedy</th>\n",
       "      <th>Crime</th>\n",
       "      <th>Fantasy</th>\n",
       "      <th>Horror</th>\n",
       "      <th>Mystery</th>\n",
       "      <th>Romance</th>\n",
       "      <th>Sci-Fi</th>\n",
       "      <th>Thriller</th>\n",
       "    </tr>\n",
       "  </thead>\n",
       "  <tbody>\n",
       "    <tr>\n",
       "      <th>677</th>\n",
       "      <td>0</td>\n",
       "      <td>0</td>\n",
       "      <td>0</td>\n",
       "      <td>1</td>\n",
       "      <td>0</td>\n",
       "      <td>0</td>\n",
       "      <td>1</td>\n",
       "      <td>0</td>\n",
       "      <td>0</td>\n",
       "      <td>0</td>\n",
       "    </tr>\n",
       "    <tr>\n",
       "      <th>240</th>\n",
       "      <td>1</td>\n",
       "      <td>0</td>\n",
       "      <td>0</td>\n",
       "      <td>0</td>\n",
       "      <td>1</td>\n",
       "      <td>1</td>\n",
       "      <td>0</td>\n",
       "      <td>0</td>\n",
       "      <td>0</td>\n",
       "      <td>0</td>\n",
       "    </tr>\n",
       "    <tr>\n",
       "      <th>1627</th>\n",
       "      <td>0</td>\n",
       "      <td>0</td>\n",
       "      <td>0</td>\n",
       "      <td>0</td>\n",
       "      <td>0</td>\n",
       "      <td>0</td>\n",
       "      <td>0</td>\n",
       "      <td>1</td>\n",
       "      <td>0</td>\n",
       "      <td>0</td>\n",
       "    </tr>\n",
       "    <tr>\n",
       "      <th>1674</th>\n",
       "      <td>0</td>\n",
       "      <td>0</td>\n",
       "      <td>0</td>\n",
       "      <td>0</td>\n",
       "      <td>0</td>\n",
       "      <td>0</td>\n",
       "      <td>0</td>\n",
       "      <td>1</td>\n",
       "      <td>0</td>\n",
       "      <td>0</td>\n",
       "    </tr>\n",
       "    <tr>\n",
       "      <th>598</th>\n",
       "      <td>0</td>\n",
       "      <td>0</td>\n",
       "      <td>0</td>\n",
       "      <td>1</td>\n",
       "      <td>0</td>\n",
       "      <td>0</td>\n",
       "      <td>0</td>\n",
       "      <td>0</td>\n",
       "      <td>0</td>\n",
       "      <td>0</td>\n",
       "    </tr>\n",
       "  </tbody>\n",
       "</table>\n",
       "</div>"
      ],
      "text/plain": [
       "      Action  Adventure  Comedy  Crime  Fantasy  Horror  Mystery  Romance  \\\n",
       "677        0          0       0      1        0       0        1        0   \n",
       "240        1          0       0      0        1       1        0        0   \n",
       "1627       0          0       0      0        0       0        0        1   \n",
       "1674       0          0       0      0        0       0        0        1   \n",
       "598        0          0       0      1        0       0        0        0   \n",
       "\n",
       "      Sci-Fi  Thriller  \n",
       "677        0         0  \n",
       "240        0         0  \n",
       "1627       0         0  \n",
       "1674       0         0  \n",
       "598        0         0  "
      ]
     },
     "execution_count": 103,
     "metadata": {},
     "output_type": "execute_result"
    }
   ],
   "source": [
    "y_test[:5]"
   ]
  },
  {
   "cell_type": "code",
   "execution_count": 104,
   "id": "83fe7e0e",
   "metadata": {},
   "outputs": [],
   "source": [
    "# no_drama_df[no_drama_df.clean_sypnosis == X_test.clean_sypnosis.iloc[4]]"
   ]
  },
  {
   "cell_type": "code",
   "execution_count": 105,
   "id": "571a2fa5",
   "metadata": {
    "scrolled": true
   },
   "outputs": [],
   "source": [
    "# multilabel_binarizer.inverse_transform(predictions_lp)[0:10]"
   ]
  },
  {
   "cell_type": "code",
   "execution_count": 106,
   "id": "f31aaaf0",
   "metadata": {},
   "outputs": [],
   "source": [
    "# condition = test_df3['clean_sypnosis'].isin(X_test['clean_sypnosis'][:10])\n",
    "# filtered_df = test_df3[condition]\n",
    "# filtered_df[\"genre\"]"
   ]
  },
  {
   "cell_type": "code",
   "execution_count": 157,
   "id": "5ef026f9",
   "metadata": {},
   "outputs": [
    {
     "name": "stderr",
     "output_type": "stream",
     "text": [
      "/home/yinghui/.pyenv/versions/3.10.6/envs/lewagon/lib/python3.10/site-packages/sklearn/base.py:413: UserWarning: X has feature names, but LogisticRegression was fitted without feature names\n",
      "  warnings.warn(\n",
      "/home/yinghui/.pyenv/versions/3.10.6/envs/lewagon/lib/python3.10/site-packages/sklearn/base.py:413: UserWarning: X has feature names, but LogisticRegression was fitted without feature names\n",
      "  warnings.warn(\n",
      "/home/yinghui/.pyenv/versions/3.10.6/envs/lewagon/lib/python3.10/site-packages/sklearn/base.py:413: UserWarning: X has feature names, but LogisticRegression was fitted without feature names\n",
      "  warnings.warn(\n",
      "/home/yinghui/.pyenv/versions/3.10.6/envs/lewagon/lib/python3.10/site-packages/sklearn/base.py:413: UserWarning: X has feature names, but LogisticRegression was fitted without feature names\n",
      "  warnings.warn(\n",
      "/home/yinghui/.pyenv/versions/3.10.6/envs/lewagon/lib/python3.10/site-packages/sklearn/base.py:413: UserWarning: X has feature names, but LogisticRegression was fitted without feature names\n",
      "  warnings.warn(\n",
      "/home/yinghui/.pyenv/versions/3.10.6/envs/lewagon/lib/python3.10/site-packages/sklearn/base.py:413: UserWarning: X has feature names, but LogisticRegression was fitted without feature names\n",
      "  warnings.warn(\n",
      "/home/yinghui/.pyenv/versions/3.10.6/envs/lewagon/lib/python3.10/site-packages/sklearn/base.py:413: UserWarning: X has feature names, but LogisticRegression was fitted without feature names\n",
      "  warnings.warn(\n",
      "/home/yinghui/.pyenv/versions/3.10.6/envs/lewagon/lib/python3.10/site-packages/sklearn/base.py:413: UserWarning: X has feature names, but LogisticRegression was fitted without feature names\n",
      "  warnings.warn(\n",
      "/home/yinghui/.pyenv/versions/3.10.6/envs/lewagon/lib/python3.10/site-packages/sklearn/base.py:413: UserWarning: X has feature names, but LogisticRegression was fitted without feature names\n",
      "  warnings.warn(\n",
      "/home/yinghui/.pyenv/versions/3.10.6/envs/lewagon/lib/python3.10/site-packages/sklearn/base.py:413: UserWarning: X has feature names, but LogisticRegression was fitted without feature names\n",
      "  warnings.warn(\n",
      "/home/yinghui/.pyenv/versions/3.10.6/envs/lewagon/lib/python3.10/site-packages/sklearn/base.py:413: UserWarning: X has feature names, but LogisticRegression was fitted without feature names\n",
      "  warnings.warn(\n",
      "/home/yinghui/.pyenv/versions/3.10.6/envs/lewagon/lib/python3.10/site-packages/sklearn/base.py:413: UserWarning: X has feature names, but LogisticRegression was fitted without feature names\n",
      "  warnings.warn(\n",
      "/home/yinghui/.pyenv/versions/3.10.6/envs/lewagon/lib/python3.10/site-packages/sklearn/base.py:413: UserWarning: X has feature names, but LogisticRegression was fitted without feature names\n",
      "  warnings.warn(\n",
      "/home/yinghui/.pyenv/versions/3.10.6/envs/lewagon/lib/python3.10/site-packages/sklearn/base.py:413: UserWarning: X has feature names, but LogisticRegression was fitted without feature names\n",
      "  warnings.warn(\n",
      "/home/yinghui/.pyenv/versions/3.10.6/envs/lewagon/lib/python3.10/site-packages/sklearn/base.py:413: UserWarning: X has feature names, but LogisticRegression was fitted without feature names\n",
      "  warnings.warn(\n",
      "/home/yinghui/.pyenv/versions/3.10.6/envs/lewagon/lib/python3.10/site-packages/sklearn/base.py:413: UserWarning: X has feature names, but LogisticRegression was fitted without feature names\n",
      "  warnings.warn(\n",
      "/home/yinghui/.pyenv/versions/3.10.6/envs/lewagon/lib/python3.10/site-packages/sklearn/base.py:413: UserWarning: X has feature names, but LogisticRegression was fitted without feature names\n",
      "  warnings.warn(\n",
      "/home/yinghui/.pyenv/versions/3.10.6/envs/lewagon/lib/python3.10/site-packages/sklearn/base.py:413: UserWarning: X has feature names, but LogisticRegression was fitted without feature names\n",
      "  warnings.warn(\n",
      "/home/yinghui/.pyenv/versions/3.10.6/envs/lewagon/lib/python3.10/site-packages/sklearn/base.py:413: UserWarning: X has feature names, but LogisticRegression was fitted without feature names\n",
      "  warnings.warn(\n",
      "/home/yinghui/.pyenv/versions/3.10.6/envs/lewagon/lib/python3.10/site-packages/sklearn/base.py:413: UserWarning: X has feature names, but LogisticRegression was fitted without feature names\n",
      "  warnings.warn(\n",
      "/home/yinghui/.pyenv/versions/3.10.6/envs/lewagon/lib/python3.10/site-packages/sklearn/model_selection/_validation.py:378: FitFailedWarning: \n",
      "30 fits failed out of a total of 50.\n",
      "The score on these train-test partitions for these parameters will be set to nan.\n",
      "If these failures are not expected, you can try to debug them by setting error_score='raise'.\n",
      "\n",
      "Below are more details about the failures:\n",
      "--------------------------------------------------------------------------------\n",
      "5 fits failed with the following error:\n",
      "Traceback (most recent call last):\n",
      "  File \"/home/yinghui/.pyenv/versions/3.10.6/envs/lewagon/lib/python3.10/site-packages/sklearn/model_selection/_validation.py\", line 686, in _fit_and_score\n",
      "    estimator.fit(X_train, y_train, **fit_params)\n",
      "  File \"/home/yinghui/.pyenv/versions/3.10.6/envs/lewagon/lib/python3.10/site-packages/skmultilearn/problem_transform/lp.py\", line 140, in fit\n",
      "    self.classifier.fit(self._ensure_input_format(X),\n",
      "  File \"/home/yinghui/.pyenv/versions/3.10.6/envs/lewagon/lib/python3.10/site-packages/sklearn/linear_model/_logistic.py\", line 1162, in fit\n",
      "    solver = _check_solver(self.solver, self.penalty, self.dual)\n",
      "  File \"/home/yinghui/.pyenv/versions/3.10.6/envs/lewagon/lib/python3.10/site-packages/sklearn/linear_model/_logistic.py\", line 54, in _check_solver\n",
      "    raise ValueError(\n",
      "ValueError: Solver newton-cholesky supports only 'l2' or 'none' penalties, got l1 penalty.\n",
      "\n",
      "--------------------------------------------------------------------------------\n",
      "10 fits failed with the following error:\n",
      "Traceback (most recent call last):\n",
      "  File \"/home/yinghui/.pyenv/versions/3.10.6/envs/lewagon/lib/python3.10/site-packages/sklearn/model_selection/_validation.py\", line 686, in _fit_and_score\n",
      "    estimator.fit(X_train, y_train, **fit_params)\n",
      "  File \"/home/yinghui/.pyenv/versions/3.10.6/envs/lewagon/lib/python3.10/site-packages/skmultilearn/problem_transform/lp.py\", line 140, in fit\n",
      "    self.classifier.fit(self._ensure_input_format(X),\n",
      "  File \"/home/yinghui/.pyenv/versions/3.10.6/envs/lewagon/lib/python3.10/site-packages/sklearn/linear_model/_logistic.py\", line 1162, in fit\n",
      "    solver = _check_solver(self.solver, self.penalty, self.dual)\n",
      "  File \"/home/yinghui/.pyenv/versions/3.10.6/envs/lewagon/lib/python3.10/site-packages/sklearn/linear_model/_logistic.py\", line 54, in _check_solver\n",
      "    raise ValueError(\n",
      "ValueError: Solver sag supports only 'l2' or 'none' penalties, got l1 penalty.\n",
      "\n",
      "--------------------------------------------------------------------------------\n",
      "5 fits failed with the following error:\n",
      "Traceback (most recent call last):\n",
      "  File \"/home/yinghui/.pyenv/versions/3.10.6/envs/lewagon/lib/python3.10/site-packages/sklearn/model_selection/_validation.py\", line 686, in _fit_and_score\n",
      "    estimator.fit(X_train, y_train, **fit_params)\n",
      "  File \"/home/yinghui/.pyenv/versions/3.10.6/envs/lewagon/lib/python3.10/site-packages/skmultilearn/problem_transform/lp.py\", line 140, in fit\n",
      "    self.classifier.fit(self._ensure_input_format(X),\n",
      "  File \"/home/yinghui/.pyenv/versions/3.10.6/envs/lewagon/lib/python3.10/site-packages/sklearn/linear_model/_logistic.py\", line 1162, in fit\n",
      "    solver = _check_solver(self.solver, self.penalty, self.dual)\n",
      "  File \"/home/yinghui/.pyenv/versions/3.10.6/envs/lewagon/lib/python3.10/site-packages/sklearn/linear_model/_logistic.py\", line 54, in _check_solver\n",
      "    raise ValueError(\n",
      "ValueError: Solver newton-cg supports only 'l2' or 'none' penalties, got l1 penalty.\n",
      "\n",
      "--------------------------------------------------------------------------------\n",
      "10 fits failed with the following error:\n",
      "Traceback (most recent call last):\n",
      "  File \"/home/yinghui/.pyenv/versions/3.10.6/envs/lewagon/lib/python3.10/site-packages/sklearn/model_selection/_validation.py\", line 686, in _fit_and_score\n",
      "    estimator.fit(X_train, y_train, **fit_params)\n",
      "  File \"/home/yinghui/.pyenv/versions/3.10.6/envs/lewagon/lib/python3.10/site-packages/skmultilearn/problem_transform/lp.py\", line 140, in fit\n",
      "    self.classifier.fit(self._ensure_input_format(X),\n",
      "  File \"/home/yinghui/.pyenv/versions/3.10.6/envs/lewagon/lib/python3.10/site-packages/sklearn/linear_model/_logistic.py\", line 1162, in fit\n",
      "    solver = _check_solver(self.solver, self.penalty, self.dual)\n",
      "  File \"/home/yinghui/.pyenv/versions/3.10.6/envs/lewagon/lib/python3.10/site-packages/sklearn/linear_model/_logistic.py\", line 54, in _check_solver\n",
      "    raise ValueError(\n",
      "ValueError: Solver lbfgs supports only 'l2' or 'none' penalties, got l1 penalty.\n",
      "\n",
      "  warnings.warn(some_fits_failed_message, FitFailedWarning)\n",
      "/home/yinghui/.pyenv/versions/3.10.6/envs/lewagon/lib/python3.10/site-packages/sklearn/model_selection/_search.py:952: UserWarning: One or more of the test scores are non-finite: [       nan        nan        nan 0.55596073        nan 0.49764876\n",
      "        nan 0.55523623        nan 0.49461309]\n",
      "  warnings.warn(\n"
     ]
    },
    {
     "data": {
      "text/html": [
       "<style>#sk-container-id-13 {color: black;background-color: white;}#sk-container-id-13 pre{padding: 0;}#sk-container-id-13 div.sk-toggleable {background-color: white;}#sk-container-id-13 label.sk-toggleable__label {cursor: pointer;display: block;width: 100%;margin-bottom: 0;padding: 0.3em;box-sizing: border-box;text-align: center;}#sk-container-id-13 label.sk-toggleable__label-arrow:before {content: \"▸\";float: left;margin-right: 0.25em;color: #696969;}#sk-container-id-13 label.sk-toggleable__label-arrow:hover:before {color: black;}#sk-container-id-13 div.sk-estimator:hover label.sk-toggleable__label-arrow:before {color: black;}#sk-container-id-13 div.sk-toggleable__content {max-height: 0;max-width: 0;overflow: hidden;text-align: left;background-color: #f0f8ff;}#sk-container-id-13 div.sk-toggleable__content pre {margin: 0.2em;color: black;border-radius: 0.25em;background-color: #f0f8ff;}#sk-container-id-13 input.sk-toggleable__control:checked~div.sk-toggleable__content {max-height: 200px;max-width: 100%;overflow: auto;}#sk-container-id-13 input.sk-toggleable__control:checked~label.sk-toggleable__label-arrow:before {content: \"▾\";}#sk-container-id-13 div.sk-estimator input.sk-toggleable__control:checked~label.sk-toggleable__label {background-color: #d4ebff;}#sk-container-id-13 div.sk-label input.sk-toggleable__control:checked~label.sk-toggleable__label {background-color: #d4ebff;}#sk-container-id-13 input.sk-hidden--visually {border: 0;clip: rect(1px 1px 1px 1px);clip: rect(1px, 1px, 1px, 1px);height: 1px;margin: -1px;overflow: hidden;padding: 0;position: absolute;width: 1px;}#sk-container-id-13 div.sk-estimator {font-family: monospace;background-color: #f0f8ff;border: 1px dotted black;border-radius: 0.25em;box-sizing: border-box;margin-bottom: 0.5em;}#sk-container-id-13 div.sk-estimator:hover {background-color: #d4ebff;}#sk-container-id-13 div.sk-parallel-item::after {content: \"\";width: 100%;border-bottom: 1px solid gray;flex-grow: 1;}#sk-container-id-13 div.sk-label:hover label.sk-toggleable__label {background-color: #d4ebff;}#sk-container-id-13 div.sk-serial::before {content: \"\";position: absolute;border-left: 1px solid gray;box-sizing: border-box;top: 0;bottom: 0;left: 50%;z-index: 0;}#sk-container-id-13 div.sk-serial {display: flex;flex-direction: column;align-items: center;background-color: white;padding-right: 0.2em;padding-left: 0.2em;position: relative;}#sk-container-id-13 div.sk-item {position: relative;z-index: 1;}#sk-container-id-13 div.sk-parallel {display: flex;align-items: stretch;justify-content: center;background-color: white;position: relative;}#sk-container-id-13 div.sk-item::before, #sk-container-id-13 div.sk-parallel-item::before {content: \"\";position: absolute;border-left: 1px solid gray;box-sizing: border-box;top: 0;bottom: 0;left: 50%;z-index: -1;}#sk-container-id-13 div.sk-parallel-item {display: flex;flex-direction: column;z-index: 1;position: relative;background-color: white;}#sk-container-id-13 div.sk-parallel-item:first-child::after {align-self: flex-end;width: 50%;}#sk-container-id-13 div.sk-parallel-item:last-child::after {align-self: flex-start;width: 50%;}#sk-container-id-13 div.sk-parallel-item:only-child::after {width: 0;}#sk-container-id-13 div.sk-dashed-wrapped {border: 1px dashed gray;margin: 0 0.4em 0.5em 0.4em;box-sizing: border-box;padding-bottom: 0.4em;background-color: white;}#sk-container-id-13 div.sk-label label {font-family: monospace;font-weight: bold;display: inline-block;line-height: 1.2em;}#sk-container-id-13 div.sk-label-container {text-align: center;}#sk-container-id-13 div.sk-container {/* jupyter's `normalize.less` sets `[hidden] { display: none; }` but bootstrap.min.css set `[hidden] { display: none !important; }` so we also need the `!important` here to be able to override the default hidden behavior on the sphinx rendered scikit-learn.org. See: https://github.com/scikit-learn/scikit-learn/issues/21755 */display: inline-block !important;position: relative;}#sk-container-id-13 div.sk-text-repr-fallback {display: none;}</style><div id=\"sk-container-id-13\" class=\"sk-top-container\"><div class=\"sk-text-repr-fallback\"><pre>RandomizedSearchCV(estimator=LabelPowerset(classifier=LogisticRegression(),\n",
       "                                           require_dense=[True, True]),\n",
       "                   n_jobs=-1,\n",
       "                   param_distributions={&#x27;classifier__C&#x27;: range(5, 9),\n",
       "                                        &#x27;classifier__penalty&#x27;: [&#x27;l1&#x27;, &#x27;l2&#x27;],\n",
       "                                        &#x27;classifier__solver&#x27;: [&#x27;lbfgs&#x27;,\n",
       "                                                               &#x27;liblinear&#x27;,\n",
       "                                                               &#x27;newton-cg&#x27;,\n",
       "                                                               &#x27;newton-cholesky&#x27;,\n",
       "                                                               &#x27;sag&#x27;, &#x27;saga&#x27;]},\n",
       "                   random_state=42, scoring=&#x27;f1_micro&#x27;)</pre><b>In a Jupyter environment, please rerun this cell to show the HTML representation or trust the notebook. <br />On GitHub, the HTML representation is unable to render, please try loading this page with nbviewer.org.</b></div><div class=\"sk-container\" hidden><div class=\"sk-item sk-dashed-wrapped\"><div class=\"sk-label-container\"><div class=\"sk-label sk-toggleable\"><input class=\"sk-toggleable__control sk-hidden--visually\" id=\"sk-estimator-id-46\" type=\"checkbox\" ><label for=\"sk-estimator-id-46\" class=\"sk-toggleable__label sk-toggleable__label-arrow\">RandomizedSearchCV</label><div class=\"sk-toggleable__content\"><pre>RandomizedSearchCV(estimator=LabelPowerset(classifier=LogisticRegression(),\n",
       "                                           require_dense=[True, True]),\n",
       "                   n_jobs=-1,\n",
       "                   param_distributions={&#x27;classifier__C&#x27;: range(5, 9),\n",
       "                                        &#x27;classifier__penalty&#x27;: [&#x27;l1&#x27;, &#x27;l2&#x27;],\n",
       "                                        &#x27;classifier__solver&#x27;: [&#x27;lbfgs&#x27;,\n",
       "                                                               &#x27;liblinear&#x27;,\n",
       "                                                               &#x27;newton-cg&#x27;,\n",
       "                                                               &#x27;newton-cholesky&#x27;,\n",
       "                                                               &#x27;sag&#x27;, &#x27;saga&#x27;]},\n",
       "                   random_state=42, scoring=&#x27;f1_micro&#x27;)</pre></div></div></div><div class=\"sk-parallel\"><div class=\"sk-parallel-item\"><div class=\"sk-item\"><div class=\"sk-label-container\"><div class=\"sk-label sk-toggleable\"><input class=\"sk-toggleable__control sk-hidden--visually\" id=\"sk-estimator-id-47\" type=\"checkbox\" ><label for=\"sk-estimator-id-47\" class=\"sk-toggleable__label sk-toggleable__label-arrow\">estimator: LabelPowerset</label><div class=\"sk-toggleable__content\"><pre>LabelPowerset(classifier=LogisticRegression(), require_dense=[True, True])</pre></div></div></div><div class=\"sk-serial\"><div class=\"sk-item sk-dashed-wrapped\"><div class=\"sk-parallel\"><div class=\"sk-parallel-item\"><div class=\"sk-item\"><div class=\"sk-label-container\"><div class=\"sk-label sk-toggleable\"><input class=\"sk-toggleable__control sk-hidden--visually\" id=\"sk-estimator-id-48\" type=\"checkbox\" ><label for=\"sk-estimator-id-48\" class=\"sk-toggleable__label sk-toggleable__label-arrow\">classifier: LogisticRegression</label><div class=\"sk-toggleable__content\"><pre>LogisticRegression()</pre></div></div></div><div class=\"sk-serial\"><div class=\"sk-item\"><div class=\"sk-estimator sk-toggleable\"><input class=\"sk-toggleable__control sk-hidden--visually\" id=\"sk-estimator-id-49\" type=\"checkbox\" ><label for=\"sk-estimator-id-49\" class=\"sk-toggleable__label sk-toggleable__label-arrow\">LogisticRegression</label><div class=\"sk-toggleable__content\"><pre>LogisticRegression()</pre></div></div></div></div></div></div></div></div></div></div></div></div></div></div></div>"
      ],
      "text/plain": [
       "RandomizedSearchCV(estimator=LabelPowerset(classifier=LogisticRegression(),\n",
       "                                           require_dense=[True, True]),\n",
       "                   n_jobs=-1,\n",
       "                   param_distributions={'classifier__C': range(5, 9),\n",
       "                                        'classifier__penalty': ['l1', 'l2'],\n",
       "                                        'classifier__solver': ['lbfgs',\n",
       "                                                               'liblinear',\n",
       "                                                               'newton-cg',\n",
       "                                                               'newton-cholesky',\n",
       "                                                               'sag', 'saga']},\n",
       "                   random_state=42, scoring='f1_micro')"
      ]
     },
     "execution_count": 157,
     "metadata": {},
     "output_type": "execute_result"
    }
   ],
   "source": [
    "estimator = LabelPowerset(LogisticRegression())\n",
    "params = {\n",
    "    \"classifier__penalty\": [\"l1\",\"l2\"],\n",
    "    \"classifier__C\": range(5,9),\n",
    "    \"classifier__solver\" : ['lbfgs', 'liblinear', 'newton-cg', 'newton-cholesky', 'sag', 'saga']\n",
    "}\n",
    "\n",
    "grid_search = RandomizedSearchCV(\n",
    "    estimator=estimator,\n",
    "    param_distributions=params,\n",
    "    scoring=\"f1_micro\",  # Remove the list here\n",
    "    n_iter=10,  # Number of parameter settings that are sampled\n",
    "    random_state=42,  # For reproducibility\n",
    "    n_jobs=-1  # Use all available CPU cores\n",
    ")\n",
    "\n",
    "grid_search.fit(X_train_vec, y_train)"
   ]
  },
  {
   "cell_type": "code",
   "execution_count": 158,
   "id": "875efab5",
   "metadata": {},
   "outputs": [
    {
     "data": {
      "text/plain": [
       "{'classifier__solver': 'liblinear',\n",
       " 'classifier__penalty': 'l2',\n",
       " 'classifier__C': 8}"
      ]
     },
     "execution_count": 158,
     "metadata": {},
     "output_type": "execute_result"
    }
   ],
   "source": [
    "grid_search.best_params_"
   ]
  },
  {
   "cell_type": "code",
   "execution_count": 159,
   "id": "a0c45250",
   "metadata": {},
   "outputs": [
    {
     "data": {
      "text/plain": [
       "0.5559607310110588"
      ]
     },
     "execution_count": 159,
     "metadata": {},
     "output_type": "execute_result"
    }
   ],
   "source": [
    "grid_search.best_score_"
   ]
  },
  {
   "cell_type": "code",
   "execution_count": 162,
   "id": "21ae56a6",
   "metadata": {},
   "outputs": [
    {
     "name": "stdout",
     "output_type": "stream",
     "text": [
      "Accuracy =  0.2491349480968858\n",
      "F1 =  0.586622351474865\n",
      "Precision =  0.6096718480138169\n",
      "Hamming loss =  0.17214532871972318\n",
      "\n",
      "\n"
     ]
    },
    {
     "name": "stderr",
     "output_type": "stream",
     "text": [
      "/home/yinghui/.pyenv/versions/3.10.6/envs/lewagon/lib/python3.10/site-packages/sklearn/base.py:413: UserWarning: X has feature names, but LogisticRegression was fitted without feature names\n",
      "  warnings.warn(\n"
     ]
    }
   ],
   "source": [
    "best_pl_model = LabelPowerset(LogisticRegression(penalty=\"l2\", C=8, solver=\"liblinear\"))\n",
    "best_pl_model.fit(X_train_vec,y_train)\n",
    "predictions_pl = best_pl_model.predict(X_test_vec)\n",
    "print(\"Accuracy = \",accuracy_score(y_test,predictions_pl))\n",
    "print(\"F1 = \",f1_score(y_test,predictions_pl, average=\"micro\"))\n",
    "print(\"Precision = \",precision_score(y_test,predictions_pl,average=\"micro\" ))\n",
    "print(\"Hamming loss = \",hamming_loss(y_test,predictions_pl))\n",
    "print(\"\\n\")"
   ]
  },
  {
   "cell_type": "markdown",
   "id": "37255aef",
   "metadata": {},
   "source": [
    "## Classifier Chains"
   ]
  },
  {
   "cell_type": "code",
   "execution_count": 107,
   "id": "437ee052",
   "metadata": {},
   "outputs": [
    {
     "name": "stdout",
     "output_type": "stream",
     "text": [
      "Accuracy =  0.19896193771626297\n",
      "\n",
      "\n"
     ]
    }
   ],
   "source": [
    "# using classifier chains\n",
    "from skmultilearn.problem_transform import ClassifierChain\n",
    "\n",
    "# initialize classifier chains multi-label classifier\n",
    "classifier = ClassifierChain(LogisticRegression())\n",
    "# Training logistic regression model on train data\n",
    "classifier.fit(X_train_vec, y_train)\n",
    "# predict\n",
    "y_pred_cc = classifier.predict(X_test_vec)\n",
    "# accuracy\n",
    "print(\"Accuracy = \",accuracy_score(y_test,y_pred_cc))\n",
    "print(\"\\n\")"
   ]
  },
  {
   "cell_type": "code",
   "execution_count": 108,
   "id": "65dea2ef",
   "metadata": {},
   "outputs": [
    {
     "data": {
      "text/plain": [
       "array([[0., 0., 0., ..., 0., 0., 0.],\n",
       "       [0., 0., 0., ..., 0., 0., 1.],\n",
       "       [0., 0., 0., ..., 1., 0., 0.],\n",
       "       ...,\n",
       "       [0., 0., 1., ..., 1., 0., 0.],\n",
       "       [1., 1., 0., ..., 0., 0., 0.],\n",
       "       [0., 0., 0., ..., 0., 0., 1.]])"
      ]
     },
     "execution_count": 108,
     "metadata": {},
     "output_type": "execute_result"
    }
   ],
   "source": [
    "y_pred_cc.toarray()"
   ]
  },
  {
   "cell_type": "code",
   "execution_count": 109,
   "id": "9fd34e88",
   "metadata": {},
   "outputs": [
    {
     "data": {
      "text/html": [
       "<div>\n",
       "<style scoped>\n",
       "    .dataframe tbody tr th:only-of-type {\n",
       "        vertical-align: middle;\n",
       "    }\n",
       "\n",
       "    .dataframe tbody tr th {\n",
       "        vertical-align: top;\n",
       "    }\n",
       "\n",
       "    .dataframe thead th {\n",
       "        text-align: right;\n",
       "    }\n",
       "</style>\n",
       "<table border=\"1\" class=\"dataframe\">\n",
       "  <thead>\n",
       "    <tr style=\"text-align: right;\">\n",
       "      <th></th>\n",
       "      <th>Action</th>\n",
       "      <th>Adventure</th>\n",
       "      <th>Comedy</th>\n",
       "      <th>Crime</th>\n",
       "      <th>Fantasy</th>\n",
       "      <th>Horror</th>\n",
       "      <th>Mystery</th>\n",
       "      <th>Romance</th>\n",
       "      <th>Sci-Fi</th>\n",
       "      <th>Thriller</th>\n",
       "    </tr>\n",
       "  </thead>\n",
       "  <tbody>\n",
       "    <tr>\n",
       "      <th>0</th>\n",
       "      <td>0.0</td>\n",
       "      <td>0.0</td>\n",
       "      <td>0.0</td>\n",
       "      <td>0.0</td>\n",
       "      <td>0.0</td>\n",
       "      <td>1.0</td>\n",
       "      <td>0.0</td>\n",
       "      <td>0.0</td>\n",
       "      <td>0.0</td>\n",
       "      <td>0.0</td>\n",
       "    </tr>\n",
       "    <tr>\n",
       "      <th>1</th>\n",
       "      <td>0.0</td>\n",
       "      <td>0.0</td>\n",
       "      <td>0.0</td>\n",
       "      <td>0.0</td>\n",
       "      <td>0.0</td>\n",
       "      <td>0.0</td>\n",
       "      <td>1.0</td>\n",
       "      <td>0.0</td>\n",
       "      <td>0.0</td>\n",
       "      <td>1.0</td>\n",
       "    </tr>\n",
       "    <tr>\n",
       "      <th>2</th>\n",
       "      <td>0.0</td>\n",
       "      <td>0.0</td>\n",
       "      <td>0.0</td>\n",
       "      <td>0.0</td>\n",
       "      <td>0.0</td>\n",
       "      <td>0.0</td>\n",
       "      <td>0.0</td>\n",
       "      <td>1.0</td>\n",
       "      <td>0.0</td>\n",
       "      <td>0.0</td>\n",
       "    </tr>\n",
       "  </tbody>\n",
       "</table>\n",
       "</div>"
      ],
      "text/plain": [
       "   Action  Adventure  Comedy  Crime  Fantasy  Horror  Mystery  Romance  \\\n",
       "0     0.0        0.0     0.0    0.0      0.0     1.0      0.0      0.0   \n",
       "1     0.0        0.0     0.0    0.0      0.0     0.0      1.0      0.0   \n",
       "2     0.0        0.0     0.0    0.0      0.0     0.0      0.0      1.0   \n",
       "\n",
       "   Sci-Fi  Thriller  \n",
       "0     0.0       0.0  \n",
       "1     0.0       1.0  \n",
       "2     0.0       0.0  "
      ]
     },
     "execution_count": 109,
     "metadata": {},
     "output_type": "execute_result"
    }
   ],
   "source": [
    "results = pd.DataFrame(y_pred_cc.toarray(), columns=[\"Action\",\"Adventure\",\"Comedy\",\"Crime\",\"Fantasy\",\"Horror\",\"Mystery\",\"Romance\",\"Sci-Fi\",\"Thriller\"])\n",
    "results[:3]"
   ]
  },
  {
   "cell_type": "code",
   "execution_count": 110,
   "id": "ae243aea",
   "metadata": {},
   "outputs": [],
   "source": [
    "# multilabel_binarizer.inverse_transform(predictions)[0:3]"
   ]
  },
  {
   "cell_type": "code",
   "execution_count": 111,
   "id": "6e1cd099",
   "metadata": {},
   "outputs": [
    {
     "data": {
      "text/plain": [
       "477     [Action, Fantasy, Horror]\n",
       "2232      [Crime, Drama, Mystery]\n",
       "3986             [Drama, Romance]\n",
       "Name: genre, dtype: object"
      ]
     },
     "execution_count": 111,
     "metadata": {},
     "output_type": "execute_result"
    }
   ],
   "source": [
    "condition = no_drama_df['clean_sypnosis'].isin(X_test['clean_sypnosis'][:3])\n",
    "filtered_df = no_drama_df[condition]\n",
    "filtered_df[\"genre\"]"
   ]
  },
  {
   "cell_type": "code",
   "execution_count": 163,
   "id": "8abb4bc6",
   "metadata": {},
   "outputs": [
    {
     "name": "stderr",
     "output_type": "stream",
     "text": [
      "/home/yinghui/.pyenv/versions/3.10.6/envs/lewagon/lib/python3.10/site-packages/sklearn/model_selection/_validation.py:378: FitFailedWarning: \n",
      "30 fits failed out of a total of 50.\n",
      "The score on these train-test partitions for these parameters will be set to nan.\n",
      "If these failures are not expected, you can try to debug them by setting error_score='raise'.\n",
      "\n",
      "Below are more details about the failures:\n",
      "--------------------------------------------------------------------------------\n",
      "5 fits failed with the following error:\n",
      "Traceback (most recent call last):\n",
      "  File \"/home/yinghui/.pyenv/versions/3.10.6/envs/lewagon/lib/python3.10/site-packages/sklearn/model_selection/_validation.py\", line 686, in _fit_and_score\n",
      "    estimator.fit(X_train, y_train, **fit_params)\n",
      "  File \"/home/yinghui/.pyenv/versions/3.10.6/envs/lewagon/lib/python3.10/site-packages/skmultilearn/problem_transform/cc.py\", line 154, in fit\n",
      "    self.classifiers_[label] = self.classifier.fit(self._ensure_input_format(\n",
      "  File \"/home/yinghui/.pyenv/versions/3.10.6/envs/lewagon/lib/python3.10/site-packages/sklearn/linear_model/_logistic.py\", line 1162, in fit\n",
      "    solver = _check_solver(self.solver, self.penalty, self.dual)\n",
      "  File \"/home/yinghui/.pyenv/versions/3.10.6/envs/lewagon/lib/python3.10/site-packages/sklearn/linear_model/_logistic.py\", line 54, in _check_solver\n",
      "    raise ValueError(\n",
      "ValueError: Solver newton-cholesky supports only 'l2' or 'none' penalties, got l1 penalty.\n",
      "\n",
      "--------------------------------------------------------------------------------\n",
      "10 fits failed with the following error:\n",
      "Traceback (most recent call last):\n",
      "  File \"/home/yinghui/.pyenv/versions/3.10.6/envs/lewagon/lib/python3.10/site-packages/sklearn/model_selection/_validation.py\", line 686, in _fit_and_score\n",
      "    estimator.fit(X_train, y_train, **fit_params)\n",
      "  File \"/home/yinghui/.pyenv/versions/3.10.6/envs/lewagon/lib/python3.10/site-packages/skmultilearn/problem_transform/cc.py\", line 154, in fit\n",
      "    self.classifiers_[label] = self.classifier.fit(self._ensure_input_format(\n",
      "  File \"/home/yinghui/.pyenv/versions/3.10.6/envs/lewagon/lib/python3.10/site-packages/sklearn/linear_model/_logistic.py\", line 1162, in fit\n",
      "    solver = _check_solver(self.solver, self.penalty, self.dual)\n",
      "  File \"/home/yinghui/.pyenv/versions/3.10.6/envs/lewagon/lib/python3.10/site-packages/sklearn/linear_model/_logistic.py\", line 54, in _check_solver\n",
      "    raise ValueError(\n",
      "ValueError: Solver sag supports only 'l2' or 'none' penalties, got l1 penalty.\n",
      "\n",
      "--------------------------------------------------------------------------------\n",
      "5 fits failed with the following error:\n",
      "Traceback (most recent call last):\n",
      "  File \"/home/yinghui/.pyenv/versions/3.10.6/envs/lewagon/lib/python3.10/site-packages/sklearn/model_selection/_validation.py\", line 686, in _fit_and_score\n",
      "    estimator.fit(X_train, y_train, **fit_params)\n",
      "  File \"/home/yinghui/.pyenv/versions/3.10.6/envs/lewagon/lib/python3.10/site-packages/skmultilearn/problem_transform/cc.py\", line 154, in fit\n",
      "    self.classifiers_[label] = self.classifier.fit(self._ensure_input_format(\n",
      "  File \"/home/yinghui/.pyenv/versions/3.10.6/envs/lewagon/lib/python3.10/site-packages/sklearn/linear_model/_logistic.py\", line 1162, in fit\n",
      "    solver = _check_solver(self.solver, self.penalty, self.dual)\n",
      "  File \"/home/yinghui/.pyenv/versions/3.10.6/envs/lewagon/lib/python3.10/site-packages/sklearn/linear_model/_logistic.py\", line 54, in _check_solver\n",
      "    raise ValueError(\n",
      "ValueError: Solver newton-cg supports only 'l2' or 'none' penalties, got l1 penalty.\n",
      "\n",
      "--------------------------------------------------------------------------------\n",
      "10 fits failed with the following error:\n",
      "Traceback (most recent call last):\n",
      "  File \"/home/yinghui/.pyenv/versions/3.10.6/envs/lewagon/lib/python3.10/site-packages/sklearn/model_selection/_validation.py\", line 686, in _fit_and_score\n",
      "    estimator.fit(X_train, y_train, **fit_params)\n",
      "  File \"/home/yinghui/.pyenv/versions/3.10.6/envs/lewagon/lib/python3.10/site-packages/skmultilearn/problem_transform/cc.py\", line 154, in fit\n",
      "    self.classifiers_[label] = self.classifier.fit(self._ensure_input_format(\n",
      "  File \"/home/yinghui/.pyenv/versions/3.10.6/envs/lewagon/lib/python3.10/site-packages/sklearn/linear_model/_logistic.py\", line 1162, in fit\n",
      "    solver = _check_solver(self.solver, self.penalty, self.dual)\n",
      "  File \"/home/yinghui/.pyenv/versions/3.10.6/envs/lewagon/lib/python3.10/site-packages/sklearn/linear_model/_logistic.py\", line 54, in _check_solver\n",
      "    raise ValueError(\n",
      "ValueError: Solver lbfgs supports only 'l2' or 'none' penalties, got l1 penalty.\n",
      "\n",
      "  warnings.warn(some_fits_failed_message, FitFailedWarning)\n",
      "/home/yinghui/.pyenv/versions/3.10.6/envs/lewagon/lib/python3.10/site-packages/sklearn/model_selection/_search.py:952: UserWarning: One or more of the test scores are non-finite: [       nan        nan        nan 0.57452876        nan 0.55334873\n",
      "        nan 0.57279998        nan 0.55696224]\n",
      "  warnings.warn(\n"
     ]
    },
    {
     "data": {
      "text/html": [
       "<style>#sk-container-id-14 {color: black;background-color: white;}#sk-container-id-14 pre{padding: 0;}#sk-container-id-14 div.sk-toggleable {background-color: white;}#sk-container-id-14 label.sk-toggleable__label {cursor: pointer;display: block;width: 100%;margin-bottom: 0;padding: 0.3em;box-sizing: border-box;text-align: center;}#sk-container-id-14 label.sk-toggleable__label-arrow:before {content: \"▸\";float: left;margin-right: 0.25em;color: #696969;}#sk-container-id-14 label.sk-toggleable__label-arrow:hover:before {color: black;}#sk-container-id-14 div.sk-estimator:hover label.sk-toggleable__label-arrow:before {color: black;}#sk-container-id-14 div.sk-toggleable__content {max-height: 0;max-width: 0;overflow: hidden;text-align: left;background-color: #f0f8ff;}#sk-container-id-14 div.sk-toggleable__content pre {margin: 0.2em;color: black;border-radius: 0.25em;background-color: #f0f8ff;}#sk-container-id-14 input.sk-toggleable__control:checked~div.sk-toggleable__content {max-height: 200px;max-width: 100%;overflow: auto;}#sk-container-id-14 input.sk-toggleable__control:checked~label.sk-toggleable__label-arrow:before {content: \"▾\";}#sk-container-id-14 div.sk-estimator input.sk-toggleable__control:checked~label.sk-toggleable__label {background-color: #d4ebff;}#sk-container-id-14 div.sk-label input.sk-toggleable__control:checked~label.sk-toggleable__label {background-color: #d4ebff;}#sk-container-id-14 input.sk-hidden--visually {border: 0;clip: rect(1px 1px 1px 1px);clip: rect(1px, 1px, 1px, 1px);height: 1px;margin: -1px;overflow: hidden;padding: 0;position: absolute;width: 1px;}#sk-container-id-14 div.sk-estimator {font-family: monospace;background-color: #f0f8ff;border: 1px dotted black;border-radius: 0.25em;box-sizing: border-box;margin-bottom: 0.5em;}#sk-container-id-14 div.sk-estimator:hover {background-color: #d4ebff;}#sk-container-id-14 div.sk-parallel-item::after {content: \"\";width: 100%;border-bottom: 1px solid gray;flex-grow: 1;}#sk-container-id-14 div.sk-label:hover label.sk-toggleable__label {background-color: #d4ebff;}#sk-container-id-14 div.sk-serial::before {content: \"\";position: absolute;border-left: 1px solid gray;box-sizing: border-box;top: 0;bottom: 0;left: 50%;z-index: 0;}#sk-container-id-14 div.sk-serial {display: flex;flex-direction: column;align-items: center;background-color: white;padding-right: 0.2em;padding-left: 0.2em;position: relative;}#sk-container-id-14 div.sk-item {position: relative;z-index: 1;}#sk-container-id-14 div.sk-parallel {display: flex;align-items: stretch;justify-content: center;background-color: white;position: relative;}#sk-container-id-14 div.sk-item::before, #sk-container-id-14 div.sk-parallel-item::before {content: \"\";position: absolute;border-left: 1px solid gray;box-sizing: border-box;top: 0;bottom: 0;left: 50%;z-index: -1;}#sk-container-id-14 div.sk-parallel-item {display: flex;flex-direction: column;z-index: 1;position: relative;background-color: white;}#sk-container-id-14 div.sk-parallel-item:first-child::after {align-self: flex-end;width: 50%;}#sk-container-id-14 div.sk-parallel-item:last-child::after {align-self: flex-start;width: 50%;}#sk-container-id-14 div.sk-parallel-item:only-child::after {width: 0;}#sk-container-id-14 div.sk-dashed-wrapped {border: 1px dashed gray;margin: 0 0.4em 0.5em 0.4em;box-sizing: border-box;padding-bottom: 0.4em;background-color: white;}#sk-container-id-14 div.sk-label label {font-family: monospace;font-weight: bold;display: inline-block;line-height: 1.2em;}#sk-container-id-14 div.sk-label-container {text-align: center;}#sk-container-id-14 div.sk-container {/* jupyter's `normalize.less` sets `[hidden] { display: none; }` but bootstrap.min.css set `[hidden] { display: none !important; }` so we also need the `!important` here to be able to override the default hidden behavior on the sphinx rendered scikit-learn.org. See: https://github.com/scikit-learn/scikit-learn/issues/21755 */display: inline-block !important;position: relative;}#sk-container-id-14 div.sk-text-repr-fallback {display: none;}</style><div id=\"sk-container-id-14\" class=\"sk-top-container\"><div class=\"sk-text-repr-fallback\"><pre>RandomizedSearchCV(estimator=ClassifierChain(classifier=LogisticRegression(),\n",
       "                                             require_dense=[True, True]),\n",
       "                   n_jobs=-1,\n",
       "                   param_distributions={&#x27;classifier__C&#x27;: range(5, 9),\n",
       "                                        &#x27;classifier__penalty&#x27;: [&#x27;l1&#x27;, &#x27;l2&#x27;],\n",
       "                                        &#x27;classifier__solver&#x27;: [&#x27;lbfgs&#x27;,\n",
       "                                                               &#x27;liblinear&#x27;,\n",
       "                                                               &#x27;newton-cg&#x27;,\n",
       "                                                               &#x27;newton-cholesky&#x27;,\n",
       "                                                               &#x27;sag&#x27;, &#x27;saga&#x27;]},\n",
       "                   random_state=42, scoring=&#x27;f1_micro&#x27;)</pre><b>In a Jupyter environment, please rerun this cell to show the HTML representation or trust the notebook. <br />On GitHub, the HTML representation is unable to render, please try loading this page with nbviewer.org.</b></div><div class=\"sk-container\" hidden><div class=\"sk-item sk-dashed-wrapped\"><div class=\"sk-label-container\"><div class=\"sk-label sk-toggleable\"><input class=\"sk-toggleable__control sk-hidden--visually\" id=\"sk-estimator-id-50\" type=\"checkbox\" ><label for=\"sk-estimator-id-50\" class=\"sk-toggleable__label sk-toggleable__label-arrow\">RandomizedSearchCV</label><div class=\"sk-toggleable__content\"><pre>RandomizedSearchCV(estimator=ClassifierChain(classifier=LogisticRegression(),\n",
       "                                             require_dense=[True, True]),\n",
       "                   n_jobs=-1,\n",
       "                   param_distributions={&#x27;classifier__C&#x27;: range(5, 9),\n",
       "                                        &#x27;classifier__penalty&#x27;: [&#x27;l1&#x27;, &#x27;l2&#x27;],\n",
       "                                        &#x27;classifier__solver&#x27;: [&#x27;lbfgs&#x27;,\n",
       "                                                               &#x27;liblinear&#x27;,\n",
       "                                                               &#x27;newton-cg&#x27;,\n",
       "                                                               &#x27;newton-cholesky&#x27;,\n",
       "                                                               &#x27;sag&#x27;, &#x27;saga&#x27;]},\n",
       "                   random_state=42, scoring=&#x27;f1_micro&#x27;)</pre></div></div></div><div class=\"sk-parallel\"><div class=\"sk-parallel-item\"><div class=\"sk-item\"><div class=\"sk-label-container\"><div class=\"sk-label sk-toggleable\"><input class=\"sk-toggleable__control sk-hidden--visually\" id=\"sk-estimator-id-51\" type=\"checkbox\" ><label for=\"sk-estimator-id-51\" class=\"sk-toggleable__label sk-toggleable__label-arrow\">estimator: ClassifierChain</label><div class=\"sk-toggleable__content\"><pre>ClassifierChain(classifier=LogisticRegression(), require_dense=[True, True])</pre></div></div></div><div class=\"sk-serial\"><div class=\"sk-item sk-dashed-wrapped\"><div class=\"sk-parallel\"><div class=\"sk-parallel-item\"><div class=\"sk-item\"><div class=\"sk-label-container\"><div class=\"sk-label sk-toggleable\"><input class=\"sk-toggleable__control sk-hidden--visually\" id=\"sk-estimator-id-52\" type=\"checkbox\" ><label for=\"sk-estimator-id-52\" class=\"sk-toggleable__label sk-toggleable__label-arrow\">classifier: LogisticRegression</label><div class=\"sk-toggleable__content\"><pre>LogisticRegression()</pre></div></div></div><div class=\"sk-serial\"><div class=\"sk-item\"><div class=\"sk-estimator sk-toggleable\"><input class=\"sk-toggleable__control sk-hidden--visually\" id=\"sk-estimator-id-53\" type=\"checkbox\" ><label for=\"sk-estimator-id-53\" class=\"sk-toggleable__label sk-toggleable__label-arrow\">LogisticRegression</label><div class=\"sk-toggleable__content\"><pre>LogisticRegression()</pre></div></div></div></div></div></div></div></div></div></div></div></div></div></div></div>"
      ],
      "text/plain": [
       "RandomizedSearchCV(estimator=ClassifierChain(classifier=LogisticRegression(),\n",
       "                                             require_dense=[True, True]),\n",
       "                   n_jobs=-1,\n",
       "                   param_distributions={'classifier__C': range(5, 9),\n",
       "                                        'classifier__penalty': ['l1', 'l2'],\n",
       "                                        'classifier__solver': ['lbfgs',\n",
       "                                                               'liblinear',\n",
       "                                                               'newton-cg',\n",
       "                                                               'newton-cholesky',\n",
       "                                                               'sag', 'saga']},\n",
       "                   random_state=42, scoring='f1_micro')"
      ]
     },
     "execution_count": 163,
     "metadata": {},
     "output_type": "execute_result"
    }
   ],
   "source": [
    "estimator = ClassifierChain(LogisticRegression())\n",
    "params = {\n",
    "    \"classifier__penalty\": [\"l1\",\"l2\"],\n",
    "    \"classifier__C\": range(5,9),\n",
    "    \"classifier__solver\" : ['lbfgs', 'liblinear', 'newton-cg', 'newton-cholesky', 'sag', 'saga']\n",
    "}\n",
    "\n",
    "grid_search = RandomizedSearchCV(\n",
    "    estimator=estimator,\n",
    "    param_distributions=params,\n",
    "    scoring=\"f1_micro\",  # Remove the list here\n",
    "    n_iter=10,  # Number of parameter settings that are sampled\n",
    "    random_state=42,  # For reproducibility\n",
    "    n_jobs=-1  # Use all available CPU cores\n",
    ")\n",
    "\n",
    "grid_search.fit(X_train_vec, y_train)"
   ]
  },
  {
   "cell_type": "code",
   "execution_count": 164,
   "id": "e4e43eed",
   "metadata": {},
   "outputs": [
    {
     "data": {
      "text/plain": [
       "{'classifier__solver': 'liblinear',\n",
       " 'classifier__penalty': 'l2',\n",
       " 'classifier__C': 8}"
      ]
     },
     "execution_count": 164,
     "metadata": {},
     "output_type": "execute_result"
    }
   ],
   "source": [
    "grid_search.best_params_"
   ]
  },
  {
   "cell_type": "code",
   "execution_count": 166,
   "id": "ced90074",
   "metadata": {},
   "outputs": [
    {
     "name": "stdout",
     "output_type": "stream",
     "text": [
      "Accuracy =  0.22491349480968859\n",
      "F1 =  0.5817104149026249\n",
      "Precision =  0.6172506738544474\n",
      "Hamming loss =  0.17093425605536333\n",
      "\n",
      "\n"
     ]
    }
   ],
   "source": [
    "best_cc_model = ClassifierChain(LogisticRegression(penalty=\"l2\", C=8, solver=\"liblinear\"))\n",
    "best_cc_model.fit(X_train_vec,y_train)\n",
    "predictions_cc = best_cc_model.predict(X_test_vec)\n",
    "print(\"Accuracy = \",accuracy_score(y_test,predictions_cc))\n",
    "print(\"F1 = \",f1_score(y_test,predictions_cc, average=\"micro\"))\n",
    "print(\"Precision = \",precision_score(y_test,predictions_cc,average=\"micro\" ))\n",
    "print(\"Hamming loss = \",hamming_loss(y_test,predictions_cc))\n",
    "print(\"\\n\")"
   ]
  },
  {
   "cell_type": "markdown",
   "id": "7aef7699",
   "metadata": {},
   "source": [
    "## Grid Search"
   ]
  }
 ],
 "metadata": {
  "kernelspec": {
   "display_name": "Python 3 (ipykernel)",
   "language": "python",
   "name": "python3"
  },
  "language_info": {
   "codemirror_mode": {
    "name": "ipython",
    "version": 3
   },
   "file_extension": ".py",
   "mimetype": "text/x-python",
   "name": "python",
   "nbconvert_exporter": "python",
   "pygments_lexer": "ipython3",
   "version": "3.10.6"
  },
  "toc": {
   "base_numbering": 1,
   "nav_menu": {},
   "number_sections": true,
   "sideBar": true,
   "skip_h1_title": false,
   "title_cell": "Table of Contents",
   "title_sidebar": "Contents",
   "toc_cell": false,
   "toc_position": {},
   "toc_section_display": true,
   "toc_window_display": false
  }
 },
 "nbformat": 4,
 "nbformat_minor": 5
}
