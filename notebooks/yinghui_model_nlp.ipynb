{
 "cells": [
  {
   "cell_type": "code",
   "execution_count": 1,
   "id": "53a9e74e-15c0-4fd2-89b8-a24fcce91cfc",
   "metadata": {},
   "outputs": [
    {
     "name": "stderr",
     "output_type": "stream",
     "text": [
      "2023-08-12 09:51:58.902299: I tensorflow/core/platform/cpu_feature_guard.cc:193] This TensorFlow binary is optimized with oneAPI Deep Neural Network Library (oneDNN) to use the following CPU instructions in performance-critical operations:  AVX2 FMA\n",
      "To enable them in other operations, rebuild TensorFlow with the appropriate compiler flags.\n",
      "2023-08-12 09:51:59.123421: W tensorflow/stream_executor/platform/default/dso_loader.cc:64] Could not load dynamic library 'libcudart.so.11.0'; dlerror: libcudart.so.11.0: cannot open shared object file: No such file or directory\n",
      "2023-08-12 09:51:59.123448: I tensorflow/stream_executor/cuda/cudart_stub.cc:29] Ignore above cudart dlerror if you do not have a GPU set up on your machine.\n",
      "2023-08-12 09:51:59.167356: E tensorflow/stream_executor/cuda/cuda_blas.cc:2981] Unable to register cuBLAS factory: Attempting to register factory for plugin cuBLAS when one has already been registered\n",
      "2023-08-12 09:52:00.451228: W tensorflow/stream_executor/platform/default/dso_loader.cc:64] Could not load dynamic library 'libnvinfer.so.7'; dlerror: libnvinfer.so.7: cannot open shared object file: No such file or directory\n",
      "2023-08-12 09:52:00.451553: W tensorflow/stream_executor/platform/default/dso_loader.cc:64] Could not load dynamic library 'libnvinfer_plugin.so.7'; dlerror: libnvinfer_plugin.so.7: cannot open shared object file: No such file or directory\n",
      "2023-08-12 09:52:00.451579: W tensorflow/compiler/tf2tensorrt/utils/py_utils.cc:38] TF-TRT Warning: Cannot dlopen some TensorRT libraries. If you would like to use Nvidia GPU with TensorRT, please make sure the missing libraries mentioned above are installed properly.\n"
     ]
    }
   ],
   "source": [
    "import numpy as np\n",
    "import pandas as pd\n",
    "import seaborn as sns\n",
    "import string\n",
    "import os\n",
    "import requests\n",
    "\n",
    "from requests import get\n",
    "from bs4 import BeautifulSoup\n",
    "from warnings import warn\n",
    "from time import sleep\n",
    "from random import randint\n",
    "from xgboost import XGBClassifier\n",
    "from tqdm import tqdm\n",
    "from time import sleep\n",
    "\n",
    "from pathlib import Path\n",
    "from sklearn.preprocessing import MultiLabelBinarizer\n",
    "from sklearn.model_selection import train_test_split, GridSearchCV\n",
    "from nltk.stem.porter import *\n",
    "from nltk.corpus import stopwords\n",
    "from nltk.tokenize import word_tokenize\n",
    "from nltk.stem import WordNetLemmatizer\n",
    "from sklearn.feature_extraction.text import TfidfVectorizer\n",
    "from sklearn.linear_model import LogisticRegression, SGDClassifier\n",
    "from sklearn.metrics import accuracy_score, recall_score, f1_score, precision_score\n",
    "from sklearn.multiclass import OneVsRestClassifier\n",
    "from sklearn.preprocessing import MultiLabelBinarizer\n",
    "from sklearn.naive_bayes import MultinomialNB\n",
    "from sklearn.ensemble import RandomForestClassifier\n",
    "from sklearn.svm import SVC\n",
    "\n",
    "from tensorflow.keras import layers, Sequential, callbacks, optimizers, utils, models, applications\n",
    "from tensorflow.keras.applications.inception_v3 import InceptionV3\n",
    "from tensorflow.keras.regularizers import l2, l1\n",
    "from tensorflow.keras.preprocessing import image\n",
    "from tensorflow.keras.preprocessing.image import ImageDataGenerator\n",
    "from tensorflow.keras.preprocessing.sequence import pad_sequences\n",
    "from tensorflow.keras.preprocessing.text import Tokenizer"
   ]
  },
  {
   "cell_type": "code",
   "execution_count": 2,
   "id": "2817348c",
   "metadata": {},
   "outputs": [],
   "source": [
    "# folder_path = '/home/yinghui/code/chooj202/movie_genre_prediction/movie_genre_prediction/raw_data/csv/'\n",
    "# dataframes = []\n",
    "# for file_name in os.listdir(folder_path):\n",
    "#     if file_name.endswith('.csv'):\n",
    "#         file_path = os.path.join(folder_path, file_name)\n",
    "#         df = pd.read_csv(file_path)\n",
    "#         dataframes.append(df)\n",
    "# merged_df = pd.concat(dataframes, ignore_index=True)"
   ]
  },
  {
   "cell_type": "code",
   "execution_count": 3,
   "id": "29bac3ba-bb73-43b0-a367-0485c0a94801",
   "metadata": {},
   "outputs": [
    {
     "data": {
      "text/plain": [
       "(4624, 6)"
      ]
     },
     "execution_count": 3,
     "metadata": {},
     "output_type": "execute_result"
    }
   ],
   "source": [
    "merged_df = pd.read_csv(\"/home/yinghui/code/chooj202/movie_genre_prediction/movie_genre_prediction/raw_data/long_sypnosis.csv\")\n",
    "\n",
    "merged_df.shape"
   ]
  },
  {
   "cell_type": "code",
   "execution_count": 4,
   "id": "d032d3ae",
   "metadata": {},
   "outputs": [
    {
     "data": {
      "text/html": [
       "<div>\n",
       "<style scoped>\n",
       "    .dataframe tbody tr th:only-of-type {\n",
       "        vertical-align: middle;\n",
       "    }\n",
       "\n",
       "    .dataframe tbody tr th {\n",
       "        vertical-align: top;\n",
       "    }\n",
       "\n",
       "    .dataframe thead th {\n",
       "        text-align: right;\n",
       "    }\n",
       "</style>\n",
       "<table border=\"1\" class=\"dataframe\">\n",
       "  <thead>\n",
       "    <tr style=\"text-align: right;\">\n",
       "      <th></th>\n",
       "      <th>Unnamed: 0</th>\n",
       "      <th>movie</th>\n",
       "      <th>imdb_id</th>\n",
       "      <th>genre</th>\n",
       "      <th>image_url</th>\n",
       "      <th>sypnosis</th>\n",
       "    </tr>\n",
       "  </thead>\n",
       "  <tbody>\n",
       "    <tr>\n",
       "      <th>0</th>\n",
       "      <td>0</td>\n",
       "      <td>Ramayana: The Legend of Prince Rama</td>\n",
       "      <td>tt0259534</td>\n",
       "      <td>['Animation', ' Action', ' Adventure']</td>\n",
       "      <td>http://img.omdbapi.com/?i=tt0259534&amp;h=600&amp;apik...</td>\n",
       "      <td>An anime adaptation of the Hindu epic the Rama...</td>\n",
       "    </tr>\n",
       "    <tr>\n",
       "      <th>1</th>\n",
       "      <td>1</td>\n",
       "      <td>The Dark Knight</td>\n",
       "      <td>tt0468569</td>\n",
       "      <td>['Action', ' Crime', ' Drama']</td>\n",
       "      <td>http://img.omdbapi.com/?i=tt0468569&amp;h=600&amp;apik...</td>\n",
       "      <td>When the menace known as the Joker wreaks havo...</td>\n",
       "    </tr>\n",
       "    <tr>\n",
       "      <th>2</th>\n",
       "      <td>2</td>\n",
       "      <td>The Lord of the Rings: The Return of the King</td>\n",
       "      <td>tt0167260</td>\n",
       "      <td>['Action', ' Adventure', ' Drama']</td>\n",
       "      <td>http://img.omdbapi.com/?i=tt0167260&amp;h=600&amp;apik...</td>\n",
       "      <td>Gandalf and Aragorn lead the World of Men agai...</td>\n",
       "    </tr>\n",
       "    <tr>\n",
       "      <th>3</th>\n",
       "      <td>3</td>\n",
       "      <td>Spider-Man: Across the Spider-Verse</td>\n",
       "      <td>tt9362722</td>\n",
       "      <td>['Animation', ' Action', ' Adventure']</td>\n",
       "      <td>http://img.omdbapi.com/?i=tt9362722&amp;h=600&amp;apik...</td>\n",
       "      <td>Miles Morales catapults across the Multiverse,...</td>\n",
       "    </tr>\n",
       "    <tr>\n",
       "      <th>4</th>\n",
       "      <td>4</td>\n",
       "      <td>The Message</td>\n",
       "      <td>tt0075143</td>\n",
       "      <td>['Action', ' Adventure', ' Biography']</td>\n",
       "      <td>http://img.omdbapi.com/?i=tt0075143&amp;h=600&amp;apik...</td>\n",
       "      <td>The story of prophet \"Muhammad\" and the delive...</td>\n",
       "    </tr>\n",
       "  </tbody>\n",
       "</table>\n",
       "</div>"
      ],
      "text/plain": [
       "   Unnamed: 0                                          movie    imdb_id  \\\n",
       "0           0            Ramayana: The Legend of Prince Rama  tt0259534   \n",
       "1           1                                The Dark Knight  tt0468569   \n",
       "2           2  The Lord of the Rings: The Return of the King  tt0167260   \n",
       "3           3            Spider-Man: Across the Spider-Verse  tt9362722   \n",
       "4           4                                    The Message  tt0075143   \n",
       "\n",
       "                                    genre  \\\n",
       "0  ['Animation', ' Action', ' Adventure']   \n",
       "1          ['Action', ' Crime', ' Drama']   \n",
       "2      ['Action', ' Adventure', ' Drama']   \n",
       "3  ['Animation', ' Action', ' Adventure']   \n",
       "4  ['Action', ' Adventure', ' Biography']   \n",
       "\n",
       "                                           image_url  \\\n",
       "0  http://img.omdbapi.com/?i=tt0259534&h=600&apik...   \n",
       "1  http://img.omdbapi.com/?i=tt0468569&h=600&apik...   \n",
       "2  http://img.omdbapi.com/?i=tt0167260&h=600&apik...   \n",
       "3  http://img.omdbapi.com/?i=tt9362722&h=600&apik...   \n",
       "4  http://img.omdbapi.com/?i=tt0075143&h=600&apik...   \n",
       "\n",
       "                                            sypnosis  \n",
       "0  An anime adaptation of the Hindu epic the Rama...  \n",
       "1  When the menace known as the Joker wreaks havo...  \n",
       "2  Gandalf and Aragorn lead the World of Men agai...  \n",
       "3  Miles Morales catapults across the Multiverse,...  \n",
       "4  The story of prophet \"Muhammad\" and the delive...  "
      ]
     },
     "execution_count": 4,
     "metadata": {},
     "output_type": "execute_result"
    }
   ],
   "source": [
    "merged_df.head(5)"
   ]
  },
  {
   "cell_type": "code",
   "execution_count": 5,
   "id": "668257f5",
   "metadata": {},
   "outputs": [],
   "source": [
    "merged_df = merged_df.drop(columns=['Unnamed: 0'])"
   ]
  },
  {
   "cell_type": "code",
   "execution_count": 6,
   "id": "db5f5815",
   "metadata": {},
   "outputs": [
    {
     "data": {
      "text/plain": [
       "(4624, 5)"
      ]
     },
     "execution_count": 6,
     "metadata": {},
     "output_type": "execute_result"
    }
   ],
   "source": [
    "merged_df = merged_df.drop_duplicates()\n",
    "merged_df.shape"
   ]
  },
  {
   "cell_type": "code",
   "execution_count": 7,
   "id": "745281b0-a384-40fc-8f43-eddb6bd12c45",
   "metadata": {},
   "outputs": [
    {
     "data": {
      "text/html": [
       "<div>\n",
       "<style scoped>\n",
       "    .dataframe tbody tr th:only-of-type {\n",
       "        vertical-align: middle;\n",
       "    }\n",
       "\n",
       "    .dataframe tbody tr th {\n",
       "        vertical-align: top;\n",
       "    }\n",
       "\n",
       "    .dataframe thead th {\n",
       "        text-align: right;\n",
       "    }\n",
       "</style>\n",
       "<table border=\"1\" class=\"dataframe\">\n",
       "  <thead>\n",
       "    <tr style=\"text-align: right;\">\n",
       "      <th></th>\n",
       "      <th>movie</th>\n",
       "      <th>imdb_id</th>\n",
       "      <th>genre</th>\n",
       "      <th>image_url</th>\n",
       "      <th>sypnosis</th>\n",
       "    </tr>\n",
       "  </thead>\n",
       "  <tbody>\n",
       "    <tr>\n",
       "      <th>0</th>\n",
       "      <td>Ramayana: The Legend of Prince Rama</td>\n",
       "      <td>tt0259534</td>\n",
       "      <td>['Animation', ' Action', ' Adventure']</td>\n",
       "      <td>http://img.omdbapi.com/?i=tt0259534&amp;h=600&amp;apik...</td>\n",
       "      <td>An anime adaptation of the Hindu epic the Rama...</td>\n",
       "    </tr>\n",
       "    <tr>\n",
       "      <th>1</th>\n",
       "      <td>The Dark Knight</td>\n",
       "      <td>tt0468569</td>\n",
       "      <td>['Action', ' Crime', ' Drama']</td>\n",
       "      <td>http://img.omdbapi.com/?i=tt0468569&amp;h=600&amp;apik...</td>\n",
       "      <td>When the menace known as the Joker wreaks havo...</td>\n",
       "    </tr>\n",
       "    <tr>\n",
       "      <th>2</th>\n",
       "      <td>The Lord of the Rings: The Return of the King</td>\n",
       "      <td>tt0167260</td>\n",
       "      <td>['Action', ' Adventure', ' Drama']</td>\n",
       "      <td>http://img.omdbapi.com/?i=tt0167260&amp;h=600&amp;apik...</td>\n",
       "      <td>Gandalf and Aragorn lead the World of Men agai...</td>\n",
       "    </tr>\n",
       "    <tr>\n",
       "      <th>3</th>\n",
       "      <td>Spider-Man: Across the Spider-Verse</td>\n",
       "      <td>tt9362722</td>\n",
       "      <td>['Animation', ' Action', ' Adventure']</td>\n",
       "      <td>http://img.omdbapi.com/?i=tt9362722&amp;h=600&amp;apik...</td>\n",
       "      <td>Miles Morales catapults across the Multiverse,...</td>\n",
       "    </tr>\n",
       "    <tr>\n",
       "      <th>4</th>\n",
       "      <td>The Message</td>\n",
       "      <td>tt0075143</td>\n",
       "      <td>['Action', ' Adventure', ' Biography']</td>\n",
       "      <td>http://img.omdbapi.com/?i=tt0075143&amp;h=600&amp;apik...</td>\n",
       "      <td>The story of prophet \"Muhammad\" and the delive...</td>\n",
       "    </tr>\n",
       "  </tbody>\n",
       "</table>\n",
       "</div>"
      ],
      "text/plain": [
       "                                           movie    imdb_id  \\\n",
       "0            Ramayana: The Legend of Prince Rama  tt0259534   \n",
       "1                                The Dark Knight  tt0468569   \n",
       "2  The Lord of the Rings: The Return of the King  tt0167260   \n",
       "3            Spider-Man: Across the Spider-Verse  tt9362722   \n",
       "4                                    The Message  tt0075143   \n",
       "\n",
       "                                    genre  \\\n",
       "0  ['Animation', ' Action', ' Adventure']   \n",
       "1          ['Action', ' Crime', ' Drama']   \n",
       "2      ['Action', ' Adventure', ' Drama']   \n",
       "3  ['Animation', ' Action', ' Adventure']   \n",
       "4  ['Action', ' Adventure', ' Biography']   \n",
       "\n",
       "                                           image_url  \\\n",
       "0  http://img.omdbapi.com/?i=tt0259534&h=600&apik...   \n",
       "1  http://img.omdbapi.com/?i=tt0468569&h=600&apik...   \n",
       "2  http://img.omdbapi.com/?i=tt0167260&h=600&apik...   \n",
       "3  http://img.omdbapi.com/?i=tt9362722&h=600&apik...   \n",
       "4  http://img.omdbapi.com/?i=tt0075143&h=600&apik...   \n",
       "\n",
       "                                            sypnosis  \n",
       "0  An anime adaptation of the Hindu epic the Rama...  \n",
       "1  When the menace known as the Joker wreaks havo...  \n",
       "2  Gandalf and Aragorn lead the World of Men agai...  \n",
       "3  Miles Morales catapults across the Multiverse,...  \n",
       "4  The story of prophet \"Muhammad\" and the delive...  "
      ]
     },
     "execution_count": 7,
     "metadata": {},
     "output_type": "execute_result"
    }
   ],
   "source": [
    "merged_df.head(5)"
   ]
  },
  {
   "cell_type": "code",
   "execution_count": 8,
   "id": "bd80d88b",
   "metadata": {},
   "outputs": [
    {
     "data": {
      "text/plain": [
       "4624"
      ]
     },
     "execution_count": 8,
     "metadata": {},
     "output_type": "execute_result"
    }
   ],
   "source": [
    "merged_df[\"sypnosis\"].notna().sum()"
   ]
  },
  {
   "cell_type": "code",
   "execution_count": 9,
   "id": "a8fc7c84",
   "metadata": {},
   "outputs": [
    {
     "data": {
      "text/html": [
       "<div>\n",
       "<style scoped>\n",
       "    .dataframe tbody tr th:only-of-type {\n",
       "        vertical-align: middle;\n",
       "    }\n",
       "\n",
       "    .dataframe tbody tr th {\n",
       "        vertical-align: top;\n",
       "    }\n",
       "\n",
       "    .dataframe thead th {\n",
       "        text-align: right;\n",
       "    }\n",
       "</style>\n",
       "<table border=\"1\" class=\"dataframe\">\n",
       "  <thead>\n",
       "    <tr style=\"text-align: right;\">\n",
       "      <th></th>\n",
       "      <th>movie</th>\n",
       "      <th>imdb_id</th>\n",
       "      <th>genre</th>\n",
       "      <th>image_url</th>\n",
       "      <th>sypnosis</th>\n",
       "    </tr>\n",
       "  </thead>\n",
       "  <tbody>\n",
       "    <tr>\n",
       "      <th>0</th>\n",
       "      <td>Ramayana: The Legend of Prince Rama</td>\n",
       "      <td>tt0259534</td>\n",
       "      <td>['Animation', ' Action', ' Adventure']</td>\n",
       "      <td>http://img.omdbapi.com/?i=tt0259534&amp;h=600&amp;apik...</td>\n",
       "      <td>An anime adaptation of the Hindu epic the Rama...</td>\n",
       "    </tr>\n",
       "    <tr>\n",
       "      <th>1</th>\n",
       "      <td>The Dark Knight</td>\n",
       "      <td>tt0468569</td>\n",
       "      <td>['Action', ' Crime', ' Drama']</td>\n",
       "      <td>http://img.omdbapi.com/?i=tt0468569&amp;h=600&amp;apik...</td>\n",
       "      <td>When the menace known as the Joker wreaks havo...</td>\n",
       "    </tr>\n",
       "    <tr>\n",
       "      <th>2</th>\n",
       "      <td>The Lord of the Rings: The Return of the King</td>\n",
       "      <td>tt0167260</td>\n",
       "      <td>['Action', ' Adventure', ' Drama']</td>\n",
       "      <td>http://img.omdbapi.com/?i=tt0167260&amp;h=600&amp;apik...</td>\n",
       "      <td>Gandalf and Aragorn lead the World of Men agai...</td>\n",
       "    </tr>\n",
       "    <tr>\n",
       "      <th>3</th>\n",
       "      <td>Spider-Man: Across the Spider-Verse</td>\n",
       "      <td>tt9362722</td>\n",
       "      <td>['Animation', ' Action', ' Adventure']</td>\n",
       "      <td>http://img.omdbapi.com/?i=tt9362722&amp;h=600&amp;apik...</td>\n",
       "      <td>Miles Morales catapults across the Multiverse,...</td>\n",
       "    </tr>\n",
       "    <tr>\n",
       "      <th>4</th>\n",
       "      <td>The Message</td>\n",
       "      <td>tt0075143</td>\n",
       "      <td>['Action', ' Adventure', ' Biography']</td>\n",
       "      <td>http://img.omdbapi.com/?i=tt0075143&amp;h=600&amp;apik...</td>\n",
       "      <td>The story of prophet \"Muhammad\" and the delive...</td>\n",
       "    </tr>\n",
       "    <tr>\n",
       "      <th>...</th>\n",
       "      <td>...</td>\n",
       "      <td>...</td>\n",
       "      <td>...</td>\n",
       "      <td>...</td>\n",
       "      <td>...</td>\n",
       "    </tr>\n",
       "    <tr>\n",
       "      <th>4619</th>\n",
       "      <td>Bad Girls</td>\n",
       "      <td>tt0109198</td>\n",
       "      <td>['Action', ' Adventure', ' Drama']</td>\n",
       "      <td>http://img.omdbapi.com/?i=tt0109198&amp;h=600&amp;apik...</td>\n",
       "      <td>Four prostitutes join together to travel the O...</td>\n",
       "    </tr>\n",
       "    <tr>\n",
       "      <th>4620</th>\n",
       "      <td>Renegade</td>\n",
       "      <td>tt0276830</td>\n",
       "      <td>['Adventure', ' Fantasy', ' Western']</td>\n",
       "      <td>http://img.omdbapi.com/?i=tt0276830&amp;h=600&amp;apik...</td>\n",
       "      <td>In 1870, after a brutal run-in with an outlaw ...</td>\n",
       "    </tr>\n",
       "    <tr>\n",
       "      <th>4621</th>\n",
       "      <td>Wild Wild West</td>\n",
       "      <td>tt0120891</td>\n",
       "      <td>['Action', ' Comedy', ' Sci-Fi']</td>\n",
       "      <td>http://img.omdbapi.com/?i=tt0120891&amp;h=600&amp;apik...</td>\n",
       "      <td>The two best special agents in the Wild West m...</td>\n",
       "    </tr>\n",
       "    <tr>\n",
       "      <th>4622</th>\n",
       "      <td>The Ridiculous 6</td>\n",
       "      <td>tt2479478</td>\n",
       "      <td>['Action', ' Adventure', ' Comedy']</td>\n",
       "      <td>http://img.omdbapi.com/?i=tt2479478&amp;h=600&amp;apik...</td>\n",
       "      <td>An outlaw who was raised by Native Americans d...</td>\n",
       "    </tr>\n",
       "    <tr>\n",
       "      <th>4623</th>\n",
       "      <td>Jonah Hex</td>\n",
       "      <td>tt1075747</td>\n",
       "      <td>['Action', ' Drama', ' Fantasy']</td>\n",
       "      <td>http://img.omdbapi.com/?i=tt1075747&amp;h=600&amp;apik...</td>\n",
       "      <td>The U.S. military makes a scarred bounty hunte...</td>\n",
       "    </tr>\n",
       "  </tbody>\n",
       "</table>\n",
       "<p>4624 rows × 5 columns</p>\n",
       "</div>"
      ],
      "text/plain": [
       "                                              movie    imdb_id  \\\n",
       "0               Ramayana: The Legend of Prince Rama  tt0259534   \n",
       "1                                   The Dark Knight  tt0468569   \n",
       "2     The Lord of the Rings: The Return of the King  tt0167260   \n",
       "3               Spider-Man: Across the Spider-Verse  tt9362722   \n",
       "4                                       The Message  tt0075143   \n",
       "...                                             ...        ...   \n",
       "4619                                      Bad Girls  tt0109198   \n",
       "4620                                       Renegade  tt0276830   \n",
       "4621                                 Wild Wild West  tt0120891   \n",
       "4622                               The Ridiculous 6  tt2479478   \n",
       "4623                                      Jonah Hex  tt1075747   \n",
       "\n",
       "                                       genre  \\\n",
       "0     ['Animation', ' Action', ' Adventure']   \n",
       "1             ['Action', ' Crime', ' Drama']   \n",
       "2         ['Action', ' Adventure', ' Drama']   \n",
       "3     ['Animation', ' Action', ' Adventure']   \n",
       "4     ['Action', ' Adventure', ' Biography']   \n",
       "...                                      ...   \n",
       "4619      ['Action', ' Adventure', ' Drama']   \n",
       "4620   ['Adventure', ' Fantasy', ' Western']   \n",
       "4621        ['Action', ' Comedy', ' Sci-Fi']   \n",
       "4622     ['Action', ' Adventure', ' Comedy']   \n",
       "4623        ['Action', ' Drama', ' Fantasy']   \n",
       "\n",
       "                                              image_url  \\\n",
       "0     http://img.omdbapi.com/?i=tt0259534&h=600&apik...   \n",
       "1     http://img.omdbapi.com/?i=tt0468569&h=600&apik...   \n",
       "2     http://img.omdbapi.com/?i=tt0167260&h=600&apik...   \n",
       "3     http://img.omdbapi.com/?i=tt9362722&h=600&apik...   \n",
       "4     http://img.omdbapi.com/?i=tt0075143&h=600&apik...   \n",
       "...                                                 ...   \n",
       "4619  http://img.omdbapi.com/?i=tt0109198&h=600&apik...   \n",
       "4620  http://img.omdbapi.com/?i=tt0276830&h=600&apik...   \n",
       "4621  http://img.omdbapi.com/?i=tt0120891&h=600&apik...   \n",
       "4622  http://img.omdbapi.com/?i=tt2479478&h=600&apik...   \n",
       "4623  http://img.omdbapi.com/?i=tt1075747&h=600&apik...   \n",
       "\n",
       "                                               sypnosis  \n",
       "0     An anime adaptation of the Hindu epic the Rama...  \n",
       "1     When the menace known as the Joker wreaks havo...  \n",
       "2     Gandalf and Aragorn lead the World of Men agai...  \n",
       "3     Miles Morales catapults across the Multiverse,...  \n",
       "4     The story of prophet \"Muhammad\" and the delive...  \n",
       "...                                                 ...  \n",
       "4619  Four prostitutes join together to travel the O...  \n",
       "4620  In 1870, after a brutal run-in with an outlaw ...  \n",
       "4621  The two best special agents in the Wild West m...  \n",
       "4622  An outlaw who was raised by Native Americans d...  \n",
       "4623  The U.S. military makes a scarred bounty hunte...  \n",
       "\n",
       "[4624 rows x 5 columns]"
      ]
     },
     "execution_count": 9,
     "metadata": {},
     "output_type": "execute_result"
    }
   ],
   "source": [
    "merged_df"
   ]
  },
  {
   "cell_type": "code",
   "execution_count": 10,
   "id": "1cfc7e7e",
   "metadata": {},
   "outputs": [
    {
     "data": {
      "text/html": [
       "<div>\n",
       "<style scoped>\n",
       "    .dataframe tbody tr th:only-of-type {\n",
       "        vertical-align: middle;\n",
       "    }\n",
       "\n",
       "    .dataframe tbody tr th {\n",
       "        vertical-align: top;\n",
       "    }\n",
       "\n",
       "    .dataframe thead th {\n",
       "        text-align: right;\n",
       "    }\n",
       "</style>\n",
       "<table border=\"1\" class=\"dataframe\">\n",
       "  <thead>\n",
       "    <tr style=\"text-align: right;\">\n",
       "      <th></th>\n",
       "      <th>movie</th>\n",
       "      <th>imdb_id</th>\n",
       "      <th>genre</th>\n",
       "      <th>image_url</th>\n",
       "      <th>sypnosis</th>\n",
       "    </tr>\n",
       "  </thead>\n",
       "  <tbody>\n",
       "  </tbody>\n",
       "</table>\n",
       "</div>"
      ],
      "text/plain": [
       "Empty DataFrame\n",
       "Columns: [movie, imdb_id, genre, image_url, sypnosis]\n",
       "Index: []"
      ]
     },
     "execution_count": 10,
     "metadata": {},
     "output_type": "execute_result"
    }
   ],
   "source": [
    "merged_df[merged_df[\"genre\"] == \"Drama\"]"
   ]
  },
  {
   "cell_type": "code",
   "execution_count": 11,
   "id": "c8b8d781",
   "metadata": {},
   "outputs": [],
   "source": [
    "import string\n",
    "from nltk.tokenize import word_tokenize\n",
    "from nltk.corpus import stopwords \n",
    "from nltk.stem import WordNetLemmatizer"
   ]
  },
  {
   "cell_type": "code",
   "execution_count": 12,
   "id": "1e72a118",
   "metadata": {},
   "outputs": [],
   "source": [
    "def cleaning(sentence):\n",
    "    if isinstance(sentence, str):\n",
    "    # Basic cleaning\n",
    "        sentence = sentence.strip() ## remove whitespaces\n",
    "        sentence = sentence.lower() ## lowercase \n",
    "        sentence = ''.join(char for char in sentence if not char.isdigit()) ## remove numbers\n",
    "\n",
    "        # Advanced cleaning\n",
    "        for punctuation in string.punctuation:\n",
    "            sentence = sentence.replace(punctuation, '') ## remove punctuation\n",
    "\n",
    "        tokenized_sentence = word_tokenize(sentence) ## tokenize \n",
    "        stop_words = set(stopwords.words('english')) ## define stopwords\n",
    "\n",
    "        tokenized_sentence_cleaned = [ ## remove stopwords\n",
    "            w for w in tokenized_sentence if not w in stop_words\n",
    "        ]\n",
    "\n",
    "        lemmatized = [\n",
    "            WordNetLemmatizer().lemmatize(word, pos = \"v\") \n",
    "            for word in tokenized_sentence_cleaned\n",
    "        ]\n",
    "\n",
    "        cleaned_sentence = ' '.join(word for word in lemmatized)\n",
    "\n",
    "        return cleaned_sentence"
   ]
  },
  {
   "cell_type": "code",
   "execution_count": 13,
   "id": "59f616b0",
   "metadata": {},
   "outputs": [],
   "source": [
    "# merged_df[\"clean_plot\"] = merged_df[\"plot\"].apply(cleaning)"
   ]
  },
  {
   "cell_type": "code",
   "execution_count": 14,
   "id": "7ef657ca",
   "metadata": {},
   "outputs": [],
   "source": [
    "merged_df[\"clean_sypnosis\"] = merged_df[\"sypnosis\"].apply(cleaning)"
   ]
  },
  {
   "cell_type": "code",
   "execution_count": 15,
   "id": "50413baf",
   "metadata": {},
   "outputs": [],
   "source": [
    "merged_df[\"clean_title\"] = merged_df[\"movie\"].apply(cleaning)"
   ]
  },
  {
   "cell_type": "code",
   "execution_count": 16,
   "id": "e9d0eb78",
   "metadata": {},
   "outputs": [
    {
     "data": {
      "text/plain": [
       "movie             0\n",
       "imdb_id           0\n",
       "genre             0\n",
       "image_url         0\n",
       "sypnosis          0\n",
       "clean_sypnosis    0\n",
       "clean_title       0\n",
       "dtype: int64"
      ]
     },
     "execution_count": 16,
     "metadata": {},
     "output_type": "execute_result"
    }
   ],
   "source": [
    "merged_df.isna().sum()"
   ]
  },
  {
   "cell_type": "code",
   "execution_count": 17,
   "id": "10898163",
   "metadata": {},
   "outputs": [],
   "source": [
    "merged_df[\"genre\"] = (\n",
    "    merged_df[\"genre\"]\n",
    "    .apply(eval)\n",
    "    .apply(lambda x: [genre.strip() for genre in x])\n",
    "    )"
   ]
  },
  {
   "cell_type": "code",
   "execution_count": 18,
   "id": "4d52b648",
   "metadata": {},
   "outputs": [
    {
     "data": {
      "text/plain": [
       "(4624, 7)"
      ]
     },
     "execution_count": 18,
     "metadata": {},
     "output_type": "execute_result"
    }
   ],
   "source": [
    "merged_df.shape"
   ]
  },
  {
   "cell_type": "code",
   "execution_count": 19,
   "id": "73e35c22",
   "metadata": {},
   "outputs": [],
   "source": [
    "merged_df = merged_df.dropna()"
   ]
  },
  {
   "cell_type": "code",
   "execution_count": 20,
   "id": "9e29471e",
   "metadata": {},
   "outputs": [
    {
     "data": {
      "text/plain": [
       "(4624, 7)"
      ]
     },
     "execution_count": 20,
     "metadata": {},
     "output_type": "execute_result"
    }
   ],
   "source": [
    "merged_df.shape"
   ]
  },
  {
   "cell_type": "code",
   "execution_count": 21,
   "id": "4b65b769",
   "metadata": {},
   "outputs": [
    {
     "data": {
      "text/plain": [
       "Drama        2824\n",
       "Comedy       1495\n",
       "Adventure    1045\n",
       "Action        994\n",
       "Crime         806\n",
       "Romance       647\n",
       "Biography     591\n",
       "Thriller      544\n",
       "Horror        511\n",
       "Mystery       504\n",
       "Animation     405\n",
       "Fantasy       387\n",
       "Sci-Fi        360\n",
       "Family        312\n",
       "History       298\n",
       "Music         261\n",
       "War           201\n",
       "Sport         187\n",
       "Musical       106\n",
       "Western       104\n",
       "Film-Noir      59\n",
       "Name: genre, dtype: int64"
      ]
     },
     "execution_count": 21,
     "metadata": {},
     "output_type": "execute_result"
    }
   ],
   "source": [
    "#check the genre we have\n",
    "merged_df[\"genre\"].explode().value_counts()"
   ]
  },
  {
   "cell_type": "code",
   "execution_count": 22,
   "id": "843e3719",
   "metadata": {},
   "outputs": [
    {
     "data": {
      "text/html": [
       "<div>\n",
       "<style scoped>\n",
       "    .dataframe tbody tr th:only-of-type {\n",
       "        vertical-align: middle;\n",
       "    }\n",
       "\n",
       "    .dataframe tbody tr th {\n",
       "        vertical-align: top;\n",
       "    }\n",
       "\n",
       "    .dataframe thead th {\n",
       "        text-align: right;\n",
       "    }\n",
       "</style>\n",
       "<table border=\"1\" class=\"dataframe\">\n",
       "  <thead>\n",
       "    <tr style=\"text-align: right;\">\n",
       "      <th></th>\n",
       "      <th>movie</th>\n",
       "      <th>imdb_id</th>\n",
       "      <th>genre</th>\n",
       "      <th>image_url</th>\n",
       "      <th>sypnosis</th>\n",
       "      <th>clean_sypnosis</th>\n",
       "      <th>clean_title</th>\n",
       "    </tr>\n",
       "  </thead>\n",
       "  <tbody>\n",
       "    <tr>\n",
       "      <th>count</th>\n",
       "      <td>4624</td>\n",
       "      <td>4624</td>\n",
       "      <td>4624</td>\n",
       "      <td>4624</td>\n",
       "      <td>4624</td>\n",
       "      <td>4624</td>\n",
       "      <td>4624</td>\n",
       "    </tr>\n",
       "    <tr>\n",
       "      <th>unique</th>\n",
       "      <td>4515</td>\n",
       "      <td>4624</td>\n",
       "      <td>383</td>\n",
       "      <td>4624</td>\n",
       "      <td>4624</td>\n",
       "      <td>4624</td>\n",
       "      <td>4324</td>\n",
       "    </tr>\n",
       "    <tr>\n",
       "      <th>top</th>\n",
       "      <td>A Star Is Born</td>\n",
       "      <td>tt0259534</td>\n",
       "      <td>[Animation, Adventure, Comedy]</td>\n",
       "      <td>http://img.omdbapi.com/?i=tt0259534&amp;h=600&amp;apik...</td>\n",
       "      <td>An anime adaptation of the Hindu epic the Rama...</td>\n",
       "      <td>anime adaptation hindu epic ramayana lord ram ...</td>\n",
       "      <td></td>\n",
       "    </tr>\n",
       "    <tr>\n",
       "      <th>freq</th>\n",
       "      <td>4</td>\n",
       "      <td>1</td>\n",
       "      <td>223</td>\n",
       "      <td>1</td>\n",
       "      <td>1</td>\n",
       "      <td>1</td>\n",
       "      <td>36</td>\n",
       "    </tr>\n",
       "  </tbody>\n",
       "</table>\n",
       "</div>"
      ],
      "text/plain": [
       "                 movie    imdb_id                           genre  \\\n",
       "count             4624       4624                            4624   \n",
       "unique            4515       4624                             383   \n",
       "top     A Star Is Born  tt0259534  [Animation, Adventure, Comedy]   \n",
       "freq                 4          1                             223   \n",
       "\n",
       "                                                image_url  \\\n",
       "count                                                4624   \n",
       "unique                                               4624   \n",
       "top     http://img.omdbapi.com/?i=tt0259534&h=600&apik...   \n",
       "freq                                                    1   \n",
       "\n",
       "                                                 sypnosis  \\\n",
       "count                                                4624   \n",
       "unique                                               4624   \n",
       "top     An anime adaptation of the Hindu epic the Rama...   \n",
       "freq                                                    1   \n",
       "\n",
       "                                           clean_sypnosis clean_title  \n",
       "count                                                4624        4624  \n",
       "unique                                               4624        4324  \n",
       "top     anime adaptation hindu epic ramayana lord ram ...              \n",
       "freq                                                    1          36  "
      ]
     },
     "execution_count": 22,
     "metadata": {},
     "output_type": "execute_result"
    }
   ],
   "source": [
    "merged_df.describe()"
   ]
  },
  {
   "cell_type": "code",
   "execution_count": 23,
   "id": "e27ab2ed",
   "metadata": {},
   "outputs": [],
   "source": [
    "from sklearn.preprocessing import MultiLabelBinarizer\n",
    "\n",
    "multilabel_binarizer = MultiLabelBinarizer()\n",
    "multilabel_binarizer.fit(merged_df[\"genre\"])\n",
    "\n",
    "# transform target variable\n",
    "y = multilabel_binarizer.transform(merged_df['genre'])"
   ]
  },
  {
   "cell_type": "code",
   "execution_count": 24,
   "id": "a2503db6",
   "metadata": {
    "jupyter": {
     "outputs_hidden": true
    }
   },
   "outputs": [
    {
     "data": {
      "text/plain": [
       "(4624, 28)"
      ]
     },
     "execution_count": 24,
     "metadata": {},
     "output_type": "execute_result"
    }
   ],
   "source": [
    "genre_names = multilabel_binarizer.classes_\n",
    "\n",
    "# Adding \n",
    "for i in range(len(genre_names)):\n",
    "    merged_df[f\"{genre_names[i]}\"] = y[:,i]\n",
    "\n",
    "merged_df.shape"
   ]
  },
  {
   "cell_type": "code",
   "execution_count": 25,
   "id": "946d9b1f",
   "metadata": {},
   "outputs": [
    {
     "data": {
      "text/html": [
       "<div>\n",
       "<style scoped>\n",
       "    .dataframe tbody tr th:only-of-type {\n",
       "        vertical-align: middle;\n",
       "    }\n",
       "\n",
       "    .dataframe tbody tr th {\n",
       "        vertical-align: top;\n",
       "    }\n",
       "\n",
       "    .dataframe thead th {\n",
       "        text-align: right;\n",
       "    }\n",
       "</style>\n",
       "<table border=\"1\" class=\"dataframe\">\n",
       "  <thead>\n",
       "    <tr style=\"text-align: right;\">\n",
       "      <th></th>\n",
       "      <th>movie</th>\n",
       "      <th>imdb_id</th>\n",
       "      <th>genre</th>\n",
       "      <th>image_url</th>\n",
       "      <th>sypnosis</th>\n",
       "      <th>clean_sypnosis</th>\n",
       "      <th>clean_title</th>\n",
       "      <th>Action</th>\n",
       "      <th>Adventure</th>\n",
       "      <th>Animation</th>\n",
       "      <th>...</th>\n",
       "      <th>Horror</th>\n",
       "      <th>Music</th>\n",
       "      <th>Musical</th>\n",
       "      <th>Mystery</th>\n",
       "      <th>Romance</th>\n",
       "      <th>Sci-Fi</th>\n",
       "      <th>Sport</th>\n",
       "      <th>Thriller</th>\n",
       "      <th>War</th>\n",
       "      <th>Western</th>\n",
       "    </tr>\n",
       "  </thead>\n",
       "  <tbody>\n",
       "    <tr>\n",
       "      <th>0</th>\n",
       "      <td>Ramayana: The Legend of Prince Rama</td>\n",
       "      <td>tt0259534</td>\n",
       "      <td>[Animation, Action, Adventure]</td>\n",
       "      <td>http://img.omdbapi.com/?i=tt0259534&amp;h=600&amp;apik...</td>\n",
       "      <td>An anime adaptation of the Hindu epic the Rama...</td>\n",
       "      <td>anime adaptation hindu epic ramayana lord ram ...</td>\n",
       "      <td>ramayana legend prince rama</td>\n",
       "      <td>1</td>\n",
       "      <td>1</td>\n",
       "      <td>1</td>\n",
       "      <td>...</td>\n",
       "      <td>0</td>\n",
       "      <td>0</td>\n",
       "      <td>0</td>\n",
       "      <td>0</td>\n",
       "      <td>0</td>\n",
       "      <td>0</td>\n",
       "      <td>0</td>\n",
       "      <td>0</td>\n",
       "      <td>0</td>\n",
       "      <td>0</td>\n",
       "    </tr>\n",
       "    <tr>\n",
       "      <th>1</th>\n",
       "      <td>The Dark Knight</td>\n",
       "      <td>tt0468569</td>\n",
       "      <td>[Action, Crime, Drama]</td>\n",
       "      <td>http://img.omdbapi.com/?i=tt0468569&amp;h=600&amp;apik...</td>\n",
       "      <td>When the menace known as the Joker wreaks havo...</td>\n",
       "      <td>menace know joker wreak havoc chaos people got...</td>\n",
       "      <td>dark knight</td>\n",
       "      <td>1</td>\n",
       "      <td>0</td>\n",
       "      <td>0</td>\n",
       "      <td>...</td>\n",
       "      <td>0</td>\n",
       "      <td>0</td>\n",
       "      <td>0</td>\n",
       "      <td>0</td>\n",
       "      <td>0</td>\n",
       "      <td>0</td>\n",
       "      <td>0</td>\n",
       "      <td>0</td>\n",
       "      <td>0</td>\n",
       "      <td>0</td>\n",
       "    </tr>\n",
       "    <tr>\n",
       "      <th>2</th>\n",
       "      <td>The Lord of the Rings: The Return of the King</td>\n",
       "      <td>tt0167260</td>\n",
       "      <td>[Action, Adventure, Drama]</td>\n",
       "      <td>http://img.omdbapi.com/?i=tt0167260&amp;h=600&amp;apik...</td>\n",
       "      <td>Gandalf and Aragorn lead the World of Men agai...</td>\n",
       "      <td>gandalf aragorn lead world men saurons army dr...</td>\n",
       "      <td>lord ring return king</td>\n",
       "      <td>1</td>\n",
       "      <td>1</td>\n",
       "      <td>0</td>\n",
       "      <td>...</td>\n",
       "      <td>0</td>\n",
       "      <td>0</td>\n",
       "      <td>0</td>\n",
       "      <td>0</td>\n",
       "      <td>0</td>\n",
       "      <td>0</td>\n",
       "      <td>0</td>\n",
       "      <td>0</td>\n",
       "      <td>0</td>\n",
       "      <td>0</td>\n",
       "    </tr>\n",
       "    <tr>\n",
       "      <th>3</th>\n",
       "      <td>Spider-Man: Across the Spider-Verse</td>\n",
       "      <td>tt9362722</td>\n",
       "      <td>[Animation, Action, Adventure]</td>\n",
       "      <td>http://img.omdbapi.com/?i=tt9362722&amp;h=600&amp;apik...</td>\n",
       "      <td>Miles Morales catapults across the Multiverse,...</td>\n",
       "      <td>miles morales catapult across multiverse encou...</td>\n",
       "      <td>spiderman across spiderverse</td>\n",
       "      <td>1</td>\n",
       "      <td>1</td>\n",
       "      <td>1</td>\n",
       "      <td>...</td>\n",
       "      <td>0</td>\n",
       "      <td>0</td>\n",
       "      <td>0</td>\n",
       "      <td>0</td>\n",
       "      <td>0</td>\n",
       "      <td>0</td>\n",
       "      <td>0</td>\n",
       "      <td>0</td>\n",
       "      <td>0</td>\n",
       "      <td>0</td>\n",
       "    </tr>\n",
       "    <tr>\n",
       "      <th>4</th>\n",
       "      <td>The Message</td>\n",
       "      <td>tt0075143</td>\n",
       "      <td>[Action, Adventure, Biography]</td>\n",
       "      <td>http://img.omdbapi.com/?i=tt0075143&amp;h=600&amp;apik...</td>\n",
       "      <td>The story of prophet \"Muhammad\" and the delive...</td>\n",
       "      <td>story prophet muhammad delivery message god allah</td>\n",
       "      <td>message</td>\n",
       "      <td>1</td>\n",
       "      <td>1</td>\n",
       "      <td>0</td>\n",
       "      <td>...</td>\n",
       "      <td>0</td>\n",
       "      <td>0</td>\n",
       "      <td>0</td>\n",
       "      <td>0</td>\n",
       "      <td>0</td>\n",
       "      <td>0</td>\n",
       "      <td>0</td>\n",
       "      <td>0</td>\n",
       "      <td>0</td>\n",
       "      <td>0</td>\n",
       "    </tr>\n",
       "  </tbody>\n",
       "</table>\n",
       "<p>5 rows × 28 columns</p>\n",
       "</div>"
      ],
      "text/plain": [
       "                                           movie    imdb_id  \\\n",
       "0            Ramayana: The Legend of Prince Rama  tt0259534   \n",
       "1                                The Dark Knight  tt0468569   \n",
       "2  The Lord of the Rings: The Return of the King  tt0167260   \n",
       "3            Spider-Man: Across the Spider-Verse  tt9362722   \n",
       "4                                    The Message  tt0075143   \n",
       "\n",
       "                            genre  \\\n",
       "0  [Animation, Action, Adventure]   \n",
       "1          [Action, Crime, Drama]   \n",
       "2      [Action, Adventure, Drama]   \n",
       "3  [Animation, Action, Adventure]   \n",
       "4  [Action, Adventure, Biography]   \n",
       "\n",
       "                                           image_url  \\\n",
       "0  http://img.omdbapi.com/?i=tt0259534&h=600&apik...   \n",
       "1  http://img.omdbapi.com/?i=tt0468569&h=600&apik...   \n",
       "2  http://img.omdbapi.com/?i=tt0167260&h=600&apik...   \n",
       "3  http://img.omdbapi.com/?i=tt9362722&h=600&apik...   \n",
       "4  http://img.omdbapi.com/?i=tt0075143&h=600&apik...   \n",
       "\n",
       "                                            sypnosis  \\\n",
       "0  An anime adaptation of the Hindu epic the Rama...   \n",
       "1  When the menace known as the Joker wreaks havo...   \n",
       "2  Gandalf and Aragorn lead the World of Men agai...   \n",
       "3  Miles Morales catapults across the Multiverse,...   \n",
       "4  The story of prophet \"Muhammad\" and the delive...   \n",
       "\n",
       "                                      clean_sypnosis  \\\n",
       "0  anime adaptation hindu epic ramayana lord ram ...   \n",
       "1  menace know joker wreak havoc chaos people got...   \n",
       "2  gandalf aragorn lead world men saurons army dr...   \n",
       "3  miles morales catapult across multiverse encou...   \n",
       "4  story prophet muhammad delivery message god allah   \n",
       "\n",
       "                    clean_title  Action  Adventure  Animation  ...  Horror  \\\n",
       "0   ramayana legend prince rama       1          1          1  ...       0   \n",
       "1                   dark knight       1          0          0  ...       0   \n",
       "2         lord ring return king       1          1          0  ...       0   \n",
       "3  spiderman across spiderverse       1          1          1  ...       0   \n",
       "4                       message       1          1          0  ...       0   \n",
       "\n",
       "   Music  Musical  Mystery  Romance  Sci-Fi  Sport  Thriller  War  Western  \n",
       "0      0        0        0        0       0      0         0    0        0  \n",
       "1      0        0        0        0       0      0         0    0        0  \n",
       "2      0        0        0        0       0      0         0    0        0  \n",
       "3      0        0        0        0       0      0         0    0        0  \n",
       "4      0        0        0        0       0      0         0    0        0  \n",
       "\n",
       "[5 rows x 28 columns]"
      ]
     },
     "execution_count": 25,
     "metadata": {},
     "output_type": "execute_result"
    }
   ],
   "source": [
    "merged_df.head(5)"
   ]
  },
  {
   "cell_type": "code",
   "execution_count": 26,
   "id": "16a2d2db",
   "metadata": {},
   "outputs": [],
   "source": [
    "# from imblearn.under_sampling import RandomUnderSampler\n",
    "# from sklearn.datasets import make_classification\n",
    "# from collections import Counter\n",
    "\n",
    "# # Generate a sample imbalanced dataset\n",
    "# X, y = make_classification(n_classes=2, class_sep=2, weights=[0.1, 0.9], n_informative=3, n_redundant=1, flip_y=0, n_features=20, n_clusters_per_class=1, n_samples=1000, random_state=10)\n",
    "\n",
    "# # Count the class distribution before undersampling\n",
    "# print(\"Class distribution before undersampling:\", Counter(y))\n",
    "\n",
    "# # Apply random undersampling\n",
    "# rus = RandomUnderSampler(random_state=42)\n",
    "# X_resampled, y_resampled = rus.fit_resample(X, y)\n",
    "\n",
    "# # Count the class distribution after undersampling\n",
    "# print(\"Class distribution after undersampling:\", Counter(y_resampled))"
   ]
  },
  {
   "cell_type": "code",
   "execution_count": 27,
   "id": "aff75b9a",
   "metadata": {},
   "outputs": [],
   "source": [
    "# X = merged_df[[\"clean_sypnosis\",\"clean_title\"]]\n",
    "# y = merged_df.drop(columns=[\"movie\",\"imdb_id\",\"genre\",\"image_url\",\"sypnosis\",\"clean_sypnosis\",\"clean_title\"])"
   ]
  },
  {
   "cell_type": "code",
   "execution_count": 28,
   "id": "6dac6d50",
   "metadata": {},
   "outputs": [
    {
     "data": {
      "text/plain": [
       "Drama        1485\n",
       "Comedy        980\n",
       "Adventure     821\n",
       "Action        796\n",
       "Crime         613\n",
       "Horror        493\n",
       "Thriller      481\n",
       "Mystery       477\n",
       "Romance       419\n",
       "Animation     364\n",
       "Sci-Fi        351\n",
       "Fantasy       296\n",
       "Name: genre, dtype: int64"
      ]
     },
     "execution_count": 28,
     "metadata": {},
     "output_type": "execute_result"
    }
   ],
   "source": [
    "condition1 =  (merged_df['Music'] == 1)  | (merged_df['Biography'] == 1) | (merged_df['Sport'] == 1) |(merged_df['Musical'] == 1) |(merged_df['War'] == 1)|(merged_df['Western'] == 1)|(merged_df['History'] == 1)|(merged_df['Film-Noir'] == 1)|(merged_df['Family'] == 1)\n",
    "\n",
    "rows_to_drop1 = merged_df[condition1].index\n",
    "test_df = merged_df.drop(rows_to_drop1)\n",
    "\n",
    "test_df[\"genre\"].explode().value_counts()"
   ]
  },
  {
   "cell_type": "code",
   "execution_count": 29,
   "id": "02d2ddca",
   "metadata": {},
   "outputs": [
    {
     "data": {
      "text/plain": [
       "Drama        1000\n",
       "Comedy        801\n",
       "Adventure     693\n",
       "Action        620\n",
       "Horror        493\n",
       "Thriller      481\n",
       "Mystery       477\n",
       "Romance       419\n",
       "Crime         415\n",
       "Animation     364\n",
       "Sci-Fi        351\n",
       "Fantasy       296\n",
       "Name: genre, dtype: int64"
      ]
     },
     "execution_count": 29,
     "metadata": {},
     "output_type": "execute_result"
    }
   ],
   "source": [
    "condition2 = (test_df['Drama'] == 1)  & (test_df['Romance'] != 1)& (test_df['Thriller'] != 1)& (test_df['Biography'] != 1)& (test_df['Horror'] != 1)& (test_df['Mystery'] != 1)& (test_df['Animation'] != 1)& (test_df['Sci-Fi'] != 1)& (test_df['Fantasy'] != 1)& (test_df['History'] != 1)& (test_df['Family'] != 1)& (test_df['Music'] != 1)\n",
    "rows_to_drop2 = test_df[condition2].index\n",
    "test_df2 = test_df.drop(rows_to_drop2)\n",
    "\n",
    "   \n",
    "test_df2[\"genre\"].explode().value_counts()"
   ]
  },
  {
   "cell_type": "code",
   "execution_count": 30,
   "id": "98606c53",
   "metadata": {},
   "outputs": [
    {
     "data": {
      "text/plain": [
       "Drama        821\n",
       "Adventure    693\n",
       "Comedy       622\n",
       "Action       620\n",
       "Horror       487\n",
       "Thriller     480\n",
       "Mystery      470\n",
       "Crime        415\n",
       "Animation    357\n",
       "Sci-Fi       345\n",
       "Romance      313\n",
       "Fantasy      250\n",
       "Name: genre, dtype: int64"
      ]
     },
     "execution_count": 30,
     "metadata": {},
     "output_type": "execute_result"
    }
   ],
   "source": [
    "condition3 = (test_df2['Comedy'] == 1)  & (test_df2['Drama'] == 1)\n",
    "# & (test_df['Romance'] != 1)& (test_df['Thriller'] != 1)& (test_df['Biography'] != 1)& (test_df['Horror'] != 1)& (test_df['Mystery'] != 1)& (test_df['Animation'] != 1)& (test_df['Sci-Fi'] != 1)& (test_df['Fantasy'] != 1)& (test_df['History'] != 1)& (test_df['Family'] != 1)& (test_df['Music'] != 1)\n",
    "rows_to_drop3 = test_df2[condition3].index\n",
    "test_df3= test_df2.drop(rows_to_drop3)\n",
    "\n",
    "   \n",
    "test_df3[\"genre\"].explode().value_counts()"
   ]
  },
  {
   "cell_type": "code",
   "execution_count": 31,
   "id": "9974b307",
   "metadata": {},
   "outputs": [],
   "source": [
    "# condition = (merged_df['Drama'] == 1) & (merged_df['Comedy'] == 1)\n",
    "# rows_to_drop = merged_df[condition].head(500).index\n",
    "# balancing_df = merged_df.drop(rows_to_drop)\n",
    "# balancing_df.shape\n",
    "# balancing_df[\"genre\"].explode().value_counts()"
   ]
  },
  {
   "cell_type": "code",
   "execution_count": 32,
   "id": "5b09062d",
   "metadata": {},
   "outputs": [],
   "source": [
    "# condition1 = (merged_df['Drama'] == 1)&(merged_df['Romance'] != 1)& (merged_df['Sci-Fi'] != 1)& (merged_df['Fantasy'] != 1)\n",
    "# # & (merged_df['Crime'] != 1)& (merged_df['Romance'] != 1)& (merged_df['Thriller'] != 1)& (merged_df['Biography'] != 1)& (merged_df['Horror'] != 1)& (merged_df['Mystery'] != 1)& (merged_df['Animation'] != 1)& (merged_df['Sci-Fi'] != 1)& (merged_df['Fantasy'] != 1)& (merged_df['History'] != 1)& (merged_df['Family'] != 1)& (merged_df['Music'] != 1)\n",
    "# # & (merged_df['War'] == 1)& (merged_df['Sport'] == 1)& (merged_df['Western'] == 1)& (merged_df['Musical'] == 1)& (merged_df['Film-Noir'] == 1)\n",
    "# # & (merged_df['Adventure'] == 1)& (merged_df['Action'] != 1)\n",
    "# # & (merged_df['Comedy'] != 1)\n",
    "\n",
    "# rows_to_drop1 = merged_df[condition1].index\n",
    "# # .head(1000).index\n",
    "# test_df = merged_df.drop(rows_to_drop1)\n",
    "\n",
    "\n",
    "   \n",
    "# test_df[\"genre\"].explode().value_counts()"
   ]
  },
  {
   "cell_type": "code",
   "execution_count": 33,
   "id": "02088179",
   "metadata": {},
   "outputs": [],
   "source": [
    "# condition2 = (test_df['Comedy'] == 1)  & (test_df['Adventure'] == 1)\n",
    "# # & (test_df['Romance'] != 1)& (test_df['Thriller'] != 1)& (test_df['Biography'] != 1)& (test_df['Horror'] != 1)& (test_df['Mystery'] != 1)& (test_df['Animation'] != 1)& (test_df['Sci-Fi'] != 1)& (test_df['Fantasy'] != 1)& (test_df['History'] != 1)& (test_df['Family'] != 1)& (test_df['Music'] != 1)\n",
    "# rows_to_drop2 = test_df[condition2].index\n",
    "# test_df2 = test_df.drop(rows_to_drop2)\n",
    "\n",
    "   \n",
    "# test_df2[\"genre\"].explode().value_counts()"
   ]
  },
  {
   "cell_type": "code",
   "execution_count": 34,
   "id": "fd932a99",
   "metadata": {},
   "outputs": [],
   "source": [
    "# condition3 = (test_df['Music'] == 1) | (test_df['Biography'] == 1) | (test_df['Sport'] == 1) |(test_df['Musical'] == 1) |(test_df['War'] == 1)|(test_df['Western'] == 1)|(test_df['History'] == 1)|(test_df['Film-Noir'] == 1)|(test_df['Family'] == 1)\n",
    "\n",
    "# rows_to_drop3 = test_df[condition3].index\n",
    "# test_df3 = test_df.drop(rows_to_drop3)\n",
    "\n",
    "   \n",
    "# test_df3[\"genre\"].explode().value_counts()"
   ]
  },
  {
   "cell_type": "code",
   "execution_count": 35,
   "id": "e59a4d60",
   "metadata": {},
   "outputs": [],
   "source": [
    "# condition2 = (balancing_df['Drama'] == 1)\n",
    "# rows_to_drop = balancing_df[condition2].head(500).index\n",
    "# balancing_df2 = balancing_df.drop(rows_to_drop)\n",
    "# balancing_df2[\"genre\"].explode().value_counts()"
   ]
  },
  {
   "cell_type": "code",
   "execution_count": 36,
   "id": "1bcf3299",
   "metadata": {},
   "outputs": [
    {
     "data": {
      "text/html": [
       "<div>\n",
       "<style scoped>\n",
       "    .dataframe tbody tr th:only-of-type {\n",
       "        vertical-align: middle;\n",
       "    }\n",
       "\n",
       "    .dataframe tbody tr th {\n",
       "        vertical-align: top;\n",
       "    }\n",
       "\n",
       "    .dataframe thead th {\n",
       "        text-align: right;\n",
       "    }\n",
       "</style>\n",
       "<table border=\"1\" class=\"dataframe\">\n",
       "  <thead>\n",
       "    <tr style=\"text-align: right;\">\n",
       "      <th></th>\n",
       "      <th>movie</th>\n",
       "      <th>imdb_id</th>\n",
       "      <th>genre</th>\n",
       "      <th>image_url</th>\n",
       "      <th>sypnosis</th>\n",
       "      <th>clean_sypnosis</th>\n",
       "      <th>clean_title</th>\n",
       "      <th>Action</th>\n",
       "      <th>Adventure</th>\n",
       "      <th>Animation</th>\n",
       "      <th>...</th>\n",
       "      <th>Horror</th>\n",
       "      <th>Music</th>\n",
       "      <th>Musical</th>\n",
       "      <th>Mystery</th>\n",
       "      <th>Romance</th>\n",
       "      <th>Sci-Fi</th>\n",
       "      <th>Sport</th>\n",
       "      <th>Thriller</th>\n",
       "      <th>War</th>\n",
       "      <th>Western</th>\n",
       "    </tr>\n",
       "  </thead>\n",
       "  <tbody>\n",
       "    <tr>\n",
       "      <th>0</th>\n",
       "      <td>Ramayana: The Legend of Prince Rama</td>\n",
       "      <td>tt0259534</td>\n",
       "      <td>[Animation, Action, Adventure]</td>\n",
       "      <td>http://img.omdbapi.com/?i=tt0259534&amp;h=600&amp;apik...</td>\n",
       "      <td>An anime adaptation of the Hindu epic the Rama...</td>\n",
       "      <td>anime adaptation hindu epic ramayana lord ram ...</td>\n",
       "      <td>ramayana legend prince rama</td>\n",
       "      <td>1</td>\n",
       "      <td>1</td>\n",
       "      <td>1</td>\n",
       "      <td>...</td>\n",
       "      <td>0</td>\n",
       "      <td>0</td>\n",
       "      <td>0</td>\n",
       "      <td>0</td>\n",
       "      <td>0</td>\n",
       "      <td>0</td>\n",
       "      <td>0</td>\n",
       "      <td>0</td>\n",
       "      <td>0</td>\n",
       "      <td>0</td>\n",
       "    </tr>\n",
       "    <tr>\n",
       "      <th>3</th>\n",
       "      <td>Spider-Man: Across the Spider-Verse</td>\n",
       "      <td>tt9362722</td>\n",
       "      <td>[Animation, Action, Adventure]</td>\n",
       "      <td>http://img.omdbapi.com/?i=tt9362722&amp;h=600&amp;apik...</td>\n",
       "      <td>Miles Morales catapults across the Multiverse,...</td>\n",
       "      <td>miles morales catapult across multiverse encou...</td>\n",
       "      <td>spiderman across spiderverse</td>\n",
       "      <td>1</td>\n",
       "      <td>1</td>\n",
       "      <td>1</td>\n",
       "      <td>...</td>\n",
       "      <td>0</td>\n",
       "      <td>0</td>\n",
       "      <td>0</td>\n",
       "      <td>0</td>\n",
       "      <td>0</td>\n",
       "      <td>0</td>\n",
       "      <td>0</td>\n",
       "      <td>0</td>\n",
       "      <td>0</td>\n",
       "      <td>0</td>\n",
       "    </tr>\n",
       "    <tr>\n",
       "      <th>5</th>\n",
       "      <td>Inception</td>\n",
       "      <td>tt1375666</td>\n",
       "      <td>[Action, Adventure, Sci-Fi]</td>\n",
       "      <td>http://img.omdbapi.com/?i=tt1375666&amp;h=600&amp;apik...</td>\n",
       "      <td>A thief who steals corporate secrets through t...</td>\n",
       "      <td>thief steal corporate secrets use dreamsharing...</td>\n",
       "      <td>inception</td>\n",
       "      <td>1</td>\n",
       "      <td>1</td>\n",
       "      <td>0</td>\n",
       "      <td>...</td>\n",
       "      <td>0</td>\n",
       "      <td>0</td>\n",
       "      <td>0</td>\n",
       "      <td>0</td>\n",
       "      <td>0</td>\n",
       "      <td>1</td>\n",
       "      <td>0</td>\n",
       "      <td>0</td>\n",
       "      <td>0</td>\n",
       "      <td>0</td>\n",
       "    </tr>\n",
       "    <tr>\n",
       "      <th>8</th>\n",
       "      <td>Kill Bill: The Whole Bloody Affair</td>\n",
       "      <td>tt6019206</td>\n",
       "      <td>[Action, Crime, Thriller]</td>\n",
       "      <td>http://img.omdbapi.com/?i=tt6019206&amp;h=600&amp;apik...</td>\n",
       "      <td>The Bride must kill her ex-boss and lover Bill...</td>\n",
       "      <td>bride must kill exboss lover bill betray wed r...</td>\n",
       "      <td>kill bill whole bloody affair</td>\n",
       "      <td>1</td>\n",
       "      <td>0</td>\n",
       "      <td>0</td>\n",
       "      <td>...</td>\n",
       "      <td>0</td>\n",
       "      <td>0</td>\n",
       "      <td>0</td>\n",
       "      <td>0</td>\n",
       "      <td>0</td>\n",
       "      <td>0</td>\n",
       "      <td>0</td>\n",
       "      <td>1</td>\n",
       "      <td>0</td>\n",
       "      <td>0</td>\n",
       "    </tr>\n",
       "    <tr>\n",
       "      <th>9</th>\n",
       "      <td>The Matrix</td>\n",
       "      <td>tt0133093</td>\n",
       "      <td>[Action, Sci-Fi]</td>\n",
       "      <td>http://img.omdbapi.com/?i=tt0133093&amp;h=600&amp;apik...</td>\n",
       "      <td>When a beautiful stranger leads computer hacke...</td>\n",
       "      <td>beautiful stranger lead computer hacker neo fo...</td>\n",
       "      <td>matrix</td>\n",
       "      <td>1</td>\n",
       "      <td>0</td>\n",
       "      <td>0</td>\n",
       "      <td>...</td>\n",
       "      <td>0</td>\n",
       "      <td>0</td>\n",
       "      <td>0</td>\n",
       "      <td>0</td>\n",
       "      <td>0</td>\n",
       "      <td>1</td>\n",
       "      <td>0</td>\n",
       "      <td>0</td>\n",
       "      <td>0</td>\n",
       "      <td>0</td>\n",
       "    </tr>\n",
       "  </tbody>\n",
       "</table>\n",
       "<p>5 rows × 28 columns</p>\n",
       "</div>"
      ],
      "text/plain": [
       "                                 movie    imdb_id  \\\n",
       "0  Ramayana: The Legend of Prince Rama  tt0259534   \n",
       "3  Spider-Man: Across the Spider-Verse  tt9362722   \n",
       "5                            Inception  tt1375666   \n",
       "8   Kill Bill: The Whole Bloody Affair  tt6019206   \n",
       "9                           The Matrix  tt0133093   \n",
       "\n",
       "                            genre  \\\n",
       "0  [Animation, Action, Adventure]   \n",
       "3  [Animation, Action, Adventure]   \n",
       "5     [Action, Adventure, Sci-Fi]   \n",
       "8       [Action, Crime, Thriller]   \n",
       "9                [Action, Sci-Fi]   \n",
       "\n",
       "                                           image_url  \\\n",
       "0  http://img.omdbapi.com/?i=tt0259534&h=600&apik...   \n",
       "3  http://img.omdbapi.com/?i=tt9362722&h=600&apik...   \n",
       "5  http://img.omdbapi.com/?i=tt1375666&h=600&apik...   \n",
       "8  http://img.omdbapi.com/?i=tt6019206&h=600&apik...   \n",
       "9  http://img.omdbapi.com/?i=tt0133093&h=600&apik...   \n",
       "\n",
       "                                            sypnosis  \\\n",
       "0  An anime adaptation of the Hindu epic the Rama...   \n",
       "3  Miles Morales catapults across the Multiverse,...   \n",
       "5  A thief who steals corporate secrets through t...   \n",
       "8  The Bride must kill her ex-boss and lover Bill...   \n",
       "9  When a beautiful stranger leads computer hacke...   \n",
       "\n",
       "                                      clean_sypnosis  \\\n",
       "0  anime adaptation hindu epic ramayana lord ram ...   \n",
       "3  miles morales catapult across multiverse encou...   \n",
       "5  thief steal corporate secrets use dreamsharing...   \n",
       "8  bride must kill exboss lover bill betray wed r...   \n",
       "9  beautiful stranger lead computer hacker neo fo...   \n",
       "\n",
       "                     clean_title  Action  Adventure  Animation  ...  Horror  \\\n",
       "0    ramayana legend prince rama       1          1          1  ...       0   \n",
       "3   spiderman across spiderverse       1          1          1  ...       0   \n",
       "5                      inception       1          1          0  ...       0   \n",
       "8  kill bill whole bloody affair       1          0          0  ...       0   \n",
       "9                         matrix       1          0          0  ...       0   \n",
       "\n",
       "   Music  Musical  Mystery  Romance  Sci-Fi  Sport  Thriller  War  Western  \n",
       "0      0        0        0        0       0      0         0    0        0  \n",
       "3      0        0        0        0       0      0         0    0        0  \n",
       "5      0        0        0        0       1      0         0    0        0  \n",
       "8      0        0        0        0       0      0         1    0        0  \n",
       "9      0        0        0        0       1      0         0    0        0  \n",
       "\n",
       "[5 rows x 28 columns]"
      ]
     },
     "execution_count": 36,
     "metadata": {},
     "output_type": "execute_result"
    }
   ],
   "source": [
    "test_df3.head(5)"
   ]
  },
  {
   "cell_type": "markdown",
   "id": "1abd43a6",
   "metadata": {},
   "source": [
    "## Split Data and Vectorize"
   ]
  },
  {
   "cell_type": "code",
   "execution_count": 37,
   "id": "ef7093ce",
   "metadata": {},
   "outputs": [],
   "source": [
    "X = test_df3[[\"clean_sypnosis\",\"clean_title\"]]\n",
    "y = test_df3.drop(columns=[\"movie\",\"imdb_id\",\"genre\",\"image_url\",\"sypnosis\",\"clean_sypnosis\",\"clean_title\"])"
   ]
  },
  {
   "cell_type": "code",
   "execution_count": 38,
   "id": "7fe12ade",
   "metadata": {},
   "outputs": [],
   "source": [
    "X_train, X_test, y_train, y_test = train_test_split(X, y, test_size=0.3)"
   ]
  },
  {
   "cell_type": "code",
   "execution_count": 39,
   "id": "e707a73e",
   "metadata": {},
   "outputs": [
    {
     "data": {
      "text/plain": [
       "(1504, 2)"
      ]
     },
     "execution_count": 39,
     "metadata": {},
     "output_type": "execute_result"
    }
   ],
   "source": [
    "X_train.shape"
   ]
  },
  {
   "cell_type": "code",
   "execution_count": 40,
   "id": "45437106",
   "metadata": {},
   "outputs": [
    {
     "data": {
      "text/html": [
       "<div>\n",
       "<style scoped>\n",
       "    .dataframe tbody tr th:only-of-type {\n",
       "        vertical-align: middle;\n",
       "    }\n",
       "\n",
       "    .dataframe tbody tr th {\n",
       "        vertical-align: top;\n",
       "    }\n",
       "\n",
       "    .dataframe thead th {\n",
       "        text-align: right;\n",
       "    }\n",
       "</style>\n",
       "<table border=\"1\" class=\"dataframe\">\n",
       "  <thead>\n",
       "    <tr style=\"text-align: right;\">\n",
       "      <th></th>\n",
       "      <th>clean_sypnosis</th>\n",
       "      <th>clean_title</th>\n",
       "    </tr>\n",
       "  </thead>\n",
       "  <tbody>\n",
       "    <tr>\n",
       "      <th>4127</th>\n",
       "      <td>near future family reckon question love connec...</td>\n",
       "      <td>yang</td>\n",
       "    </tr>\n",
       "    <tr>\n",
       "      <th>3235</th>\n",
       "      <td>disease turn humanity live dead last man earth...</td>\n",
       "      <td>last man earth</td>\n",
       "    </tr>\n",
       "    <tr>\n",
       "      <th>2277</th>\n",
       "      <td>lovers marianne jeanpaul spend vacation villa ...</td>\n",
       "      <td>la piscine</td>\n",
       "    </tr>\n",
       "    <tr>\n",
       "      <th>2773</th>\n",
       "      <td>lonely doctor occupy unusual lakeside house be...</td>\n",
       "      <td>lake house</td>\n",
       "    </tr>\n",
       "    <tr>\n",
       "      <th>2713</th>\n",
       "      <td>composer sister discover reason able purchase ...</td>\n",
       "      <td>uninvited</td>\n",
       "    </tr>\n",
       "  </tbody>\n",
       "</table>\n",
       "</div>"
      ],
      "text/plain": [
       "                                         clean_sypnosis     clean_title\n",
       "4127  near future family reckon question love connec...            yang\n",
       "3235  disease turn humanity live dead last man earth...  last man earth\n",
       "2277  lovers marianne jeanpaul spend vacation villa ...      la piscine\n",
       "2773  lonely doctor occupy unusual lakeside house be...      lake house\n",
       "2713  composer sister discover reason able purchase ...       uninvited"
      ]
     },
     "execution_count": 40,
     "metadata": {},
     "output_type": "execute_result"
    }
   ],
   "source": [
    "X_train.head(5)"
   ]
  },
  {
   "cell_type": "code",
   "execution_count": 41,
   "id": "045f86f1",
   "metadata": {},
   "outputs": [
    {
     "data": {
      "text/plain": [
       "(1504, 21)"
      ]
     },
     "execution_count": 41,
     "metadata": {},
     "output_type": "execute_result"
    }
   ],
   "source": [
    "y_train.shape "
   ]
  },
  {
   "cell_type": "code",
   "execution_count": 42,
   "id": "cac933c2",
   "metadata": {},
   "outputs": [
    {
     "data": {
      "text/html": [
       "<div>\n",
       "<style scoped>\n",
       "    .dataframe tbody tr th:only-of-type {\n",
       "        vertical-align: middle;\n",
       "    }\n",
       "\n",
       "    .dataframe tbody tr th {\n",
       "        vertical-align: top;\n",
       "    }\n",
       "\n",
       "    .dataframe thead th {\n",
       "        text-align: right;\n",
       "    }\n",
       "</style>\n",
       "<table border=\"1\" class=\"dataframe\">\n",
       "  <thead>\n",
       "    <tr style=\"text-align: right;\">\n",
       "      <th></th>\n",
       "      <th>Action</th>\n",
       "      <th>Adventure</th>\n",
       "      <th>Animation</th>\n",
       "      <th>Biography</th>\n",
       "      <th>Comedy</th>\n",
       "      <th>Crime</th>\n",
       "      <th>Drama</th>\n",
       "      <th>Family</th>\n",
       "      <th>Fantasy</th>\n",
       "      <th>Film-Noir</th>\n",
       "      <th>...</th>\n",
       "      <th>Horror</th>\n",
       "      <th>Music</th>\n",
       "      <th>Musical</th>\n",
       "      <th>Mystery</th>\n",
       "      <th>Romance</th>\n",
       "      <th>Sci-Fi</th>\n",
       "      <th>Sport</th>\n",
       "      <th>Thriller</th>\n",
       "      <th>War</th>\n",
       "      <th>Western</th>\n",
       "    </tr>\n",
       "  </thead>\n",
       "  <tbody>\n",
       "    <tr>\n",
       "      <th>4127</th>\n",
       "      <td>0</td>\n",
       "      <td>0</td>\n",
       "      <td>0</td>\n",
       "      <td>0</td>\n",
       "      <td>0</td>\n",
       "      <td>0</td>\n",
       "      <td>1</td>\n",
       "      <td>0</td>\n",
       "      <td>0</td>\n",
       "      <td>0</td>\n",
       "      <td>...</td>\n",
       "      <td>0</td>\n",
       "      <td>0</td>\n",
       "      <td>0</td>\n",
       "      <td>0</td>\n",
       "      <td>0</td>\n",
       "      <td>1</td>\n",
       "      <td>0</td>\n",
       "      <td>0</td>\n",
       "      <td>0</td>\n",
       "      <td>0</td>\n",
       "    </tr>\n",
       "    <tr>\n",
       "      <th>3235</th>\n",
       "      <td>0</td>\n",
       "      <td>0</td>\n",
       "      <td>0</td>\n",
       "      <td>0</td>\n",
       "      <td>0</td>\n",
       "      <td>0</td>\n",
       "      <td>1</td>\n",
       "      <td>0</td>\n",
       "      <td>0</td>\n",
       "      <td>0</td>\n",
       "      <td>...</td>\n",
       "      <td>1</td>\n",
       "      <td>0</td>\n",
       "      <td>0</td>\n",
       "      <td>0</td>\n",
       "      <td>0</td>\n",
       "      <td>1</td>\n",
       "      <td>0</td>\n",
       "      <td>0</td>\n",
       "      <td>0</td>\n",
       "      <td>0</td>\n",
       "    </tr>\n",
       "    <tr>\n",
       "      <th>2277</th>\n",
       "      <td>0</td>\n",
       "      <td>0</td>\n",
       "      <td>0</td>\n",
       "      <td>0</td>\n",
       "      <td>0</td>\n",
       "      <td>1</td>\n",
       "      <td>1</td>\n",
       "      <td>0</td>\n",
       "      <td>0</td>\n",
       "      <td>0</td>\n",
       "      <td>...</td>\n",
       "      <td>0</td>\n",
       "      <td>0</td>\n",
       "      <td>0</td>\n",
       "      <td>0</td>\n",
       "      <td>1</td>\n",
       "      <td>0</td>\n",
       "      <td>0</td>\n",
       "      <td>0</td>\n",
       "      <td>0</td>\n",
       "      <td>0</td>\n",
       "    </tr>\n",
       "    <tr>\n",
       "      <th>2773</th>\n",
       "      <td>0</td>\n",
       "      <td>0</td>\n",
       "      <td>0</td>\n",
       "      <td>0</td>\n",
       "      <td>0</td>\n",
       "      <td>0</td>\n",
       "      <td>1</td>\n",
       "      <td>0</td>\n",
       "      <td>1</td>\n",
       "      <td>0</td>\n",
       "      <td>...</td>\n",
       "      <td>0</td>\n",
       "      <td>0</td>\n",
       "      <td>0</td>\n",
       "      <td>0</td>\n",
       "      <td>1</td>\n",
       "      <td>0</td>\n",
       "      <td>0</td>\n",
       "      <td>0</td>\n",
       "      <td>0</td>\n",
       "      <td>0</td>\n",
       "    </tr>\n",
       "    <tr>\n",
       "      <th>2713</th>\n",
       "      <td>0</td>\n",
       "      <td>0</td>\n",
       "      <td>0</td>\n",
       "      <td>0</td>\n",
       "      <td>0</td>\n",
       "      <td>0</td>\n",
       "      <td>0</td>\n",
       "      <td>0</td>\n",
       "      <td>1</td>\n",
       "      <td>0</td>\n",
       "      <td>...</td>\n",
       "      <td>1</td>\n",
       "      <td>0</td>\n",
       "      <td>0</td>\n",
       "      <td>1</td>\n",
       "      <td>0</td>\n",
       "      <td>0</td>\n",
       "      <td>0</td>\n",
       "      <td>0</td>\n",
       "      <td>0</td>\n",
       "      <td>0</td>\n",
       "    </tr>\n",
       "  </tbody>\n",
       "</table>\n",
       "<p>5 rows × 21 columns</p>\n",
       "</div>"
      ],
      "text/plain": [
       "      Action  Adventure  Animation  Biography  Comedy  Crime  Drama  Family  \\\n",
       "4127       0          0          0          0       0      0      1       0   \n",
       "3235       0          0          0          0       0      0      1       0   \n",
       "2277       0          0          0          0       0      1      1       0   \n",
       "2773       0          0          0          0       0      0      1       0   \n",
       "2713       0          0          0          0       0      0      0       0   \n",
       "\n",
       "      Fantasy  Film-Noir  ...  Horror  Music  Musical  Mystery  Romance  \\\n",
       "4127        0          0  ...       0      0        0        0        0   \n",
       "3235        0          0  ...       1      0        0        0        0   \n",
       "2277        0          0  ...       0      0        0        0        1   \n",
       "2773        1          0  ...       0      0        0        0        1   \n",
       "2713        1          0  ...       1      0        0        1        0   \n",
       "\n",
       "      Sci-Fi  Sport  Thriller  War  Western  \n",
       "4127       1      0         0    0        0  \n",
       "3235       1      0         0    0        0  \n",
       "2277       0      0         0    0        0  \n",
       "2773       0      0         0    0        0  \n",
       "2713       0      0         0    0        0  \n",
       "\n",
       "[5 rows x 21 columns]"
      ]
     },
     "execution_count": 42,
     "metadata": {},
     "output_type": "execute_result"
    }
   ],
   "source": [
    "y_train.head(5)"
   ]
  },
  {
   "cell_type": "code",
   "execution_count": 43,
   "id": "45661bd7",
   "metadata": {},
   "outputs": [],
   "source": [
    "# Instantiating the TfidfVectorizer\n",
    "tf_idf_vectorizer = TfidfVectorizer(max_df=0.8, min_df=0.05, max_features=10000)\n",
    "tf_idf_title_vectorizer = TfidfVectorizer(min_df=10, max_features=10000)\n",
    "# tf_idf_vectorizer = TfidfVectorizer()\n",
    "\n",
    "# Training it on the texts\n",
    "X_train_plot_vec = pd.DataFrame(tf_idf_vectorizer.fit_transform(X_train[\"clean_sypnosis\"]).toarray(),\n",
    "                 columns = tf_idf_vectorizer.get_feature_names_out())\n",
    "X_train_title_vec = pd.DataFrame(tf_idf_title_vectorizer.fit_transform(X_train[\"clean_title\"]).toarray(),\n",
    "                 columns = tf_idf_title_vectorizer.get_feature_names_out())\n",
    "X_test_plot_vec =  pd.DataFrame(tf_idf_vectorizer.transform(X_test[\"clean_sypnosis\"]).toarray(),\n",
    "                 columns = tf_idf_vectorizer.get_feature_names_out())\n",
    "X_test_title_vec =  pd.DataFrame(tf_idf_title_vectorizer.transform(X_test[\"clean_title\"]).toarray(),\n",
    "                 columns = tf_idf_title_vectorizer.get_feature_names_out())\n"
   ]
  },
  {
   "cell_type": "code",
   "execution_count": 44,
   "id": "487c9775",
   "metadata": {},
   "outputs": [
    {
     "data": {
      "text/html": [
       "<div>\n",
       "<style scoped>\n",
       "    .dataframe tbody tr th:only-of-type {\n",
       "        vertical-align: middle;\n",
       "    }\n",
       "\n",
       "    .dataframe tbody tr th {\n",
       "        vertical-align: top;\n",
       "    }\n",
       "\n",
       "    .dataframe thead th {\n",
       "        text-align: right;\n",
       "    }\n",
       "</style>\n",
       "<table border=\"1\" class=\"dataframe\">\n",
       "  <thead>\n",
       "    <tr style=\"text-align: right;\">\n",
       "      <th></th>\n",
       "      <th>age</th>\n",
       "      <th>batman</th>\n",
       "      <th>black</th>\n",
       "      <th>dark</th>\n",
       "      <th>day</th>\n",
       "      <th>dead</th>\n",
       "      <th>dragon</th>\n",
       "      <th>evil</th>\n",
       "      <th>ii</th>\n",
       "      <th>last</th>\n",
       "      <th>...</th>\n",
       "      <th>man</th>\n",
       "      <th>movie</th>\n",
       "      <th>night</th>\n",
       "      <th>one</th>\n",
       "      <th>part</th>\n",
       "      <th>rise</th>\n",
       "      <th>star</th>\n",
       "      <th>time</th>\n",
       "      <th>war</th>\n",
       "      <th>world</th>\n",
       "    </tr>\n",
       "  </thead>\n",
       "  <tbody>\n",
       "    <tr>\n",
       "      <th>0</th>\n",
       "      <td>0.0</td>\n",
       "      <td>0.0</td>\n",
       "      <td>0.0</td>\n",
       "      <td>0.0</td>\n",
       "      <td>0.0</td>\n",
       "      <td>0.0</td>\n",
       "      <td>0.0</td>\n",
       "      <td>0.0</td>\n",
       "      <td>0.0</td>\n",
       "      <td>0.0</td>\n",
       "      <td>...</td>\n",
       "      <td>0.0</td>\n",
       "      <td>0.0</td>\n",
       "      <td>0.0</td>\n",
       "      <td>0.0</td>\n",
       "      <td>0.0</td>\n",
       "      <td>0.0</td>\n",
       "      <td>0.0</td>\n",
       "      <td>0.0</td>\n",
       "      <td>0.0</td>\n",
       "      <td>0.0</td>\n",
       "    </tr>\n",
       "    <tr>\n",
       "      <th>1</th>\n",
       "      <td>0.0</td>\n",
       "      <td>0.0</td>\n",
       "      <td>0.0</td>\n",
       "      <td>0.0</td>\n",
       "      <td>0.0</td>\n",
       "      <td>0.0</td>\n",
       "      <td>0.0</td>\n",
       "      <td>0.0</td>\n",
       "      <td>0.0</td>\n",
       "      <td>0.0</td>\n",
       "      <td>...</td>\n",
       "      <td>0.0</td>\n",
       "      <td>0.0</td>\n",
       "      <td>0.0</td>\n",
       "      <td>0.0</td>\n",
       "      <td>0.0</td>\n",
       "      <td>0.0</td>\n",
       "      <td>0.0</td>\n",
       "      <td>0.0</td>\n",
       "      <td>0.0</td>\n",
       "      <td>0.0</td>\n",
       "    </tr>\n",
       "    <tr>\n",
       "      <th>2</th>\n",
       "      <td>0.0</td>\n",
       "      <td>0.0</td>\n",
       "      <td>0.0</td>\n",
       "      <td>0.0</td>\n",
       "      <td>0.0</td>\n",
       "      <td>0.0</td>\n",
       "      <td>0.0</td>\n",
       "      <td>0.0</td>\n",
       "      <td>0.0</td>\n",
       "      <td>0.0</td>\n",
       "      <td>...</td>\n",
       "      <td>0.0</td>\n",
       "      <td>0.0</td>\n",
       "      <td>0.0</td>\n",
       "      <td>0.0</td>\n",
       "      <td>0.0</td>\n",
       "      <td>0.0</td>\n",
       "      <td>0.0</td>\n",
       "      <td>0.0</td>\n",
       "      <td>0.0</td>\n",
       "      <td>0.0</td>\n",
       "    </tr>\n",
       "    <tr>\n",
       "      <th>3</th>\n",
       "      <td>0.0</td>\n",
       "      <td>0.0</td>\n",
       "      <td>0.0</td>\n",
       "      <td>0.0</td>\n",
       "      <td>0.0</td>\n",
       "      <td>0.0</td>\n",
       "      <td>0.0</td>\n",
       "      <td>0.0</td>\n",
       "      <td>0.0</td>\n",
       "      <td>1.0</td>\n",
       "      <td>...</td>\n",
       "      <td>0.0</td>\n",
       "      <td>0.0</td>\n",
       "      <td>0.0</td>\n",
       "      <td>0.0</td>\n",
       "      <td>0.0</td>\n",
       "      <td>0.0</td>\n",
       "      <td>0.0</td>\n",
       "      <td>0.0</td>\n",
       "      <td>0.0</td>\n",
       "      <td>0.0</td>\n",
       "    </tr>\n",
       "    <tr>\n",
       "      <th>4</th>\n",
       "      <td>0.0</td>\n",
       "      <td>0.0</td>\n",
       "      <td>0.0</td>\n",
       "      <td>0.0</td>\n",
       "      <td>0.0</td>\n",
       "      <td>0.0</td>\n",
       "      <td>0.0</td>\n",
       "      <td>0.0</td>\n",
       "      <td>0.0</td>\n",
       "      <td>0.0</td>\n",
       "      <td>...</td>\n",
       "      <td>0.0</td>\n",
       "      <td>0.0</td>\n",
       "      <td>0.0</td>\n",
       "      <td>0.0</td>\n",
       "      <td>0.0</td>\n",
       "      <td>0.0</td>\n",
       "      <td>0.0</td>\n",
       "      <td>0.0</td>\n",
       "      <td>0.0</td>\n",
       "      <td>0.0</td>\n",
       "    </tr>\n",
       "    <tr>\n",
       "      <th>...</th>\n",
       "      <td>...</td>\n",
       "      <td>...</td>\n",
       "      <td>...</td>\n",
       "      <td>...</td>\n",
       "      <td>...</td>\n",
       "      <td>...</td>\n",
       "      <td>...</td>\n",
       "      <td>...</td>\n",
       "      <td>...</td>\n",
       "      <td>...</td>\n",
       "      <td>...</td>\n",
       "      <td>...</td>\n",
       "      <td>...</td>\n",
       "      <td>...</td>\n",
       "      <td>...</td>\n",
       "      <td>...</td>\n",
       "      <td>...</td>\n",
       "      <td>...</td>\n",
       "      <td>...</td>\n",
       "      <td>...</td>\n",
       "      <td>...</td>\n",
       "    </tr>\n",
       "    <tr>\n",
       "      <th>640</th>\n",
       "      <td>0.0</td>\n",
       "      <td>0.0</td>\n",
       "      <td>0.0</td>\n",
       "      <td>0.0</td>\n",
       "      <td>0.0</td>\n",
       "      <td>0.0</td>\n",
       "      <td>0.0</td>\n",
       "      <td>0.0</td>\n",
       "      <td>0.0</td>\n",
       "      <td>0.0</td>\n",
       "      <td>...</td>\n",
       "      <td>0.0</td>\n",
       "      <td>0.0</td>\n",
       "      <td>0.0</td>\n",
       "      <td>0.0</td>\n",
       "      <td>0.0</td>\n",
       "      <td>0.0</td>\n",
       "      <td>0.0</td>\n",
       "      <td>0.0</td>\n",
       "      <td>0.0</td>\n",
       "      <td>0.0</td>\n",
       "    </tr>\n",
       "    <tr>\n",
       "      <th>641</th>\n",
       "      <td>0.0</td>\n",
       "      <td>0.0</td>\n",
       "      <td>0.0</td>\n",
       "      <td>0.0</td>\n",
       "      <td>0.0</td>\n",
       "      <td>0.0</td>\n",
       "      <td>0.0</td>\n",
       "      <td>0.0</td>\n",
       "      <td>0.0</td>\n",
       "      <td>0.0</td>\n",
       "      <td>...</td>\n",
       "      <td>0.0</td>\n",
       "      <td>0.0</td>\n",
       "      <td>0.0</td>\n",
       "      <td>0.0</td>\n",
       "      <td>0.0</td>\n",
       "      <td>0.0</td>\n",
       "      <td>0.0</td>\n",
       "      <td>0.0</td>\n",
       "      <td>0.0</td>\n",
       "      <td>0.0</td>\n",
       "    </tr>\n",
       "    <tr>\n",
       "      <th>642</th>\n",
       "      <td>0.0</td>\n",
       "      <td>0.0</td>\n",
       "      <td>0.0</td>\n",
       "      <td>0.0</td>\n",
       "      <td>0.0</td>\n",
       "      <td>0.0</td>\n",
       "      <td>0.0</td>\n",
       "      <td>0.0</td>\n",
       "      <td>0.0</td>\n",
       "      <td>0.0</td>\n",
       "      <td>...</td>\n",
       "      <td>0.0</td>\n",
       "      <td>0.0</td>\n",
       "      <td>0.0</td>\n",
       "      <td>0.0</td>\n",
       "      <td>0.0</td>\n",
       "      <td>0.0</td>\n",
       "      <td>0.0</td>\n",
       "      <td>0.0</td>\n",
       "      <td>0.0</td>\n",
       "      <td>0.0</td>\n",
       "    </tr>\n",
       "    <tr>\n",
       "      <th>643</th>\n",
       "      <td>0.0</td>\n",
       "      <td>0.0</td>\n",
       "      <td>0.0</td>\n",
       "      <td>0.0</td>\n",
       "      <td>0.0</td>\n",
       "      <td>0.0</td>\n",
       "      <td>0.0</td>\n",
       "      <td>0.0</td>\n",
       "      <td>0.0</td>\n",
       "      <td>0.0</td>\n",
       "      <td>...</td>\n",
       "      <td>0.0</td>\n",
       "      <td>0.0</td>\n",
       "      <td>1.0</td>\n",
       "      <td>0.0</td>\n",
       "      <td>0.0</td>\n",
       "      <td>0.0</td>\n",
       "      <td>0.0</td>\n",
       "      <td>0.0</td>\n",
       "      <td>0.0</td>\n",
       "      <td>0.0</td>\n",
       "    </tr>\n",
       "    <tr>\n",
       "      <th>644</th>\n",
       "      <td>0.0</td>\n",
       "      <td>0.0</td>\n",
       "      <td>0.0</td>\n",
       "      <td>0.0</td>\n",
       "      <td>0.0</td>\n",
       "      <td>0.0</td>\n",
       "      <td>0.0</td>\n",
       "      <td>0.0</td>\n",
       "      <td>0.0</td>\n",
       "      <td>0.0</td>\n",
       "      <td>...</td>\n",
       "      <td>0.0</td>\n",
       "      <td>0.0</td>\n",
       "      <td>0.0</td>\n",
       "      <td>0.0</td>\n",
       "      <td>0.0</td>\n",
       "      <td>0.0</td>\n",
       "      <td>0.0</td>\n",
       "      <td>0.0</td>\n",
       "      <td>0.0</td>\n",
       "      <td>0.0</td>\n",
       "    </tr>\n",
       "  </tbody>\n",
       "</table>\n",
       "<p>645 rows × 21 columns</p>\n",
       "</div>"
      ],
      "text/plain": [
       "     age  batman  black  dark  day  dead  dragon  evil   ii  last  ...  man  \\\n",
       "0    0.0     0.0    0.0   0.0  0.0   0.0     0.0   0.0  0.0   0.0  ...  0.0   \n",
       "1    0.0     0.0    0.0   0.0  0.0   0.0     0.0   0.0  0.0   0.0  ...  0.0   \n",
       "2    0.0     0.0    0.0   0.0  0.0   0.0     0.0   0.0  0.0   0.0  ...  0.0   \n",
       "3    0.0     0.0    0.0   0.0  0.0   0.0     0.0   0.0  0.0   1.0  ...  0.0   \n",
       "4    0.0     0.0    0.0   0.0  0.0   0.0     0.0   0.0  0.0   0.0  ...  0.0   \n",
       "..   ...     ...    ...   ...  ...   ...     ...   ...  ...   ...  ...  ...   \n",
       "640  0.0     0.0    0.0   0.0  0.0   0.0     0.0   0.0  0.0   0.0  ...  0.0   \n",
       "641  0.0     0.0    0.0   0.0  0.0   0.0     0.0   0.0  0.0   0.0  ...  0.0   \n",
       "642  0.0     0.0    0.0   0.0  0.0   0.0     0.0   0.0  0.0   0.0  ...  0.0   \n",
       "643  0.0     0.0    0.0   0.0  0.0   0.0     0.0   0.0  0.0   0.0  ...  0.0   \n",
       "644  0.0     0.0    0.0   0.0  0.0   0.0     0.0   0.0  0.0   0.0  ...  0.0   \n",
       "\n",
       "     movie  night  one  part  rise  star  time  war  world  \n",
       "0      0.0    0.0  0.0   0.0   0.0   0.0   0.0  0.0    0.0  \n",
       "1      0.0    0.0  0.0   0.0   0.0   0.0   0.0  0.0    0.0  \n",
       "2      0.0    0.0  0.0   0.0   0.0   0.0   0.0  0.0    0.0  \n",
       "3      0.0    0.0  0.0   0.0   0.0   0.0   0.0  0.0    0.0  \n",
       "4      0.0    0.0  0.0   0.0   0.0   0.0   0.0  0.0    0.0  \n",
       "..     ...    ...  ...   ...   ...   ...   ...  ...    ...  \n",
       "640    0.0    0.0  0.0   0.0   0.0   0.0   0.0  0.0    0.0  \n",
       "641    0.0    0.0  0.0   0.0   0.0   0.0   0.0  0.0    0.0  \n",
       "642    0.0    0.0  0.0   0.0   0.0   0.0   0.0  0.0    0.0  \n",
       "643    0.0    1.0  0.0   0.0   0.0   0.0   0.0  0.0    0.0  \n",
       "644    0.0    0.0  0.0   0.0   0.0   0.0   0.0  0.0    0.0  \n",
       "\n",
       "[645 rows x 21 columns]"
      ]
     },
     "execution_count": 44,
     "metadata": {},
     "output_type": "execute_result"
    }
   ],
   "source": [
    "X_test_title_vec"
   ]
  },
  {
   "cell_type": "code",
   "execution_count": 45,
   "id": "d097a234",
   "metadata": {},
   "outputs": [],
   "source": [
    "X_train_vec = pd.concat([X_train_plot_vec,X_train_title_vec], axis=1)"
   ]
  },
  {
   "cell_type": "code",
   "execution_count": 46,
   "id": "9964b106",
   "metadata": {},
   "outputs": [
    {
     "data": {
      "text/html": [
       "<div>\n",
       "<style scoped>\n",
       "    .dataframe tbody tr th:only-of-type {\n",
       "        vertical-align: middle;\n",
       "    }\n",
       "\n",
       "    .dataframe tbody tr th {\n",
       "        vertical-align: top;\n",
       "    }\n",
       "\n",
       "    .dataframe thead th {\n",
       "        text-align: right;\n",
       "    }\n",
       "</style>\n",
       "<table border=\"1\" class=\"dataframe\">\n",
       "  <thead>\n",
       "    <tr style=\"text-align: right;\">\n",
       "      <th></th>\n",
       "      <th>abandon</th>\n",
       "      <th>abduct</th>\n",
       "      <th>abilities</th>\n",
       "      <th>ability</th>\n",
       "      <th>able</th>\n",
       "      <th>aboard</th>\n",
       "      <th>abuse</th>\n",
       "      <th>accept</th>\n",
       "      <th>access</th>\n",
       "      <th>accident</th>\n",
       "      <th>...</th>\n",
       "      <th>man</th>\n",
       "      <th>movie</th>\n",
       "      <th>night</th>\n",
       "      <th>one</th>\n",
       "      <th>part</th>\n",
       "      <th>rise</th>\n",
       "      <th>star</th>\n",
       "      <th>time</th>\n",
       "      <th>war</th>\n",
       "      <th>world</th>\n",
       "    </tr>\n",
       "  </thead>\n",
       "  <tbody>\n",
       "    <tr>\n",
       "      <th>0</th>\n",
       "      <td>0.000000</td>\n",
       "      <td>0.0</td>\n",
       "      <td>0.0</td>\n",
       "      <td>0.0</td>\n",
       "      <td>0.000000</td>\n",
       "      <td>0.000000</td>\n",
       "      <td>0.0</td>\n",
       "      <td>0.000000</td>\n",
       "      <td>0.0</td>\n",
       "      <td>0.000000</td>\n",
       "      <td>...</td>\n",
       "      <td>0.000000</td>\n",
       "      <td>0.0</td>\n",
       "      <td>0.0</td>\n",
       "      <td>0.0</td>\n",
       "      <td>0.0</td>\n",
       "      <td>0.0</td>\n",
       "      <td>0.0</td>\n",
       "      <td>0.0</td>\n",
       "      <td>0.0</td>\n",
       "      <td>0.0</td>\n",
       "    </tr>\n",
       "    <tr>\n",
       "      <th>1</th>\n",
       "      <td>0.041754</td>\n",
       "      <td>0.0</td>\n",
       "      <td>0.0</td>\n",
       "      <td>0.0</td>\n",
       "      <td>0.031746</td>\n",
       "      <td>0.000000</td>\n",
       "      <td>0.0</td>\n",
       "      <td>0.000000</td>\n",
       "      <td>0.0</td>\n",
       "      <td>0.000000</td>\n",
       "      <td>...</td>\n",
       "      <td>0.642567</td>\n",
       "      <td>0.0</td>\n",
       "      <td>0.0</td>\n",
       "      <td>0.0</td>\n",
       "      <td>0.0</td>\n",
       "      <td>0.0</td>\n",
       "      <td>0.0</td>\n",
       "      <td>0.0</td>\n",
       "      <td>0.0</td>\n",
       "      <td>0.0</td>\n",
       "    </tr>\n",
       "    <tr>\n",
       "      <th>2</th>\n",
       "      <td>0.000000</td>\n",
       "      <td>0.0</td>\n",
       "      <td>0.0</td>\n",
       "      <td>0.0</td>\n",
       "      <td>0.000000</td>\n",
       "      <td>0.000000</td>\n",
       "      <td>0.0</td>\n",
       "      <td>0.000000</td>\n",
       "      <td>0.0</td>\n",
       "      <td>0.073802</td>\n",
       "      <td>...</td>\n",
       "      <td>0.000000</td>\n",
       "      <td>0.0</td>\n",
       "      <td>0.0</td>\n",
       "      <td>0.0</td>\n",
       "      <td>0.0</td>\n",
       "      <td>0.0</td>\n",
       "      <td>0.0</td>\n",
       "      <td>0.0</td>\n",
       "      <td>0.0</td>\n",
       "      <td>0.0</td>\n",
       "    </tr>\n",
       "    <tr>\n",
       "      <th>3</th>\n",
       "      <td>0.000000</td>\n",
       "      <td>0.0</td>\n",
       "      <td>0.0</td>\n",
       "      <td>0.0</td>\n",
       "      <td>0.034398</td>\n",
       "      <td>0.000000</td>\n",
       "      <td>0.0</td>\n",
       "      <td>0.000000</td>\n",
       "      <td>0.0</td>\n",
       "      <td>0.000000</td>\n",
       "      <td>...</td>\n",
       "      <td>0.000000</td>\n",
       "      <td>0.0</td>\n",
       "      <td>0.0</td>\n",
       "      <td>0.0</td>\n",
       "      <td>0.0</td>\n",
       "      <td>0.0</td>\n",
       "      <td>0.0</td>\n",
       "      <td>0.0</td>\n",
       "      <td>0.0</td>\n",
       "      <td>0.0</td>\n",
       "    </tr>\n",
       "    <tr>\n",
       "      <th>4</th>\n",
       "      <td>0.028930</td>\n",
       "      <td>0.0</td>\n",
       "      <td>0.0</td>\n",
       "      <td>0.0</td>\n",
       "      <td>0.021995</td>\n",
       "      <td>0.000000</td>\n",
       "      <td>0.0</td>\n",
       "      <td>0.027088</td>\n",
       "      <td>0.0</td>\n",
       "      <td>0.000000</td>\n",
       "      <td>...</td>\n",
       "      <td>0.000000</td>\n",
       "      <td>0.0</td>\n",
       "      <td>0.0</td>\n",
       "      <td>0.0</td>\n",
       "      <td>0.0</td>\n",
       "      <td>0.0</td>\n",
       "      <td>0.0</td>\n",
       "      <td>0.0</td>\n",
       "      <td>0.0</td>\n",
       "      <td>0.0</td>\n",
       "    </tr>\n",
       "    <tr>\n",
       "      <th>...</th>\n",
       "      <td>...</td>\n",
       "      <td>...</td>\n",
       "      <td>...</td>\n",
       "      <td>...</td>\n",
       "      <td>...</td>\n",
       "      <td>...</td>\n",
       "      <td>...</td>\n",
       "      <td>...</td>\n",
       "      <td>...</td>\n",
       "      <td>...</td>\n",
       "      <td>...</td>\n",
       "      <td>...</td>\n",
       "      <td>...</td>\n",
       "      <td>...</td>\n",
       "      <td>...</td>\n",
       "      <td>...</td>\n",
       "      <td>...</td>\n",
       "      <td>...</td>\n",
       "      <td>...</td>\n",
       "      <td>...</td>\n",
       "      <td>...</td>\n",
       "    </tr>\n",
       "    <tr>\n",
       "      <th>1499</th>\n",
       "      <td>0.000000</td>\n",
       "      <td>0.0</td>\n",
       "      <td>0.0</td>\n",
       "      <td>0.0</td>\n",
       "      <td>0.000000</td>\n",
       "      <td>0.052872</td>\n",
       "      <td>0.0</td>\n",
       "      <td>0.000000</td>\n",
       "      <td>0.0</td>\n",
       "      <td>0.000000</td>\n",
       "      <td>...</td>\n",
       "      <td>0.000000</td>\n",
       "      <td>0.0</td>\n",
       "      <td>0.0</td>\n",
       "      <td>0.0</td>\n",
       "      <td>0.0</td>\n",
       "      <td>0.0</td>\n",
       "      <td>0.0</td>\n",
       "      <td>0.0</td>\n",
       "      <td>0.0</td>\n",
       "      <td>0.0</td>\n",
       "    </tr>\n",
       "    <tr>\n",
       "      <th>1500</th>\n",
       "      <td>0.000000</td>\n",
       "      <td>0.0</td>\n",
       "      <td>0.0</td>\n",
       "      <td>0.0</td>\n",
       "      <td>0.000000</td>\n",
       "      <td>0.000000</td>\n",
       "      <td>0.0</td>\n",
       "      <td>0.000000</td>\n",
       "      <td>0.0</td>\n",
       "      <td>0.000000</td>\n",
       "      <td>...</td>\n",
       "      <td>0.000000</td>\n",
       "      <td>0.0</td>\n",
       "      <td>0.0</td>\n",
       "      <td>0.0</td>\n",
       "      <td>0.0</td>\n",
       "      <td>0.0</td>\n",
       "      <td>0.0</td>\n",
       "      <td>0.0</td>\n",
       "      <td>0.0</td>\n",
       "      <td>0.0</td>\n",
       "    </tr>\n",
       "    <tr>\n",
       "      <th>1501</th>\n",
       "      <td>0.000000</td>\n",
       "      <td>0.0</td>\n",
       "      <td>0.0</td>\n",
       "      <td>0.0</td>\n",
       "      <td>0.000000</td>\n",
       "      <td>0.000000</td>\n",
       "      <td>0.0</td>\n",
       "      <td>0.000000</td>\n",
       "      <td>0.0</td>\n",
       "      <td>0.000000</td>\n",
       "      <td>...</td>\n",
       "      <td>0.000000</td>\n",
       "      <td>0.0</td>\n",
       "      <td>0.0</td>\n",
       "      <td>0.0</td>\n",
       "      <td>0.0</td>\n",
       "      <td>0.0</td>\n",
       "      <td>0.0</td>\n",
       "      <td>0.0</td>\n",
       "      <td>0.0</td>\n",
       "      <td>0.0</td>\n",
       "    </tr>\n",
       "    <tr>\n",
       "      <th>1502</th>\n",
       "      <td>0.000000</td>\n",
       "      <td>0.0</td>\n",
       "      <td>0.0</td>\n",
       "      <td>0.0</td>\n",
       "      <td>0.000000</td>\n",
       "      <td>0.045063</td>\n",
       "      <td>0.0</td>\n",
       "      <td>0.000000</td>\n",
       "      <td>0.0</td>\n",
       "      <td>0.000000</td>\n",
       "      <td>...</td>\n",
       "      <td>0.000000</td>\n",
       "      <td>0.0</td>\n",
       "      <td>0.0</td>\n",
       "      <td>0.0</td>\n",
       "      <td>0.0</td>\n",
       "      <td>0.0</td>\n",
       "      <td>0.0</td>\n",
       "      <td>0.0</td>\n",
       "      <td>0.0</td>\n",
       "      <td>0.0</td>\n",
       "    </tr>\n",
       "    <tr>\n",
       "      <th>1503</th>\n",
       "      <td>0.000000</td>\n",
       "      <td>0.0</td>\n",
       "      <td>0.0</td>\n",
       "      <td>0.0</td>\n",
       "      <td>0.000000</td>\n",
       "      <td>0.000000</td>\n",
       "      <td>0.0</td>\n",
       "      <td>0.045410</td>\n",
       "      <td>0.0</td>\n",
       "      <td>0.000000</td>\n",
       "      <td>...</td>\n",
       "      <td>0.000000</td>\n",
       "      <td>0.0</td>\n",
       "      <td>0.0</td>\n",
       "      <td>0.0</td>\n",
       "      <td>0.0</td>\n",
       "      <td>0.0</td>\n",
       "      <td>0.0</td>\n",
       "      <td>0.0</td>\n",
       "      <td>0.0</td>\n",
       "      <td>0.0</td>\n",
       "    </tr>\n",
       "  </tbody>\n",
       "</table>\n",
       "<p>1504 rows × 1673 columns</p>\n",
       "</div>"
      ],
      "text/plain": [
       "       abandon  abduct  abilities  ability      able    aboard  abuse  \\\n",
       "0     0.000000     0.0        0.0      0.0  0.000000  0.000000    0.0   \n",
       "1     0.041754     0.0        0.0      0.0  0.031746  0.000000    0.0   \n",
       "2     0.000000     0.0        0.0      0.0  0.000000  0.000000    0.0   \n",
       "3     0.000000     0.0        0.0      0.0  0.034398  0.000000    0.0   \n",
       "4     0.028930     0.0        0.0      0.0  0.021995  0.000000    0.0   \n",
       "...        ...     ...        ...      ...       ...       ...    ...   \n",
       "1499  0.000000     0.0        0.0      0.0  0.000000  0.052872    0.0   \n",
       "1500  0.000000     0.0        0.0      0.0  0.000000  0.000000    0.0   \n",
       "1501  0.000000     0.0        0.0      0.0  0.000000  0.000000    0.0   \n",
       "1502  0.000000     0.0        0.0      0.0  0.000000  0.045063    0.0   \n",
       "1503  0.000000     0.0        0.0      0.0  0.000000  0.000000    0.0   \n",
       "\n",
       "        accept  access  accident  ...       man  movie  night  one  part  \\\n",
       "0     0.000000     0.0  0.000000  ...  0.000000    0.0    0.0  0.0   0.0   \n",
       "1     0.000000     0.0  0.000000  ...  0.642567    0.0    0.0  0.0   0.0   \n",
       "2     0.000000     0.0  0.073802  ...  0.000000    0.0    0.0  0.0   0.0   \n",
       "3     0.000000     0.0  0.000000  ...  0.000000    0.0    0.0  0.0   0.0   \n",
       "4     0.027088     0.0  0.000000  ...  0.000000    0.0    0.0  0.0   0.0   \n",
       "...        ...     ...       ...  ...       ...    ...    ...  ...   ...   \n",
       "1499  0.000000     0.0  0.000000  ...  0.000000    0.0    0.0  0.0   0.0   \n",
       "1500  0.000000     0.0  0.000000  ...  0.000000    0.0    0.0  0.0   0.0   \n",
       "1501  0.000000     0.0  0.000000  ...  0.000000    0.0    0.0  0.0   0.0   \n",
       "1502  0.000000     0.0  0.000000  ...  0.000000    0.0    0.0  0.0   0.0   \n",
       "1503  0.045410     0.0  0.000000  ...  0.000000    0.0    0.0  0.0   0.0   \n",
       "\n",
       "      rise  star  time  war  world  \n",
       "0      0.0   0.0   0.0  0.0    0.0  \n",
       "1      0.0   0.0   0.0  0.0    0.0  \n",
       "2      0.0   0.0   0.0  0.0    0.0  \n",
       "3      0.0   0.0   0.0  0.0    0.0  \n",
       "4      0.0   0.0   0.0  0.0    0.0  \n",
       "...    ...   ...   ...  ...    ...  \n",
       "1499   0.0   0.0   0.0  0.0    0.0  \n",
       "1500   0.0   0.0   0.0  0.0    0.0  \n",
       "1501   0.0   0.0   0.0  0.0    0.0  \n",
       "1502   0.0   0.0   0.0  0.0    0.0  \n",
       "1503   0.0   0.0   0.0  0.0    0.0  \n",
       "\n",
       "[1504 rows x 1673 columns]"
      ]
     },
     "execution_count": 46,
     "metadata": {},
     "output_type": "execute_result"
    }
   ],
   "source": [
    "X_train_vec"
   ]
  },
  {
   "cell_type": "code",
   "execution_count": 47,
   "id": "2b766bb5",
   "metadata": {},
   "outputs": [
    {
     "data": {
      "text/plain": [
       "(1504, 1673)"
      ]
     },
     "execution_count": 47,
     "metadata": {},
     "output_type": "execute_result"
    }
   ],
   "source": [
    "X_train_vec.shape"
   ]
  },
  {
   "cell_type": "code",
   "execution_count": 48,
   "id": "2f552fc1",
   "metadata": {},
   "outputs": [],
   "source": [
    "X_test_vec = pd.concat([X_test_plot_vec,X_test_title_vec], axis=1)"
   ]
  },
  {
   "cell_type": "code",
   "execution_count": 49,
   "id": "4d01cfdb",
   "metadata": {},
   "outputs": [
    {
     "data": {
      "text/html": [
       "<div>\n",
       "<style scoped>\n",
       "    .dataframe tbody tr th:only-of-type {\n",
       "        vertical-align: middle;\n",
       "    }\n",
       "\n",
       "    .dataframe tbody tr th {\n",
       "        vertical-align: top;\n",
       "    }\n",
       "\n",
       "    .dataframe thead th {\n",
       "        text-align: right;\n",
       "    }\n",
       "</style>\n",
       "<table border=\"1\" class=\"dataframe\">\n",
       "  <thead>\n",
       "    <tr style=\"text-align: right;\">\n",
       "      <th></th>\n",
       "      <th>abandon</th>\n",
       "      <th>abduct</th>\n",
       "      <th>abilities</th>\n",
       "      <th>ability</th>\n",
       "      <th>able</th>\n",
       "      <th>aboard</th>\n",
       "      <th>abuse</th>\n",
       "      <th>accept</th>\n",
       "      <th>access</th>\n",
       "      <th>accident</th>\n",
       "      <th>...</th>\n",
       "      <th>man</th>\n",
       "      <th>movie</th>\n",
       "      <th>night</th>\n",
       "      <th>one</th>\n",
       "      <th>part</th>\n",
       "      <th>rise</th>\n",
       "      <th>star</th>\n",
       "      <th>time</th>\n",
       "      <th>war</th>\n",
       "      <th>world</th>\n",
       "    </tr>\n",
       "  </thead>\n",
       "  <tbody>\n",
       "    <tr>\n",
       "      <th>0</th>\n",
       "      <td>0.000000</td>\n",
       "      <td>0.0</td>\n",
       "      <td>0.0</td>\n",
       "      <td>0.0</td>\n",
       "      <td>0.000000</td>\n",
       "      <td>0.0</td>\n",
       "      <td>0.0</td>\n",
       "      <td>0.000000</td>\n",
       "      <td>0.0</td>\n",
       "      <td>0.000000</td>\n",
       "      <td>...</td>\n",
       "      <td>0.000000</td>\n",
       "      <td>0.0</td>\n",
       "      <td>0.0</td>\n",
       "      <td>0.0</td>\n",
       "      <td>0.0</td>\n",
       "      <td>0.0</td>\n",
       "      <td>0.0</td>\n",
       "      <td>0.0</td>\n",
       "      <td>0.0</td>\n",
       "      <td>0.0</td>\n",
       "    </tr>\n",
       "    <tr>\n",
       "      <th>1</th>\n",
       "      <td>0.041754</td>\n",
       "      <td>0.0</td>\n",
       "      <td>0.0</td>\n",
       "      <td>0.0</td>\n",
       "      <td>0.031746</td>\n",
       "      <td>0.0</td>\n",
       "      <td>0.0</td>\n",
       "      <td>0.000000</td>\n",
       "      <td>0.0</td>\n",
       "      <td>0.000000</td>\n",
       "      <td>...</td>\n",
       "      <td>0.642567</td>\n",
       "      <td>0.0</td>\n",
       "      <td>0.0</td>\n",
       "      <td>0.0</td>\n",
       "      <td>0.0</td>\n",
       "      <td>0.0</td>\n",
       "      <td>0.0</td>\n",
       "      <td>0.0</td>\n",
       "      <td>0.0</td>\n",
       "      <td>0.0</td>\n",
       "    </tr>\n",
       "    <tr>\n",
       "      <th>2</th>\n",
       "      <td>0.000000</td>\n",
       "      <td>0.0</td>\n",
       "      <td>0.0</td>\n",
       "      <td>0.0</td>\n",
       "      <td>0.000000</td>\n",
       "      <td>0.0</td>\n",
       "      <td>0.0</td>\n",
       "      <td>0.000000</td>\n",
       "      <td>0.0</td>\n",
       "      <td>0.073802</td>\n",
       "      <td>...</td>\n",
       "      <td>0.000000</td>\n",
       "      <td>0.0</td>\n",
       "      <td>0.0</td>\n",
       "      <td>0.0</td>\n",
       "      <td>0.0</td>\n",
       "      <td>0.0</td>\n",
       "      <td>0.0</td>\n",
       "      <td>0.0</td>\n",
       "      <td>0.0</td>\n",
       "      <td>0.0</td>\n",
       "    </tr>\n",
       "    <tr>\n",
       "      <th>3</th>\n",
       "      <td>0.000000</td>\n",
       "      <td>0.0</td>\n",
       "      <td>0.0</td>\n",
       "      <td>0.0</td>\n",
       "      <td>0.034398</td>\n",
       "      <td>0.0</td>\n",
       "      <td>0.0</td>\n",
       "      <td>0.000000</td>\n",
       "      <td>0.0</td>\n",
       "      <td>0.000000</td>\n",
       "      <td>...</td>\n",
       "      <td>0.000000</td>\n",
       "      <td>0.0</td>\n",
       "      <td>0.0</td>\n",
       "      <td>0.0</td>\n",
       "      <td>0.0</td>\n",
       "      <td>0.0</td>\n",
       "      <td>0.0</td>\n",
       "      <td>0.0</td>\n",
       "      <td>0.0</td>\n",
       "      <td>0.0</td>\n",
       "    </tr>\n",
       "    <tr>\n",
       "      <th>4</th>\n",
       "      <td>0.028930</td>\n",
       "      <td>0.0</td>\n",
       "      <td>0.0</td>\n",
       "      <td>0.0</td>\n",
       "      <td>0.021995</td>\n",
       "      <td>0.0</td>\n",
       "      <td>0.0</td>\n",
       "      <td>0.027088</td>\n",
       "      <td>0.0</td>\n",
       "      <td>0.000000</td>\n",
       "      <td>...</td>\n",
       "      <td>0.000000</td>\n",
       "      <td>0.0</td>\n",
       "      <td>0.0</td>\n",
       "      <td>0.0</td>\n",
       "      <td>0.0</td>\n",
       "      <td>0.0</td>\n",
       "      <td>0.0</td>\n",
       "      <td>0.0</td>\n",
       "      <td>0.0</td>\n",
       "      <td>0.0</td>\n",
       "    </tr>\n",
       "  </tbody>\n",
       "</table>\n",
       "<p>5 rows × 1673 columns</p>\n",
       "</div>"
      ],
      "text/plain": [
       "    abandon  abduct  abilities  ability      able  aboard  abuse    accept  \\\n",
       "0  0.000000     0.0        0.0      0.0  0.000000     0.0    0.0  0.000000   \n",
       "1  0.041754     0.0        0.0      0.0  0.031746     0.0    0.0  0.000000   \n",
       "2  0.000000     0.0        0.0      0.0  0.000000     0.0    0.0  0.000000   \n",
       "3  0.000000     0.0        0.0      0.0  0.034398     0.0    0.0  0.000000   \n",
       "4  0.028930     0.0        0.0      0.0  0.021995     0.0    0.0  0.027088   \n",
       "\n",
       "   access  accident  ...       man  movie  night  one  part  rise  star  time  \\\n",
       "0     0.0  0.000000  ...  0.000000    0.0    0.0  0.0   0.0   0.0   0.0   0.0   \n",
       "1     0.0  0.000000  ...  0.642567    0.0    0.0  0.0   0.0   0.0   0.0   0.0   \n",
       "2     0.0  0.073802  ...  0.000000    0.0    0.0  0.0   0.0   0.0   0.0   0.0   \n",
       "3     0.0  0.000000  ...  0.000000    0.0    0.0  0.0   0.0   0.0   0.0   0.0   \n",
       "4     0.0  0.000000  ...  0.000000    0.0    0.0  0.0   0.0   0.0   0.0   0.0   \n",
       "\n",
       "   war  world  \n",
       "0  0.0    0.0  \n",
       "1  0.0    0.0  \n",
       "2  0.0    0.0  \n",
       "3  0.0    0.0  \n",
       "4  0.0    0.0  \n",
       "\n",
       "[5 rows x 1673 columns]"
      ]
     },
     "execution_count": 49,
     "metadata": {},
     "output_type": "execute_result"
    }
   ],
   "source": [
    "X_train_vec.head(5)"
   ]
  },
  {
   "cell_type": "code",
   "execution_count": 50,
   "id": "bfb33a0d",
   "metadata": {},
   "outputs": [
    {
     "data": {
      "text/plain": [
       "(645, 1673)"
      ]
     },
     "execution_count": 50,
     "metadata": {},
     "output_type": "execute_result"
    }
   ],
   "source": [
    "X_test_vec.shape"
   ]
  },
  {
   "cell_type": "code",
   "execution_count": 51,
   "id": "8f164be9",
   "metadata": {},
   "outputs": [],
   "source": [
    "from sklearn.linear_model import LogisticRegression\n",
    "from sklearn.multiclass import OneVsRestClassifier\n",
    "from sklearn.metrics import f1_score, accuracy_score"
   ]
  },
  {
   "cell_type": "markdown",
   "id": "9ec0c451",
   "metadata": {},
   "source": [
    "## OneVsRest logistic regression"
   ]
  },
  {
   "cell_type": "markdown",
   "id": "43002255",
   "metadata": {},
   "source": [
    "### Simple OneVsRest logistic regression"
   ]
  },
  {
   "cell_type": "code",
   "execution_count": 52,
   "id": "46ae2a71",
   "metadata": {},
   "outputs": [
    {
     "name": "stderr",
     "output_type": "stream",
     "text": [
      "/home/yinghui/.pyenv/versions/3.10.6/envs/lewagon/lib/python3.10/site-packages/sklearn/multiclass.py:77: UserWarning: Label not 3 is present in all training examples.\n",
      "  warnings.warn(\n",
      "/home/yinghui/.pyenv/versions/3.10.6/envs/lewagon/lib/python3.10/site-packages/sklearn/multiclass.py:77: UserWarning: Label not 7 is present in all training examples.\n",
      "  warnings.warn(\n",
      "/home/yinghui/.pyenv/versions/3.10.6/envs/lewagon/lib/python3.10/site-packages/sklearn/multiclass.py:77: UserWarning: Label not 9 is present in all training examples.\n",
      "  warnings.warn(\n",
      "/home/yinghui/.pyenv/versions/3.10.6/envs/lewagon/lib/python3.10/site-packages/sklearn/multiclass.py:77: UserWarning: Label not 10 is present in all training examples.\n",
      "  warnings.warn(\n",
      "/home/yinghui/.pyenv/versions/3.10.6/envs/lewagon/lib/python3.10/site-packages/sklearn/multiclass.py:77: UserWarning: Label not 12 is present in all training examples.\n",
      "  warnings.warn(\n",
      "/home/yinghui/.pyenv/versions/3.10.6/envs/lewagon/lib/python3.10/site-packages/sklearn/multiclass.py:77: UserWarning: Label not 13 is present in all training examples.\n",
      "  warnings.warn(\n",
      "/home/yinghui/.pyenv/versions/3.10.6/envs/lewagon/lib/python3.10/site-packages/sklearn/multiclass.py:77: UserWarning: Label not 17 is present in all training examples.\n",
      "  warnings.warn(\n",
      "/home/yinghui/.pyenv/versions/3.10.6/envs/lewagon/lib/python3.10/site-packages/sklearn/multiclass.py:77: UserWarning: Label not 19 is present in all training examples.\n",
      "  warnings.warn(\n",
      "/home/yinghui/.pyenv/versions/3.10.6/envs/lewagon/lib/python3.10/site-packages/sklearn/multiclass.py:77: UserWarning: Label not 20 is present in all training examples.\n",
      "  warnings.warn(\n"
     ]
    },
    {
     "data": {
      "text/html": [
       "<style>#sk-container-id-1 {color: black;background-color: white;}#sk-container-id-1 pre{padding: 0;}#sk-container-id-1 div.sk-toggleable {background-color: white;}#sk-container-id-1 label.sk-toggleable__label {cursor: pointer;display: block;width: 100%;margin-bottom: 0;padding: 0.3em;box-sizing: border-box;text-align: center;}#sk-container-id-1 label.sk-toggleable__label-arrow:before {content: \"▸\";float: left;margin-right: 0.25em;color: #696969;}#sk-container-id-1 label.sk-toggleable__label-arrow:hover:before {color: black;}#sk-container-id-1 div.sk-estimator:hover label.sk-toggleable__label-arrow:before {color: black;}#sk-container-id-1 div.sk-toggleable__content {max-height: 0;max-width: 0;overflow: hidden;text-align: left;background-color: #f0f8ff;}#sk-container-id-1 div.sk-toggleable__content pre {margin: 0.2em;color: black;border-radius: 0.25em;background-color: #f0f8ff;}#sk-container-id-1 input.sk-toggleable__control:checked~div.sk-toggleable__content {max-height: 200px;max-width: 100%;overflow: auto;}#sk-container-id-1 input.sk-toggleable__control:checked~label.sk-toggleable__label-arrow:before {content: \"▾\";}#sk-container-id-1 div.sk-estimator input.sk-toggleable__control:checked~label.sk-toggleable__label {background-color: #d4ebff;}#sk-container-id-1 div.sk-label input.sk-toggleable__control:checked~label.sk-toggleable__label {background-color: #d4ebff;}#sk-container-id-1 input.sk-hidden--visually {border: 0;clip: rect(1px 1px 1px 1px);clip: rect(1px, 1px, 1px, 1px);height: 1px;margin: -1px;overflow: hidden;padding: 0;position: absolute;width: 1px;}#sk-container-id-1 div.sk-estimator {font-family: monospace;background-color: #f0f8ff;border: 1px dotted black;border-radius: 0.25em;box-sizing: border-box;margin-bottom: 0.5em;}#sk-container-id-1 div.sk-estimator:hover {background-color: #d4ebff;}#sk-container-id-1 div.sk-parallel-item::after {content: \"\";width: 100%;border-bottom: 1px solid gray;flex-grow: 1;}#sk-container-id-1 div.sk-label:hover label.sk-toggleable__label {background-color: #d4ebff;}#sk-container-id-1 div.sk-serial::before {content: \"\";position: absolute;border-left: 1px solid gray;box-sizing: border-box;top: 0;bottom: 0;left: 50%;z-index: 0;}#sk-container-id-1 div.sk-serial {display: flex;flex-direction: column;align-items: center;background-color: white;padding-right: 0.2em;padding-left: 0.2em;position: relative;}#sk-container-id-1 div.sk-item {position: relative;z-index: 1;}#sk-container-id-1 div.sk-parallel {display: flex;align-items: stretch;justify-content: center;background-color: white;position: relative;}#sk-container-id-1 div.sk-item::before, #sk-container-id-1 div.sk-parallel-item::before {content: \"\";position: absolute;border-left: 1px solid gray;box-sizing: border-box;top: 0;bottom: 0;left: 50%;z-index: -1;}#sk-container-id-1 div.sk-parallel-item {display: flex;flex-direction: column;z-index: 1;position: relative;background-color: white;}#sk-container-id-1 div.sk-parallel-item:first-child::after {align-self: flex-end;width: 50%;}#sk-container-id-1 div.sk-parallel-item:last-child::after {align-self: flex-start;width: 50%;}#sk-container-id-1 div.sk-parallel-item:only-child::after {width: 0;}#sk-container-id-1 div.sk-dashed-wrapped {border: 1px dashed gray;margin: 0 0.4em 0.5em 0.4em;box-sizing: border-box;padding-bottom: 0.4em;background-color: white;}#sk-container-id-1 div.sk-label label {font-family: monospace;font-weight: bold;display: inline-block;line-height: 1.2em;}#sk-container-id-1 div.sk-label-container {text-align: center;}#sk-container-id-1 div.sk-container {/* jupyter's `normalize.less` sets `[hidden] { display: none; }` but bootstrap.min.css set `[hidden] { display: none !important; }` so we also need the `!important` here to be able to override the default hidden behavior on the sphinx rendered scikit-learn.org. See: https://github.com/scikit-learn/scikit-learn/issues/21755 */display: inline-block !important;position: relative;}#sk-container-id-1 div.sk-text-repr-fallback {display: none;}</style><div id=\"sk-container-id-1\" class=\"sk-top-container\"><div class=\"sk-text-repr-fallback\"><pre>OneVsRestClassifier(estimator=LogisticRegression())</pre><b>In a Jupyter environment, please rerun this cell to show the HTML representation or trust the notebook. <br />On GitHub, the HTML representation is unable to render, please try loading this page with nbviewer.org.</b></div><div class=\"sk-container\" hidden><div class=\"sk-item sk-dashed-wrapped\"><div class=\"sk-label-container\"><div class=\"sk-label sk-toggleable\"><input class=\"sk-toggleable__control sk-hidden--visually\" id=\"sk-estimator-id-1\" type=\"checkbox\" ><label for=\"sk-estimator-id-1\" class=\"sk-toggleable__label sk-toggleable__label-arrow\">OneVsRestClassifier</label><div class=\"sk-toggleable__content\"><pre>OneVsRestClassifier(estimator=LogisticRegression())</pre></div></div></div><div class=\"sk-parallel\"><div class=\"sk-parallel-item\"><div class=\"sk-item\"><div class=\"sk-label-container\"><div class=\"sk-label sk-toggleable\"><input class=\"sk-toggleable__control sk-hidden--visually\" id=\"sk-estimator-id-2\" type=\"checkbox\" ><label for=\"sk-estimator-id-2\" class=\"sk-toggleable__label sk-toggleable__label-arrow\">estimator: LogisticRegression</label><div class=\"sk-toggleable__content\"><pre>LogisticRegression()</pre></div></div></div><div class=\"sk-serial\"><div class=\"sk-item\"><div class=\"sk-estimator sk-toggleable\"><input class=\"sk-toggleable__control sk-hidden--visually\" id=\"sk-estimator-id-3\" type=\"checkbox\" ><label for=\"sk-estimator-id-3\" class=\"sk-toggleable__label sk-toggleable__label-arrow\">LogisticRegression</label><div class=\"sk-toggleable__content\"><pre>LogisticRegression()</pre></div></div></div></div></div></div></div></div></div></div>"
      ],
      "text/plain": [
       "OneVsRestClassifier(estimator=LogisticRegression())"
      ]
     },
     "execution_count": 52,
     "metadata": {},
     "output_type": "execute_result"
    }
   ],
   "source": [
    "log = LogisticRegression()\n",
    "model_test_1 = OneVsRestClassifier(log)\n",
    "\n",
    "model_test_1.fit(X_train_vec, y_train)"
   ]
  },
  {
   "cell_type": "code",
   "execution_count": 53,
   "id": "75455326",
   "metadata": {},
   "outputs": [],
   "source": [
    "y_pred = model_test_1.predict(X_test_vec)"
   ]
  },
  {
   "cell_type": "code",
   "execution_count": 54,
   "id": "5dc494f9",
   "metadata": {},
   "outputs": [
    {
     "data": {
      "text/plain": [
       "0.11162790697674418"
      ]
     },
     "execution_count": 54,
     "metadata": {},
     "output_type": "execute_result"
    }
   ],
   "source": [
    "accuracy_score(y_test, y_pred)"
   ]
  },
  {
   "cell_type": "code",
   "execution_count": 55,
   "id": "3dcb7b9a",
   "metadata": {},
   "outputs": [
    {
     "data": {
      "text/plain": [
       "0.5233500578927055"
      ]
     },
     "execution_count": 55,
     "metadata": {},
     "output_type": "execute_result"
    }
   ],
   "source": [
    "f1_score(y_test, y_pred, average=\"micro\")"
   ]
  },
  {
   "cell_type": "code",
   "execution_count": 56,
   "id": "e915c3a4",
   "metadata": {},
   "outputs": [
    {
     "data": {
      "text/plain": [
       "('Drama',)"
      ]
     },
     "execution_count": 56,
     "metadata": {},
     "output_type": "execute_result"
    }
   ],
   "source": [
    "multilabel_binarizer.inverse_transform(y_pred)[1]"
   ]
  },
  {
   "cell_type": "code",
   "execution_count": 57,
   "id": "95c5958a",
   "metadata": {},
   "outputs": [
    {
     "data": {
      "text/html": [
       "<div>\n",
       "<style scoped>\n",
       "    .dataframe tbody tr th:only-of-type {\n",
       "        vertical-align: middle;\n",
       "    }\n",
       "\n",
       "    .dataframe tbody tr th {\n",
       "        vertical-align: top;\n",
       "    }\n",
       "\n",
       "    .dataframe thead th {\n",
       "        text-align: right;\n",
       "    }\n",
       "</style>\n",
       "<table border=\"1\" class=\"dataframe\">\n",
       "  <thead>\n",
       "    <tr style=\"text-align: right;\">\n",
       "      <th></th>\n",
       "      <th>movie</th>\n",
       "      <th>imdb_id</th>\n",
       "      <th>genre</th>\n",
       "      <th>image_url</th>\n",
       "      <th>sypnosis</th>\n",
       "      <th>clean_sypnosis</th>\n",
       "      <th>clean_title</th>\n",
       "      <th>Action</th>\n",
       "      <th>Adventure</th>\n",
       "      <th>Animation</th>\n",
       "      <th>...</th>\n",
       "      <th>Horror</th>\n",
       "      <th>Music</th>\n",
       "      <th>Musical</th>\n",
       "      <th>Mystery</th>\n",
       "      <th>Romance</th>\n",
       "      <th>Sci-Fi</th>\n",
       "      <th>Sport</th>\n",
       "      <th>Thriller</th>\n",
       "      <th>War</th>\n",
       "      <th>Western</th>\n",
       "    </tr>\n",
       "  </thead>\n",
       "  <tbody>\n",
       "    <tr>\n",
       "      <th>3972</th>\n",
       "      <td>The Cider House Rules</td>\n",
       "      <td>tt0124315</td>\n",
       "      <td>[Drama, Romance]</td>\n",
       "      <td>http://img.omdbapi.com/?i=tt0124315&amp;h=600&amp;apik...</td>\n",
       "      <td>A compassionate young man, raised in an orphan...</td>\n",
       "      <td>compassionate young man raise orphanage train ...</td>\n",
       "      <td>cider house rule</td>\n",
       "      <td>0</td>\n",
       "      <td>0</td>\n",
       "      <td>0</td>\n",
       "      <td>...</td>\n",
       "      <td>0</td>\n",
       "      <td>0</td>\n",
       "      <td>0</td>\n",
       "      <td>0</td>\n",
       "      <td>1</td>\n",
       "      <td>0</td>\n",
       "      <td>0</td>\n",
       "      <td>0</td>\n",
       "      <td>0</td>\n",
       "      <td>0</td>\n",
       "    </tr>\n",
       "  </tbody>\n",
       "</table>\n",
       "<p>1 rows × 28 columns</p>\n",
       "</div>"
      ],
      "text/plain": [
       "                      movie    imdb_id             genre  \\\n",
       "3972  The Cider House Rules  tt0124315  [Drama, Romance]   \n",
       "\n",
       "                                              image_url  \\\n",
       "3972  http://img.omdbapi.com/?i=tt0124315&h=600&apik...   \n",
       "\n",
       "                                               sypnosis  \\\n",
       "3972  A compassionate young man, raised in an orphan...   \n",
       "\n",
       "                                         clean_sypnosis       clean_title  \\\n",
       "3972  compassionate young man raise orphanage train ...  cider house rule   \n",
       "\n",
       "      Action  Adventure  Animation  ...  Horror  Music  Musical  Mystery  \\\n",
       "3972       0          0          0  ...       0      0        0        0   \n",
       "\n",
       "      Romance  Sci-Fi  Sport  Thriller  War  Western  \n",
       "3972        1       0      0         0    0        0  \n",
       "\n",
       "[1 rows x 28 columns]"
      ]
     },
     "execution_count": 57,
     "metadata": {},
     "output_type": "execute_result"
    }
   ],
   "source": [
    "test_df3[test_df3.clean_sypnosis == X_test.clean_sypnosis.iloc[1]]"
   ]
  },
  {
   "cell_type": "markdown",
   "id": "4f94bf73",
   "metadata": {},
   "source": [
    "#### Grouping the topic"
   ]
  },
  {
   "cell_type": "code",
   "execution_count": 58,
   "id": "297aea2f",
   "metadata": {},
   "outputs": [],
   "source": [
    "# from sklearn.decomposition import LatentDirichletAllocation\n",
    "\n",
    "# # Instantiate the LDA \n",
    "# n_components = 7\n",
    "# lda_model = LatentDirichletAllocation(n_components=n_components, max_iter = 500)\n",
    "\n",
    "# # Fit the LDA on the vectorized documents\n",
    "# lda_model.fit(X_train_vec)"
   ]
  },
  {
   "cell_type": "code",
   "execution_count": 59,
   "id": "d35716ee",
   "metadata": {},
   "outputs": [],
   "source": [
    "# X_train_topic_mixture = lda_model.transform(X_train_vec)\n",
    "# X_train_topic_df = pd.DataFrame(X_train_topic_mixture)\n",
    "# X_train_topic_df"
   ]
  },
  {
   "cell_type": "code",
   "execution_count": 60,
   "id": "5dda4ec4",
   "metadata": {},
   "outputs": [],
   "source": [
    "# X_test_topic_mixture = lda_model.transform(X_test_vec)\n",
    "# X_test_topic_df = pd.DataFrame(X_test_topic_mixture)\n",
    "# X_test_topic_df"
   ]
  },
  {
   "cell_type": "markdown",
   "id": "56079a6c",
   "metadata": {
    "heading_collapsed": true
   },
   "source": [
    "### Training OneVsRest using topic grouping as input"
   ]
  },
  {
   "cell_type": "code",
   "execution_count": 61,
   "id": "766d1edb",
   "metadata": {
    "hidden": true
   },
   "outputs": [
    {
     "ename": "NameError",
     "evalue": "name 'X_train_topic_df' is not defined",
     "output_type": "error",
     "traceback": [
      "\u001b[0;31m---------------------------------------------------------------------------\u001b[0m",
      "\u001b[0;31mNameError\u001b[0m                                 Traceback (most recent call last)",
      "Cell \u001b[0;32mIn [61], line 2\u001b[0m\n\u001b[1;32m      1\u001b[0m model_test_2 \u001b[38;5;241m=\u001b[39m OneVsRestClassifier(log)\n\u001b[0;32m----> 2\u001b[0m model_test_2\u001b[38;5;241m.\u001b[39mfit(\u001b[43mX_train_topic_df\u001b[49m, y_train)\n",
      "\u001b[0;31mNameError\u001b[0m: name 'X_train_topic_df' is not defined"
     ]
    }
   ],
   "source": [
    "model_test_2 = OneVsRestClassifier(log)\n",
    "model_test_2.fit(X_train_topic_df, y_train)"
   ]
  },
  {
   "cell_type": "code",
   "execution_count": null,
   "id": "756a9c22",
   "metadata": {
    "hidden": true
   },
   "outputs": [],
   "source": [
    "y_pred_2 = model_test_2.predict(X_test_topic_df)\n",
    "accuracy_score(y_test, y_pred_2)"
   ]
  },
  {
   "cell_type": "code",
   "execution_count": null,
   "id": "fafcd154",
   "metadata": {
    "hidden": true
   },
   "outputs": [],
   "source": [
    "multilabel_binarizer.inverse_transform(y_pred_2)[0:10]"
   ]
  },
  {
   "cell_type": "code",
   "execution_count": null,
   "id": "1b4e171c",
   "metadata": {
    "hidden": true
   },
   "outputs": [],
   "source": [
    "multilabel_binarizer.inverse_transform(y_test)[0:10]"
   ]
  },
  {
   "cell_type": "markdown",
   "id": "64c4b66c",
   "metadata": {},
   "source": [
    "### Using both topic grouping as input + OneVsRest "
   ]
  },
  {
   "cell_type": "code",
   "execution_count": null,
   "id": "f7a8af48",
   "metadata": {},
   "outputs": [],
   "source": [
    "# model_test_3 = OneVsRestClassifier(log)\n",
    "# model_test_3.fit(X_train_topic_df, y_train)\n",
    "# model_test_3.fit(X_train_vec, y_train)"
   ]
  },
  {
   "cell_type": "code",
   "execution_count": 62,
   "id": "f2392f7f",
   "metadata": {},
   "outputs": [],
   "source": [
    "# y_pred_3 = model_test_2.predict(X_test_topic_df)\n",
    "# accuracy_score(y_test, y_pred_3)"
   ]
  },
  {
   "cell_type": "markdown",
   "id": "e635cf7c",
   "metadata": {},
   "source": [
    "## SGD"
   ]
  },
  {
   "cell_type": "code",
   "execution_count": 63,
   "id": "c3edea9d",
   "metadata": {},
   "outputs": [
    {
     "name": "stderr",
     "output_type": "stream",
     "text": [
      "/home/yinghui/.pyenv/versions/3.10.6/envs/lewagon/lib/python3.10/site-packages/sklearn/multiclass.py:77: UserWarning: Label not 3 is present in all training examples.\n",
      "  warnings.warn(\n",
      "/home/yinghui/.pyenv/versions/3.10.6/envs/lewagon/lib/python3.10/site-packages/sklearn/multiclass.py:77: UserWarning: Label not 7 is present in all training examples.\n",
      "  warnings.warn(\n",
      "/home/yinghui/.pyenv/versions/3.10.6/envs/lewagon/lib/python3.10/site-packages/sklearn/multiclass.py:77: UserWarning: Label not 9 is present in all training examples.\n",
      "  warnings.warn(\n",
      "/home/yinghui/.pyenv/versions/3.10.6/envs/lewagon/lib/python3.10/site-packages/sklearn/multiclass.py:77: UserWarning: Label not 10 is present in all training examples.\n",
      "  warnings.warn(\n",
      "/home/yinghui/.pyenv/versions/3.10.6/envs/lewagon/lib/python3.10/site-packages/sklearn/multiclass.py:77: UserWarning: Label not 12 is present in all training examples.\n",
      "  warnings.warn(\n",
      "/home/yinghui/.pyenv/versions/3.10.6/envs/lewagon/lib/python3.10/site-packages/sklearn/multiclass.py:77: UserWarning: Label not 13 is present in all training examples.\n",
      "  warnings.warn(\n",
      "/home/yinghui/.pyenv/versions/3.10.6/envs/lewagon/lib/python3.10/site-packages/sklearn/multiclass.py:77: UserWarning: Label not 17 is present in all training examples.\n",
      "  warnings.warn(\n",
      "/home/yinghui/.pyenv/versions/3.10.6/envs/lewagon/lib/python3.10/site-packages/sklearn/multiclass.py:77: UserWarning: Label not 19 is present in all training examples.\n",
      "  warnings.warn(\n",
      "/home/yinghui/.pyenv/versions/3.10.6/envs/lewagon/lib/python3.10/site-packages/sklearn/multiclass.py:77: UserWarning: Label not 20 is present in all training examples.\n",
      "  warnings.warn(\n"
     ]
    },
    {
     "data": {
      "text/html": [
       "<style>#sk-container-id-2 {color: black;background-color: white;}#sk-container-id-2 pre{padding: 0;}#sk-container-id-2 div.sk-toggleable {background-color: white;}#sk-container-id-2 label.sk-toggleable__label {cursor: pointer;display: block;width: 100%;margin-bottom: 0;padding: 0.3em;box-sizing: border-box;text-align: center;}#sk-container-id-2 label.sk-toggleable__label-arrow:before {content: \"▸\";float: left;margin-right: 0.25em;color: #696969;}#sk-container-id-2 label.sk-toggleable__label-arrow:hover:before {color: black;}#sk-container-id-2 div.sk-estimator:hover label.sk-toggleable__label-arrow:before {color: black;}#sk-container-id-2 div.sk-toggleable__content {max-height: 0;max-width: 0;overflow: hidden;text-align: left;background-color: #f0f8ff;}#sk-container-id-2 div.sk-toggleable__content pre {margin: 0.2em;color: black;border-radius: 0.25em;background-color: #f0f8ff;}#sk-container-id-2 input.sk-toggleable__control:checked~div.sk-toggleable__content {max-height: 200px;max-width: 100%;overflow: auto;}#sk-container-id-2 input.sk-toggleable__control:checked~label.sk-toggleable__label-arrow:before {content: \"▾\";}#sk-container-id-2 div.sk-estimator input.sk-toggleable__control:checked~label.sk-toggleable__label {background-color: #d4ebff;}#sk-container-id-2 div.sk-label input.sk-toggleable__control:checked~label.sk-toggleable__label {background-color: #d4ebff;}#sk-container-id-2 input.sk-hidden--visually {border: 0;clip: rect(1px 1px 1px 1px);clip: rect(1px, 1px, 1px, 1px);height: 1px;margin: -1px;overflow: hidden;padding: 0;position: absolute;width: 1px;}#sk-container-id-2 div.sk-estimator {font-family: monospace;background-color: #f0f8ff;border: 1px dotted black;border-radius: 0.25em;box-sizing: border-box;margin-bottom: 0.5em;}#sk-container-id-2 div.sk-estimator:hover {background-color: #d4ebff;}#sk-container-id-2 div.sk-parallel-item::after {content: \"\";width: 100%;border-bottom: 1px solid gray;flex-grow: 1;}#sk-container-id-2 div.sk-label:hover label.sk-toggleable__label {background-color: #d4ebff;}#sk-container-id-2 div.sk-serial::before {content: \"\";position: absolute;border-left: 1px solid gray;box-sizing: border-box;top: 0;bottom: 0;left: 50%;z-index: 0;}#sk-container-id-2 div.sk-serial {display: flex;flex-direction: column;align-items: center;background-color: white;padding-right: 0.2em;padding-left: 0.2em;position: relative;}#sk-container-id-2 div.sk-item {position: relative;z-index: 1;}#sk-container-id-2 div.sk-parallel {display: flex;align-items: stretch;justify-content: center;background-color: white;position: relative;}#sk-container-id-2 div.sk-item::before, #sk-container-id-2 div.sk-parallel-item::before {content: \"\";position: absolute;border-left: 1px solid gray;box-sizing: border-box;top: 0;bottom: 0;left: 50%;z-index: -1;}#sk-container-id-2 div.sk-parallel-item {display: flex;flex-direction: column;z-index: 1;position: relative;background-color: white;}#sk-container-id-2 div.sk-parallel-item:first-child::after {align-self: flex-end;width: 50%;}#sk-container-id-2 div.sk-parallel-item:last-child::after {align-self: flex-start;width: 50%;}#sk-container-id-2 div.sk-parallel-item:only-child::after {width: 0;}#sk-container-id-2 div.sk-dashed-wrapped {border: 1px dashed gray;margin: 0 0.4em 0.5em 0.4em;box-sizing: border-box;padding-bottom: 0.4em;background-color: white;}#sk-container-id-2 div.sk-label label {font-family: monospace;font-weight: bold;display: inline-block;line-height: 1.2em;}#sk-container-id-2 div.sk-label-container {text-align: center;}#sk-container-id-2 div.sk-container {/* jupyter's `normalize.less` sets `[hidden] { display: none; }` but bootstrap.min.css set `[hidden] { display: none !important; }` so we also need the `!important` here to be able to override the default hidden behavior on the sphinx rendered scikit-learn.org. See: https://github.com/scikit-learn/scikit-learn/issues/21755 */display: inline-block !important;position: relative;}#sk-container-id-2 div.sk-text-repr-fallback {display: none;}</style><div id=\"sk-container-id-2\" class=\"sk-top-container\"><div class=\"sk-text-repr-fallback\"><pre>OneVsRestClassifier(estimator=SGDClassifier(random_state=42))</pre><b>In a Jupyter environment, please rerun this cell to show the HTML representation or trust the notebook. <br />On GitHub, the HTML representation is unable to render, please try loading this page with nbviewer.org.</b></div><div class=\"sk-container\" hidden><div class=\"sk-item sk-dashed-wrapped\"><div class=\"sk-label-container\"><div class=\"sk-label sk-toggleable\"><input class=\"sk-toggleable__control sk-hidden--visually\" id=\"sk-estimator-id-4\" type=\"checkbox\" ><label for=\"sk-estimator-id-4\" class=\"sk-toggleable__label sk-toggleable__label-arrow\">OneVsRestClassifier</label><div class=\"sk-toggleable__content\"><pre>OneVsRestClassifier(estimator=SGDClassifier(random_state=42))</pre></div></div></div><div class=\"sk-parallel\"><div class=\"sk-parallel-item\"><div class=\"sk-item\"><div class=\"sk-label-container\"><div class=\"sk-label sk-toggleable\"><input class=\"sk-toggleable__control sk-hidden--visually\" id=\"sk-estimator-id-5\" type=\"checkbox\" ><label for=\"sk-estimator-id-5\" class=\"sk-toggleable__label sk-toggleable__label-arrow\">estimator: SGDClassifier</label><div class=\"sk-toggleable__content\"><pre>SGDClassifier(random_state=42)</pre></div></div></div><div class=\"sk-serial\"><div class=\"sk-item\"><div class=\"sk-estimator sk-toggleable\"><input class=\"sk-toggleable__control sk-hidden--visually\" id=\"sk-estimator-id-6\" type=\"checkbox\" ><label for=\"sk-estimator-id-6\" class=\"sk-toggleable__label sk-toggleable__label-arrow\">SGDClassifier</label><div class=\"sk-toggleable__content\"><pre>SGDClassifier(random_state=42)</pre></div></div></div></div></div></div></div></div></div></div>"
      ],
      "text/plain": [
       "OneVsRestClassifier(estimator=SGDClassifier(random_state=42))"
      ]
     },
     "execution_count": 63,
     "metadata": {},
     "output_type": "execute_result"
    }
   ],
   "source": [
    "sgd = SGDClassifier(random_state = 42)\n",
    "sgd_model = OneVsRestClassifier(sgd)\n",
    "sgd_model.fit(X_train_vec,y_train)"
   ]
  },
  {
   "cell_type": "code",
   "execution_count": 64,
   "id": "0f1ace1e",
   "metadata": {},
   "outputs": [],
   "source": [
    "y_pred_sgd1 = sgd_model.predict(X_test_vec)"
   ]
  },
  {
   "cell_type": "code",
   "execution_count": 65,
   "id": "e240a7c2",
   "metadata": {},
   "outputs": [
    {
     "data": {
      "text/plain": [
       "[('Animation',),\n",
       " ('Drama', 'Romance', 'Thriller'),\n",
       " ('Drama', 'Mystery'),\n",
       " ('Action', 'Adventure'),\n",
       " ('Drama', 'Romance'),\n",
       " ('Drama', 'Sci-Fi'),\n",
       " ('Adventure', 'Drama', 'Thriller'),\n",
       " ('Adventure', 'Animation', 'Comedy'),\n",
       " (),\n",
       " ('Comedy',)]"
      ]
     },
     "execution_count": 65,
     "metadata": {},
     "output_type": "execute_result"
    }
   ],
   "source": [
    "multilabel_binarizer.inverse_transform(y_pred_sgd1)[0:10]"
   ]
  },
  {
   "cell_type": "code",
   "execution_count": 66,
   "id": "e6d32cc2",
   "metadata": {},
   "outputs": [
    {
     "data": {
      "text/plain": [
       "0.14883720930232558"
      ]
     },
     "execution_count": 66,
     "metadata": {},
     "output_type": "execute_result"
    }
   ],
   "source": [
    "accuracy_score(y_test, y_pred_sgd1)"
   ]
  },
  {
   "cell_type": "code",
   "execution_count": 67,
   "id": "fcf4fecf",
   "metadata": {},
   "outputs": [
    {
     "data": {
      "text/plain": [
       "0.6228044060732361"
      ]
     },
     "execution_count": 67,
     "metadata": {},
     "output_type": "execute_result"
    }
   ],
   "source": [
    "f1_score(y_test, y_pred_sgd1, average=\"micro\")"
   ]
  },
  {
   "cell_type": "code",
   "execution_count": null,
   "id": "c478f70e",
   "metadata": {},
   "outputs": [],
   "source": []
  },
  {
   "cell_type": "code",
   "execution_count": null,
   "id": "f1939db5",
   "metadata": {},
   "outputs": [],
   "source": []
  },
  {
   "cell_type": "code",
   "execution_count": 68,
   "id": "176abb4c",
   "metadata": {},
   "outputs": [
    {
     "data": {
      "text/plain": [
       "('Drama', 'Mystery')"
      ]
     },
     "execution_count": 68,
     "metadata": {},
     "output_type": "execute_result"
    }
   ],
   "source": [
    "multilabel_binarizer.inverse_transform(y_pred_sgd1)[2]"
   ]
  },
  {
   "cell_type": "code",
   "execution_count": 69,
   "id": "0b0b233f",
   "metadata": {},
   "outputs": [
    {
     "data": {
      "text/html": [
       "<div>\n",
       "<style scoped>\n",
       "    .dataframe tbody tr th:only-of-type {\n",
       "        vertical-align: middle;\n",
       "    }\n",
       "\n",
       "    .dataframe tbody tr th {\n",
       "        vertical-align: top;\n",
       "    }\n",
       "\n",
       "    .dataframe thead th {\n",
       "        text-align: right;\n",
       "    }\n",
       "</style>\n",
       "<table border=\"1\" class=\"dataframe\">\n",
       "  <thead>\n",
       "    <tr style=\"text-align: right;\">\n",
       "      <th></th>\n",
       "      <th>movie</th>\n",
       "      <th>imdb_id</th>\n",
       "      <th>genre</th>\n",
       "      <th>image_url</th>\n",
       "      <th>sypnosis</th>\n",
       "      <th>clean_sypnosis</th>\n",
       "      <th>clean_title</th>\n",
       "      <th>Action</th>\n",
       "      <th>Adventure</th>\n",
       "      <th>Animation</th>\n",
       "      <th>...</th>\n",
       "      <th>Horror</th>\n",
       "      <th>Music</th>\n",
       "      <th>Musical</th>\n",
       "      <th>Mystery</th>\n",
       "      <th>Romance</th>\n",
       "      <th>Sci-Fi</th>\n",
       "      <th>Sport</th>\n",
       "      <th>Thriller</th>\n",
       "      <th>War</th>\n",
       "      <th>Western</th>\n",
       "    </tr>\n",
       "  </thead>\n",
       "  <tbody>\n",
       "    <tr>\n",
       "      <th>3925</th>\n",
       "      <td>Confess, Fletch</td>\n",
       "      <td>tt12718300</td>\n",
       "      <td>[Comedy, Crime, Mystery]</td>\n",
       "      <td>http://img.omdbapi.com/?i=tt12718300&amp;h=600&amp;api...</td>\n",
       "      <td>After becoming the prime suspect in multiple m...</td>\n",
       "      <td>become prime suspect multiple murder fletch st...</td>\n",
       "      <td>confess fletch</td>\n",
       "      <td>0</td>\n",
       "      <td>0</td>\n",
       "      <td>0</td>\n",
       "      <td>...</td>\n",
       "      <td>0</td>\n",
       "      <td>0</td>\n",
       "      <td>0</td>\n",
       "      <td>1</td>\n",
       "      <td>0</td>\n",
       "      <td>0</td>\n",
       "      <td>0</td>\n",
       "      <td>0</td>\n",
       "      <td>0</td>\n",
       "      <td>0</td>\n",
       "    </tr>\n",
       "  </tbody>\n",
       "</table>\n",
       "<p>1 rows × 28 columns</p>\n",
       "</div>"
      ],
      "text/plain": [
       "                movie     imdb_id                     genre  \\\n",
       "3925  Confess, Fletch  tt12718300  [Comedy, Crime, Mystery]   \n",
       "\n",
       "                                              image_url  \\\n",
       "3925  http://img.omdbapi.com/?i=tt12718300&h=600&api...   \n",
       "\n",
       "                                               sypnosis  \\\n",
       "3925  After becoming the prime suspect in multiple m...   \n",
       "\n",
       "                                         clean_sypnosis     clean_title  \\\n",
       "3925  become prime suspect multiple murder fletch st...  confess fletch   \n",
       "\n",
       "      Action  Adventure  Animation  ...  Horror  Music  Musical  Mystery  \\\n",
       "3925       0          0          0  ...       0      0        0        1   \n",
       "\n",
       "      Romance  Sci-Fi  Sport  Thriller  War  Western  \n",
       "3925        0       0      0         0    0        0  \n",
       "\n",
       "[1 rows x 28 columns]"
      ]
     },
     "execution_count": 69,
     "metadata": {},
     "output_type": "execute_result"
    }
   ],
   "source": [
    "test_df3[test_df3.clean_sypnosis == X_test.clean_sypnosis.iloc[2]]"
   ]
  },
  {
   "cell_type": "markdown",
   "id": "1c0e2c45",
   "metadata": {},
   "source": [
    "## Random Forest Classifier"
   ]
  },
  {
   "cell_type": "code",
   "execution_count": 70,
   "id": "691f86c4",
   "metadata": {},
   "outputs": [
    {
     "name": "stderr",
     "output_type": "stream",
     "text": [
      "/home/yinghui/.pyenv/versions/3.10.6/envs/lewagon/lib/python3.10/site-packages/sklearn/multiclass.py:77: UserWarning: Label not 3 is present in all training examples.\n",
      "  warnings.warn(\n",
      "/home/yinghui/.pyenv/versions/3.10.6/envs/lewagon/lib/python3.10/site-packages/sklearn/multiclass.py:77: UserWarning: Label not 7 is present in all training examples.\n",
      "  warnings.warn(\n",
      "/home/yinghui/.pyenv/versions/3.10.6/envs/lewagon/lib/python3.10/site-packages/sklearn/multiclass.py:77: UserWarning: Label not 9 is present in all training examples.\n",
      "  warnings.warn(\n",
      "/home/yinghui/.pyenv/versions/3.10.6/envs/lewagon/lib/python3.10/site-packages/sklearn/multiclass.py:77: UserWarning: Label not 10 is present in all training examples.\n",
      "  warnings.warn(\n",
      "/home/yinghui/.pyenv/versions/3.10.6/envs/lewagon/lib/python3.10/site-packages/sklearn/multiclass.py:77: UserWarning: Label not 12 is present in all training examples.\n",
      "  warnings.warn(\n",
      "/home/yinghui/.pyenv/versions/3.10.6/envs/lewagon/lib/python3.10/site-packages/sklearn/multiclass.py:77: UserWarning: Label not 13 is present in all training examples.\n",
      "  warnings.warn(\n",
      "/home/yinghui/.pyenv/versions/3.10.6/envs/lewagon/lib/python3.10/site-packages/sklearn/multiclass.py:77: UserWarning: Label not 17 is present in all training examples.\n",
      "  warnings.warn(\n",
      "/home/yinghui/.pyenv/versions/3.10.6/envs/lewagon/lib/python3.10/site-packages/sklearn/multiclass.py:77: UserWarning: Label not 19 is present in all training examples.\n",
      "  warnings.warn(\n",
      "/home/yinghui/.pyenv/versions/3.10.6/envs/lewagon/lib/python3.10/site-packages/sklearn/multiclass.py:77: UserWarning: Label not 20 is present in all training examples.\n",
      "  warnings.warn(\n"
     ]
    },
    {
     "data": {
      "text/html": [
       "<style>#sk-container-id-3 {color: black;background-color: white;}#sk-container-id-3 pre{padding: 0;}#sk-container-id-3 div.sk-toggleable {background-color: white;}#sk-container-id-3 label.sk-toggleable__label {cursor: pointer;display: block;width: 100%;margin-bottom: 0;padding: 0.3em;box-sizing: border-box;text-align: center;}#sk-container-id-3 label.sk-toggleable__label-arrow:before {content: \"▸\";float: left;margin-right: 0.25em;color: #696969;}#sk-container-id-3 label.sk-toggleable__label-arrow:hover:before {color: black;}#sk-container-id-3 div.sk-estimator:hover label.sk-toggleable__label-arrow:before {color: black;}#sk-container-id-3 div.sk-toggleable__content {max-height: 0;max-width: 0;overflow: hidden;text-align: left;background-color: #f0f8ff;}#sk-container-id-3 div.sk-toggleable__content pre {margin: 0.2em;color: black;border-radius: 0.25em;background-color: #f0f8ff;}#sk-container-id-3 input.sk-toggleable__control:checked~div.sk-toggleable__content {max-height: 200px;max-width: 100%;overflow: auto;}#sk-container-id-3 input.sk-toggleable__control:checked~label.sk-toggleable__label-arrow:before {content: \"▾\";}#sk-container-id-3 div.sk-estimator input.sk-toggleable__control:checked~label.sk-toggleable__label {background-color: #d4ebff;}#sk-container-id-3 div.sk-label input.sk-toggleable__control:checked~label.sk-toggleable__label {background-color: #d4ebff;}#sk-container-id-3 input.sk-hidden--visually {border: 0;clip: rect(1px 1px 1px 1px);clip: rect(1px, 1px, 1px, 1px);height: 1px;margin: -1px;overflow: hidden;padding: 0;position: absolute;width: 1px;}#sk-container-id-3 div.sk-estimator {font-family: monospace;background-color: #f0f8ff;border: 1px dotted black;border-radius: 0.25em;box-sizing: border-box;margin-bottom: 0.5em;}#sk-container-id-3 div.sk-estimator:hover {background-color: #d4ebff;}#sk-container-id-3 div.sk-parallel-item::after {content: \"\";width: 100%;border-bottom: 1px solid gray;flex-grow: 1;}#sk-container-id-3 div.sk-label:hover label.sk-toggleable__label {background-color: #d4ebff;}#sk-container-id-3 div.sk-serial::before {content: \"\";position: absolute;border-left: 1px solid gray;box-sizing: border-box;top: 0;bottom: 0;left: 50%;z-index: 0;}#sk-container-id-3 div.sk-serial {display: flex;flex-direction: column;align-items: center;background-color: white;padding-right: 0.2em;padding-left: 0.2em;position: relative;}#sk-container-id-3 div.sk-item {position: relative;z-index: 1;}#sk-container-id-3 div.sk-parallel {display: flex;align-items: stretch;justify-content: center;background-color: white;position: relative;}#sk-container-id-3 div.sk-item::before, #sk-container-id-3 div.sk-parallel-item::before {content: \"\";position: absolute;border-left: 1px solid gray;box-sizing: border-box;top: 0;bottom: 0;left: 50%;z-index: -1;}#sk-container-id-3 div.sk-parallel-item {display: flex;flex-direction: column;z-index: 1;position: relative;background-color: white;}#sk-container-id-3 div.sk-parallel-item:first-child::after {align-self: flex-end;width: 50%;}#sk-container-id-3 div.sk-parallel-item:last-child::after {align-self: flex-start;width: 50%;}#sk-container-id-3 div.sk-parallel-item:only-child::after {width: 0;}#sk-container-id-3 div.sk-dashed-wrapped {border: 1px dashed gray;margin: 0 0.4em 0.5em 0.4em;box-sizing: border-box;padding-bottom: 0.4em;background-color: white;}#sk-container-id-3 div.sk-label label {font-family: monospace;font-weight: bold;display: inline-block;line-height: 1.2em;}#sk-container-id-3 div.sk-label-container {text-align: center;}#sk-container-id-3 div.sk-container {/* jupyter's `normalize.less` sets `[hidden] { display: none; }` but bootstrap.min.css set `[hidden] { display: none !important; }` so we also need the `!important` here to be able to override the default hidden behavior on the sphinx rendered scikit-learn.org. See: https://github.com/scikit-learn/scikit-learn/issues/21755 */display: inline-block !important;position: relative;}#sk-container-id-3 div.sk-text-repr-fallback {display: none;}</style><div id=\"sk-container-id-3\" class=\"sk-top-container\"><div class=\"sk-text-repr-fallback\"><pre>OneVsRestClassifier(estimator=RandomForestClassifier(random_state=42))</pre><b>In a Jupyter environment, please rerun this cell to show the HTML representation or trust the notebook. <br />On GitHub, the HTML representation is unable to render, please try loading this page with nbviewer.org.</b></div><div class=\"sk-container\" hidden><div class=\"sk-item sk-dashed-wrapped\"><div class=\"sk-label-container\"><div class=\"sk-label sk-toggleable\"><input class=\"sk-toggleable__control sk-hidden--visually\" id=\"sk-estimator-id-7\" type=\"checkbox\" ><label for=\"sk-estimator-id-7\" class=\"sk-toggleable__label sk-toggleable__label-arrow\">OneVsRestClassifier</label><div class=\"sk-toggleable__content\"><pre>OneVsRestClassifier(estimator=RandomForestClassifier(random_state=42))</pre></div></div></div><div class=\"sk-parallel\"><div class=\"sk-parallel-item\"><div class=\"sk-item\"><div class=\"sk-label-container\"><div class=\"sk-label sk-toggleable\"><input class=\"sk-toggleable__control sk-hidden--visually\" id=\"sk-estimator-id-8\" type=\"checkbox\" ><label for=\"sk-estimator-id-8\" class=\"sk-toggleable__label sk-toggleable__label-arrow\">estimator: RandomForestClassifier</label><div class=\"sk-toggleable__content\"><pre>RandomForestClassifier(random_state=42)</pre></div></div></div><div class=\"sk-serial\"><div class=\"sk-item\"><div class=\"sk-estimator sk-toggleable\"><input class=\"sk-toggleable__control sk-hidden--visually\" id=\"sk-estimator-id-9\" type=\"checkbox\" ><label for=\"sk-estimator-id-9\" class=\"sk-toggleable__label sk-toggleable__label-arrow\">RandomForestClassifier</label><div class=\"sk-toggleable__content\"><pre>RandomForestClassifier(random_state=42)</pre></div></div></div></div></div></div></div></div></div></div>"
      ],
      "text/plain": [
       "OneVsRestClassifier(estimator=RandomForestClassifier(random_state=42))"
      ]
     },
     "execution_count": 70,
     "metadata": {},
     "output_type": "execute_result"
    }
   ],
   "source": [
    "rfc = RandomForestClassifier(random_state = 42)\n",
    "rfc_model = OneVsRestClassifier(rfc)\n",
    "\n",
    "rfc_model.fit(X_train_vec,y_train)"
   ]
  },
  {
   "cell_type": "code",
   "execution_count": 71,
   "id": "97f43ab3",
   "metadata": {},
   "outputs": [],
   "source": [
    "y_pred_rfc1 = rfc_model.predict(X_test_vec)"
   ]
  },
  {
   "cell_type": "code",
   "execution_count": 72,
   "id": "aed0796f",
   "metadata": {},
   "outputs": [
    {
     "data": {
      "text/plain": [
       "[(),\n",
       " ('Drama', 'Romance'),\n",
       " (),\n",
       " ('Adventure',),\n",
       " ('Drama',),\n",
       " (),\n",
       " ('Drama',),\n",
       " ('Drama',),\n",
       " (),\n",
       " ()]"
      ]
     },
     "execution_count": 72,
     "metadata": {},
     "output_type": "execute_result"
    }
   ],
   "source": [
    "multilabel_binarizer.inverse_transform(y_pred_rfc1)[0:10]"
   ]
  },
  {
   "cell_type": "code",
   "execution_count": 73,
   "id": "e070c4ca",
   "metadata": {},
   "outputs": [
    {
     "data": {
      "text/plain": [
       "0.04496124031007752"
      ]
     },
     "execution_count": 73,
     "metadata": {},
     "output_type": "execute_result"
    }
   ],
   "source": [
    "accuracy_score(y_test, y_pred_rfc1)"
   ]
  },
  {
   "cell_type": "code",
   "execution_count": 74,
   "id": "4f6271bb",
   "metadata": {},
   "outputs": [
    {
     "data": {
      "text/plain": [
       "0.3923776526634907"
      ]
     },
     "execution_count": 74,
     "metadata": {},
     "output_type": "execute_result"
    }
   ],
   "source": [
    "f1_score(y_test, y_pred_rfc1, average=\"micro\")"
   ]
  },
  {
   "cell_type": "code",
   "execution_count": 75,
   "id": "f687015d",
   "metadata": {},
   "outputs": [
    {
     "data": {
      "text/plain": [
       "32                 [Action, Adventure]\n",
       "317            [Action, Comedy, Crime]\n",
       "678       [Adventure, Romance, Sci-Fi]\n",
       "769      [Animation, Adventure, Drama]\n",
       "1053    [Animation, Adventure, Comedy]\n",
       "3415           [Action, Comedy, Crime]\n",
       "3925          [Comedy, Crime, Mystery]\n",
       "3950                  [Drama, Romance]\n",
       "3972                  [Drama, Romance]\n",
       "4016                  [Drama, Romance]\n",
       "Name: genre, dtype: object"
      ]
     },
     "execution_count": 75,
     "metadata": {},
     "output_type": "execute_result"
    }
   ],
   "source": [
    "condition = test_df3['clean_sypnosis'].isin(X_test['clean_sypnosis'][:10])\n",
    "filtered_df = test_df3[condition]\n",
    "filtered_df[\"genre\"]"
   ]
  },
  {
   "cell_type": "markdown",
   "id": "261f0ee7",
   "metadata": {},
   "source": [
    "## Poly SVC"
   ]
  },
  {
   "cell_type": "code",
   "execution_count": 84,
   "id": "72d87c1d",
   "metadata": {},
   "outputs": [
    {
     "ename": "ValueError",
     "evalue": "Found input variables with inconsistent numbers of samples: [4624, 2149]",
     "output_type": "error",
     "traceback": [
      "\u001b[0;31m---------------------------------------------------------------------------\u001b[0m",
      "\u001b[0;31mValueError\u001b[0m                                Traceback (most recent call last)",
      "Cell \u001b[0;32mIn [84], line 1\u001b[0m\n\u001b[0;32m----> 1\u001b[0m X_train1, X_val1, y_train1, y_val1 \u001b[38;5;241m=\u001b[39m \u001b[43mtrain_test_split\u001b[49m\u001b[43m(\u001b[49m\u001b[43mmerged_df\u001b[49m\u001b[43m[\u001b[49m\u001b[38;5;124;43m'\u001b[39;49m\u001b[38;5;124;43mclean_sypnosis\u001b[39;49m\u001b[38;5;124;43m'\u001b[39;49m\u001b[43m]\u001b[49m\u001b[43m,\u001b[49m\u001b[43m \u001b[49m\u001b[43my\u001b[49m\u001b[43m,\u001b[49m\u001b[43m \u001b[49m\u001b[43mtest_size\u001b[49m\u001b[43m \u001b[49m\u001b[38;5;241;43m=\u001b[39;49m\u001b[43m \u001b[49m\u001b[38;5;241;43m0.3\u001b[39;49m\u001b[43m,\u001b[49m\u001b[43m \u001b[49m\u001b[43mrandom_state\u001b[49m\u001b[43m \u001b[49m\u001b[38;5;241;43m=\u001b[39;49m\u001b[43m \u001b[49m\u001b[38;5;241;43m0\u001b[39;49m\u001b[43m)\u001b[49m\n\u001b[1;32m      2\u001b[0m tfidf_vectorizer \u001b[38;5;241m=\u001b[39m TfidfVectorizer()\n\u001b[1;32m      3\u001b[0m X_train_tfidf1 \u001b[38;5;241m=\u001b[39m tfidf_vectorizer\u001b[38;5;241m.\u001b[39mfit_transform(X_train1)\n",
      "File \u001b[0;32m~/.pyenv/versions/3.10.6/envs/lewagon/lib/python3.10/site-packages/sklearn/model_selection/_split.py:2559\u001b[0m, in \u001b[0;36mtrain_test_split\u001b[0;34m(test_size, train_size, random_state, shuffle, stratify, *arrays)\u001b[0m\n\u001b[1;32m   2556\u001b[0m \u001b[38;5;28;01mif\u001b[39;00m n_arrays \u001b[38;5;241m==\u001b[39m \u001b[38;5;241m0\u001b[39m:\n\u001b[1;32m   2557\u001b[0m     \u001b[38;5;28;01mraise\u001b[39;00m \u001b[38;5;167;01mValueError\u001b[39;00m(\u001b[38;5;124m\"\u001b[39m\u001b[38;5;124mAt least one array required as input\u001b[39m\u001b[38;5;124m\"\u001b[39m)\n\u001b[0;32m-> 2559\u001b[0m arrays \u001b[38;5;241m=\u001b[39m \u001b[43mindexable\u001b[49m\u001b[43m(\u001b[49m\u001b[38;5;241;43m*\u001b[39;49m\u001b[43marrays\u001b[49m\u001b[43m)\u001b[49m\n\u001b[1;32m   2561\u001b[0m n_samples \u001b[38;5;241m=\u001b[39m _num_samples(arrays[\u001b[38;5;241m0\u001b[39m])\n\u001b[1;32m   2562\u001b[0m n_train, n_test \u001b[38;5;241m=\u001b[39m _validate_shuffle_split(\n\u001b[1;32m   2563\u001b[0m     n_samples, test_size, train_size, default_test_size\u001b[38;5;241m=\u001b[39m\u001b[38;5;241m0.25\u001b[39m\n\u001b[1;32m   2564\u001b[0m )\n",
      "File \u001b[0;32m~/.pyenv/versions/3.10.6/envs/lewagon/lib/python3.10/site-packages/sklearn/utils/validation.py:443\u001b[0m, in \u001b[0;36mindexable\u001b[0;34m(*iterables)\u001b[0m\n\u001b[1;32m    424\u001b[0m \u001b[38;5;124;03m\"\"\"Make arrays indexable for cross-validation.\u001b[39;00m\n\u001b[1;32m    425\u001b[0m \n\u001b[1;32m    426\u001b[0m \u001b[38;5;124;03mChecks consistent length, passes through None, and ensures that everything\u001b[39;00m\n\u001b[0;32m   (...)\u001b[0m\n\u001b[1;32m    439\u001b[0m \u001b[38;5;124;03m    sparse matrix, or dataframe) or `None`.\u001b[39;00m\n\u001b[1;32m    440\u001b[0m \u001b[38;5;124;03m\"\"\"\u001b[39;00m\n\u001b[1;32m    442\u001b[0m result \u001b[38;5;241m=\u001b[39m [_make_indexable(X) \u001b[38;5;28;01mfor\u001b[39;00m X \u001b[38;5;129;01min\u001b[39;00m iterables]\n\u001b[0;32m--> 443\u001b[0m \u001b[43mcheck_consistent_length\u001b[49m\u001b[43m(\u001b[49m\u001b[38;5;241;43m*\u001b[39;49m\u001b[43mresult\u001b[49m\u001b[43m)\u001b[49m\n\u001b[1;32m    444\u001b[0m \u001b[38;5;28;01mreturn\u001b[39;00m result\n",
      "File \u001b[0;32m~/.pyenv/versions/3.10.6/envs/lewagon/lib/python3.10/site-packages/sklearn/utils/validation.py:397\u001b[0m, in \u001b[0;36mcheck_consistent_length\u001b[0;34m(*arrays)\u001b[0m\n\u001b[1;32m    395\u001b[0m uniques \u001b[38;5;241m=\u001b[39m np\u001b[38;5;241m.\u001b[39munique(lengths)\n\u001b[1;32m    396\u001b[0m \u001b[38;5;28;01mif\u001b[39;00m \u001b[38;5;28mlen\u001b[39m(uniques) \u001b[38;5;241m>\u001b[39m \u001b[38;5;241m1\u001b[39m:\n\u001b[0;32m--> 397\u001b[0m     \u001b[38;5;28;01mraise\u001b[39;00m \u001b[38;5;167;01mValueError\u001b[39;00m(\n\u001b[1;32m    398\u001b[0m         \u001b[38;5;124m\"\u001b[39m\u001b[38;5;124mFound input variables with inconsistent numbers of samples: \u001b[39m\u001b[38;5;132;01m%r\u001b[39;00m\u001b[38;5;124m\"\u001b[39m\n\u001b[1;32m    399\u001b[0m         \u001b[38;5;241m%\u001b[39m [\u001b[38;5;28mint\u001b[39m(l) \u001b[38;5;28;01mfor\u001b[39;00m l \u001b[38;5;129;01min\u001b[39;00m lengths]\n\u001b[1;32m    400\u001b[0m     )\n",
      "\u001b[0;31mValueError\u001b[0m: Found input variables with inconsistent numbers of samples: [4624, 2149]"
     ]
    }
   ],
   "source": [
    "X_train1, X_val1, y_train1, y_val1 = train_test_split(merged_df['clean_sypnosis'], y, test_size = 0.3, random_state = 0)\n",
    "tfidf_vectorizer = TfidfVectorizer()\n",
    "X_train_tfidf1 = tfidf_vectorizer.fit_transform(X_train1)\n",
    "X_val_tfidf1 = tfidf_vectorizer.transform(X_val1)\n",
    "sgd = SGDClassifier()\n",
    "lr = LogisticRegression(C=1.0)\n",
    "svc = SVC(kernel='poly')\n",
    "nb = MultinomialNB()\n",
    "# One vs Restclassifier\n",
    "model = OneVsRestClassifier(svc)\n",
    "model.fit(X_train_tfidf1, y_train1)\n",
    "y_pred1 = model.predict(X_val_tfidf1)\n",
    "print(f'Accuracy score for SVC poly model is {accuracy_score(y_val1, y_pred1)}')\n",
    "print(f'F1 score for SVC poly model is {f1_score(y_val1, y_pred1, average=\"micro\")}')"
   ]
  },
  {
   "cell_type": "code",
   "execution_count": 80,
   "id": "f2301659",
   "metadata": {},
   "outputs": [
    {
     "name": "stderr",
     "output_type": "stream",
     "text": [
      "/home/yinghui/.pyenv/versions/3.10.6/envs/lewagon/lib/python3.10/site-packages/sklearn/multiclass.py:77: UserWarning: Label not 3 is present in all training examples.\n",
      "  warnings.warn(\n",
      "/home/yinghui/.pyenv/versions/3.10.6/envs/lewagon/lib/python3.10/site-packages/sklearn/multiclass.py:77: UserWarning: Label not 7 is present in all training examples.\n",
      "  warnings.warn(\n",
      "/home/yinghui/.pyenv/versions/3.10.6/envs/lewagon/lib/python3.10/site-packages/sklearn/multiclass.py:77: UserWarning: Label not 9 is present in all training examples.\n",
      "  warnings.warn(\n",
      "/home/yinghui/.pyenv/versions/3.10.6/envs/lewagon/lib/python3.10/site-packages/sklearn/multiclass.py:77: UserWarning: Label not 10 is present in all training examples.\n",
      "  warnings.warn(\n",
      "/home/yinghui/.pyenv/versions/3.10.6/envs/lewagon/lib/python3.10/site-packages/sklearn/multiclass.py:77: UserWarning: Label not 12 is present in all training examples.\n",
      "  warnings.warn(\n",
      "/home/yinghui/.pyenv/versions/3.10.6/envs/lewagon/lib/python3.10/site-packages/sklearn/multiclass.py:77: UserWarning: Label not 13 is present in all training examples.\n",
      "  warnings.warn(\n",
      "/home/yinghui/.pyenv/versions/3.10.6/envs/lewagon/lib/python3.10/site-packages/sklearn/multiclass.py:77: UserWarning: Label not 17 is present in all training examples.\n",
      "  warnings.warn(\n",
      "/home/yinghui/.pyenv/versions/3.10.6/envs/lewagon/lib/python3.10/site-packages/sklearn/multiclass.py:77: UserWarning: Label not 19 is present in all training examples.\n",
      "  warnings.warn(\n",
      "/home/yinghui/.pyenv/versions/3.10.6/envs/lewagon/lib/python3.10/site-packages/sklearn/multiclass.py:77: UserWarning: Label not 20 is present in all training examples.\n",
      "  warnings.warn(\n"
     ]
    },
    {
     "name": "stdout",
     "output_type": "stream",
     "text": [
      "Accuracy score for SVC poly model is 0.027906976744186046\n",
      "F1 score for SVC poly model is 0.1889055472263868\n"
     ]
    }
   ],
   "source": [
    "sgd = SGDClassifier()\n",
    "lr = LogisticRegression(C=1.0)\n",
    "svc = SVC(kernel='poly')\n",
    "nb = MultinomialNB()\n",
    "# One vs Restclassifier\n",
    "model = OneVsRestClassifier(svc)\n",
    "model.fit(X_train_vec, y_train)\n",
    "y_pred_sgd2 = model.predict(X_test_vec)\n",
    "print(f'Accuracy score for SVC poly model is {accuracy_score(y_test, y_pred_sgd2)}')\n",
    "print(f'F1 score for SVC poly model is {f1_score(y_test, y_pred_sgd2, average=\"micro\")}')"
   ]
  },
  {
   "cell_type": "code",
   "execution_count": 78,
   "id": "228b8f12",
   "metadata": {},
   "outputs": [
    {
     "ename": "ValueError",
     "evalue": "Found input variables with inconsistent numbers of samples: [4624, 2149]",
     "output_type": "error",
     "traceback": [
      "\u001b[0;31m---------------------------------------------------------------------------\u001b[0m",
      "\u001b[0;31mValueError\u001b[0m                                Traceback (most recent call last)",
      "Cell \u001b[0;32mIn [78], line 1\u001b[0m\n\u001b[0;32m----> 1\u001b[0m X_train1, X_val1, y_train1, y_val1 \u001b[38;5;241m=\u001b[39m \u001b[43mtrain_test_split\u001b[49m\u001b[43m(\u001b[49m\u001b[43mmerged_df\u001b[49m\u001b[43m[\u001b[49m\u001b[38;5;124;43m'\u001b[39;49m\u001b[38;5;124;43mclean_sypnosis\u001b[39;49m\u001b[38;5;124;43m'\u001b[39;49m\u001b[43m]\u001b[49m\u001b[43m,\u001b[49m\u001b[43m \u001b[49m\u001b[43my\u001b[49m\u001b[43m,\u001b[49m\u001b[43m \u001b[49m\u001b[43mtest_size\u001b[49m\u001b[43m \u001b[49m\u001b[38;5;241;43m=\u001b[39;49m\u001b[43m \u001b[49m\u001b[38;5;241;43m0.3\u001b[39;49m\u001b[43m,\u001b[49m\u001b[43m \u001b[49m\u001b[43mrandom_state\u001b[49m\u001b[43m \u001b[49m\u001b[38;5;241;43m=\u001b[39;49m\u001b[43m \u001b[49m\u001b[38;5;241;43m0\u001b[39;49m\u001b[43m)\u001b[49m\n\u001b[1;32m      2\u001b[0m tfidf_vectorizer \u001b[38;5;241m=\u001b[39m TfidfVectorizer()\n\u001b[1;32m      3\u001b[0m X_train_tfidf1 \u001b[38;5;241m=\u001b[39m tfidf_vectorizer\u001b[38;5;241m.\u001b[39mfit_transform(X_train1)\n",
      "File \u001b[0;32m~/.pyenv/versions/3.10.6/envs/lewagon/lib/python3.10/site-packages/sklearn/model_selection/_split.py:2559\u001b[0m, in \u001b[0;36mtrain_test_split\u001b[0;34m(test_size, train_size, random_state, shuffle, stratify, *arrays)\u001b[0m\n\u001b[1;32m   2556\u001b[0m \u001b[38;5;28;01mif\u001b[39;00m n_arrays \u001b[38;5;241m==\u001b[39m \u001b[38;5;241m0\u001b[39m:\n\u001b[1;32m   2557\u001b[0m     \u001b[38;5;28;01mraise\u001b[39;00m \u001b[38;5;167;01mValueError\u001b[39;00m(\u001b[38;5;124m\"\u001b[39m\u001b[38;5;124mAt least one array required as input\u001b[39m\u001b[38;5;124m\"\u001b[39m)\n\u001b[0;32m-> 2559\u001b[0m arrays \u001b[38;5;241m=\u001b[39m \u001b[43mindexable\u001b[49m\u001b[43m(\u001b[49m\u001b[38;5;241;43m*\u001b[39;49m\u001b[43marrays\u001b[49m\u001b[43m)\u001b[49m\n\u001b[1;32m   2561\u001b[0m n_samples \u001b[38;5;241m=\u001b[39m _num_samples(arrays[\u001b[38;5;241m0\u001b[39m])\n\u001b[1;32m   2562\u001b[0m n_train, n_test \u001b[38;5;241m=\u001b[39m _validate_shuffle_split(\n\u001b[1;32m   2563\u001b[0m     n_samples, test_size, train_size, default_test_size\u001b[38;5;241m=\u001b[39m\u001b[38;5;241m0.25\u001b[39m\n\u001b[1;32m   2564\u001b[0m )\n",
      "File \u001b[0;32m~/.pyenv/versions/3.10.6/envs/lewagon/lib/python3.10/site-packages/sklearn/utils/validation.py:443\u001b[0m, in \u001b[0;36mindexable\u001b[0;34m(*iterables)\u001b[0m\n\u001b[1;32m    424\u001b[0m \u001b[38;5;124;03m\"\"\"Make arrays indexable for cross-validation.\u001b[39;00m\n\u001b[1;32m    425\u001b[0m \n\u001b[1;32m    426\u001b[0m \u001b[38;5;124;03mChecks consistent length, passes through None, and ensures that everything\u001b[39;00m\n\u001b[0;32m   (...)\u001b[0m\n\u001b[1;32m    439\u001b[0m \u001b[38;5;124;03m    sparse matrix, or dataframe) or `None`.\u001b[39;00m\n\u001b[1;32m    440\u001b[0m \u001b[38;5;124;03m\"\"\"\u001b[39;00m\n\u001b[1;32m    442\u001b[0m result \u001b[38;5;241m=\u001b[39m [_make_indexable(X) \u001b[38;5;28;01mfor\u001b[39;00m X \u001b[38;5;129;01min\u001b[39;00m iterables]\n\u001b[0;32m--> 443\u001b[0m \u001b[43mcheck_consistent_length\u001b[49m\u001b[43m(\u001b[49m\u001b[38;5;241;43m*\u001b[39;49m\u001b[43mresult\u001b[49m\u001b[43m)\u001b[49m\n\u001b[1;32m    444\u001b[0m \u001b[38;5;28;01mreturn\u001b[39;00m result\n",
      "File \u001b[0;32m~/.pyenv/versions/3.10.6/envs/lewagon/lib/python3.10/site-packages/sklearn/utils/validation.py:397\u001b[0m, in \u001b[0;36mcheck_consistent_length\u001b[0;34m(*arrays)\u001b[0m\n\u001b[1;32m    395\u001b[0m uniques \u001b[38;5;241m=\u001b[39m np\u001b[38;5;241m.\u001b[39munique(lengths)\n\u001b[1;32m    396\u001b[0m \u001b[38;5;28;01mif\u001b[39;00m \u001b[38;5;28mlen\u001b[39m(uniques) \u001b[38;5;241m>\u001b[39m \u001b[38;5;241m1\u001b[39m:\n\u001b[0;32m--> 397\u001b[0m     \u001b[38;5;28;01mraise\u001b[39;00m \u001b[38;5;167;01mValueError\u001b[39;00m(\n\u001b[1;32m    398\u001b[0m         \u001b[38;5;124m\"\u001b[39m\u001b[38;5;124mFound input variables with inconsistent numbers of samples: \u001b[39m\u001b[38;5;132;01m%r\u001b[39;00m\u001b[38;5;124m\"\u001b[39m\n\u001b[1;32m    399\u001b[0m         \u001b[38;5;241m%\u001b[39m [\u001b[38;5;28mint\u001b[39m(l) \u001b[38;5;28;01mfor\u001b[39;00m l \u001b[38;5;129;01min\u001b[39;00m lengths]\n\u001b[1;32m    400\u001b[0m     )\n",
      "\u001b[0;31mValueError\u001b[0m: Found input variables with inconsistent numbers of samples: [4624, 2149]"
     ]
    }
   ],
   "source": [
    "X_train1, X_val1, y_train1, y_val1 = train_test_split(merged_df['clean_sypnosis'], y, test_size = 0.3, random_state = 0)\n",
    "tfidf_vectorizer = TfidfVectorizer()\n",
    "X_train_tfidf1 = tfidf_vectorizer.fit_transform(X_train1)\n",
    "X_val_tfidf1 = tfidf_vectorizer.transform(X_val1)\n",
    "sgd = SGDClassifier()\n",
    "lr = LogisticRegression(C=1.0)\n",
    "svc = SVC(kernel='poly')\n",
    "nb = MultinomialNB()\n",
    "# One vs Restclassifier\n",
    "model = OneVsRestClassifier(svc)\n",
    "model.fit(X_train_tfidf1, y_train1)\n",
    "y_pred1 = model.predict(X_val_tfidf1)\n",
    "print(f'Accuracy score for SVC poly model is {accuracy_score(y_val1, y_pred1)}')\n",
    "print(f'F1 score for SVC poly model is {f1_score(y_val1, y_pred1)}')"
   ]
  },
  {
   "cell_type": "markdown",
   "id": "0f0d7abe",
   "metadata": {},
   "source": [
    "## Label Powerset"
   ]
  },
  {
   "cell_type": "code",
   "execution_count": 81,
   "id": "e09e61d1",
   "metadata": {},
   "outputs": [
    {
     "name": "stderr",
     "output_type": "stream",
     "text": [
      "/home/yinghui/.pyenv/versions/3.10.6/envs/lewagon/lib/python3.10/site-packages/sklearn/base.py:413: UserWarning: X has feature names, but LogisticRegression was fitted without feature names\n",
      "  warnings.warn(\n"
     ]
    },
    {
     "name": "stdout",
     "output_type": "stream",
     "text": [
      "Accuracy =  0.24186046511627907\n",
      "F1 =  0.5335187760778859\n",
      "\n",
      "\n"
     ]
    }
   ],
   "source": [
    "# using Label Powerset\n",
    "from skmultilearn.problem_transform import LabelPowerset\n",
    "# initialize label powerset multi-label classifier\n",
    "classifier = LabelPowerset(LogisticRegression())\n",
    "# train\n",
    "classifier.fit(X_train_vec, y_train)\n",
    "# predict\n",
    "predictions_lp = classifier.predict(X_test_vec)\n",
    "# accuracy\n",
    "print(\"Accuracy = \",accuracy_score(y_test,predictions_lp))\n",
    "print(\"F1 = \",f1_score(y_test,predictions_lp, average=\"micro\"))\n",
    "print(\"\\n\")"
   ]
  },
  {
   "cell_type": "code",
   "execution_count": 82,
   "id": "571a2fa5",
   "metadata": {},
   "outputs": [
    {
     "data": {
      "text/plain": [
       "[('Adventure', 'Animation', 'Comedy'),\n",
       " ('Drama', 'Romance'),\n",
       " ('Crime', 'Drama', 'Mystery'),\n",
       " ('Action', 'Adventure', 'Sci-Fi'),\n",
       " ('Drama', 'Romance'),\n",
       " ('Crime', 'Drama', 'Thriller'),\n",
       " ('Drama', 'Romance'),\n",
       " ('Adventure', 'Animation', 'Comedy'),\n",
       " ('Adventure', 'Animation', 'Comedy'),\n",
       " ('Drama', 'Romance')]"
      ]
     },
     "execution_count": 82,
     "metadata": {},
     "output_type": "execute_result"
    }
   ],
   "source": [
    "multilabel_binarizer.inverse_transform(predictions_lp)[0:10]"
   ]
  },
  {
   "cell_type": "code",
   "execution_count": 83,
   "id": "f31aaaf0",
   "metadata": {},
   "outputs": [
    {
     "data": {
      "text/plain": [
       "32                 [Action, Adventure]\n",
       "317            [Action, Comedy, Crime]\n",
       "678       [Adventure, Romance, Sci-Fi]\n",
       "769      [Animation, Adventure, Drama]\n",
       "1053    [Animation, Adventure, Comedy]\n",
       "3415           [Action, Comedy, Crime]\n",
       "3925          [Comedy, Crime, Mystery]\n",
       "3950                  [Drama, Romance]\n",
       "3972                  [Drama, Romance]\n",
       "4016                  [Drama, Romance]\n",
       "Name: genre, dtype: object"
      ]
     },
     "execution_count": 83,
     "metadata": {},
     "output_type": "execute_result"
    }
   ],
   "source": [
    "condition = test_df3['clean_sypnosis'].isin(X_test['clean_sypnosis'][:10])\n",
    "filtered_df = test_df3[condition]\n",
    "filtered_df[\"genre\"]"
   ]
  },
  {
   "cell_type": "markdown",
   "id": "37255aef",
   "metadata": {},
   "source": [
    "## Classifier Chains"
   ]
  },
  {
   "cell_type": "code",
   "execution_count": null,
   "id": "437ee052",
   "metadata": {},
   "outputs": [],
   "source": [
    "# using classifier chains\n",
    "from skmultilearn.problem_transform import ClassifierChain\n",
    "\n",
    "# initialize classifier chains multi-label classifier\n",
    "classifier = ClassifierChain(LogisticRegression())\n",
    "# Training logistic regression model on train data\n",
    "classifier.fit(X_train_vec, y_train)\n",
    "# predict\n",
    "predictions = classifier.predict(X_test_vec)\n",
    "# accuracy\n",
    "print(\"Accuracy = \",accuracy_score(y_test,predictions))\n",
    "print(\"\\n\")"
   ]
  },
  {
   "cell_type": "code",
   "execution_count": null,
   "id": "ae243aea",
   "metadata": {},
   "outputs": [],
   "source": [
    "multilabel_binarizer.inverse_transform(predictions)[0:3]"
   ]
  },
  {
   "cell_type": "code",
   "execution_count": null,
   "id": "6e1cd099",
   "metadata": {},
   "outputs": [],
   "source": [
    "condition = test_df3['clean_sypnosis'].isin(X_test['clean_sypnosis'][:3])\n",
    "filtered_df = test_df3[condition]\n",
    "filtered_df[\"genre\"]"
   ]
  }
 ],
 "metadata": {
  "kernelspec": {
   "display_name": "Python 3 (ipykernel)",
   "language": "python",
   "name": "python3"
  },
  "language_info": {
   "codemirror_mode": {
    "name": "ipython",
    "version": 3
   },
   "file_extension": ".py",
   "mimetype": "text/x-python",
   "name": "python",
   "nbconvert_exporter": "python",
   "pygments_lexer": "ipython3",
   "version": "3.10.6"
  },
  "toc": {
   "base_numbering": 1,
   "nav_menu": {},
   "number_sections": true,
   "sideBar": true,
   "skip_h1_title": false,
   "title_cell": "Table of Contents",
   "title_sidebar": "Contents",
   "toc_cell": false,
   "toc_position": {},
   "toc_section_display": true,
   "toc_window_display": false
  }
 },
 "nbformat": 4,
 "nbformat_minor": 5
}
