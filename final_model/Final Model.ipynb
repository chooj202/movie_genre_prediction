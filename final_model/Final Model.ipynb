{
 "cells": [
  {
   "cell_type": "markdown",
   "id": "04a299f4-6d90-4703-be31-0b64cbd761f8",
   "metadata": {
    "id": "04a299f4-6d90-4703-be31-0b64cbd761f8"
   },
   "source": [
    "## IMPORTS"
   ]
  },
  {
   "cell_type": "code",
   "execution_count": 1,
   "id": "cee4ff3d-cf2b-4b80-9d5b-5e476d995206",
   "metadata": {
    "colab": {
     "base_uri": "https://localhost:8080/"
    },
    "id": "cee4ff3d-cf2b-4b80-9d5b-5e476d995206",
    "outputId": "469219eb-3341-40a8-feab-e6104973c436"
   },
   "outputs": [
    {
     "name": "stdout",
     "output_type": "stream",
     "text": [
      "Requirement already satisfied: datasets in /home/jessica/.pyenv/versions/3.10.6/envs/movie_genre_prediction/lib/python3.10/site-packages (2.14.4)\n",
      "Requirement already satisfied: transformers in /home/jessica/.pyenv/versions/3.10.6/envs/movie_genre_prediction/lib/python3.10/site-packages (4.31.0)\n",
      "Requirement already satisfied: numpy>=1.17 in /home/jessica/.pyenv/versions/3.10.6/envs/movie_genre_prediction/lib/python3.10/site-packages (from datasets) (1.23.5)\n",
      "Requirement already satisfied: pyarrow>=8.0.0 in /home/jessica/.pyenv/versions/3.10.6/envs/movie_genre_prediction/lib/python3.10/site-packages (from datasets) (12.0.1)\n",
      "Requirement already satisfied: dill<0.3.8,>=0.3.0 in /home/jessica/.pyenv/versions/3.10.6/envs/movie_genre_prediction/lib/python3.10/site-packages (from datasets) (0.3.7)\n",
      "Requirement already satisfied: pandas in /home/jessica/.pyenv/versions/3.10.6/envs/movie_genre_prediction/lib/python3.10/site-packages (from datasets) (1.5.3)\n",
      "Requirement already satisfied: requests>=2.19.0 in /home/jessica/.pyenv/versions/3.10.6/envs/movie_genre_prediction/lib/python3.10/site-packages (from datasets) (2.31.0)\n",
      "Requirement already satisfied: tqdm>=4.62.1 in /home/jessica/.pyenv/versions/3.10.6/envs/movie_genre_prediction/lib/python3.10/site-packages (from datasets) (4.66.1)\n",
      "Requirement already satisfied: xxhash in /home/jessica/.pyenv/versions/3.10.6/envs/movie_genre_prediction/lib/python3.10/site-packages (from datasets) (3.3.0)\n",
      "Requirement already satisfied: multiprocess in /home/jessica/.pyenv/versions/3.10.6/envs/movie_genre_prediction/lib/python3.10/site-packages (from datasets) (0.70.15)\n",
      "Requirement already satisfied: fsspec[http]>=2021.11.1 in /home/jessica/.pyenv/versions/3.10.6/envs/movie_genre_prediction/lib/python3.10/site-packages (from datasets) (2023.6.0)\n",
      "Requirement already satisfied: aiohttp in /home/jessica/.pyenv/versions/3.10.6/envs/movie_genre_prediction/lib/python3.10/site-packages (from datasets) (3.8.5)\n",
      "Requirement already satisfied: huggingface-hub<1.0.0,>=0.14.0 in /home/jessica/.pyenv/versions/3.10.6/envs/movie_genre_prediction/lib/python3.10/site-packages (from datasets) (0.16.4)\n",
      "Requirement already satisfied: packaging in /home/jessica/.pyenv/versions/3.10.6/envs/movie_genre_prediction/lib/python3.10/site-packages (from datasets) (23.1)\n",
      "Requirement already satisfied: pyyaml>=5.1 in /home/jessica/.pyenv/versions/3.10.6/envs/movie_genre_prediction/lib/python3.10/site-packages (from datasets) (6.0.1)\n",
      "Requirement already satisfied: filelock in /home/jessica/.pyenv/versions/3.10.6/envs/movie_genre_prediction/lib/python3.10/site-packages (from transformers) (3.12.2)\n",
      "Requirement already satisfied: regex!=2019.12.17 in /home/jessica/.pyenv/versions/3.10.6/envs/movie_genre_prediction/lib/python3.10/site-packages (from transformers) (2023.8.8)\n",
      "Requirement already satisfied: tokenizers!=0.11.3,<0.14,>=0.11.1 in /home/jessica/.pyenv/versions/3.10.6/envs/movie_genre_prediction/lib/python3.10/site-packages (from transformers) (0.13.3)\n",
      "Requirement already satisfied: safetensors>=0.3.1 in /home/jessica/.pyenv/versions/3.10.6/envs/movie_genre_prediction/lib/python3.10/site-packages (from transformers) (0.3.2)\n",
      "Requirement already satisfied: attrs>=17.3.0 in /home/jessica/.pyenv/versions/3.10.6/envs/movie_genre_prediction/lib/python3.10/site-packages (from aiohttp->datasets) (23.1.0)\n",
      "Requirement already satisfied: charset-normalizer<4.0,>=2.0 in /home/jessica/.pyenv/versions/3.10.6/envs/movie_genre_prediction/lib/python3.10/site-packages (from aiohttp->datasets) (3.2.0)\n",
      "Requirement already satisfied: multidict<7.0,>=4.5 in /home/jessica/.pyenv/versions/3.10.6/envs/movie_genre_prediction/lib/python3.10/site-packages (from aiohttp->datasets) (6.0.4)\n",
      "Requirement already satisfied: async-timeout<5.0,>=4.0.0a3 in /home/jessica/.pyenv/versions/3.10.6/envs/movie_genre_prediction/lib/python3.10/site-packages (from aiohttp->datasets) (4.0.3)\n",
      "Requirement already satisfied: yarl<2.0,>=1.0 in /home/jessica/.pyenv/versions/3.10.6/envs/movie_genre_prediction/lib/python3.10/site-packages (from aiohttp->datasets) (1.9.2)\n",
      "Requirement already satisfied: frozenlist>=1.1.1 in /home/jessica/.pyenv/versions/3.10.6/envs/movie_genre_prediction/lib/python3.10/site-packages (from aiohttp->datasets) (1.4.0)\n",
      "Requirement already satisfied: aiosignal>=1.1.2 in /home/jessica/.pyenv/versions/3.10.6/envs/movie_genre_prediction/lib/python3.10/site-packages (from aiohttp->datasets) (1.3.1)\n",
      "Requirement already satisfied: typing-extensions>=3.7.4.3 in /home/jessica/.pyenv/versions/3.10.6/envs/movie_genre_prediction/lib/python3.10/site-packages (from huggingface-hub<1.0.0,>=0.14.0->datasets) (4.5.0)\n",
      "Requirement already satisfied: idna<4,>=2.5 in /home/jessica/.pyenv/versions/3.10.6/envs/movie_genre_prediction/lib/python3.10/site-packages (from requests>=2.19.0->datasets) (2.10)\n",
      "Requirement already satisfied: urllib3<3,>=1.21.1 in /home/jessica/.pyenv/versions/3.10.6/envs/movie_genre_prediction/lib/python3.10/site-packages (from requests>=2.19.0->datasets) (1.26.16)\n",
      "Requirement already satisfied: certifi>=2017.4.17 in /home/jessica/.pyenv/versions/3.10.6/envs/movie_genre_prediction/lib/python3.10/site-packages (from requests>=2.19.0->datasets) (2023.7.22)\n",
      "Requirement already satisfied: python-dateutil>=2.8.1 in /home/jessica/.pyenv/versions/3.10.6/envs/movie_genre_prediction/lib/python3.10/site-packages (from pandas->datasets) (2.8.2)\n",
      "Requirement already satisfied: pytz>=2020.1 in /home/jessica/.pyenv/versions/3.10.6/envs/movie_genre_prediction/lib/python3.10/site-packages (from pandas->datasets) (2023.3)\n",
      "Requirement already satisfied: six>=1.5 in /home/jessica/.pyenv/versions/3.10.6/envs/movie_genre_prediction/lib/python3.10/site-packages (from python-dateutil>=2.8.1->pandas->datasets) (1.16.0)\n",
      "Requirement already satisfied: scikit-multilearn in /home/jessica/.pyenv/versions/3.10.6/envs/movie_genre_prediction/lib/python3.10/site-packages (0.2.0)\n",
      "Requirement already satisfied: accelerate in /home/jessica/.pyenv/versions/3.10.6/envs/movie_genre_prediction/lib/python3.10/site-packages (0.22.0)\n",
      "Collecting accelerate\n",
      "  Obtaining dependency information for accelerate from https://files.pythonhosted.org/packages/d9/92/2d3aecf9f4a192968035880be3e2fc8b48d541c7128f7c936f430d6f96da/accelerate-0.23.0-py3-none-any.whl.metadata\n",
      "  Downloading accelerate-0.23.0-py3-none-any.whl.metadata (18 kB)\n",
      "Requirement already satisfied: numpy>=1.17 in /home/jessica/.pyenv/versions/3.10.6/envs/movie_genre_prediction/lib/python3.10/site-packages (from accelerate) (1.23.5)\n",
      "Requirement already satisfied: packaging>=20.0 in /home/jessica/.pyenv/versions/3.10.6/envs/movie_genre_prediction/lib/python3.10/site-packages (from accelerate) (23.1)\n",
      "Requirement already satisfied: psutil in /home/jessica/.pyenv/versions/3.10.6/envs/movie_genre_prediction/lib/python3.10/site-packages (from accelerate) (5.9.5)\n",
      "Requirement already satisfied: pyyaml in /home/jessica/.pyenv/versions/3.10.6/envs/movie_genre_prediction/lib/python3.10/site-packages (from accelerate) (6.0.1)\n",
      "Requirement already satisfied: torch>=1.10.0 in /home/jessica/.pyenv/versions/3.10.6/envs/movie_genre_prediction/lib/python3.10/site-packages (from accelerate) (2.0.1)\n",
      "Requirement already satisfied: huggingface-hub in /home/jessica/.pyenv/versions/3.10.6/envs/movie_genre_prediction/lib/python3.10/site-packages (from accelerate) (0.16.4)\n",
      "Requirement already satisfied: filelock in /home/jessica/.pyenv/versions/3.10.6/envs/movie_genre_prediction/lib/python3.10/site-packages (from torch>=1.10.0->accelerate) (3.12.2)\n",
      "Requirement already satisfied: typing-extensions in /home/jessica/.pyenv/versions/3.10.6/envs/movie_genre_prediction/lib/python3.10/site-packages (from torch>=1.10.0->accelerate) (4.5.0)\n",
      "Requirement already satisfied: sympy in /home/jessica/.pyenv/versions/3.10.6/envs/movie_genre_prediction/lib/python3.10/site-packages (from torch>=1.10.0->accelerate) (1.12)\n",
      "Requirement already satisfied: networkx in /home/jessica/.pyenv/versions/3.10.6/envs/movie_genre_prediction/lib/python3.10/site-packages (from torch>=1.10.0->accelerate) (3.1)\n",
      "Requirement already satisfied: jinja2 in /home/jessica/.pyenv/versions/3.10.6/envs/movie_genre_prediction/lib/python3.10/site-packages (from torch>=1.10.0->accelerate) (3.1.2)\n",
      "Requirement already satisfied: nvidia-cuda-nvrtc-cu11==11.7.99 in /home/jessica/.pyenv/versions/3.10.6/envs/movie_genre_prediction/lib/python3.10/site-packages (from torch>=1.10.0->accelerate) (11.7.99)\n",
      "Requirement already satisfied: nvidia-cuda-runtime-cu11==11.7.99 in /home/jessica/.pyenv/versions/3.10.6/envs/movie_genre_prediction/lib/python3.10/site-packages (from torch>=1.10.0->accelerate) (11.7.99)\n",
      "Requirement already satisfied: nvidia-cuda-cupti-cu11==11.7.101 in /home/jessica/.pyenv/versions/3.10.6/envs/movie_genre_prediction/lib/python3.10/site-packages (from torch>=1.10.0->accelerate) (11.7.101)\n",
      "Requirement already satisfied: nvidia-cudnn-cu11==8.5.0.96 in /home/jessica/.pyenv/versions/3.10.6/envs/movie_genre_prediction/lib/python3.10/site-packages (from torch>=1.10.0->accelerate) (8.5.0.96)\n",
      "Requirement already satisfied: nvidia-cublas-cu11==11.10.3.66 in /home/jessica/.pyenv/versions/3.10.6/envs/movie_genre_prediction/lib/python3.10/site-packages (from torch>=1.10.0->accelerate) (11.10.3.66)\n",
      "Requirement already satisfied: nvidia-cufft-cu11==10.9.0.58 in /home/jessica/.pyenv/versions/3.10.6/envs/movie_genre_prediction/lib/python3.10/site-packages (from torch>=1.10.0->accelerate) (10.9.0.58)\n",
      "Requirement already satisfied: nvidia-curand-cu11==10.2.10.91 in /home/jessica/.pyenv/versions/3.10.6/envs/movie_genre_prediction/lib/python3.10/site-packages (from torch>=1.10.0->accelerate) (10.2.10.91)\n",
      "Requirement already satisfied: nvidia-cusolver-cu11==11.4.0.1 in /home/jessica/.pyenv/versions/3.10.6/envs/movie_genre_prediction/lib/python3.10/site-packages (from torch>=1.10.0->accelerate) (11.4.0.1)\n",
      "Requirement already satisfied: nvidia-cusparse-cu11==11.7.4.91 in /home/jessica/.pyenv/versions/3.10.6/envs/movie_genre_prediction/lib/python3.10/site-packages (from torch>=1.10.0->accelerate) (11.7.4.91)\n",
      "Requirement already satisfied: nvidia-nccl-cu11==2.14.3 in /home/jessica/.pyenv/versions/3.10.6/envs/movie_genre_prediction/lib/python3.10/site-packages (from torch>=1.10.0->accelerate) (2.14.3)\n",
      "Requirement already satisfied: nvidia-nvtx-cu11==11.7.91 in /home/jessica/.pyenv/versions/3.10.6/envs/movie_genre_prediction/lib/python3.10/site-packages (from torch>=1.10.0->accelerate) (11.7.91)\n",
      "Requirement already satisfied: triton==2.0.0 in /home/jessica/.pyenv/versions/3.10.6/envs/movie_genre_prediction/lib/python3.10/site-packages (from torch>=1.10.0->accelerate) (2.0.0)\n",
      "Requirement already satisfied: setuptools in /home/jessica/.pyenv/versions/3.10.6/envs/movie_genre_prediction/lib/python3.10/site-packages (from nvidia-cublas-cu11==11.10.3.66->torch>=1.10.0->accelerate) (63.2.0)\n",
      "Requirement already satisfied: wheel in /home/jessica/.pyenv/versions/3.10.6/envs/movie_genre_prediction/lib/python3.10/site-packages (from nvidia-cublas-cu11==11.10.3.66->torch>=1.10.0->accelerate) (0.41.0)\n",
      "Requirement already satisfied: cmake in /home/jessica/.pyenv/versions/3.10.6/envs/movie_genre_prediction/lib/python3.10/site-packages (from triton==2.0.0->torch>=1.10.0->accelerate) (3.27.2)\n",
      "Requirement already satisfied: lit in /home/jessica/.pyenv/versions/3.10.6/envs/movie_genre_prediction/lib/python3.10/site-packages (from triton==2.0.0->torch>=1.10.0->accelerate) (16.0.6)\n",
      "Requirement already satisfied: fsspec in /home/jessica/.pyenv/versions/3.10.6/envs/movie_genre_prediction/lib/python3.10/site-packages (from huggingface-hub->accelerate) (2023.6.0)\n",
      "Requirement already satisfied: requests in /home/jessica/.pyenv/versions/3.10.6/envs/movie_genre_prediction/lib/python3.10/site-packages (from huggingface-hub->accelerate) (2.31.0)\n",
      "Requirement already satisfied: tqdm>=4.42.1 in /home/jessica/.pyenv/versions/3.10.6/envs/movie_genre_prediction/lib/python3.10/site-packages (from huggingface-hub->accelerate) (4.66.1)\n",
      "Requirement already satisfied: MarkupSafe>=2.0 in /home/jessica/.pyenv/versions/3.10.6/envs/movie_genre_prediction/lib/python3.10/site-packages (from jinja2->torch>=1.10.0->accelerate) (2.1.3)\n",
      "Requirement already satisfied: charset-normalizer<4,>=2 in /home/jessica/.pyenv/versions/3.10.6/envs/movie_genre_prediction/lib/python3.10/site-packages (from requests->huggingface-hub->accelerate) (3.2.0)\n",
      "Requirement already satisfied: idna<4,>=2.5 in /home/jessica/.pyenv/versions/3.10.6/envs/movie_genre_prediction/lib/python3.10/site-packages (from requests->huggingface-hub->accelerate) (2.10)\n",
      "Requirement already satisfied: urllib3<3,>=1.21.1 in /home/jessica/.pyenv/versions/3.10.6/envs/movie_genre_prediction/lib/python3.10/site-packages (from requests->huggingface-hub->accelerate) (1.26.16)\n",
      "Requirement already satisfied: certifi>=2017.4.17 in /home/jessica/.pyenv/versions/3.10.6/envs/movie_genre_prediction/lib/python3.10/site-packages (from requests->huggingface-hub->accelerate) (2023.7.22)\n",
      "Requirement already satisfied: mpmath>=0.19 in /home/jessica/.pyenv/versions/3.10.6/envs/movie_genre_prediction/lib/python3.10/site-packages (from sympy->torch>=1.10.0->accelerate) (1.3.0)\n",
      "Downloading accelerate-0.23.0-py3-none-any.whl (258 kB)\n",
      "\u001b[2K   \u001b[90m━━━━━━━━━━━━━━━━━━━━━━━━━━━━━━━━━━━━━━━━\u001b[0m \u001b[32m258.1/258.1 kB\u001b[0m \u001b[31m2.8 MB/s\u001b[0m eta \u001b[36m0:00:00\u001b[0ma \u001b[36m0:00:01\u001b[0m\n",
      "\u001b[?25hInstalling collected packages: accelerate\n",
      "  Attempting uninstall: accelerate\n",
      "    Found existing installation: accelerate 0.22.0\n",
      "    Uninstalling accelerate-0.22.0:\n",
      "      Successfully uninstalled accelerate-0.22.0\n",
      "Successfully installed accelerate-0.23.0\n",
      "Requirement already satisfied: tensorflow in /home/jessica/.pyenv/versions/3.10.6/envs/movie_genre_prediction/lib/python3.10/site-packages (2.13.0)\n",
      "Requirement already satisfied: absl-py>=1.0.0 in /home/jessica/.pyenv/versions/3.10.6/envs/movie_genre_prediction/lib/python3.10/site-packages (from tensorflow) (1.4.0)\n",
      "Requirement already satisfied: astunparse>=1.6.0 in /home/jessica/.pyenv/versions/3.10.6/envs/movie_genre_prediction/lib/python3.10/site-packages (from tensorflow) (1.6.3)\n",
      "Requirement already satisfied: flatbuffers>=23.1.21 in /home/jessica/.pyenv/versions/3.10.6/envs/movie_genre_prediction/lib/python3.10/site-packages (from tensorflow) (23.5.26)\n",
      "Requirement already satisfied: gast<=0.4.0,>=0.2.1 in /home/jessica/.pyenv/versions/3.10.6/envs/movie_genre_prediction/lib/python3.10/site-packages (from tensorflow) (0.4.0)\n",
      "Requirement already satisfied: google-pasta>=0.1.1 in /home/jessica/.pyenv/versions/3.10.6/envs/movie_genre_prediction/lib/python3.10/site-packages (from tensorflow) (0.2.0)\n",
      "Requirement already satisfied: grpcio<2.0,>=1.24.3 in /home/jessica/.pyenv/versions/3.10.6/envs/movie_genre_prediction/lib/python3.10/site-packages (from tensorflow) (1.57.0)\n",
      "Requirement already satisfied: h5py>=2.9.0 in /home/jessica/.pyenv/versions/3.10.6/envs/movie_genre_prediction/lib/python3.10/site-packages (from tensorflow) (3.9.0)\n",
      "Requirement already satisfied: keras<2.14,>=2.13.1 in /home/jessica/.pyenv/versions/3.10.6/envs/movie_genre_prediction/lib/python3.10/site-packages (from tensorflow) (2.13.1)\n",
      "Requirement already satisfied: libclang>=13.0.0 in /home/jessica/.pyenv/versions/3.10.6/envs/movie_genre_prediction/lib/python3.10/site-packages (from tensorflow) (16.0.6)\n",
      "Requirement already satisfied: numpy<=1.24.3,>=1.22 in /home/jessica/.pyenv/versions/3.10.6/envs/movie_genre_prediction/lib/python3.10/site-packages (from tensorflow) (1.23.5)\n",
      "Requirement already satisfied: opt-einsum>=2.3.2 in /home/jessica/.pyenv/versions/3.10.6/envs/movie_genre_prediction/lib/python3.10/site-packages (from tensorflow) (3.3.0)\n",
      "Requirement already satisfied: packaging in /home/jessica/.pyenv/versions/3.10.6/envs/movie_genre_prediction/lib/python3.10/site-packages (from tensorflow) (23.1)\n",
      "Requirement already satisfied: protobuf!=4.21.0,!=4.21.1,!=4.21.2,!=4.21.3,!=4.21.4,!=4.21.5,<5.0.0dev,>=3.20.3 in /home/jessica/.pyenv/versions/3.10.6/envs/movie_genre_prediction/lib/python3.10/site-packages (from tensorflow) (4.24.0)\n",
      "Requirement already satisfied: setuptools in /home/jessica/.pyenv/versions/3.10.6/envs/movie_genre_prediction/lib/python3.10/site-packages (from tensorflow) (63.2.0)\n",
      "Requirement already satisfied: six>=1.12.0 in /home/jessica/.pyenv/versions/3.10.6/envs/movie_genre_prediction/lib/python3.10/site-packages (from tensorflow) (1.16.0)\n",
      "Requirement already satisfied: tensorboard<2.14,>=2.13 in /home/jessica/.pyenv/versions/3.10.6/envs/movie_genre_prediction/lib/python3.10/site-packages (from tensorflow) (2.13.0)\n",
      "Requirement already satisfied: tensorflow-estimator<2.14,>=2.13.0 in /home/jessica/.pyenv/versions/3.10.6/envs/movie_genre_prediction/lib/python3.10/site-packages (from tensorflow) (2.13.0)\n",
      "Requirement already satisfied: termcolor>=1.1.0 in /home/jessica/.pyenv/versions/3.10.6/envs/movie_genre_prediction/lib/python3.10/site-packages (from tensorflow) (2.3.0)\n",
      "Requirement already satisfied: typing-extensions<4.6.0,>=3.6.6 in /home/jessica/.pyenv/versions/3.10.6/envs/movie_genre_prediction/lib/python3.10/site-packages (from tensorflow) (4.5.0)\n",
      "Requirement already satisfied: wrapt>=1.11.0 in /home/jessica/.pyenv/versions/3.10.6/envs/movie_genre_prediction/lib/python3.10/site-packages (from tensorflow) (1.15.0)\n",
      "Requirement already satisfied: tensorflow-io-gcs-filesystem>=0.23.1 in /home/jessica/.pyenv/versions/3.10.6/envs/movie_genre_prediction/lib/python3.10/site-packages (from tensorflow) (0.33.0)\n",
      "Requirement already satisfied: wheel<1.0,>=0.23.0 in /home/jessica/.pyenv/versions/3.10.6/envs/movie_genre_prediction/lib/python3.10/site-packages (from astunparse>=1.6.0->tensorflow) (0.41.0)\n",
      "Requirement already satisfied: google-auth<3,>=1.6.3 in /home/jessica/.pyenv/versions/3.10.6/envs/movie_genre_prediction/lib/python3.10/site-packages (from tensorboard<2.14,>=2.13->tensorflow) (2.22.0)\n",
      "Requirement already satisfied: google-auth-oauthlib<1.1,>=0.5 in /home/jessica/.pyenv/versions/3.10.6/envs/movie_genre_prediction/lib/python3.10/site-packages (from tensorboard<2.14,>=2.13->tensorflow) (1.0.0)\n",
      "Requirement already satisfied: markdown>=2.6.8 in /home/jessica/.pyenv/versions/3.10.6/envs/movie_genre_prediction/lib/python3.10/site-packages (from tensorboard<2.14,>=2.13->tensorflow) (3.4.4)\n",
      "Requirement already satisfied: requests<3,>=2.21.0 in /home/jessica/.pyenv/versions/3.10.6/envs/movie_genre_prediction/lib/python3.10/site-packages (from tensorboard<2.14,>=2.13->tensorflow) (2.31.0)\n",
      "Requirement already satisfied: tensorboard-data-server<0.8.0,>=0.7.0 in /home/jessica/.pyenv/versions/3.10.6/envs/movie_genre_prediction/lib/python3.10/site-packages (from tensorboard<2.14,>=2.13->tensorflow) (0.7.1)\n",
      "Requirement already satisfied: werkzeug>=1.0.1 in /home/jessica/.pyenv/versions/3.10.6/envs/movie_genre_prediction/lib/python3.10/site-packages (from tensorboard<2.14,>=2.13->tensorflow) (2.3.7)\n",
      "Requirement already satisfied: cachetools<6.0,>=2.0.0 in /home/jessica/.pyenv/versions/3.10.6/envs/movie_genre_prediction/lib/python3.10/site-packages (from google-auth<3,>=1.6.3->tensorboard<2.14,>=2.13->tensorflow) (5.3.1)\n",
      "Requirement already satisfied: pyasn1-modules>=0.2.1 in /home/jessica/.pyenv/versions/3.10.6/envs/movie_genre_prediction/lib/python3.10/site-packages (from google-auth<3,>=1.6.3->tensorboard<2.14,>=2.13->tensorflow) (0.3.0)\n",
      "Requirement already satisfied: rsa<5,>=3.1.4 in /home/jessica/.pyenv/versions/3.10.6/envs/movie_genre_prediction/lib/python3.10/site-packages (from google-auth<3,>=1.6.3->tensorboard<2.14,>=2.13->tensorflow) (4.9)\n",
      "Requirement already satisfied: urllib3<2.0 in /home/jessica/.pyenv/versions/3.10.6/envs/movie_genre_prediction/lib/python3.10/site-packages (from google-auth<3,>=1.6.3->tensorboard<2.14,>=2.13->tensorflow) (1.26.16)\n",
      "Requirement already satisfied: requests-oauthlib>=0.7.0 in /home/jessica/.pyenv/versions/3.10.6/envs/movie_genre_prediction/lib/python3.10/site-packages (from google-auth-oauthlib<1.1,>=0.5->tensorboard<2.14,>=2.13->tensorflow) (1.3.1)\n",
      "Requirement already satisfied: charset-normalizer<4,>=2 in /home/jessica/.pyenv/versions/3.10.6/envs/movie_genre_prediction/lib/python3.10/site-packages (from requests<3,>=2.21.0->tensorboard<2.14,>=2.13->tensorflow) (3.2.0)\n",
      "Requirement already satisfied: idna<4,>=2.5 in /home/jessica/.pyenv/versions/3.10.6/envs/movie_genre_prediction/lib/python3.10/site-packages (from requests<3,>=2.21.0->tensorboard<2.14,>=2.13->tensorflow) (2.10)\n",
      "Requirement already satisfied: certifi>=2017.4.17 in /home/jessica/.pyenv/versions/3.10.6/envs/movie_genre_prediction/lib/python3.10/site-packages (from requests<3,>=2.21.0->tensorboard<2.14,>=2.13->tensorflow) (2023.7.22)\n",
      "Requirement already satisfied: MarkupSafe>=2.1.1 in /home/jessica/.pyenv/versions/3.10.6/envs/movie_genre_prediction/lib/python3.10/site-packages (from werkzeug>=1.0.1->tensorboard<2.14,>=2.13->tensorflow) (2.1.3)\n",
      "Requirement already satisfied: pyasn1<0.6.0,>=0.4.6 in /home/jessica/.pyenv/versions/3.10.6/envs/movie_genre_prediction/lib/python3.10/site-packages (from pyasn1-modules>=0.2.1->google-auth<3,>=1.6.3->tensorboard<2.14,>=2.13->tensorflow) (0.5.0)\n",
      "Requirement already satisfied: oauthlib>=3.0.0 in /home/jessica/.pyenv/versions/3.10.6/envs/movie_genre_prediction/lib/python3.10/site-packages (from requests-oauthlib>=0.7.0->google-auth-oauthlib<1.1,>=0.5->tensorboard<2.14,>=2.13->tensorflow) (3.2.2)\n",
      "Requirement already satisfied: keras in /home/jessica/.pyenv/versions/3.10.6/envs/movie_genre_prediction/lib/python3.10/site-packages (2.13.1)\n",
      "Requirement already satisfied: nltk in /home/jessica/.pyenv/versions/3.10.6/envs/movie_genre_prediction/lib/python3.10/site-packages (3.8.1)\n",
      "Requirement already satisfied: click in /home/jessica/.pyenv/versions/3.10.6/envs/movie_genre_prediction/lib/python3.10/site-packages (from nltk) (8.1.7)\n",
      "Requirement already satisfied: joblib in /home/jessica/.pyenv/versions/3.10.6/envs/movie_genre_prediction/lib/python3.10/site-packages (from nltk) (1.3.2)\n",
      "Requirement already satisfied: regex>=2021.8.3 in /home/jessica/.pyenv/versions/3.10.6/envs/movie_genre_prediction/lib/python3.10/site-packages (from nltk) (2023.8.8)\n",
      "Requirement already satisfied: tqdm in /home/jessica/.pyenv/versions/3.10.6/envs/movie_genre_prediction/lib/python3.10/site-packages (from nltk) (4.66.1)\n",
      "Requirement already satisfied: torch in /home/jessica/.pyenv/versions/3.10.6/envs/movie_genre_prediction/lib/python3.10/site-packages (2.0.1)\n",
      "Requirement already satisfied: filelock in /home/jessica/.pyenv/versions/3.10.6/envs/movie_genre_prediction/lib/python3.10/site-packages (from torch) (3.12.2)\n",
      "Requirement already satisfied: typing-extensions in /home/jessica/.pyenv/versions/3.10.6/envs/movie_genre_prediction/lib/python3.10/site-packages (from torch) (4.5.0)\n",
      "Requirement already satisfied: sympy in /home/jessica/.pyenv/versions/3.10.6/envs/movie_genre_prediction/lib/python3.10/site-packages (from torch) (1.12)\n",
      "Requirement already satisfied: networkx in /home/jessica/.pyenv/versions/3.10.6/envs/movie_genre_prediction/lib/python3.10/site-packages (from torch) (3.1)\n",
      "Requirement already satisfied: jinja2 in /home/jessica/.pyenv/versions/3.10.6/envs/movie_genre_prediction/lib/python3.10/site-packages (from torch) (3.1.2)\n",
      "Requirement already satisfied: nvidia-cuda-nvrtc-cu11==11.7.99 in /home/jessica/.pyenv/versions/3.10.6/envs/movie_genre_prediction/lib/python3.10/site-packages (from torch) (11.7.99)\n",
      "Requirement already satisfied: nvidia-cuda-runtime-cu11==11.7.99 in /home/jessica/.pyenv/versions/3.10.6/envs/movie_genre_prediction/lib/python3.10/site-packages (from torch) (11.7.99)\n",
      "Requirement already satisfied: nvidia-cuda-cupti-cu11==11.7.101 in /home/jessica/.pyenv/versions/3.10.6/envs/movie_genre_prediction/lib/python3.10/site-packages (from torch) (11.7.101)\n",
      "Requirement already satisfied: nvidia-cudnn-cu11==8.5.0.96 in /home/jessica/.pyenv/versions/3.10.6/envs/movie_genre_prediction/lib/python3.10/site-packages (from torch) (8.5.0.96)\n",
      "Requirement already satisfied: nvidia-cublas-cu11==11.10.3.66 in /home/jessica/.pyenv/versions/3.10.6/envs/movie_genre_prediction/lib/python3.10/site-packages (from torch) (11.10.3.66)\n",
      "Requirement already satisfied: nvidia-cufft-cu11==10.9.0.58 in /home/jessica/.pyenv/versions/3.10.6/envs/movie_genre_prediction/lib/python3.10/site-packages (from torch) (10.9.0.58)\n",
      "Requirement already satisfied: nvidia-curand-cu11==10.2.10.91 in /home/jessica/.pyenv/versions/3.10.6/envs/movie_genre_prediction/lib/python3.10/site-packages (from torch) (10.2.10.91)\n",
      "Requirement already satisfied: nvidia-cusolver-cu11==11.4.0.1 in /home/jessica/.pyenv/versions/3.10.6/envs/movie_genre_prediction/lib/python3.10/site-packages (from torch) (11.4.0.1)\n",
      "Requirement already satisfied: nvidia-cusparse-cu11==11.7.4.91 in /home/jessica/.pyenv/versions/3.10.6/envs/movie_genre_prediction/lib/python3.10/site-packages (from torch) (11.7.4.91)\n",
      "Requirement already satisfied: nvidia-nccl-cu11==2.14.3 in /home/jessica/.pyenv/versions/3.10.6/envs/movie_genre_prediction/lib/python3.10/site-packages (from torch) (2.14.3)\n",
      "Requirement already satisfied: nvidia-nvtx-cu11==11.7.91 in /home/jessica/.pyenv/versions/3.10.6/envs/movie_genre_prediction/lib/python3.10/site-packages (from torch) (11.7.91)\n",
      "Requirement already satisfied: triton==2.0.0 in /home/jessica/.pyenv/versions/3.10.6/envs/movie_genre_prediction/lib/python3.10/site-packages (from torch) (2.0.0)\n",
      "Requirement already satisfied: setuptools in /home/jessica/.pyenv/versions/3.10.6/envs/movie_genre_prediction/lib/python3.10/site-packages (from nvidia-cublas-cu11==11.10.3.66->torch) (63.2.0)\n",
      "Requirement already satisfied: wheel in /home/jessica/.pyenv/versions/3.10.6/envs/movie_genre_prediction/lib/python3.10/site-packages (from nvidia-cublas-cu11==11.10.3.66->torch) (0.41.0)\n",
      "Requirement already satisfied: cmake in /home/jessica/.pyenv/versions/3.10.6/envs/movie_genre_prediction/lib/python3.10/site-packages (from triton==2.0.0->torch) (3.27.2)\n",
      "Requirement already satisfied: lit in /home/jessica/.pyenv/versions/3.10.6/envs/movie_genre_prediction/lib/python3.10/site-packages (from triton==2.0.0->torch) (16.0.6)\n",
      "Requirement already satisfied: MarkupSafe>=2.0 in /home/jessica/.pyenv/versions/3.10.6/envs/movie_genre_prediction/lib/python3.10/site-packages (from jinja2->torch) (2.1.3)\n",
      "Requirement already satisfied: mpmath>=0.19 in /home/jessica/.pyenv/versions/3.10.6/envs/movie_genre_prediction/lib/python3.10/site-packages (from sympy->torch) (1.3.0)\n",
      "Requirement already satisfied: nvidia-tensorrt in /home/jessica/.pyenv/versions/3.10.6/envs/movie_genre_prediction/lib/python3.10/site-packages (99.0.0)\n",
      "Requirement already satisfied: tensorrt in /home/jessica/.pyenv/versions/3.10.6/envs/movie_genre_prediction/lib/python3.10/site-packages (from nvidia-tensorrt) (8.6.1)\n"
     ]
    }
   ],
   "source": [
    "!pip install datasets transformers\n",
    "!pip install scikit-multilearn\n",
    "!pip install accelerate -U\n",
    "!pip install tensorflow\n",
    "!pip install keras\n",
    "!pip install nltk\n",
    "!pip install torch\n",
    "!pip3 install nvidia-tensorrt"
   ]
  },
  {
   "cell_type": "code",
   "execution_count": 2,
   "id": "56148197-4294-4edb-9e31-53021e636f98",
   "metadata": {
    "id": "56148197-4294-4edb-9e31-53021e636f98"
   },
   "outputs": [
    {
     "name": "stderr",
     "output_type": "stream",
     "text": [
      "2023-09-18 15:11:04.919548: I tensorflow/core/platform/cpu_feature_guard.cc:182] This TensorFlow binary is optimized to use available CPU instructions in performance-critical operations.\n",
      "To enable the following instructions: AVX2 FMA, in other operations, rebuild TensorFlow with the appropriate compiler flags.\n",
      "2023-09-18 15:11:07.936986: W tensorflow/compiler/tf2tensorrt/utils/py_utils.cc:38] TF-TRT Warning: Could not find TensorRT\n",
      "/home/jessica/.pyenv/versions/3.10.6/envs/movie_genre_prediction/lib/python3.10/site-packages/tqdm/auto.py:21: TqdmWarning: IProgress not found. Please update jupyter and ipywidgets. See https://ipywidgets.readthedocs.io/en/stable/user_install.html\n",
      "  from .autonotebook import tqdm as notebook_tqdm\n"
     ]
    }
   ],
   "source": [
    "import pickle\n",
    "import pandas as pd\n",
    "import numpy as np\n",
    "import nltk\n",
    "import torch\n",
    "import string\n",
    "import os\n",
    "import tensorflow as tf\n",
    "import time\n",
    "import transformers\n",
    "from time import sleep\n",
    "from string import punctuation\n",
    "from sklearn import metrics\n",
    "from tensorflow.keras.applications.resnet50 import preprocess_input\n",
    "from tensorflow.keras import layers, models\n",
    "from transformers import AutoTokenizer, AutoModelForSequenceClassification, Trainer, TrainingArguments, TFBertModel\n",
    "from datasets import load_dataset, load_from_disk, DatasetDict, Dataset\n",
    "from nltk.corpus import stopwords\n",
    "from nltk.stem import WordNetLemmatizer\n",
    "from sklearn.preprocessing import MultiLabelBinarizer\n",
    "from sklearn.model_selection import train_test_split\n",
    "from tensorflow.keras.metrics import CategoricalAccuracy\n",
    "from tensorflow.keras.preprocessing.text import Tokenizer\n",
    "from tensorflow.keras.preprocessing.sequence import pad_sequences\n",
    "from tensorflow.keras.applications.resnet50 import ResNet50\n",
    "from tensorflow.keras.regularizers import l2\n",
    "from tqdm import tqdm\n",
    "from tensorflow.keras.preprocessing import image\n",
    "from tensorflow.keras.callbacks import EarlyStopping\n",
    "from PIL import Image, UnidentifiedImageError"
   ]
  },
  {
   "cell_type": "code",
   "execution_count": 4,
   "id": "DcCnE_ZonoQL",
   "metadata": {
    "id": "DcCnE_ZonoQL"
   },
   "outputs": [],
   "source": [
    "os.environ['CUDA_VISIBLE_DEVICES'] ='0'"
   ]
  },
  {
   "cell_type": "code",
   "execution_count": 31,
   "id": "lkCMqISZneeh",
   "metadata": {
    "colab": {
     "base_uri": "https://localhost:8080/"
    },
    "id": "lkCMqISZneeh",
    "outputId": "806ebe09-46fb-4b50-c62b-5508dc61d428"
   },
   "outputs": [
    {
     "name": "stdout",
     "output_type": "stream",
     "text": [
      "Drive already mounted at /content/drive; to attempt to forcibly remount, call drive.mount(\"/content/drive\", force_remount=True).\n"
     ]
    }
   ],
   "source": [
    "from google.colab import drive\n",
    "drive.mount('/content/drive')"
   ]
  },
  {
   "cell_type": "markdown",
   "id": "775b6d6d-285c-41d9-a411-15be01adb463",
   "metadata": {
    "id": "775b6d6d-285c-41d9-a411-15be01adb463"
   },
   "source": [
    "## LOADING DATASET"
   ]
  },
  {
   "cell_type": "code",
   "execution_count": 28,
   "id": "4mrIXk5D9OOn",
   "metadata": {
    "id": "4mrIXk5D9OOn"
   },
   "outputs": [],
   "source": [
    "# webscraping from imdb for 3000 movies from each genre and after dropping duplicates\n",
    "\n",
    "big_data = pd.read_csv('big_data.csv').drop(columns = 'Unnamed: 0')"
   ]
  },
  {
   "cell_type": "code",
   "execution_count": 17,
   "id": "682e731f-ffa4-4ce1-aed4-ce9dc474126b",
   "metadata": {},
   "outputs": [
    {
     "data": {
      "text/html": [
       "<div>\n",
       "<style scoped>\n",
       "    .dataframe tbody tr th:only-of-type {\n",
       "        vertical-align: middle;\n",
       "    }\n",
       "\n",
       "    .dataframe tbody tr th {\n",
       "        vertical-align: top;\n",
       "    }\n",
       "\n",
       "    .dataframe thead th {\n",
       "        text-align: right;\n",
       "    }\n",
       "</style>\n",
       "<table border=\"1\" class=\"dataframe\">\n",
       "  <thead>\n",
       "    <tr style=\"text-align: right;\">\n",
       "      <th></th>\n",
       "      <th>imdb_id</th>\n",
       "      <th>genre</th>\n",
       "      <th>plot</th>\n",
       "    </tr>\n",
       "  </thead>\n",
       "  <tbody>\n",
       "    <tr>\n",
       "      <th>0</th>\n",
       "      <td>tt1517268</td>\n",
       "      <td>['Adventure', 'Comedy', 'Fantasy']</td>\n",
       "      <td>barbie suffers a crisis that leads her to ques...</td>\n",
       "    </tr>\n",
       "    <tr>\n",
       "      <th>1</th>\n",
       "      <td>tt6791350</td>\n",
       "      <td>['Action', 'Adventure', 'Comedy']</td>\n",
       "      <td>still reeling from the loss of gamora peter qu...</td>\n",
       "    </tr>\n",
       "    <tr>\n",
       "      <th>2</th>\n",
       "      <td>tt9224104</td>\n",
       "      <td>['Action', 'Adventure', 'Horror']</td>\n",
       "      <td>a research team encounters multiple threats wh...</td>\n",
       "    </tr>\n",
       "    <tr>\n",
       "      <th>3</th>\n",
       "      <td>tt8589698</td>\n",
       "      <td>['Animation', 'Action', 'Adventure']</td>\n",
       "      <td>the film follows the turtle brothers as they w...</td>\n",
       "    </tr>\n",
       "    <tr>\n",
       "      <th>4</th>\n",
       "      <td>tt9362722</td>\n",
       "      <td>['Animation', 'Action', 'Adventure']</td>\n",
       "      <td>miles morales catapults across the multiverse ...</td>\n",
       "    </tr>\n",
       "  </tbody>\n",
       "</table>\n",
       "</div>"
      ],
      "text/plain": [
       "     imdb_id                                 genre  \\\n",
       "0  tt1517268    ['Adventure', 'Comedy', 'Fantasy']   \n",
       "1  tt6791350     ['Action', 'Adventure', 'Comedy']   \n",
       "2  tt9224104     ['Action', 'Adventure', 'Horror']   \n",
       "3  tt8589698  ['Animation', 'Action', 'Adventure']   \n",
       "4  tt9362722  ['Animation', 'Action', 'Adventure']   \n",
       "\n",
       "                                                plot  \n",
       "0  barbie suffers a crisis that leads her to ques...  \n",
       "1  still reeling from the loss of gamora peter qu...  \n",
       "2  a research team encounters multiple threats wh...  \n",
       "3  the film follows the turtle brothers as they w...  \n",
       "4  miles morales catapults across the multiverse ...  "
      ]
     },
     "execution_count": 17,
     "metadata": {},
     "output_type": "execute_result"
    }
   ],
   "source": [
    "big_data.head()"
   ]
  },
  {
   "cell_type": "code",
   "execution_count": 29,
   "id": "7791d401-01cd-46e8-805c-1857cf7aa17e",
   "metadata": {},
   "outputs": [],
   "source": [
    "big_data[\"genre\"] = (\n",
    "    big_data[\"genre\"]\n",
    "    .apply(eval)\n",
    "    .apply(lambda x: [genre.strip() for genre in x])\n",
    "    )"
   ]
  },
  {
   "cell_type": "code",
   "execution_count": 30,
   "id": "OjoyfrAkU5y3",
   "metadata": {
    "colab": {
     "base_uri": "https://localhost:8080/"
    },
    "id": "OjoyfrAkU5y3",
    "outputId": "93fb35b6-657f-4109-b727-eec0bdb0d381",
    "scrolled": true
   },
   "outputs": [
    {
     "data": {
      "text/plain": [
       "Drama         16371\n",
       "Comedy         9340\n",
       "Action         6113\n",
       "Adventure      5266\n",
       "Romance        4810\n",
       "Crime          4112\n",
       "Horror         3781\n",
       "Thriller       3401\n",
       "Biography      2973\n",
       "Animation      2908\n",
       "Family         2821\n",
       "Mystery        2613\n",
       "Music          2593\n",
       "History        2540\n",
       "Fantasy        2495\n",
       "Musical        2285\n",
       "Sci-Fi         2085\n",
       "Sport          2078\n",
       "War            1877\n",
       "Western         290\n",
       "Film-Noir       190\n",
       "Reality-TV        2\n",
       "News              1\n",
       "Name: genre, dtype: int64"
      ]
     },
     "execution_count": 30,
     "metadata": {},
     "output_type": "execute_result"
    }
   ],
   "source": [
    "# distribution of genres within dataset (very imbalanced)\n",
    "\n",
    "big_data['genre'].explode().value_counts()"
   ]
  },
  {
   "cell_type": "code",
   "execution_count": 31,
   "id": "2417fd7f-b80a-49cb-af73-45ede8ddb41a",
   "metadata": {
    "scrolled": true
   },
   "outputs": [
    {
     "data": {
      "text/plain": [
       "<Axes: >"
      ]
     },
     "execution_count": 31,
     "metadata": {},
     "output_type": "execute_result"
    },
    {
     "data": {
      "image/png": "[encoded data removed]",
      "text/plain": [
       "<Figure size 640x480 with 1 Axes>"
      ]
     },
     "metadata": {},
     "output_type": "display_data"
    }
   ],
   "source": [
    "# plotting distribution of genres within dataset\n",
    "\n",
    "big_data.genre.explode().value_counts().sort_values().plot(kind = 'barh')"
   ]
  },
  {
   "cell_type": "markdown",
   "id": "3bb97a01-3a01-4fd5-8783-6c6fe2dbef36",
   "metadata": {},
   "source": [
    "## BALANCING DATASET"
   ]
  },
  {
   "cell_type": "code",
   "execution_count": 32,
   "id": "d9fe9fdc-c2e8-4235-9b79-4900b7e309da",
   "metadata": {},
   "outputs": [],
   "source": [
    "# attempt to balance dataset by removing genres with very high and very low counts\n",
    "\n",
    "big_data[\"genre\"] = (\n",
    "    big_data[\"genre\"]\n",
    "    .apply(lambda x: [genre for genre in x if genre != 'Drama'])\n",
    "    .apply(lambda x: [genre for genre in x if genre != 'Reality-TV'])\n",
    "    .apply(lambda x: [genre for genre in x if genre != 'News'])\n",
    "    .apply(lambda x: [genre for genre in x if genre != 'Film-Noir'])\n",
    "    .apply(lambda x: [genre for genre in x if genre != 'Biography'])\n",
    "    .apply(lambda x: [genre for genre in x if genre != 'Musical'])\n",
    "    .apply(lambda x: [genre for genre in x if genre != 'Music'])\n",
    "    .apply(lambda x: [genre for genre in x if genre != 'Family'])\n",
    "    .apply(lambda x: [genre for genre in x if genre != 'Western'])\n",
    "    .apply(lambda x: [genre for genre in x if genre != 'Sport'])\n",
    "    .apply(lambda x: [genre for genre in x if genre != 'Sci-Fi'])\n",
    "    .apply(lambda x: [genre for genre in x if genre != 'Fantasy'])\n",
    "    .apply(lambda x: [genre for genre in x if genre != 'History'])\n",
    "    .apply(lambda x: [genre for genre in x if genre != 'Mystery'])\n",
    "    )"
   ]
  },
  {
   "cell_type": "code",
   "execution_count": 37,
   "id": "54d25389-b41a-4ce7-aed2-6ce4fe593913",
   "metadata": {},
   "outputs": [],
   "source": [
    "# remove movies which no longer have an assigned genre or are purely comedy or action (still slightly higher count than other genres)\n",
    "empty_list = []\n",
    "\n",
    "for index,row in big_data.iterrows():\n",
    "    if row['genre'] == [] or row['genre'] == ['Comedy'] or row['genre'] == ['Action']:\n",
    "        empty_list.append(row['imdb_id'])\n",
    "\n",
    "big_data = big_data.loc[~big_data['imdb_id'].isin(empty_list)]\n",
    "big_data = big_data.reset_index(drop = True)"
   ]
  },
  {
   "cell_type": "code",
   "execution_count": 36,
   "id": "ed62ed33-359d-42ec-a575-89b54f2a9059",
   "metadata": {
    "scrolled": true
   },
   "outputs": [
    {
     "data": {
      "text/plain": [
       "Comedy       5716\n",
       "Adventure    5266\n",
       "Action       5201\n",
       "Romance      4810\n",
       "Crime        4112\n",
       "Horror       3781\n",
       "Thriller     3401\n",
       "Animation    2908\n",
       "War          1877\n",
       "Name: genre, dtype: int64"
      ]
     },
     "execution_count": 36,
     "metadata": {},
     "output_type": "execute_result"
    }
   ],
   "source": [
    "# checking distribution of genres in new dataset, now it is more balanced\n",
    "\n",
    "big_data['genre'].explode().value_counts()"
   ]
  },
  {
   "cell_type": "code",
   "execution_count": null,
   "id": "23384c49-256b-446e-bf79-421517f25833",
   "metadata": {},
   "outputs": [],
   "source": [
    "# removing movies from dataset with corrupted posters\n",
    "\n",
    "corrupted_posters = []\n",
    "\n",
    "for index, row in tqdm(big_data.iterrows(), total=big_data.shape[0]):\n",
    "    try:\n",
    "        images_path = f\"/home/jessica/code/chooj202/movie_genre_prediction/notebooks/combined folder/{row['imdb_id']}.jpg\"\n",
    "        image = Image.open(images_path)\n",
    "    except:\n",
    "        corrupted_posters.append(row['imdb_id'])\n",
    "\n",
    "big_data = big_data[~big_data['imdb_id'].isin(corrupted_posters)]\n",
    "big_data = big_data.reset_index(drop = True)"
   ]
  },
  {
   "cell_type": "markdown",
   "id": "3f87e1c9-7547-49eb-8d41-bbbad1826cf6",
   "metadata": {},
   "source": [
    "## TEXT PREPROCESSING"
   ]
  },
  {
   "cell_type": "code",
   "execution_count": null,
   "id": "a6870d5b-b1d9-4fb7-9351-2433bfb46095",
   "metadata": {
    "id": "a6870d5b-b1d9-4fb7-9351-2433bfb46095"
   },
   "outputs": [],
   "source": [
    "# cleaning movie plots \n",
    "\n",
    "def cleaning(sentence):\n",
    "\n",
    "    # Basic cleaning\n",
    "    sentence = sentence.strip() ## remove whitespaces\n",
    "    sentence = sentence.lower() ## lowercase\n",
    "    sentence = ''.join(char for char in sentence if not char.isdigit()) ## remove numbers\n",
    "\n",
    "    # Advanced cleaning\n",
    "    for punctuation in string.punctuation:\n",
    "        sentence = sentence.replace(punctuation, '') ## remove punctuation\n",
    "\n",
    "    return sentence"
   ]
  },
  {
   "cell_type": "code",
   "execution_count": null,
   "id": "d3eae44f-33f2-4b7e-ad09-15ba8d9988c1",
   "metadata": {},
   "outputs": [],
   "source": [
    "big_data['plot'] = big_data['plot'].apply(cleaning)"
   ]
  },
  {
   "cell_type": "markdown",
   "id": "649330ae-01a3-44d4-9135-f4a73db9441b",
   "metadata": {},
   "source": [
    "## SPLITTING DATASET"
   ]
  },
  {
   "cell_type": "code",
   "execution_count": null,
   "id": "c3a32759-e107-4215-9d9e-b2f11896e976",
   "metadata": {
    "id": "c3a32759-e107-4215-9d9e-b2f11896e976"
   },
   "outputs": [],
   "source": [
    "# function to have more balanced split of genres as it is a multilabel dataset\n",
    "\n",
    "from skmultilearn.model_selection import iterative_train_test_split\n",
    "\n",
    "mlb = MultiLabelBinarizer()\n",
    "\n",
    "def balanced_split(df, mlb, test_size=0.5):\n",
    "    ind = np.expand_dims(np.arange(len(df)), axis=1)\n",
    "    mlb.fit_transform(df[\"Genre\"])\n",
    "    labels = mlb.transform(df[\"Genre\"])\n",
    "    ind_train, _, ind_test, _ = iterative_train_test_split(\n",
    "        ind, labels, test_size\n",
    "    )\n",
    "    return df.iloc[ind_train[:, 0]], df.iloc[ind_test[:, 0]]"
   ]
  },
  {
   "cell_type": "code",
   "execution_count": null,
   "id": "4b6caf7d-1289-4217-9815-6598ad4cce0a",
   "metadata": {
    "id": "4b6caf7d-1289-4217-9815-6598ad4cce0a"
   },
   "outputs": [],
   "source": [
    "df_train, df_test = balanced_split(big_data, mlb, test_size=0.2)"
   ]
  },
  {
   "cell_type": "code",
   "execution_count": null,
   "id": "qm5gvVqv1kJ7",
   "metadata": {
    "id": "qm5gvVqv1kJ7"
   },
   "outputs": [],
   "source": [
    "df_val, df_test = balanced_split(df_test, mlb, test_size=0.5)"
   ]
  },
  {
   "cell_type": "markdown",
   "id": "b3fbb104-006b-4a36-a127-6dd3e17bdc1e",
   "metadata": {},
   "source": [
    "## IMAGE PREPROCESSING"
   ]
  },
  {
   "cell_type": "code",
   "execution_count": null,
   "id": "15d4119e-d853-4db8-896c-9761e93e3de9",
   "metadata": {},
   "outputs": [],
   "source": [
    "# converting train dataset to array\n",
    "\n",
    "width, height = 256, 256\n",
    "image_array = []\n",
    "unidentified_count = 0\n",
    "not_found_count = 0\n",
    "for i in tqdm(range(df_train.shape[0])):\n",
    "    try:\n",
    "        image_path = f\"/home/jessica/code/chooj202/movie_genre_prediction/notebooks/combined folder/{df_train['imdb_id'][i]}.jpg\"\n",
    "        img = image.load_img(image_path, target_size=(width, height, 3))\n",
    "        input_arr = image.img_to_array(img)\n",
    "        image_array.append(input_arr)\n",
    "    except UnidentifiedImageError as e1:\n",
    "        unidentified_count += 1\n",
    "        pass\n",
    "    except FileNotFoundError as e2:\n",
    "        not_found_count += 1\n",
    "        pass\n",
    "        \n",
    "print(f\"{unidentified_count} files were unidentified and {not_found_count} files were not found\")\n",
    "train_imgs = np.array(image_array)"
   ]
  },
  {
   "cell_type": "code",
   "execution_count": null,
   "id": "76aa2036-fa5c-46a9-a409-550faecd0931",
   "metadata": {},
   "outputs": [],
   "source": [
    "# converting test dataset to array\n",
    "\n",
    "width, height = 256, 256\n",
    "image_array = []\n",
    "unidentified_count = 0\n",
    "not_found_count = 0\n",
    "for i in tqdm(range(df_test.shape[0])):\n",
    "    try:\n",
    "        image_path = f\"/home/jessica/code/chooj202/movie_genre_prediction/notebooks/combined folder/{df_test['imdb_id'][i]}.jpg\"\n",
    "        img = image.load_img(image_path, target_size=(width, height, 3))\n",
    "        input_arr = image.img_to_array(img)\n",
    "        image_array.append(input_arr)\n",
    "    except UnidentifiedImageError as e1:\n",
    "        unidentified_count += 1\n",
    "        pass\n",
    "    except FileNotFoundError as e2:\n",
    "        not_found_count += 1\n",
    "        pass\n",
    "        \n",
    "print(f\"{unidentified_count} files were unidentified and {not_found_count} files were not found\")\n",
    "test_imgs = np.array(image_array)"
   ]
  },
  {
   "cell_type": "code",
   "execution_count": null,
   "id": "4e86d154-f097-44c5-be4c-b32157e4b047",
   "metadata": {},
   "outputs": [],
   "source": [
    "# converting val dataset to array\n",
    "\n",
    "width, height = 256, 256\n",
    "image_array = []\n",
    "unidentified_count = 0\n",
    "not_found_count = 0\n",
    "for i in tqdm(range(df_val.shape[0])):\n",
    "    try:\n",
    "        image_path = f\"/home/jessica/code/chooj202/movie_genre_prediction/notebooks/combined folder/{df_val['imdb_id'][i]}.jpg\"\n",
    "        img = image.load_img(image_path, target_size=(width, height, 3))\n",
    "        input_arr = image.img_to_array(img)\n",
    "        image_array.append(input_arr)\n",
    "    except UnidentifiedImageError as e1:\n",
    "        unidentified_count += 1\n",
    "        pass\n",
    "    except FileNotFoundError as e2:\n",
    "        not_found_count += 1\n",
    "        pass\n",
    "        \n",
    "print(f\"{unidentified_count} files were unidentified and {not_found_count} files were not found\")\n",
    "val_imgs = np.array(image_array)"
   ]
  },
  {
   "cell_type": "markdown",
   "id": "2f8675c4-b9e2-4cff-a631-34d27e112c7a",
   "metadata": {},
   "source": [
    "## GENRE ENCODING"
   ]
  },
  {
   "cell_type": "code",
   "execution_count": 42,
   "id": "bef166f8-ab01-4195-a311-8f6f03759ecf",
   "metadata": {
    "id": "bef166f8-ab01-4195-a311-8f6f03759ecf"
   },
   "outputs": [],
   "source": [
    "# transform multi-label genre column into a binary matrix for multi-label classification\n",
    "# train dataset\n",
    "\n",
    "multilabel_binarizer = MultiLabelBinarizer()\n",
    "multilabel_binarizer.fit(df_train['genre'])\n",
    "\n",
    "#transform target variable\n",
    "y_train = multilabel_binarizer.transform(df_train['genre'])\n",
    "genre_names = multilabel_binarizer.classes_\n",
    "\n",
    "# Adding\n",
    "for i in range(len(genre_names)):\n",
    "    df_train[f\"{genre_names[i]}\"] = y_train[:,i]"
   ]
  },
  {
   "cell_type": "code",
   "execution_count": 43,
   "id": "728e6599-3415-46dc-b239-600bd7c2bdde",
   "metadata": {
    "id": "728e6599-3415-46dc-b239-600bd7c2bdde"
   },
   "outputs": [],
   "source": [
    "# test dataset\n",
    "\n",
    "multilabel_binarizer = MultiLabelBinarizer()\n",
    "multilabel_binarizer.fit(df_test['genre'])\n",
    "\n",
    "#transform target variable\n",
    "y_test = multilabel_binarizer.transform(df_test['genre'])\n",
    "genre_names = multilabel_binarizer.classes_\n",
    "\n",
    "# Adding\n",
    "for i in range(len(genre_names)):\n",
    "    df_test[f\"{genre_names[i]}\"] = y_test[:,i]"
   ]
  },
  {
   "cell_type": "code",
   "execution_count": 44,
   "id": "4fc8c9ed-8a71-45a5-95cf-930c4f5cd4d0",
   "metadata": {
    "id": "4fc8c9ed-8a71-45a5-95cf-930c4f5cd4d0"
   },
   "outputs": [],
   "source": [
    "# val dataset\n",
    "\n",
    "multilabel_binarizer = MultiLabelBinarizer()\n",
    "multilabel_binarizer.fit(df_val['genre'])\n",
    "\n",
    "#transform target variable\n",
    "y_val = multilabel_binarizer.transform(df_val['genre'])\n",
    "genre_names = multilabel_binarizer.classes_\n",
    "\n",
    "# Adding\n",
    "for i in range(len(genre_names)):\n",
    "    df_val[f\"{genre_names[i]}\"] = y_val[:,i]"
   ]
  },
  {
   "cell_type": "code",
   "execution_count": null,
   "id": "1LozZb1h4GM8",
   "metadata": {
    "colab": {
     "base_uri": "https://localhost:8080/"
    },
    "id": "1LozZb1h4GM8",
    "outputId": "190279e4-aa5f-4394-cb6a-4371397941f0"
   },
   "outputs": [
    {
     "data": {
      "text/plain": [
       "array(['Action', 'Adventure', 'Animation', 'Biography', 'Comedy', 'Crime',\n",
       "       'Horror', 'Romance', 'Thriller', 'War'], dtype=object)"
      ]
     },
     "execution_count": 49,
     "metadata": {},
     "output_type": "execute_result"
    }
   ],
   "source": [
    "genre_names"
   ]
  },
  {
   "cell_type": "markdown",
   "id": "201895e1-e852-42fb-94cc-b97ff1cb909c",
   "metadata": {},
   "source": [
    "## TOKENIZING TEXT"
   ]
  },
  {
   "cell_type": "code",
   "execution_count": 45,
   "id": "6bee42f0-ff91-4425-9a81-be42a00bbf79",
   "metadata": {
    "id": "6bee42f0-ff91-4425-9a81-be42a00bbf79"
   },
   "outputs": [],
   "source": [
    "tokenizer = AutoTokenizer.from_pretrained(\"bert-base-uncased\")\n",
    "\n",
    "train_text = df_train['plot'].to_list()"
   ]
  },
  {
   "cell_type": "code",
   "execution_count": 46,
   "id": "f7647cff-7ab8-4c19-9019-8ea03651fb44",
   "metadata": {
    "id": "f7647cff-7ab8-4c19-9019-8ea03651fb44"
   },
   "outputs": [],
   "source": [
    "tokenizer = AutoTokenizer.from_pretrained(\"bert-base-uncased\")\n",
    "\n",
    "test_text = df_test['plot'].to_list()"
   ]
  },
  {
   "cell_type": "code",
   "execution_count": 47,
   "id": "c3dc947a-07fb-46a1-9cdd-32a3b1c54371",
   "metadata": {
    "id": "c3dc947a-07fb-46a1-9cdd-32a3b1c54371"
   },
   "outputs": [],
   "source": [
    "tokenizer = AutoTokenizer.from_pretrained(\"bert-base-uncased\")\n",
    "\n",
    "val_text = df_val['plot'].to_list()"
   ]
  },
  {
   "cell_type": "code",
   "execution_count": 48,
   "id": "2ruTKb3mxD_3",
   "metadata": {
    "id": "2ruTKb3mxD_3"
   },
   "outputs": [],
   "source": [
    "train_encodings = tokenizer(train_text, truncation = True, padding = True, max_length = 128, return_tensors = \"np\")\n",
    "test_encodings = tokenizer(test_text, truncation = True, padding = True, max_length = 128, return_tensors = \"np\")\n",
    "val_encodings = tokenizer(val_text, truncation = True, padding = True, max_length = 128, return_tensors = \"np\")"
   ]
  },
  {
   "cell_type": "markdown",
   "id": "c0d0af82-5b91-4a89-9b98-520979e48fc9",
   "metadata": {},
   "source": [
    "## RESNET PREPROCESSING IMAGE ARRAYS"
   ]
  },
  {
   "cell_type": "code",
   "execution_count": 49,
   "id": "d1de147d-48fd-4d38-9a3c-7b8d669a8c4f",
   "metadata": {
    "id": "d1de147d-48fd-4d38-9a3c-7b8d669a8c4f"
   },
   "outputs": [],
   "source": [
    "train_imgs = preprocess_input(train_imgs)\n",
    "val_imgs = preprocess_input(val_imgs)\n",
    "test_imgs = preprocess_input(test_imgs)"
   ]
  },
  {
   "cell_type": "code",
   "execution_count": 50,
   "id": "WtfeSeJmtZzL",
   "metadata": {
    "id": "WtfeSeJmtZzL"
   },
   "outputs": [],
   "source": [
    "# defining variables \n",
    "\n",
    "X_train_img = train_imgs\n",
    "X_train_text = train_encodings['input_ids']\n",
    "y_train = y_train\n",
    "\n",
    "X_test_img = test_imgs\n",
    "X_test_text = test_encodings['input_ids']\n",
    "y_test = y_test\n",
    "\n",
    "X_val_img = val_imgs\n",
    "X_val_text = val_encodings['input_ids']\n",
    "y_val = y_val"
   ]
  },
  {
   "cell_type": "markdown",
   "id": "a337fde0-fa05-414b-b1dc-41e41e95ecc5",
   "metadata": {
    "id": "a337fde0-fa05-414b-b1dc-41e41e95ecc5"
   },
   "source": [
    "## RESNET 50"
   ]
  },
  {
   "cell_type": "code",
   "execution_count": 51,
   "id": "4379333a-2cb3-41a5-b98a-d369114b78e1",
   "metadata": {
    "id": "4379333a-2cb3-41a5-b98a-d369114b78e1"
   },
   "outputs": [],
   "source": [
    "def load_model():\n",
    "\n",
    "    model = ResNet50(weights=\"imagenet\", include_top=False, input_shape=(256, 256, 3))\n",
    "\n",
    "    return model"
   ]
  },
  {
   "cell_type": "code",
   "execution_count": 52,
   "id": "8a658a2e-990d-45e3-b585-fb7f36006c10",
   "metadata": {
    "id": "8a658a2e-990d-45e3-b585-fb7f36006c10"
   },
   "outputs": [],
   "source": [
    "def set_nontrainable_layers(model):\n",
    "    \n",
    "    model.trainable = False\n",
    "\n",
    "    return model"
   ]
  },
  {
   "cell_type": "code",
   "execution_count": 53,
   "id": "ac8ab489-4f22-4cdd-bcf6-631b7e86b1c8",
   "metadata": {
    "id": "ac8ab489-4f22-4cdd-bcf6-631b7e86b1c8"
   },
   "outputs": [],
   "source": [
    "def add_last_layers(model):\n",
    "\n",
    "    base_model = load_model()\n",
    "    base_model = set_nontrainable_layers(base_model)\n",
    "    pooling_layer = layers.AveragePooling2D()\n",
    "    dense_layer = layers.Dense(500, activation='relu')\n",
    "    drop_layer = layers.Dropout(0.4)\n",
    "    flatten_layer = layers.Flatten()\n",
    "    prediction_layer = layers.Dense(128, activation='relu')\n",
    "\n",
    "    model = models.Sequential([\n",
    "        base_model,\n",
    "        pooling_layer,\n",
    "        drop_layer,\n",
    "        flatten_layer,\n",
    "        prediction_layer\n",
    "    ])\n",
    "    \n",
    "    return model"
   ]
  },
  {
   "cell_type": "markdown",
   "id": "af3037b0-8881-4bae-87ea-5e45ffb8b67f",
   "metadata": {
    "id": "af3037b0-8881-4bae-87ea-5e45ffb8b67f"
   },
   "source": [
    "## BERT Model"
   ]
  },
  {
   "cell_type": "code",
   "execution_count": 54,
   "id": "22068806-d30a-4a99-bb57-8634b4a727a0",
   "metadata": {
    "id": "22068806-d30a-4a99-bb57-8634b4a727a0"
   },
   "outputs": [],
   "source": [
    "# define the BERT-based text feature extractor\n",
    "def build_text_model():\n",
    " bert_model = TFBertModel.from_pretrained('bert-base-uncased')\n",
    " inputs = tf.keras.layers.Input(shape=(None,), dtype=tf.int32, name='input_word_ids')\n",
    " outputs = bert_model(inputs)[1]\n",
    " text_model = tf.keras.Model(inputs=inputs, outputs=outputs)\n",
    " return text_model"
   ]
  },
  {
   "cell_type": "markdown",
   "id": "2b5e9b35-96f9-46ff-90d3-c47c7c0a42a7",
   "metadata": {
    "id": "2b5e9b35-96f9-46ff-90d3-c47c7c0a42a7"
   },
   "source": [
    "## Multimodal Model"
   ]
  },
  {
   "cell_type": "code",
   "execution_count": 55,
   "id": "fcd45939-8327-4f03-89e1-c8b6399e3bae",
   "metadata": {
    "id": "fcd45939-8327-4f03-89e1-c8b6399e3bae"
   },
   "outputs": [],
   "source": [
    "def build_multimodal_model(num_classes):\n",
    "    model = load_model()\n",
    "    model = set_nontrainable_layers(model)\n",
    "    img_model = add_last_layers(model)\n",
    "    text_model = build_text_model()\n",
    "    img_input = tf.keras.layers.Input(shape=(256, 256, 3), name='img_input')\n",
    "    text_input = tf.keras.layers.Input(shape=(None,), dtype=tf.int32, name='text_input')\n",
    "    img_features = img_model(img_input)\n",
    "    text_features = text_model(text_input)\n",
    "    concat_features = tf.keras.layers.concatenate([img_features, text_features])\n",
    "    x = tf.keras.layers.Dense(256, activation='relu')(concat_features)\n",
    "    x = tf.keras.layers.Dropout(0.3)(x)\n",
    "    x = tf.keras.layers.Dense(230, activation='relu')(x)\n",
    "    x = tf.keras.layers.Dense(num_classes, activation='sigmoid')(x)\n",
    "    multimodal_model = tf.keras.Model(inputs=[img_input, text_input], outputs=x)\n",
    "    return multimodal_model"
   ]
  },
  {
   "cell_type": "code",
   "execution_count": 56,
   "id": "025cb8dd-dedf-469f-b808-40ebf19ce74c",
   "metadata": {
    "colab": {
     "base_uri": "https://localhost:8080/"
    },
    "id": "025cb8dd-dedf-469f-b808-40ebf19ce74c",
    "outputId": "ccb206c9-0cac-4000-f344-74659353723e",
    "scrolled": true
   },
   "outputs": [
    {
     "name": "stderr",
     "output_type": "stream",
     "text": [
      "Some weights of the PyTorch model were not used when initializing the TF 2.0 model TFBertModel: ['cls.predictions.transform.dense.bias', 'cls.predictions.transform.dense.weight', 'cls.seq_relationship.weight', 'cls.seq_relationship.bias', 'cls.predictions.transform.LayerNorm.weight', 'cls.predictions.bias', 'cls.predictions.transform.LayerNorm.bias']\n",
      "- This IS expected if you are initializing TFBertModel from a PyTorch model trained on another task or with another architecture (e.g. initializing a TFBertForSequenceClassification model from a BertForPreTraining model).\n",
      "- This IS NOT expected if you are initializing TFBertModel from a PyTorch model that you expect to be exactly identical (e.g. initializing a TFBertForSequenceClassification model from a BertForSequenceClassification model).\n",
      "All the weights of TFBertModel were initialized from the PyTorch model.\n",
      "If your task is similar to the task the model of the checkpoint was trained on, you can already use TFBertModel for predictions without further training.\n"
     ]
    },
    {
     "name": "stdout",
     "output_type": "stream",
     "text": [
      "Model: \"model_3\"\n",
      "__________________________________________________________________________________________________\n",
      " Layer (type)                   Output Shape         Param #     Connected to                     \n",
      "==================================================================================================\n",
      " img_input (InputLayer)         [(None, 256, 256, 3  0           []                               \n",
      "                                )]                                                                \n",
      "                                                                                                  \n",
      " text_input (InputLayer)        [(None, None)]       0           []                               \n",
      "                                                                                                  \n",
      " sequential_1 (Sequential)      (None, 128)          27782144    ['img_input[0][0]']              \n",
      "                                                                                                  \n",
      " model_2 (Functional)           (None, 768)          109482240   ['text_input[0][0]']             \n",
      "                                                                                                  \n",
      " concatenate_1 (Concatenate)    (None, 896)          0           ['sequential_1[0][0]',           \n",
      "                                                                  'model_2[0][0]']                \n",
      "                                                                                                  \n",
      " dense_7 (Dense)                (None, 256)          229632      ['concatenate_1[0][0]']          \n",
      "                                                                                                  \n",
      " dropout_77 (Dropout)           (None, 256)          0           ['dense_7[0][0]']                \n",
      "                                                                                                  \n",
      " dense_8 (Dense)                (None, 230)          59110       ['dropout_77[0][0]']             \n",
      "                                                                                                  \n",
      " dense_9 (Dense)                (None, 10)           2310        ['dense_8[0][0]']                \n",
      "                                                                                                  \n",
      "==================================================================================================\n",
      "Total params: 137,555,436\n",
      "Trainable params: 113,967,724\n",
      "Non-trainable params: 23,587,712\n",
      "__________________________________________________________________________________________________\n"
     ]
    }
   ],
   "source": [
    "# build the multimodal model\n",
    "\n",
    "num_classes = 10\n",
    "multimodal_model = build_multimodal_model(num_classes)\n",
    "multimodal_model.summary()"
   ]
  },
  {
   "cell_type": "markdown",
   "id": "b9188f66-b68a-470d-8484-670be5c7b03e",
   "metadata": {},
   "source": [
    "## TRAIN"
   ]
  },
  {
   "cell_type": "code",
   "execution_count": 57,
   "id": "a91dd087-d74c-4e01-9f7e-ea03cc2118c2",
   "metadata": {
    "colab": {
     "base_uri": "https://localhost:8080/"
    },
    "id": "a91dd087-d74c-4e01-9f7e-ea03cc2118c2",
    "outputId": "6abfbe95-4718-46d6-d890-9541437265e9"
   },
   "outputs": [
    {
     "name": "stdout",
     "output_type": "stream",
     "text": [
      "Epoch 1/15\n",
      "1031/1031 [==============================] - 112s 88ms/step - loss: 0.3953 - accuracy: 0.3040 - auc: 0.7396 - binary_accuracy: 0.8422 - categorical_accuracy: 0.3040 - val_loss: 0.3777 - val_accuracy: 0.3296 - val_auc: 0.7690 - val_binary_accuracy: 0.8505 - val_categorical_accuracy: 0.3296\n",
      "Epoch 2/15\n",
      "1031/1031 [==============================] - 83s 80ms/step - loss: 0.3608 - accuracy: 0.3582 - auc: 0.7935 - binary_accuracy: 0.8530 - categorical_accuracy: 0.3582 - val_loss: 0.3671 - val_accuracy: 0.3529 - val_auc: 0.7945 - val_binary_accuracy: 0.8537 - val_categorical_accuracy: 0.3529\n",
      "Epoch 3/15\n",
      "1031/1031 [==============================] - 83s 81ms/step - loss: 0.3390 - accuracy: 0.3818 - auc: 0.8238 - binary_accuracy: 0.8606 - categorical_accuracy: 0.3818 - val_loss: 0.3578 - val_accuracy: 0.3964 - val_auc: 0.8060 - val_binary_accuracy: 0.8577 - val_categorical_accuracy: 0.3964\n",
      "Epoch 4/15\n",
      "1031/1031 [==============================] - 82s 80ms/step - loss: 0.3200 - accuracy: 0.4106 - auc: 0.8471 - binary_accuracy: 0.8686 - categorical_accuracy: 0.4106 - val_loss: 0.3652 - val_accuracy: 0.3325 - val_auc: 0.7987 - val_binary_accuracy: 0.8544 - val_categorical_accuracy: 0.3325\n",
      "Epoch 5/15\n",
      "1031/1031 [==============================] - 83s 80ms/step - loss: 0.3026 - accuracy: 0.4331 - auc: 0.8666 - binary_accuracy: 0.8750 - categorical_accuracy: 0.4331 - val_loss: 0.3598 - val_accuracy: 0.3838 - val_auc: 0.7967 - val_binary_accuracy: 0.8575 - val_categorical_accuracy: 0.3838\n",
      "Epoch 6/15\n",
      "1031/1031 [==============================] - 83s 80ms/step - loss: 0.2896 - accuracy: 0.4490 - auc: 0.8794 - binary_accuracy: 0.8808 - categorical_accuracy: 0.4490 - val_loss: 0.3645 - val_accuracy: 0.3446 - val_auc: 0.7955 - val_binary_accuracy: 0.8563 - val_categorical_accuracy: 0.3446\n",
      "Epoch 7/15\n",
      "1031/1031 [==============================] - 83s 80ms/step - loss: 0.2773 - accuracy: 0.4662 - auc: 0.8913 - binary_accuracy: 0.8860 - categorical_accuracy: 0.4662 - val_loss: 0.3759 - val_accuracy: 0.3267 - val_auc: 0.7929 - val_binary_accuracy: 0.8511 - val_categorical_accuracy: 0.3267\n",
      "Epoch 8/15\n",
      "1031/1031 [==============================] - ETA: 0s - loss: 0.2677 - accuracy: 0.4773 - auc: 0.8996 - binary_accuracy: 0.8890 - categorical_accuracy: 0.4773Restoring model weights from the end of the best epoch: 3.\n",
      "1031/1031 [==============================] - 83s 81ms/step - loss: 0.2677 - accuracy: 0.4773 - auc: 0.8996 - binary_accuracy: 0.8890 - categorical_accuracy: 0.4773 - val_loss: 0.3689 - val_accuracy: 0.3591 - val_auc: 0.7972 - val_binary_accuracy: 0.8549 - val_categorical_accuracy: 0.3591\n",
      "Epoch 8: early stopping\n"
     ]
    }
   ],
   "source": [
    "multimodal_model.compile(optimizer='adam', loss='binary_crossentropy', metrics=['accuracy', 'AUC', 'binary_accuracy', 'categorical_accuracy'])\n",
    "\n",
    "es = EarlyStopping(monitor = 'val_accuracy',\n",
    "                   mode = 'max',\n",
    "                   patience = 5,\n",
    "                   verbose = 1,\n",
    "                   restore_best_weights = True)\n",
    "\n",
    "history = multimodal_model.fit([(X_train_img, X_train_text)], tf.convert_to_tensor(y_train), epochs=15, batch_size=16, validation_data=([(X_val_img, X_val_text)], tf.convert_to_tensor(y_val)), callbacks = [es])"
   ]
  },
  {
   "cell_type": "code",
   "execution_count": 58,
   "id": "eVkff5btuPm7",
   "metadata": {
    "colab": {
     "base_uri": "https://localhost:8080/"
    },
    "id": "eVkff5btuPm7",
    "outputId": "16482743-a7d0-4692-a772-8e567440d041"
   },
   "outputs": [
    {
     "name": "stdout",
     "output_type": "stream",
     "text": [
      "66/66 [==============================] - 8s 62ms/step - loss: 0.3560 - accuracy: 0.3966 - auc: 0.8102 - binary_accuracy: 0.8558 - categorical_accuracy: 0.3966\n"
     ]
    },
    {
     "data": {
      "text/plain": [
       "[0.355996310710907,\n",
       " 0.39664268493652344,\n",
       " 0.8102328181266785,\n",
       " 0.8558272123336792,\n",
       " 0.39664268493652344]"
      ]
     },
     "execution_count": 58,
     "metadata": {},
     "output_type": "execute_result"
    }
   ],
   "source": [
    "res = multimodal_model.evaluate([X_test_img, X_test_text], y_test)\n",
    "res"
   ]
  },
  {
   "cell_type": "markdown",
   "id": "7c058a77-f0c4-4017-af44-ec979843b26c",
   "metadata": {},
   "source": [
    "## PREDICT"
   ]
  },
  {
   "cell_type": "code",
   "execution_count": 60,
   "id": "GyyokOgnw8US",
   "metadata": {
    "colab": {
     "base_uri": "https://localhost:8080/"
    },
    "id": "GyyokOgnw8US",
    "outputId": "2d0e490d-7234-4784-bca7-566fba1554aa",
    "scrolled": true
   },
   "outputs": [
    {
     "name": "stdout",
     "output_type": "stream",
     "text": [
      "66/66 [==============================] - 8s 61ms/step\n"
     ]
    },
    {
     "data": {
      "text/plain": [
       "array([[0.06425511, 0.17744265, 0.16454493, ..., 0.35914072, 0.00414637,\n",
       "        0.02399335],\n",
       "       [0.8974854 , 0.4444308 , 0.01835206, ..., 0.03192666, 0.14893109,\n",
       "        0.1146777 ],\n",
       "       [0.658997  , 0.7423241 , 0.8850689 , ..., 0.01351897, 0.01570129,\n",
       "        0.00516212],\n",
       "       ...,\n",
       "       [0.59350073, 0.3635155 , 0.01392024, ..., 0.1161297 , 0.1247765 ,\n",
       "        0.3406417 ],\n",
       "       [0.17532831, 0.17815909, 0.02973064, ..., 0.39272863, 0.07363321,\n",
       "        0.2563917 ],\n",
       "       [0.87789637, 0.2983511 , 0.00306599, ..., 0.03124093, 0.25882548,\n",
       "        0.1714433 ]], dtype=float32)"
      ]
     },
     "execution_count": 60,
     "metadata": {},
     "output_type": "execute_result"
    }
   ],
   "source": [
    "y_pred = multimodal_model.predict([X_test_img, X_test_text], verbose=1)\n",
    "\n",
    "y_pred"
   ]
  },
  {
   "cell_type": "markdown",
   "id": "fa1bc448-4e01-46d3-87ad-52772fc7b057",
   "metadata": {},
   "source": [
    "## COMPARING PREDICTIONS"
   ]
  },
  {
   "cell_type": "code",
   "execution_count": 114,
   "id": "synrFAgGK4WV",
   "metadata": {
    "colab": {
     "base_uri": "https://localhost:8080/"
    },
    "id": "synrFAgGK4WV",
    "outputId": "a8aac527-b7e4-49a4-bf4f-41fffbb90e3a"
   },
   "outputs": [
    {
     "data": {
      "text/plain": [
       "[('Comedy', 'Romance'),\n",
       " ('Action', 'Adventure'),\n",
       " ('Comedy', 'Romance'),\n",
       " ('Action', 'Crime'),\n",
       " ('Comedy', 'Romance'),\n",
       " ('Comedy', 'Romance'),\n",
       " ('Comedy', 'Romance'),\n",
       " ('Horror',),\n",
       " ('Action', 'Adventure', 'Comedy'),\n",
       " ('Comedy',)]"
      ]
     },
     "execution_count": 114,
     "metadata": {},
     "output_type": "execute_result"
    }
   ],
   "source": [
    "multilabel_binarizer.inverse_transform(np.where(y_pred > 0.3, 1,0))[870:880]"
   ]
  },
  {
   "cell_type": "code",
   "execution_count": 115,
   "id": "IAHHqHlaMUsC",
   "metadata": {
    "colab": {
     "base_uri": "https://localhost:8080/"
    },
    "id": "IAHHqHlaMUsC",
    "outputId": "f69b17a6-2a2f-4122-95ae-f9ff7ad03a1b",
    "scrolled": true
   },
   "outputs": [
    {
     "data": {
      "text/plain": [
       "[('Comedy',),\n",
       " ('Action', 'Comedy'),\n",
       " ('Comedy',),\n",
       " ('Comedy', 'Romance'),\n",
       " ('Comedy', 'Horror'),\n",
       " ('Comedy', 'Crime', 'Romance'),\n",
       " ('Comedy', 'Crime'),\n",
       " ('Comedy', 'War'),\n",
       " ('Comedy',),\n",
       " ('Comedy',)]"
      ]
     },
     "execution_count": 115,
     "metadata": {},
     "output_type": "execute_result"
    }
   ],
   "source": [
    "multilabel_binarizer.inverse_transform(y_test)[870:880]"
   ]
  },
  {
   "cell_type": "markdown",
   "id": "aab04c81-bef4-415e-a938-ed93153550ef",
   "metadata": {},
   "source": [
    "## CUSTOM FUNCTIONS TO EVALUATE NUMBER OF MATCHES"
   ]
  },
  {
   "cell_type": "code",
   "execution_count": 63,
   "id": "MesTywawmVi8",
   "metadata": {
    "id": "MesTywawmVi8"
   },
   "outputs": [],
   "source": [
    "def atleastOneMatch(y_true, y_pred):\n",
    "    total_count=len(y_true)\n",
    "    total_match=0\n",
    "    for i in range(0, len(y_true)):\n",
    "        if(np.any(y_true[i][y_pred[i]==1])):\n",
    "            total_match+=1\n",
    "    return total_match/total_count\n",
    "\n",
    "def allMatch(y_true, y_pred):\n",
    "    total_count=len(y_true)\n",
    "    total_match=0\n",
    "    for i in range(y_true.shape[0]):\n",
    "        if(np.all(y_true[i]==y_pred[i])):\n",
    "            total_match+=1\n",
    "    return total_match/total_count"
   ]
  },
  {
   "cell_type": "code",
   "execution_count": 64,
   "id": "dRJVT95XmnM_",
   "metadata": {
    "colab": {
     "base_uri": "https://localhost:8080/"
    },
    "id": "dRJVT95XmnM_",
    "outputId": "93e5e7ca-b1d3-4096-b07f-c49d426cef14"
   },
   "outputs": [
    {
     "data": {
      "text/plain": [
       "0.7189448441247003"
      ]
     },
     "execution_count": 64,
     "metadata": {},
     "output_type": "execute_result"
    }
   ],
   "source": [
    "atleastOneMatch(y_test, np.where(y_pred > 0.3, 1,0))"
   ]
  },
  {
   "cell_type": "code",
   "execution_count": 65,
   "id": "V0ESft39m-I0",
   "metadata": {
    "colab": {
     "base_uri": "https://localhost:8080/"
    },
    "id": "V0ESft39m-I0",
    "outputId": "6e49a292-eec6-46eb-a0f9-37eb53fd0a1c"
   },
   "outputs": [
    {
     "data": {
      "text/plain": [
       "0.12422062350119904"
      ]
     },
     "execution_count": 65,
     "metadata": {},
     "output_type": "execute_result"
    }
   ],
   "source": [
    "allMatch(y_test, np.where(y_pred > 0.3, 1,0))"
   ]
  },
  {
   "cell_type": "code",
   "execution_count": 66,
   "id": "btbxlvitnMWL",
   "metadata": {
    "id": "btbxlvitnMWL"
   },
   "outputs": [],
   "source": [
    "def accuracy_score(y_true, y_pred):\n",
    "    y_pred = np.concatenate(tuple(y_pred))\n",
    "    y_true = np.concatenate(tuple([[t for t in y] for y in y_true])).reshape(y_pred.shape)\n",
    "    return (y_true == y_pred).sum() / float(len(y_true))"
   ]
  },
  {
   "cell_type": "code",
   "execution_count": 67,
   "id": "kn1fRp7rnOjY",
   "metadata": {
    "colab": {
     "base_uri": "https://localhost:8080/"
    },
    "id": "kn1fRp7rnOjY",
    "outputId": "7e1e70b0-fa4a-4273-bab3-6333dccf9ef3"
   },
   "outputs": [
    {
     "data": {
      "text/plain": [
       "0.8005755395683454"
      ]
     },
     "execution_count": 67,
     "metadata": {},
     "output_type": "execute_result"
    }
   ],
   "source": [
    "accuracy_score(y_test, np.where(y_pred > 0.3, 1,0))"
   ]
  },
  {
   "cell_type": "markdown",
   "id": "759333c7-139e-4d87-9728-6aca939f028c",
   "metadata": {},
   "source": [
    "## CLASSIFICATION REPORT"
   ]
  },
  {
   "cell_type": "code",
   "execution_count": 69,
   "id": "z1R39Iw7ujWm",
   "metadata": {
    "colab": {
     "base_uri": "https://localhost:8080/"
    },
    "id": "z1R39Iw7ujWm",
    "outputId": "66db8f04-223f-4e89-cae8-5efc86ce5a07",
    "scrolled": true
   },
   "outputs": [
    {
     "name": "stdout",
     "output_type": "stream",
     "text": [
      "              precision    recall  f1-score   support\n",
      "\n",
      "      Action       0.39      0.79      0.52       463\n",
      "   Adventure       0.41      0.56      0.47       405\n",
      "   Animation       0.75      0.64      0.69       191\n",
      "   Biography       0.50      0.02      0.05       204\n",
      "      Comedy       0.54      0.85      0.66       725\n",
      "       Crime       0.33      0.51      0.40       326\n",
      "      Horror       0.41      0.63      0.50       284\n",
      "     Romance       0.33      0.65      0.43       373\n",
      "    Thriller       0.30      0.39      0.34       251\n",
      "         War       0.38      0.13      0.19       148\n",
      "\n",
      "   micro avg       0.42      0.61      0.50      3370\n",
      "   macro avg       0.43      0.52      0.43      3370\n",
      "weighted avg       0.43      0.61      0.47      3370\n",
      " samples avg       0.43      0.60      0.47      3370\n",
      "\n"
     ]
    },
    {
     "name": "stderr",
     "output_type": "stream",
     "text": [
      "/usr/local/lib/python3.10/dist-packages/sklearn/metrics/_classification.py:1344: UndefinedMetricWarning: Precision and F-score are ill-defined and being set to 0.0 in samples with no predicted labels. Use `zero_division` parameter to control this behavior.\n",
      "  _warn_prf(average, modifier, msg_start, len(result))\n"
     ]
    }
   ],
   "source": [
    "from sklearn.metrics import classification_report\n",
    "\n",
    "print(classification_report(y_test, np.where(y_pred > 0.3, 1,0), target_names = genre_names))"
   ]
  },
  {
   "cell_type": "markdown",
   "id": "a4a1015c-5b34-4c86-b127-e32626c0519c",
   "metadata": {},
   "source": [
    "## LEARNING CURVE PLOTS"
   ]
  },
  {
   "cell_type": "code",
   "execution_count": 71,
   "id": "EAHM8sxpT_50",
   "metadata": {
    "id": "EAHM8sxpT_50"
   },
   "outputs": [],
   "source": [
    "def plotLearningCurve(history,epochs):\n",
    "  epochRange = range(1,epochs+1)\n",
    "  plt.plot(epochRange,history.history['accuracy'])\n",
    "  plt.plot(epochRange,history.history['val_accuracy'])\n",
    "  plt.title('Model Accuracy')\n",
    "  plt.xlabel('Epoch')\n",
    "  plt.ylabel('Accuracy')\n",
    "  plt.legend(['Train','Validation'],loc='best')\n",
    "  plt.show()\n",
    "\n",
    "  plt.plot(epochRange,history.history['loss'])\n",
    "  plt.plot(epochRange,history.history['val_loss'])\n",
    "  plt.title('Model Loss')\n",
    "  plt.xlabel('Epoch')\n",
    "  plt.ylabel('Loss')\n",
    "  plt.legend(['Train','Validation'],loc='best')\n",
    "  plt.show()\n"
   ]
  },
  {
   "cell_type": "code",
   "execution_count": 73,
   "id": "99YVkphGcHiG",
   "metadata": {
    "colab": {
     "base_uri": "https://localhost:8080/",
     "height": 927
    },
    "id": "99YVkphGcHiG",
    "outputId": "a4157a42-bf1b-4622-d4c1-4461ab005a1c"
   },
   "outputs": [
    {
     "data": {
      "image/png": "[encoded data removed]",
      "text/plain": [
       "<Figure size 640x480 with 1 Axes>"
      ]
     },
     "metadata": {},
     "output_type": "display_data"
    },
    {
     "data": {
      "image/png": "[encoded data removed]",
      "text/plain": [
       "<Figure size 640x480 with 1 Axes>"
      ]
     },
     "metadata": {},
     "output_type": "display_data"
    }
   ],
   "source": [
    "plotLearningCurve(history,8)"
   ]
  }
 ],
 "metadata": {
  "accelerator": "GPU",
  "colab": {
   "gpuType": "A100",
   "machine_shape": "hm",
   "provenance": []
  },
  "kernelspec": {
   "display_name": "Python 3 (ipykernel)",
   "language": "python",
   "name": "python3"
  },
  "language_info": {
   "codemirror_mode": {
    "name": "ipython",
    "version": 3
   },
   "file_extension": ".py",
   "mimetype": "text/x-python",
   "name": "python",
   "nbconvert_exporter": "python",
   "pygments_lexer": "ipython3",
   "version": "3.10.6"
  }
 },
 "nbformat": 4,
 "nbformat_minor": 5
}
